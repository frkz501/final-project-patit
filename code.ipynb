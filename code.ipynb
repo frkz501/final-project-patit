{
 "cells": [
  {
   "cell_type": "markdown",
   "metadata": {},
   "source": [
    "import libraries"
   ]
  },
  {
   "cell_type": "code",
   "execution_count": 231,
   "metadata": {},
   "outputs": [],
   "source": [
    "import pandas as pd\n",
    "import re\n",
    "from sklearn.cluster import KMeans\n",
    "import seaborn as sns\n",
    "import numpy as np\n",
    "import pyproj\n",
    "import plotly.express as px\n",
    "import matplotlib.pyplot as plt\n",
    "import plotly.graph_objects as go"
   ]
  },
  {
   "cell_type": "markdown",
   "metadata": {},
   "source": [
    "# import data\n",
    "## substations - all districts"
   ]
  },
  {
   "cell_type": "code",
   "execution_count": 232,
   "metadata": {},
   "outputs": [
    {
     "data": {
      "text/html": [
       "<div>\n",
       "<style scoped>\n",
       "    .dataframe tbody tr th:only-of-type {\n",
       "        vertical-align: middle;\n",
       "    }\n",
       "\n",
       "    .dataframe tbody tr th {\n",
       "        vertical-align: top;\n",
       "    }\n",
       "\n",
       "    .dataframe thead th {\n",
       "        text-align: right;\n",
       "    }\n",
       "</style>\n",
       "<table border=\"1\" class=\"dataframe\">\n",
       "  <thead>\n",
       "    <tr style=\"text-align: right;\">\n",
       "      <th></th>\n",
       "      <th>Substation Name</th>\n",
       "      <th>Nominal Voltage (kV)</th>\n",
       "      <th>Primary Group</th>\n",
       "      <th>Grid Group</th>\n",
       "      <th>Firm Capacity (MVA)</th>\n",
       "      <th>Maximum Load (MVA)</th>\n",
       "      <th>Minimum Load (MVA)</th>\n",
       "      <th>Generation Connected (MW)</th>\n",
       "      <th>Generation Contracted (MW)</th>\n",
       "      <th>33kV Overall Category</th>\n",
       "      <th>Overall Category</th>\n",
       "      <th>33kV Generation Capacity</th>\n",
       "      <th>33kV Wider Constraints</th>\n",
       "      <th>HV Reverse Power Flow</th>\n",
       "      <th>HV Generation Capacity</th>\n",
       "      <th>HV Fault Level</th>\n",
       "      <th>HV Wider Constraints</th>\n",
       "      <th>District</th>\n",
       "      <th>X</th>\n",
       "      <th>Y</th>\n",
       "    </tr>\n",
       "  </thead>\n",
       "  <tbody>\n",
       "    <tr>\n",
       "      <th>0</th>\n",
       "      <td>NORTH ROAD</td>\n",
       "      <td>33/11</td>\n",
       "      <td>ABERYSTWYTH T1 / NORTH RD T1 / PARC-Y-LLYN T1 ...</td>\n",
       "      <td>ABERYSTWYTH GT2 / RHYDLYDAN GT1</td>\n",
       "      <td>37.5</td>\n",
       "      <td>18.55</td>\n",
       "      <td>4.64</td>\n",
       "      <td>0.02</td>\n",
       "      <td>0.0</td>\n",
       "      <td>RED</td>\n",
       "      <td>RED</td>\n",
       "      <td>Red</td>\n",
       "      <td>Red</td>\n",
       "      <td>Amber</td>\n",
       "      <td>Green</td>\n",
       "      <td>Red</td>\n",
       "      <td>Amber</td>\n",
       "      <td>Dee Valley &amp; Mid Wales</td>\n",
       "      <td>258666.8910</td>\n",
       "      <td>281901.4070</td>\n",
       "    </tr>\n",
       "    <tr>\n",
       "      <th>1</th>\n",
       "      <td>DICKINSONS</td>\n",
       "      <td>33/11</td>\n",
       "      <td>ACORNFIELD RD T1 / DICKINSONS T1 / HAMMOND RD ...</td>\n",
       "      <td>GILLMOSS GT1 / KIRKBY GT2 / SIMONSWOOD GT1</td>\n",
       "      <td>30.0</td>\n",
       "      <td>14.71</td>\n",
       "      <td>3.68</td>\n",
       "      <td>0.04</td>\n",
       "      <td>0.0</td>\n",
       "      <td>RED</td>\n",
       "      <td>RED</td>\n",
       "      <td>Green</td>\n",
       "      <td>Red</td>\n",
       "      <td>Amber</td>\n",
       "      <td>Green</td>\n",
       "      <td>Red</td>\n",
       "      <td>Amber</td>\n",
       "      <td>Merseyside</td>\n",
       "      <td>342713.8240</td>\n",
       "      <td>398255.2320</td>\n",
       "    </tr>\n",
       "    <tr>\n",
       "      <th>2</th>\n",
       "      <td>WAVERTREE</td>\n",
       "      <td>33/11</td>\n",
       "      <td>AIGBURTH VALE T1 / IVY AVE T1 / MATHER AVE T1 ...</td>\n",
       "      <td>GARSTON GT2 / SPEKE GT3 / WAVERTREE GT1A</td>\n",
       "      <td>37.5</td>\n",
       "      <td>18.97</td>\n",
       "      <td>4.74</td>\n",
       "      <td>0.00</td>\n",
       "      <td>0.0</td>\n",
       "      <td>AMBER</td>\n",
       "      <td>RED</td>\n",
       "      <td>Green</td>\n",
       "      <td>Amber</td>\n",
       "      <td>Amber</td>\n",
       "      <td>Green</td>\n",
       "      <td>Red</td>\n",
       "      <td>Amber</td>\n",
       "      <td>Merseyside</td>\n",
       "      <td>339018.8312</td>\n",
       "      <td>388483.6650</td>\n",
       "    </tr>\n",
       "    <tr>\n",
       "      <th>3</th>\n",
       "      <td>AINTREE</td>\n",
       "      <td>33/11</td>\n",
       "      <td>AINTREE LOCAL T1 / OLD ROAN T1 / WANGO LA T1</td>\n",
       "      <td>AINTREE GT2 / FAZAKERLEY GT1 / GILLMOSS GT2</td>\n",
       "      <td>20.0</td>\n",
       "      <td>11.67</td>\n",
       "      <td>2.92</td>\n",
       "      <td>0.00</td>\n",
       "      <td>0.0</td>\n",
       "      <td>RED</td>\n",
       "      <td>AMBER</td>\n",
       "      <td>Green</td>\n",
       "      <td>Red</td>\n",
       "      <td>Amber</td>\n",
       "      <td>Amber</td>\n",
       "      <td>Amber</td>\n",
       "      <td>Amber</td>\n",
       "      <td>Merseyside</td>\n",
       "      <td>336740.4480</td>\n",
       "      <td>398306.6880</td>\n",
       "    </tr>\n",
       "    <tr>\n",
       "      <th>4</th>\n",
       "      <td>ANDERTON</td>\n",
       "      <td>33/11</td>\n",
       "      <td>ANDERTON T1</td>\n",
       "      <td>HARTFORD GT1 / LOSTOCK GT2 / WINSFORD GT1 / WI...</td>\n",
       "      <td>7.5</td>\n",
       "      <td>2.61</td>\n",
       "      <td>0.65</td>\n",
       "      <td>0.22</td>\n",
       "      <td>0.0</td>\n",
       "      <td>RED</td>\n",
       "      <td>RED</td>\n",
       "      <td>Green</td>\n",
       "      <td>Red</td>\n",
       "      <td>Red</td>\n",
       "      <td>Red</td>\n",
       "      <td>Green</td>\n",
       "      <td>Amber</td>\n",
       "      <td>Mid Cheshire</td>\n",
       "      <td>364880.5897</td>\n",
       "      <td>375727.2788</td>\n",
       "    </tr>\n",
       "  </tbody>\n",
       "</table>\n",
       "</div>"
      ],
      "text/plain": [
       "  Substation Name Nominal Voltage (kV)  \\\n",
       "0      NORTH ROAD                33/11   \n",
       "1      DICKINSONS                33/11   \n",
       "2       WAVERTREE                33/11   \n",
       "3         AINTREE                33/11   \n",
       "4        ANDERTON                33/11   \n",
       "\n",
       "                                       Primary Group  \\\n",
       "0  ABERYSTWYTH T1 / NORTH RD T1 / PARC-Y-LLYN T1 ...   \n",
       "1  ACORNFIELD RD T1 / DICKINSONS T1 / HAMMOND RD ...   \n",
       "2  AIGBURTH VALE T1 / IVY AVE T1 / MATHER AVE T1 ...   \n",
       "3       AINTREE LOCAL T1 / OLD ROAN T1 / WANGO LA T1   \n",
       "4                                        ANDERTON T1   \n",
       "\n",
       "                                          Grid Group  Firm Capacity (MVA)  \\\n",
       "0                    ABERYSTWYTH GT2 / RHYDLYDAN GT1                 37.5   \n",
       "1         GILLMOSS GT1 / KIRKBY GT2 / SIMONSWOOD GT1                 30.0   \n",
       "2           GARSTON GT2 / SPEKE GT3 / WAVERTREE GT1A                 37.5   \n",
       "3        AINTREE GT2 / FAZAKERLEY GT1 / GILLMOSS GT2                 20.0   \n",
       "4  HARTFORD GT1 / LOSTOCK GT2 / WINSFORD GT1 / WI...                  7.5   \n",
       "\n",
       "   Maximum Load (MVA)  Minimum Load (MVA)  Generation Connected (MW)  \\\n",
       "0               18.55                4.64                       0.02   \n",
       "1               14.71                3.68                       0.04   \n",
       "2               18.97                4.74                       0.00   \n",
       "3               11.67                2.92                       0.00   \n",
       "4                2.61                0.65                       0.22   \n",
       "\n",
       "   Generation Contracted (MW) 33kV Overall Category Overall Category  \\\n",
       "0                         0.0                   RED              RED   \n",
       "1                         0.0                   RED              RED   \n",
       "2                         0.0                 AMBER              RED   \n",
       "3                         0.0                   RED            AMBER   \n",
       "4                         0.0                   RED              RED   \n",
       "\n",
       "  33kV Generation Capacity 33kV Wider Constraints HV Reverse Power Flow  \\\n",
       "0                      Red                    Red                 Amber   \n",
       "1                    Green                    Red                 Amber   \n",
       "2                    Green                  Amber                 Amber   \n",
       "3                    Green                    Red                 Amber   \n",
       "4                    Green                    Red                   Red   \n",
       "\n",
       "  HV Generation Capacity HV Fault Level HV Wider Constraints  \\\n",
       "0                  Green            Red                Amber   \n",
       "1                  Green            Red                Amber   \n",
       "2                  Green            Red                Amber   \n",
       "3                  Amber          Amber                Amber   \n",
       "4                    Red          Green                Amber   \n",
       "\n",
       "                 District            X            Y  \n",
       "0  Dee Valley & Mid Wales  258666.8910  281901.4070  \n",
       "1              Merseyside  342713.8240  398255.2320  \n",
       "2              Merseyside  339018.8312  388483.6650  \n",
       "3              Merseyside  336740.4480  398306.6880  \n",
       "4            Mid Cheshire  364880.5897  375727.2788  "
      ]
     },
     "execution_count": 232,
     "metadata": {},
     "output_type": "execute_result"
    }
   ],
   "source": [
    "df_pri = pd.read_csv('generation-primary.csv')\n",
    "df_pri = df_pri.rename(columns=lambda x: re.sub('\\ufeff', '', x))\n",
    "df_pri.head()"
   ]
  },
  {
   "cell_type": "code",
   "execution_count": 233,
   "metadata": {},
   "outputs": [
    {
     "name": "stdout",
     "output_type": "stream",
     "text": [
      "<class 'pandas.core.frame.DataFrame'>\n",
      "RangeIndex: 660 entries, 0 to 659\n",
      "Data columns (total 20 columns):\n",
      " #   Column                      Non-Null Count  Dtype  \n",
      "---  ------                      --------------  -----  \n",
      " 0   Substation Name             660 non-null    object \n",
      " 1   Nominal Voltage (kV)        660 non-null    object \n",
      " 2   Primary Group               660 non-null    object \n",
      " 3   Grid Group                  660 non-null    object \n",
      " 4   Firm Capacity (MVA)         660 non-null    float64\n",
      " 5   Maximum Load (MVA)          660 non-null    float64\n",
      " 6   Minimum Load (MVA)          660 non-null    float64\n",
      " 7   Generation Connected (MW)   660 non-null    float64\n",
      " 8   Generation Contracted (MW)  660 non-null    float64\n",
      " 9   33kV Overall Category       660 non-null    object \n",
      " 10  Overall Category            660 non-null    object \n",
      " 11  33kV Generation Capacity    660 non-null    object \n",
      " 12  33kV Wider Constraints      660 non-null    object \n",
      " 13  HV Reverse Power Flow       660 non-null    object \n",
      " 14  HV Generation Capacity      660 non-null    object \n",
      " 15  HV Fault Level              660 non-null    object \n",
      " 16  HV Wider Constraints        660 non-null    object \n",
      " 17  District                    660 non-null    object \n",
      " 18  X                           660 non-null    float64\n",
      " 19  Y                           660 non-null    float64\n",
      "dtypes: float64(7), object(13)\n",
      "memory usage: 103.2+ KB\n"
     ]
    }
   ],
   "source": [
    "df_pri.info()"
   ]
  },
  {
   "cell_type": "code",
   "execution_count": 234,
   "metadata": {},
   "outputs": [
    {
     "data": {
      "text/html": [
       "<div>\n",
       "<style scoped>\n",
       "    .dataframe tbody tr th:only-of-type {\n",
       "        vertical-align: middle;\n",
       "    }\n",
       "\n",
       "    .dataframe tbody tr th {\n",
       "        vertical-align: top;\n",
       "    }\n",
       "\n",
       "    .dataframe thead th {\n",
       "        text-align: right;\n",
       "    }\n",
       "</style>\n",
       "<table border=\"1\" class=\"dataframe\">\n",
       "  <thead>\n",
       "    <tr style=\"text-align: right;\">\n",
       "      <th></th>\n",
       "      <th>District</th>\n",
       "      <th>Overall Category</th>\n",
       "      <th>Nominal Voltage (kV)</th>\n",
       "      <th>Count</th>\n",
       "      <th>Firm Capacity (MVA)</th>\n",
       "      <th>Maximum Load (MVA)</th>\n",
       "      <th>max_load/cap</th>\n",
       "      <th>Generation Connected (MW)</th>\n",
       "      <th>Generation Contracted (MW)</th>\n",
       "    </tr>\n",
       "  </thead>\n",
       "  <tbody>\n",
       "    <tr>\n",
       "      <th>0</th>\n",
       "      <td>Dee Valley &amp; Mid Wales</td>\n",
       "      <td>AMBER</td>\n",
       "      <td>33/11</td>\n",
       "      <td>53</td>\n",
       "      <td>438.47</td>\n",
       "      <td>243.27</td>\n",
       "      <td>0.552465</td>\n",
       "      <td>44.31</td>\n",
       "      <td>0.48</td>\n",
       "    </tr>\n",
       "    <tr>\n",
       "      <th>1</th>\n",
       "      <td>Dee Valley &amp; Mid Wales</td>\n",
       "      <td>RED</td>\n",
       "      <td>33/11</td>\n",
       "      <td>55</td>\n",
       "      <td>1140.54</td>\n",
       "      <td>635.69</td>\n",
       "      <td>0.573654</td>\n",
       "      <td>114.36</td>\n",
       "      <td>13.55</td>\n",
       "    </tr>\n",
       "    <tr>\n",
       "      <th>2</th>\n",
       "      <td>Merseyside</td>\n",
       "      <td>AMBER</td>\n",
       "      <td>33/11</td>\n",
       "      <td>29</td>\n",
       "      <td>515.59</td>\n",
       "      <td>260.65</td>\n",
       "      <td>0.508462</td>\n",
       "      <td>0.00</td>\n",
       "      <td>0.00</td>\n",
       "    </tr>\n",
       "    <tr>\n",
       "      <th>3</th>\n",
       "      <td>Merseyside</td>\n",
       "      <td>RED</td>\n",
       "      <td>33/11</td>\n",
       "      <td>141</td>\n",
       "      <td>4417.00</td>\n",
       "      <td>2299.53</td>\n",
       "      <td>0.521566</td>\n",
       "      <td>161.19</td>\n",
       "      <td>13.84</td>\n",
       "    </tr>\n",
       "    <tr>\n",
       "      <th>4</th>\n",
       "      <td>Merseyside</td>\n",
       "      <td>RED</td>\n",
       "      <td>33/6.3</td>\n",
       "      <td>39</td>\n",
       "      <td>576.30</td>\n",
       "      <td>303.06</td>\n",
       "      <td>0.517203</td>\n",
       "      <td>3.50</td>\n",
       "      <td>0.00</td>\n",
       "    </tr>\n",
       "    <tr>\n",
       "      <th>5</th>\n",
       "      <td>Merseyside</td>\n",
       "      <td>RED</td>\n",
       "      <td>33/6.6</td>\n",
       "      <td>19</td>\n",
       "      <td>254.80</td>\n",
       "      <td>160.84</td>\n",
       "      <td>0.694592</td>\n",
       "      <td>0.00</td>\n",
       "      <td>0.00</td>\n",
       "    </tr>\n",
       "    <tr>\n",
       "      <th>6</th>\n",
       "      <td>Mid Cheshire</td>\n",
       "      <td>AMBER</td>\n",
       "      <td>33/11</td>\n",
       "      <td>31</td>\n",
       "      <td>335.55</td>\n",
       "      <td>185.81</td>\n",
       "      <td>0.574240</td>\n",
       "      <td>1.14</td>\n",
       "      <td>1.00</td>\n",
       "    </tr>\n",
       "    <tr>\n",
       "      <th>7</th>\n",
       "      <td>Mid Cheshire</td>\n",
       "      <td>RED</td>\n",
       "      <td>33/11</td>\n",
       "      <td>71</td>\n",
       "      <td>1695.04</td>\n",
       "      <td>935.32</td>\n",
       "      <td>0.574882</td>\n",
       "      <td>82.29</td>\n",
       "      <td>20.08</td>\n",
       "    </tr>\n",
       "    <tr>\n",
       "      <th>8</th>\n",
       "      <td>Mid Cheshire</td>\n",
       "      <td>RED</td>\n",
       "      <td>33/6.3</td>\n",
       "      <td>2</td>\n",
       "      <td>18.20</td>\n",
       "      <td>1.94</td>\n",
       "      <td>0.106593</td>\n",
       "      <td>0.00</td>\n",
       "      <td>0.00</td>\n",
       "    </tr>\n",
       "    <tr>\n",
       "      <th>9</th>\n",
       "      <td>North Wales</td>\n",
       "      <td>AMBER</td>\n",
       "      <td>33/11</td>\n",
       "      <td>57</td>\n",
       "      <td>577.94</td>\n",
       "      <td>258.92</td>\n",
       "      <td>0.451132</td>\n",
       "      <td>26.94</td>\n",
       "      <td>5.00</td>\n",
       "    </tr>\n",
       "    <tr>\n",
       "      <th>10</th>\n",
       "      <td>North Wales</td>\n",
       "      <td>RED</td>\n",
       "      <td>33/11</td>\n",
       "      <td>34</td>\n",
       "      <td>419.50</td>\n",
       "      <td>210.79</td>\n",
       "      <td>0.502470</td>\n",
       "      <td>42.50</td>\n",
       "      <td>0.20</td>\n",
       "    </tr>\n",
       "    <tr>\n",
       "      <th>11</th>\n",
       "      <td>Wirral</td>\n",
       "      <td>AMBER</td>\n",
       "      <td>33/11</td>\n",
       "      <td>25</td>\n",
       "      <td>370.00</td>\n",
       "      <td>220.81</td>\n",
       "      <td>0.604257</td>\n",
       "      <td>1.98</td>\n",
       "      <td>2.76</td>\n",
       "    </tr>\n",
       "    <tr>\n",
       "      <th>12</th>\n",
       "      <td>Wirral</td>\n",
       "      <td>RED</td>\n",
       "      <td>33/11</td>\n",
       "      <td>92</td>\n",
       "      <td>2406.35</td>\n",
       "      <td>1315.10</td>\n",
       "      <td>0.547397</td>\n",
       "      <td>165.54</td>\n",
       "      <td>10.93</td>\n",
       "    </tr>\n",
       "    <tr>\n",
       "      <th>13</th>\n",
       "      <td>Wirral</td>\n",
       "      <td>RED</td>\n",
       "      <td>33/6.6</td>\n",
       "      <td>12</td>\n",
       "      <td>176.60</td>\n",
       "      <td>85.51</td>\n",
       "      <td>0.513513</td>\n",
       "      <td>2.09</td>\n",
       "      <td>0.00</td>\n",
       "    </tr>\n",
       "  </tbody>\n",
       "</table>\n",
       "</div>"
      ],
      "text/plain": [
       "                  District Overall Category Nominal Voltage (kV)  Count  \\\n",
       "0   Dee Valley & Mid Wales            AMBER                33/11     53   \n",
       "1   Dee Valley & Mid Wales              RED                33/11     55   \n",
       "2               Merseyside            AMBER                33/11     29   \n",
       "3               Merseyside              RED                33/11    141   \n",
       "4               Merseyside              RED               33/6.3     39   \n",
       "5               Merseyside              RED               33/6.6     19   \n",
       "6             Mid Cheshire            AMBER                33/11     31   \n",
       "7             Mid Cheshire              RED                33/11     71   \n",
       "8             Mid Cheshire              RED               33/6.3      2   \n",
       "9              North Wales            AMBER                33/11     57   \n",
       "10             North Wales              RED                33/11     34   \n",
       "11                  Wirral            AMBER                33/11     25   \n",
       "12                  Wirral              RED                33/11     92   \n",
       "13                  Wirral              RED               33/6.6     12   \n",
       "\n",
       "    Firm Capacity (MVA)  Maximum Load (MVA)  max_load/cap  \\\n",
       "0                438.47              243.27      0.552465   \n",
       "1               1140.54              635.69      0.573654   \n",
       "2                515.59              260.65      0.508462   \n",
       "3               4417.00             2299.53      0.521566   \n",
       "4                576.30              303.06      0.517203   \n",
       "5                254.80              160.84      0.694592   \n",
       "6                335.55              185.81      0.574240   \n",
       "7               1695.04              935.32      0.574882   \n",
       "8                 18.20                1.94      0.106593   \n",
       "9                577.94              258.92      0.451132   \n",
       "10               419.50              210.79      0.502470   \n",
       "11               370.00              220.81      0.604257   \n",
       "12              2406.35             1315.10      0.547397   \n",
       "13               176.60               85.51      0.513513   \n",
       "\n",
       "    Generation Connected (MW)  Generation Contracted (MW)  \n",
       "0                       44.31                        0.48  \n",
       "1                      114.36                       13.55  \n",
       "2                        0.00                        0.00  \n",
       "3                      161.19                       13.84  \n",
       "4                        3.50                        0.00  \n",
       "5                        0.00                        0.00  \n",
       "6                        1.14                        1.00  \n",
       "7                       82.29                       20.08  \n",
       "8                        0.00                        0.00  \n",
       "9                       26.94                        5.00  \n",
       "10                      42.50                        0.20  \n",
       "11                       1.98                        2.76  \n",
       "12                     165.54                       10.93  \n",
       "13                       2.09                        0.00  "
      ]
     },
     "execution_count": 234,
     "metadata": {},
     "output_type": "execute_result"
    }
   ],
   "source": [
    "df_pri['max_load/cap'] = df_pri['Maximum Load (MVA)'] / df_pri['Firm Capacity (MVA)']\n",
    "df_pri.groupby(['District', 'Overall Category', 'Nominal Voltage (kV)'])[['Substation Name', 'Firm Capacity (MVA)', 'Maximum Load (MVA)', 'max_load/cap', 'Generation Connected (MW)', 'Generation Contracted (MW)']].agg({'Substation Name':'count', 'Firm Capacity (MVA)':'sum', 'Maximum Load (MVA)':'sum', 'max_load/cap':'mean', 'Generation Connected (MW)':'sum', 'Generation Contracted (MW)':'sum'}).reset_index().rename(columns={'Substation Name':'Count'})"
   ]
  },
  {
   "cell_type": "code",
   "execution_count": 235,
   "metadata": {},
   "outputs": [
    {
     "data": {
      "text/html": [
       "<div>\n",
       "<style scoped>\n",
       "    .dataframe tbody tr th:only-of-type {\n",
       "        vertical-align: middle;\n",
       "    }\n",
       "\n",
       "    .dataframe tbody tr th {\n",
       "        vertical-align: top;\n",
       "    }\n",
       "\n",
       "    .dataframe thead th {\n",
       "        text-align: right;\n",
       "    }\n",
       "</style>\n",
       "<table border=\"1\" class=\"dataframe\">\n",
       "  <thead>\n",
       "    <tr style=\"text-align: right;\">\n",
       "      <th></th>\n",
       "      <th>Substation Name</th>\n",
       "      <th>Nominal Voltage (kV)</th>\n",
       "      <th>Grid Group</th>\n",
       "      <th>Supergrid Group</th>\n",
       "      <th>Firm Capacity (MVA)</th>\n",
       "      <th>Maximum Load (MVA)</th>\n",
       "      <th>Minimum Load (MVA)</th>\n",
       "      <th>Generation Connected (MW)</th>\n",
       "      <th>Generation Contracted (MW)</th>\n",
       "      <th>Overall Category</th>\n",
       "      <th>132kV Generation Capacity</th>\n",
       "      <th>33kV Fault Level</th>\n",
       "      <th>Wider Constraint Category</th>\n",
       "      <th>Wider Constraint</th>\n",
       "      <th>District</th>\n",
       "      <th>X</th>\n",
       "      <th>Y</th>\n",
       "    </tr>\n",
       "  </thead>\n",
       "  <tbody>\n",
       "    <tr>\n",
       "      <th>0</th>\n",
       "      <td>AINTREE</td>\n",
       "      <td>132/33</td>\n",
       "      <td>AINTREE GT1 / FORMBY GT2A / LITHERLAND GT1B</td>\n",
       "      <td>KIRKBY</td>\n",
       "      <td>101.9</td>\n",
       "      <td>76.7</td>\n",
       "      <td>19.2</td>\n",
       "      <td>6.1</td>\n",
       "      <td>16.0</td>\n",
       "      <td>RED</td>\n",
       "      <td>Green</td>\n",
       "      <td>Green</td>\n",
       "      <td>Red</td>\n",
       "      <td>NaN</td>\n",
       "      <td>Merseyside</td>\n",
       "      <td>337138.3940</td>\n",
       "      <td>399769.6970</td>\n",
       "    </tr>\n",
       "    <tr>\n",
       "      <th>1</th>\n",
       "      <td>FORMBY</td>\n",
       "      <td>132/33</td>\n",
       "      <td>AINTREE GT1 / FORMBY GT2A / LITHERLAND GT1B</td>\n",
       "      <td>KIRKBY</td>\n",
       "      <td>101.9</td>\n",
       "      <td>76.7</td>\n",
       "      <td>19.2</td>\n",
       "      <td>6.1</td>\n",
       "      <td>16.0</td>\n",
       "      <td>RED</td>\n",
       "      <td>Green</td>\n",
       "      <td>Green</td>\n",
       "      <td>Red</td>\n",
       "      <td>NaN</td>\n",
       "      <td>Merseyside</td>\n",
       "      <td>330979.9800</td>\n",
       "      <td>406990.7280</td>\n",
       "    </tr>\n",
       "    <tr>\n",
       "      <th>2</th>\n",
       "      <td>LISTER DRIVE</td>\n",
       "      <td>132/33</td>\n",
       "      <td>BOOTLE GT2A / BURLINGTON ST GT1 / LISTER DV A GT2</td>\n",
       "      <td>LISTER DRIVE</td>\n",
       "      <td>138.1</td>\n",
       "      <td>85.6</td>\n",
       "      <td>21.4</td>\n",
       "      <td>5.4</td>\n",
       "      <td>20.4</td>\n",
       "      <td>AMBER</td>\n",
       "      <td>Green</td>\n",
       "      <td>Red</td>\n",
       "      <td>Amber</td>\n",
       "      <td>NaN</td>\n",
       "      <td>Merseyside</td>\n",
       "      <td>338447.3411</td>\n",
       "      <td>391747.9437</td>\n",
       "    </tr>\n",
       "    <tr>\n",
       "      <th>3</th>\n",
       "      <td>LEGACY</td>\n",
       "      <td>132/33</td>\n",
       "      <td>BRYMBO GT1 / LEGACY LOCAL GT1 / MARCHWIEL GT1 ...</td>\n",
       "      <td>LEGACY</td>\n",
       "      <td>154.7</td>\n",
       "      <td>119.7</td>\n",
       "      <td>29.9</td>\n",
       "      <td>28.9</td>\n",
       "      <td>48.0</td>\n",
       "      <td>RED</td>\n",
       "      <td>Green</td>\n",
       "      <td>Green</td>\n",
       "      <td>Red</td>\n",
       "      <td>NaN</td>\n",
       "      <td>Dee Valley &amp; Mid Wales</td>\n",
       "      <td>329112.9340</td>\n",
       "      <td>347936.9270</td>\n",
       "    </tr>\n",
       "    <tr>\n",
       "      <th>4</th>\n",
       "      <td>WARRINGTON</td>\n",
       "      <td>132/33</td>\n",
       "      <td>DALLAM GT1 / SANKEY BRIDGES GT1 / WARRINGTON GT3</td>\n",
       "      <td>CARRINGTON - FIDDLERS FERRY</td>\n",
       "      <td>103.0</td>\n",
       "      <td>92.7</td>\n",
       "      <td>23.2</td>\n",
       "      <td>11.2</td>\n",
       "      <td>5.4</td>\n",
       "      <td>RED</td>\n",
       "      <td>Green</td>\n",
       "      <td>Green</td>\n",
       "      <td>Red</td>\n",
       "      <td>NaN</td>\n",
       "      <td>Mid Cheshire</td>\n",
       "      <td>362284.6170</td>\n",
       "      <td>388088.3560</td>\n",
       "    </tr>\n",
       "  </tbody>\n",
       "</table>\n",
       "</div>"
      ],
      "text/plain": [
       "  Substation Name Nominal Voltage (kV)  \\\n",
       "0         AINTREE               132/33   \n",
       "1          FORMBY               132/33   \n",
       "2    LISTER DRIVE               132/33   \n",
       "3          LEGACY               132/33   \n",
       "4      WARRINGTON               132/33   \n",
       "\n",
       "                                          Grid Group  \\\n",
       "0        AINTREE GT1 / FORMBY GT2A / LITHERLAND GT1B   \n",
       "1        AINTREE GT1 / FORMBY GT2A / LITHERLAND GT1B   \n",
       "2  BOOTLE GT2A / BURLINGTON ST GT1 / LISTER DV A GT2   \n",
       "3  BRYMBO GT1 / LEGACY LOCAL GT1 / MARCHWIEL GT1 ...   \n",
       "4   DALLAM GT1 / SANKEY BRIDGES GT1 / WARRINGTON GT3   \n",
       "\n",
       "               Supergrid Group  Firm Capacity (MVA)  Maximum Load (MVA)  \\\n",
       "0                       KIRKBY                101.9                76.7   \n",
       "1                       KIRKBY                101.9                76.7   \n",
       "2                 LISTER DRIVE                138.1                85.6   \n",
       "3                       LEGACY                154.7               119.7   \n",
       "4  CARRINGTON - FIDDLERS FERRY                103.0                92.7   \n",
       "\n",
       "   Minimum Load (MVA)  Generation Connected (MW)  Generation Contracted (MW)  \\\n",
       "0                19.2                        6.1                        16.0   \n",
       "1                19.2                        6.1                        16.0   \n",
       "2                21.4                        5.4                        20.4   \n",
       "3                29.9                       28.9                        48.0   \n",
       "4                23.2                       11.2                         5.4   \n",
       "\n",
       "  Overall Category 132kV Generation Capacity 33kV Fault Level  \\\n",
       "0              RED                     Green            Green   \n",
       "1              RED                     Green            Green   \n",
       "2            AMBER                     Green              Red   \n",
       "3              RED                     Green            Green   \n",
       "4              RED                     Green            Green   \n",
       "\n",
       "  Wider Constraint Category  Wider Constraint                District  \\\n",
       "0                       Red               NaN              Merseyside   \n",
       "1                       Red               NaN              Merseyside   \n",
       "2                     Amber               NaN              Merseyside   \n",
       "3                       Red               NaN  Dee Valley & Mid Wales   \n",
       "4                       Red               NaN            Mid Cheshire   \n",
       "\n",
       "             X            Y  \n",
       "0  337138.3940  399769.6970  \n",
       "1  330979.9800  406990.7280  \n",
       "2  338447.3411  391747.9437  \n",
       "3  329112.9340  347936.9270  \n",
       "4  362284.6170  388088.3560  "
      ]
     },
     "execution_count": 235,
     "metadata": {},
     "output_type": "execute_result"
    }
   ],
   "source": [
    "df_grid = pd.read_csv('generation-grid.csv')\n",
    "df_grid = df_grid.rename(columns=lambda x: re.sub('\\ufeff', '', x)) # remove blank spaces\n",
    "df_grid.head()"
   ]
  },
  {
   "cell_type": "code",
   "execution_count": 236,
   "metadata": {},
   "outputs": [
    {
     "name": "stdout",
     "output_type": "stream",
     "text": [
      "<class 'pandas.core.frame.DataFrame'>\n",
      "RangeIndex: 104 entries, 0 to 103\n",
      "Data columns (total 17 columns):\n",
      " #   Column                      Non-Null Count  Dtype  \n",
      "---  ------                      --------------  -----  \n",
      " 0   Substation Name             104 non-null    object \n",
      " 1   Nominal Voltage (kV)        104 non-null    object \n",
      " 2   Grid Group                  104 non-null    object \n",
      " 3   Supergrid Group             104 non-null    object \n",
      " 4   Firm Capacity (MVA)         104 non-null    float64\n",
      " 5   Maximum Load (MVA)          104 non-null    float64\n",
      " 6   Minimum Load (MVA)          104 non-null    float64\n",
      " 7   Generation Connected (MW)   104 non-null    float64\n",
      " 8   Generation Contracted (MW)  104 non-null    float64\n",
      " 9   Overall Category            104 non-null    object \n",
      " 10  132kV Generation Capacity   104 non-null    object \n",
      " 11  33kV Fault Level            104 non-null    object \n",
      " 12  Wider Constraint Category   104 non-null    object \n",
      " 13  Wider Constraint            0 non-null      float64\n",
      " 14  District                    104 non-null    object \n",
      " 15  X                           104 non-null    float64\n",
      " 16  Y                           104 non-null    float64\n",
      "dtypes: float64(8), object(9)\n",
      "memory usage: 13.9+ KB\n"
     ]
    }
   ],
   "source": [
    "df_grid.info()"
   ]
  },
  {
   "cell_type": "code",
   "execution_count": 237,
   "metadata": {},
   "outputs": [
    {
     "data": {
      "text/html": [
       "<div>\n",
       "<style scoped>\n",
       "    .dataframe tbody tr th:only-of-type {\n",
       "        vertical-align: middle;\n",
       "    }\n",
       "\n",
       "    .dataframe tbody tr th {\n",
       "        vertical-align: top;\n",
       "    }\n",
       "\n",
       "    .dataframe thead th {\n",
       "        text-align: right;\n",
       "    }\n",
       "</style>\n",
       "<table border=\"1\" class=\"dataframe\">\n",
       "  <thead>\n",
       "    <tr style=\"text-align: right;\">\n",
       "      <th></th>\n",
       "      <th>District</th>\n",
       "      <th>Overall Category</th>\n",
       "      <th>Count</th>\n",
       "      <th>Firm Capacity (MVA)</th>\n",
       "      <th>Maximum Load (MVA)</th>\n",
       "      <th>max_load/cap</th>\n",
       "      <th>Generation Connected (MW)</th>\n",
       "      <th>Generation Contracted (MW)</th>\n",
       "    </tr>\n",
       "  </thead>\n",
       "  <tbody>\n",
       "    <tr>\n",
       "      <th>0</th>\n",
       "      <td>Dee Valley &amp; Mid Wales</td>\n",
       "      <td>RED</td>\n",
       "      <td>16</td>\n",
       "      <td>2077.1</td>\n",
       "      <td>1414.6</td>\n",
       "      <td>0.704732</td>\n",
       "      <td>1199.7</td>\n",
       "      <td>336.3</td>\n",
       "    </tr>\n",
       "    <tr>\n",
       "      <th>1</th>\n",
       "      <td>Merseyside</td>\n",
       "      <td>AMBER</td>\n",
       "      <td>11</td>\n",
       "      <td>1463.1</td>\n",
       "      <td>895.1</td>\n",
       "      <td>0.607819</td>\n",
       "      <td>147.7</td>\n",
       "      <td>119.6</td>\n",
       "    </tr>\n",
       "    <tr>\n",
       "      <th>2</th>\n",
       "      <td>Merseyside</td>\n",
       "      <td>RED</td>\n",
       "      <td>28</td>\n",
       "      <td>2378.8</td>\n",
       "      <td>1619.3</td>\n",
       "      <td>0.666007</td>\n",
       "      <td>551.4</td>\n",
       "      <td>231.4</td>\n",
       "    </tr>\n",
       "    <tr>\n",
       "      <th>3</th>\n",
       "      <td>Mid Cheshire</td>\n",
       "      <td>RED</td>\n",
       "      <td>14</td>\n",
       "      <td>1637.2</td>\n",
       "      <td>1167.0</td>\n",
       "      <td>0.737279</td>\n",
       "      <td>513.4</td>\n",
       "      <td>475.7</td>\n",
       "    </tr>\n",
       "    <tr>\n",
       "      <th>4</th>\n",
       "      <td>North Wales</td>\n",
       "      <td>AMBER</td>\n",
       "      <td>4</td>\n",
       "      <td>284.2</td>\n",
       "      <td>222.4</td>\n",
       "      <td>0.784914</td>\n",
       "      <td>400.8</td>\n",
       "      <td>118.6</td>\n",
       "    </tr>\n",
       "    <tr>\n",
       "      <th>5</th>\n",
       "      <td>North Wales</td>\n",
       "      <td>RED</td>\n",
       "      <td>8</td>\n",
       "      <td>769.9</td>\n",
       "      <td>551.0</td>\n",
       "      <td>0.705889</td>\n",
       "      <td>480.8</td>\n",
       "      <td>158.5</td>\n",
       "    </tr>\n",
       "    <tr>\n",
       "      <th>6</th>\n",
       "      <td>Wirral</td>\n",
       "      <td>RED</td>\n",
       "      <td>23</td>\n",
       "      <td>2175.9</td>\n",
       "      <td>1549.0</td>\n",
       "      <td>0.708889</td>\n",
       "      <td>757.4</td>\n",
       "      <td>915.2</td>\n",
       "    </tr>\n",
       "  </tbody>\n",
       "</table>\n",
       "</div>"
      ],
      "text/plain": [
       "                 District Overall Category  Count  Firm Capacity (MVA)  \\\n",
       "0  Dee Valley & Mid Wales              RED     16               2077.1   \n",
       "1              Merseyside            AMBER     11               1463.1   \n",
       "2              Merseyside              RED     28               2378.8   \n",
       "3            Mid Cheshire              RED     14               1637.2   \n",
       "4             North Wales            AMBER      4                284.2   \n",
       "5             North Wales              RED      8                769.9   \n",
       "6                  Wirral              RED     23               2175.9   \n",
       "\n",
       "   Maximum Load (MVA)  max_load/cap  Generation Connected (MW)  \\\n",
       "0              1414.6      0.704732                     1199.7   \n",
       "1               895.1      0.607819                      147.7   \n",
       "2              1619.3      0.666007                      551.4   \n",
       "3              1167.0      0.737279                      513.4   \n",
       "4               222.4      0.784914                      400.8   \n",
       "5               551.0      0.705889                      480.8   \n",
       "6              1549.0      0.708889                      757.4   \n",
       "\n",
       "   Generation Contracted (MW)  \n",
       "0                       336.3  \n",
       "1                       119.6  \n",
       "2                       231.4  \n",
       "3                       475.7  \n",
       "4                       118.6  \n",
       "5                       158.5  \n",
       "6                       915.2  "
      ]
     },
     "execution_count": 237,
     "metadata": {},
     "output_type": "execute_result"
    }
   ],
   "source": [
    "df_grid['max_load/cap'] = df_grid['Maximum Load (MVA)'] / df_grid['Firm Capacity (MVA)']\n",
    "df_grid.groupby(['District', 'Overall Category'])[['Substation Name', 'Firm Capacity (MVA)', 'Maximum Load (MVA)', 'max_load/cap', 'Generation Connected (MW)', 'Generation Contracted (MW)']].agg({'Substation Name':'count', 'Firm Capacity (MVA)':'sum', 'Maximum Load (MVA)':'sum', 'max_load/cap':'mean', 'Generation Connected (MW)':'sum', 'Generation Contracted (MW)':'sum'}).reset_index().rename(columns={'Substation Name':'Count'})"
   ]
  },
  {
   "cell_type": "code",
   "execution_count": 238,
   "metadata": {},
   "outputs": [
    {
     "data": {
      "text/html": [
       "<div>\n",
       "<style scoped>\n",
       "    .dataframe tbody tr th:only-of-type {\n",
       "        vertical-align: middle;\n",
       "    }\n",
       "\n",
       "    .dataframe tbody tr th {\n",
       "        vertical-align: top;\n",
       "    }\n",
       "\n",
       "    .dataframe thead th {\n",
       "        text-align: right;\n",
       "    }\n",
       "</style>\n",
       "<table border=\"1\" class=\"dataframe\">\n",
       "  <thead>\n",
       "    <tr style=\"text-align: right;\">\n",
       "      <th></th>\n",
       "      <th>Substation Name</th>\n",
       "      <th>Nominal Voltage (kV)</th>\n",
       "      <th>Supergrid Group</th>\n",
       "      <th>Generation Connected (MW)</th>\n",
       "      <th>Generation Contracted (MW)</th>\n",
       "      <th>Overall Category</th>\n",
       "      <th>District</th>\n",
       "      <th>X</th>\n",
       "      <th>Y</th>\n",
       "    </tr>\n",
       "  </thead>\n",
       "  <tbody>\n",
       "    <tr>\n",
       "      <th>0</th>\n",
       "      <td>CUERDLEY</td>\n",
       "      <td>275/132</td>\n",
       "      <td>CARRINGTON - FIDDLERS FERRY</td>\n",
       "      <td>319.86</td>\n",
       "      <td>201.82</td>\n",
       "      <td>RED</td>\n",
       "      <td>Merseyside</td>\n",
       "      <td>354276.1256</td>\n",
       "      <td>386149.3722</td>\n",
       "    </tr>\n",
       "    <tr>\n",
       "      <th>1</th>\n",
       "      <td>ST ASAPH</td>\n",
       "      <td>400/132</td>\n",
       "      <td>CONNAHS QUAY - PENTIR - ST ASAPH</td>\n",
       "      <td>399.18</td>\n",
       "      <td>470.42</td>\n",
       "      <td>RED</td>\n",
       "      <td>North Wales</td>\n",
       "      <td>302107.1498</td>\n",
       "      <td>374226.2423</td>\n",
       "    </tr>\n",
       "    <tr>\n",
       "      <th>2</th>\n",
       "      <td>TRAWSFYNYDD</td>\n",
       "      <td>275/132</td>\n",
       "      <td>TRAWSFYNYDD</td>\n",
       "      <td>114.92</td>\n",
       "      <td>5.11</td>\n",
       "      <td>AMBER</td>\n",
       "      <td>North Wales</td>\n",
       "      <td>268965.1300</td>\n",
       "      <td>338612.7790</td>\n",
       "    </tr>\n",
       "    <tr>\n",
       "      <th>3</th>\n",
       "      <td>BIRKENHEAD</td>\n",
       "      <td>275/132</td>\n",
       "      <td>BIRKENHEAD</td>\n",
       "      <td>147.16</td>\n",
       "      <td>279.62</td>\n",
       "      <td>RED</td>\n",
       "      <td>Wirral</td>\n",
       "      <td>329447.9271</td>\n",
       "      <td>386080.0892</td>\n",
       "    </tr>\n",
       "    <tr>\n",
       "      <th>4</th>\n",
       "      <td>FRODSHAM</td>\n",
       "      <td>275/132</td>\n",
       "      <td>FRODSHAM - INCE</td>\n",
       "      <td>305.61</td>\n",
       "      <td>1264.77</td>\n",
       "      <td>RED</td>\n",
       "      <td>Wirral</td>\n",
       "      <td>352273.0660</td>\n",
       "      <td>379450.7070</td>\n",
       "    </tr>\n",
       "  </tbody>\n",
       "</table>\n",
       "</div>"
      ],
      "text/plain": [
       "  Substation Name Nominal Voltage (kV)                   Supergrid Group  \\\n",
       "0        CUERDLEY              275/132       CARRINGTON - FIDDLERS FERRY   \n",
       "1        ST ASAPH              400/132  CONNAHS QUAY - PENTIR - ST ASAPH   \n",
       "2     TRAWSFYNYDD              275/132                       TRAWSFYNYDD   \n",
       "3      BIRKENHEAD              275/132                        BIRKENHEAD   \n",
       "4        FRODSHAM              275/132                   FRODSHAM - INCE   \n",
       "\n",
       "   Generation Connected (MW)  Generation Contracted (MW) Overall Category  \\\n",
       "0                     319.86                      201.82              RED   \n",
       "1                     399.18                      470.42              RED   \n",
       "2                     114.92                        5.11            AMBER   \n",
       "3                     147.16                      279.62              RED   \n",
       "4                     305.61                     1264.77              RED   \n",
       "\n",
       "      District            X            Y  \n",
       "0   Merseyside  354276.1256  386149.3722  \n",
       "1  North Wales  302107.1498  374226.2423  \n",
       "2  North Wales  268965.1300  338612.7790  \n",
       "3       Wirral  329447.9271  386080.0892  \n",
       "4       Wirral  352273.0660  379450.7070  "
      ]
     },
     "execution_count": 238,
     "metadata": {},
     "output_type": "execute_result"
    }
   ],
   "source": [
    "df_sup = pd.read_csv('generation-supergrid.csv')\n",
    "df_sup = df_sup.rename(columns=lambda x: re.sub('\\ufeff', '', x))\n",
    "df_sup.head()"
   ]
  },
  {
   "cell_type": "code",
   "execution_count": 239,
   "metadata": {},
   "outputs": [
    {
     "name": "stdout",
     "output_type": "stream",
     "text": [
      "<class 'pandas.core.frame.DataFrame'>\n",
      "RangeIndex: 15 entries, 0 to 14\n",
      "Data columns (total 9 columns):\n",
      " #   Column                      Non-Null Count  Dtype  \n",
      "---  ------                      --------------  -----  \n",
      " 0   Substation Name             15 non-null     object \n",
      " 1   Nominal Voltage (kV)        15 non-null     object \n",
      " 2   Supergrid Group             15 non-null     object \n",
      " 3   Generation Connected (MW)   15 non-null     float64\n",
      " 4   Generation Contracted (MW)  15 non-null     float64\n",
      " 5   Overall Category            15 non-null     object \n",
      " 6   District                    15 non-null     object \n",
      " 7   X                           15 non-null     float64\n",
      " 8   Y                           15 non-null     float64\n",
      "dtypes: float64(4), object(5)\n",
      "memory usage: 1.2+ KB\n"
     ]
    }
   ],
   "source": [
    "df_sup.info()"
   ]
  },
  {
   "cell_type": "code",
   "execution_count": 240,
   "metadata": {},
   "outputs": [
    {
     "data": {
      "text/html": [
       "<div>\n",
       "<style scoped>\n",
       "    .dataframe tbody tr th:only-of-type {\n",
       "        vertical-align: middle;\n",
       "    }\n",
       "\n",
       "    .dataframe tbody tr th {\n",
       "        vertical-align: top;\n",
       "    }\n",
       "\n",
       "    .dataframe thead th {\n",
       "        text-align: right;\n",
       "    }\n",
       "</style>\n",
       "<table border=\"1\" class=\"dataframe\">\n",
       "  <thead>\n",
       "    <tr style=\"text-align: right;\">\n",
       "      <th></th>\n",
       "      <th>District</th>\n",
       "      <th>Overall Category</th>\n",
       "      <th>Count</th>\n",
       "      <th>Generation Connected (MW)</th>\n",
       "      <th>Generation Contracted (MW)</th>\n",
       "    </tr>\n",
       "  </thead>\n",
       "  <tbody>\n",
       "    <tr>\n",
       "      <th>0</th>\n",
       "      <td>Dee Valley &amp; Mid Wales</td>\n",
       "      <td>RED</td>\n",
       "      <td>2</td>\n",
       "      <td>741.11</td>\n",
       "      <td>787.71</td>\n",
       "    </tr>\n",
       "    <tr>\n",
       "      <th>1</th>\n",
       "      <td>Merseyside</td>\n",
       "      <td>AMBER</td>\n",
       "      <td>1</td>\n",
       "      <td>54.16</td>\n",
       "      <td>49.60</td>\n",
       "    </tr>\n",
       "    <tr>\n",
       "      <th>2</th>\n",
       "      <td>Merseyside</td>\n",
       "      <td>RED</td>\n",
       "      <td>3</td>\n",
       "      <td>604.56</td>\n",
       "      <td>496.57</td>\n",
       "    </tr>\n",
       "    <tr>\n",
       "      <th>3</th>\n",
       "      <td>Mid Cheshire</td>\n",
       "      <td>RED</td>\n",
       "      <td>1</td>\n",
       "      <td>26.65</td>\n",
       "      <td>125.72</td>\n",
       "    </tr>\n",
       "    <tr>\n",
       "      <th>4</th>\n",
       "      <td>North Wales</td>\n",
       "      <td>AMBER</td>\n",
       "      <td>2</td>\n",
       "      <td>253.17</td>\n",
       "      <td>59.31</td>\n",
       "    </tr>\n",
       "    <tr>\n",
       "      <th>5</th>\n",
       "      <td>North Wales</td>\n",
       "      <td>RED</td>\n",
       "      <td>2</td>\n",
       "      <td>798.36</td>\n",
       "      <td>940.84</td>\n",
       "    </tr>\n",
       "    <tr>\n",
       "      <th>6</th>\n",
       "      <td>Wirral</td>\n",
       "      <td>RED</td>\n",
       "      <td>4</td>\n",
       "      <td>860.41</td>\n",
       "      <td>3928.57</td>\n",
       "    </tr>\n",
       "  </tbody>\n",
       "</table>\n",
       "</div>"
      ],
      "text/plain": [
       "                 District Overall Category  Count  Generation Connected (MW)  \\\n",
       "0  Dee Valley & Mid Wales              RED      2                     741.11   \n",
       "1              Merseyside            AMBER      1                      54.16   \n",
       "2              Merseyside              RED      3                     604.56   \n",
       "3            Mid Cheshire              RED      1                      26.65   \n",
       "4             North Wales            AMBER      2                     253.17   \n",
       "5             North Wales              RED      2                     798.36   \n",
       "6                  Wirral              RED      4                     860.41   \n",
       "\n",
       "   Generation Contracted (MW)  \n",
       "0                      787.71  \n",
       "1                       49.60  \n",
       "2                      496.57  \n",
       "3                      125.72  \n",
       "4                       59.31  \n",
       "5                      940.84  \n",
       "6                     3928.57  "
      ]
     },
     "execution_count": 240,
     "metadata": {},
     "output_type": "execute_result"
    }
   ],
   "source": [
    "df_sup.groupby(['District', 'Overall Category'])[['Substation Name', 'Generation Connected (MW)', 'Generation Contracted (MW)']].agg({'Substation Name':'count', 'Generation Connected (MW)':'sum', 'Generation Contracted (MW)':'sum'}).reset_index().rename(columns={'Substation Name':'Count'})"
   ]
  },
  {
   "cell_type": "markdown",
   "metadata": {},
   "source": [
    "## substations - Merseyside"
   ]
  },
  {
   "cell_type": "code",
   "execution_count": 241,
   "metadata": {},
   "outputs": [
    {
     "name": "stdout",
     "output_type": "stream",
     "text": [
      "<class 'pandas.core.frame.DataFrame'>\n",
      "Int64Index: 228 entries, 1 to 650\n",
      "Data columns (total 21 columns):\n",
      " #   Column                      Non-Null Count  Dtype  \n",
      "---  ------                      --------------  -----  \n",
      " 0   Substation Name             228 non-null    object \n",
      " 1   Nominal Voltage (kV)        228 non-null    object \n",
      " 2   Primary Group               228 non-null    object \n",
      " 3   Grid Group                  228 non-null    object \n",
      " 4   Firm Capacity (MVA)         228 non-null    float64\n",
      " 5   Maximum Load (MVA)          228 non-null    float64\n",
      " 6   Minimum Load (MVA)          228 non-null    float64\n",
      " 7   Generation Connected (MW)   228 non-null    float64\n",
      " 8   Generation Contracted (MW)  228 non-null    float64\n",
      " 9   33kV Overall Category       228 non-null    object \n",
      " 10  Overall Category            228 non-null    object \n",
      " 11  33kV Generation Capacity    228 non-null    object \n",
      " 12  33kV Wider Constraints      228 non-null    object \n",
      " 13  HV Reverse Power Flow       228 non-null    object \n",
      " 14  HV Generation Capacity      228 non-null    object \n",
      " 15  HV Fault Level              228 non-null    object \n",
      " 16  HV Wider Constraints        228 non-null    object \n",
      " 17  District                    228 non-null    object \n",
      " 18  X                           228 non-null    float64\n",
      " 19  Y                           228 non-null    float64\n",
      " 20  max_load/cap                228 non-null    float64\n",
      "dtypes: float64(8), object(13)\n",
      "memory usage: 39.2+ KB\n"
     ]
    }
   ],
   "source": [
    "df_pri_m = df_pri[df_pri['District'] == 'Merseyside']\n",
    "df_pri_m = df_pri_m.replace('', np.nan)\n",
    "df_pri_m.info()"
   ]
  },
  {
   "cell_type": "code",
   "execution_count": 242,
   "metadata": {},
   "outputs": [
    {
     "name": "stdout",
     "output_type": "stream",
     "text": [
      "<class 'pandas.core.frame.DataFrame'>\n",
      "Int64Index: 39 entries, 0 to 102\n",
      "Data columns (total 18 columns):\n",
      " #   Column                      Non-Null Count  Dtype  \n",
      "---  ------                      --------------  -----  \n",
      " 0   Substation Name             39 non-null     object \n",
      " 1   Nominal Voltage (kV)        39 non-null     object \n",
      " 2   Grid Group                  39 non-null     object \n",
      " 3   Supergrid Group             39 non-null     object \n",
      " 4   Firm Capacity (MVA)         39 non-null     float64\n",
      " 5   Maximum Load (MVA)          39 non-null     float64\n",
      " 6   Minimum Load (MVA)          39 non-null     float64\n",
      " 7   Generation Connected (MW)   39 non-null     float64\n",
      " 8   Generation Contracted (MW)  39 non-null     float64\n",
      " 9   Overall Category            39 non-null     object \n",
      " 10  132kV Generation Capacity   39 non-null     object \n",
      " 11  33kV Fault Level            39 non-null     object \n",
      " 12  Wider Constraint Category   39 non-null     object \n",
      " 13  Wider Constraint            0 non-null      float64\n",
      " 14  District                    39 non-null     object \n",
      " 15  X                           39 non-null     float64\n",
      " 16  Y                           39 non-null     float64\n",
      " 17  max_load/cap                39 non-null     float64\n",
      "dtypes: float64(9), object(9)\n",
      "memory usage: 5.8+ KB\n"
     ]
    }
   ],
   "source": [
    "df_grid_m = df_grid[df_grid['District'] == 'Merseyside']\n",
    "df_grid_m = df_grid_m.replace('', np.nan)\n",
    "df_grid_m.info()"
   ]
  },
  {
   "cell_type": "code",
   "execution_count": 243,
   "metadata": {},
   "outputs": [
    {
     "name": "stdout",
     "output_type": "stream",
     "text": [
      "<class 'pandas.core.frame.DataFrame'>\n",
      "Int64Index: 4 entries, 0 to 13\n",
      "Data columns (total 9 columns):\n",
      " #   Column                      Non-Null Count  Dtype  \n",
      "---  ------                      --------------  -----  \n",
      " 0   Substation Name             4 non-null      object \n",
      " 1   Nominal Voltage (kV)        4 non-null      object \n",
      " 2   Supergrid Group             4 non-null      object \n",
      " 3   Generation Connected (MW)   4 non-null      float64\n",
      " 4   Generation Contracted (MW)  4 non-null      float64\n",
      " 5   Overall Category            4 non-null      object \n",
      " 6   District                    4 non-null      object \n",
      " 7   X                           4 non-null      float64\n",
      " 8   Y                           4 non-null      float64\n",
      "dtypes: float64(4), object(5)\n",
      "memory usage: 320.0+ bytes\n"
     ]
    }
   ],
   "source": [
    "df_sup_m = df_sup[df_sup['District'] == 'Merseyside']\n",
    "df_sup_m = df_sup_m.replace('', np.nan)\n",
    "df_sup_m.info()"
   ]
  },
  {
   "cell_type": "code",
   "execution_count": 244,
   "metadata": {},
   "outputs": [
    {
     "data": {
      "text/html": [
       "<div>\n",
       "<style scoped>\n",
       "    .dataframe tbody tr th:only-of-type {\n",
       "        vertical-align: middle;\n",
       "    }\n",
       "\n",
       "    .dataframe tbody tr th {\n",
       "        vertical-align: top;\n",
       "    }\n",
       "\n",
       "    .dataframe thead tr th {\n",
       "        text-align: left;\n",
       "    }\n",
       "\n",
       "    .dataframe thead tr:last-of-type th {\n",
       "        text-align: right;\n",
       "    }\n",
       "</style>\n",
       "<table border=\"1\" class=\"dataframe\">\n",
       "  <thead>\n",
       "    <tr>\n",
       "      <th></th>\n",
       "      <th colspan=\"4\" halign=\"left\">Maximum Load (MVA)</th>\n",
       "      <th colspan=\"4\" halign=\"left\">Firm Capacity (MVA)</th>\n",
       "      <th colspan=\"4\" halign=\"left\">Generation Connected (MW)</th>\n",
       "      <th colspan=\"4\" halign=\"left\">Generation Contracted (MW)</th>\n",
       "    </tr>\n",
       "    <tr>\n",
       "      <th></th>\n",
       "      <th>count</th>\n",
       "      <th>sum</th>\n",
       "      <th>mean</th>\n",
       "      <th>max</th>\n",
       "      <th>count</th>\n",
       "      <th>sum</th>\n",
       "      <th>mean</th>\n",
       "      <th>max</th>\n",
       "      <th>count</th>\n",
       "      <th>sum</th>\n",
       "      <th>mean</th>\n",
       "      <th>max</th>\n",
       "      <th>count</th>\n",
       "      <th>sum</th>\n",
       "      <th>mean</th>\n",
       "      <th>max</th>\n",
       "    </tr>\n",
       "    <tr>\n",
       "      <th>Overall Category</th>\n",
       "      <th></th>\n",
       "      <th></th>\n",
       "      <th></th>\n",
       "      <th></th>\n",
       "      <th></th>\n",
       "      <th></th>\n",
       "      <th></th>\n",
       "      <th></th>\n",
       "      <th></th>\n",
       "      <th></th>\n",
       "      <th></th>\n",
       "      <th></th>\n",
       "      <th></th>\n",
       "      <th></th>\n",
       "      <th></th>\n",
       "      <th></th>\n",
       "    </tr>\n",
       "  </thead>\n",
       "  <tbody>\n",
       "    <tr>\n",
       "      <th>AMBER</th>\n",
       "      <td>29</td>\n",
       "      <td>260.65</td>\n",
       "      <td>8.987931</td>\n",
       "      <td>16.20</td>\n",
       "      <td>29</td>\n",
       "      <td>515.59</td>\n",
       "      <td>17.778966</td>\n",
       "      <td>20.0</td>\n",
       "      <td>29</td>\n",
       "      <td>0.00</td>\n",
       "      <td>0.000000</td>\n",
       "      <td>0.0</td>\n",
       "      <td>29</td>\n",
       "      <td>0.00</td>\n",
       "      <td>0.000000</td>\n",
       "      <td>0.0</td>\n",
       "    </tr>\n",
       "    <tr>\n",
       "      <th>RED</th>\n",
       "      <td>199</td>\n",
       "      <td>2763.43</td>\n",
       "      <td>13.886583</td>\n",
       "      <td>24.89</td>\n",
       "      <td>199</td>\n",
       "      <td>5248.10</td>\n",
       "      <td>26.372362</td>\n",
       "      <td>37.5</td>\n",
       "      <td>199</td>\n",
       "      <td>164.69</td>\n",
       "      <td>0.827588</td>\n",
       "      <td>4.6</td>\n",
       "      <td>199</td>\n",
       "      <td>13.84</td>\n",
       "      <td>0.069548</td>\n",
       "      <td>3.0</td>\n",
       "    </tr>\n",
       "  </tbody>\n",
       "</table>\n",
       "</div>"
      ],
      "text/plain": [
       "                 Maximum Load (MVA)                             \\\n",
       "                              count      sum       mean    max   \n",
       "Overall Category                                                 \n",
       "AMBER                            29   260.65   8.987931  16.20   \n",
       "RED                             199  2763.43  13.886583  24.89   \n",
       "\n",
       "                 Firm Capacity (MVA)                            \\\n",
       "                               count      sum       mean   max   \n",
       "Overall Category                                                 \n",
       "AMBER                             29   515.59  17.778966  20.0   \n",
       "RED                              199  5248.10  26.372362  37.5   \n",
       "\n",
       "                 Generation Connected (MW)                         \\\n",
       "                                     count     sum      mean  max   \n",
       "Overall Category                                                    \n",
       "AMBER                                   29    0.00  0.000000  0.0   \n",
       "RED                                    199  164.69  0.827588  4.6   \n",
       "\n",
       "                 Generation Contracted (MW)                        \n",
       "                                      count    sum      mean  max  \n",
       "Overall Category                                                   \n",
       "AMBER                                    29   0.00  0.000000  0.0  \n",
       "RED                                     199  13.84  0.069548  3.0  "
      ]
     },
     "execution_count": 244,
     "metadata": {},
     "output_type": "execute_result"
    }
   ],
   "source": [
    "df_pri_m.groupby('Overall Category')[['Maximum Load (MVA)', 'Firm Capacity (MVA)', 'Generation Connected (MW)', 'Generation Contracted (MW)']].agg(['count', 'sum', 'mean', 'max'])"
   ]
  },
  {
   "cell_type": "code",
   "execution_count": 245,
   "metadata": {},
   "outputs": [
    {
     "data": {
      "text/html": [
       "<div>\n",
       "<style scoped>\n",
       "    .dataframe tbody tr th:only-of-type {\n",
       "        vertical-align: middle;\n",
       "    }\n",
       "\n",
       "    .dataframe tbody tr th {\n",
       "        vertical-align: top;\n",
       "    }\n",
       "\n",
       "    .dataframe thead tr th {\n",
       "        text-align: left;\n",
       "    }\n",
       "\n",
       "    .dataframe thead tr:last-of-type th {\n",
       "        text-align: right;\n",
       "    }\n",
       "</style>\n",
       "<table border=\"1\" class=\"dataframe\">\n",
       "  <thead>\n",
       "    <tr>\n",
       "      <th></th>\n",
       "      <th colspan=\"4\" halign=\"left\">Maximum Load (MVA)</th>\n",
       "      <th colspan=\"4\" halign=\"left\">Firm Capacity (MVA)</th>\n",
       "      <th colspan=\"4\" halign=\"left\">Generation Connected (MW)</th>\n",
       "      <th colspan=\"4\" halign=\"left\">Generation Contracted (MW)</th>\n",
       "    </tr>\n",
       "    <tr>\n",
       "      <th></th>\n",
       "      <th>count</th>\n",
       "      <th>sum</th>\n",
       "      <th>mean</th>\n",
       "      <th>max</th>\n",
       "      <th>count</th>\n",
       "      <th>sum</th>\n",
       "      <th>mean</th>\n",
       "      <th>max</th>\n",
       "      <th>count</th>\n",
       "      <th>sum</th>\n",
       "      <th>mean</th>\n",
       "      <th>max</th>\n",
       "      <th>count</th>\n",
       "      <th>sum</th>\n",
       "      <th>mean</th>\n",
       "      <th>max</th>\n",
       "    </tr>\n",
       "    <tr>\n",
       "      <th>Overall Category</th>\n",
       "      <th></th>\n",
       "      <th></th>\n",
       "      <th></th>\n",
       "      <th></th>\n",
       "      <th></th>\n",
       "      <th></th>\n",
       "      <th></th>\n",
       "      <th></th>\n",
       "      <th></th>\n",
       "      <th></th>\n",
       "      <th></th>\n",
       "      <th></th>\n",
       "      <th></th>\n",
       "      <th></th>\n",
       "      <th></th>\n",
       "      <th></th>\n",
       "    </tr>\n",
       "  </thead>\n",
       "  <tbody>\n",
       "    <tr>\n",
       "      <th>AMBER</th>\n",
       "      <td>11</td>\n",
       "      <td>895.1</td>\n",
       "      <td>81.372727</td>\n",
       "      <td>94.5</td>\n",
       "      <td>11</td>\n",
       "      <td>1463.1</td>\n",
       "      <td>133.009091</td>\n",
       "      <td>139.0</td>\n",
       "      <td>11</td>\n",
       "      <td>147.7</td>\n",
       "      <td>13.427273</td>\n",
       "      <td>27.0</td>\n",
       "      <td>11</td>\n",
       "      <td>119.6</td>\n",
       "      <td>10.872727</td>\n",
       "      <td>29.2</td>\n",
       "    </tr>\n",
       "    <tr>\n",
       "      <th>RED</th>\n",
       "      <td>28</td>\n",
       "      <td>1619.3</td>\n",
       "      <td>57.832143</td>\n",
       "      <td>87.2</td>\n",
       "      <td>28</td>\n",
       "      <td>2378.8</td>\n",
       "      <td>84.957143</td>\n",
       "      <td>114.8</td>\n",
       "      <td>28</td>\n",
       "      <td>551.4</td>\n",
       "      <td>19.692857</td>\n",
       "      <td>57.3</td>\n",
       "      <td>28</td>\n",
       "      <td>231.4</td>\n",
       "      <td>8.264286</td>\n",
       "      <td>22.0</td>\n",
       "    </tr>\n",
       "  </tbody>\n",
       "</table>\n",
       "</div>"
      ],
      "text/plain": [
       "                 Maximum Load (MVA)                           \\\n",
       "                              count     sum       mean   max   \n",
       "Overall Category                                               \n",
       "AMBER                            11   895.1  81.372727  94.5   \n",
       "RED                              28  1619.3  57.832143  87.2   \n",
       "\n",
       "                 Firm Capacity (MVA)                             \\\n",
       "                               count     sum        mean    max   \n",
       "Overall Category                                                  \n",
       "AMBER                             11  1463.1  133.009091  139.0   \n",
       "RED                               28  2378.8   84.957143  114.8   \n",
       "\n",
       "                 Generation Connected (MW)                          \\\n",
       "                                     count    sum       mean   max   \n",
       "Overall Category                                                     \n",
       "AMBER                                   11  147.7  13.427273  27.0   \n",
       "RED                                     28  551.4  19.692857  57.3   \n",
       "\n",
       "                 Generation Contracted (MW)                          \n",
       "                                      count    sum       mean   max  \n",
       "Overall Category                                                     \n",
       "AMBER                                    11  119.6  10.872727  29.2  \n",
       "RED                                      28  231.4   8.264286  22.0  "
      ]
     },
     "execution_count": 245,
     "metadata": {},
     "output_type": "execute_result"
    }
   ],
   "source": [
    "df_grid_m.groupby('Overall Category')[['Maximum Load (MVA)', 'Firm Capacity (MVA)', 'Generation Connected (MW)', 'Generation Contracted (MW)']].agg(['count', 'sum', 'mean', 'max'])"
   ]
  },
  {
   "cell_type": "code",
   "execution_count": 246,
   "metadata": {},
   "outputs": [
    {
     "data": {
      "text/html": [
       "<div>\n",
       "<style scoped>\n",
       "    .dataframe tbody tr th:only-of-type {\n",
       "        vertical-align: middle;\n",
       "    }\n",
       "\n",
       "    .dataframe tbody tr th {\n",
       "        vertical-align: top;\n",
       "    }\n",
       "\n",
       "    .dataframe thead tr th {\n",
       "        text-align: left;\n",
       "    }\n",
       "\n",
       "    .dataframe thead tr:last-of-type th {\n",
       "        text-align: right;\n",
       "    }\n",
       "</style>\n",
       "<table border=\"1\" class=\"dataframe\">\n",
       "  <thead>\n",
       "    <tr>\n",
       "      <th></th>\n",
       "      <th colspan=\"2\" halign=\"left\">Generation Connected (MW)</th>\n",
       "      <th colspan=\"2\" halign=\"left\">Generation Contracted (MW)</th>\n",
       "    </tr>\n",
       "    <tr>\n",
       "      <th></th>\n",
       "      <th>count</th>\n",
       "      <th>sum</th>\n",
       "      <th>count</th>\n",
       "      <th>sum</th>\n",
       "    </tr>\n",
       "    <tr>\n",
       "      <th>Overall Category</th>\n",
       "      <th></th>\n",
       "      <th></th>\n",
       "      <th></th>\n",
       "      <th></th>\n",
       "    </tr>\n",
       "  </thead>\n",
       "  <tbody>\n",
       "    <tr>\n",
       "      <th>AMBER</th>\n",
       "      <td>1</td>\n",
       "      <td>54.16</td>\n",
       "      <td>1</td>\n",
       "      <td>49.60</td>\n",
       "    </tr>\n",
       "    <tr>\n",
       "      <th>RED</th>\n",
       "      <td>3</td>\n",
       "      <td>604.56</td>\n",
       "      <td>3</td>\n",
       "      <td>496.57</td>\n",
       "    </tr>\n",
       "  </tbody>\n",
       "</table>\n",
       "</div>"
      ],
      "text/plain": [
       "                 Generation Connected (MW)         Generation Contracted (MW)  \\\n",
       "                                     count     sum                      count   \n",
       "Overall Category                                                                \n",
       "AMBER                                    1   54.16                          1   \n",
       "RED                                      3  604.56                          3   \n",
       "\n",
       "                          \n",
       "                     sum  \n",
       "Overall Category          \n",
       "AMBER              49.60  \n",
       "RED               496.57  "
      ]
     },
     "execution_count": 246,
     "metadata": {},
     "output_type": "execute_result"
    }
   ],
   "source": [
    "df_sup_m.groupby('Overall Category')[['Generation Connected (MW)', 'Generation Contracted (MW)']].agg(['count', 'sum'])"
   ]
  },
  {
   "cell_type": "code",
   "execution_count": 247,
   "metadata": {},
   "outputs": [
    {
     "data": {
      "text/html": [
       "<div>\n",
       "<style scoped>\n",
       "    .dataframe tbody tr th:only-of-type {\n",
       "        vertical-align: middle;\n",
       "    }\n",
       "\n",
       "    .dataframe tbody tr th {\n",
       "        vertical-align: top;\n",
       "    }\n",
       "\n",
       "    .dataframe thead th {\n",
       "        text-align: right;\n",
       "    }\n",
       "</style>\n",
       "<table border=\"1\" class=\"dataframe\">\n",
       "  <thead>\n",
       "    <tr style=\"text-align: right;\">\n",
       "      <th></th>\n",
       "      <th>Substation Name</th>\n",
       "      <th>Grid Group</th>\n",
       "      <th>Firm Capacity (MVA)</th>\n",
       "      <th>Maximum Load (MVA)</th>\n",
       "      <th>Overall Category</th>\n",
       "      <th>X</th>\n",
       "      <th>Y</th>\n",
       "    </tr>\n",
       "  </thead>\n",
       "  <tbody>\n",
       "    <tr>\n",
       "      <th>0</th>\n",
       "      <td>DICKINSONS</td>\n",
       "      <td>ACORNFIELD RD T1 / DICKINSONS T1 / HAMMOND RD ...</td>\n",
       "      <td>30.0</td>\n",
       "      <td>14.71</td>\n",
       "      <td>RED</td>\n",
       "      <td>342713.8240</td>\n",
       "      <td>398255.232</td>\n",
       "    </tr>\n",
       "    <tr>\n",
       "      <th>1</th>\n",
       "      <td>WAVERTREE</td>\n",
       "      <td>AIGBURTH VALE T1 / IVY AVE T1 / MATHER AVE T1 ...</td>\n",
       "      <td>37.5</td>\n",
       "      <td>18.97</td>\n",
       "      <td>RED</td>\n",
       "      <td>339018.8312</td>\n",
       "      <td>388483.665</td>\n",
       "    </tr>\n",
       "    <tr>\n",
       "      <th>2</th>\n",
       "      <td>AINTREE</td>\n",
       "      <td>AINTREE LOCAL T1 / OLD ROAN T1 / WANGO LA T1</td>\n",
       "      <td>20.0</td>\n",
       "      <td>11.67</td>\n",
       "      <td>AMBER</td>\n",
       "      <td>336740.4480</td>\n",
       "      <td>398306.688</td>\n",
       "    </tr>\n",
       "    <tr>\n",
       "      <th>3</th>\n",
       "      <td>WAVERTREE VALE</td>\n",
       "      <td>ARUNDEL T1 / GROVE PK T1 / WAVERTREE VALE T1</td>\n",
       "      <td>17.5</td>\n",
       "      <td>10.12</td>\n",
       "      <td>RED</td>\n",
       "      <td>337981.9520</td>\n",
       "      <td>389512.576</td>\n",
       "    </tr>\n",
       "    <tr>\n",
       "      <th>4</th>\n",
       "      <td>LARK LANE</td>\n",
       "      <td>BEAUMONT ST T1 / DINGLE VALE T1 / LARK LA T1 /...</td>\n",
       "      <td>30.0</td>\n",
       "      <td>20.86</td>\n",
       "      <td>RED</td>\n",
       "      <td>337278.9120</td>\n",
       "      <td>387620.384</td>\n",
       "    </tr>\n",
       "  </tbody>\n",
       "</table>\n",
       "</div>"
      ],
      "text/plain": [
       "  Substation Name                                         Grid Group  \\\n",
       "0      DICKINSONS  ACORNFIELD RD T1 / DICKINSONS T1 / HAMMOND RD ...   \n",
       "1       WAVERTREE  AIGBURTH VALE T1 / IVY AVE T1 / MATHER AVE T1 ...   \n",
       "2         AINTREE       AINTREE LOCAL T1 / OLD ROAN T1 / WANGO LA T1   \n",
       "3  WAVERTREE VALE       ARUNDEL T1 / GROVE PK T1 / WAVERTREE VALE T1   \n",
       "4       LARK LANE  BEAUMONT ST T1 / DINGLE VALE T1 / LARK LA T1 /...   \n",
       "\n",
       "   Firm Capacity (MVA)  Maximum Load (MVA) Overall Category            X  \\\n",
       "0                 30.0               14.71              RED  342713.8240   \n",
       "1                 37.5               18.97              RED  339018.8312   \n",
       "2                 20.0               11.67            AMBER  336740.4480   \n",
       "3                 17.5               10.12              RED  337981.9520   \n",
       "4                 30.0               20.86              RED  337278.9120   \n",
       "\n",
       "            Y  \n",
       "0  398255.232  \n",
       "1  388483.665  \n",
       "2  398306.688  \n",
       "3  389512.576  \n",
       "4  387620.384  "
      ]
     },
     "execution_count": 247,
     "metadata": {},
     "output_type": "execute_result"
    }
   ],
   "source": [
    "df_sub = pd.concat([df_pri_m[['Substation Name', 'Primary Group', 'Firm Capacity (MVA)', 'Maximum Load (MVA)', 'Overall Category', 'X', 'Y']].rename(columns={'Primary Group':'Grid Group'}), df_grid_m[['Substation Name', 'Grid Group', 'Firm Capacity (MVA)', 'Maximum Load (MVA)', 'Overall Category', 'X', 'Y']]], ignore_index=True)\n",
    "df_sub.head()"
   ]
  },
  {
   "cell_type": "markdown",
   "metadata": {},
   "source": [
    "### convert bng to lat long"
   ]
  },
  {
   "cell_type": "code",
   "execution_count": 248,
   "metadata": {},
   "outputs": [],
   "source": [
    "transformer = pyproj.Transformer.from_crs(\"EPSG:27700\", \"EPSG:4326\")\n",
    "\n",
    "df_pri_m['long'] = df_pri_m['X'].apply(lambda x: transformer.transform(x, 0)[1]) - 0.07\n",
    "df_pri_m['lat'] = df_pri_m['Y'].apply(lambda x:  transformer.transform(0, x)[0]) + 0.15\n",
    "\n",
    "df_grid_m['long'] = df_grid_m['X'].apply(lambda x: transformer.transform(x, 0)[1]) - 0.07\n",
    "df_grid_m['lat'] = df_grid_m['Y'].apply(lambda x:  transformer.transform(0, x)[0]) + 0.15\n",
    "\n",
    "df_sup_m['long'] = df_sup_m['X'].apply(lambda x: transformer.transform(x, 0)[1]) - 0.07\n",
    "df_sup_m['lat'] = df_sup_m['Y'].apply(lambda x:  transformer.transform(0, x)[0]) + 0.15\n",
    "\n",
    "df_sub['long'] = df_sub['X'].apply(lambda x: transformer.transform(x, 0)[1]) - 0.07\n",
    "df_sub['lat'] = df_sub['Y'].apply(lambda x:  transformer.transform(0, x)[0]) + 0.15"
   ]
  },
  {
   "cell_type": "markdown",
   "metadata": {},
   "source": [
    "### plot map"
   ]
  },
  {
   "cell_type": "code",
   "execution_count": 249,
   "metadata": {},
   "outputs": [
    {
     "data": {
      "application/vnd.plotly.v1+json": {
       "config": {
        "plotlyServerURL": "https://plot.ly"
       },
       "data": [
        {
         "hovertemplate": "<b>%{hovertext}</b><br><br>Nominal Voltage (kV)=33/11<br>lat=%{lat}<br>long=%{lon}<extra></extra>",
         "hovertext": [
          "DICKINSONS",
          "WAVERTREE",
          "AINTREE",
          "LARK LANE",
          "BLUEBELL LANE",
          "ECCLESTON",
          "LUCAS FAZAKERLEY",
          "WEST DERBY",
          "SCARISBRICK AVENUE",
          "CHILDWALL FIVEWAYS",
          "MIDDLEMASS HEY",
          "N C B SUTTON MANOR",
          "MEDEVA",
          "MERSEY BRIDGE",
          "EDGE HILL",
          "MILL LN WAVERTREE",
          "WILSON ROAD",
          "KNOWSLEY",
          "MULLARDS BALMORAL DR",
          "OTIS ELEVATOR",
          "KODAK",
          "WANGO LANE",
          "ECP WEST-BANKS RD",
          "ATLANTIC COMPLEX",
          "NETHERTON",
          "BEAUMONT STREET",
          "DINGLE VALE",
          "CARR LANE EAST",
          "BICC HUYTON QUARRY",
          "BLUNDELL STREET",
          "BLUNDELLSANDS NORTH",
          "WATERLOO",
          "LEYFIELD ROAD",
          "FRESHFIELD",
          "GRADWELL STREET",
          "CROWN COURTS",
          "DITTON",
          "HOUGH GREEN",
          "RTZ",
          "LISTER DRIVE T3",
          "IVY STREET",
          "PALCO",
          "TOWER HILL",
          "PILKINGTON HO",
          "ACORNFIELD ROAD",
          "MATHER AVENUE",
          "HAREFIELD ROAD",
          "GIRO BOOTLE",
          "BOLTON STREET",
          "WASHINGTON STREET",
          "BOOTLE",
          "CROXTETH",
          "BROOK STREET",
          "KINGSWAY TUNNEL",
          "SOUTHPORT RD",
          "HILLS MOSS",
          "ROBBINS BRIDGE",
          "PLESSEY EDGE LANE",
          "STONEYCROFT",
          "LEEWARD DRIVE",
          "FAZAKERLEY HOSPITAL",
          "OLD HAYMARKET",
          "OCEAN PLAZA",
          "YORK ROAD",
          "OLD ROAN",
          "YEWTREE ROAD",
          "WHISTON",
          "WATERLOO",
          "GREEK STREET",
          "BURLINGTON AVENUE",
          "OLDHAM PLACE",
          "LIME STREET",
          "HOLT LANE WARR RD",
          "WOOLTON",
          "MARLED HEY",
          "LORD STREET",
          "LUGSDALE",
          "USAC",
          "NEVILL STREET",
          "SOMERFIELD DISTRIBUTION",
          "ALLERTON",
          "WEAVER IND EST",
          "MIDLAND BANK",
          "HORNSBRIDGE",
          "BROOK BRIDGE",
          "KERSHAW AVENUE",
          "OLDHAM PLACE",
          "LYNDENE ROAD",
          "GEC ST HELENS",
          "SPEKE SKY PARK",
          "RAINHILL LOCAL",
          "HUNTS CROSS",
          "MARKET STREET",
          "SOUTHDENE",
          "AIRPORT",
          "ALBERT DOCK",
          "GARSTON",
          "LUGSDALE",
          "TARBOCK",
          "KELLOGGS",
          "HOUGHTONS LANE",
          "DESOTO ROAD",
          "HASKAYNE",
          "WHISTON HOSPITAL",
          "HUYTON HEY ROAD",
          "SOUTHPORT",
          "KINGS DOCK",
          "ALMONDS TURN",
          "APPLETON",
          "BEMROSE",
          "NORRIS GREEN",
          "ST JAMES",
          "CROSBY",
          "HPO COPPERAS HILL",
          "TATTON ROAD",
          "KNOTTY ASH",
          "MARSH BROWS",
          "CABLE STREET",
          "CARBORUNDUM",
          "WINDLEHURST",
          "CLOCKFACE",
          "CONIX",
          "HIGHFIELD STREET A",
          "WEST VALE",
          "SOUTHPORT",
          "STONEBRIDGE LANE",
          "ST IVEL FOODS",
          "RAVENHEAD RETAIL PARK",
          "HAMMOND ROAD",
          "IVY AVENUE",
          "MOSSLEY HILL",
          "WAPPING",
          "BOOTLE",
          "PACIFIC ROAD",
          "ORRELL MOUNT",
          "BROADGREEN",
          "CABLE STREET",
          "GRADWELL STREET",
          "GAVIN ROAD",
          "LIVERPOOL UNIVERSITY",
          "EDGE LN TAPLEY",
          "SPEKE HALL ROAD",
          "JACOBS",
          "PRESCOT",
          "KENTON ROAD",
          "KELCO",
          "KIRKBY CENTRAL",
          "NORTHWOOD",
          "PILK SULLIVAN",
          "ORB CLOSE",
          "AIGBURTH VALE",
          "ALDERWOOD AVE",
          "MDHB BRUNSWICK DOCK",
          "BEDBURN DRIVE",
          "ROPEWALKS",
          "BLUNDELLSANDS SOUTH",
          "EAST PRESCOT ROAD",
          "NWWA SANDON DOCK",
          "RAINFORD",
          "CHILDWALL",
          "NAYLORS ROAD",
          "PITT STREET",
          "DODDS LANE",
          "HOLBORN HILL",
          "MAGHULL",
          "ESTUARY COMMERCE PK",
          "SEEDS LANE",
          "WOODEND AVENUE",
          "NEWS INTERNATIONAL",
          "MARSHSIDE"
         ],
         "lat": [
          53.47946706893251,
          53.392115438280506,
          53.479927044410346,
          53.38439809548913,
          53.42225664562258,
          53.435290408038696,
          53.45648791762959,
          53.431167710138794,
          53.469869413578714,
          53.39994630528609,
          53.38962480224871,
          53.41160968352447,
          53.351617657840244,
          53.36009680289808,
          53.407106712281816,
          53.401843481914526,
          53.40749152098489,
          53.45360503098669,
          53.6678314482582,
          53.46993736072292,
          53.485769697686905,
          53.47903913146635,
          53.34772455441743,
          53.47910749848658,
          53.49466251689798,
          53.40003927613069,
          53.38055758427388,
          53.449152540322544,
          53.410037768348694,
          53.400430996228586,
          53.49631933279402,
          53.47848933468698,
          53.42950941779824,
          53.56986881619634,
          53.40588051069518,
          53.4074408877939,
          53.372831567836585,
          53.38066435859472,
          53.36270303304967,
          53.42194946927243,
          53.306907822136615,
          53.46417701634223,
          53.493371561294275,
          53.44610490176761,
          53.48158101021283,
          53.383301031977716,
          53.34441230265524,
          53.47437929930791,
          53.40902024234922,
          53.455423498396534,
          53.45891837489128,
          53.43711661328251,
          53.41301897109336,
          53.418409840441754,
          53.57057285993626,
          53.43256425627105,
          53.53318632886943,
          53.41243812101662,
          53.42464609757835,
          53.351461079192795,
          53.46980972092478,
          53.41240553669614,
          53.65540627877177,
          53.63645932533046,
          53.487669334564586,
          53.379055234022005,
          53.41285302799098,
          53.47848933468698,
          53.4109200577197,
          53.558837814537824,
          53.40607239666528,
          53.41001202268644,
          53.42222716341715,
          53.37637029994296,
          53.43845909063401,
          53.652482985835015,
          53.36739828253958,
          53.36828625565889,
          53.65177760110811,
          53.42446503875505,
          53.37450038817994,
          53.34896282813954,
          53.474379442335426,
          53.386406278216,
          53.42910378392303,
          53.48791652940732,
          53.40607239666528,
          53.39627808403586,
          53.41751429670323,
          53.343552373357596,
          53.413835536496016,
          53.369333604011544,
          53.64748767031024,
          53.47326053773067,
          53.341757563158765,
          53.40244736275407,
          53.35615190812053,
          53.36739828253958,
          53.406580695506705,
          53.4634694202197,
          53.46164769622954,
          53.3549789657585,
          53.56223678289227,
          53.421899453213705,
          53.411929787686816,
          53.644891858592224,
          53.399231788464476,
          53.49383637905234,
          53.37274631079631,
          53.45874548028062,
          53.44535196883245,
          53.39653155512801,
          53.49791135669885,
          53.409030826681516,
          53.46686519312143,
          53.42076653332622,
          53.55747166465291,
          53.4077651761994,
          53.489342683932755,
          53.46531419713009,
          53.41948249183195,
          53.35236734892916,
          53.41312667364045,
          53.48128065331388,
          53.644891858592224,
          53.461320238266524,
          53.46902005176156,
          53.446929331185174,
          53.490083096821465,
          53.363920138751375,
          53.37759236897662,
          53.39824204177805,
          53.45891837489128,
          53.454308160443745,
          53.468532612784536,
          53.407304149566485,
          53.4077651761994,
          53.40588051069518,
          53.36502934240193,
          53.408106270770084,
          53.41208912459497,
          53.35829442449201,
          53.461543973888496,
          53.424126257402406,
          53.36312412610851,
          53.46629136477233,
          53.48413518651102,
          53.48590156841973,
          53.36278713724,
          53.45494263590758,
          53.37729821176274,
          53.34532401045283,
          53.393273849667196,
          53.41639231657325,
          53.403721472863175,
          53.49171260684971,
          53.42258817290765,
          53.43102171119756,
          53.49980755108042,
          53.389883977487685,
          53.39252435936215,
          53.35654061392991,
          53.520865929464655,
          53.5576684635132,
          53.50911327590569,
          53.34787253331973,
          53.47067774400123,
          53.356183518797515,
          53.46670786233184,
          53.666338364502245
         ],
         "legendgroup": "33/11",
         "lon": [
          -2.868960247870969,
          -2.9204016465259253,
          -2.952120579982764,
          -2.944624291873282,
          -2.8501678183081656,
          -2.8043784690358375,
          -2.940341324407141,
          -2.9135425332827087,
          -2.9944350105232207,
          -2.9016592879163565,
          -2.846754798019866,
          -2.743828112149952,
          -2.854156556576897,
          -2.754613494109046,
          -2.9555171397149618,
          -2.917149728861142,
          -2.832766645851588,
          -2.8544126543542996,
          -2.9475556298150716,
          -2.8760457604682177,
          -2.8543921609641663,
          -2.922591919732099,
          -2.888545159884441,
          -2.971849062968237,
          -2.96525216830561,
          -2.9499127258116697,
          -2.961435944175713,
          -2.9100293326371127,
          -2.830964548867422,
          -2.9791900391584565,
          -3.0362637980786467,
          -3.020137126104079,
          -2.898653495860952,
          -3.058814473441467,
          -2.980330913895465,
          -2.9857005531236824,
          -2.770753625319709,
          -2.7881068173430985,
          -2.7876064992303107,
          -2.932413760277352,
          -3.671941535480043,
          -2.8751328235683453,
          -2.8925318619436884,
          -2.7679236134315395,
          -2.856488723050569,
          -2.909668478621902,
          -2.8527313048173912,
          -2.9677871074751576,
          -2.9750316210112593,
          -2.9891846842932064,
          -2.981300471120738,
          -2.8892155437371505,
          -2.9924573169729123,
          -2.994321468112982,
          -3.038281072758332,
          -2.7113825238848923,
          -2.9266472706323716,
          -2.9311405362343588,
          -2.9151775108184386,
          -2.8760998057656315,
          -2.9313578180015285,
          -2.9800719754323235,
          -3.0014500715221915,
          -3.0067781051716986,
          -2.947439064095321,
          -2.898191511493313,
          -2.812489756420958,
          -3.020137126104079,
          -2.9706213000337187,
          -3.0357056188310514,
          -2.9720853938931233,
          -2.977517880028617,
          -2.7916001313229484,
          -2.8703853515597455,
          -2.8775709734550396,
          -2.988968248782947,
          -2.740444202278539,
          -2.7291945305822054,
          -2.9982128399792027,
          -2.7534875287755516,
          -2.905436851579359,
          -2.904149187611657,
          -2.9649384887407746,
          -2.7333698207740187,
          -2.826966517823932,
          -3.0083395128713684,
          -2.9720853938931233,
          -2.8765731545351403,
          -2.7559673306687986,
          -2.866977299909799,
          -2.7714046997534156,
          -2.856473366942228,
          -2.99604512369433,
          -2.882106205341939,
          -2.8628029021536117,
          -2.987294050428071,
          -2.8994283329991966,
          -2.740444202278539,
          -2.82004323652281,
          -3.0063883099246227,
          -2.794489318409893,
          -2.761223832024802,
          -2.9631437541157677,
          -2.7931948370967605,
          -2.8424525067342894,
          -2.9553155692668853,
          -2.9854243249069237,
          -2.9813662358890363,
          -2.743967116210035,
          -2.944407337081691,
          -2.930792159209246,
          -2.976992206425268,
          -3.005858536309826,
          -2.9732024525533336,
          -2.9632337707027347,
          -2.897692550460257,
          -3.0571435168482646,
          -2.9829685624171707,
          -2.7816115159128953,
          -2.7638495321071015,
          -2.7196013943716837,
          -2.8501776473547515,
          -2.9859045849911636,
          -2.9000278654364697,
          -2.9553155692668853,
          -2.912378073327927,
          -2.8773014432124793,
          -2.751430416471552,
          -2.858714926224543,
          -2.9137600338057656,
          -2.9232148629237744,
          -2.983880135883945,
          -2.981300471120738,
          -2.9954147660155357,
          -2.987866497465608,
          -2.8950654298795726,
          -2.9829685624171707,
          -2.980330913895465,
          -2.78648601801278,
          -2.960789372244374,
          -2.9217472582929975,
          -2.871800347056549,
          -2.9480639359174785,
          -2.8120974661859015,
          -2.837381256099737,
          -2.8640476485669484,
          -2.889301080209952,
          -2.8784187683967017,
          -2.730174051460244,
          -2.900712599687762,
          -2.935700172044926,
          -2.83344204208912,
          -2.9792414649163828,
          -2.8706839239298754,
          -2.97812117943629,
          -3.0318479330590553,
          -2.8769120722004455,
          -2.9938032171006355,
          -2.796085595806899,
          -2.8878759174545987,
          -2.8561470182939996,
          -2.7505693005741354,
          -2.936203134759719,
          -2.9064372735872914,
          -2.941167268599754,
          -2.8777257445014435,
          -2.9426641246567136,
          -2.86061189754041,
          -2.860320981173698,
          -2.9662662111307925
         ],
         "marker": {
          "color": "#636efa"
         },
         "mode": "markers",
         "name": "33/11",
         "showlegend": true,
         "subplot": "mapbox",
         "type": "scattermapbox"
        },
        {
         "hovertemplate": "<b>%{hovertext}</b><br><br>Nominal Voltage (kV)=33/6.3<br>lat=%{lat}<br>long=%{lon}<extra></extra>",
         "hovertext": [
          "WAVERTREE VALE",
          "EVERTON ROAD",
          "WALTON",
          "HARRINGTON STREET A",
          "ROYAL INSURANCE (NEW QUAY)",
          "INLAND REVENUE",
          "BUCKINGHAM STREET",
          "WALTON",
          "DINGLE",
          "ARUNDEL",
          "CLUBMOOR",
          "HARRINGTON STREET A",
          "LIME STREET",
          "ATHOL STREET",
          "REGENT ROAD",
          "LISTER DRIVE 6kV T1",
          "PARADISE STREET",
          "BEECH STREET",
          "CLUBMOOR",
          "GARDNERS ROW",
          "GROVE PARK",
          "CHISENHALE STREET",
          "BIBBYS",
          "BIXTETH STREET",
          "KIRKDALE",
          "GRANBY",
          "HARRINGTON STREET A",
          "SANDHILLS LANE",
          "LITTLEWOODS",
          "SUBURBAN ROAD",
          "DAILY POST AND ECHO",
          "EVERTON BROW",
          "SUBURBAN ROAD",
          "LISTER DRIVE 6kV T2",
          "DUNLOPS WALTON",
          "DELAMORE STREET",
          "ST JAMES",
          "SHEIL PARK",
          "HIGHFIELD STREET A"
         ],
         "lat": [
          53.401313405426556,
          53.42008241690232,
          53.44966887520245,
          53.40892814792865,
          53.41090625518935,
          53.44962196167789,
          53.42600502074771,
          53.44966887520245,
          53.38714712592654,
          53.39133347026686,
          53.43650673412069,
          53.40892814792865,
          53.41001202268644,
          53.427187499034396,
          53.43840931629037,
          53.42194946927243,
          53.40488998013892,
          53.41290926610343,
          53.43650673412069,
          53.41799116200887,
          53.39266939433678,
          53.41913226281736,
          53.44503244135316,
          53.41246815759146,
          53.43211795320757,
          53.397808538033125,
          53.40892814792865,
          53.43340927784029,
          53.4139774234664,
          53.429881868586556,
          53.41195410301462,
          53.418416822139754,
          53.429881868586556,
          53.42194946927243,
          53.45501415026376,
          53.44452729749744,
          53.39653155512801,
          53.423329071767064,
          53.41312667364045
         ],
         "legendgroup": "33/6.3",
         "lon": [
          -2.9348368044453848,
          -2.9646244750169597,
          -2.9653694431328677,
          -2.9837257753935686,
          -2.9917707160249805,
          -2.9822404727781686,
          -2.9743200215863066,
          -2.9653694431328677,
          -2.956950281571702,
          -2.9295519009504836,
          -2.937260737146558,
          -2.9837257753935686,
          -2.977517880028617,
          -2.984177218544132,
          -2.992950800833406,
          -2.932413760277352,
          -2.982077439136908,
          -2.942257389756113,
          -2.937260737146558,
          -2.980100806700297,
          -2.9451651195422706,
          -2.98935797746864,
          -2.996177877444298,
          -2.9882375856231698,
          -2.969482560184116,
          -2.9663836947291573,
          -2.9837257753935686,
          -2.987838877456239,
          -2.990683291158036,
          -2.947351594556459,
          -2.992154277067054,
          -2.9716913605090567,
          -2.947351594556459,
          -2.932413760277352,
          -2.9600903994398693,
          -2.9729233549969334,
          -2.976992206425268,
          -2.947050887538326,
          -2.9859045849911636
         ],
         "marker": {
          "color": "#EF553B"
         },
         "mode": "markers",
         "name": "33/6.3",
         "showlegend": true,
         "subplot": "mapbox",
         "type": "scattermapbox"
        },
        {
         "hovertemplate": "<b>%{hovertext}</b><br><br>Nominal Voltage (kV)=33/6.6<br>lat=%{lat}<br>long=%{lon}<extra></extra>",
         "hovertext": [
          "TECHNOLOGY CAMPUS",
          "DOVER ROAD",
          "GRANTHAM CLOSE",
          "CARLTON STREET",
          "BRITISH OXYGEN",
          "WINDLEHURST",
          "AINSDALE",
          "DELTA METALS",
          "CHALON WAY",
          "BRITISH SIDAC",
          "ALMATEX",
          "WATERY LANE",
          "SHERDLEY ROAD",
          "BANASTRE ROAD",
          "ST HELENS LINKWAY",
          "WATERY LANE",
          "PINFOLD LANE",
          "CHALON WAY",
          "WOODVILLE STREET"
         ],
         "lat": [
          53.4569111160361,
          53.62640831447822,
          53.621474422898245,
          53.45255403727681,
          53.4702658240376,
          53.46531419713009,
          53.60523474087081,
          53.45633973997444,
          53.45172048280775,
          53.43962198455728,
          53.447552652374156,
          53.44256203763328,
          53.443710081279484,
          53.63844784083177,
          53.44574077071152,
          53.44256203763328,
          53.59453087781793,
          53.45172048280775,
          53.45733655097534
         ],
         "legendgroup": "33/6.6",
         "lon": [
          -2.741321233271815,
          -3.010640860976548,
          -3.0020690538014865,
          -2.7647908939904027,
          -2.74854979140187,
          -2.7638495321071015,
          -3.0239075332726038,
          -2.7215201074760462,
          -2.747808882977331,
          -2.7264307663783214,
          -2.7252472897459086,
          -2.7180886410553797,
          -2.742191221918869,
          -2.9969307425213443,
          -2.74117338678881,
          -2.7180886410553797,
          -3.028309911077536,
          -2.747808882977331,
          -2.7445084439605307
         ],
         "marker": {
          "color": "#00cc96"
         },
         "mode": "markers",
         "name": "33/6.6",
         "showlegend": true,
         "subplot": "mapbox",
         "type": "scattermapbox"
        }
       ],
       "layout": {
        "legend": {
         "title": {
          "text": "Nominal Voltage (kV)"
         },
         "tracegroupgap": 0
        },
        "mapbox": {
         "center": {
          "lat": 53.5,
          "lon": -2.9
         },
         "domain": {
          "x": [
           0,
           1
          ],
          "y": [
           0,
           1
          ]
         },
         "style": "open-street-map",
         "zoom": 8.5
        },
        "margin": {
         "t": 60
        },
        "template": {
         "data": {
          "bar": [
           {
            "error_x": {
             "color": "#2a3f5f"
            },
            "error_y": {
             "color": "#2a3f5f"
            },
            "marker": {
             "line": {
              "color": "#E5ECF6",
              "width": 0.5
             },
             "pattern": {
              "fillmode": "overlay",
              "size": 10,
              "solidity": 0.2
             }
            },
            "type": "bar"
           }
          ],
          "barpolar": [
           {
            "marker": {
             "line": {
              "color": "#E5ECF6",
              "width": 0.5
             },
             "pattern": {
              "fillmode": "overlay",
              "size": 10,
              "solidity": 0.2
             }
            },
            "type": "barpolar"
           }
          ],
          "carpet": [
           {
            "aaxis": {
             "endlinecolor": "#2a3f5f",
             "gridcolor": "white",
             "linecolor": "white",
             "minorgridcolor": "white",
             "startlinecolor": "#2a3f5f"
            },
            "baxis": {
             "endlinecolor": "#2a3f5f",
             "gridcolor": "white",
             "linecolor": "white",
             "minorgridcolor": "white",
             "startlinecolor": "#2a3f5f"
            },
            "type": "carpet"
           }
          ],
          "choropleth": [
           {
            "colorbar": {
             "outlinewidth": 0,
             "ticks": ""
            },
            "type": "choropleth"
           }
          ],
          "contour": [
           {
            "colorbar": {
             "outlinewidth": 0,
             "ticks": ""
            },
            "colorscale": [
             [
              0,
              "#0d0887"
             ],
             [
              0.1111111111111111,
              "#46039f"
             ],
             [
              0.2222222222222222,
              "#7201a8"
             ],
             [
              0.3333333333333333,
              "#9c179e"
             ],
             [
              0.4444444444444444,
              "#bd3786"
             ],
             [
              0.5555555555555556,
              "#d8576b"
             ],
             [
              0.6666666666666666,
              "#ed7953"
             ],
             [
              0.7777777777777778,
              "#fb9f3a"
             ],
             [
              0.8888888888888888,
              "#fdca26"
             ],
             [
              1,
              "#f0f921"
             ]
            ],
            "type": "contour"
           }
          ],
          "contourcarpet": [
           {
            "colorbar": {
             "outlinewidth": 0,
             "ticks": ""
            },
            "type": "contourcarpet"
           }
          ],
          "heatmap": [
           {
            "colorbar": {
             "outlinewidth": 0,
             "ticks": ""
            },
            "colorscale": [
             [
              0,
              "#0d0887"
             ],
             [
              0.1111111111111111,
              "#46039f"
             ],
             [
              0.2222222222222222,
              "#7201a8"
             ],
             [
              0.3333333333333333,
              "#9c179e"
             ],
             [
              0.4444444444444444,
              "#bd3786"
             ],
             [
              0.5555555555555556,
              "#d8576b"
             ],
             [
              0.6666666666666666,
              "#ed7953"
             ],
             [
              0.7777777777777778,
              "#fb9f3a"
             ],
             [
              0.8888888888888888,
              "#fdca26"
             ],
             [
              1,
              "#f0f921"
             ]
            ],
            "type": "heatmap"
           }
          ],
          "heatmapgl": [
           {
            "colorbar": {
             "outlinewidth": 0,
             "ticks": ""
            },
            "colorscale": [
             [
              0,
              "#0d0887"
             ],
             [
              0.1111111111111111,
              "#46039f"
             ],
             [
              0.2222222222222222,
              "#7201a8"
             ],
             [
              0.3333333333333333,
              "#9c179e"
             ],
             [
              0.4444444444444444,
              "#bd3786"
             ],
             [
              0.5555555555555556,
              "#d8576b"
             ],
             [
              0.6666666666666666,
              "#ed7953"
             ],
             [
              0.7777777777777778,
              "#fb9f3a"
             ],
             [
              0.8888888888888888,
              "#fdca26"
             ],
             [
              1,
              "#f0f921"
             ]
            ],
            "type": "heatmapgl"
           }
          ],
          "histogram": [
           {
            "marker": {
             "pattern": {
              "fillmode": "overlay",
              "size": 10,
              "solidity": 0.2
             }
            },
            "type": "histogram"
           }
          ],
          "histogram2d": [
           {
            "colorbar": {
             "outlinewidth": 0,
             "ticks": ""
            },
            "colorscale": [
             [
              0,
              "#0d0887"
             ],
             [
              0.1111111111111111,
              "#46039f"
             ],
             [
              0.2222222222222222,
              "#7201a8"
             ],
             [
              0.3333333333333333,
              "#9c179e"
             ],
             [
              0.4444444444444444,
              "#bd3786"
             ],
             [
              0.5555555555555556,
              "#d8576b"
             ],
             [
              0.6666666666666666,
              "#ed7953"
             ],
             [
              0.7777777777777778,
              "#fb9f3a"
             ],
             [
              0.8888888888888888,
              "#fdca26"
             ],
             [
              1,
              "#f0f921"
             ]
            ],
            "type": "histogram2d"
           }
          ],
          "histogram2dcontour": [
           {
            "colorbar": {
             "outlinewidth": 0,
             "ticks": ""
            },
            "colorscale": [
             [
              0,
              "#0d0887"
             ],
             [
              0.1111111111111111,
              "#46039f"
             ],
             [
              0.2222222222222222,
              "#7201a8"
             ],
             [
              0.3333333333333333,
              "#9c179e"
             ],
             [
              0.4444444444444444,
              "#bd3786"
             ],
             [
              0.5555555555555556,
              "#d8576b"
             ],
             [
              0.6666666666666666,
              "#ed7953"
             ],
             [
              0.7777777777777778,
              "#fb9f3a"
             ],
             [
              0.8888888888888888,
              "#fdca26"
             ],
             [
              1,
              "#f0f921"
             ]
            ],
            "type": "histogram2dcontour"
           }
          ],
          "mesh3d": [
           {
            "colorbar": {
             "outlinewidth": 0,
             "ticks": ""
            },
            "type": "mesh3d"
           }
          ],
          "parcoords": [
           {
            "line": {
             "colorbar": {
              "outlinewidth": 0,
              "ticks": ""
             }
            },
            "type": "parcoords"
           }
          ],
          "pie": [
           {
            "automargin": true,
            "type": "pie"
           }
          ],
          "scatter": [
           {
            "fillpattern": {
             "fillmode": "overlay",
             "size": 10,
             "solidity": 0.2
            },
            "type": "scatter"
           }
          ],
          "scatter3d": [
           {
            "line": {
             "colorbar": {
              "outlinewidth": 0,
              "ticks": ""
             }
            },
            "marker": {
             "colorbar": {
              "outlinewidth": 0,
              "ticks": ""
             }
            },
            "type": "scatter3d"
           }
          ],
          "scattercarpet": [
           {
            "marker": {
             "colorbar": {
              "outlinewidth": 0,
              "ticks": ""
             }
            },
            "type": "scattercarpet"
           }
          ],
          "scattergeo": [
           {
            "marker": {
             "colorbar": {
              "outlinewidth": 0,
              "ticks": ""
             }
            },
            "type": "scattergeo"
           }
          ],
          "scattergl": [
           {
            "marker": {
             "colorbar": {
              "outlinewidth": 0,
              "ticks": ""
             }
            },
            "type": "scattergl"
           }
          ],
          "scattermapbox": [
           {
            "marker": {
             "colorbar": {
              "outlinewidth": 0,
              "ticks": ""
             }
            },
            "type": "scattermapbox"
           }
          ],
          "scatterpolar": [
           {
            "marker": {
             "colorbar": {
              "outlinewidth": 0,
              "ticks": ""
             }
            },
            "type": "scatterpolar"
           }
          ],
          "scatterpolargl": [
           {
            "marker": {
             "colorbar": {
              "outlinewidth": 0,
              "ticks": ""
             }
            },
            "type": "scatterpolargl"
           }
          ],
          "scatterternary": [
           {
            "marker": {
             "colorbar": {
              "outlinewidth": 0,
              "ticks": ""
             }
            },
            "type": "scatterternary"
           }
          ],
          "surface": [
           {
            "colorbar": {
             "outlinewidth": 0,
             "ticks": ""
            },
            "colorscale": [
             [
              0,
              "#0d0887"
             ],
             [
              0.1111111111111111,
              "#46039f"
             ],
             [
              0.2222222222222222,
              "#7201a8"
             ],
             [
              0.3333333333333333,
              "#9c179e"
             ],
             [
              0.4444444444444444,
              "#bd3786"
             ],
             [
              0.5555555555555556,
              "#d8576b"
             ],
             [
              0.6666666666666666,
              "#ed7953"
             ],
             [
              0.7777777777777778,
              "#fb9f3a"
             ],
             [
              0.8888888888888888,
              "#fdca26"
             ],
             [
              1,
              "#f0f921"
             ]
            ],
            "type": "surface"
           }
          ],
          "table": [
           {
            "cells": {
             "fill": {
              "color": "#EBF0F8"
             },
             "line": {
              "color": "white"
             }
            },
            "header": {
             "fill": {
              "color": "#C8D4E3"
             },
             "line": {
              "color": "white"
             }
            },
            "type": "table"
           }
          ]
         },
         "layout": {
          "annotationdefaults": {
           "arrowcolor": "#2a3f5f",
           "arrowhead": 0,
           "arrowwidth": 1
          },
          "autotypenumbers": "strict",
          "coloraxis": {
           "colorbar": {
            "outlinewidth": 0,
            "ticks": ""
           }
          },
          "colorscale": {
           "diverging": [
            [
             0,
             "#8e0152"
            ],
            [
             0.1,
             "#c51b7d"
            ],
            [
             0.2,
             "#de77ae"
            ],
            [
             0.3,
             "#f1b6da"
            ],
            [
             0.4,
             "#fde0ef"
            ],
            [
             0.5,
             "#f7f7f7"
            ],
            [
             0.6,
             "#e6f5d0"
            ],
            [
             0.7,
             "#b8e186"
            ],
            [
             0.8,
             "#7fbc41"
            ],
            [
             0.9,
             "#4d9221"
            ],
            [
             1,
             "#276419"
            ]
           ],
           "sequential": [
            [
             0,
             "#0d0887"
            ],
            [
             0.1111111111111111,
             "#46039f"
            ],
            [
             0.2222222222222222,
             "#7201a8"
            ],
            [
             0.3333333333333333,
             "#9c179e"
            ],
            [
             0.4444444444444444,
             "#bd3786"
            ],
            [
             0.5555555555555556,
             "#d8576b"
            ],
            [
             0.6666666666666666,
             "#ed7953"
            ],
            [
             0.7777777777777778,
             "#fb9f3a"
            ],
            [
             0.8888888888888888,
             "#fdca26"
            ],
            [
             1,
             "#f0f921"
            ]
           ],
           "sequentialminus": [
            [
             0,
             "#0d0887"
            ],
            [
             0.1111111111111111,
             "#46039f"
            ],
            [
             0.2222222222222222,
             "#7201a8"
            ],
            [
             0.3333333333333333,
             "#9c179e"
            ],
            [
             0.4444444444444444,
             "#bd3786"
            ],
            [
             0.5555555555555556,
             "#d8576b"
            ],
            [
             0.6666666666666666,
             "#ed7953"
            ],
            [
             0.7777777777777778,
             "#fb9f3a"
            ],
            [
             0.8888888888888888,
             "#fdca26"
            ],
            [
             1,
             "#f0f921"
            ]
           ]
          },
          "colorway": [
           "#636efa",
           "#EF553B",
           "#00cc96",
           "#ab63fa",
           "#FFA15A",
           "#19d3f3",
           "#FF6692",
           "#B6E880",
           "#FF97FF",
           "#FECB52"
          ],
          "font": {
           "color": "#2a3f5f"
          },
          "geo": {
           "bgcolor": "white",
           "lakecolor": "white",
           "landcolor": "#E5ECF6",
           "showlakes": true,
           "showland": true,
           "subunitcolor": "white"
          },
          "hoverlabel": {
           "align": "left"
          },
          "hovermode": "closest",
          "mapbox": {
           "style": "light"
          },
          "paper_bgcolor": "white",
          "plot_bgcolor": "#E5ECF6",
          "polar": {
           "angularaxis": {
            "gridcolor": "white",
            "linecolor": "white",
            "ticks": ""
           },
           "bgcolor": "#E5ECF6",
           "radialaxis": {
            "gridcolor": "white",
            "linecolor": "white",
            "ticks": ""
           }
          },
          "scene": {
           "xaxis": {
            "backgroundcolor": "#E5ECF6",
            "gridcolor": "white",
            "gridwidth": 2,
            "linecolor": "white",
            "showbackground": true,
            "ticks": "",
            "zerolinecolor": "white"
           },
           "yaxis": {
            "backgroundcolor": "#E5ECF6",
            "gridcolor": "white",
            "gridwidth": 2,
            "linecolor": "white",
            "showbackground": true,
            "ticks": "",
            "zerolinecolor": "white"
           },
           "zaxis": {
            "backgroundcolor": "#E5ECF6",
            "gridcolor": "white",
            "gridwidth": 2,
            "linecolor": "white",
            "showbackground": true,
            "ticks": "",
            "zerolinecolor": "white"
           }
          },
          "shapedefaults": {
           "line": {
            "color": "#2a3f5f"
           }
          },
          "ternary": {
           "aaxis": {
            "gridcolor": "white",
            "linecolor": "white",
            "ticks": ""
           },
           "baxis": {
            "gridcolor": "white",
            "linecolor": "white",
            "ticks": ""
           },
           "bgcolor": "#E5ECF6",
           "caxis": {
            "gridcolor": "white",
            "linecolor": "white",
            "ticks": ""
           }
          },
          "title": {
           "x": 0.05
          },
          "xaxis": {
           "automargin": true,
           "gridcolor": "white",
           "linecolor": "white",
           "ticks": "",
           "title": {
            "standoff": 15
           },
           "zerolinecolor": "white",
           "zerolinewidth": 2
          },
          "yaxis": {
           "automargin": true,
           "gridcolor": "white",
           "linecolor": "white",
           "ticks": "",
           "title": {
            "standoff": 15
           },
           "zerolinecolor": "white",
           "zerolinewidth": 2
          }
         }
        }
       }
      }
     },
     "metadata": {},
     "output_type": "display_data"
    }
   ],
   "source": [
    "fig = px.scatter_mapbox(df_pri_m, lat='lat', lon='long', zoom=8.5,\n",
    "                        center=dict(lat=53.5, lon=-2.9), hover_name='Substation Name',\n",
    "                        mapbox_style='open-street-map', color='Nominal Voltage (kV)')\n",
    "fig.show()"
   ]
  },
  {
   "cell_type": "code",
   "execution_count": 250,
   "metadata": {},
   "outputs": [
    {
     "data": {
      "application/vnd.plotly.v1+json": {
       "config": {
        "plotlyServerURL": "https://plot.ly"
       },
       "data": [
        {
         "coloraxis": "coloraxis",
         "hovertemplate": "<b>%{hovertext}</b><br><br>Overall Category=%{z}<br>lat=%{lat}<br>long=%{lon}<extra></extra>",
         "hovertext": [
          "DICKINSONS",
          "WAVERTREE",
          "AINTREE",
          "WAVERTREE VALE",
          "LARK LANE",
          "BLUEBELL LANE",
          "ECCLESTON",
          "LUCAS FAZAKERLEY",
          "WEST DERBY",
          "SCARISBRICK AVENUE",
          "EVERTON ROAD",
          "TECHNOLOGY CAMPUS",
          "CHILDWALL FIVEWAYS",
          "MIDDLEMASS HEY",
          "N C B SUTTON MANOR",
          "MEDEVA",
          "WALTON",
          "MERSEY BRIDGE",
          "EDGE HILL",
          "MILL LN WAVERTREE",
          "HARRINGTON STREET A",
          "WILSON ROAD",
          "KNOWSLEY",
          "MULLARDS BALMORAL DR",
          "OTIS ELEVATOR",
          "ROYAL INSURANCE (NEW QUAY)",
          "KODAK",
          "WANGO LANE",
          "ECP WEST-BANKS RD",
          "ATLANTIC COMPLEX",
          "NETHERTON",
          "DOVER ROAD",
          "GRANTHAM CLOSE",
          "BEAUMONT STREET",
          "DINGLE VALE",
          "CARR LANE EAST",
          "INLAND REVENUE",
          "BICC HUYTON QUARRY",
          "BLUNDELL STREET",
          "BLUNDELLSANDS NORTH",
          "WATERLOO",
          "LEYFIELD ROAD",
          "BUCKINGHAM STREET",
          "FRESHFIELD",
          "GRADWELL STREET",
          "CROWN COURTS",
          "CARLTON STREET",
          "WALTON",
          "DINGLE",
          "DITTON",
          "HOUGH GREEN",
          "RTZ",
          "LISTER DRIVE T3",
          "IVY STREET",
          "PALCO",
          "TOWER HILL",
          "PILKINGTON HO",
          "ACORNFIELD ROAD",
          "MATHER AVENUE",
          "HAREFIELD ROAD",
          "GIRO BOOTLE",
          "ARUNDEL",
          "BOLTON STREET",
          "WASHINGTON STREET",
          "BOOTLE",
          "BRITISH OXYGEN",
          "WINDLEHURST",
          "CROXTETH",
          "BROOK STREET",
          "KINGSWAY TUNNEL",
          "SOUTHPORT RD",
          "HILLS MOSS",
          "CLUBMOOR",
          "ROBBINS BRIDGE",
          "PLESSEY EDGE LANE",
          "STONEYCROFT",
          "LEEWARD DRIVE",
          "FAZAKERLEY HOSPITAL",
          "HARRINGTON STREET A",
          "LIME STREET",
          "OLD HAYMARKET",
          "OCEAN PLAZA",
          "YORK ROAD",
          "AINSDALE",
          "OLD ROAN",
          "YEWTREE ROAD",
          "DELTA METALS",
          "ATHOL STREET",
          "REGENT ROAD",
          "WHISTON",
          "WATERLOO",
          "GREEK STREET",
          "BURLINGTON AVENUE",
          "OLDHAM PLACE",
          "CHALON WAY",
          "LISTER DRIVE 6kV T1",
          "PARADISE STREET",
          "LIME STREET",
          "HOLT LANE WARR RD",
          "WOOLTON",
          "MARLED HEY",
          "LORD STREET",
          "LUGSDALE",
          "USAC",
          "NEVILL STREET",
          "SOMERFIELD DISTRIBUTION",
          "ALLERTON",
          "WEAVER IND EST",
          "MIDLAND BANK",
          "HORNSBRIDGE",
          "BROOK BRIDGE",
          "BEECH STREET",
          "KERSHAW AVENUE",
          "OLDHAM PLACE",
          "BRITISH SIDAC",
          "LYNDENE ROAD",
          "GEC ST HELENS",
          "CLUBMOOR",
          "SPEKE SKY PARK",
          "GARDNERS ROW",
          "RAINHILL LOCAL",
          "HUNTS CROSS",
          "MARKET STREET",
          "SOUTHDENE",
          "AIRPORT",
          "ALBERT DOCK",
          "GARSTON",
          "ALMATEX",
          "WATERY LANE",
          "LUGSDALE",
          "GROVE PARK",
          "CHISENHALE STREET",
          "BIBBYS",
          "TARBOCK",
          "BIXTETH STREET",
          "KELLOGGS",
          "SHERDLEY ROAD",
          "HOUGHTONS LANE",
          "KIRKDALE",
          "DESOTO ROAD",
          "GRANBY",
          "HARRINGTON STREET A",
          "HASKAYNE",
          "WHISTON HOSPITAL",
          "HUYTON HEY ROAD",
          "SOUTHPORT",
          "KINGS DOCK",
          "ALMONDS TURN",
          "APPLETON",
          "SANDHILLS LANE",
          "BEMROSE",
          "NORRIS GREEN",
          "LITTLEWOODS",
          "ST JAMES",
          "CROSBY",
          "HPO COPPERAS HILL",
          "TATTON ROAD",
          "KNOTTY ASH",
          "MARSH BROWS",
          "CABLE STREET",
          "CARBORUNDUM",
          "WINDLEHURST",
          "CLOCKFACE",
          "SUBURBAN ROAD",
          "CONIX",
          "DAILY POST AND ECHO",
          "EVERTON BROW",
          "HIGHFIELD STREET A",
          "WEST VALE",
          "SOUTHPORT",
          "STONEBRIDGE LANE",
          "ST IVEL FOODS",
          "RAVENHEAD RETAIL PARK",
          "HAMMOND ROAD",
          "IVY AVENUE",
          "MOSSLEY HILL",
          "WAPPING",
          "BANASTRE ROAD",
          "BOOTLE",
          "PACIFIC ROAD",
          "ORRELL MOUNT",
          "ST HELENS LINKWAY",
          "WATERY LANE",
          "BROADGREEN",
          "SUBURBAN ROAD",
          "CABLE STREET",
          "GRADWELL STREET",
          "GAVIN ROAD",
          "LIVERPOOL UNIVERSITY",
          "EDGE LN TAPLEY",
          "SPEKE HALL ROAD",
          "JACOBS",
          "PRESCOT",
          "KENTON ROAD",
          "KELCO",
          "KIRKBY CENTRAL",
          "NORTHWOOD",
          "PILK SULLIVAN",
          "ORB CLOSE",
          "AIGBURTH VALE",
          "PINFOLD LANE",
          "ALDERWOOD AVE",
          "MDHB BRUNSWICK DOCK",
          "BEDBURN DRIVE",
          "LISTER DRIVE 6kV T2",
          "ROPEWALKS",
          "BLUNDELLSANDS SOUTH",
          "EAST PRESCOT ROAD",
          "NWWA SANDON DOCK",
          "RAINFORD",
          "CHALON WAY",
          "WOODVILLE STREET",
          "CHILDWALL",
          "NAYLORS ROAD",
          "DUNLOPS WALTON",
          "DELAMORE STREET",
          "PITT STREET",
          "ST JAMES",
          "DODDS LANE",
          "HOLBORN HILL",
          "MAGHULL",
          "ESTUARY COMMERCE PK",
          "SHEIL PARK",
          "SEEDS LANE",
          "HIGHFIELD STREET A",
          "WOODEND AVENUE",
          "NEWS INTERNATIONAL",
          "MARSHSIDE"
         ],
         "lat": [
          53.47946706893251,
          53.392115438280506,
          53.479927044410346,
          53.401313405426556,
          53.38439809548913,
          53.42225664562258,
          53.435290408038696,
          53.45648791762959,
          53.431167710138794,
          53.469869413578714,
          53.42008241690232,
          53.4569111160361,
          53.39994630528609,
          53.38962480224871,
          53.41160968352447,
          53.351617657840244,
          53.44966887520245,
          53.36009680289808,
          53.407106712281816,
          53.401843481914526,
          53.40892814792865,
          53.40749152098489,
          53.45360503098669,
          53.6678314482582,
          53.46993736072292,
          53.41090625518935,
          53.485769697686905,
          53.47903913146635,
          53.34772455441743,
          53.47910749848658,
          53.49466251689798,
          53.62640831447822,
          53.621474422898245,
          53.40003927613069,
          53.38055758427388,
          53.449152540322544,
          53.44962196167789,
          53.410037768348694,
          53.400430996228586,
          53.49631933279402,
          53.47848933468698,
          53.42950941779824,
          53.42600502074771,
          53.56986881619634,
          53.40588051069518,
          53.4074408877939,
          53.45255403727681,
          53.44966887520245,
          53.38714712592654,
          53.372831567836585,
          53.38066435859472,
          53.36270303304967,
          53.42194946927243,
          53.306907822136615,
          53.46417701634223,
          53.493371561294275,
          53.44610490176761,
          53.48158101021283,
          53.383301031977716,
          53.34441230265524,
          53.47437929930791,
          53.39133347026686,
          53.40902024234922,
          53.455423498396534,
          53.45891837489128,
          53.4702658240376,
          53.46531419713009,
          53.43711661328251,
          53.41301897109336,
          53.418409840441754,
          53.57057285993626,
          53.43256425627105,
          53.43650673412069,
          53.53318632886943,
          53.41243812101662,
          53.42464609757835,
          53.351461079192795,
          53.46980972092478,
          53.40892814792865,
          53.41001202268644,
          53.41240553669614,
          53.65540627877177,
          53.63645932533046,
          53.60523474087081,
          53.487669334564586,
          53.379055234022005,
          53.45633973997444,
          53.427187499034396,
          53.43840931629037,
          53.41285302799098,
          53.47848933468698,
          53.4109200577197,
          53.558837814537824,
          53.40607239666528,
          53.45172048280775,
          53.42194946927243,
          53.40488998013892,
          53.41001202268644,
          53.42222716341715,
          53.37637029994296,
          53.43845909063401,
          53.652482985835015,
          53.36739828253958,
          53.36828625565889,
          53.65177760110811,
          53.42446503875505,
          53.37450038817994,
          53.34896282813954,
          53.474379442335426,
          53.386406278216,
          53.42910378392303,
          53.41290926610343,
          53.48791652940732,
          53.40607239666528,
          53.43962198455728,
          53.39627808403586,
          53.41751429670323,
          53.43650673412069,
          53.343552373357596,
          53.41799116200887,
          53.413835536496016,
          53.369333604011544,
          53.64748767031024,
          53.47326053773067,
          53.341757563158765,
          53.40244736275407,
          53.35615190812053,
          53.447552652374156,
          53.44256203763328,
          53.36739828253958,
          53.39266939433678,
          53.41913226281736,
          53.44503244135316,
          53.406580695506705,
          53.41246815759146,
          53.4634694202197,
          53.443710081279484,
          53.46164769622954,
          53.43211795320757,
          53.3549789657585,
          53.397808538033125,
          53.40892814792865,
          53.56223678289227,
          53.421899453213705,
          53.411929787686816,
          53.644891858592224,
          53.399231788464476,
          53.49383637905234,
          53.37274631079631,
          53.43340927784029,
          53.45874548028062,
          53.44535196883245,
          53.4139774234664,
          53.39653155512801,
          53.49791135669885,
          53.409030826681516,
          53.46686519312143,
          53.42076653332622,
          53.55747166465291,
          53.4077651761994,
          53.489342683932755,
          53.46531419713009,
          53.41948249183195,
          53.429881868586556,
          53.35236734892916,
          53.41195410301462,
          53.418416822139754,
          53.41312667364045,
          53.48128065331388,
          53.644891858592224,
          53.461320238266524,
          53.46902005176156,
          53.446929331185174,
          53.490083096821465,
          53.363920138751375,
          53.37759236897662,
          53.39824204177805,
          53.63844784083177,
          53.45891837489128,
          53.454308160443745,
          53.468532612784536,
          53.44574077071152,
          53.44256203763328,
          53.407304149566485,
          53.429881868586556,
          53.4077651761994,
          53.40588051069518,
          53.36502934240193,
          53.408106270770084,
          53.41208912459497,
          53.35829442449201,
          53.461543973888496,
          53.424126257402406,
          53.36312412610851,
          53.46629136477233,
          53.48413518651102,
          53.48590156841973,
          53.36278713724,
          53.45494263590758,
          53.37729821176274,
          53.59453087781793,
          53.34532401045283,
          53.393273849667196,
          53.41639231657325,
          53.42194946927243,
          53.403721472863175,
          53.49171260684971,
          53.42258817290765,
          53.43102171119756,
          53.49980755108042,
          53.45172048280775,
          53.45733655097534,
          53.389883977487685,
          53.39252435936215,
          53.45501415026376,
          53.44452729749744,
          53.35654061392991,
          53.39653155512801,
          53.520865929464655,
          53.5576684635132,
          53.50911327590569,
          53.34787253331973,
          53.423329071767064,
          53.47067774400123,
          53.41312667364045,
          53.356183518797515,
          53.46670786233184,
          53.666338364502245
         ],
         "lon": [
          -2.868960247870969,
          -2.9204016465259253,
          -2.952120579982764,
          -2.9348368044453848,
          -2.944624291873282,
          -2.8501678183081656,
          -2.8043784690358375,
          -2.940341324407141,
          -2.9135425332827087,
          -2.9944350105232207,
          -2.9646244750169597,
          -2.741321233271815,
          -2.9016592879163565,
          -2.846754798019866,
          -2.743828112149952,
          -2.854156556576897,
          -2.9653694431328677,
          -2.754613494109046,
          -2.9555171397149618,
          -2.917149728861142,
          -2.9837257753935686,
          -2.832766645851588,
          -2.8544126543542996,
          -2.9475556298150716,
          -2.8760457604682177,
          -2.9917707160249805,
          -2.8543921609641663,
          -2.922591919732099,
          -2.888545159884441,
          -2.971849062968237,
          -2.96525216830561,
          -3.010640860976548,
          -3.0020690538014865,
          -2.9499127258116697,
          -2.961435944175713,
          -2.9100293326371127,
          -2.9822404727781686,
          -2.830964548867422,
          -2.9791900391584565,
          -3.0362637980786467,
          -3.020137126104079,
          -2.898653495860952,
          -2.9743200215863066,
          -3.058814473441467,
          -2.980330913895465,
          -2.9857005531236824,
          -2.7647908939904027,
          -2.9653694431328677,
          -2.956950281571702,
          -2.770753625319709,
          -2.7881068173430985,
          -2.7876064992303107,
          -2.932413760277352,
          -3.671941535480043,
          -2.8751328235683453,
          -2.8925318619436884,
          -2.7679236134315395,
          -2.856488723050569,
          -2.909668478621902,
          -2.8527313048173912,
          -2.9677871074751576,
          -2.9295519009504836,
          -2.9750316210112593,
          -2.9891846842932064,
          -2.981300471120738,
          -2.74854979140187,
          -2.7638495321071015,
          -2.8892155437371505,
          -2.9924573169729123,
          -2.994321468112982,
          -3.038281072758332,
          -2.7113825238848923,
          -2.937260737146558,
          -2.9266472706323716,
          -2.9311405362343588,
          -2.9151775108184386,
          -2.8760998057656315,
          -2.9313578180015285,
          -2.9837257753935686,
          -2.977517880028617,
          -2.9800719754323235,
          -3.0014500715221915,
          -3.0067781051716986,
          -3.0239075332726038,
          -2.947439064095321,
          -2.898191511493313,
          -2.7215201074760462,
          -2.984177218544132,
          -2.992950800833406,
          -2.812489756420958,
          -3.020137126104079,
          -2.9706213000337187,
          -3.0357056188310514,
          -2.9720853938931233,
          -2.747808882977331,
          -2.932413760277352,
          -2.982077439136908,
          -2.977517880028617,
          -2.7916001313229484,
          -2.8703853515597455,
          -2.8775709734550396,
          -2.988968248782947,
          -2.740444202278539,
          -2.7291945305822054,
          -2.9982128399792027,
          -2.7534875287755516,
          -2.905436851579359,
          -2.904149187611657,
          -2.9649384887407746,
          -2.7333698207740187,
          -2.826966517823932,
          -2.942257389756113,
          -3.0083395128713684,
          -2.9720853938931233,
          -2.7264307663783214,
          -2.8765731545351403,
          -2.7559673306687986,
          -2.937260737146558,
          -2.866977299909799,
          -2.980100806700297,
          -2.7714046997534156,
          -2.856473366942228,
          -2.99604512369433,
          -2.882106205341939,
          -2.8628029021536117,
          -2.987294050428071,
          -2.8994283329991966,
          -2.7252472897459086,
          -2.7180886410553797,
          -2.740444202278539,
          -2.9451651195422706,
          -2.98935797746864,
          -2.996177877444298,
          -2.82004323652281,
          -2.9882375856231698,
          -3.0063883099246227,
          -2.742191221918869,
          -2.794489318409893,
          -2.969482560184116,
          -2.761223832024802,
          -2.9663836947291573,
          -2.9837257753935686,
          -2.9631437541157677,
          -2.7931948370967605,
          -2.8424525067342894,
          -2.9553155692668853,
          -2.9854243249069237,
          -2.9813662358890363,
          -2.743967116210035,
          -2.987838877456239,
          -2.944407337081691,
          -2.930792159209246,
          -2.990683291158036,
          -2.976992206425268,
          -3.005858536309826,
          -2.9732024525533336,
          -2.9632337707027347,
          -2.897692550460257,
          -3.0571435168482646,
          -2.9829685624171707,
          -2.7816115159128953,
          -2.7638495321071015,
          -2.7196013943716837,
          -2.947351594556459,
          -2.8501776473547515,
          -2.992154277067054,
          -2.9716913605090567,
          -2.9859045849911636,
          -2.9000278654364697,
          -2.9553155692668853,
          -2.912378073327927,
          -2.8773014432124793,
          -2.751430416471552,
          -2.858714926224543,
          -2.9137600338057656,
          -2.9232148629237744,
          -2.983880135883945,
          -2.9969307425213443,
          -2.981300471120738,
          -2.9954147660155357,
          -2.987866497465608,
          -2.74117338678881,
          -2.7180886410553797,
          -2.8950654298795726,
          -2.947351594556459,
          -2.9829685624171707,
          -2.980330913895465,
          -2.78648601801278,
          -2.960789372244374,
          -2.9217472582929975,
          -2.871800347056549,
          -2.9480639359174785,
          -2.8120974661859015,
          -2.837381256099737,
          -2.8640476485669484,
          -2.889301080209952,
          -2.8784187683967017,
          -2.730174051460244,
          -2.900712599687762,
          -2.935700172044926,
          -3.028309911077536,
          -2.83344204208912,
          -2.9792414649163828,
          -2.8706839239298754,
          -2.932413760277352,
          -2.97812117943629,
          -3.0318479330590553,
          -2.8769120722004455,
          -2.9938032171006355,
          -2.796085595806899,
          -2.747808882977331,
          -2.7445084439605307,
          -2.8878759174545987,
          -2.8561470182939996,
          -2.9600903994398693,
          -2.9729233549969334,
          -2.7505693005741354,
          -2.976992206425268,
          -2.936203134759719,
          -2.9064372735872914,
          -2.941167268599754,
          -2.8777257445014435,
          -2.947050887538326,
          -2.9426641246567136,
          -2.9859045849911636,
          -2.86061189754041,
          -2.860320981173698,
          -2.9662662111307925
         ],
         "name": "",
         "radius": 15,
         "subplot": "mapbox",
         "type": "densitymapbox",
         "z": [
          2,
          2,
          1,
          2,
          2,
          2,
          2,
          2,
          2,
          2,
          2,
          2,
          2,
          2,
          2,
          1,
          2,
          1,
          2,
          2,
          2,
          1,
          1,
          2,
          1,
          2,
          2,
          1,
          2,
          2,
          2,
          2,
          2,
          2,
          2,
          2,
          2,
          2,
          1,
          2,
          2,
          2,
          2,
          2,
          2,
          1,
          2,
          2,
          2,
          2,
          2,
          2,
          2,
          2,
          2,
          2,
          2,
          2,
          2,
          2,
          2,
          2,
          2,
          2,
          2,
          2,
          2,
          2,
          2,
          2,
          2,
          2,
          2,
          2,
          2,
          2,
          2,
          2,
          2,
          2,
          1,
          1,
          1,
          2,
          1,
          2,
          2,
          2,
          2,
          2,
          2,
          2,
          2,
          2,
          2,
          2,
          2,
          1,
          2,
          2,
          1,
          2,
          2,
          2,
          1,
          2,
          2,
          2,
          2,
          1,
          2,
          2,
          2,
          2,
          2,
          2,
          2,
          2,
          2,
          2,
          2,
          2,
          2,
          2,
          2,
          2,
          2,
          2,
          2,
          1,
          2,
          2,
          2,
          2,
          2,
          2,
          2,
          2,
          2,
          1,
          2,
          2,
          2,
          2,
          1,
          2,
          2,
          2,
          1,
          2,
          2,
          2,
          2,
          1,
          2,
          2,
          2,
          2,
          2,
          2,
          2,
          2,
          2,
          2,
          1,
          2,
          2,
          1,
          2,
          2,
          2,
          1,
          2,
          2,
          2,
          2,
          2,
          2,
          2,
          2,
          2,
          2,
          2,
          2,
          2,
          1,
          1,
          2,
          2,
          2,
          2,
          2,
          2,
          2,
          2,
          2,
          2,
          2,
          2,
          2,
          2,
          2,
          2,
          2,
          2,
          1,
          2,
          2,
          2,
          2,
          2,
          2,
          2,
          2,
          2,
          2,
          1,
          2,
          2,
          2,
          2,
          2,
          2,
          2,
          2,
          2,
          2,
          2
         ]
        },
        {
         "hoverinfo": "skip",
         "lat": [
          53.47946706893251,
          53.392115438280506,
          53.479927044410346,
          53.401313405426556,
          53.38439809548913,
          53.42225664562258,
          53.435290408038696,
          53.45648791762959,
          53.431167710138794,
          53.469869413578714,
          53.42008241690232,
          53.4569111160361,
          53.39994630528609,
          53.38962480224871,
          53.41160968352447,
          53.351617657840244,
          53.44966887520245,
          53.36009680289808,
          53.407106712281816,
          53.401843481914526,
          53.40892814792865,
          53.40749152098489,
          53.45360503098669,
          53.6678314482582,
          53.46993736072292,
          53.41090625518935,
          53.485769697686905,
          53.47903913146635,
          53.34772455441743,
          53.47910749848658,
          53.49466251689798,
          53.62640831447822,
          53.621474422898245,
          53.40003927613069,
          53.38055758427388,
          53.449152540322544,
          53.44962196167789,
          53.410037768348694,
          53.400430996228586,
          53.49631933279402,
          53.47848933468698,
          53.42950941779824,
          53.42600502074771,
          53.56986881619634,
          53.40588051069518,
          53.4074408877939,
          53.45255403727681,
          53.44966887520245,
          53.38714712592654,
          53.372831567836585,
          53.38066435859472,
          53.36270303304967,
          53.42194946927243,
          53.306907822136615,
          53.46417701634223,
          53.493371561294275,
          53.44610490176761,
          53.48158101021283,
          53.383301031977716,
          53.34441230265524,
          53.47437929930791,
          53.39133347026686,
          53.40902024234922,
          53.455423498396534,
          53.45891837489128,
          53.4702658240376,
          53.46531419713009,
          53.43711661328251,
          53.41301897109336,
          53.418409840441754,
          53.57057285993626,
          53.43256425627105,
          53.43650673412069,
          53.53318632886943,
          53.41243812101662,
          53.42464609757835,
          53.351461079192795,
          53.46980972092478,
          53.40892814792865,
          53.41001202268644,
          53.41240553669614,
          53.65540627877177,
          53.63645932533046,
          53.60523474087081,
          53.487669334564586,
          53.379055234022005,
          53.45633973997444,
          53.427187499034396,
          53.43840931629037,
          53.41285302799098,
          53.47848933468698,
          53.4109200577197,
          53.558837814537824,
          53.40607239666528,
          53.45172048280775,
          53.42194946927243,
          53.40488998013892,
          53.41001202268644,
          53.42222716341715,
          53.37637029994296,
          53.43845909063401,
          53.652482985835015,
          53.36739828253958,
          53.36828625565889,
          53.65177760110811,
          53.42446503875505,
          53.37450038817994,
          53.34896282813954,
          53.474379442335426,
          53.386406278216,
          53.42910378392303,
          53.41290926610343,
          53.48791652940732,
          53.40607239666528,
          53.43962198455728,
          53.39627808403586,
          53.41751429670323,
          53.43650673412069,
          53.343552373357596,
          53.41799116200887,
          53.413835536496016,
          53.369333604011544,
          53.64748767031024,
          53.47326053773067,
          53.341757563158765,
          53.40244736275407,
          53.35615190812053,
          53.447552652374156,
          53.44256203763328,
          53.36739828253958,
          53.39266939433678,
          53.41913226281736,
          53.44503244135316,
          53.406580695506705,
          53.41246815759146,
          53.4634694202197,
          53.443710081279484,
          53.46164769622954,
          53.43211795320757,
          53.3549789657585,
          53.397808538033125,
          53.40892814792865,
          53.56223678289227,
          53.421899453213705,
          53.411929787686816,
          53.644891858592224,
          53.399231788464476,
          53.49383637905234,
          53.37274631079631,
          53.43340927784029,
          53.45874548028062,
          53.44535196883245,
          53.4139774234664,
          53.39653155512801,
          53.49791135669885,
          53.409030826681516,
          53.46686519312143,
          53.42076653332622,
          53.55747166465291,
          53.4077651761994,
          53.489342683932755,
          53.46531419713009,
          53.41948249183195,
          53.429881868586556,
          53.35236734892916,
          53.41195410301462,
          53.418416822139754,
          53.41312667364045,
          53.48128065331388,
          53.644891858592224,
          53.461320238266524,
          53.46902005176156,
          53.446929331185174,
          53.490083096821465,
          53.363920138751375,
          53.37759236897662,
          53.39824204177805,
          53.63844784083177,
          53.45891837489128,
          53.454308160443745,
          53.468532612784536,
          53.44574077071152,
          53.44256203763328,
          53.407304149566485,
          53.429881868586556,
          53.4077651761994,
          53.40588051069518,
          53.36502934240193,
          53.408106270770084,
          53.41208912459497,
          53.35829442449201,
          53.461543973888496,
          53.424126257402406,
          53.36312412610851,
          53.46629136477233,
          53.48413518651102,
          53.48590156841973,
          53.36278713724,
          53.45494263590758,
          53.37729821176274,
          53.59453087781793,
          53.34532401045283,
          53.393273849667196,
          53.41639231657325,
          53.42194946927243,
          53.403721472863175,
          53.49171260684971,
          53.42258817290765,
          53.43102171119756,
          53.49980755108042,
          53.45172048280775,
          53.45733655097534,
          53.389883977487685,
          53.39252435936215,
          53.45501415026376,
          53.44452729749744,
          53.35654061392991,
          53.39653155512801,
          53.520865929464655,
          53.5576684635132,
          53.50911327590569,
          53.34787253331973,
          53.423329071767064,
          53.47067774400123,
          53.41312667364045,
          53.356183518797515,
          53.46670786233184,
          53.666338364502245
         ],
         "lon": [
          -2.868960247870969,
          -2.9204016465259253,
          -2.952120579982764,
          -2.9348368044453848,
          -2.944624291873282,
          -2.8501678183081656,
          -2.8043784690358375,
          -2.940341324407141,
          -2.9135425332827087,
          -2.9944350105232207,
          -2.9646244750169597,
          -2.741321233271815,
          -2.9016592879163565,
          -2.846754798019866,
          -2.743828112149952,
          -2.854156556576897,
          -2.9653694431328677,
          -2.754613494109046,
          -2.9555171397149618,
          -2.917149728861142,
          -2.9837257753935686,
          -2.832766645851588,
          -2.8544126543542996,
          -2.9475556298150716,
          -2.8760457604682177,
          -2.9917707160249805,
          -2.8543921609641663,
          -2.922591919732099,
          -2.888545159884441,
          -2.971849062968237,
          -2.96525216830561,
          -3.010640860976548,
          -3.0020690538014865,
          -2.9499127258116697,
          -2.961435944175713,
          -2.9100293326371127,
          -2.9822404727781686,
          -2.830964548867422,
          -2.9791900391584565,
          -3.0362637980786467,
          -3.020137126104079,
          -2.898653495860952,
          -2.9743200215863066,
          -3.058814473441467,
          -2.980330913895465,
          -2.9857005531236824,
          -2.7647908939904027,
          -2.9653694431328677,
          -2.956950281571702,
          -2.770753625319709,
          -2.7881068173430985,
          -2.7876064992303107,
          -2.932413760277352,
          -3.671941535480043,
          -2.8751328235683453,
          -2.8925318619436884,
          -2.7679236134315395,
          -2.856488723050569,
          -2.909668478621902,
          -2.8527313048173912,
          -2.9677871074751576,
          -2.9295519009504836,
          -2.9750316210112593,
          -2.9891846842932064,
          -2.981300471120738,
          -2.74854979140187,
          -2.7638495321071015,
          -2.8892155437371505,
          -2.9924573169729123,
          -2.994321468112982,
          -3.038281072758332,
          -2.7113825238848923,
          -2.937260737146558,
          -2.9266472706323716,
          -2.9311405362343588,
          -2.9151775108184386,
          -2.8760998057656315,
          -2.9313578180015285,
          -2.9837257753935686,
          -2.977517880028617,
          -2.9800719754323235,
          -3.0014500715221915,
          -3.0067781051716986,
          -3.0239075332726038,
          -2.947439064095321,
          -2.898191511493313,
          -2.7215201074760462,
          -2.984177218544132,
          -2.992950800833406,
          -2.812489756420958,
          -3.020137126104079,
          -2.9706213000337187,
          -3.0357056188310514,
          -2.9720853938931233,
          -2.747808882977331,
          -2.932413760277352,
          -2.982077439136908,
          -2.977517880028617,
          -2.7916001313229484,
          -2.8703853515597455,
          -2.8775709734550396,
          -2.988968248782947,
          -2.740444202278539,
          -2.7291945305822054,
          -2.9982128399792027,
          -2.7534875287755516,
          -2.905436851579359,
          -2.904149187611657,
          -2.9649384887407746,
          -2.7333698207740187,
          -2.826966517823932,
          -2.942257389756113,
          -3.0083395128713684,
          -2.9720853938931233,
          -2.7264307663783214,
          -2.8765731545351403,
          -2.7559673306687986,
          -2.937260737146558,
          -2.866977299909799,
          -2.980100806700297,
          -2.7714046997534156,
          -2.856473366942228,
          -2.99604512369433,
          -2.882106205341939,
          -2.8628029021536117,
          -2.987294050428071,
          -2.8994283329991966,
          -2.7252472897459086,
          -2.7180886410553797,
          -2.740444202278539,
          -2.9451651195422706,
          -2.98935797746864,
          -2.996177877444298,
          -2.82004323652281,
          -2.9882375856231698,
          -3.0063883099246227,
          -2.742191221918869,
          -2.794489318409893,
          -2.969482560184116,
          -2.761223832024802,
          -2.9663836947291573,
          -2.9837257753935686,
          -2.9631437541157677,
          -2.7931948370967605,
          -2.8424525067342894,
          -2.9553155692668853,
          -2.9854243249069237,
          -2.9813662358890363,
          -2.743967116210035,
          -2.987838877456239,
          -2.944407337081691,
          -2.930792159209246,
          -2.990683291158036,
          -2.976992206425268,
          -3.005858536309826,
          -2.9732024525533336,
          -2.9632337707027347,
          -2.897692550460257,
          -3.0571435168482646,
          -2.9829685624171707,
          -2.7816115159128953,
          -2.7638495321071015,
          -2.7196013943716837,
          -2.947351594556459,
          -2.8501776473547515,
          -2.992154277067054,
          -2.9716913605090567,
          -2.9859045849911636,
          -2.9000278654364697,
          -2.9553155692668853,
          -2.912378073327927,
          -2.8773014432124793,
          -2.751430416471552,
          -2.858714926224543,
          -2.9137600338057656,
          -2.9232148629237744,
          -2.983880135883945,
          -2.9969307425213443,
          -2.981300471120738,
          -2.9954147660155357,
          -2.987866497465608,
          -2.74117338678881,
          -2.7180886410553797,
          -2.8950654298795726,
          -2.947351594556459,
          -2.9829685624171707,
          -2.980330913895465,
          -2.78648601801278,
          -2.960789372244374,
          -2.9217472582929975,
          -2.871800347056549,
          -2.9480639359174785,
          -2.8120974661859015,
          -2.837381256099737,
          -2.8640476485669484,
          -2.889301080209952,
          -2.8784187683967017,
          -2.730174051460244,
          -2.900712599687762,
          -2.935700172044926,
          -3.028309911077536,
          -2.83344204208912,
          -2.9792414649163828,
          -2.8706839239298754,
          -2.932413760277352,
          -2.97812117943629,
          -3.0318479330590553,
          -2.8769120722004455,
          -2.9938032171006355,
          -2.796085595806899,
          -2.747808882977331,
          -2.7445084439605307,
          -2.8878759174545987,
          -2.8561470182939996,
          -2.9600903994398693,
          -2.9729233549969334,
          -2.7505693005741354,
          -2.976992206425268,
          -2.936203134759719,
          -2.9064372735872914,
          -2.941167268599754,
          -2.8777257445014435,
          -2.947050887538326,
          -2.9426641246567136,
          -2.9859045849911636,
          -2.86061189754041,
          -2.860320981173698,
          -2.9662662111307925
         ],
         "marker": {
          "color": [
           2,
           2,
           1,
           2,
           2,
           2,
           2,
           2,
           2,
           2,
           2,
           2,
           2,
           2,
           2,
           1,
           2,
           1,
           2,
           2,
           2,
           1,
           1,
           2,
           1,
           2,
           2,
           1,
           2,
           2,
           2,
           2,
           2,
           2,
           2,
           2,
           2,
           2,
           1,
           2,
           2,
           2,
           2,
           2,
           2,
           1,
           2,
           2,
           2,
           2,
           2,
           2,
           2,
           2,
           2,
           2,
           2,
           2,
           2,
           2,
           2,
           2,
           2,
           2,
           2,
           2,
           2,
           2,
           2,
           2,
           2,
           2,
           2,
           2,
           2,
           2,
           2,
           2,
           2,
           2,
           1,
           1,
           1,
           2,
           1,
           2,
           2,
           2,
           2,
           2,
           2,
           2,
           2,
           2,
           2,
           2,
           2,
           1,
           2,
           2,
           1,
           2,
           2,
           2,
           1,
           2,
           2,
           2,
           2,
           1,
           2,
           2,
           2,
           2,
           2,
           2,
           2,
           2,
           2,
           2,
           2,
           2,
           2,
           2,
           2,
           2,
           2,
           2,
           2,
           1,
           2,
           2,
           2,
           2,
           2,
           2,
           2,
           2,
           2,
           1,
           2,
           2,
           2,
           2,
           1,
           2,
           2,
           2,
           1,
           2,
           2,
           2,
           2,
           1,
           2,
           2,
           2,
           2,
           2,
           2,
           2,
           2,
           2,
           2,
           1,
           2,
           2,
           1,
           2,
           2,
           2,
           1,
           2,
           2,
           2,
           2,
           2,
           2,
           2,
           2,
           2,
           2,
           2,
           2,
           2,
           1,
           1,
           2,
           2,
           2,
           2,
           2,
           2,
           2,
           2,
           2,
           2,
           2,
           2,
           2,
           2,
           2,
           2,
           2,
           2,
           1,
           2,
           2,
           2,
           2,
           2,
           2,
           2,
           2,
           2,
           2,
           1,
           2,
           2,
           2,
           2,
           2,
           2,
           2,
           2,
           2,
           2,
           2
          ],
          "size": 8
         },
         "mode": "markers",
         "showlegend": false,
         "type": "scattermapbox"
        }
       ],
       "layout": {
        "coloraxis": {
         "colorbar": {
          "title": {
           "text": "Overall Category"
          }
         },
         "colorscale": [
          [
           0,
           "#0d0887"
          ],
          [
           0.1111111111111111,
           "#46039f"
          ],
          [
           0.2222222222222222,
           "#7201a8"
          ],
          [
           0.3333333333333333,
           "#9c179e"
          ],
          [
           0.4444444444444444,
           "#bd3786"
          ],
          [
           0.5555555555555556,
           "#d8576b"
          ],
          [
           0.6666666666666666,
           "#ed7953"
          ],
          [
           0.7777777777777778,
           "#fb9f3a"
          ],
          [
           0.8888888888888888,
           "#fdca26"
          ],
          [
           1,
           "#f0f921"
          ]
         ]
        },
        "legend": {
         "tracegroupgap": 0
        },
        "mapbox": {
         "center": {
          "lat": 53.5,
          "lon": -2.9
         },
         "domain": {
          "x": [
           0,
           1
          ],
          "y": [
           0,
           1
          ]
         },
         "style": "open-street-map",
         "zoom": 8.5
        },
        "margin": {
         "t": 60
        },
        "template": {
         "data": {
          "bar": [
           {
            "error_x": {
             "color": "#2a3f5f"
            },
            "error_y": {
             "color": "#2a3f5f"
            },
            "marker": {
             "line": {
              "color": "#E5ECF6",
              "width": 0.5
             },
             "pattern": {
              "fillmode": "overlay",
              "size": 10,
              "solidity": 0.2
             }
            },
            "type": "bar"
           }
          ],
          "barpolar": [
           {
            "marker": {
             "line": {
              "color": "#E5ECF6",
              "width": 0.5
             },
             "pattern": {
              "fillmode": "overlay",
              "size": 10,
              "solidity": 0.2
             }
            },
            "type": "barpolar"
           }
          ],
          "carpet": [
           {
            "aaxis": {
             "endlinecolor": "#2a3f5f",
             "gridcolor": "white",
             "linecolor": "white",
             "minorgridcolor": "white",
             "startlinecolor": "#2a3f5f"
            },
            "baxis": {
             "endlinecolor": "#2a3f5f",
             "gridcolor": "white",
             "linecolor": "white",
             "minorgridcolor": "white",
             "startlinecolor": "#2a3f5f"
            },
            "type": "carpet"
           }
          ],
          "choropleth": [
           {
            "colorbar": {
             "outlinewidth": 0,
             "ticks": ""
            },
            "type": "choropleth"
           }
          ],
          "contour": [
           {
            "colorbar": {
             "outlinewidth": 0,
             "ticks": ""
            },
            "colorscale": [
             [
              0,
              "#0d0887"
             ],
             [
              0.1111111111111111,
              "#46039f"
             ],
             [
              0.2222222222222222,
              "#7201a8"
             ],
             [
              0.3333333333333333,
              "#9c179e"
             ],
             [
              0.4444444444444444,
              "#bd3786"
             ],
             [
              0.5555555555555556,
              "#d8576b"
             ],
             [
              0.6666666666666666,
              "#ed7953"
             ],
             [
              0.7777777777777778,
              "#fb9f3a"
             ],
             [
              0.8888888888888888,
              "#fdca26"
             ],
             [
              1,
              "#f0f921"
             ]
            ],
            "type": "contour"
           }
          ],
          "contourcarpet": [
           {
            "colorbar": {
             "outlinewidth": 0,
             "ticks": ""
            },
            "type": "contourcarpet"
           }
          ],
          "heatmap": [
           {
            "colorbar": {
             "outlinewidth": 0,
             "ticks": ""
            },
            "colorscale": [
             [
              0,
              "#0d0887"
             ],
             [
              0.1111111111111111,
              "#46039f"
             ],
             [
              0.2222222222222222,
              "#7201a8"
             ],
             [
              0.3333333333333333,
              "#9c179e"
             ],
             [
              0.4444444444444444,
              "#bd3786"
             ],
             [
              0.5555555555555556,
              "#d8576b"
             ],
             [
              0.6666666666666666,
              "#ed7953"
             ],
             [
              0.7777777777777778,
              "#fb9f3a"
             ],
             [
              0.8888888888888888,
              "#fdca26"
             ],
             [
              1,
              "#f0f921"
             ]
            ],
            "type": "heatmap"
           }
          ],
          "heatmapgl": [
           {
            "colorbar": {
             "outlinewidth": 0,
             "ticks": ""
            },
            "colorscale": [
             [
              0,
              "#0d0887"
             ],
             [
              0.1111111111111111,
              "#46039f"
             ],
             [
              0.2222222222222222,
              "#7201a8"
             ],
             [
              0.3333333333333333,
              "#9c179e"
             ],
             [
              0.4444444444444444,
              "#bd3786"
             ],
             [
              0.5555555555555556,
              "#d8576b"
             ],
             [
              0.6666666666666666,
              "#ed7953"
             ],
             [
              0.7777777777777778,
              "#fb9f3a"
             ],
             [
              0.8888888888888888,
              "#fdca26"
             ],
             [
              1,
              "#f0f921"
             ]
            ],
            "type": "heatmapgl"
           }
          ],
          "histogram": [
           {
            "marker": {
             "pattern": {
              "fillmode": "overlay",
              "size": 10,
              "solidity": 0.2
             }
            },
            "type": "histogram"
           }
          ],
          "histogram2d": [
           {
            "colorbar": {
             "outlinewidth": 0,
             "ticks": ""
            },
            "colorscale": [
             [
              0,
              "#0d0887"
             ],
             [
              0.1111111111111111,
              "#46039f"
             ],
             [
              0.2222222222222222,
              "#7201a8"
             ],
             [
              0.3333333333333333,
              "#9c179e"
             ],
             [
              0.4444444444444444,
              "#bd3786"
             ],
             [
              0.5555555555555556,
              "#d8576b"
             ],
             [
              0.6666666666666666,
              "#ed7953"
             ],
             [
              0.7777777777777778,
              "#fb9f3a"
             ],
             [
              0.8888888888888888,
              "#fdca26"
             ],
             [
              1,
              "#f0f921"
             ]
            ],
            "type": "histogram2d"
           }
          ],
          "histogram2dcontour": [
           {
            "colorbar": {
             "outlinewidth": 0,
             "ticks": ""
            },
            "colorscale": [
             [
              0,
              "#0d0887"
             ],
             [
              0.1111111111111111,
              "#46039f"
             ],
             [
              0.2222222222222222,
              "#7201a8"
             ],
             [
              0.3333333333333333,
              "#9c179e"
             ],
             [
              0.4444444444444444,
              "#bd3786"
             ],
             [
              0.5555555555555556,
              "#d8576b"
             ],
             [
              0.6666666666666666,
              "#ed7953"
             ],
             [
              0.7777777777777778,
              "#fb9f3a"
             ],
             [
              0.8888888888888888,
              "#fdca26"
             ],
             [
              1,
              "#f0f921"
             ]
            ],
            "type": "histogram2dcontour"
           }
          ],
          "mesh3d": [
           {
            "colorbar": {
             "outlinewidth": 0,
             "ticks": ""
            },
            "type": "mesh3d"
           }
          ],
          "parcoords": [
           {
            "line": {
             "colorbar": {
              "outlinewidth": 0,
              "ticks": ""
             }
            },
            "type": "parcoords"
           }
          ],
          "pie": [
           {
            "automargin": true,
            "type": "pie"
           }
          ],
          "scatter": [
           {
            "fillpattern": {
             "fillmode": "overlay",
             "size": 10,
             "solidity": 0.2
            },
            "type": "scatter"
           }
          ],
          "scatter3d": [
           {
            "line": {
             "colorbar": {
              "outlinewidth": 0,
              "ticks": ""
             }
            },
            "marker": {
             "colorbar": {
              "outlinewidth": 0,
              "ticks": ""
             }
            },
            "type": "scatter3d"
           }
          ],
          "scattercarpet": [
           {
            "marker": {
             "colorbar": {
              "outlinewidth": 0,
              "ticks": ""
             }
            },
            "type": "scattercarpet"
           }
          ],
          "scattergeo": [
           {
            "marker": {
             "colorbar": {
              "outlinewidth": 0,
              "ticks": ""
             }
            },
            "type": "scattergeo"
           }
          ],
          "scattergl": [
           {
            "marker": {
             "colorbar": {
              "outlinewidth": 0,
              "ticks": ""
             }
            },
            "type": "scattergl"
           }
          ],
          "scattermapbox": [
           {
            "marker": {
             "colorbar": {
              "outlinewidth": 0,
              "ticks": ""
             }
            },
            "type": "scattermapbox"
           }
          ],
          "scatterpolar": [
           {
            "marker": {
             "colorbar": {
              "outlinewidth": 0,
              "ticks": ""
             }
            },
            "type": "scatterpolar"
           }
          ],
          "scatterpolargl": [
           {
            "marker": {
             "colorbar": {
              "outlinewidth": 0,
              "ticks": ""
             }
            },
            "type": "scatterpolargl"
           }
          ],
          "scatterternary": [
           {
            "marker": {
             "colorbar": {
              "outlinewidth": 0,
              "ticks": ""
             }
            },
            "type": "scatterternary"
           }
          ],
          "surface": [
           {
            "colorbar": {
             "outlinewidth": 0,
             "ticks": ""
            },
            "colorscale": [
             [
              0,
              "#0d0887"
             ],
             [
              0.1111111111111111,
              "#46039f"
             ],
             [
              0.2222222222222222,
              "#7201a8"
             ],
             [
              0.3333333333333333,
              "#9c179e"
             ],
             [
              0.4444444444444444,
              "#bd3786"
             ],
             [
              0.5555555555555556,
              "#d8576b"
             ],
             [
              0.6666666666666666,
              "#ed7953"
             ],
             [
              0.7777777777777778,
              "#fb9f3a"
             ],
             [
              0.8888888888888888,
              "#fdca26"
             ],
             [
              1,
              "#f0f921"
             ]
            ],
            "type": "surface"
           }
          ],
          "table": [
           {
            "cells": {
             "fill": {
              "color": "#EBF0F8"
             },
             "line": {
              "color": "white"
             }
            },
            "header": {
             "fill": {
              "color": "#C8D4E3"
             },
             "line": {
              "color": "white"
             }
            },
            "type": "table"
           }
          ]
         },
         "layout": {
          "annotationdefaults": {
           "arrowcolor": "#2a3f5f",
           "arrowhead": 0,
           "arrowwidth": 1
          },
          "autotypenumbers": "strict",
          "coloraxis": {
           "colorbar": {
            "outlinewidth": 0,
            "ticks": ""
           }
          },
          "colorscale": {
           "diverging": [
            [
             0,
             "#8e0152"
            ],
            [
             0.1,
             "#c51b7d"
            ],
            [
             0.2,
             "#de77ae"
            ],
            [
             0.3,
             "#f1b6da"
            ],
            [
             0.4,
             "#fde0ef"
            ],
            [
             0.5,
             "#f7f7f7"
            ],
            [
             0.6,
             "#e6f5d0"
            ],
            [
             0.7,
             "#b8e186"
            ],
            [
             0.8,
             "#7fbc41"
            ],
            [
             0.9,
             "#4d9221"
            ],
            [
             1,
             "#276419"
            ]
           ],
           "sequential": [
            [
             0,
             "#0d0887"
            ],
            [
             0.1111111111111111,
             "#46039f"
            ],
            [
             0.2222222222222222,
             "#7201a8"
            ],
            [
             0.3333333333333333,
             "#9c179e"
            ],
            [
             0.4444444444444444,
             "#bd3786"
            ],
            [
             0.5555555555555556,
             "#d8576b"
            ],
            [
             0.6666666666666666,
             "#ed7953"
            ],
            [
             0.7777777777777778,
             "#fb9f3a"
            ],
            [
             0.8888888888888888,
             "#fdca26"
            ],
            [
             1,
             "#f0f921"
            ]
           ],
           "sequentialminus": [
            [
             0,
             "#0d0887"
            ],
            [
             0.1111111111111111,
             "#46039f"
            ],
            [
             0.2222222222222222,
             "#7201a8"
            ],
            [
             0.3333333333333333,
             "#9c179e"
            ],
            [
             0.4444444444444444,
             "#bd3786"
            ],
            [
             0.5555555555555556,
             "#d8576b"
            ],
            [
             0.6666666666666666,
             "#ed7953"
            ],
            [
             0.7777777777777778,
             "#fb9f3a"
            ],
            [
             0.8888888888888888,
             "#fdca26"
            ],
            [
             1,
             "#f0f921"
            ]
           ]
          },
          "colorway": [
           "#636efa",
           "#EF553B",
           "#00cc96",
           "#ab63fa",
           "#FFA15A",
           "#19d3f3",
           "#FF6692",
           "#B6E880",
           "#FF97FF",
           "#FECB52"
          ],
          "font": {
           "color": "#2a3f5f"
          },
          "geo": {
           "bgcolor": "white",
           "lakecolor": "white",
           "landcolor": "#E5ECF6",
           "showlakes": true,
           "showland": true,
           "subunitcolor": "white"
          },
          "hoverlabel": {
           "align": "left"
          },
          "hovermode": "closest",
          "mapbox": {
           "style": "light"
          },
          "paper_bgcolor": "white",
          "plot_bgcolor": "#E5ECF6",
          "polar": {
           "angularaxis": {
            "gridcolor": "white",
            "linecolor": "white",
            "ticks": ""
           },
           "bgcolor": "#E5ECF6",
           "radialaxis": {
            "gridcolor": "white",
            "linecolor": "white",
            "ticks": ""
           }
          },
          "scene": {
           "xaxis": {
            "backgroundcolor": "#E5ECF6",
            "gridcolor": "white",
            "gridwidth": 2,
            "linecolor": "white",
            "showbackground": true,
            "ticks": "",
            "zerolinecolor": "white"
           },
           "yaxis": {
            "backgroundcolor": "#E5ECF6",
            "gridcolor": "white",
            "gridwidth": 2,
            "linecolor": "white",
            "showbackground": true,
            "ticks": "",
            "zerolinecolor": "white"
           },
           "zaxis": {
            "backgroundcolor": "#E5ECF6",
            "gridcolor": "white",
            "gridwidth": 2,
            "linecolor": "white",
            "showbackground": true,
            "ticks": "",
            "zerolinecolor": "white"
           }
          },
          "shapedefaults": {
           "line": {
            "color": "#2a3f5f"
           }
          },
          "ternary": {
           "aaxis": {
            "gridcolor": "white",
            "linecolor": "white",
            "ticks": ""
           },
           "baxis": {
            "gridcolor": "white",
            "linecolor": "white",
            "ticks": ""
           },
           "bgcolor": "#E5ECF6",
           "caxis": {
            "gridcolor": "white",
            "linecolor": "white",
            "ticks": ""
           }
          },
          "title": {
           "x": 0.05
          },
          "xaxis": {
           "automargin": true,
           "gridcolor": "white",
           "linecolor": "white",
           "ticks": "",
           "title": {
            "standoff": 15
           },
           "zerolinecolor": "white",
           "zerolinewidth": 2
          },
          "yaxis": {
           "automargin": true,
           "gridcolor": "white",
           "linecolor": "white",
           "ticks": "",
           "title": {
            "standoff": 15
           },
           "zerolinecolor": "white",
           "zerolinewidth": 2
          }
         }
        }
       }
      }
     },
     "metadata": {},
     "output_type": "display_data"
    }
   ],
   "source": [
    "fig = px.density_mapbox(df_pri_m.replace({'RED':2, 'AMBER':1}), lat='lat', lon='long', z='Overall Category', radius=15,\n",
    "                        center=dict(lat=53.5, lon=-2.9), zoom=8.5, hover_name='Substation Name',\n",
    "                        mapbox_style=\"open-street-map\")\n",
    "\n",
    "fig.add_trace(go.Scattermapbox(lat=df_pri_m['lat'], lon=df_pri_m['long'], mode='markers', showlegend=False, hoverinfo='skip',\n",
    "                               marker={'color':df_pri_m['Overall Category'].replace({'RED':2, 'AMBER':1}), 'size':8}))\n",
    "\n",
    "fig.show()"
   ]
  },
  {
   "cell_type": "code",
   "execution_count": 251,
   "metadata": {},
   "outputs": [
    {
     "data": {
      "application/vnd.plotly.v1+json": {
       "config": {
        "plotlyServerURL": "https://plot.ly"
       },
       "data": [
        {
         "coloraxis": "coloraxis",
         "hovertemplate": "<b>%{hovertext}</b><br><br>Overall Category=%{z}<br>lat=%{lat}<br>long=%{lon}<extra></extra>",
         "hovertext": [
          "AINTREE",
          "FORMBY",
          "LISTER DRIVE",
          "FORMBY",
          "GATEACRE",
          "PRESCOT",
          "HALEWOOD",
          "PRESCOT",
          "WIDNES",
          "LITHERLAND",
          "GILLMOSS",
          "LITHERLAND",
          "GARSTON",
          "HUYTON",
          "SIMONSWOOD",
          "ST HELENS",
          "WINDLE",
          "FAZAKERLEY",
          "BOLD",
          "PARADISE STREET",
          "SPEKE",
          "KIRKBY",
          "SPEKE",
          "RAVENHEAD",
          "BOOTLE",
          "BURLINGTON STREET",
          "LISTER DRIVE",
          "LISTER DRIVE",
          "BOLD",
          "BOOTLE",
          "SOUTHPORT",
          "RAVENHEAD",
          "AINTREE",
          "ST HELENS",
          "BURLINGTON STREET",
          "GILLMOSS",
          "KIRKBY",
          "SPARLING STREET",
          "WAVERTREE"
         ],
         "lat": [
          53.493005136660415,
          53.5575541170844,
          53.42129638818907,
          53.5575541170844,
          53.3943911744227,
          53.423880928628485,
          53.35574382997622,
          53.423880928628485,
          53.36200191436967,
          53.478069728382124,
          53.464575886061766,
          53.478069728382124,
          53.356249314775425,
          53.42516014937205,
          53.492392402601936,
          53.45308366414815,
          53.46853232672875,
          53.463075583116904,
          53.4345718971501,
          53.40490350558064,
          53.35520255955055,
          53.47089207107864,
          53.35520255955055,
          53.44638977132877,
          53.45923139893787,
          53.42133243462447,
          53.42129638818907,
          53.42129638818907,
          53.4345718971501,
          53.45923139893787,
          53.64484014004931,
          53.44638977132877,
          53.493005136660415,
          53.45308366414815,
          53.42133243462447,
          53.464575886061766,
          53.47089207107864,
          53.40159900721322,
          53.39205435444187
         ],
         "lon": [
          -2.9465805315672626,
          -3.0323140531145283,
          -2.928357791199963,
          -3.0323140531145283,
          -2.848298920501172,
          -2.8121323138460963,
          -2.838922279332908,
          -2.8121323138460963,
          -2.7549122598825115,
          -3.0029093146955272,
          -2.8999356468209103,
          -3.0029093146955272,
          -2.8994580701678823,
          -2.8660996522717457,
          -2.8651654249932705,
          -2.770001472946819,
          -2.754084433996893,
          -2.941199316253274,
          -2.711801099705087,
          -2.982295267448238,
          -2.8564907556814036,
          -2.855142299687652,
          -2.8564907556814036,
          -2.7561301279427073,
          -2.9813946675959606,
          -2.98978842607609,
          -2.928357791199963,
          -2.928357791199963,
          -2.711801099705087,
          -2.9813946675959606,
          -2.9552951463190724,
          -2.7561301279427073,
          -2.9465805315672626,
          -2.770001472946819,
          -2.98978842607609,
          -2.8999356468209103,
          -2.855142299687652,
          -2.981651056897432,
          -2.919678816619778
         ],
         "name": "",
         "radius": 15,
         "subplot": "mapbox",
         "type": "densitymapbox",
         "z": [
          2,
          2,
          1,
          2,
          2,
          2,
          2,
          2,
          2,
          2,
          2,
          2,
          1,
          2,
          2,
          2,
          2,
          2,
          2,
          1,
          1,
          2,
          2,
          2,
          2,
          1,
          1,
          1,
          2,
          1,
          2,
          2,
          2,
          2,
          1,
          2,
          2,
          1,
          1
         ]
        },
        {
         "hoverinfo": "skip",
         "lat": [
          53.493005136660415,
          53.5575541170844,
          53.42129638818907,
          53.5575541170844,
          53.3943911744227,
          53.423880928628485,
          53.35574382997622,
          53.423880928628485,
          53.36200191436967,
          53.478069728382124,
          53.464575886061766,
          53.478069728382124,
          53.356249314775425,
          53.42516014937205,
          53.492392402601936,
          53.45308366414815,
          53.46853232672875,
          53.463075583116904,
          53.4345718971501,
          53.40490350558064,
          53.35520255955055,
          53.47089207107864,
          53.35520255955055,
          53.44638977132877,
          53.45923139893787,
          53.42133243462447,
          53.42129638818907,
          53.42129638818907,
          53.4345718971501,
          53.45923139893787,
          53.64484014004931,
          53.44638977132877,
          53.493005136660415,
          53.45308366414815,
          53.42133243462447,
          53.464575886061766,
          53.47089207107864,
          53.40159900721322,
          53.39205435444187
         ],
         "lon": [
          -2.9465805315672626,
          -3.0323140531145283,
          -2.928357791199963,
          -3.0323140531145283,
          -2.848298920501172,
          -2.8121323138460963,
          -2.838922279332908,
          -2.8121323138460963,
          -2.7549122598825115,
          -3.0029093146955272,
          -2.8999356468209103,
          -3.0029093146955272,
          -2.8994580701678823,
          -2.8660996522717457,
          -2.8651654249932705,
          -2.770001472946819,
          -2.754084433996893,
          -2.941199316253274,
          -2.711801099705087,
          -2.982295267448238,
          -2.8564907556814036,
          -2.855142299687652,
          -2.8564907556814036,
          -2.7561301279427073,
          -2.9813946675959606,
          -2.98978842607609,
          -2.928357791199963,
          -2.928357791199963,
          -2.711801099705087,
          -2.9813946675959606,
          -2.9552951463190724,
          -2.7561301279427073,
          -2.9465805315672626,
          -2.770001472946819,
          -2.98978842607609,
          -2.8999356468209103,
          -2.855142299687652,
          -2.981651056897432,
          -2.919678816619778
         ],
         "marker": {
          "color": [
           2,
           2,
           1,
           2,
           2,
           2,
           2,
           2,
           2,
           2,
           2,
           2,
           1,
           2,
           2,
           2,
           2,
           2,
           2,
           1,
           1,
           2,
           2,
           2,
           2,
           1,
           1,
           1,
           2,
           1,
           2,
           2,
           2,
           2,
           1,
           2,
           2,
           1,
           1
          ],
          "size": 8
         },
         "mode": "markers",
         "showlegend": false,
         "type": "scattermapbox"
        }
       ],
       "layout": {
        "coloraxis": {
         "colorbar": {
          "title": {
           "text": "Overall Category"
          }
         },
         "colorscale": [
          [
           0,
           "#0d0887"
          ],
          [
           0.1111111111111111,
           "#46039f"
          ],
          [
           0.2222222222222222,
           "#7201a8"
          ],
          [
           0.3333333333333333,
           "#9c179e"
          ],
          [
           0.4444444444444444,
           "#bd3786"
          ],
          [
           0.5555555555555556,
           "#d8576b"
          ],
          [
           0.6666666666666666,
           "#ed7953"
          ],
          [
           0.7777777777777778,
           "#fb9f3a"
          ],
          [
           0.8888888888888888,
           "#fdca26"
          ],
          [
           1,
           "#f0f921"
          ]
         ]
        },
        "legend": {
         "tracegroupgap": 0
        },
        "mapbox": {
         "center": {
          "lat": 53.5,
          "lon": -2.9
         },
         "domain": {
          "x": [
           0,
           1
          ],
          "y": [
           0,
           1
          ]
         },
         "style": "open-street-map",
         "zoom": 8.5
        },
        "margin": {
         "t": 60
        },
        "template": {
         "data": {
          "bar": [
           {
            "error_x": {
             "color": "#2a3f5f"
            },
            "error_y": {
             "color": "#2a3f5f"
            },
            "marker": {
             "line": {
              "color": "#E5ECF6",
              "width": 0.5
             },
             "pattern": {
              "fillmode": "overlay",
              "size": 10,
              "solidity": 0.2
             }
            },
            "type": "bar"
           }
          ],
          "barpolar": [
           {
            "marker": {
             "line": {
              "color": "#E5ECF6",
              "width": 0.5
             },
             "pattern": {
              "fillmode": "overlay",
              "size": 10,
              "solidity": 0.2
             }
            },
            "type": "barpolar"
           }
          ],
          "carpet": [
           {
            "aaxis": {
             "endlinecolor": "#2a3f5f",
             "gridcolor": "white",
             "linecolor": "white",
             "minorgridcolor": "white",
             "startlinecolor": "#2a3f5f"
            },
            "baxis": {
             "endlinecolor": "#2a3f5f",
             "gridcolor": "white",
             "linecolor": "white",
             "minorgridcolor": "white",
             "startlinecolor": "#2a3f5f"
            },
            "type": "carpet"
           }
          ],
          "choropleth": [
           {
            "colorbar": {
             "outlinewidth": 0,
             "ticks": ""
            },
            "type": "choropleth"
           }
          ],
          "contour": [
           {
            "colorbar": {
             "outlinewidth": 0,
             "ticks": ""
            },
            "colorscale": [
             [
              0,
              "#0d0887"
             ],
             [
              0.1111111111111111,
              "#46039f"
             ],
             [
              0.2222222222222222,
              "#7201a8"
             ],
             [
              0.3333333333333333,
              "#9c179e"
             ],
             [
              0.4444444444444444,
              "#bd3786"
             ],
             [
              0.5555555555555556,
              "#d8576b"
             ],
             [
              0.6666666666666666,
              "#ed7953"
             ],
             [
              0.7777777777777778,
              "#fb9f3a"
             ],
             [
              0.8888888888888888,
              "#fdca26"
             ],
             [
              1,
              "#f0f921"
             ]
            ],
            "type": "contour"
           }
          ],
          "contourcarpet": [
           {
            "colorbar": {
             "outlinewidth": 0,
             "ticks": ""
            },
            "type": "contourcarpet"
           }
          ],
          "heatmap": [
           {
            "colorbar": {
             "outlinewidth": 0,
             "ticks": ""
            },
            "colorscale": [
             [
              0,
              "#0d0887"
             ],
             [
              0.1111111111111111,
              "#46039f"
             ],
             [
              0.2222222222222222,
              "#7201a8"
             ],
             [
              0.3333333333333333,
              "#9c179e"
             ],
             [
              0.4444444444444444,
              "#bd3786"
             ],
             [
              0.5555555555555556,
              "#d8576b"
             ],
             [
              0.6666666666666666,
              "#ed7953"
             ],
             [
              0.7777777777777778,
              "#fb9f3a"
             ],
             [
              0.8888888888888888,
              "#fdca26"
             ],
             [
              1,
              "#f0f921"
             ]
            ],
            "type": "heatmap"
           }
          ],
          "heatmapgl": [
           {
            "colorbar": {
             "outlinewidth": 0,
             "ticks": ""
            },
            "colorscale": [
             [
              0,
              "#0d0887"
             ],
             [
              0.1111111111111111,
              "#46039f"
             ],
             [
              0.2222222222222222,
              "#7201a8"
             ],
             [
              0.3333333333333333,
              "#9c179e"
             ],
             [
              0.4444444444444444,
              "#bd3786"
             ],
             [
              0.5555555555555556,
              "#d8576b"
             ],
             [
              0.6666666666666666,
              "#ed7953"
             ],
             [
              0.7777777777777778,
              "#fb9f3a"
             ],
             [
              0.8888888888888888,
              "#fdca26"
             ],
             [
              1,
              "#f0f921"
             ]
            ],
            "type": "heatmapgl"
           }
          ],
          "histogram": [
           {
            "marker": {
             "pattern": {
              "fillmode": "overlay",
              "size": 10,
              "solidity": 0.2
             }
            },
            "type": "histogram"
           }
          ],
          "histogram2d": [
           {
            "colorbar": {
             "outlinewidth": 0,
             "ticks": ""
            },
            "colorscale": [
             [
              0,
              "#0d0887"
             ],
             [
              0.1111111111111111,
              "#46039f"
             ],
             [
              0.2222222222222222,
              "#7201a8"
             ],
             [
              0.3333333333333333,
              "#9c179e"
             ],
             [
              0.4444444444444444,
              "#bd3786"
             ],
             [
              0.5555555555555556,
              "#d8576b"
             ],
             [
              0.6666666666666666,
              "#ed7953"
             ],
             [
              0.7777777777777778,
              "#fb9f3a"
             ],
             [
              0.8888888888888888,
              "#fdca26"
             ],
             [
              1,
              "#f0f921"
             ]
            ],
            "type": "histogram2d"
           }
          ],
          "histogram2dcontour": [
           {
            "colorbar": {
             "outlinewidth": 0,
             "ticks": ""
            },
            "colorscale": [
             [
              0,
              "#0d0887"
             ],
             [
              0.1111111111111111,
              "#46039f"
             ],
             [
              0.2222222222222222,
              "#7201a8"
             ],
             [
              0.3333333333333333,
              "#9c179e"
             ],
             [
              0.4444444444444444,
              "#bd3786"
             ],
             [
              0.5555555555555556,
              "#d8576b"
             ],
             [
              0.6666666666666666,
              "#ed7953"
             ],
             [
              0.7777777777777778,
              "#fb9f3a"
             ],
             [
              0.8888888888888888,
              "#fdca26"
             ],
             [
              1,
              "#f0f921"
             ]
            ],
            "type": "histogram2dcontour"
           }
          ],
          "mesh3d": [
           {
            "colorbar": {
             "outlinewidth": 0,
             "ticks": ""
            },
            "type": "mesh3d"
           }
          ],
          "parcoords": [
           {
            "line": {
             "colorbar": {
              "outlinewidth": 0,
              "ticks": ""
             }
            },
            "type": "parcoords"
           }
          ],
          "pie": [
           {
            "automargin": true,
            "type": "pie"
           }
          ],
          "scatter": [
           {
            "fillpattern": {
             "fillmode": "overlay",
             "size": 10,
             "solidity": 0.2
            },
            "type": "scatter"
           }
          ],
          "scatter3d": [
           {
            "line": {
             "colorbar": {
              "outlinewidth": 0,
              "ticks": ""
             }
            },
            "marker": {
             "colorbar": {
              "outlinewidth": 0,
              "ticks": ""
             }
            },
            "type": "scatter3d"
           }
          ],
          "scattercarpet": [
           {
            "marker": {
             "colorbar": {
              "outlinewidth": 0,
              "ticks": ""
             }
            },
            "type": "scattercarpet"
           }
          ],
          "scattergeo": [
           {
            "marker": {
             "colorbar": {
              "outlinewidth": 0,
              "ticks": ""
             }
            },
            "type": "scattergeo"
           }
          ],
          "scattergl": [
           {
            "marker": {
             "colorbar": {
              "outlinewidth": 0,
              "ticks": ""
             }
            },
            "type": "scattergl"
           }
          ],
          "scattermapbox": [
           {
            "marker": {
             "colorbar": {
              "outlinewidth": 0,
              "ticks": ""
             }
            },
            "type": "scattermapbox"
           }
          ],
          "scatterpolar": [
           {
            "marker": {
             "colorbar": {
              "outlinewidth": 0,
              "ticks": ""
             }
            },
            "type": "scatterpolar"
           }
          ],
          "scatterpolargl": [
           {
            "marker": {
             "colorbar": {
              "outlinewidth": 0,
              "ticks": ""
             }
            },
            "type": "scatterpolargl"
           }
          ],
          "scatterternary": [
           {
            "marker": {
             "colorbar": {
              "outlinewidth": 0,
              "ticks": ""
             }
            },
            "type": "scatterternary"
           }
          ],
          "surface": [
           {
            "colorbar": {
             "outlinewidth": 0,
             "ticks": ""
            },
            "colorscale": [
             [
              0,
              "#0d0887"
             ],
             [
              0.1111111111111111,
              "#46039f"
             ],
             [
              0.2222222222222222,
              "#7201a8"
             ],
             [
              0.3333333333333333,
              "#9c179e"
             ],
             [
              0.4444444444444444,
              "#bd3786"
             ],
             [
              0.5555555555555556,
              "#d8576b"
             ],
             [
              0.6666666666666666,
              "#ed7953"
             ],
             [
              0.7777777777777778,
              "#fb9f3a"
             ],
             [
              0.8888888888888888,
              "#fdca26"
             ],
             [
              1,
              "#f0f921"
             ]
            ],
            "type": "surface"
           }
          ],
          "table": [
           {
            "cells": {
             "fill": {
              "color": "#EBF0F8"
             },
             "line": {
              "color": "white"
             }
            },
            "header": {
             "fill": {
              "color": "#C8D4E3"
             },
             "line": {
              "color": "white"
             }
            },
            "type": "table"
           }
          ]
         },
         "layout": {
          "annotationdefaults": {
           "arrowcolor": "#2a3f5f",
           "arrowhead": 0,
           "arrowwidth": 1
          },
          "autotypenumbers": "strict",
          "coloraxis": {
           "colorbar": {
            "outlinewidth": 0,
            "ticks": ""
           }
          },
          "colorscale": {
           "diverging": [
            [
             0,
             "#8e0152"
            ],
            [
             0.1,
             "#c51b7d"
            ],
            [
             0.2,
             "#de77ae"
            ],
            [
             0.3,
             "#f1b6da"
            ],
            [
             0.4,
             "#fde0ef"
            ],
            [
             0.5,
             "#f7f7f7"
            ],
            [
             0.6,
             "#e6f5d0"
            ],
            [
             0.7,
             "#b8e186"
            ],
            [
             0.8,
             "#7fbc41"
            ],
            [
             0.9,
             "#4d9221"
            ],
            [
             1,
             "#276419"
            ]
           ],
           "sequential": [
            [
             0,
             "#0d0887"
            ],
            [
             0.1111111111111111,
             "#46039f"
            ],
            [
             0.2222222222222222,
             "#7201a8"
            ],
            [
             0.3333333333333333,
             "#9c179e"
            ],
            [
             0.4444444444444444,
             "#bd3786"
            ],
            [
             0.5555555555555556,
             "#d8576b"
            ],
            [
             0.6666666666666666,
             "#ed7953"
            ],
            [
             0.7777777777777778,
             "#fb9f3a"
            ],
            [
             0.8888888888888888,
             "#fdca26"
            ],
            [
             1,
             "#f0f921"
            ]
           ],
           "sequentialminus": [
            [
             0,
             "#0d0887"
            ],
            [
             0.1111111111111111,
             "#46039f"
            ],
            [
             0.2222222222222222,
             "#7201a8"
            ],
            [
             0.3333333333333333,
             "#9c179e"
            ],
            [
             0.4444444444444444,
             "#bd3786"
            ],
            [
             0.5555555555555556,
             "#d8576b"
            ],
            [
             0.6666666666666666,
             "#ed7953"
            ],
            [
             0.7777777777777778,
             "#fb9f3a"
            ],
            [
             0.8888888888888888,
             "#fdca26"
            ],
            [
             1,
             "#f0f921"
            ]
           ]
          },
          "colorway": [
           "#636efa",
           "#EF553B",
           "#00cc96",
           "#ab63fa",
           "#FFA15A",
           "#19d3f3",
           "#FF6692",
           "#B6E880",
           "#FF97FF",
           "#FECB52"
          ],
          "font": {
           "color": "#2a3f5f"
          },
          "geo": {
           "bgcolor": "white",
           "lakecolor": "white",
           "landcolor": "#E5ECF6",
           "showlakes": true,
           "showland": true,
           "subunitcolor": "white"
          },
          "hoverlabel": {
           "align": "left"
          },
          "hovermode": "closest",
          "mapbox": {
           "style": "light"
          },
          "paper_bgcolor": "white",
          "plot_bgcolor": "#E5ECF6",
          "polar": {
           "angularaxis": {
            "gridcolor": "white",
            "linecolor": "white",
            "ticks": ""
           },
           "bgcolor": "#E5ECF6",
           "radialaxis": {
            "gridcolor": "white",
            "linecolor": "white",
            "ticks": ""
           }
          },
          "scene": {
           "xaxis": {
            "backgroundcolor": "#E5ECF6",
            "gridcolor": "white",
            "gridwidth": 2,
            "linecolor": "white",
            "showbackground": true,
            "ticks": "",
            "zerolinecolor": "white"
           },
           "yaxis": {
            "backgroundcolor": "#E5ECF6",
            "gridcolor": "white",
            "gridwidth": 2,
            "linecolor": "white",
            "showbackground": true,
            "ticks": "",
            "zerolinecolor": "white"
           },
           "zaxis": {
            "backgroundcolor": "#E5ECF6",
            "gridcolor": "white",
            "gridwidth": 2,
            "linecolor": "white",
            "showbackground": true,
            "ticks": "",
            "zerolinecolor": "white"
           }
          },
          "shapedefaults": {
           "line": {
            "color": "#2a3f5f"
           }
          },
          "ternary": {
           "aaxis": {
            "gridcolor": "white",
            "linecolor": "white",
            "ticks": ""
           },
           "baxis": {
            "gridcolor": "white",
            "linecolor": "white",
            "ticks": ""
           },
           "bgcolor": "#E5ECF6",
           "caxis": {
            "gridcolor": "white",
            "linecolor": "white",
            "ticks": ""
           }
          },
          "title": {
           "x": 0.05
          },
          "xaxis": {
           "automargin": true,
           "gridcolor": "white",
           "linecolor": "white",
           "ticks": "",
           "title": {
            "standoff": 15
           },
           "zerolinecolor": "white",
           "zerolinewidth": 2
          },
          "yaxis": {
           "automargin": true,
           "gridcolor": "white",
           "linecolor": "white",
           "ticks": "",
           "title": {
            "standoff": 15
           },
           "zerolinecolor": "white",
           "zerolinewidth": 2
          }
         }
        }
       }
      }
     },
     "metadata": {},
     "output_type": "display_data"
    }
   ],
   "source": [
    "fig = px.density_mapbox(df_grid_m.replace({'RED':2, 'AMBER':1}), lat='lat', lon='long', z='Overall Category', radius=15,\n",
    "                        center=dict(lat=53.5, lon=-2.9), zoom=8.5, hover_name='Substation Name',\n",
    "                        mapbox_style=\"open-street-map\")\n",
    "fig.add_trace(go.Scattermapbox(lat=df_grid_m['lat'], lon=df_grid_m['long'], mode='markers', showlegend=False, hoverinfo='skip',\n",
    "                               marker={'color':df_grid_m['Overall Category'].replace({'RED':2, 'AMBER':1}), 'size':8}))\n",
    "fig.show()"
   ]
  },
  {
   "cell_type": "code",
   "execution_count": 252,
   "metadata": {},
   "outputs": [
    {
     "data": {
      "application/vnd.plotly.v1+json": {
       "config": {
        "plotlyServerURL": "https://plot.ly"
       },
       "data": [
        {
         "coloraxis": "coloraxis",
         "hovertemplate": "<b>%{hovertext}</b><br><br>Overall Category=%{z}<br>lat=%{lat}<br>long=%{lon}<extra></extra>",
         "hovertext": [
          "CUERDLEY",
          "KIRKBY",
          "RAINHILL",
          "LISTER DRIVE"
         ],
         "lat": [
          53.3712478550079,
          53.47089207107864,
          53.42219083361591,
          53.421845226686614
         ],
         "lon": [
          -2.707984494855204,
          -2.855142299687652,
          -2.7533186889338075,
          -2.9299747593685947
         ],
         "name": "",
         "radius": 20,
         "subplot": "mapbox",
         "type": "densitymapbox",
         "z": [
          2,
          2,
          2,
          1
         ]
        },
        {
         "hoverinfo": "skip",
         "lat": [
          53.3712478550079,
          53.47089207107864,
          53.42219083361591,
          53.421845226686614
         ],
         "lon": [
          -2.707984494855204,
          -2.855142299687652,
          -2.7533186889338075,
          -2.9299747593685947
         ],
         "marker": {
          "color": [
           2,
           2,
           2,
           1
          ],
          "size": 10
         },
         "mode": "markers",
         "showlegend": false,
         "type": "scattermapbox"
        }
       ],
       "layout": {
        "coloraxis": {
         "colorbar": {
          "title": {
           "text": "Overall Category"
          }
         },
         "colorscale": [
          [
           0,
           "#0d0887"
          ],
          [
           0.1111111111111111,
           "#46039f"
          ],
          [
           0.2222222222222222,
           "#7201a8"
          ],
          [
           0.3333333333333333,
           "#9c179e"
          ],
          [
           0.4444444444444444,
           "#bd3786"
          ],
          [
           0.5555555555555556,
           "#d8576b"
          ],
          [
           0.6666666666666666,
           "#ed7953"
          ],
          [
           0.7777777777777778,
           "#fb9f3a"
          ],
          [
           0.8888888888888888,
           "#fdca26"
          ],
          [
           1,
           "#f0f921"
          ]
         ]
        },
        "legend": {
         "tracegroupgap": 0
        },
        "mapbox": {
         "center": {
          "lat": 53.5,
          "lon": -2.9
         },
         "domain": {
          "x": [
           0,
           1
          ],
          "y": [
           0,
           1
          ]
         },
         "style": "open-street-map",
         "zoom": 8.5
        },
        "margin": {
         "t": 60
        },
        "template": {
         "data": {
          "bar": [
           {
            "error_x": {
             "color": "#2a3f5f"
            },
            "error_y": {
             "color": "#2a3f5f"
            },
            "marker": {
             "line": {
              "color": "#E5ECF6",
              "width": 0.5
             },
             "pattern": {
              "fillmode": "overlay",
              "size": 10,
              "solidity": 0.2
             }
            },
            "type": "bar"
           }
          ],
          "barpolar": [
           {
            "marker": {
             "line": {
              "color": "#E5ECF6",
              "width": 0.5
             },
             "pattern": {
              "fillmode": "overlay",
              "size": 10,
              "solidity": 0.2
             }
            },
            "type": "barpolar"
           }
          ],
          "carpet": [
           {
            "aaxis": {
             "endlinecolor": "#2a3f5f",
             "gridcolor": "white",
             "linecolor": "white",
             "minorgridcolor": "white",
             "startlinecolor": "#2a3f5f"
            },
            "baxis": {
             "endlinecolor": "#2a3f5f",
             "gridcolor": "white",
             "linecolor": "white",
             "minorgridcolor": "white",
             "startlinecolor": "#2a3f5f"
            },
            "type": "carpet"
           }
          ],
          "choropleth": [
           {
            "colorbar": {
             "outlinewidth": 0,
             "ticks": ""
            },
            "type": "choropleth"
           }
          ],
          "contour": [
           {
            "colorbar": {
             "outlinewidth": 0,
             "ticks": ""
            },
            "colorscale": [
             [
              0,
              "#0d0887"
             ],
             [
              0.1111111111111111,
              "#46039f"
             ],
             [
              0.2222222222222222,
              "#7201a8"
             ],
             [
              0.3333333333333333,
              "#9c179e"
             ],
             [
              0.4444444444444444,
              "#bd3786"
             ],
             [
              0.5555555555555556,
              "#d8576b"
             ],
             [
              0.6666666666666666,
              "#ed7953"
             ],
             [
              0.7777777777777778,
              "#fb9f3a"
             ],
             [
              0.8888888888888888,
              "#fdca26"
             ],
             [
              1,
              "#f0f921"
             ]
            ],
            "type": "contour"
           }
          ],
          "contourcarpet": [
           {
            "colorbar": {
             "outlinewidth": 0,
             "ticks": ""
            },
            "type": "contourcarpet"
           }
          ],
          "heatmap": [
           {
            "colorbar": {
             "outlinewidth": 0,
             "ticks": ""
            },
            "colorscale": [
             [
              0,
              "#0d0887"
             ],
             [
              0.1111111111111111,
              "#46039f"
             ],
             [
              0.2222222222222222,
              "#7201a8"
             ],
             [
              0.3333333333333333,
              "#9c179e"
             ],
             [
              0.4444444444444444,
              "#bd3786"
             ],
             [
              0.5555555555555556,
              "#d8576b"
             ],
             [
              0.6666666666666666,
              "#ed7953"
             ],
             [
              0.7777777777777778,
              "#fb9f3a"
             ],
             [
              0.8888888888888888,
              "#fdca26"
             ],
             [
              1,
              "#f0f921"
             ]
            ],
            "type": "heatmap"
           }
          ],
          "heatmapgl": [
           {
            "colorbar": {
             "outlinewidth": 0,
             "ticks": ""
            },
            "colorscale": [
             [
              0,
              "#0d0887"
             ],
             [
              0.1111111111111111,
              "#46039f"
             ],
             [
              0.2222222222222222,
              "#7201a8"
             ],
             [
              0.3333333333333333,
              "#9c179e"
             ],
             [
              0.4444444444444444,
              "#bd3786"
             ],
             [
              0.5555555555555556,
              "#d8576b"
             ],
             [
              0.6666666666666666,
              "#ed7953"
             ],
             [
              0.7777777777777778,
              "#fb9f3a"
             ],
             [
              0.8888888888888888,
              "#fdca26"
             ],
             [
              1,
              "#f0f921"
             ]
            ],
            "type": "heatmapgl"
           }
          ],
          "histogram": [
           {
            "marker": {
             "pattern": {
              "fillmode": "overlay",
              "size": 10,
              "solidity": 0.2
             }
            },
            "type": "histogram"
           }
          ],
          "histogram2d": [
           {
            "colorbar": {
             "outlinewidth": 0,
             "ticks": ""
            },
            "colorscale": [
             [
              0,
              "#0d0887"
             ],
             [
              0.1111111111111111,
              "#46039f"
             ],
             [
              0.2222222222222222,
              "#7201a8"
             ],
             [
              0.3333333333333333,
              "#9c179e"
             ],
             [
              0.4444444444444444,
              "#bd3786"
             ],
             [
              0.5555555555555556,
              "#d8576b"
             ],
             [
              0.6666666666666666,
              "#ed7953"
             ],
             [
              0.7777777777777778,
              "#fb9f3a"
             ],
             [
              0.8888888888888888,
              "#fdca26"
             ],
             [
              1,
              "#f0f921"
             ]
            ],
            "type": "histogram2d"
           }
          ],
          "histogram2dcontour": [
           {
            "colorbar": {
             "outlinewidth": 0,
             "ticks": ""
            },
            "colorscale": [
             [
              0,
              "#0d0887"
             ],
             [
              0.1111111111111111,
              "#46039f"
             ],
             [
              0.2222222222222222,
              "#7201a8"
             ],
             [
              0.3333333333333333,
              "#9c179e"
             ],
             [
              0.4444444444444444,
              "#bd3786"
             ],
             [
              0.5555555555555556,
              "#d8576b"
             ],
             [
              0.6666666666666666,
              "#ed7953"
             ],
             [
              0.7777777777777778,
              "#fb9f3a"
             ],
             [
              0.8888888888888888,
              "#fdca26"
             ],
             [
              1,
              "#f0f921"
             ]
            ],
            "type": "histogram2dcontour"
           }
          ],
          "mesh3d": [
           {
            "colorbar": {
             "outlinewidth": 0,
             "ticks": ""
            },
            "type": "mesh3d"
           }
          ],
          "parcoords": [
           {
            "line": {
             "colorbar": {
              "outlinewidth": 0,
              "ticks": ""
             }
            },
            "type": "parcoords"
           }
          ],
          "pie": [
           {
            "automargin": true,
            "type": "pie"
           }
          ],
          "scatter": [
           {
            "fillpattern": {
             "fillmode": "overlay",
             "size": 10,
             "solidity": 0.2
            },
            "type": "scatter"
           }
          ],
          "scatter3d": [
           {
            "line": {
             "colorbar": {
              "outlinewidth": 0,
              "ticks": ""
             }
            },
            "marker": {
             "colorbar": {
              "outlinewidth": 0,
              "ticks": ""
             }
            },
            "type": "scatter3d"
           }
          ],
          "scattercarpet": [
           {
            "marker": {
             "colorbar": {
              "outlinewidth": 0,
              "ticks": ""
             }
            },
            "type": "scattercarpet"
           }
          ],
          "scattergeo": [
           {
            "marker": {
             "colorbar": {
              "outlinewidth": 0,
              "ticks": ""
             }
            },
            "type": "scattergeo"
           }
          ],
          "scattergl": [
           {
            "marker": {
             "colorbar": {
              "outlinewidth": 0,
              "ticks": ""
             }
            },
            "type": "scattergl"
           }
          ],
          "scattermapbox": [
           {
            "marker": {
             "colorbar": {
              "outlinewidth": 0,
              "ticks": ""
             }
            },
            "type": "scattermapbox"
           }
          ],
          "scatterpolar": [
           {
            "marker": {
             "colorbar": {
              "outlinewidth": 0,
              "ticks": ""
             }
            },
            "type": "scatterpolar"
           }
          ],
          "scatterpolargl": [
           {
            "marker": {
             "colorbar": {
              "outlinewidth": 0,
              "ticks": ""
             }
            },
            "type": "scatterpolargl"
           }
          ],
          "scatterternary": [
           {
            "marker": {
             "colorbar": {
              "outlinewidth": 0,
              "ticks": ""
             }
            },
            "type": "scatterternary"
           }
          ],
          "surface": [
           {
            "colorbar": {
             "outlinewidth": 0,
             "ticks": ""
            },
            "colorscale": [
             [
              0,
              "#0d0887"
             ],
             [
              0.1111111111111111,
              "#46039f"
             ],
             [
              0.2222222222222222,
              "#7201a8"
             ],
             [
              0.3333333333333333,
              "#9c179e"
             ],
             [
              0.4444444444444444,
              "#bd3786"
             ],
             [
              0.5555555555555556,
              "#d8576b"
             ],
             [
              0.6666666666666666,
              "#ed7953"
             ],
             [
              0.7777777777777778,
              "#fb9f3a"
             ],
             [
              0.8888888888888888,
              "#fdca26"
             ],
             [
              1,
              "#f0f921"
             ]
            ],
            "type": "surface"
           }
          ],
          "table": [
           {
            "cells": {
             "fill": {
              "color": "#EBF0F8"
             },
             "line": {
              "color": "white"
             }
            },
            "header": {
             "fill": {
              "color": "#C8D4E3"
             },
             "line": {
              "color": "white"
             }
            },
            "type": "table"
           }
          ]
         },
         "layout": {
          "annotationdefaults": {
           "arrowcolor": "#2a3f5f",
           "arrowhead": 0,
           "arrowwidth": 1
          },
          "autotypenumbers": "strict",
          "coloraxis": {
           "colorbar": {
            "outlinewidth": 0,
            "ticks": ""
           }
          },
          "colorscale": {
           "diverging": [
            [
             0,
             "#8e0152"
            ],
            [
             0.1,
             "#c51b7d"
            ],
            [
             0.2,
             "#de77ae"
            ],
            [
             0.3,
             "#f1b6da"
            ],
            [
             0.4,
             "#fde0ef"
            ],
            [
             0.5,
             "#f7f7f7"
            ],
            [
             0.6,
             "#e6f5d0"
            ],
            [
             0.7,
             "#b8e186"
            ],
            [
             0.8,
             "#7fbc41"
            ],
            [
             0.9,
             "#4d9221"
            ],
            [
             1,
             "#276419"
            ]
           ],
           "sequential": [
            [
             0,
             "#0d0887"
            ],
            [
             0.1111111111111111,
             "#46039f"
            ],
            [
             0.2222222222222222,
             "#7201a8"
            ],
            [
             0.3333333333333333,
             "#9c179e"
            ],
            [
             0.4444444444444444,
             "#bd3786"
            ],
            [
             0.5555555555555556,
             "#d8576b"
            ],
            [
             0.6666666666666666,
             "#ed7953"
            ],
            [
             0.7777777777777778,
             "#fb9f3a"
            ],
            [
             0.8888888888888888,
             "#fdca26"
            ],
            [
             1,
             "#f0f921"
            ]
           ],
           "sequentialminus": [
            [
             0,
             "#0d0887"
            ],
            [
             0.1111111111111111,
             "#46039f"
            ],
            [
             0.2222222222222222,
             "#7201a8"
            ],
            [
             0.3333333333333333,
             "#9c179e"
            ],
            [
             0.4444444444444444,
             "#bd3786"
            ],
            [
             0.5555555555555556,
             "#d8576b"
            ],
            [
             0.6666666666666666,
             "#ed7953"
            ],
            [
             0.7777777777777778,
             "#fb9f3a"
            ],
            [
             0.8888888888888888,
             "#fdca26"
            ],
            [
             1,
             "#f0f921"
            ]
           ]
          },
          "colorway": [
           "#636efa",
           "#EF553B",
           "#00cc96",
           "#ab63fa",
           "#FFA15A",
           "#19d3f3",
           "#FF6692",
           "#B6E880",
           "#FF97FF",
           "#FECB52"
          ],
          "font": {
           "color": "#2a3f5f"
          },
          "geo": {
           "bgcolor": "white",
           "lakecolor": "white",
           "landcolor": "#E5ECF6",
           "showlakes": true,
           "showland": true,
           "subunitcolor": "white"
          },
          "hoverlabel": {
           "align": "left"
          },
          "hovermode": "closest",
          "mapbox": {
           "style": "light"
          },
          "paper_bgcolor": "white",
          "plot_bgcolor": "#E5ECF6",
          "polar": {
           "angularaxis": {
            "gridcolor": "white",
            "linecolor": "white",
            "ticks": ""
           },
           "bgcolor": "#E5ECF6",
           "radialaxis": {
            "gridcolor": "white",
            "linecolor": "white",
            "ticks": ""
           }
          },
          "scene": {
           "xaxis": {
            "backgroundcolor": "#E5ECF6",
            "gridcolor": "white",
            "gridwidth": 2,
            "linecolor": "white",
            "showbackground": true,
            "ticks": "",
            "zerolinecolor": "white"
           },
           "yaxis": {
            "backgroundcolor": "#E5ECF6",
            "gridcolor": "white",
            "gridwidth": 2,
            "linecolor": "white",
            "showbackground": true,
            "ticks": "",
            "zerolinecolor": "white"
           },
           "zaxis": {
            "backgroundcolor": "#E5ECF6",
            "gridcolor": "white",
            "gridwidth": 2,
            "linecolor": "white",
            "showbackground": true,
            "ticks": "",
            "zerolinecolor": "white"
           }
          },
          "shapedefaults": {
           "line": {
            "color": "#2a3f5f"
           }
          },
          "ternary": {
           "aaxis": {
            "gridcolor": "white",
            "linecolor": "white",
            "ticks": ""
           },
           "baxis": {
            "gridcolor": "white",
            "linecolor": "white",
            "ticks": ""
           },
           "bgcolor": "#E5ECF6",
           "caxis": {
            "gridcolor": "white",
            "linecolor": "white",
            "ticks": ""
           }
          },
          "title": {
           "x": 0.05
          },
          "xaxis": {
           "automargin": true,
           "gridcolor": "white",
           "linecolor": "white",
           "ticks": "",
           "title": {
            "standoff": 15
           },
           "zerolinecolor": "white",
           "zerolinewidth": 2
          },
          "yaxis": {
           "automargin": true,
           "gridcolor": "white",
           "linecolor": "white",
           "ticks": "",
           "title": {
            "standoff": 15
           },
           "zerolinecolor": "white",
           "zerolinewidth": 2
          }
         }
        }
       }
      }
     },
     "metadata": {},
     "output_type": "display_data"
    }
   ],
   "source": [
    "fig = px.density_mapbox(df_sup_m.replace({'RED':2, 'AMBER':1}), lat='lat', lon='long', z='Overall Category', radius=20,\n",
    "                        center=dict(lat=53.5, lon=-2.9), zoom=8.5, hover_name='Substation Name',\n",
    "                        mapbox_style=\"open-street-map\")\n",
    "# fix missing data point of 1 category by adding trace (similar to scattermapbox)\n",
    "fig.add_trace(go.Scattermapbox(lat=df_sup_m['lat'], lon=df_sup_m['long'], mode='markers', showlegend=False, hoverinfo='skip',\n",
    "                               marker={'color':df_sup_m['Overall Category'].replace({'RED':2, 'AMBER':1}), 'size':10}))\n",
    "fig.show()"
   ]
  },
  {
   "cell_type": "markdown",
   "metadata": {},
   "source": [
    "## flows"
   ]
  },
  {
   "cell_type": "code",
   "execution_count": 253,
   "metadata": {},
   "outputs": [
    {
     "data": {
      "text/html": [
       "<div>\n",
       "<style scoped>\n",
       "    .dataframe tbody tr th:only-of-type {\n",
       "        vertical-align: middle;\n",
       "    }\n",
       "\n",
       "    .dataframe tbody tr th {\n",
       "        vertical-align: top;\n",
       "    }\n",
       "\n",
       "    .dataframe thead th {\n",
       "        text-align: right;\n",
       "    }\n",
       "</style>\n",
       "<table border=\"1\" class=\"dataframe\">\n",
       "  <thead>\n",
       "    <tr style=\"text-align: right;\">\n",
       "      <th></th>\n",
       "      <th>timestamp</th>\n",
       "      <th>time_zone_offset</th>\n",
       "      <th>net_mw</th>\n",
       "      <th>net_amps</th>\n",
       "      <th>net_mvar</th>\n",
       "      <th>filter_mw</th>\n",
       "      <th>filter_amp</th>\n",
       "      <th>filter_mvar</th>\n",
       "      <th>filtered_manual_int</th>\n",
       "      <th>generation_output_mw</th>\n",
       "      <th>underlying_demand_mw</th>\n",
       "      <th>group_id</th>\n",
       "      <th>service_area</th>\n",
       "      <th>district</th>\n",
       "      <th>group_name</th>\n",
       "      <th>voltage</th>\n",
       "    </tr>\n",
       "  </thead>\n",
       "  <tbody>\n",
       "    <tr>\n",
       "      <th>0</th>\n",
       "      <td>2023-12-30 05:30:00</td>\n",
       "      <td>0</td>\n",
       "      <td>4.410</td>\n",
       "      <td>0.0</td>\n",
       "      <td>0.609</td>\n",
       "      <td>NaN</td>\n",
       "      <td>NaN</td>\n",
       "      <td>NaN</td>\n",
       "      <td>None</td>\n",
       "      <td>0.0</td>\n",
       "      <td>4.410</td>\n",
       "      <td>91025</td>\n",
       "      <td>SPM</td>\n",
       "      <td>Merseyside</td>\n",
       "      <td>ATHOL ST T1 / CHISENHALE ST T1 / SANDHILLS LA T1</td>\n",
       "      <td>HV</td>\n",
       "    </tr>\n",
       "    <tr>\n",
       "      <th>1</th>\n",
       "      <td>2023-12-30 06:00:00</td>\n",
       "      <td>0</td>\n",
       "      <td>4.398</td>\n",
       "      <td>0.0</td>\n",
       "      <td>0.609</td>\n",
       "      <td>NaN</td>\n",
       "      <td>NaN</td>\n",
       "      <td>NaN</td>\n",
       "      <td>None</td>\n",
       "      <td>0.0</td>\n",
       "      <td>4.398</td>\n",
       "      <td>91025</td>\n",
       "      <td>SPM</td>\n",
       "      <td>Merseyside</td>\n",
       "      <td>ATHOL ST T1 / CHISENHALE ST T1 / SANDHILLS LA T1</td>\n",
       "      <td>HV</td>\n",
       "    </tr>\n",
       "    <tr>\n",
       "      <th>2</th>\n",
       "      <td>2023-12-30 06:30:00</td>\n",
       "      <td>0</td>\n",
       "      <td>4.323</td>\n",
       "      <td>0.0</td>\n",
       "      <td>0.149</td>\n",
       "      <td>NaN</td>\n",
       "      <td>NaN</td>\n",
       "      <td>NaN</td>\n",
       "      <td>None</td>\n",
       "      <td>0.0</td>\n",
       "      <td>4.323</td>\n",
       "      <td>91025</td>\n",
       "      <td>SPM</td>\n",
       "      <td>Merseyside</td>\n",
       "      <td>ATHOL ST T1 / CHISENHALE ST T1 / SANDHILLS LA T1</td>\n",
       "      <td>HV</td>\n",
       "    </tr>\n",
       "    <tr>\n",
       "      <th>3</th>\n",
       "      <td>2023-12-30 07:00:00</td>\n",
       "      <td>0</td>\n",
       "      <td>4.323</td>\n",
       "      <td>0.0</td>\n",
       "      <td>0.141</td>\n",
       "      <td>NaN</td>\n",
       "      <td>NaN</td>\n",
       "      <td>NaN</td>\n",
       "      <td>None</td>\n",
       "      <td>0.0</td>\n",
       "      <td>4.323</td>\n",
       "      <td>91025</td>\n",
       "      <td>SPM</td>\n",
       "      <td>Merseyside</td>\n",
       "      <td>ATHOL ST T1 / CHISENHALE ST T1 / SANDHILLS LA T1</td>\n",
       "      <td>HV</td>\n",
       "    </tr>\n",
       "    <tr>\n",
       "      <th>4</th>\n",
       "      <td>2023-12-30 07:30:00</td>\n",
       "      <td>0</td>\n",
       "      <td>4.481</td>\n",
       "      <td>0.0</td>\n",
       "      <td>0.117</td>\n",
       "      <td>NaN</td>\n",
       "      <td>NaN</td>\n",
       "      <td>NaN</td>\n",
       "      <td>None</td>\n",
       "      <td>0.0</td>\n",
       "      <td>4.481</td>\n",
       "      <td>91025</td>\n",
       "      <td>SPM</td>\n",
       "      <td>Merseyside</td>\n",
       "      <td>ATHOL ST T1 / CHISENHALE ST T1 / SANDHILLS LA T1</td>\n",
       "      <td>HV</td>\n",
       "    </tr>\n",
       "  </tbody>\n",
       "</table>\n",
       "</div>"
      ],
      "text/plain": [
       "            timestamp  time_zone_offset  net_mw  net_amps  net_mvar  \\\n",
       "0 2023-12-30 05:30:00                 0   4.410       0.0     0.609   \n",
       "1 2023-12-30 06:00:00                 0   4.398       0.0     0.609   \n",
       "2 2023-12-30 06:30:00                 0   4.323       0.0     0.149   \n",
       "3 2023-12-30 07:00:00                 0   4.323       0.0     0.141   \n",
       "4 2023-12-30 07:30:00                 0   4.481       0.0     0.117   \n",
       "\n",
       "   filter_mw  filter_amp  filter_mvar filtered_manual_int  \\\n",
       "0        NaN         NaN          NaN                None   \n",
       "1        NaN         NaN          NaN                None   \n",
       "2        NaN         NaN          NaN                None   \n",
       "3        NaN         NaN          NaN                None   \n",
       "4        NaN         NaN          NaN                None   \n",
       "\n",
       "   generation_output_mw  underlying_demand_mw group_id service_area  \\\n",
       "0                   0.0                 4.410    91025          SPM   \n",
       "1                   0.0                 4.398    91025          SPM   \n",
       "2                   0.0                 4.323    91025          SPM   \n",
       "3                   0.0                 4.323    91025          SPM   \n",
       "4                   0.0                 4.481    91025          SPM   \n",
       "\n",
       "     district                                        group_name voltage  \n",
       "0  Merseyside  ATHOL ST T1 / CHISENHALE ST T1 / SANDHILLS LA T1      HV  \n",
       "1  Merseyside  ATHOL ST T1 / CHISENHALE ST T1 / SANDHILLS LA T1      HV  \n",
       "2  Merseyside  ATHOL ST T1 / CHISENHALE ST T1 / SANDHILLS LA T1      HV  \n",
       "3  Merseyside  ATHOL ST T1 / CHISENHALE ST T1 / SANDHILLS LA T1      HV  \n",
       "4  Merseyside  ATHOL ST T1 / CHISENHALE ST T1 / SANDHILLS LA T1      HV  "
      ]
     },
     "execution_count": 253,
     "metadata": {},
     "output_type": "execute_result"
    }
   ],
   "source": [
    "df_flow = pd.read_parquet('flow.parquet')\n",
    "df_flow.head()"
   ]
  },
  {
   "cell_type": "code",
   "execution_count": 254,
   "metadata": {},
   "outputs": [
    {
     "name": "stdout",
     "output_type": "stream",
     "text": [
      "<class 'pandas.core.frame.DataFrame'>\n",
      "Int64Index: 1623175 entries, 0 to 1623174\n",
      "Data columns (total 16 columns):\n",
      " #   Column                Non-Null Count    Dtype         \n",
      "---  ------                --------------    -----         \n",
      " 0   timestamp             1623175 non-null  datetime64[ns]\n",
      " 1   time_zone_offset      1623175 non-null  int64         \n",
      " 2   net_mw                1623175 non-null  float64       \n",
      " 3   net_amps              1623175 non-null  float64       \n",
      " 4   net_mvar              1623175 non-null  float64       \n",
      " 5   filter_mw             216031 non-null   float64       \n",
      " 6   filter_amp            216031 non-null   float64       \n",
      " 7   filter_mvar           216031 non-null   float64       \n",
      " 8   filtered_manual_int   107867 non-null   object        \n",
      " 9   generation_output_mw  1623175 non-null  float64       \n",
      " 10  underlying_demand_mw  1623175 non-null  float64       \n",
      " 11  group_id              1623175 non-null  object        \n",
      " 12  service_area          1623175 non-null  object        \n",
      " 13  district              1623175 non-null  object        \n",
      " 14  group_name            1623175 non-null  object        \n",
      " 15  voltage               1623175 non-null  object        \n",
      "dtypes: datetime64[ns](1), float64(8), int64(1), object(6)\n",
      "memory usage: 210.5+ MB\n"
     ]
    }
   ],
   "source": [
    "df_flow_m = df_flow.query('district == \"Merseyside\"').replace('', np.nan)\n",
    "df_flow_m.info()"
   ]
  },
  {
   "cell_type": "code",
   "execution_count": 255,
   "metadata": {},
   "outputs": [
    {
     "data": {
      "text/plain": [
       "min   2023-09-01 01:30:00\n",
       "max   2024-09-08 04:00:00\n",
       "Name: timestamp, dtype: datetime64[ns]"
      ]
     },
     "execution_count": 255,
     "metadata": {},
     "output_type": "execute_result"
    }
   ],
   "source": [
    "df_flow_m['timestamp'].agg(['min', 'max'])"
   ]
  },
  {
   "cell_type": "code",
   "execution_count": 256,
   "metadata": {},
   "outputs": [
    {
     "data": {
      "text/plain": [
       "net_mw                  2.453140e+07\n",
       "underlying_demand_mw    2.704555e+07\n",
       "dtype: float64"
      ]
     },
     "execution_count": 256,
     "metadata": {},
     "output_type": "execute_result"
    }
   ],
   "source": [
    "df_flow_m[['net_mw', 'underlying_demand_mw']].sum()"
   ]
  },
  {
   "cell_type": "markdown",
   "metadata": {},
   "source": [
    "### KPIs"
   ]
  },
  {
   "cell_type": "code",
   "execution_count": 257,
   "metadata": {},
   "outputs": [],
   "source": [
    "df_flow_m['date'] = pd.to_datetime(df_flow_m['timestamp'].dt.date)\n",
    "df_flow_m['time'] = df_flow_m['timestamp'].dt.time"
   ]
  },
  {
   "cell_type": "markdown",
   "metadata": {},
   "source": [
    "#### half-hourly"
   ]
  },
  {
   "cell_type": "code",
   "execution_count": 258,
   "metadata": {},
   "outputs": [
    {
     "data": {
      "text/html": [
       "<div>\n",
       "<style scoped>\n",
       "    .dataframe tbody tr th:only-of-type {\n",
       "        vertical-align: middle;\n",
       "    }\n",
       "\n",
       "    .dataframe tbody tr th {\n",
       "        vertical-align: top;\n",
       "    }\n",
       "\n",
       "    .dataframe thead th {\n",
       "        text-align: right;\n",
       "    }\n",
       "</style>\n",
       "<table border=\"1\" class=\"dataframe\">\n",
       "  <thead>\n",
       "    <tr style=\"text-align: right;\">\n",
       "      <th></th>\n",
       "      <th>time</th>\n",
       "      <th>underlying_demand_mw</th>\n",
       "    </tr>\n",
       "  </thead>\n",
       "  <tbody>\n",
       "    <tr>\n",
       "      <th>0</th>\n",
       "      <td>00:00:00</td>\n",
       "      <td>15.052279</td>\n",
       "    </tr>\n",
       "    <tr>\n",
       "      <th>1</th>\n",
       "      <td>00:30:00</td>\n",
       "      <td>14.598988</td>\n",
       "    </tr>\n",
       "    <tr>\n",
       "      <th>2</th>\n",
       "      <td>01:00:00</td>\n",
       "      <td>14.035200</td>\n",
       "    </tr>\n",
       "    <tr>\n",
       "      <th>3</th>\n",
       "      <td>01:30:00</td>\n",
       "      <td>13.736485</td>\n",
       "    </tr>\n",
       "    <tr>\n",
       "      <th>4</th>\n",
       "      <td>02:00:00</td>\n",
       "      <td>13.389943</td>\n",
       "    </tr>\n",
       "    <tr>\n",
       "      <th>5</th>\n",
       "      <td>02:30:00</td>\n",
       "      <td>13.186770</td>\n",
       "    </tr>\n",
       "    <tr>\n",
       "      <th>6</th>\n",
       "      <td>03:00:00</td>\n",
       "      <td>12.768177</td>\n",
       "    </tr>\n",
       "    <tr>\n",
       "      <th>7</th>\n",
       "      <td>03:30:00</td>\n",
       "      <td>12.642261</td>\n",
       "    </tr>\n",
       "    <tr>\n",
       "      <th>8</th>\n",
       "      <td>04:00:00</td>\n",
       "      <td>11.807121</td>\n",
       "    </tr>\n",
       "    <tr>\n",
       "      <th>9</th>\n",
       "      <td>04:30:00</td>\n",
       "      <td>12.408647</td>\n",
       "    </tr>\n",
       "    <tr>\n",
       "      <th>10</th>\n",
       "      <td>05:00:00</td>\n",
       "      <td>12.404827</td>\n",
       "    </tr>\n",
       "    <tr>\n",
       "      <th>11</th>\n",
       "      <td>05:30:00</td>\n",
       "      <td>12.349058</td>\n",
       "    </tr>\n",
       "    <tr>\n",
       "      <th>12</th>\n",
       "      <td>06:00:00</td>\n",
       "      <td>12.471197</td>\n",
       "    </tr>\n",
       "    <tr>\n",
       "      <th>13</th>\n",
       "      <td>06:30:00</td>\n",
       "      <td>12.779607</td>\n",
       "    </tr>\n",
       "    <tr>\n",
       "      <th>14</th>\n",
       "      <td>07:00:00</td>\n",
       "      <td>13.575621</td>\n",
       "    </tr>\n",
       "    <tr>\n",
       "      <th>15</th>\n",
       "      <td>07:30:00</td>\n",
       "      <td>14.304469</td>\n",
       "    </tr>\n",
       "    <tr>\n",
       "      <th>16</th>\n",
       "      <td>08:00:00</td>\n",
       "      <td>15.426278</td>\n",
       "    </tr>\n",
       "    <tr>\n",
       "      <th>17</th>\n",
       "      <td>08:30:00</td>\n",
       "      <td>16.184114</td>\n",
       "    </tr>\n",
       "    <tr>\n",
       "      <th>18</th>\n",
       "      <td>09:00:00</td>\n",
       "      <td>16.990755</td>\n",
       "    </tr>\n",
       "    <tr>\n",
       "      <th>19</th>\n",
       "      <td>09:30:00</td>\n",
       "      <td>17.512380</td>\n",
       "    </tr>\n",
       "    <tr>\n",
       "      <th>20</th>\n",
       "      <td>10:00:00</td>\n",
       "      <td>18.102200</td>\n",
       "    </tr>\n",
       "    <tr>\n",
       "      <th>21</th>\n",
       "      <td>10:30:00</td>\n",
       "      <td>18.386415</td>\n",
       "    </tr>\n",
       "    <tr>\n",
       "      <th>22</th>\n",
       "      <td>11:00:00</td>\n",
       "      <td>18.693248</td>\n",
       "    </tr>\n",
       "    <tr>\n",
       "      <th>23</th>\n",
       "      <td>11:30:00</td>\n",
       "      <td>18.834691</td>\n",
       "    </tr>\n",
       "    <tr>\n",
       "      <th>24</th>\n",
       "      <td>12:00:00</td>\n",
       "      <td>18.975363</td>\n",
       "    </tr>\n",
       "    <tr>\n",
       "      <th>25</th>\n",
       "      <td>12:30:00</td>\n",
       "      <td>19.041281</td>\n",
       "    </tr>\n",
       "    <tr>\n",
       "      <th>26</th>\n",
       "      <td>13:00:00</td>\n",
       "      <td>19.067316</td>\n",
       "    </tr>\n",
       "    <tr>\n",
       "      <th>27</th>\n",
       "      <td>13:30:00</td>\n",
       "      <td>19.050664</td>\n",
       "    </tr>\n",
       "    <tr>\n",
       "      <th>28</th>\n",
       "      <td>14:00:00</td>\n",
       "      <td>18.895720</td>\n",
       "    </tr>\n",
       "    <tr>\n",
       "      <th>29</th>\n",
       "      <td>14:30:00</td>\n",
       "      <td>18.799292</td>\n",
       "    </tr>\n",
       "    <tr>\n",
       "      <th>30</th>\n",
       "      <td>15:00:00</td>\n",
       "      <td>18.676133</td>\n",
       "    </tr>\n",
       "    <tr>\n",
       "      <th>31</th>\n",
       "      <td>15:30:00</td>\n",
       "      <td>18.583249</td>\n",
       "    </tr>\n",
       "    <tr>\n",
       "      <th>32</th>\n",
       "      <td>16:00:00</td>\n",
       "      <td>18.670113</td>\n",
       "    </tr>\n",
       "    <tr>\n",
       "      <th>33</th>\n",
       "      <td>16:30:00</td>\n",
       "      <td>18.797544</td>\n",
       "    </tr>\n",
       "    <tr>\n",
       "      <th>34</th>\n",
       "      <td>17:00:00</td>\n",
       "      <td>19.133579</td>\n",
       "    </tr>\n",
       "    <tr>\n",
       "      <th>35</th>\n",
       "      <td>17:30:00</td>\n",
       "      <td>19.384899</td>\n",
       "    </tr>\n",
       "    <tr>\n",
       "      <th>36</th>\n",
       "      <td>18:00:00</td>\n",
       "      <td>19.698142</td>\n",
       "    </tr>\n",
       "    <tr>\n",
       "      <th>37</th>\n",
       "      <td>18:30:00</td>\n",
       "      <td>19.807648</td>\n",
       "    </tr>\n",
       "    <tr>\n",
       "      <th>38</th>\n",
       "      <td>19:00:00</td>\n",
       "      <td>19.692919</td>\n",
       "    </tr>\n",
       "    <tr>\n",
       "      <th>39</th>\n",
       "      <td>19:30:00</td>\n",
       "      <td>19.562482</td>\n",
       "    </tr>\n",
       "    <tr>\n",
       "      <th>40</th>\n",
       "      <td>20:00:00</td>\n",
       "      <td>19.258424</td>\n",
       "    </tr>\n",
       "    <tr>\n",
       "      <th>41</th>\n",
       "      <td>20:30:00</td>\n",
       "      <td>19.023826</td>\n",
       "    </tr>\n",
       "    <tr>\n",
       "      <th>42</th>\n",
       "      <td>21:00:00</td>\n",
       "      <td>18.630606</td>\n",
       "    </tr>\n",
       "    <tr>\n",
       "      <th>43</th>\n",
       "      <td>21:30:00</td>\n",
       "      <td>18.319911</td>\n",
       "    </tr>\n",
       "    <tr>\n",
       "      <th>44</th>\n",
       "      <td>22:00:00</td>\n",
       "      <td>17.718458</td>\n",
       "    </tr>\n",
       "    <tr>\n",
       "      <th>45</th>\n",
       "      <td>22:30:00</td>\n",
       "      <td>17.249849</td>\n",
       "    </tr>\n",
       "    <tr>\n",
       "      <th>46</th>\n",
       "      <td>23:00:00</td>\n",
       "      <td>16.413470</td>\n",
       "    </tr>\n",
       "    <tr>\n",
       "      <th>47</th>\n",
       "      <td>23:30:00</td>\n",
       "      <td>15.917027</td>\n",
       "    </tr>\n",
       "  </tbody>\n",
       "</table>\n",
       "</div>"
      ],
      "text/plain": [
       "        time  underlying_demand_mw\n",
       "0   00:00:00             15.052279\n",
       "1   00:30:00             14.598988\n",
       "2   01:00:00             14.035200\n",
       "3   01:30:00             13.736485\n",
       "4   02:00:00             13.389943\n",
       "5   02:30:00             13.186770\n",
       "6   03:00:00             12.768177\n",
       "7   03:30:00             12.642261\n",
       "8   04:00:00             11.807121\n",
       "9   04:30:00             12.408647\n",
       "10  05:00:00             12.404827\n",
       "11  05:30:00             12.349058\n",
       "12  06:00:00             12.471197\n",
       "13  06:30:00             12.779607\n",
       "14  07:00:00             13.575621\n",
       "15  07:30:00             14.304469\n",
       "16  08:00:00             15.426278\n",
       "17  08:30:00             16.184114\n",
       "18  09:00:00             16.990755\n",
       "19  09:30:00             17.512380\n",
       "20  10:00:00             18.102200\n",
       "21  10:30:00             18.386415\n",
       "22  11:00:00             18.693248\n",
       "23  11:30:00             18.834691\n",
       "24  12:00:00             18.975363\n",
       "25  12:30:00             19.041281\n",
       "26  13:00:00             19.067316\n",
       "27  13:30:00             19.050664\n",
       "28  14:00:00             18.895720\n",
       "29  14:30:00             18.799292\n",
       "30  15:00:00             18.676133\n",
       "31  15:30:00             18.583249\n",
       "32  16:00:00             18.670113\n",
       "33  16:30:00             18.797544\n",
       "34  17:00:00             19.133579\n",
       "35  17:30:00             19.384899\n",
       "36  18:00:00             19.698142\n",
       "37  18:30:00             19.807648\n",
       "38  19:00:00             19.692919\n",
       "39  19:30:00             19.562482\n",
       "40  20:00:00             19.258424\n",
       "41  20:30:00             19.023826\n",
       "42  21:00:00             18.630606\n",
       "43  21:30:00             18.319911\n",
       "44  22:00:00             17.718458\n",
       "45  22:30:00             17.249849\n",
       "46  23:00:00             16.413470\n",
       "47  23:30:00             15.917027"
      ]
     },
     "execution_count": 258,
     "metadata": {},
     "output_type": "execute_result"
    }
   ],
   "source": [
    "df_flow_hr = df_flow_m.groupby('time')['underlying_demand_mw'].mean().reset_index()\n",
    "df_flow_hr"
   ]
  },
  {
   "cell_type": "code",
   "execution_count": 259,
   "metadata": {},
   "outputs": [
    {
     "data": {
      "image/png": "[encoded data removed]",
      "text/plain": [
       "<Figure size 1152x432 with 1 Axes>"
      ]
     },
     "metadata": {
      "needs_background": "light"
     },
     "output_type": "display_data"
    }
   ],
   "source": [
    "plt.figure(figsize=(16, 6))  # Set plot size\n",
    "plt.plot(df_flow_hr['time'].astype('str'), df_flow_hr['underlying_demand_mw'], marker='o')\n",
    "plt.xlabel('Time')\n",
    "plt.ylabel('Total Flow (MW)')\n",
    "plt.title('Half Hourly Flow')\n",
    "plt.xticks(rotation=45)  # Rotate x-axis labels for better readability\n",
    "plt.grid(True)\n",
    "plt.tight_layout()"
   ]
  },
  {
   "cell_type": "markdown",
   "metadata": {},
   "source": [
    "#### Daily"
   ]
  },
  {
   "cell_type": "code",
   "execution_count": 260,
   "metadata": {},
   "outputs": [
    {
     "data": {
      "text/html": [
       "<div>\n",
       "<style scoped>\n",
       "    .dataframe tbody tr th:only-of-type {\n",
       "        vertical-align: middle;\n",
       "    }\n",
       "\n",
       "    .dataframe tbody tr th {\n",
       "        vertical-align: top;\n",
       "    }\n",
       "\n",
       "    .dataframe thead th {\n",
       "        text-align: right;\n",
       "    }\n",
       "</style>\n",
       "<table border=\"1\" class=\"dataframe\">\n",
       "  <thead>\n",
       "    <tr style=\"text-align: right;\">\n",
       "      <th></th>\n",
       "      <th>date</th>\n",
       "      <th>max</th>\n",
       "      <th>min</th>\n",
       "    </tr>\n",
       "  </thead>\n",
       "  <tbody>\n",
       "    <tr>\n",
       "      <th>0</th>\n",
       "      <td>2023-09-01</td>\n",
       "      <td>230.777</td>\n",
       "      <td>0.000</td>\n",
       "    </tr>\n",
       "    <tr>\n",
       "      <th>1</th>\n",
       "      <td>2023-09-02</td>\n",
       "      <td>213.173</td>\n",
       "      <td>0.000</td>\n",
       "    </tr>\n",
       "    <tr>\n",
       "      <th>2</th>\n",
       "      <td>2023-09-03</td>\n",
       "      <td>225.336</td>\n",
       "      <td>0.000</td>\n",
       "    </tr>\n",
       "    <tr>\n",
       "      <th>3</th>\n",
       "      <td>2023-09-04</td>\n",
       "      <td>240.286</td>\n",
       "      <td>0.000</td>\n",
       "    </tr>\n",
       "    <tr>\n",
       "      <th>4</th>\n",
       "      <td>2023-09-05</td>\n",
       "      <td>251.199</td>\n",
       "      <td>0.000</td>\n",
       "    </tr>\n",
       "    <tr>\n",
       "      <th>...</th>\n",
       "      <td>...</td>\n",
       "      <td>...</td>\n",
       "      <td>...</td>\n",
       "    </tr>\n",
       "    <tr>\n",
       "      <th>369</th>\n",
       "      <td>2024-09-04</td>\n",
       "      <td>240.851</td>\n",
       "      <td>0.000</td>\n",
       "    </tr>\n",
       "    <tr>\n",
       "      <th>370</th>\n",
       "      <td>2024-09-05</td>\n",
       "      <td>237.311</td>\n",
       "      <td>0.000</td>\n",
       "    </tr>\n",
       "    <tr>\n",
       "      <th>371</th>\n",
       "      <td>2024-09-06</td>\n",
       "      <td>224.345</td>\n",
       "      <td>0.000</td>\n",
       "    </tr>\n",
       "    <tr>\n",
       "      <th>372</th>\n",
       "      <td>2024-09-07</td>\n",
       "      <td>206.432</td>\n",
       "      <td>0.000</td>\n",
       "    </tr>\n",
       "    <tr>\n",
       "      <th>373</th>\n",
       "      <td>2024-09-08</td>\n",
       "      <td>178.700</td>\n",
       "      <td>0.086</td>\n",
       "    </tr>\n",
       "  </tbody>\n",
       "</table>\n",
       "<p>374 rows × 3 columns</p>\n",
       "</div>"
      ],
      "text/plain": [
       "          date      max    min\n",
       "0   2023-09-01  230.777  0.000\n",
       "1   2023-09-02  213.173  0.000\n",
       "2   2023-09-03  225.336  0.000\n",
       "3   2023-09-04  240.286  0.000\n",
       "4   2023-09-05  251.199  0.000\n",
       "..         ...      ...    ...\n",
       "369 2024-09-04  240.851  0.000\n",
       "370 2024-09-05  237.311  0.000\n",
       "371 2024-09-06  224.345  0.000\n",
       "372 2024-09-07  206.432  0.000\n",
       "373 2024-09-08  178.700  0.086\n",
       "\n",
       "[374 rows x 3 columns]"
      ]
     },
     "execution_count": 260,
     "metadata": {},
     "output_type": "execute_result"
    }
   ],
   "source": [
    "df_flow_dm = df_flow_m.groupby('date')['underlying_demand_mw'].agg(['max','min']).reset_index()\n",
    "df_flow_dm"
   ]
  },
  {
   "cell_type": "code",
   "execution_count": 261,
   "metadata": {},
   "outputs": [
    {
     "data": {
      "text/html": [
       "<div>\n",
       "<style scoped>\n",
       "    .dataframe tbody tr th:only-of-type {\n",
       "        vertical-align: middle;\n",
       "    }\n",
       "\n",
       "    .dataframe tbody tr th {\n",
       "        vertical-align: top;\n",
       "    }\n",
       "\n",
       "    .dataframe thead th {\n",
       "        text-align: right;\n",
       "    }\n",
       "</style>\n",
       "<table border=\"1\" class=\"dataframe\">\n",
       "  <thead>\n",
       "    <tr style=\"text-align: right;\">\n",
       "      <th></th>\n",
       "      <th>day</th>\n",
       "      <th>underlying_demand_mw</th>\n",
       "    </tr>\n",
       "  </thead>\n",
       "  <tbody>\n",
       "    <tr>\n",
       "      <th>1</th>\n",
       "      <td>Monday</td>\n",
       "      <td>73357.682302</td>\n",
       "    </tr>\n",
       "    <tr>\n",
       "      <th>5</th>\n",
       "      <td>Tuesday</td>\n",
       "      <td>74740.576962</td>\n",
       "    </tr>\n",
       "    <tr>\n",
       "      <th>6</th>\n",
       "      <td>Wednesday</td>\n",
       "      <td>75221.685623</td>\n",
       "    </tr>\n",
       "    <tr>\n",
       "      <th>4</th>\n",
       "      <td>Thursday</td>\n",
       "      <td>74703.813943</td>\n",
       "    </tr>\n",
       "    <tr>\n",
       "      <th>0</th>\n",
       "      <td>Friday</td>\n",
       "      <td>72948.340889</td>\n",
       "    </tr>\n",
       "    <tr>\n",
       "      <th>2</th>\n",
       "      <td>Saturday</td>\n",
       "      <td>69304.351685</td>\n",
       "    </tr>\n",
       "    <tr>\n",
       "      <th>3</th>\n",
       "      <td>Sunday</td>\n",
       "      <td>66086.039037</td>\n",
       "    </tr>\n",
       "  </tbody>\n",
       "</table>\n",
       "</div>"
      ],
      "text/plain": [
       "         day  underlying_demand_mw\n",
       "1     Monday          73357.682302\n",
       "5    Tuesday          74740.576962\n",
       "6  Wednesday          75221.685623\n",
       "4   Thursday          74703.813943\n",
       "0     Friday          72948.340889\n",
       "2   Saturday          69304.351685\n",
       "3     Sunday          66086.039037"
      ]
     },
     "execution_count": 261,
     "metadata": {},
     "output_type": "execute_result"
    }
   ],
   "source": [
    "df_flow_dl = df_flow_m.groupby('date')['underlying_demand_mw'].sum().reset_index()\n",
    "df_flow_dl['day'] = df_flow_dl['date'].dt.day_name()\n",
    "df_flow_dl = df_flow_dl.groupby('day').mean().reset_index()\n",
    "# fix day order\n",
    "day_order = ['Monday', 'Tuesday', 'Wednesday', 'Thursday', 'Friday', 'Saturday', 'Sunday']\n",
    "df_flow_dl['day'] = pd.Categorical(df_flow_dl['day'], categories=day_order, ordered=True)\n",
    "df_flow_dl = df_flow_dl.sort_values('day')\n",
    "df_flow_dl"
   ]
  },
  {
   "cell_type": "code",
   "execution_count": 262,
   "metadata": {},
   "outputs": [
    {
     "data": {
      "image/png": "[encoded data removed]",
      "text/plain": [
       "<Figure size 1080x432 with 1 Axes>"
      ]
     },
     "metadata": {
      "needs_background": "light"
     },
     "output_type": "display_data"
    }
   ],
   "source": [
    "plt.figure(figsize=(15, 6))\n",
    "plt.plot(df_flow_dl['day'], df_flow_dl['underlying_demand_mw'], marker='o')\n",
    "plt.xlabel('Day')\n",
    "plt.ylabel('Flow (MW)')\n",
    "plt.title('Average Daily Flow')\n",
    "plt.xticks(rotation=45)\n",
    "plt.grid(True)\n",
    "plt.tight_layout()\n",
    "plt.show()"
   ]
  },
  {
   "cell_type": "markdown",
   "metadata": {},
   "source": [
    "#### Weekly"
   ]
  },
  {
   "cell_type": "code",
   "execution_count": 263,
   "metadata": {},
   "outputs": [
    {
     "data": {
      "text/html": [
       "<div>\n",
       "<style scoped>\n",
       "    .dataframe tbody tr th:only-of-type {\n",
       "        vertical-align: middle;\n",
       "    }\n",
       "\n",
       "    .dataframe tbody tr th {\n",
       "        vertical-align: top;\n",
       "    }\n",
       "\n",
       "    .dataframe thead th {\n",
       "        text-align: right;\n",
       "    }\n",
       "</style>\n",
       "<table border=\"1\" class=\"dataframe\">\n",
       "  <thead>\n",
       "    <tr style=\"text-align: right;\">\n",
       "      <th></th>\n",
       "      <th>date</th>\n",
       "      <th>underlying_demand_mw</th>\n",
       "    </tr>\n",
       "  </thead>\n",
       "  <tbody>\n",
       "    <tr>\n",
       "      <th>0</th>\n",
       "      <td>2023-09-07</td>\n",
       "      <td>476668.815</td>\n",
       "    </tr>\n",
       "    <tr>\n",
       "      <th>1</th>\n",
       "      <td>2023-09-14</td>\n",
       "      <td>475369.843</td>\n",
       "    </tr>\n",
       "    <tr>\n",
       "      <th>2</th>\n",
       "      <td>2023-09-21</td>\n",
       "      <td>461524.482</td>\n",
       "    </tr>\n",
       "    <tr>\n",
       "      <th>3</th>\n",
       "      <td>2023-09-28</td>\n",
       "      <td>468199.587</td>\n",
       "    </tr>\n",
       "    <tr>\n",
       "      <th>4</th>\n",
       "      <td>2023-10-05</td>\n",
       "      <td>485195.626</td>\n",
       "    </tr>\n",
       "    <tr>\n",
       "      <th>5</th>\n",
       "      <td>2023-10-12</td>\n",
       "      <td>490623.364</td>\n",
       "    </tr>\n",
       "    <tr>\n",
       "      <th>6</th>\n",
       "      <td>2023-10-19</td>\n",
       "      <td>562384.363</td>\n",
       "    </tr>\n",
       "    <tr>\n",
       "      <th>7</th>\n",
       "      <td>2023-10-26</td>\n",
       "      <td>554828.700</td>\n",
       "    </tr>\n",
       "    <tr>\n",
       "      <th>8</th>\n",
       "      <td>2023-11-02</td>\n",
       "      <td>548257.900</td>\n",
       "    </tr>\n",
       "    <tr>\n",
       "      <th>9</th>\n",
       "      <td>2023-11-09</td>\n",
       "      <td>534512.294</td>\n",
       "    </tr>\n",
       "    <tr>\n",
       "      <th>10</th>\n",
       "      <td>2023-11-16</td>\n",
       "      <td>553631.388</td>\n",
       "    </tr>\n",
       "    <tr>\n",
       "      <th>11</th>\n",
       "      <td>2023-11-23</td>\n",
       "      <td>549479.706</td>\n",
       "    </tr>\n",
       "    <tr>\n",
       "      <th>12</th>\n",
       "      <td>2023-11-30</td>\n",
       "      <td>597314.578</td>\n",
       "    </tr>\n",
       "    <tr>\n",
       "      <th>13</th>\n",
       "      <td>2023-12-07</td>\n",
       "      <td>632846.720</td>\n",
       "    </tr>\n",
       "    <tr>\n",
       "      <th>14</th>\n",
       "      <td>2023-12-14</td>\n",
       "      <td>592861.088</td>\n",
       "    </tr>\n",
       "    <tr>\n",
       "      <th>15</th>\n",
       "      <td>2023-12-21</td>\n",
       "      <td>571266.269</td>\n",
       "    </tr>\n",
       "    <tr>\n",
       "      <th>16</th>\n",
       "      <td>2023-12-28</td>\n",
       "      <td>506912.147</td>\n",
       "    </tr>\n",
       "    <tr>\n",
       "      <th>17</th>\n",
       "      <td>2024-01-04</td>\n",
       "      <td>537737.595</td>\n",
       "    </tr>\n",
       "    <tr>\n",
       "      <th>18</th>\n",
       "      <td>2024-01-11</td>\n",
       "      <td>613791.986</td>\n",
       "    </tr>\n",
       "    <tr>\n",
       "      <th>19</th>\n",
       "      <td>2024-01-18</td>\n",
       "      <td>629525.599</td>\n",
       "    </tr>\n",
       "    <tr>\n",
       "      <th>20</th>\n",
       "      <td>2024-01-25</td>\n",
       "      <td>605158.132</td>\n",
       "    </tr>\n",
       "    <tr>\n",
       "      <th>21</th>\n",
       "      <td>2024-02-01</td>\n",
       "      <td>590686.592</td>\n",
       "    </tr>\n",
       "    <tr>\n",
       "      <th>22</th>\n",
       "      <td>2024-02-08</td>\n",
       "      <td>581911.082</td>\n",
       "    </tr>\n",
       "    <tr>\n",
       "      <th>23</th>\n",
       "      <td>2024-02-15</td>\n",
       "      <td>585457.111</td>\n",
       "    </tr>\n",
       "    <tr>\n",
       "      <th>24</th>\n",
       "      <td>2024-02-22</td>\n",
       "      <td>547940.181</td>\n",
       "    </tr>\n",
       "    <tr>\n",
       "      <th>25</th>\n",
       "      <td>2024-02-29</td>\n",
       "      <td>578990.882</td>\n",
       "    </tr>\n",
       "    <tr>\n",
       "      <th>26</th>\n",
       "      <td>2024-03-07</td>\n",
       "      <td>578879.168</td>\n",
       "    </tr>\n",
       "    <tr>\n",
       "      <th>27</th>\n",
       "      <td>2024-03-14</td>\n",
       "      <td>567237.528</td>\n",
       "    </tr>\n",
       "    <tr>\n",
       "      <th>28</th>\n",
       "      <td>2024-03-21</td>\n",
       "      <td>539206.557</td>\n",
       "    </tr>\n",
       "    <tr>\n",
       "      <th>29</th>\n",
       "      <td>2024-03-28</td>\n",
       "      <td>540766.446</td>\n",
       "    </tr>\n",
       "    <tr>\n",
       "      <th>30</th>\n",
       "      <td>2024-04-04</td>\n",
       "      <td>497829.103</td>\n",
       "    </tr>\n",
       "    <tr>\n",
       "      <th>31</th>\n",
       "      <td>2024-04-11</td>\n",
       "      <td>514141.767</td>\n",
       "    </tr>\n",
       "    <tr>\n",
       "      <th>32</th>\n",
       "      <td>2024-04-18</td>\n",
       "      <td>512594.627</td>\n",
       "    </tr>\n",
       "    <tr>\n",
       "      <th>33</th>\n",
       "      <td>2024-04-25</td>\n",
       "      <td>495194.844</td>\n",
       "    </tr>\n",
       "    <tr>\n",
       "      <th>34</th>\n",
       "      <td>2024-05-02</td>\n",
       "      <td>487251.528</td>\n",
       "    </tr>\n",
       "    <tr>\n",
       "      <th>35</th>\n",
       "      <td>2024-05-09</td>\n",
       "      <td>457608.349</td>\n",
       "    </tr>\n",
       "    <tr>\n",
       "      <th>36</th>\n",
       "      <td>2024-05-16</td>\n",
       "      <td>458078.372</td>\n",
       "    </tr>\n",
       "    <tr>\n",
       "      <th>37</th>\n",
       "      <td>2024-05-23</td>\n",
       "      <td>461271.288</td>\n",
       "    </tr>\n",
       "    <tr>\n",
       "      <th>38</th>\n",
       "      <td>2024-05-30</td>\n",
       "      <td>388282.619</td>\n",
       "    </tr>\n",
       "    <tr>\n",
       "      <th>39</th>\n",
       "      <td>2024-06-06</td>\n",
       "      <td>446277.107</td>\n",
       "    </tr>\n",
       "    <tr>\n",
       "      <th>40</th>\n",
       "      <td>2024-06-13</td>\n",
       "      <td>450483.006</td>\n",
       "    </tr>\n",
       "    <tr>\n",
       "      <th>41</th>\n",
       "      <td>2024-06-20</td>\n",
       "      <td>406011.683</td>\n",
       "    </tr>\n",
       "    <tr>\n",
       "      <th>42</th>\n",
       "      <td>2024-06-27</td>\n",
       "      <td>416882.725</td>\n",
       "    </tr>\n",
       "    <tr>\n",
       "      <th>43</th>\n",
       "      <td>2024-07-04</td>\n",
       "      <td>442133.475</td>\n",
       "    </tr>\n",
       "    <tr>\n",
       "      <th>44</th>\n",
       "      <td>2024-07-11</td>\n",
       "      <td>446184.092</td>\n",
       "    </tr>\n",
       "    <tr>\n",
       "      <th>45</th>\n",
       "      <td>2024-07-18</td>\n",
       "      <td>448206.046</td>\n",
       "    </tr>\n",
       "    <tr>\n",
       "      <th>46</th>\n",
       "      <td>2024-07-25</td>\n",
       "      <td>406374.673</td>\n",
       "    </tr>\n",
       "    <tr>\n",
       "      <th>47</th>\n",
       "      <td>2024-08-01</td>\n",
       "      <td>429861.088</td>\n",
       "    </tr>\n",
       "    <tr>\n",
       "      <th>48</th>\n",
       "      <td>2024-08-08</td>\n",
       "      <td>443402.515</td>\n",
       "    </tr>\n",
       "    <tr>\n",
       "      <th>49</th>\n",
       "      <td>2024-08-15</td>\n",
       "      <td>432392.474</td>\n",
       "    </tr>\n",
       "    <tr>\n",
       "      <th>50</th>\n",
       "      <td>2024-08-22</td>\n",
       "      <td>434050.047</td>\n",
       "    </tr>\n",
       "    <tr>\n",
       "      <th>51</th>\n",
       "      <td>2024-08-29</td>\n",
       "      <td>430185.468</td>\n",
       "    </tr>\n",
       "    <tr>\n",
       "      <th>52</th>\n",
       "      <td>2024-09-05</td>\n",
       "      <td>445673.417</td>\n",
       "    </tr>\n",
       "    <tr>\n",
       "      <th>53</th>\n",
       "      <td>2024-09-12</td>\n",
       "      <td>136014.683</td>\n",
       "    </tr>\n",
       "  </tbody>\n",
       "</table>\n",
       "</div>"
      ],
      "text/plain": [
       "         date  underlying_demand_mw\n",
       "0  2023-09-07            476668.815\n",
       "1  2023-09-14            475369.843\n",
       "2  2023-09-21            461524.482\n",
       "3  2023-09-28            468199.587\n",
       "4  2023-10-05            485195.626\n",
       "5  2023-10-12            490623.364\n",
       "6  2023-10-19            562384.363\n",
       "7  2023-10-26            554828.700\n",
       "8  2023-11-02            548257.900\n",
       "9  2023-11-09            534512.294\n",
       "10 2023-11-16            553631.388\n",
       "11 2023-11-23            549479.706\n",
       "12 2023-11-30            597314.578\n",
       "13 2023-12-07            632846.720\n",
       "14 2023-12-14            592861.088\n",
       "15 2023-12-21            571266.269\n",
       "16 2023-12-28            506912.147\n",
       "17 2024-01-04            537737.595\n",
       "18 2024-01-11            613791.986\n",
       "19 2024-01-18            629525.599\n",
       "20 2024-01-25            605158.132\n",
       "21 2024-02-01            590686.592\n",
       "22 2024-02-08            581911.082\n",
       "23 2024-02-15            585457.111\n",
       "24 2024-02-22            547940.181\n",
       "25 2024-02-29            578990.882\n",
       "26 2024-03-07            578879.168\n",
       "27 2024-03-14            567237.528\n",
       "28 2024-03-21            539206.557\n",
       "29 2024-03-28            540766.446\n",
       "30 2024-04-04            497829.103\n",
       "31 2024-04-11            514141.767\n",
       "32 2024-04-18            512594.627\n",
       "33 2024-04-25            495194.844\n",
       "34 2024-05-02            487251.528\n",
       "35 2024-05-09            457608.349\n",
       "36 2024-05-16            458078.372\n",
       "37 2024-05-23            461271.288\n",
       "38 2024-05-30            388282.619\n",
       "39 2024-06-06            446277.107\n",
       "40 2024-06-13            450483.006\n",
       "41 2024-06-20            406011.683\n",
       "42 2024-06-27            416882.725\n",
       "43 2024-07-04            442133.475\n",
       "44 2024-07-11            446184.092\n",
       "45 2024-07-18            448206.046\n",
       "46 2024-07-25            406374.673\n",
       "47 2024-08-01            429861.088\n",
       "48 2024-08-08            443402.515\n",
       "49 2024-08-15            432392.474\n",
       "50 2024-08-22            434050.047\n",
       "51 2024-08-29            430185.468\n",
       "52 2024-09-05            445673.417\n",
       "53 2024-09-12            136014.683"
      ]
     },
     "execution_count": 263,
     "metadata": {},
     "output_type": "execute_result"
    }
   ],
   "source": [
    "df_flow_wk = df_flow_m.resample('W-THU', on='date')['underlying_demand_mw'].sum().reset_index()\n",
    "df_flow_wk"
   ]
  },
  {
   "cell_type": "code",
   "execution_count": 264,
   "metadata": {},
   "outputs": [
    {
     "data": {
      "image/png": "[encoded data removed]",
      "text/plain": [
       "<Figure size 1080x360 with 1 Axes>"
      ]
     },
     "metadata": {
      "needs_background": "light"
     },
     "output_type": "display_data"
    }
   ],
   "source": [
    "plt.figure(figsize=(15, 5))\n",
    "plt.plot(df_flow_wk.index[:-1] + 1, df_flow_wk['underlying_demand_mw'][:-1], marker='o') # cut last week as not full 7 days\n",
    "plt.xlabel('Week')\n",
    "plt.ylabel('Total Flow (MW)')\n",
    "plt.title('Weekly Flow')\n",
    "plt.xticks(df_flow_wk.index[:-1] + 1, rotation=45)\n",
    "plt.grid(True)\n",
    "plt.tight_layout()\n",
    "plt.show()"
   ]
  },
  {
   "cell_type": "markdown",
   "metadata": {},
   "source": [
    "#### Monthly"
   ]
  },
  {
   "cell_type": "code",
   "execution_count": 265,
   "metadata": {},
   "outputs": [
    {
     "data": {
      "text/html": [
       "<div>\n",
       "<style scoped>\n",
       "    .dataframe tbody tr th:only-of-type {\n",
       "        vertical-align: middle;\n",
       "    }\n",
       "\n",
       "    .dataframe tbody tr th {\n",
       "        vertical-align: top;\n",
       "    }\n",
       "\n",
       "    .dataframe thead th {\n",
       "        text-align: right;\n",
       "    }\n",
       "</style>\n",
       "<table border=\"1\" class=\"dataframe\">\n",
       "  <thead>\n",
       "    <tr style=\"text-align: right;\">\n",
       "      <th></th>\n",
       "      <th>date</th>\n",
       "      <th>underlying_demand_mw</th>\n",
       "      <th>month</th>\n",
       "    </tr>\n",
       "  </thead>\n",
       "  <tbody>\n",
       "    <tr>\n",
       "      <th>0</th>\n",
       "      <td>2023-09-30</td>\n",
       "      <td>2014541.914</td>\n",
       "      <td>September-2023</td>\n",
       "    </tr>\n",
       "    <tr>\n",
       "      <th>1</th>\n",
       "      <td>2023-10-31</td>\n",
       "      <td>2336367.479</td>\n",
       "      <td>October-2023</td>\n",
       "    </tr>\n",
       "    <tr>\n",
       "      <th>2</th>\n",
       "      <td>2023-11-30</td>\n",
       "      <td>2407081.253</td>\n",
       "      <td>November-2023</td>\n",
       "    </tr>\n",
       "    <tr>\n",
       "      <th>3</th>\n",
       "      <td>2023-12-31</td>\n",
       "      <td>2525206.691</td>\n",
       "      <td>December-2023</td>\n",
       "    </tr>\n",
       "    <tr>\n",
       "      <th>4</th>\n",
       "      <td>2024-01-31</td>\n",
       "      <td>2667215.128</td>\n",
       "      <td>January-2024</td>\n",
       "    </tr>\n",
       "    <tr>\n",
       "      <th>5</th>\n",
       "      <td>2024-02-29</td>\n",
       "      <td>2382663.565</td>\n",
       "      <td>February-2024</td>\n",
       "    </tr>\n",
       "    <tr>\n",
       "      <th>6</th>\n",
       "      <td>2024-03-31</td>\n",
       "      <td>2427345.174</td>\n",
       "      <td>March-2024</td>\n",
       "    </tr>\n",
       "    <tr>\n",
       "      <th>7</th>\n",
       "      <td>2024-04-30</td>\n",
       "      <td>2169580.094</td>\n",
       "      <td>April-2024</td>\n",
       "    </tr>\n",
       "    <tr>\n",
       "      <th>8</th>\n",
       "      <td>2024-05-31</td>\n",
       "      <td>1964710.552</td>\n",
       "      <td>May-2024</td>\n",
       "    </tr>\n",
       "    <tr>\n",
       "      <th>9</th>\n",
       "      <td>2024-06-30</td>\n",
       "      <td>1836110.774</td>\n",
       "      <td>June-2024</td>\n",
       "    </tr>\n",
       "    <tr>\n",
       "      <th>10</th>\n",
       "      <td>2024-07-31</td>\n",
       "      <td>1929929.095</td>\n",
       "      <td>July-2024</td>\n",
       "    </tr>\n",
       "    <tr>\n",
       "      <th>11</th>\n",
       "      <td>2024-08-31</td>\n",
       "      <td>1924677.668</td>\n",
       "      <td>August-2024</td>\n",
       "    </tr>\n",
       "    <tr>\n",
       "      <th>12</th>\n",
       "      <td>2024-09-30</td>\n",
       "      <td>460121.338</td>\n",
       "      <td>September-2024</td>\n",
       "    </tr>\n",
       "  </tbody>\n",
       "</table>\n",
       "</div>"
      ],
      "text/plain": [
       "         date  underlying_demand_mw           month\n",
       "0  2023-09-30           2014541.914  September-2023\n",
       "1  2023-10-31           2336367.479    October-2023\n",
       "2  2023-11-30           2407081.253   November-2023\n",
       "3  2023-12-31           2525206.691   December-2023\n",
       "4  2024-01-31           2667215.128    January-2024\n",
       "5  2024-02-29           2382663.565   February-2024\n",
       "6  2024-03-31           2427345.174      March-2024\n",
       "7  2024-04-30           2169580.094      April-2024\n",
       "8  2024-05-31           1964710.552        May-2024\n",
       "9  2024-06-30           1836110.774       June-2024\n",
       "10 2024-07-31           1929929.095       July-2024\n",
       "11 2024-08-31           1924677.668     August-2024\n",
       "12 2024-09-30            460121.338  September-2024"
      ]
     },
     "execution_count": 265,
     "metadata": {},
     "output_type": "execute_result"
    }
   ],
   "source": [
    "df_flow_ml = df_flow_m.resample('M', on='date')['underlying_demand_mw'].sum().reset_index().assign(month = lambda x:x.date.dt.month_name() + '-' + x.date.astype(str).str[:4])\n",
    "df_flow_ml"
   ]
  },
  {
   "cell_type": "code",
   "execution_count": 266,
   "metadata": {},
   "outputs": [
    {
     "data": {
      "image/png": "[encoded data removed]",
      "text/plain": [
       "<Figure size 720x360 with 1 Axes>"
      ]
     },
     "metadata": {
      "needs_background": "light"
     },
     "output_type": "display_data"
    }
   ],
   "source": [
    "plt.figure(figsize=(10, 5))  # Set plot size\n",
    "plt.plot(df_flow_ml['month'][:-1], df_flow_ml['underlying_demand_mw'][:-1], marker='o') # cut last month as not full 30 days\n",
    "plt.xlabel('Month')\n",
    "plt.ylabel('Total Flow (millions of MW)')\n",
    "plt.title('Monthly Flow')\n",
    "plt.xticks(rotation=45)  # Rotate x-axis labels for better readability\n",
    "plt.grid(True)\n",
    "plt.tight_layout()\n",
    "plt.show()"
   ]
  },
  {
   "cell_type": "markdown",
   "metadata": {},
   "source": [
    "# Cluster to find grid group centres"
   ]
  },
  {
   "cell_type": "code",
   "execution_count": 267,
   "metadata": {},
   "outputs": [
    {
     "name": "stderr",
     "output_type": "stream",
     "text": [
      "/Library/Frameworks/Python.framework/Versions/3.10/lib/python3.10/site-packages/sklearn/cluster/_kmeans.py:1416: FutureWarning:\n",
      "\n",
      "The default value of `n_init` will change from 10 to 'auto' in 1.4. Set the value of `n_init` explicitly to suppress the warning\n",
      "\n",
      "/Library/Frameworks/Python.framework/Versions/3.10/lib/python3.10/site-packages/sklearn/cluster/_kmeans.py:1416: FutureWarning:\n",
      "\n",
      "The default value of `n_init` will change from 10 to 'auto' in 1.4. Set the value of `n_init` explicitly to suppress the warning\n",
      "\n",
      "/Library/Frameworks/Python.framework/Versions/3.10/lib/python3.10/site-packages/sklearn/cluster/_kmeans.py:1416: FutureWarning:\n",
      "\n",
      "The default value of `n_init` will change from 10 to 'auto' in 1.4. Set the value of `n_init` explicitly to suppress the warning\n",
      "\n",
      "/Library/Frameworks/Python.framework/Versions/3.10/lib/python3.10/site-packages/sklearn/cluster/_kmeans.py:1416: FutureWarning:\n",
      "\n",
      "The default value of `n_init` will change from 10 to 'auto' in 1.4. Set the value of `n_init` explicitly to suppress the warning\n",
      "\n",
      "/Library/Frameworks/Python.framework/Versions/3.10/lib/python3.10/site-packages/sklearn/cluster/_kmeans.py:1416: FutureWarning:\n",
      "\n",
      "The default value of `n_init` will change from 10 to 'auto' in 1.4. Set the value of `n_init` explicitly to suppress the warning\n",
      "\n",
      "/Library/Frameworks/Python.framework/Versions/3.10/lib/python3.10/site-packages/sklearn/cluster/_kmeans.py:1416: FutureWarning:\n",
      "\n",
      "The default value of `n_init` will change from 10 to 'auto' in 1.4. Set the value of `n_init` explicitly to suppress the warning\n",
      "\n",
      "/Library/Frameworks/Python.framework/Versions/3.10/lib/python3.10/site-packages/sklearn/cluster/_kmeans.py:1416: FutureWarning:\n",
      "\n",
      "The default value of `n_init` will change from 10 to 'auto' in 1.4. Set the value of `n_init` explicitly to suppress the warning\n",
      "\n",
      "/Library/Frameworks/Python.framework/Versions/3.10/lib/python3.10/site-packages/sklearn/cluster/_kmeans.py:1416: FutureWarning:\n",
      "\n",
      "The default value of `n_init` will change from 10 to 'auto' in 1.4. Set the value of `n_init` explicitly to suppress the warning\n",
      "\n",
      "/Library/Frameworks/Python.framework/Versions/3.10/lib/python3.10/site-packages/sklearn/cluster/_kmeans.py:1416: FutureWarning:\n",
      "\n",
      "The default value of `n_init` will change from 10 to 'auto' in 1.4. Set the value of `n_init` explicitly to suppress the warning\n",
      "\n",
      "/Library/Frameworks/Python.framework/Versions/3.10/lib/python3.10/site-packages/sklearn/cluster/_kmeans.py:1416: FutureWarning:\n",
      "\n",
      "The default value of `n_init` will change from 10 to 'auto' in 1.4. Set the value of `n_init` explicitly to suppress the warning\n",
      "\n",
      "/Library/Frameworks/Python.framework/Versions/3.10/lib/python3.10/site-packages/sklearn/cluster/_kmeans.py:1416: FutureWarning:\n",
      "\n",
      "The default value of `n_init` will change from 10 to 'auto' in 1.4. Set the value of `n_init` explicitly to suppress the warning\n",
      "\n",
      "/Library/Frameworks/Python.framework/Versions/3.10/lib/python3.10/site-packages/sklearn/cluster/_kmeans.py:1416: FutureWarning:\n",
      "\n",
      "The default value of `n_init` will change from 10 to 'auto' in 1.4. Set the value of `n_init` explicitly to suppress the warning\n",
      "\n",
      "/Library/Frameworks/Python.framework/Versions/3.10/lib/python3.10/site-packages/sklearn/cluster/_kmeans.py:1416: FutureWarning:\n",
      "\n",
      "The default value of `n_init` will change from 10 to 'auto' in 1.4. Set the value of `n_init` explicitly to suppress the warning\n",
      "\n",
      "/Library/Frameworks/Python.framework/Versions/3.10/lib/python3.10/site-packages/sklearn/cluster/_kmeans.py:1416: FutureWarning:\n",
      "\n",
      "The default value of `n_init` will change from 10 to 'auto' in 1.4. Set the value of `n_init` explicitly to suppress the warning\n",
      "\n",
      "/Library/Frameworks/Python.framework/Versions/3.10/lib/python3.10/site-packages/sklearn/cluster/_kmeans.py:1416: FutureWarning:\n",
      "\n",
      "The default value of `n_init` will change from 10 to 'auto' in 1.4. Set the value of `n_init` explicitly to suppress the warning\n",
      "\n",
      "/Library/Frameworks/Python.framework/Versions/3.10/lib/python3.10/site-packages/sklearn/cluster/_kmeans.py:1416: FutureWarning:\n",
      "\n",
      "The default value of `n_init` will change from 10 to 'auto' in 1.4. Set the value of `n_init` explicitly to suppress the warning\n",
      "\n",
      "/Library/Frameworks/Python.framework/Versions/3.10/lib/python3.10/site-packages/sklearn/cluster/_kmeans.py:1416: FutureWarning:\n",
      "\n",
      "The default value of `n_init` will change from 10 to 'auto' in 1.4. Set the value of `n_init` explicitly to suppress the warning\n",
      "\n",
      "/Library/Frameworks/Python.framework/Versions/3.10/lib/python3.10/site-packages/sklearn/cluster/_kmeans.py:1416: FutureWarning:\n",
      "\n",
      "The default value of `n_init` will change from 10 to 'auto' in 1.4. Set the value of `n_init` explicitly to suppress the warning\n",
      "\n",
      "/Library/Frameworks/Python.framework/Versions/3.10/lib/python3.10/site-packages/sklearn/cluster/_kmeans.py:1416: FutureWarning:\n",
      "\n",
      "The default value of `n_init` will change from 10 to 'auto' in 1.4. Set the value of `n_init` explicitly to suppress the warning\n",
      "\n",
      "/Library/Frameworks/Python.framework/Versions/3.10/lib/python3.10/site-packages/sklearn/cluster/_kmeans.py:1416: FutureWarning:\n",
      "\n",
      "The default value of `n_init` will change from 10 to 'auto' in 1.4. Set the value of `n_init` explicitly to suppress the warning\n",
      "\n",
      "/Library/Frameworks/Python.framework/Versions/3.10/lib/python3.10/site-packages/sklearn/cluster/_kmeans.py:1416: FutureWarning:\n",
      "\n",
      "The default value of `n_init` will change from 10 to 'auto' in 1.4. Set the value of `n_init` explicitly to suppress the warning\n",
      "\n",
      "/Library/Frameworks/Python.framework/Versions/3.10/lib/python3.10/site-packages/sklearn/cluster/_kmeans.py:1416: FutureWarning:\n",
      "\n",
      "The default value of `n_init` will change from 10 to 'auto' in 1.4. Set the value of `n_init` explicitly to suppress the warning\n",
      "\n",
      "/Library/Frameworks/Python.framework/Versions/3.10/lib/python3.10/site-packages/sklearn/cluster/_kmeans.py:1416: FutureWarning:\n",
      "\n",
      "The default value of `n_init` will change from 10 to 'auto' in 1.4. Set the value of `n_init` explicitly to suppress the warning\n",
      "\n",
      "/Library/Frameworks/Python.framework/Versions/3.10/lib/python3.10/site-packages/sklearn/cluster/_kmeans.py:1416: FutureWarning:\n",
      "\n",
      "The default value of `n_init` will change from 10 to 'auto' in 1.4. Set the value of `n_init` explicitly to suppress the warning\n",
      "\n",
      "/Library/Frameworks/Python.framework/Versions/3.10/lib/python3.10/site-packages/sklearn/cluster/_kmeans.py:1416: FutureWarning:\n",
      "\n",
      "The default value of `n_init` will change from 10 to 'auto' in 1.4. Set the value of `n_init` explicitly to suppress the warning\n",
      "\n",
      "/Library/Frameworks/Python.framework/Versions/3.10/lib/python3.10/site-packages/sklearn/cluster/_kmeans.py:1416: FutureWarning:\n",
      "\n",
      "The default value of `n_init` will change from 10 to 'auto' in 1.4. Set the value of `n_init` explicitly to suppress the warning\n",
      "\n",
      "/Library/Frameworks/Python.framework/Versions/3.10/lib/python3.10/site-packages/sklearn/cluster/_kmeans.py:1416: FutureWarning:\n",
      "\n",
      "The default value of `n_init` will change from 10 to 'auto' in 1.4. Set the value of `n_init` explicitly to suppress the warning\n",
      "\n",
      "/Library/Frameworks/Python.framework/Versions/3.10/lib/python3.10/site-packages/sklearn/cluster/_kmeans.py:1416: FutureWarning:\n",
      "\n",
      "The default value of `n_init` will change from 10 to 'auto' in 1.4. Set the value of `n_init` explicitly to suppress the warning\n",
      "\n",
      "/Library/Frameworks/Python.framework/Versions/3.10/lib/python3.10/site-packages/sklearn/cluster/_kmeans.py:1416: FutureWarning:\n",
      "\n",
      "The default value of `n_init` will change from 10 to 'auto' in 1.4. Set the value of `n_init` explicitly to suppress the warning\n",
      "\n",
      "/Library/Frameworks/Python.framework/Versions/3.10/lib/python3.10/site-packages/sklearn/cluster/_kmeans.py:1416: FutureWarning:\n",
      "\n",
      "The default value of `n_init` will change from 10 to 'auto' in 1.4. Set the value of `n_init` explicitly to suppress the warning\n",
      "\n",
      "/Library/Frameworks/Python.framework/Versions/3.10/lib/python3.10/site-packages/sklearn/cluster/_kmeans.py:1416: FutureWarning:\n",
      "\n",
      "The default value of `n_init` will change from 10 to 'auto' in 1.4. Set the value of `n_init` explicitly to suppress the warning\n",
      "\n",
      "/Library/Frameworks/Python.framework/Versions/3.10/lib/python3.10/site-packages/sklearn/cluster/_kmeans.py:1416: FutureWarning:\n",
      "\n",
      "The default value of `n_init` will change from 10 to 'auto' in 1.4. Set the value of `n_init` explicitly to suppress the warning\n",
      "\n",
      "/Library/Frameworks/Python.framework/Versions/3.10/lib/python3.10/site-packages/sklearn/cluster/_kmeans.py:1416: FutureWarning:\n",
      "\n",
      "The default value of `n_init` will change from 10 to 'auto' in 1.4. Set the value of `n_init` explicitly to suppress the warning\n",
      "\n",
      "/Library/Frameworks/Python.framework/Versions/3.10/lib/python3.10/site-packages/sklearn/cluster/_kmeans.py:1416: FutureWarning:\n",
      "\n",
      "The default value of `n_init` will change from 10 to 'auto' in 1.4. Set the value of `n_init` explicitly to suppress the warning\n",
      "\n",
      "/Library/Frameworks/Python.framework/Versions/3.10/lib/python3.10/site-packages/sklearn/cluster/_kmeans.py:1416: FutureWarning:\n",
      "\n",
      "The default value of `n_init` will change from 10 to 'auto' in 1.4. Set the value of `n_init` explicitly to suppress the warning\n",
      "\n",
      "/Library/Frameworks/Python.framework/Versions/3.10/lib/python3.10/site-packages/sklearn/cluster/_kmeans.py:1416: FutureWarning:\n",
      "\n",
      "The default value of `n_init` will change from 10 to 'auto' in 1.4. Set the value of `n_init` explicitly to suppress the warning\n",
      "\n",
      "/Library/Frameworks/Python.framework/Versions/3.10/lib/python3.10/site-packages/sklearn/cluster/_kmeans.py:1416: FutureWarning:\n",
      "\n",
      "The default value of `n_init` will change from 10 to 'auto' in 1.4. Set the value of `n_init` explicitly to suppress the warning\n",
      "\n",
      "/Library/Frameworks/Python.framework/Versions/3.10/lib/python3.10/site-packages/sklearn/cluster/_kmeans.py:1416: FutureWarning:\n",
      "\n",
      "The default value of `n_init` will change from 10 to 'auto' in 1.4. Set the value of `n_init` explicitly to suppress the warning\n",
      "\n",
      "/Library/Frameworks/Python.framework/Versions/3.10/lib/python3.10/site-packages/sklearn/cluster/_kmeans.py:1416: FutureWarning:\n",
      "\n",
      "The default value of `n_init` will change from 10 to 'auto' in 1.4. Set the value of `n_init` explicitly to suppress the warning\n",
      "\n",
      "/Library/Frameworks/Python.framework/Versions/3.10/lib/python3.10/site-packages/sklearn/cluster/_kmeans.py:1416: FutureWarning:\n",
      "\n",
      "The default value of `n_init` will change from 10 to 'auto' in 1.4. Set the value of `n_init` explicitly to suppress the warning\n",
      "\n",
      "/Library/Frameworks/Python.framework/Versions/3.10/lib/python3.10/site-packages/sklearn/cluster/_kmeans.py:1416: FutureWarning:\n",
      "\n",
      "The default value of `n_init` will change from 10 to 'auto' in 1.4. Set the value of `n_init` explicitly to suppress the warning\n",
      "\n",
      "/Library/Frameworks/Python.framework/Versions/3.10/lib/python3.10/site-packages/sklearn/cluster/_kmeans.py:1416: FutureWarning:\n",
      "\n",
      "The default value of `n_init` will change from 10 to 'auto' in 1.4. Set the value of `n_init` explicitly to suppress the warning\n",
      "\n",
      "/Library/Frameworks/Python.framework/Versions/3.10/lib/python3.10/site-packages/sklearn/cluster/_kmeans.py:1416: FutureWarning:\n",
      "\n",
      "The default value of `n_init` will change from 10 to 'auto' in 1.4. Set the value of `n_init` explicitly to suppress the warning\n",
      "\n",
      "/Library/Frameworks/Python.framework/Versions/3.10/lib/python3.10/site-packages/sklearn/cluster/_kmeans.py:1416: FutureWarning:\n",
      "\n",
      "The default value of `n_init` will change from 10 to 'auto' in 1.4. Set the value of `n_init` explicitly to suppress the warning\n",
      "\n",
      "/Library/Frameworks/Python.framework/Versions/3.10/lib/python3.10/site-packages/sklearn/cluster/_kmeans.py:1416: FutureWarning:\n",
      "\n",
      "The default value of `n_init` will change from 10 to 'auto' in 1.4. Set the value of `n_init` explicitly to suppress the warning\n",
      "\n",
      "/Library/Frameworks/Python.framework/Versions/3.10/lib/python3.10/site-packages/sklearn/cluster/_kmeans.py:1416: FutureWarning:\n",
      "\n",
      "The default value of `n_init` will change from 10 to 'auto' in 1.4. Set the value of `n_init` explicitly to suppress the warning\n",
      "\n",
      "/Library/Frameworks/Python.framework/Versions/3.10/lib/python3.10/site-packages/sklearn/cluster/_kmeans.py:1416: FutureWarning:\n",
      "\n",
      "The default value of `n_init` will change from 10 to 'auto' in 1.4. Set the value of `n_init` explicitly to suppress the warning\n",
      "\n",
      "/Library/Frameworks/Python.framework/Versions/3.10/lib/python3.10/site-packages/sklearn/cluster/_kmeans.py:1416: FutureWarning:\n",
      "\n",
      "The default value of `n_init` will change from 10 to 'auto' in 1.4. Set the value of `n_init` explicitly to suppress the warning\n",
      "\n",
      "/Library/Frameworks/Python.framework/Versions/3.10/lib/python3.10/site-packages/sklearn/cluster/_kmeans.py:1416: FutureWarning:\n",
      "\n",
      "The default value of `n_init` will change from 10 to 'auto' in 1.4. Set the value of `n_init` explicitly to suppress the warning\n",
      "\n",
      "/Library/Frameworks/Python.framework/Versions/3.10/lib/python3.10/site-packages/sklearn/cluster/_kmeans.py:1416: FutureWarning:\n",
      "\n",
      "The default value of `n_init` will change from 10 to 'auto' in 1.4. Set the value of `n_init` explicitly to suppress the warning\n",
      "\n",
      "/Library/Frameworks/Python.framework/Versions/3.10/lib/python3.10/site-packages/sklearn/cluster/_kmeans.py:1416: FutureWarning:\n",
      "\n",
      "The default value of `n_init` will change from 10 to 'auto' in 1.4. Set the value of `n_init` explicitly to suppress the warning\n",
      "\n",
      "/Library/Frameworks/Python.framework/Versions/3.10/lib/python3.10/site-packages/sklearn/cluster/_kmeans.py:1416: FutureWarning:\n",
      "\n",
      "The default value of `n_init` will change from 10 to 'auto' in 1.4. Set the value of `n_init` explicitly to suppress the warning\n",
      "\n",
      "/Library/Frameworks/Python.framework/Versions/3.10/lib/python3.10/site-packages/sklearn/cluster/_kmeans.py:1416: FutureWarning:\n",
      "\n",
      "The default value of `n_init` will change from 10 to 'auto' in 1.4. Set the value of `n_init` explicitly to suppress the warning\n",
      "\n",
      "/Library/Frameworks/Python.framework/Versions/3.10/lib/python3.10/site-packages/sklearn/cluster/_kmeans.py:1416: FutureWarning:\n",
      "\n",
      "The default value of `n_init` will change from 10 to 'auto' in 1.4. Set the value of `n_init` explicitly to suppress the warning\n",
      "\n",
      "/Library/Frameworks/Python.framework/Versions/3.10/lib/python3.10/site-packages/sklearn/cluster/_kmeans.py:1416: FutureWarning:\n",
      "\n",
      "The default value of `n_init` will change from 10 to 'auto' in 1.4. Set the value of `n_init` explicitly to suppress the warning\n",
      "\n",
      "/Library/Frameworks/Python.framework/Versions/3.10/lib/python3.10/site-packages/sklearn/cluster/_kmeans.py:1416: FutureWarning:\n",
      "\n",
      "The default value of `n_init` will change from 10 to 'auto' in 1.4. Set the value of `n_init` explicitly to suppress the warning\n",
      "\n",
      "/Library/Frameworks/Python.framework/Versions/3.10/lib/python3.10/site-packages/sklearn/cluster/_kmeans.py:1416: FutureWarning:\n",
      "\n",
      "The default value of `n_init` will change from 10 to 'auto' in 1.4. Set the value of `n_init` explicitly to suppress the warning\n",
      "\n",
      "/Library/Frameworks/Python.framework/Versions/3.10/lib/python3.10/site-packages/sklearn/cluster/_kmeans.py:1416: FutureWarning:\n",
      "\n",
      "The default value of `n_init` will change from 10 to 'auto' in 1.4. Set the value of `n_init` explicitly to suppress the warning\n",
      "\n",
      "/Library/Frameworks/Python.framework/Versions/3.10/lib/python3.10/site-packages/sklearn/cluster/_kmeans.py:1416: FutureWarning:\n",
      "\n",
      "The default value of `n_init` will change from 10 to 'auto' in 1.4. Set the value of `n_init` explicitly to suppress the warning\n",
      "\n",
      "/Library/Frameworks/Python.framework/Versions/3.10/lib/python3.10/site-packages/sklearn/cluster/_kmeans.py:1416: FutureWarning:\n",
      "\n",
      "The default value of `n_init` will change from 10 to 'auto' in 1.4. Set the value of `n_init` explicitly to suppress the warning\n",
      "\n",
      "/Library/Frameworks/Python.framework/Versions/3.10/lib/python3.10/site-packages/sklearn/cluster/_kmeans.py:1416: FutureWarning:\n",
      "\n",
      "The default value of `n_init` will change from 10 to 'auto' in 1.4. Set the value of `n_init` explicitly to suppress the warning\n",
      "\n",
      "/Library/Frameworks/Python.framework/Versions/3.10/lib/python3.10/site-packages/sklearn/cluster/_kmeans.py:1416: FutureWarning:\n",
      "\n",
      "The default value of `n_init` will change from 10 to 'auto' in 1.4. Set the value of `n_init` explicitly to suppress the warning\n",
      "\n",
      "/Library/Frameworks/Python.framework/Versions/3.10/lib/python3.10/site-packages/sklearn/cluster/_kmeans.py:1416: FutureWarning:\n",
      "\n",
      "The default value of `n_init` will change from 10 to 'auto' in 1.4. Set the value of `n_init` explicitly to suppress the warning\n",
      "\n",
      "/Library/Frameworks/Python.framework/Versions/3.10/lib/python3.10/site-packages/sklearn/cluster/_kmeans.py:1416: FutureWarning:\n",
      "\n",
      "The default value of `n_init` will change from 10 to 'auto' in 1.4. Set the value of `n_init` explicitly to suppress the warning\n",
      "\n",
      "/Library/Frameworks/Python.framework/Versions/3.10/lib/python3.10/site-packages/sklearn/cluster/_kmeans.py:1416: FutureWarning:\n",
      "\n",
      "The default value of `n_init` will change from 10 to 'auto' in 1.4. Set the value of `n_init` explicitly to suppress the warning\n",
      "\n",
      "/Library/Frameworks/Python.framework/Versions/3.10/lib/python3.10/site-packages/sklearn/cluster/_kmeans.py:1416: FutureWarning:\n",
      "\n",
      "The default value of `n_init` will change from 10 to 'auto' in 1.4. Set the value of `n_init` explicitly to suppress the warning\n",
      "\n",
      "/Library/Frameworks/Python.framework/Versions/3.10/lib/python3.10/site-packages/sklearn/cluster/_kmeans.py:1416: FutureWarning:\n",
      "\n",
      "The default value of `n_init` will change from 10 to 'auto' in 1.4. Set the value of `n_init` explicitly to suppress the warning\n",
      "\n",
      "/Library/Frameworks/Python.framework/Versions/3.10/lib/python3.10/site-packages/sklearn/cluster/_kmeans.py:1416: FutureWarning:\n",
      "\n",
      "The default value of `n_init` will change from 10 to 'auto' in 1.4. Set the value of `n_init` explicitly to suppress the warning\n",
      "\n",
      "/Library/Frameworks/Python.framework/Versions/3.10/lib/python3.10/site-packages/sklearn/cluster/_kmeans.py:1416: FutureWarning:\n",
      "\n",
      "The default value of `n_init` will change from 10 to 'auto' in 1.4. Set the value of `n_init` explicitly to suppress the warning\n",
      "\n",
      "/Library/Frameworks/Python.framework/Versions/3.10/lib/python3.10/site-packages/sklearn/cluster/_kmeans.py:1416: FutureWarning:\n",
      "\n",
      "The default value of `n_init` will change from 10 to 'auto' in 1.4. Set the value of `n_init` explicitly to suppress the warning\n",
      "\n",
      "/Library/Frameworks/Python.framework/Versions/3.10/lib/python3.10/site-packages/sklearn/cluster/_kmeans.py:1416: FutureWarning:\n",
      "\n",
      "The default value of `n_init` will change from 10 to 'auto' in 1.4. Set the value of `n_init` explicitly to suppress the warning\n",
      "\n",
      "/Library/Frameworks/Python.framework/Versions/3.10/lib/python3.10/site-packages/sklearn/cluster/_kmeans.py:1416: FutureWarning:\n",
      "\n",
      "The default value of `n_init` will change from 10 to 'auto' in 1.4. Set the value of `n_init` explicitly to suppress the warning\n",
      "\n",
      "/Library/Frameworks/Python.framework/Versions/3.10/lib/python3.10/site-packages/sklearn/cluster/_kmeans.py:1416: FutureWarning:\n",
      "\n",
      "The default value of `n_init` will change from 10 to 'auto' in 1.4. Set the value of `n_init` explicitly to suppress the warning\n",
      "\n",
      "/Library/Frameworks/Python.framework/Versions/3.10/lib/python3.10/site-packages/sklearn/cluster/_kmeans.py:1416: FutureWarning:\n",
      "\n",
      "The default value of `n_init` will change from 10 to 'auto' in 1.4. Set the value of `n_init` explicitly to suppress the warning\n",
      "\n",
      "/Library/Frameworks/Python.framework/Versions/3.10/lib/python3.10/site-packages/sklearn/cluster/_kmeans.py:1416: FutureWarning:\n",
      "\n",
      "The default value of `n_init` will change from 10 to 'auto' in 1.4. Set the value of `n_init` explicitly to suppress the warning\n",
      "\n",
      "/Library/Frameworks/Python.framework/Versions/3.10/lib/python3.10/site-packages/sklearn/cluster/_kmeans.py:1416: FutureWarning:\n",
      "\n",
      "The default value of `n_init` will change from 10 to 'auto' in 1.4. Set the value of `n_init` explicitly to suppress the warning\n",
      "\n",
      "/Library/Frameworks/Python.framework/Versions/3.10/lib/python3.10/site-packages/sklearn/cluster/_kmeans.py:1416: FutureWarning:\n",
      "\n",
      "The default value of `n_init` will change from 10 to 'auto' in 1.4. Set the value of `n_init` explicitly to suppress the warning\n",
      "\n",
      "/Library/Frameworks/Python.framework/Versions/3.10/lib/python3.10/site-packages/sklearn/cluster/_kmeans.py:1416: FutureWarning:\n",
      "\n",
      "The default value of `n_init` will change from 10 to 'auto' in 1.4. Set the value of `n_init` explicitly to suppress the warning\n",
      "\n",
      "/Library/Frameworks/Python.framework/Versions/3.10/lib/python3.10/site-packages/sklearn/cluster/_kmeans.py:1416: FutureWarning:\n",
      "\n",
      "The default value of `n_init` will change from 10 to 'auto' in 1.4. Set the value of `n_init` explicitly to suppress the warning\n",
      "\n",
      "/Library/Frameworks/Python.framework/Versions/3.10/lib/python3.10/site-packages/sklearn/cluster/_kmeans.py:1416: FutureWarning:\n",
      "\n",
      "The default value of `n_init` will change from 10 to 'auto' in 1.4. Set the value of `n_init` explicitly to suppress the warning\n",
      "\n",
      "/Library/Frameworks/Python.framework/Versions/3.10/lib/python3.10/site-packages/sklearn/cluster/_kmeans.py:1416: FutureWarning:\n",
      "\n",
      "The default value of `n_init` will change from 10 to 'auto' in 1.4. Set the value of `n_init` explicitly to suppress the warning\n",
      "\n",
      "/Library/Frameworks/Python.framework/Versions/3.10/lib/python3.10/site-packages/sklearn/cluster/_kmeans.py:1416: FutureWarning:\n",
      "\n",
      "The default value of `n_init` will change from 10 to 'auto' in 1.4. Set the value of `n_init` explicitly to suppress the warning\n",
      "\n",
      "/Library/Frameworks/Python.framework/Versions/3.10/lib/python3.10/site-packages/sklearn/cluster/_kmeans.py:1416: FutureWarning:\n",
      "\n",
      "The default value of `n_init` will change from 10 to 'auto' in 1.4. Set the value of `n_init` explicitly to suppress the warning\n",
      "\n",
      "/Library/Frameworks/Python.framework/Versions/3.10/lib/python3.10/site-packages/sklearn/cluster/_kmeans.py:1416: FutureWarning:\n",
      "\n",
      "The default value of `n_init` will change from 10 to 'auto' in 1.4. Set the value of `n_init` explicitly to suppress the warning\n",
      "\n",
      "/Library/Frameworks/Python.framework/Versions/3.10/lib/python3.10/site-packages/sklearn/cluster/_kmeans.py:1416: FutureWarning:\n",
      "\n",
      "The default value of `n_init` will change from 10 to 'auto' in 1.4. Set the value of `n_init` explicitly to suppress the warning\n",
      "\n"
     ]
    },
    {
     "data": {
      "text/html": [
       "<div>\n",
       "<style scoped>\n",
       "    .dataframe tbody tr th:only-of-type {\n",
       "        vertical-align: middle;\n",
       "    }\n",
       "\n",
       "    .dataframe tbody tr th {\n",
       "        vertical-align: top;\n",
       "    }\n",
       "\n",
       "    .dataframe thead th {\n",
       "        text-align: right;\n",
       "    }\n",
       "</style>\n",
       "<table border=\"1\" class=\"dataframe\">\n",
       "  <thead>\n",
       "    <tr style=\"text-align: right;\">\n",
       "      <th></th>\n",
       "      <th>Substation Name</th>\n",
       "      <th>Grid Group</th>\n",
       "      <th>Firm Capacity (MVA)</th>\n",
       "      <th>Maximum Load (MVA)</th>\n",
       "      <th>Overall Category</th>\n",
       "      <th>X</th>\n",
       "      <th>Y</th>\n",
       "      <th>long</th>\n",
       "      <th>lat</th>\n",
       "      <th>lat_group</th>\n",
       "      <th>long_group</th>\n",
       "      <th>distance</th>\n",
       "    </tr>\n",
       "  </thead>\n",
       "  <tbody>\n",
       "    <tr>\n",
       "      <th>0</th>\n",
       "      <td>DICKINSONS</td>\n",
       "      <td>ACORNFIELD RD T1 / DICKINSONS T1 / HAMMOND RD ...</td>\n",
       "      <td>30.0</td>\n",
       "      <td>14.71</td>\n",
       "      <td>RED</td>\n",
       "      <td>342713.8240</td>\n",
       "      <td>398255.232</td>\n",
       "      <td>-2.868960</td>\n",
       "      <td>53.479467</td>\n",
       "      <td>53.484225</td>\n",
       "      <td>-2.859639</td>\n",
       "      <td>0.010465</td>\n",
       "    </tr>\n",
       "    <tr>\n",
       "      <th>1</th>\n",
       "      <td>WAVERTREE</td>\n",
       "      <td>AIGBURTH VALE T1 / IVY AVE T1 / MATHER AVE T1 ...</td>\n",
       "      <td>37.5</td>\n",
       "      <td>18.97</td>\n",
       "      <td>RED</td>\n",
       "      <td>339018.8312</td>\n",
       "      <td>388483.665</td>\n",
       "      <td>-2.920402</td>\n",
       "      <td>53.392115</td>\n",
       "      <td>53.378845</td>\n",
       "      <td>-2.920549</td>\n",
       "      <td>0.013271</td>\n",
       "    </tr>\n",
       "    <tr>\n",
       "      <th>2</th>\n",
       "      <td>AINTREE</td>\n",
       "      <td>AINTREE LOCAL T1 / OLD ROAN T1 / WANGO LA T1</td>\n",
       "      <td>20.0</td>\n",
       "      <td>11.67</td>\n",
       "      <td>AMBER</td>\n",
       "      <td>336740.4480</td>\n",
       "      <td>398306.688</td>\n",
       "      <td>-2.952121</td>\n",
       "      <td>53.479927</td>\n",
       "      <td>53.482212</td>\n",
       "      <td>-2.940717</td>\n",
       "      <td>0.011630</td>\n",
       "    </tr>\n",
       "    <tr>\n",
       "      <th>3</th>\n",
       "      <td>WAVERTREE VALE</td>\n",
       "      <td>ARUNDEL T1 / GROVE PK T1 / WAVERTREE VALE T1</td>\n",
       "      <td>17.5</td>\n",
       "      <td>10.12</td>\n",
       "      <td>RED</td>\n",
       "      <td>337981.9520</td>\n",
       "      <td>389512.576</td>\n",
       "      <td>-2.934837</td>\n",
       "      <td>53.401313</td>\n",
       "      <td>53.395105</td>\n",
       "      <td>-2.936518</td>\n",
       "      <td>0.006432</td>\n",
       "    </tr>\n",
       "    <tr>\n",
       "      <th>4</th>\n",
       "      <td>LARK LANE</td>\n",
       "      <td>BEAUMONT ST T1 / DINGLE VALE T1 / LARK LA T1 /...</td>\n",
       "      <td>30.0</td>\n",
       "      <td>20.86</td>\n",
       "      <td>RED</td>\n",
       "      <td>337278.9120</td>\n",
       "      <td>387620.384</td>\n",
       "      <td>-2.944624</td>\n",
       "      <td>53.384398</td>\n",
       "      <td>53.389567</td>\n",
       "      <td>-2.958804</td>\n",
       "      <td>0.015092</td>\n",
       "    </tr>\n",
       "  </tbody>\n",
       "</table>\n",
       "</div>"
      ],
      "text/plain": [
       "  Substation Name                                         Grid Group  \\\n",
       "0      DICKINSONS  ACORNFIELD RD T1 / DICKINSONS T1 / HAMMOND RD ...   \n",
       "1       WAVERTREE  AIGBURTH VALE T1 / IVY AVE T1 / MATHER AVE T1 ...   \n",
       "2         AINTREE       AINTREE LOCAL T1 / OLD ROAN T1 / WANGO LA T1   \n",
       "3  WAVERTREE VALE       ARUNDEL T1 / GROVE PK T1 / WAVERTREE VALE T1   \n",
       "4       LARK LANE  BEAUMONT ST T1 / DINGLE VALE T1 / LARK LA T1 /...   \n",
       "\n",
       "   Firm Capacity (MVA)  Maximum Load (MVA) Overall Category            X  \\\n",
       "0                 30.0               14.71              RED  342713.8240   \n",
       "1                 37.5               18.97              RED  339018.8312   \n",
       "2                 20.0               11.67            AMBER  336740.4480   \n",
       "3                 17.5               10.12              RED  337981.9520   \n",
       "4                 30.0               20.86              RED  337278.9120   \n",
       "\n",
       "            Y      long        lat  lat_group  long_group  distance  \n",
       "0  398255.232 -2.868960  53.479467  53.484225   -2.859639  0.010465  \n",
       "1  388483.665 -2.920402  53.392115  53.378845   -2.920549  0.013271  \n",
       "2  398306.688 -2.952121  53.479927  53.482212   -2.940717  0.011630  \n",
       "3  389512.576 -2.934837  53.401313  53.395105   -2.936518  0.006432  \n",
       "4  387620.384 -2.944624  53.384398  53.389567   -2.958804  0.015092  "
      ]
     },
     "execution_count": 267,
     "metadata": {},
     "output_type": "execute_result"
    }
   ],
   "source": [
    "for gg in df_sub['Grid Group'].unique():\n",
    "    df = df_sub.query('`Grid Group` == \"' + gg + '\"')[['lat', 'long']]\n",
    "    kmeans = KMeans(n_clusters=1)\n",
    "    kmeans.fit(df)\n",
    "    df_sub.loc[df_sub['Grid Group'] == gg, 'lat_group'] = kmeans.cluster_centers_[0][0]\n",
    "    df_sub.loc[df_sub['Grid Group'] == gg, 'long_group'] = kmeans.cluster_centers_[0][1]\n",
    "df_sub['distance'] = ((df_sub['lat'] - df_sub['lat_group']) **2 + (df_sub['long'] - df_sub['long_group']) **2) **0.5 # euclidean distance\n",
    "# df_sub.to_excel('gg.xlsx', index=False)\n",
    "df_sub.head()"
   ]
  },
  {
   "cell_type": "markdown",
   "metadata": {},
   "source": [
    "# flow - substations\n",
    "match capacity (MVA) with flow (MW)"
   ]
  },
  {
   "cell_type": "code",
   "execution_count": 268,
   "metadata": {},
   "outputs": [
    {
     "data": {
      "text/html": [
       "<div>\n",
       "<style scoped>\n",
       "    .dataframe tbody tr th:only-of-type {\n",
       "        vertical-align: middle;\n",
       "    }\n",
       "\n",
       "    .dataframe tbody tr th {\n",
       "        vertical-align: top;\n",
       "    }\n",
       "\n",
       "    .dataframe thead th {\n",
       "        text-align: right;\n",
       "    }\n",
       "</style>\n",
       "<table border=\"1\" class=\"dataframe\">\n",
       "  <thead>\n",
       "    <tr style=\"text-align: right;\">\n",
       "      <th></th>\n",
       "      <th>group_name</th>\n",
       "      <th>net_mw_mean</th>\n",
       "      <th>net_mw_max</th>\n",
       "      <th>generation_output_mw_mean</th>\n",
       "      <th>generation_output_mw_max</th>\n",
       "      <th>underlying_demand_mw_mean</th>\n",
       "      <th>underlying_demand_mw_max</th>\n",
       "    </tr>\n",
       "  </thead>\n",
       "  <tbody>\n",
       "    <tr>\n",
       "      <th>0</th>\n",
       "      <td>ACORNFIELD RD T1 / DICKINSONS T1 / HAMMOND RD ...</td>\n",
       "      <td>8.105243</td>\n",
       "      <td>15.288</td>\n",
       "      <td>0.000000</td>\n",
       "      <td>0.0</td>\n",
       "      <td>8.105243</td>\n",
       "      <td>15.288</td>\n",
       "    </tr>\n",
       "    <tr>\n",
       "      <th>1</th>\n",
       "      <td>AIGBURTH VALE T1 / IVY AVE T1 / MATHER AVE T1 ...</td>\n",
       "      <td>9.724854</td>\n",
       "      <td>20.424</td>\n",
       "      <td>0.000000</td>\n",
       "      <td>0.0</td>\n",
       "      <td>9.724854</td>\n",
       "      <td>20.424</td>\n",
       "    </tr>\n",
       "    <tr>\n",
       "      <th>2</th>\n",
       "      <td>AINSDALE T1 / PINFOLD LA T1</td>\n",
       "      <td>2.467226</td>\n",
       "      <td>5.668</td>\n",
       "      <td>0.000000</td>\n",
       "      <td>0.0</td>\n",
       "      <td>2.467226</td>\n",
       "      <td>5.668</td>\n",
       "    </tr>\n",
       "    <tr>\n",
       "      <th>3</th>\n",
       "      <td>AINTREE GT1 / FORMBY GT2A / LITHERLAND GT1B</td>\n",
       "      <td>26.751864</td>\n",
       "      <td>48.584</td>\n",
       "      <td>0.000000</td>\n",
       "      <td>0.0</td>\n",
       "      <td>26.751864</td>\n",
       "      <td>48.584</td>\n",
       "    </tr>\n",
       "    <tr>\n",
       "      <th>4</th>\n",
       "      <td>AINTREE GT2 / FAZAKERLEY GT1 / GILLMOSS GT2</td>\n",
       "      <td>30.095884</td>\n",
       "      <td>65.356</td>\n",
       "      <td>0.000000</td>\n",
       "      <td>0.0</td>\n",
       "      <td>30.095884</td>\n",
       "      <td>65.356</td>\n",
       "    </tr>\n",
       "    <tr>\n",
       "      <th>...</th>\n",
       "      <td>...</td>\n",
       "      <td>...</td>\n",
       "      <td>...</td>\n",
       "      <td>...</td>\n",
       "      <td>...</td>\n",
       "      <td>...</td>\n",
       "      <td>...</td>\n",
       "    </tr>\n",
       "    <tr>\n",
       "      <th>86</th>\n",
       "      <td>Paddington Place T1 / Paddington Place T2</td>\n",
       "      <td>0.085609</td>\n",
       "      <td>0.086</td>\n",
       "      <td>0.000000</td>\n",
       "      <td>0.0</td>\n",
       "      <td>0.085609</td>\n",
       "      <td>0.086</td>\n",
       "    </tr>\n",
       "    <tr>\n",
       "      <th>87</th>\n",
       "      <td>RAINHILL</td>\n",
       "      <td>183.204562</td>\n",
       "      <td>314.235</td>\n",
       "      <td>-31.569335</td>\n",
       "      <td>-0.0</td>\n",
       "      <td>214.773897</td>\n",
       "      <td>331.875</td>\n",
       "    </tr>\n",
       "    <tr>\n",
       "      <th>88</th>\n",
       "      <td>RAVENHEAD G1A1 / ST HELENS GT1 / WINDLE GT1</td>\n",
       "      <td>19.364394</td>\n",
       "      <td>39.394</td>\n",
       "      <td>-11.700000</td>\n",
       "      <td>-11.7</td>\n",
       "      <td>31.064394</td>\n",
       "      <td>51.094</td>\n",
       "    </tr>\n",
       "    <tr>\n",
       "      <th>89</th>\n",
       "      <td>ROYAL INSURANCE (NEW QUAY) T1 / ROYAL INSURANC...</td>\n",
       "      <td>0.261790</td>\n",
       "      <td>0.455</td>\n",
       "      <td>0.000000</td>\n",
       "      <td>0.0</td>\n",
       "      <td>0.261790</td>\n",
       "      <td>0.455</td>\n",
       "    </tr>\n",
       "    <tr>\n",
       "      <th>90</th>\n",
       "      <td>Wavertree Boulevard T1 / Wavertree Boulevard T2</td>\n",
       "      <td>6.350573</td>\n",
       "      <td>14.122</td>\n",
       "      <td>0.000000</td>\n",
       "      <td>0.0</td>\n",
       "      <td>6.350573</td>\n",
       "      <td>14.122</td>\n",
       "    </tr>\n",
       "  </tbody>\n",
       "</table>\n",
       "<p>91 rows × 7 columns</p>\n",
       "</div>"
      ],
      "text/plain": [
       "                                           group_name  net_mw_mean  \\\n",
       "0   ACORNFIELD RD T1 / DICKINSONS T1 / HAMMOND RD ...     8.105243   \n",
       "1   AIGBURTH VALE T1 / IVY AVE T1 / MATHER AVE T1 ...     9.724854   \n",
       "2                         AINSDALE T1 / PINFOLD LA T1     2.467226   \n",
       "3         AINTREE GT1 / FORMBY GT2A / LITHERLAND GT1B    26.751864   \n",
       "4         AINTREE GT2 / FAZAKERLEY GT1 / GILLMOSS GT2    30.095884   \n",
       "..                                                ...          ...   \n",
       "86          Paddington Place T1 / Paddington Place T2     0.085609   \n",
       "87                                           RAINHILL   183.204562   \n",
       "88        RAVENHEAD G1A1 / ST HELENS GT1 / WINDLE GT1    19.364394   \n",
       "89  ROYAL INSURANCE (NEW QUAY) T1 / ROYAL INSURANC...     0.261790   \n",
       "90    Wavertree Boulevard T1 / Wavertree Boulevard T2     6.350573   \n",
       "\n",
       "    net_mw_max  generation_output_mw_mean  generation_output_mw_max  \\\n",
       "0       15.288                   0.000000                       0.0   \n",
       "1       20.424                   0.000000                       0.0   \n",
       "2        5.668                   0.000000                       0.0   \n",
       "3       48.584                   0.000000                       0.0   \n",
       "4       65.356                   0.000000                       0.0   \n",
       "..         ...                        ...                       ...   \n",
       "86       0.086                   0.000000                       0.0   \n",
       "87     314.235                 -31.569335                      -0.0   \n",
       "88      39.394                 -11.700000                     -11.7   \n",
       "89       0.455                   0.000000                       0.0   \n",
       "90      14.122                   0.000000                       0.0   \n",
       "\n",
       "    underlying_demand_mw_mean  underlying_demand_mw_max  \n",
       "0                    8.105243                    15.288  \n",
       "1                    9.724854                    20.424  \n",
       "2                    2.467226                     5.668  \n",
       "3                   26.751864                    48.584  \n",
       "4                   30.095884                    65.356  \n",
       "..                        ...                       ...  \n",
       "86                   0.085609                     0.086  \n",
       "87                 214.773897                   331.875  \n",
       "88                  31.064394                    51.094  \n",
       "89                   0.261790                     0.455  \n",
       "90                   6.350573                    14.122  \n",
       "\n",
       "[91 rows x 7 columns]"
      ]
     },
     "execution_count": 268,
     "metadata": {},
     "output_type": "execute_result"
    }
   ],
   "source": [
    "# define helper function as method to flatten grouped columns\n",
    "def __my_flatten_cols(self, how=\"_\", reset_index=True):\n",
    "    if isinstance(self.columns, pd.MultiIndex):\n",
    "        self.columns = [how.join(c_name) for c_name in self.columns.values]\n",
    "    return self.reset_index() if reset_index else self\n",
    "pd.DataFrame.my_flatten_cols = __my_flatten_cols\n",
    "df_flow_sub = df_flow_m.groupby('group_name')[['net_mw', 'generation_output_mw', 'underlying_demand_mw']].agg(['mean', 'max'])\n",
    "df_flow_sub = df_flow_sub.my_flatten_cols()\n",
    "df_flow_sub"
   ]
  },
  {
   "cell_type": "code",
   "execution_count": 269,
   "metadata": {},
   "outputs": [
    {
     "data": {
      "text/html": [
       "<div>\n",
       "<style scoped>\n",
       "    .dataframe tbody tr th:only-of-type {\n",
       "        vertical-align: middle;\n",
       "    }\n",
       "\n",
       "    .dataframe tbody tr th {\n",
       "        vertical-align: top;\n",
       "    }\n",
       "\n",
       "    .dataframe thead th {\n",
       "        text-align: right;\n",
       "    }\n",
       "</style>\n",
       "<table border=\"1\" class=\"dataframe\">\n",
       "  <thead>\n",
       "    <tr style=\"text-align: right;\">\n",
       "      <th></th>\n",
       "      <th>Grid Group</th>\n",
       "      <th>lat_group</th>\n",
       "      <th>long_group</th>\n",
       "      <th>group_name</th>\n",
       "      <th>net_mw_mean</th>\n",
       "      <th>net_mw_max</th>\n",
       "      <th>generation_output_mw_mean</th>\n",
       "      <th>generation_output_mw_max</th>\n",
       "      <th>underlying_demand_mw_mean</th>\n",
       "      <th>underlying_demand_mw_max</th>\n",
       "    </tr>\n",
       "  </thead>\n",
       "  <tbody>\n",
       "    <tr>\n",
       "      <th>0</th>\n",
       "      <td>ACORNFIELD RD T1 / DICKINSONS T1 / HAMMOND RD ...</td>\n",
       "      <td>53.484225</td>\n",
       "      <td>-2.859639</td>\n",
       "      <td>ACORNFIELD RD T1 / DICKINSONS T1 / HAMMOND RD ...</td>\n",
       "      <td>8.105243</td>\n",
       "      <td>15.288</td>\n",
       "      <td>0.0</td>\n",
       "      <td>0.0</td>\n",
       "      <td>8.105243</td>\n",
       "      <td>15.288</td>\n",
       "    </tr>\n",
       "    <tr>\n",
       "      <th>1</th>\n",
       "      <td>AIGBURTH VALE T1 / IVY AVE T1 / MATHER AVE T1 ...</td>\n",
       "      <td>53.378845</td>\n",
       "      <td>-2.920549</td>\n",
       "      <td>AIGBURTH VALE T1 / IVY AVE T1 / MATHER AVE T1 ...</td>\n",
       "      <td>9.724854</td>\n",
       "      <td>20.424</td>\n",
       "      <td>0.0</td>\n",
       "      <td>0.0</td>\n",
       "      <td>9.724854</td>\n",
       "      <td>20.424</td>\n",
       "    </tr>\n",
       "    <tr>\n",
       "      <th>2</th>\n",
       "      <td>AINTREE LOCAL T1 / OLD ROAN T1 / WANGO LA T1</td>\n",
       "      <td>53.482212</td>\n",
       "      <td>-2.940717</td>\n",
       "      <td>AINTREE LOCAL T1 / OLD ROAN T1 / WANGO LA T1</td>\n",
       "      <td>5.834762</td>\n",
       "      <td>38.009</td>\n",
       "      <td>0.0</td>\n",
       "      <td>0.0</td>\n",
       "      <td>5.834762</td>\n",
       "      <td>38.009</td>\n",
       "    </tr>\n",
       "    <tr>\n",
       "      <th>3</th>\n",
       "      <td>ARUNDEL T1 / GROVE PK T1 / WAVERTREE VALE T1</td>\n",
       "      <td>53.395105</td>\n",
       "      <td>-2.936518</td>\n",
       "      <td>ARUNDEL T1 / GROVE PK T1 / WAVERTREE VALE T1</td>\n",
       "      <td>5.486079</td>\n",
       "      <td>11.504</td>\n",
       "      <td>0.0</td>\n",
       "      <td>0.0</td>\n",
       "      <td>5.486079</td>\n",
       "      <td>11.504</td>\n",
       "    </tr>\n",
       "    <tr>\n",
       "      <th>4</th>\n",
       "      <td>BEAUMONT ST T1 / DINGLE VALE T1 / LARK LA T1 /...</td>\n",
       "      <td>53.389567</td>\n",
       "      <td>-2.958804</td>\n",
       "      <td>BEAUMONT ST T1 / DINGLE VALE T1 / LARK LA T1 /...</td>\n",
       "      <td>10.689578</td>\n",
       "      <td>19.826</td>\n",
       "      <td>0.0</td>\n",
       "      <td>0.0</td>\n",
       "      <td>10.689578</td>\n",
       "      <td>19.826</td>\n",
       "    </tr>\n",
       "  </tbody>\n",
       "</table>\n",
       "</div>"
      ],
      "text/plain": [
       "                                          Grid Group  lat_group  long_group  \\\n",
       "0  ACORNFIELD RD T1 / DICKINSONS T1 / HAMMOND RD ...  53.484225   -2.859639   \n",
       "1  AIGBURTH VALE T1 / IVY AVE T1 / MATHER AVE T1 ...  53.378845   -2.920549   \n",
       "2       AINTREE LOCAL T1 / OLD ROAN T1 / WANGO LA T1  53.482212   -2.940717   \n",
       "3       ARUNDEL T1 / GROVE PK T1 / WAVERTREE VALE T1  53.395105   -2.936518   \n",
       "4  BEAUMONT ST T1 / DINGLE VALE T1 / LARK LA T1 /...  53.389567   -2.958804   \n",
       "\n",
       "                                          group_name  net_mw_mean  net_mw_max  \\\n",
       "0  ACORNFIELD RD T1 / DICKINSONS T1 / HAMMOND RD ...     8.105243      15.288   \n",
       "1  AIGBURTH VALE T1 / IVY AVE T1 / MATHER AVE T1 ...     9.724854      20.424   \n",
       "2       AINTREE LOCAL T1 / OLD ROAN T1 / WANGO LA T1     5.834762      38.009   \n",
       "3       ARUNDEL T1 / GROVE PK T1 / WAVERTREE VALE T1     5.486079      11.504   \n",
       "4  BEAUMONT ST T1 / DINGLE VALE T1 / LARK LA T1 /...    10.689578      19.826   \n",
       "\n",
       "   generation_output_mw_mean  generation_output_mw_max  \\\n",
       "0                        0.0                       0.0   \n",
       "1                        0.0                       0.0   \n",
       "2                        0.0                       0.0   \n",
       "3                        0.0                       0.0   \n",
       "4                        0.0                       0.0   \n",
       "\n",
       "   underlying_demand_mw_mean  underlying_demand_mw_max  \n",
       "0                   8.105243                    15.288  \n",
       "1                   9.724854                    20.424  \n",
       "2                   5.834762                    38.009  \n",
       "3                   5.486079                    11.504  \n",
       "4                  10.689578                    19.826  "
      ]
     },
     "execution_count": 269,
     "metadata": {},
     "output_type": "execute_result"
    }
   ],
   "source": [
    "df_flow_gg = pd.merge(df_sub[['Grid Group', 'lat_group', 'long_group']].drop_duplicates(subset='Grid Group'), df_flow_sub, 'left', left_on='Grid Group', right_on='group_name')\n",
    "df_flow_gg.to_excel('flow_gg.xlsx', index=False)\n",
    "df_flow_gg.head()"
   ]
  },
  {
   "cell_type": "markdown",
   "metadata": {},
   "source": [
    "## substation not in flow"
   ]
  },
  {
   "cell_type": "code",
   "execution_count": 270,
   "metadata": {},
   "outputs": [
    {
     "data": {
      "text/html": [
       "<div>\n",
       "<style scoped>\n",
       "    .dataframe tbody tr th:only-of-type {\n",
       "        vertical-align: middle;\n",
       "    }\n",
       "\n",
       "    .dataframe tbody tr th {\n",
       "        vertical-align: top;\n",
       "    }\n",
       "\n",
       "    .dataframe thead th {\n",
       "        text-align: right;\n",
       "    }\n",
       "</style>\n",
       "<table border=\"1\" class=\"dataframe\">\n",
       "  <thead>\n",
       "    <tr style=\"text-align: right;\">\n",
       "      <th></th>\n",
       "      <th>Grid Group</th>\n",
       "      <th>lat_group</th>\n",
       "      <th>long_group</th>\n",
       "      <th>group_name</th>\n",
       "      <th>net_mw_mean</th>\n",
       "      <th>net_mw_max</th>\n",
       "      <th>generation_output_mw_mean</th>\n",
       "      <th>generation_output_mw_max</th>\n",
       "      <th>underlying_demand_mw_mean</th>\n",
       "      <th>underlying_demand_mw_max</th>\n",
       "    </tr>\n",
       "  </thead>\n",
       "  <tbody>\n",
       "    <tr>\n",
       "      <th>13</th>\n",
       "      <td>DELAMORE ST T1 / KIRKDALE T1 / WALTON T1</td>\n",
       "      <td>53.442105</td>\n",
       "      <td>-2.969258</td>\n",
       "      <td>NaN</td>\n",
       "      <td>NaN</td>\n",
       "      <td>NaN</td>\n",
       "      <td>NaN</td>\n",
       "      <td>NaN</td>\n",
       "      <td>NaN</td>\n",
       "      <td>NaN</td>\n",
       "    </tr>\n",
       "    <tr>\n",
       "      <th>36</th>\n",
       "      <td>CLUBMOOR T1 / DUNLOPS WALTON T1 / WALTON T2</td>\n",
       "      <td>53.447063</td>\n",
       "      <td>-2.954240</td>\n",
       "      <td>NaN</td>\n",
       "      <td>NaN</td>\n",
       "      <td>NaN</td>\n",
       "      <td>NaN</td>\n",
       "      <td>NaN</td>\n",
       "      <td>NaN</td>\n",
       "      <td>NaN</td>\n",
       "    </tr>\n",
       "    <tr>\n",
       "      <th>56</th>\n",
       "      <td>ALMATEX T1 / ST HELENS WWTW T1 / WATERY LA T2 ...</td>\n",
       "      <td>53.448818</td>\n",
       "      <td>-2.721619</td>\n",
       "      <td>NaN</td>\n",
       "      <td>NaN</td>\n",
       "      <td>NaN</td>\n",
       "      <td>NaN</td>\n",
       "      <td>NaN</td>\n",
       "      <td>NaN</td>\n",
       "      <td>NaN</td>\n",
       "    </tr>\n",
       "    <tr>\n",
       "      <th>62</th>\n",
       "      <td>BEECH ST T1 / LISTER DV A T2</td>\n",
       "      <td>53.417429</td>\n",
       "      <td>-2.937336</td>\n",
       "      <td>NaN</td>\n",
       "      <td>NaN</td>\n",
       "      <td>NaN</td>\n",
       "      <td>NaN</td>\n",
       "      <td>NaN</td>\n",
       "      <td>NaN</td>\n",
       "      <td>NaN</td>\n",
       "    </tr>\n",
       "    <tr>\n",
       "      <th>66</th>\n",
       "      <td>ex BIXTETH ST T1 / LITTLEWOODS T1 / PALL MALL T1</td>\n",
       "      <td>53.413223</td>\n",
       "      <td>-2.989460</td>\n",
       "      <td>NaN</td>\n",
       "      <td>NaN</td>\n",
       "      <td>NaN</td>\n",
       "      <td>NaN</td>\n",
       "      <td>NaN</td>\n",
       "      <td>NaN</td>\n",
       "      <td>NaN</td>\n",
       "    </tr>\n",
       "    <tr>\n",
       "      <th>76</th>\n",
       "      <td>BOLD G2A / PRESCOT GT1B / WIDNES GT1 / WIDNES GT2</td>\n",
       "      <td>53.406818</td>\n",
       "      <td>-2.759615</td>\n",
       "      <td>NaN</td>\n",
       "      <td>NaN</td>\n",
       "      <td>NaN</td>\n",
       "      <td>NaN</td>\n",
       "      <td>NaN</td>\n",
       "      <td>NaN</td>\n",
       "      <td>NaN</td>\n",
       "    </tr>\n",
       "    <tr>\n",
       "      <th>81</th>\n",
       "      <td>RAVENHEAD G1A1 / ST HELENS GT2B / WINDLE GT1</td>\n",
       "      <td>53.456002</td>\n",
       "      <td>-2.760072</td>\n",
       "      <td>NaN</td>\n",
       "      <td>NaN</td>\n",
       "      <td>NaN</td>\n",
       "      <td>NaN</td>\n",
       "      <td>NaN</td>\n",
       "      <td>NaN</td>\n",
       "      <td>NaN</td>\n",
       "    </tr>\n",
       "    <tr>\n",
       "      <th>82</th>\n",
       "      <td>BOLD G4B / RAVENHEAD G1A2 / ST HELENS GT2A</td>\n",
       "      <td>53.444682</td>\n",
       "      <td>-2.745978</td>\n",
       "      <td>NaN</td>\n",
       "      <td>NaN</td>\n",
       "      <td>NaN</td>\n",
       "      <td>NaN</td>\n",
       "      <td>NaN</td>\n",
       "      <td>NaN</td>\n",
       "      <td>NaN</td>\n",
       "    </tr>\n",
       "  </tbody>\n",
       "</table>\n",
       "</div>"
      ],
      "text/plain": [
       "                                           Grid Group  lat_group  long_group  \\\n",
       "13           DELAMORE ST T1 / KIRKDALE T1 / WALTON T1  53.442105   -2.969258   \n",
       "36        CLUBMOOR T1 / DUNLOPS WALTON T1 / WALTON T2  53.447063   -2.954240   \n",
       "56  ALMATEX T1 / ST HELENS WWTW T1 / WATERY LA T2 ...  53.448818   -2.721619   \n",
       "62                       BEECH ST T1 / LISTER DV A T2  53.417429   -2.937336   \n",
       "66   ex BIXTETH ST T1 / LITTLEWOODS T1 / PALL MALL T1  53.413223   -2.989460   \n",
       "76  BOLD G2A / PRESCOT GT1B / WIDNES GT1 / WIDNES GT2  53.406818   -2.759615   \n",
       "81       RAVENHEAD G1A1 / ST HELENS GT2B / WINDLE GT1  53.456002   -2.760072   \n",
       "82         BOLD G4B / RAVENHEAD G1A2 / ST HELENS GT2A  53.444682   -2.745978   \n",
       "\n",
       "   group_name  net_mw_mean  net_mw_max  generation_output_mw_mean  \\\n",
       "13        NaN          NaN         NaN                        NaN   \n",
       "36        NaN          NaN         NaN                        NaN   \n",
       "56        NaN          NaN         NaN                        NaN   \n",
       "62        NaN          NaN         NaN                        NaN   \n",
       "66        NaN          NaN         NaN                        NaN   \n",
       "76        NaN          NaN         NaN                        NaN   \n",
       "81        NaN          NaN         NaN                        NaN   \n",
       "82        NaN          NaN         NaN                        NaN   \n",
       "\n",
       "    generation_output_mw_max  underlying_demand_mw_mean  \\\n",
       "13                       NaN                        NaN   \n",
       "36                       NaN                        NaN   \n",
       "56                       NaN                        NaN   \n",
       "62                       NaN                        NaN   \n",
       "66                       NaN                        NaN   \n",
       "76                       NaN                        NaN   \n",
       "81                       NaN                        NaN   \n",
       "82                       NaN                        NaN   \n",
       "\n",
       "    underlying_demand_mw_max  \n",
       "13                       NaN  \n",
       "36                       NaN  \n",
       "56                       NaN  \n",
       "62                       NaN  \n",
       "66                       NaN  \n",
       "76                       NaN  \n",
       "81                       NaN  \n",
       "82                       NaN  "
      ]
     },
     "execution_count": 270,
     "metadata": {},
     "output_type": "execute_result"
    }
   ],
   "source": [
    "df_sub_miss = df_flow_gg[df_flow_gg['group_name'].isna()]\n",
    "df_sub_miss.to_excel('sub_no_flow.xlsx', index=False)\n",
    "df_sub_miss"
   ]
  },
  {
   "cell_type": "markdown",
   "metadata": {},
   "source": [
    "## flow not in substation"
   ]
  },
  {
   "cell_type": "code",
   "execution_count": 271,
   "metadata": {},
   "outputs": [
    {
     "data": {
      "text/html": [
       "<div>\n",
       "<style scoped>\n",
       "    .dataframe tbody tr th:only-of-type {\n",
       "        vertical-align: middle;\n",
       "    }\n",
       "\n",
       "    .dataframe tbody tr th {\n",
       "        vertical-align: top;\n",
       "    }\n",
       "\n",
       "    .dataframe thead th {\n",
       "        text-align: right;\n",
       "    }\n",
       "</style>\n",
       "<table border=\"1\" class=\"dataframe\">\n",
       "  <thead>\n",
       "    <tr style=\"text-align: right;\">\n",
       "      <th></th>\n",
       "      <th>index</th>\n",
       "      <th>group_name</th>\n",
       "      <th>net_mw_mean</th>\n",
       "      <th>net_mw_max</th>\n",
       "      <th>generation_output_mw_mean</th>\n",
       "      <th>generation_output_mw_max</th>\n",
       "      <th>underlying_demand_mw_mean</th>\n",
       "      <th>underlying_demand_mw_max</th>\n",
       "    </tr>\n",
       "  </thead>\n",
       "  <tbody>\n",
       "    <tr>\n",
       "      <th>0</th>\n",
       "      <td>9</td>\n",
       "      <td>ALMATEX T1 / ST HELENS WWTW T1 / WATERY LA T2</td>\n",
       "      <td>4.126665</td>\n",
       "      <td>8.446</td>\n",
       "      <td>0.000000</td>\n",
       "      <td>0.0</td>\n",
       "      <td>4.126665</td>\n",
       "      <td>8.446</td>\n",
       "    </tr>\n",
       "    <tr>\n",
       "      <th>1</th>\n",
       "      <td>17</td>\n",
       "      <td>BEECH ST T1 / LISTER DV B T2</td>\n",
       "      <td>2.129736</td>\n",
       "      <td>3.916</td>\n",
       "      <td>0.000000</td>\n",
       "      <td>0.0</td>\n",
       "      <td>2.129736</td>\n",
       "      <td>3.916</td>\n",
       "    </tr>\n",
       "    <tr>\n",
       "      <th>2</th>\n",
       "      <td>23</td>\n",
       "      <td>BOLD G4A / PRESCOT GT1B / WIDNES GT1 / WIDNES GT2</td>\n",
       "      <td>34.138012</td>\n",
       "      <td>93.338</td>\n",
       "      <td>-26.056379</td>\n",
       "      <td>-0.0</td>\n",
       "      <td>60.194391</td>\n",
       "      <td>120.119</td>\n",
       "    </tr>\n",
       "    <tr>\n",
       "      <th>3</th>\n",
       "      <td>24</td>\n",
       "      <td>BOLD G4B / RAVENHEAD G1A2 / ST HELENS GT2</td>\n",
       "      <td>28.772834</td>\n",
       "      <td>54.806</td>\n",
       "      <td>-17.600000</td>\n",
       "      <td>-17.6</td>\n",
       "      <td>46.372834</td>\n",
       "      <td>72.406</td>\n",
       "    </tr>\n",
       "    <tr>\n",
       "      <th>4</th>\n",
       "      <td>44</td>\n",
       "      <td>CLUBMOOR T1 / DUNLOPS WALTON T1 / WALTON T1</td>\n",
       "      <td>5.036276</td>\n",
       "      <td>9.313</td>\n",
       "      <td>0.000000</td>\n",
       "      <td>0.0</td>\n",
       "      <td>5.036276</td>\n",
       "      <td>9.313</td>\n",
       "    </tr>\n",
       "    <tr>\n",
       "      <th>5</th>\n",
       "      <td>48</td>\n",
       "      <td>DELAMORE ST T1 / KIRKDALE T1 / WALTON T2</td>\n",
       "      <td>5.280043</td>\n",
       "      <td>10.980</td>\n",
       "      <td>0.000000</td>\n",
       "      <td>0.0</td>\n",
       "      <td>5.280043</td>\n",
       "      <td>10.980</td>\n",
       "    </tr>\n",
       "    <tr>\n",
       "      <th>6</th>\n",
       "      <td>73</td>\n",
       "      <td>KIRKBY</td>\n",
       "      <td>127.953069</td>\n",
       "      <td>232.780</td>\n",
       "      <td>-19.375440</td>\n",
       "      <td>-0.0</td>\n",
       "      <td>147.328509</td>\n",
       "      <td>268.069</td>\n",
       "    </tr>\n",
       "    <tr>\n",
       "      <th>7</th>\n",
       "      <td>77</td>\n",
       "      <td>LISTER DRIVE</td>\n",
       "      <td>171.690854</td>\n",
       "      <td>290.559</td>\n",
       "      <td>-7.157964</td>\n",
       "      <td>-0.0</td>\n",
       "      <td>178.848818</td>\n",
       "      <td>309.919</td>\n",
       "    </tr>\n",
       "    <tr>\n",
       "      <th>8</th>\n",
       "      <td>79</td>\n",
       "      <td>LITHERLAND GRID B / NORTH SEAFORTH</td>\n",
       "      <td>1.699411</td>\n",
       "      <td>5.365</td>\n",
       "      <td>0.000000</td>\n",
       "      <td>0.0</td>\n",
       "      <td>1.699411</td>\n",
       "      <td>5.365</td>\n",
       "    </tr>\n",
       "    <tr>\n",
       "      <th>9</th>\n",
       "      <td>85</td>\n",
       "      <td>PALL MALL T1 / LITTLEWOODS T1</td>\n",
       "      <td>2.430352</td>\n",
       "      <td>4.239</td>\n",
       "      <td>0.000000</td>\n",
       "      <td>0.0</td>\n",
       "      <td>2.430352</td>\n",
       "      <td>4.239</td>\n",
       "    </tr>\n",
       "    <tr>\n",
       "      <th>10</th>\n",
       "      <td>86</td>\n",
       "      <td>Paddington Place T1 / Paddington Place T2</td>\n",
       "      <td>0.085609</td>\n",
       "      <td>0.086</td>\n",
       "      <td>0.000000</td>\n",
       "      <td>0.0</td>\n",
       "      <td>0.085609</td>\n",
       "      <td>0.086</td>\n",
       "    </tr>\n",
       "    <tr>\n",
       "      <th>11</th>\n",
       "      <td>87</td>\n",
       "      <td>RAINHILL</td>\n",
       "      <td>183.204562</td>\n",
       "      <td>314.235</td>\n",
       "      <td>-31.569335</td>\n",
       "      <td>-0.0</td>\n",
       "      <td>214.773897</td>\n",
       "      <td>331.875</td>\n",
       "    </tr>\n",
       "    <tr>\n",
       "      <th>12</th>\n",
       "      <td>88</td>\n",
       "      <td>RAVENHEAD G1A1 / ST HELENS GT1 / WINDLE GT1</td>\n",
       "      <td>19.364394</td>\n",
       "      <td>39.394</td>\n",
       "      <td>-11.700000</td>\n",
       "      <td>-11.7</td>\n",
       "      <td>31.064394</td>\n",
       "      <td>51.094</td>\n",
       "    </tr>\n",
       "    <tr>\n",
       "      <th>13</th>\n",
       "      <td>90</td>\n",
       "      <td>Wavertree Boulevard T1 / Wavertree Boulevard T2</td>\n",
       "      <td>6.350573</td>\n",
       "      <td>14.122</td>\n",
       "      <td>0.000000</td>\n",
       "      <td>0.0</td>\n",
       "      <td>6.350573</td>\n",
       "      <td>14.122</td>\n",
       "    </tr>\n",
       "  </tbody>\n",
       "</table>\n",
       "</div>"
      ],
      "text/plain": [
       "    index                                         group_name  net_mw_mean  \\\n",
       "0       9      ALMATEX T1 / ST HELENS WWTW T1 / WATERY LA T2     4.126665   \n",
       "1      17                       BEECH ST T1 / LISTER DV B T2     2.129736   \n",
       "2      23  BOLD G4A / PRESCOT GT1B / WIDNES GT1 / WIDNES GT2    34.138012   \n",
       "3      24          BOLD G4B / RAVENHEAD G1A2 / ST HELENS GT2    28.772834   \n",
       "4      44        CLUBMOOR T1 / DUNLOPS WALTON T1 / WALTON T1     5.036276   \n",
       "5      48           DELAMORE ST T1 / KIRKDALE T1 / WALTON T2     5.280043   \n",
       "6      73                                             KIRKBY   127.953069   \n",
       "7      77                                       LISTER DRIVE   171.690854   \n",
       "8      79                 LITHERLAND GRID B / NORTH SEAFORTH     1.699411   \n",
       "9      85                      PALL MALL T1 / LITTLEWOODS T1     2.430352   \n",
       "10     86          Paddington Place T1 / Paddington Place T2     0.085609   \n",
       "11     87                                           RAINHILL   183.204562   \n",
       "12     88        RAVENHEAD G1A1 / ST HELENS GT1 / WINDLE GT1    19.364394   \n",
       "13     90    Wavertree Boulevard T1 / Wavertree Boulevard T2     6.350573   \n",
       "\n",
       "    net_mw_max  generation_output_mw_mean  generation_output_mw_max  \\\n",
       "0        8.446                   0.000000                       0.0   \n",
       "1        3.916                   0.000000                       0.0   \n",
       "2       93.338                 -26.056379                      -0.0   \n",
       "3       54.806                 -17.600000                     -17.6   \n",
       "4        9.313                   0.000000                       0.0   \n",
       "5       10.980                   0.000000                       0.0   \n",
       "6      232.780                 -19.375440                      -0.0   \n",
       "7      290.559                  -7.157964                      -0.0   \n",
       "8        5.365                   0.000000                       0.0   \n",
       "9        4.239                   0.000000                       0.0   \n",
       "10       0.086                   0.000000                       0.0   \n",
       "11     314.235                 -31.569335                      -0.0   \n",
       "12      39.394                 -11.700000                     -11.7   \n",
       "13      14.122                   0.000000                       0.0   \n",
       "\n",
       "    underlying_demand_mw_mean  underlying_demand_mw_max  \n",
       "0                    4.126665                     8.446  \n",
       "1                    2.129736                     3.916  \n",
       "2                   60.194391                   120.119  \n",
       "3                   46.372834                    72.406  \n",
       "4                    5.036276                     9.313  \n",
       "5                    5.280043                    10.980  \n",
       "6                  147.328509                   268.069  \n",
       "7                  178.848818                   309.919  \n",
       "8                    1.699411                     5.365  \n",
       "9                    2.430352                     4.239  \n",
       "10                   0.085609                     0.086  \n",
       "11                 214.773897                   331.875  \n",
       "12                  31.064394                    51.094  \n",
       "13                   6.350573                    14.122  "
      ]
     },
     "execution_count": 271,
     "metadata": {},
     "output_type": "execute_result"
    }
   ],
   "source": [
    "df_flow_miss = df_flow_sub.query('group_name not in @df_sub[\"Grid Group\"]').reset_index()\n",
    "df_flow_miss.to_excel('flow_no_subs.xlsx', index=False)\n",
    "df_flow_miss"
   ]
  },
  {
   "cell_type": "code",
   "execution_count": 272,
   "metadata": {},
   "outputs": [
    {
     "data": {
      "text/plain": [
       "0      ACORNFIELD RD T1 / DICKINSONS T1 / HAMMOND RD ...\n",
       "1      AIGBURTH VALE T1 / IVY AVE T1 / MATHER AVE T1 ...\n",
       "2           AINTREE LOCAL T1 / OLD ROAN T1 / WANGO LA T1\n",
       "3           ARUNDEL T1 / GROVE PK T1 / WAVERTREE VALE T1\n",
       "4      BEAUMONT ST T1 / DINGLE VALE T1 / LARK LA T1 /...\n",
       "                             ...                        \n",
       "242           GILLMOSS GT1 / KIRKBY GT2 / SIMONSWOOD GT1\n",
       "243         RAVENHEAD G1A1 / ST HELENS GT2B / WINDLE GT1\n",
       "246           BOLD G4B / RAVENHEAD G1A2 / ST HELENS GT2A\n",
       "247    BURLINGTON ST GT2 / LISTER DV B GT1 / PARADISE...\n",
       "255    LISTER DV B GT3 / SPARLING ST GT1 / WAVERTREE GT2\n",
       "Name: Grid Group, Length: 85, dtype: object"
      ]
     },
     "execution_count": 272,
     "metadata": {},
     "output_type": "execute_result"
    }
   ],
   "source": [
    "df_sub['Grid Group'].drop_duplicates()"
   ]
  },
  {
   "cell_type": "code",
   "execution_count": 273,
   "metadata": {},
   "outputs": [
    {
     "name": "stdout",
     "output_type": "stream",
     "text": [
      "<class 'pandas.core.frame.DataFrame'>\n",
      "Int64Index: 77 entries, 0 to 84\n",
      "Data columns (total 10 columns):\n",
      " #   Column                     Non-Null Count  Dtype  \n",
      "---  ------                     --------------  -----  \n",
      " 0   Grid Group                 77 non-null     object \n",
      " 1   lat_group                  77 non-null     float64\n",
      " 2   long_group                 77 non-null     float64\n",
      " 3   group_name                 77 non-null     object \n",
      " 4   net_mw_mean                77 non-null     float64\n",
      " 5   net_mw_max                 77 non-null     float64\n",
      " 6   generation_output_mw_mean  77 non-null     float64\n",
      " 7   generation_output_mw_max   77 non-null     float64\n",
      " 8   underlying_demand_mw_mean  77 non-null     float64\n",
      " 9   underlying_demand_mw_max   77 non-null     float64\n",
      "dtypes: float64(8), object(2)\n",
      "memory usage: 6.6+ KB\n"
     ]
    }
   ],
   "source": [
    "df_flow_gg = df_flow_gg.dropna(subset='group_name')\n",
    "df_flow_gg.info()"
   ]
  },
  {
   "cell_type": "markdown",
   "metadata": {},
   "source": [
    "## plot map of max demand (grid group)"
   ]
  },
  {
   "cell_type": "code",
   "execution_count": 274,
   "metadata": {},
   "outputs": [
    {
     "data": {
      "application/vnd.plotly.v1+json": {
       "config": {
        "plotlyServerURL": "https://plot.ly"
       },
       "data": [
        {
         "coloraxis": "coloraxis",
         "hovertemplate": "<b>%{hovertext}</b><br><br>underlying_demand_mw_max=%{z}<br>lat_group=%{lat}<br>long_group=%{lon}<extra></extra>",
         "hovertext": [
          "ACORNFIELD RD T1 / DICKINSONS T1 / HAMMOND RD T1 / KODAK T1",
          "AIGBURTH VALE T1 / IVY AVE T1 / MATHER AVE T1 / MOSSLEY HILL T1 / WAVERTREE T1",
          "AINTREE LOCAL T1 / OLD ROAN T1 / WANGO LA T1",
          "ARUNDEL T1 / GROVE PK T1 / WAVERTREE VALE T1",
          "BEAUMONT ST T1 / DINGLE VALE T1 / LARK LA T1 / MDHB BRUNSWICK DOCK T1",
          "BEDBURN DV T1 / BLUEBELL LA T1 / BROOKBRIDGE T1 / ECCLESTON T1",
          "BEMROSE T1 / CARR LA EAST T1 / LUCAS (FAZAKERLEY) T1 / NORRIS GREEN T1 / WEST DERBY T1",
          "BOOTLE GRID T2 / ORRELL MOUNT T1 / SCARISBRICK AVE T1 / TATTON RD T1",
          "BUCKINGHAM ST T1 / EVERTON RD T1 / SUBURBAN RD T1",
          "CHALON WAY T1 / TECHNOLOGY CAMPUS T1 / WOODVILLE ST T1",
          "CHILDWALL T1 / CHILDWALL FIVEWAYS T1 / LYNDENE RD T1 / MIDDLEMASS HEY T1 / NAYLORS RD T1",
          "CLOCKFACE T1 / GEC ST HELENS T1 / HILLS MOSS T1 / NCB SUTTON MANOR T2",
          "CONIX T1 / CONIX T2 / MEDEVA T1",
          "DESOTO RD T1 / MERSEY BRIDGE T1 / PITT ST T1",
          "EDGE HILL T1 / LIVERPOOL UNIVERSITY T1 / LIVERPOOL UNIVERSITY T2 / LIVERPOOL UNIVERSITY T3",
          "EDGE LA (TAPLEY PLACE) T1 / LISTER DV B T3 / MILL LA (WAVERTREE) T1 / PLESSEY (EDGE LA) T1 / STONEYCROFT T1",
          "HARRINGTON ST T2 / HIGHFIELD ST T1",
          "HUYTON HEY RD T1 / WILSON RD T1",
          "KNOWSLEY T1 / MARLED HEY T1",
          "LORD ST T1 / MARSHSIDE T1 / MULLARDS BALMORAL DV T1 / SOUTHPORT T2",
          "OTIS ELEVATOR T1 / ST IVEL FOODS T1",
          "ROYAL INSURANCE (NEW QUAY) T1 / ROYAL INSURANCE (NEW QUAY) T2",
          "ALLERTON T1 / ECP WEST-BANKS RD T1 / GARSTON T1 / WEAVER IND EST T1 / YEW TREE RD T1",
          "ALMONDS TURN T1 / ATLANTIC COMPLEX T1 / GIRO T1 / MIDLAND BANK T1 / NETHERTON T1",
          "BANASTRE RD T1 / DOVER RD T1 / GRANTHAM CL T1",
          "BIBBYS T1 / INLAND REVENUE OFFICES T1 / REGENT RD T1",
          "BICC HUYTON QUARRY T1 / TARBOCK T1 / WHISTON T1",
          "BLUNDELL ST T1 / ROPEWALKS T1 / ST JAMES T1",
          "BLUNDELLSANDS (NORTH) T1 / BLUNDELLSANDS (SOUTH) T1 / CROSBY T1 / KERSHAW AVE T1 / WATERLOO T2",
          "BOOTLE GRID T1 / KELLOGGS T1 / PACIFIC RD T1 / WASHINGTON ST T1 / WATERLOO T1",
          "BROADGREEN T1 / CROXTETH T1 / EAST PRESCOT RD (FINCH LA) T1 / KNOTTY ASH T1 / LEYFIELD RD T1",
          "BURLINGTON AVE T1 / FRESHFIELD T1 / MARSH BROWS T1 / SOUTHPORT RD T1",
          "CABLE ST T1 / GRADWELL ST T2 / OLDHAM PLACE T2",
          "CABLE ST T2 / CROWN COURTS T1 / GRADWELL ST T1",
          "CARLTON ST T1 / CARLTON ST T2 / CHALON WAY T2",
          "DINGLE T1 / GRANBY T1 / ST JAMES T2",
          "DITTON T1 / GAVIN RD T1 / HOUGH GREEN T1 / RTZ T1",
          "IVY ST (SOUTHPORT) T1 / KENSINGTON RD T1 / MARKET ST T1 / SOUTHPORT T1",
          "KELCO T1 / NEWS INTERNATIONAL T1 / NEWS INTERNATIONAL T2 / PALCO T1 / SOUTHDENE T1",
          "KIRKBY CENTRAL T1 / NORTHWOOD T1 / TOWER HILL (BANK LA) T1 / WESTVALE T1",
          "LEA GREEN T1 / PILKINGTONS HO T1 / RAVENHEAD RETAIL PK T1 / SOMERFIELD DISTRIBUTION T1",
          "AIRPORT T1 / ALDERWOOD AVE (CROYDE RD) T1 / HAREFIELD RD T1 / METAL BOX (SPEKE) T1",
          "BOLTON ST T1 / GREEK ST T1 / HPO COPPERAS HILL T1 / OLDHAM PLACE T1",
          "BRITISH OXYGEN T1 / WINDLEHURST T1",
          "BROOK ST T1 / KINGSWAY TUNNEL T1 / NWWA SANDON DOCK T1 / NWWA SANDON DOCK T2",
          "CLUBMOOR T2 / LISTER DV A T1 / SUBURBAN RD T2",
          "DODDS LA T1 / HOLBORN HILL T1 / MAGHULL T1 / MAGHULL T2 / ROBBINS BRIDGE T1",
          "ESTUARY COMMERCE PK T1 / LEEWARD DR T1 / LEEWARD DR T2 / SPEKE HALL RD T1 / SPEKE SKY PK T1",
          "FAZAKERLEY HOSPITAL T1 / JACOBS T1 / JACOBS T2 / SEEDS LA T1",
          "HARRINGTON ST T1 / PARADISE ST T1",
          "HARRINGTON ST T3 / LIME ST T1",
          "HIGHFIELD ST T2 / LIME ST T2 / OLD HAYMARKET T1",
          "NEVILL ST T1 / OCEAN PLAZA T1 / YORK RD T1",
          "AINSDALE T1 / PINFOLD LA T1",
          "ATHOL ST T1 / CHISENHALE ST T1 / SANDHILLS LA T1",
          "HOLT LA (WARRINGTON RD) T1 / PRESCOT T1 / RAINHILL LOCAL T1 / WHISTON HOSP T1",
          "HUNTS CROSS T1 / KENTON RD T1 / WOODEND AVE T1 / WOOLTON T1",
          "LUGSDALE T1 / PILK SULLIVAN T1 / PILK SULLIVAN T2 / USAC T1",
          "APPLETON T1 / HORNSBRIDGE T1 / LUGSDALE T2",
          "BRITISH SIDAC T1 / SHERDLEY RD T1 / ST HELENS LINKWAY T1 / WATERY LA T1",
          "EVERTON BROW T1 / GARDNERS ROW T1 / SHEIL PK T1",
          "ALBERT DOCK T1 / KINGS DOCK T1 / KINGS DOCK T2 / WAPPING T1",
          "CARBORUNDUM T1 / HOUGHTONS LA T1 / RAINFORD T1 / WINDLEHURST T2",
          "HASKAYNE T1",
          "DAILY POST & ECHO T1 / DAILY POST & ECHO T2",
          "ORB CL T1 / STONEBRIDGE LA T1 / STONEBRIDGE LA T2",
          "AINTREE GT1 / FORMBY GT2A / LITHERLAND GT1B",
          "BOOTLE GT2A / BURLINGTON ST GT1 / LISTER DV A GT2",
          "FORMBY GT2B / SOUTHPORT GT1 / SOUTHPORT GT2",
          "GATEACRE GT1 / HUYTON GT1 / KIRKBY GT3 / PRESCOT GT1A",
          "HALEWOOD G1B / HALEWOOD G2B / HALEWOOD GT3 / SPEKE GT1A",
          "AINTREE GT2 / FAZAKERLEY GT1 / GILLMOSS GT2",
          "BOOTLE GT1 / LITHERLAND GT1A",
          "GARSTON GT2 / SPEKE GT3 / WAVERTREE GT1A",
          "GILLMOSS GT1 / KIRKBY GT2 / SIMONSWOOD GT1",
          "BURLINGTON ST GT2 / LISTER DV B GT1 / PARADISE ST GT1",
          "LISTER DV B GT3 / SPARLING ST GT1 / WAVERTREE GT2"
         ],
         "lat": [
          53.48422521841343,
          53.37884543794979,
          53.48221183681376,
          53.395105423343395,
          53.38956720139022,
          53.42576078853939,
          53.4481811234408,
          53.46604639859399,
          53.42532310207886,
          53.455322716606396,
          53.3936515056841,
          53.420292682082675,
          53.3519925033847,
          53.35720546086216,
          53.407606491525954,
          53.41459325887538,
          53.41102741078455,
          53.40971065433585,
          53.44603206081035,
          53.65788616429692,
          53.46947870624224,
          53.41090625518935,
          53.36127898257589,
          53.48327302721605,
          53.62877685940275,
          53.44435457310714,
          53.40982383061546,
          53.400228008073256,
          53.49046983208738,
          53.46212175772765,
          53.423456977376226,
          53.564187788830836,
          53.40657269451995,
          53.407028858229495,
          53.45213726004228,
          53.393829073029224,
          53.37030707547073,
          53.53309578367969,
          53.467609195294266,
          53.486172242384725,
          53.43916642390261,
          53.34383129208894,
          53.40876088085393,
          53.46779001058384,
          53.42081684091089,
          53.42944602399322,
          53.530208499438245,
          53.350295102590536,
          53.46734381293817,
          53.40690906403378,
          53.40947008530755,
          53.41184807767434,
          53.64788106840345,
          53.59988280934437,
          53.42657634656401,
          53.42052210263232,
          53.36625288721513,
          53.366157225146154,
          53.37551695718396,
          53.44290871854539,
          53.419912351971895,
          53.399973730998866,
          53.479028032093204,
          53.56223678289227,
          53.41195410301462,
          53.45813143708705,
          53.50954299404231,
          53.43395340725047,
          53.60119712856685,
          53.42858108087547,
          53.355473194763384,
          53.47355220194636,
          53.46865056365999,
          53.35572593716299,
          53.47595345324745,
          53.41584410946473,
          53.40498324994805
         ],
         "lon": [
          -2.859639014527562,
          -2.9205490387844586,
          -2.940717187936728,
          -2.9365179416460463,
          -2.958803606694262,
          -2.8380491822744527,
          -2.9278225373235798,
          -2.9817089374530754,
          -2.962098697053242,
          -2.744546186736559,
          -2.873802035243992,
          -2.732694840268832,
          -2.8521671019658243,
          -2.7554688755693277,
          -2.958153255979668,
          -2.923525758896858,
          -2.984815180192366,
          -2.8376095762929388,
          -2.8659918139046696,
          -2.9645264147489243,
          -2.8766736018403485,
          -2.9917707160249805,
          -2.899150208713593,
          -2.970238612675763,
          -3.003213552433126,
          -2.9904563836852907,
          -2.8211658472703967,
          -2.978101141673338,
          -3.020489381284595,
          -2.9984850714916362,
          -2.8915078184276757,
          -3.047486170469779,
          -2.9784616234019197,
          -2.983000009812106,
          -2.7562998884838668,
          -2.9667753942420423,
          -2.7832382399764746,
          -3.2077674094804194,
          -2.8704019146627324,
          -2.890069893996703,
          -2.757613852892881,
          -2.8496587496867076,
          -2.9727351918728586,
          -2.7561996617544855,
          -2.9935273340621764,
          -2.93900869732679,
          -2.927613736894784,
          -2.873150799308356,
          -2.9406952928585737,
          -2.982901607265238,
          -2.9806218277110927,
          -2.9811648134840345,
          -3.0021470055576978,
          -3.0261087221750698,
          -2.987124691156337,
          -2.7920742835897565,
          -2.85621296803553,
          -2.7332709281069962,
          -2.7392603797541977,
          -2.731971004035345,
          -2.9662810182492265,
          -2.98553283707298,
          -2.7840089905591974,
          -2.9631437541157677,
          -2.992154277067054,
          -2.9065453365078446,
          -2.9939346331257726,
          -2.966513628290671,
          -2.9938045997168006,
          -2.8454182965766663,
          -2.847706517507156,
          -2.9292384982138158,
          -2.992151991145744,
          -2.877974412924643,
          -2.8734144571672777,
          -2.9668138282414303,
          -2.9432292215723908
         ],
         "name": "",
         "radius": 15,
         "subplot": "mapbox",
         "type": "densitymapbox",
         "z": [
          15.288,
          20.424,
          38.009,
          11.504,
          19.826,
          11.908,
          22.523,
          68.709,
          8.317,
          7.049,
          22.305,
          12.636,
          8.525,
          7.585,
          14.516,
          19.985,
          6.29,
          6.838,
          4.292,
          17.932,
          6.183,
          0.455,
          13.5,
          14.139,
          11.483,
          11.641,
          7.706,
          8.972,
          20.828,
          17.509,
          25.015,
          14.531,
          14.042,
          10.267,
          9.891,
          8.525,
          19.049,
          14.209,
          19.487,
          19.586,
          14.107,
          16.54,
          14.382,
          6.198,
          12.445,
          10.687,
          23.143,
          8.669,
          14.824,
          5.273,
          3.55,
          8.089,
          9.874,
          5.668,
          7.996,
          13.831,
          17.212,
          12.59,
          17.008,
          9.217,
          10.828,
          6.334,
          17.459,
          2.025,
          4.25,
          8.695,
          48.584,
          87.53,
          64.449,
          100.112,
          32.07,
          65.356,
          50.852,
          65.087,
          42.579,
          102.73,
          96.574
         ]
        }
       ],
       "layout": {
        "coloraxis": {
         "colorbar": {
          "title": {
           "text": "underlying_demand_mw_max"
          }
         },
         "colorscale": [
          [
           0,
           "#0d0887"
          ],
          [
           0.1111111111111111,
           "#46039f"
          ],
          [
           0.2222222222222222,
           "#7201a8"
          ],
          [
           0.3333333333333333,
           "#9c179e"
          ],
          [
           0.4444444444444444,
           "#bd3786"
          ],
          [
           0.5555555555555556,
           "#d8576b"
          ],
          [
           0.6666666666666666,
           "#ed7953"
          ],
          [
           0.7777777777777778,
           "#fb9f3a"
          ],
          [
           0.8888888888888888,
           "#fdca26"
          ],
          [
           1,
           "#f0f921"
          ]
         ]
        },
        "legend": {
         "tracegroupgap": 0
        },
        "mapbox": {
         "center": {
          "lat": 53.5,
          "lon": -2.9
         },
         "domain": {
          "x": [
           0,
           1
          ],
          "y": [
           0,
           1
          ]
         },
         "style": "open-street-map",
         "zoom": 8
        },
        "margin": {
         "t": 60
        },
        "template": {
         "data": {
          "bar": [
           {
            "error_x": {
             "color": "#2a3f5f"
            },
            "error_y": {
             "color": "#2a3f5f"
            },
            "marker": {
             "line": {
              "color": "#E5ECF6",
              "width": 0.5
             },
             "pattern": {
              "fillmode": "overlay",
              "size": 10,
              "solidity": 0.2
             }
            },
            "type": "bar"
           }
          ],
          "barpolar": [
           {
            "marker": {
             "line": {
              "color": "#E5ECF6",
              "width": 0.5
             },
             "pattern": {
              "fillmode": "overlay",
              "size": 10,
              "solidity": 0.2
             }
            },
            "type": "barpolar"
           }
          ],
          "carpet": [
           {
            "aaxis": {
             "endlinecolor": "#2a3f5f",
             "gridcolor": "white",
             "linecolor": "white",
             "minorgridcolor": "white",
             "startlinecolor": "#2a3f5f"
            },
            "baxis": {
             "endlinecolor": "#2a3f5f",
             "gridcolor": "white",
             "linecolor": "white",
             "minorgridcolor": "white",
             "startlinecolor": "#2a3f5f"
            },
            "type": "carpet"
           }
          ],
          "choropleth": [
           {
            "colorbar": {
             "outlinewidth": 0,
             "ticks": ""
            },
            "type": "choropleth"
           }
          ],
          "contour": [
           {
            "colorbar": {
             "outlinewidth": 0,
             "ticks": ""
            },
            "colorscale": [
             [
              0,
              "#0d0887"
             ],
             [
              0.1111111111111111,
              "#46039f"
             ],
             [
              0.2222222222222222,
              "#7201a8"
             ],
             [
              0.3333333333333333,
              "#9c179e"
             ],
             [
              0.4444444444444444,
              "#bd3786"
             ],
             [
              0.5555555555555556,
              "#d8576b"
             ],
             [
              0.6666666666666666,
              "#ed7953"
             ],
             [
              0.7777777777777778,
              "#fb9f3a"
             ],
             [
              0.8888888888888888,
              "#fdca26"
             ],
             [
              1,
              "#f0f921"
             ]
            ],
            "type": "contour"
           }
          ],
          "contourcarpet": [
           {
            "colorbar": {
             "outlinewidth": 0,
             "ticks": ""
            },
            "type": "contourcarpet"
           }
          ],
          "heatmap": [
           {
            "colorbar": {
             "outlinewidth": 0,
             "ticks": ""
            },
            "colorscale": [
             [
              0,
              "#0d0887"
             ],
             [
              0.1111111111111111,
              "#46039f"
             ],
             [
              0.2222222222222222,
              "#7201a8"
             ],
             [
              0.3333333333333333,
              "#9c179e"
             ],
             [
              0.4444444444444444,
              "#bd3786"
             ],
             [
              0.5555555555555556,
              "#d8576b"
             ],
             [
              0.6666666666666666,
              "#ed7953"
             ],
             [
              0.7777777777777778,
              "#fb9f3a"
             ],
             [
              0.8888888888888888,
              "#fdca26"
             ],
             [
              1,
              "#f0f921"
             ]
            ],
            "type": "heatmap"
           }
          ],
          "heatmapgl": [
           {
            "colorbar": {
             "outlinewidth": 0,
             "ticks": ""
            },
            "colorscale": [
             [
              0,
              "#0d0887"
             ],
             [
              0.1111111111111111,
              "#46039f"
             ],
             [
              0.2222222222222222,
              "#7201a8"
             ],
             [
              0.3333333333333333,
              "#9c179e"
             ],
             [
              0.4444444444444444,
              "#bd3786"
             ],
             [
              0.5555555555555556,
              "#d8576b"
             ],
             [
              0.6666666666666666,
              "#ed7953"
             ],
             [
              0.7777777777777778,
              "#fb9f3a"
             ],
             [
              0.8888888888888888,
              "#fdca26"
             ],
             [
              1,
              "#f0f921"
             ]
            ],
            "type": "heatmapgl"
           }
          ],
          "histogram": [
           {
            "marker": {
             "pattern": {
              "fillmode": "overlay",
              "size": 10,
              "solidity": 0.2
             }
            },
            "type": "histogram"
           }
          ],
          "histogram2d": [
           {
            "colorbar": {
             "outlinewidth": 0,
             "ticks": ""
            },
            "colorscale": [
             [
              0,
              "#0d0887"
             ],
             [
              0.1111111111111111,
              "#46039f"
             ],
             [
              0.2222222222222222,
              "#7201a8"
             ],
             [
              0.3333333333333333,
              "#9c179e"
             ],
             [
              0.4444444444444444,
              "#bd3786"
             ],
             [
              0.5555555555555556,
              "#d8576b"
             ],
             [
              0.6666666666666666,
              "#ed7953"
             ],
             [
              0.7777777777777778,
              "#fb9f3a"
             ],
             [
              0.8888888888888888,
              "#fdca26"
             ],
             [
              1,
              "#f0f921"
             ]
            ],
            "type": "histogram2d"
           }
          ],
          "histogram2dcontour": [
           {
            "colorbar": {
             "outlinewidth": 0,
             "ticks": ""
            },
            "colorscale": [
             [
              0,
              "#0d0887"
             ],
             [
              0.1111111111111111,
              "#46039f"
             ],
             [
              0.2222222222222222,
              "#7201a8"
             ],
             [
              0.3333333333333333,
              "#9c179e"
             ],
             [
              0.4444444444444444,
              "#bd3786"
             ],
             [
              0.5555555555555556,
              "#d8576b"
             ],
             [
              0.6666666666666666,
              "#ed7953"
             ],
             [
              0.7777777777777778,
              "#fb9f3a"
             ],
             [
              0.8888888888888888,
              "#fdca26"
             ],
             [
              1,
              "#f0f921"
             ]
            ],
            "type": "histogram2dcontour"
           }
          ],
          "mesh3d": [
           {
            "colorbar": {
             "outlinewidth": 0,
             "ticks": ""
            },
            "type": "mesh3d"
           }
          ],
          "parcoords": [
           {
            "line": {
             "colorbar": {
              "outlinewidth": 0,
              "ticks": ""
             }
            },
            "type": "parcoords"
           }
          ],
          "pie": [
           {
            "automargin": true,
            "type": "pie"
           }
          ],
          "scatter": [
           {
            "fillpattern": {
             "fillmode": "overlay",
             "size": 10,
             "solidity": 0.2
            },
            "type": "scatter"
           }
          ],
          "scatter3d": [
           {
            "line": {
             "colorbar": {
              "outlinewidth": 0,
              "ticks": ""
             }
            },
            "marker": {
             "colorbar": {
              "outlinewidth": 0,
              "ticks": ""
             }
            },
            "type": "scatter3d"
           }
          ],
          "scattercarpet": [
           {
            "marker": {
             "colorbar": {
              "outlinewidth": 0,
              "ticks": ""
             }
            },
            "type": "scattercarpet"
           }
          ],
          "scattergeo": [
           {
            "marker": {
             "colorbar": {
              "outlinewidth": 0,
              "ticks": ""
             }
            },
            "type": "scattergeo"
           }
          ],
          "scattergl": [
           {
            "marker": {
             "colorbar": {
              "outlinewidth": 0,
              "ticks": ""
             }
            },
            "type": "scattergl"
           }
          ],
          "scattermapbox": [
           {
            "marker": {
             "colorbar": {
              "outlinewidth": 0,
              "ticks": ""
             }
            },
            "type": "scattermapbox"
           }
          ],
          "scatterpolar": [
           {
            "marker": {
             "colorbar": {
              "outlinewidth": 0,
              "ticks": ""
             }
            },
            "type": "scatterpolar"
           }
          ],
          "scatterpolargl": [
           {
            "marker": {
             "colorbar": {
              "outlinewidth": 0,
              "ticks": ""
             }
            },
            "type": "scatterpolargl"
           }
          ],
          "scatterternary": [
           {
            "marker": {
             "colorbar": {
              "outlinewidth": 0,
              "ticks": ""
             }
            },
            "type": "scatterternary"
           }
          ],
          "surface": [
           {
            "colorbar": {
             "outlinewidth": 0,
             "ticks": ""
            },
            "colorscale": [
             [
              0,
              "#0d0887"
             ],
             [
              0.1111111111111111,
              "#46039f"
             ],
             [
              0.2222222222222222,
              "#7201a8"
             ],
             [
              0.3333333333333333,
              "#9c179e"
             ],
             [
              0.4444444444444444,
              "#bd3786"
             ],
             [
              0.5555555555555556,
              "#d8576b"
             ],
             [
              0.6666666666666666,
              "#ed7953"
             ],
             [
              0.7777777777777778,
              "#fb9f3a"
             ],
             [
              0.8888888888888888,
              "#fdca26"
             ],
             [
              1,
              "#f0f921"
             ]
            ],
            "type": "surface"
           }
          ],
          "table": [
           {
            "cells": {
             "fill": {
              "color": "#EBF0F8"
             },
             "line": {
              "color": "white"
             }
            },
            "header": {
             "fill": {
              "color": "#C8D4E3"
             },
             "line": {
              "color": "white"
             }
            },
            "type": "table"
           }
          ]
         },
         "layout": {
          "annotationdefaults": {
           "arrowcolor": "#2a3f5f",
           "arrowhead": 0,
           "arrowwidth": 1
          },
          "autotypenumbers": "strict",
          "coloraxis": {
           "colorbar": {
            "outlinewidth": 0,
            "ticks": ""
           }
          },
          "colorscale": {
           "diverging": [
            [
             0,
             "#8e0152"
            ],
            [
             0.1,
             "#c51b7d"
            ],
            [
             0.2,
             "#de77ae"
            ],
            [
             0.3,
             "#f1b6da"
            ],
            [
             0.4,
             "#fde0ef"
            ],
            [
             0.5,
             "#f7f7f7"
            ],
            [
             0.6,
             "#e6f5d0"
            ],
            [
             0.7,
             "#b8e186"
            ],
            [
             0.8,
             "#7fbc41"
            ],
            [
             0.9,
             "#4d9221"
            ],
            [
             1,
             "#276419"
            ]
           ],
           "sequential": [
            [
             0,
             "#0d0887"
            ],
            [
             0.1111111111111111,
             "#46039f"
            ],
            [
             0.2222222222222222,
             "#7201a8"
            ],
            [
             0.3333333333333333,
             "#9c179e"
            ],
            [
             0.4444444444444444,
             "#bd3786"
            ],
            [
             0.5555555555555556,
             "#d8576b"
            ],
            [
             0.6666666666666666,
             "#ed7953"
            ],
            [
             0.7777777777777778,
             "#fb9f3a"
            ],
            [
             0.8888888888888888,
             "#fdca26"
            ],
            [
             1,
             "#f0f921"
            ]
           ],
           "sequentialminus": [
            [
             0,
             "#0d0887"
            ],
            [
             0.1111111111111111,
             "#46039f"
            ],
            [
             0.2222222222222222,
             "#7201a8"
            ],
            [
             0.3333333333333333,
             "#9c179e"
            ],
            [
             0.4444444444444444,
             "#bd3786"
            ],
            [
             0.5555555555555556,
             "#d8576b"
            ],
            [
             0.6666666666666666,
             "#ed7953"
            ],
            [
             0.7777777777777778,
             "#fb9f3a"
            ],
            [
             0.8888888888888888,
             "#fdca26"
            ],
            [
             1,
             "#f0f921"
            ]
           ]
          },
          "colorway": [
           "#636efa",
           "#EF553B",
           "#00cc96",
           "#ab63fa",
           "#FFA15A",
           "#19d3f3",
           "#FF6692",
           "#B6E880",
           "#FF97FF",
           "#FECB52"
          ],
          "font": {
           "color": "#2a3f5f"
          },
          "geo": {
           "bgcolor": "white",
           "lakecolor": "white",
           "landcolor": "#E5ECF6",
           "showlakes": true,
           "showland": true,
           "subunitcolor": "white"
          },
          "hoverlabel": {
           "align": "left"
          },
          "hovermode": "closest",
          "mapbox": {
           "style": "light"
          },
          "paper_bgcolor": "white",
          "plot_bgcolor": "#E5ECF6",
          "polar": {
           "angularaxis": {
            "gridcolor": "white",
            "linecolor": "white",
            "ticks": ""
           },
           "bgcolor": "#E5ECF6",
           "radialaxis": {
            "gridcolor": "white",
            "linecolor": "white",
            "ticks": ""
           }
          },
          "scene": {
           "xaxis": {
            "backgroundcolor": "#E5ECF6",
            "gridcolor": "white",
            "gridwidth": 2,
            "linecolor": "white",
            "showbackground": true,
            "ticks": "",
            "zerolinecolor": "white"
           },
           "yaxis": {
            "backgroundcolor": "#E5ECF6",
            "gridcolor": "white",
            "gridwidth": 2,
            "linecolor": "white",
            "showbackground": true,
            "ticks": "",
            "zerolinecolor": "white"
           },
           "zaxis": {
            "backgroundcolor": "#E5ECF6",
            "gridcolor": "white",
            "gridwidth": 2,
            "linecolor": "white",
            "showbackground": true,
            "ticks": "",
            "zerolinecolor": "white"
           }
          },
          "shapedefaults": {
           "line": {
            "color": "#2a3f5f"
           }
          },
          "ternary": {
           "aaxis": {
            "gridcolor": "white",
            "linecolor": "white",
            "ticks": ""
           },
           "baxis": {
            "gridcolor": "white",
            "linecolor": "white",
            "ticks": ""
           },
           "bgcolor": "#E5ECF6",
           "caxis": {
            "gridcolor": "white",
            "linecolor": "white",
            "ticks": ""
           }
          },
          "title": {
           "x": 0.05
          },
          "xaxis": {
           "automargin": true,
           "gridcolor": "white",
           "linecolor": "white",
           "ticks": "",
           "title": {
            "standoff": 15
           },
           "zerolinecolor": "white",
           "zerolinewidth": 2
          },
          "yaxis": {
           "automargin": true,
           "gridcolor": "white",
           "linecolor": "white",
           "ticks": "",
           "title": {
            "standoff": 15
           },
           "zerolinecolor": "white",
           "zerolinewidth": 2
          }
         }
        }
       }
      }
     },
     "metadata": {},
     "output_type": "display_data"
    }
   ],
   "source": [
    "fig = px.density_mapbox(df_flow_gg, lat='lat_group', lon='long_group', z='underlying_demand_mw_max', radius=15,\n",
    "                        center=dict(lat=53.5, lon=-2.9), zoom=8, hover_name='group_name',\n",
    "                        mapbox_style=\"open-street-map\")\n",
    "fig.show()"
   ]
  },
  {
   "cell_type": "markdown",
   "metadata": {},
   "source": [
    "# Greedy\n",
    "## put flow into substation from closest until full then next substation"
   ]
  },
  {
   "cell_type": "code",
   "execution_count": 275,
   "metadata": {},
   "outputs": [
    {
     "data": {
      "text/html": [
       "<div>\n",
       "<style scoped>\n",
       "    .dataframe tbody tr th:only-of-type {\n",
       "        vertical-align: middle;\n",
       "    }\n",
       "\n",
       "    .dataframe tbody tr th {\n",
       "        vertical-align: top;\n",
       "    }\n",
       "\n",
       "    .dataframe thead th {\n",
       "        text-align: right;\n",
       "    }\n",
       "</style>\n",
       "<table border=\"1\" class=\"dataframe\">\n",
       "  <thead>\n",
       "    <tr style=\"text-align: right;\">\n",
       "      <th></th>\n",
       "      <th>sub_name</th>\n",
       "      <th>group_name</th>\n",
       "      <th>cap_mva</th>\n",
       "      <th>distance</th>\n",
       "      <th>mean_flow_mw</th>\n",
       "      <th>max_flow_mw</th>\n",
       "      <th>mean_flow_group</th>\n",
       "      <th>max_flow_group</th>\n",
       "      <th>lat</th>\n",
       "      <th>long</th>\n",
       "    </tr>\n",
       "  </thead>\n",
       "  <tbody>\n",
       "    <tr>\n",
       "      <th>0</th>\n",
       "      <td>ACORNFIELD ROAD</td>\n",
       "      <td>ACORNFIELD RD T1 / DICKINSONS T1 / HAMMOND RD ...</td>\n",
       "      <td>30.0</td>\n",
       "      <td>0.004113</td>\n",
       "      <td>8.105243</td>\n",
       "      <td>15.288</td>\n",
       "      <td>8.105243</td>\n",
       "      <td>15.288</td>\n",
       "      <td>53.481581</td>\n",
       "      <td>-2.856489</td>\n",
       "    </tr>\n",
       "    <tr>\n",
       "      <th>1</th>\n",
       "      <td>KODAK</td>\n",
       "      <td>ACORNFIELD RD T1 / DICKINSONS T1 / HAMMOND RD ...</td>\n",
       "      <td>30.0</td>\n",
       "      <td>0.005469</td>\n",
       "      <td>0.000000</td>\n",
       "      <td>0.000</td>\n",
       "      <td>8.105243</td>\n",
       "      <td>15.288</td>\n",
       "      <td>53.485770</td>\n",
       "      <td>-2.854392</td>\n",
       "    </tr>\n",
       "    <tr>\n",
       "      <th>2</th>\n",
       "      <td>HAMMOND ROAD</td>\n",
       "      <td>ACORNFIELD RD T1 / DICKINSONS T1 / HAMMOND RD ...</td>\n",
       "      <td>30.0</td>\n",
       "      <td>0.005930</td>\n",
       "      <td>0.000000</td>\n",
       "      <td>0.000</td>\n",
       "      <td>8.105243</td>\n",
       "      <td>15.288</td>\n",
       "      <td>53.490083</td>\n",
       "      <td>-2.858715</td>\n",
       "    </tr>\n",
       "    <tr>\n",
       "      <th>3</th>\n",
       "      <td>DICKINSONS</td>\n",
       "      <td>ACORNFIELD RD T1 / DICKINSONS T1 / HAMMOND RD ...</td>\n",
       "      <td>30.0</td>\n",
       "      <td>0.010465</td>\n",
       "      <td>0.000000</td>\n",
       "      <td>0.000</td>\n",
       "      <td>8.105243</td>\n",
       "      <td>15.288</td>\n",
       "      <td>53.479467</td>\n",
       "      <td>-2.868960</td>\n",
       "    </tr>\n",
       "    <tr>\n",
       "      <th>4</th>\n",
       "      <td>MOSSLEY HILL</td>\n",
       "      <td>AIGBURTH VALE T1 / IVY AVE T1 / MATHER AVE T1 ...</td>\n",
       "      <td>37.5</td>\n",
       "      <td>0.002946</td>\n",
       "      <td>9.724854</td>\n",
       "      <td>20.424</td>\n",
       "      <td>9.724854</td>\n",
       "      <td>20.424</td>\n",
       "      <td>53.377592</td>\n",
       "      <td>-2.923215</td>\n",
       "    </tr>\n",
       "    <tr>\n",
       "      <th>...</th>\n",
       "      <td>...</td>\n",
       "      <td>...</td>\n",
       "      <td>...</td>\n",
       "      <td>...</td>\n",
       "      <td>...</td>\n",
       "      <td>...</td>\n",
       "      <td>...</td>\n",
       "      <td>...</td>\n",
       "      <td>...</td>\n",
       "      <td>...</td>\n",
       "    </tr>\n",
       "    <tr>\n",
       "      <th>240</th>\n",
       "      <td>BURLINGTON STREET</td>\n",
       "      <td>BURLINGTON ST GT2 / LISTER DV B GT1 / PARADISE...</td>\n",
       "      <td>139.0</td>\n",
       "      <td>0.023621</td>\n",
       "      <td>0.000000</td>\n",
       "      <td>0.000</td>\n",
       "      <td>41.910195</td>\n",
       "      <td>102.730</td>\n",
       "      <td>53.421332</td>\n",
       "      <td>-2.989788</td>\n",
       "    </tr>\n",
       "    <tr>\n",
       "      <th>241</th>\n",
       "      <td>LISTER DRIVE</td>\n",
       "      <td>BURLINGTON ST GT2 / LISTER DV B GT1 / PARADISE...</td>\n",
       "      <td>139.0</td>\n",
       "      <td>0.038841</td>\n",
       "      <td>0.000000</td>\n",
       "      <td>0.000</td>\n",
       "      <td>41.910195</td>\n",
       "      <td>102.730</td>\n",
       "      <td>53.421296</td>\n",
       "      <td>-2.928358</td>\n",
       "    </tr>\n",
       "    <tr>\n",
       "      <th>242</th>\n",
       "      <td>LISTER DRIVE</td>\n",
       "      <td>LISTER DV B GT3 / SPARLING ST GT1 / WAVERTREE GT2</td>\n",
       "      <td>138.4</td>\n",
       "      <td>0.022074</td>\n",
       "      <td>51.416799</td>\n",
       "      <td>96.574</td>\n",
       "      <td>51.416799</td>\n",
       "      <td>96.574</td>\n",
       "      <td>53.421296</td>\n",
       "      <td>-2.928358</td>\n",
       "    </tr>\n",
       "    <tr>\n",
       "      <th>243</th>\n",
       "      <td>WAVERTREE</td>\n",
       "      <td>LISTER DV B GT3 / SPARLING ST GT1 / WAVERTREE GT2</td>\n",
       "      <td>138.4</td>\n",
       "      <td>0.026866</td>\n",
       "      <td>0.000000</td>\n",
       "      <td>0.000</td>\n",
       "      <td>51.416799</td>\n",
       "      <td>96.574</td>\n",
       "      <td>53.392054</td>\n",
       "      <td>-2.919679</td>\n",
       "    </tr>\n",
       "    <tr>\n",
       "      <th>244</th>\n",
       "      <td>SPARLING STREET</td>\n",
       "      <td>LISTER DV B GT3 / SPARLING ST GT1 / WAVERTREE GT2</td>\n",
       "      <td>138.4</td>\n",
       "      <td>0.038571</td>\n",
       "      <td>0.000000</td>\n",
       "      <td>0.000</td>\n",
       "      <td>51.416799</td>\n",
       "      <td>96.574</td>\n",
       "      <td>53.401599</td>\n",
       "      <td>-2.981651</td>\n",
       "    </tr>\n",
       "  </tbody>\n",
       "</table>\n",
       "<p>245 rows × 10 columns</p>\n",
       "</div>"
      ],
      "text/plain": [
       "              sub_name                                         group_name  \\\n",
       "0      ACORNFIELD ROAD  ACORNFIELD RD T1 / DICKINSONS T1 / HAMMOND RD ...   \n",
       "1                KODAK  ACORNFIELD RD T1 / DICKINSONS T1 / HAMMOND RD ...   \n",
       "2         HAMMOND ROAD  ACORNFIELD RD T1 / DICKINSONS T1 / HAMMOND RD ...   \n",
       "3           DICKINSONS  ACORNFIELD RD T1 / DICKINSONS T1 / HAMMOND RD ...   \n",
       "4         MOSSLEY HILL  AIGBURTH VALE T1 / IVY AVE T1 / MATHER AVE T1 ...   \n",
       "..                 ...                                                ...   \n",
       "240  BURLINGTON STREET  BURLINGTON ST GT2 / LISTER DV B GT1 / PARADISE...   \n",
       "241       LISTER DRIVE  BURLINGTON ST GT2 / LISTER DV B GT1 / PARADISE...   \n",
       "242       LISTER DRIVE  LISTER DV B GT3 / SPARLING ST GT1 / WAVERTREE GT2   \n",
       "243          WAVERTREE  LISTER DV B GT3 / SPARLING ST GT1 / WAVERTREE GT2   \n",
       "244    SPARLING STREET  LISTER DV B GT3 / SPARLING ST GT1 / WAVERTREE GT2   \n",
       "\n",
       "     cap_mva  distance  mean_flow_mw  max_flow_mw  mean_flow_group  \\\n",
       "0       30.0  0.004113      8.105243       15.288         8.105243   \n",
       "1       30.0  0.005469      0.000000        0.000         8.105243   \n",
       "2       30.0  0.005930      0.000000        0.000         8.105243   \n",
       "3       30.0  0.010465      0.000000        0.000         8.105243   \n",
       "4       37.5  0.002946      9.724854       20.424         9.724854   \n",
       "..       ...       ...           ...          ...              ...   \n",
       "240    139.0  0.023621      0.000000        0.000        41.910195   \n",
       "241    139.0  0.038841      0.000000        0.000        41.910195   \n",
       "242    138.4  0.022074     51.416799       96.574        51.416799   \n",
       "243    138.4  0.026866      0.000000        0.000        51.416799   \n",
       "244    138.4  0.038571      0.000000        0.000        51.416799   \n",
       "\n",
       "     max_flow_group        lat      long  \n",
       "0            15.288  53.481581 -2.856489  \n",
       "1            15.288  53.485770 -2.854392  \n",
       "2            15.288  53.490083 -2.858715  \n",
       "3            15.288  53.479467 -2.868960  \n",
       "4            20.424  53.377592 -2.923215  \n",
       "..              ...        ...       ...  \n",
       "240         102.730  53.421332 -2.989788  \n",
       "241         102.730  53.421296 -2.928358  \n",
       "242          96.574  53.421296 -2.928358  \n",
       "243          96.574  53.392054 -2.919679  \n",
       "244          96.574  53.401599 -2.981651  \n",
       "\n",
       "[245 rows x 10 columns]"
      ]
     },
     "execution_count": 275,
     "metadata": {},
     "output_type": "execute_result"
    }
   ],
   "source": [
    "df_greed = pd.DataFrame({'sub_name':[], 'group_name':[], 'cap_mva':[], 'distance':[], 'mean_flow_mw':[], 'max_flow_mw':[], 'mean_flow_group':[], 'max_flow_group':[], 'lat':[], 'long':[]})\n",
    "for ff in df_flow_gg.index:\n",
    "    mw = df_flow_gg['net_mw_mean'][ff]\n",
    "    max_mw = df_flow_gg['underlying_demand_mw_max'][ff]\n",
    "    while mw > 0 or max_mw > 0:\n",
    "        for ss in df_sub.query('`Grid Group` == @df_flow_gg.group_name.loc[@ff]').sort_values('distance').index:\n",
    "            cap = df_sub['Firm Capacity (MVA)'][ss]\n",
    "            if mw > cap:\n",
    "                flowin = cap\n",
    "            else:\n",
    "                flowin = mw\n",
    "            if max_mw > cap:\n",
    "                max_flowin = cap\n",
    "            else:\n",
    "                max_flowin = max_mw\n",
    "            df_greed.loc[len(df_greed)] = [df_sub['Substation Name'][ss], df_sub['Grid Group'][ss], cap, df_sub['distance'][ss], flowin, max_flowin, df_flow_gg['net_mw_mean'][ff], df_flow_gg['underlying_demand_mw_max'][ff], df_sub['lat'][ss], df_sub['long'][ss]]\n",
    "            mw -= flowin\n",
    "            max_mw -= max_flowin\n",
    "df_greed.to_excel('greed.xlsx', index=False)\n",
    "df_greed"
   ]
  },
  {
   "cell_type": "code",
   "execution_count": 276,
   "metadata": {},
   "outputs": [
    {
     "data": {
      "text/html": [
       "<div>\n",
       "<style scoped>\n",
       "    .dataframe tbody tr th:only-of-type {\n",
       "        vertical-align: middle;\n",
       "    }\n",
       "\n",
       "    .dataframe tbody tr th {\n",
       "        vertical-align: top;\n",
       "    }\n",
       "\n",
       "    .dataframe thead th {\n",
       "        text-align: right;\n",
       "    }\n",
       "</style>\n",
       "<table border=\"1\" class=\"dataframe\">\n",
       "  <thead>\n",
       "    <tr style=\"text-align: right;\">\n",
       "      <th></th>\n",
       "      <th>sub_name</th>\n",
       "      <th>is_filled</th>\n",
       "      <th>is_maxed</th>\n",
       "    </tr>\n",
       "    <tr>\n",
       "      <th>group_name</th>\n",
       "      <th></th>\n",
       "      <th></th>\n",
       "      <th></th>\n",
       "    </tr>\n",
       "  </thead>\n",
       "  <tbody>\n",
       "    <tr>\n",
       "      <th>ACORNFIELD RD T1 / DICKINSONS T1 / HAMMOND RD T1 / KODAK T1</th>\n",
       "      <td>4</td>\n",
       "      <td>1</td>\n",
       "      <td>0</td>\n",
       "    </tr>\n",
       "    <tr>\n",
       "      <th>AIGBURTH VALE T1 / IVY AVE T1 / MATHER AVE T1 / MOSSLEY HILL T1 / WAVERTREE T1</th>\n",
       "      <td>5</td>\n",
       "      <td>1</td>\n",
       "      <td>0</td>\n",
       "    </tr>\n",
       "    <tr>\n",
       "      <th>AINSDALE T1 / PINFOLD LA T1</th>\n",
       "      <td>2</td>\n",
       "      <td>1</td>\n",
       "      <td>0</td>\n",
       "    </tr>\n",
       "    <tr>\n",
       "      <th>AINTREE GT1 / FORMBY GT2A / LITHERLAND GT1B</th>\n",
       "      <td>3</td>\n",
       "      <td>1</td>\n",
       "      <td>0</td>\n",
       "    </tr>\n",
       "    <tr>\n",
       "      <th>AINTREE GT2 / FAZAKERLEY GT1 / GILLMOSS GT2</th>\n",
       "      <td>3</td>\n",
       "      <td>2</td>\n",
       "      <td>1</td>\n",
       "    </tr>\n",
       "    <tr>\n",
       "      <th>...</th>\n",
       "      <td>...</td>\n",
       "      <td>...</td>\n",
       "      <td>...</td>\n",
       "    </tr>\n",
       "    <tr>\n",
       "      <th>LUGSDALE T1 / PILK SULLIVAN T1 / PILK SULLIVAN T2 / USAC T1</th>\n",
       "      <td>3</td>\n",
       "      <td>1</td>\n",
       "      <td>0</td>\n",
       "    </tr>\n",
       "    <tr>\n",
       "      <th>NEVILL ST T1 / OCEAN PLAZA T1 / YORK RD T1</th>\n",
       "      <td>3</td>\n",
       "      <td>1</td>\n",
       "      <td>0</td>\n",
       "    </tr>\n",
       "    <tr>\n",
       "      <th>ORB CL T1 / STONEBRIDGE LA T1 / STONEBRIDGE LA T2</th>\n",
       "      <td>2</td>\n",
       "      <td>1</td>\n",
       "      <td>0</td>\n",
       "    </tr>\n",
       "    <tr>\n",
       "      <th>OTIS ELEVATOR T1 / ST IVEL FOODS T1</th>\n",
       "      <td>2</td>\n",
       "      <td>1</td>\n",
       "      <td>0</td>\n",
       "    </tr>\n",
       "    <tr>\n",
       "      <th>ROYAL INSURANCE (NEW QUAY) T1 / ROYAL INSURANCE (NEW QUAY) T2</th>\n",
       "      <td>1</td>\n",
       "      <td>1</td>\n",
       "      <td>0</td>\n",
       "    </tr>\n",
       "  </tbody>\n",
       "</table>\n",
       "<p>77 rows × 3 columns</p>\n",
       "</div>"
      ],
      "text/plain": [
       "                                                    sub_name  is_filled  \\\n",
       "group_name                                                                \n",
       "ACORNFIELD RD T1 / DICKINSONS T1 / HAMMOND RD T...         4          1   \n",
       "AIGBURTH VALE T1 / IVY AVE T1 / MATHER AVE T1 /...         5          1   \n",
       "AINSDALE T1 / PINFOLD LA T1                                2          1   \n",
       "AINTREE GT1 / FORMBY GT2A / LITHERLAND GT1B                3          1   \n",
       "AINTREE GT2 / FAZAKERLEY GT1 / GILLMOSS GT2                3          2   \n",
       "...                                                      ...        ...   \n",
       "LUGSDALE T1 / PILK SULLIVAN T1 / PILK SULLIVAN ...         3          1   \n",
       "NEVILL ST T1 / OCEAN PLAZA T1 / YORK RD T1                 3          1   \n",
       "ORB CL T1 / STONEBRIDGE LA T1 / STONEBRIDGE LA T2          2          1   \n",
       "OTIS ELEVATOR T1 / ST IVEL FOODS T1                        2          1   \n",
       "ROYAL INSURANCE (NEW QUAY) T1 / ROYAL INSURANCE...         1          1   \n",
       "\n",
       "                                                    is_maxed  \n",
       "group_name                                                    \n",
       "ACORNFIELD RD T1 / DICKINSONS T1 / HAMMOND RD T...         0  \n",
       "AIGBURTH VALE T1 / IVY AVE T1 / MATHER AVE T1 /...         0  \n",
       "AINSDALE T1 / PINFOLD LA T1                                0  \n",
       "AINTREE GT1 / FORMBY GT2A / LITHERLAND GT1B                0  \n",
       "AINTREE GT2 / FAZAKERLEY GT1 / GILLMOSS GT2                1  \n",
       "...                                                      ...  \n",
       "LUGSDALE T1 / PILK SULLIVAN T1 / PILK SULLIVAN ...         0  \n",
       "NEVILL ST T1 / OCEAN PLAZA T1 / YORK RD T1                 0  \n",
       "ORB CL T1 / STONEBRIDGE LA T1 / STONEBRIDGE LA T2          0  \n",
       "OTIS ELEVATOR T1 / ST IVEL FOODS T1                        0  \n",
       "ROYAL INSURANCE (NEW QUAY) T1 / ROYAL INSURANCE...         0  \n",
       "\n",
       "[77 rows x 3 columns]"
      ]
     },
     "execution_count": 276,
     "metadata": {},
     "output_type": "execute_result"
    }
   ],
   "source": [
    "df_greed['is_filled'] = df_greed['max_flow_mw'] > 0\n",
    "df_greed['is_maxed'] = df_greed['max_flow_mw'] >= df_greed['cap_mva']\n",
    "df_greed.groupby('group_name')[['sub_name', 'is_filled', 'is_maxed']].agg({'sub_name':'count', 'is_filled':'sum', 'is_maxed':'sum'})"
   ]
  },
  {
   "cell_type": "code",
   "execution_count": 277,
   "metadata": {},
   "outputs": [
    {
     "data": {
      "text/plain": [
       "sub_name     245\n",
       "is_filled     82\n",
       "is_maxed       5\n",
       "dtype: int64"
      ]
     },
     "execution_count": 277,
     "metadata": {},
     "output_type": "execute_result"
    }
   ],
   "source": [
    "df_greed.groupby('group_name')[['sub_name', 'is_filled', 'is_maxed']].agg({'sub_name':'count', 'is_filled':'sum', 'is_maxed':'sum'}).sum()"
   ]
  },
  {
   "cell_type": "markdown",
   "metadata": {},
   "source": [
    "## Result Map"
   ]
  },
  {
   "cell_type": "code",
   "execution_count": 278,
   "metadata": {},
   "outputs": [
    {
     "data": {
      "application/vnd.plotly.v1+json": {
       "config": {
        "plotlyServerURL": "https://plot.ly"
       },
       "data": [
        {
         "coloraxis": "coloraxis",
         "customdata": [
          [
           30,
           0.004112927594565051
          ],
          [
           30,
           0.005469450478971069
          ],
          [
           30,
           0.005930318594740069
          ],
          [
           30,
           0.010465437283029913
          ],
          [
           37.5,
           0.002945640879890384
          ],
          [
           37.5,
           0.011757504309702951
          ],
          [
           37.5,
           0.013270818861510162
          ],
          [
           37.5,
           0.015229929348172846
          ],
          [
           37.5,
           0.016396802882360482
          ],
          [
           20,
           0.008658400590855316
          ],
          [
           20,
           0.01163003123307475
          ],
          [
           20,
           0.018400853423448143
          ],
          [
           17.5,
           0.006431583306799344
          ],
          [
           17.5,
           0.007921701394513338
          ],
          [
           17.5,
           0.008983758839707848
          ],
          [
           30,
           0.009386287935031382
          ],
          [
           30,
           0.01373725271800848
          ],
          [
           30,
           0.015092137840913572
          ],
          [
           30,
           0.020771261159513322
          ],
          [
           30,
           0.011575883096242794
          ],
          [
           30,
           0.012615084498291573
          ],
          [
           30,
           0.03395282948292457
          ],
          [
           30,
           0.034993293325987024
          ],
          [
           37.5,
           0.00410155701432676
          ],
          [
           37.5,
           0.01502407600281817
          ],
          [
           37.5,
           0.01781970212356693
          ],
          [
           37.5,
           0.019663703070778485
          ],
          [
           37.5,
           0.022212040599459987
          ],
          [
           30,
           0.0066405426215951
          ],
          [
           30,
           0.00713971754700302
          ],
          [
           30,
           0.013287903497546556
          ],
          [
           30,
           0.018493301785540057
          ],
          [
           17.5,
           0.005817588455852231
          ],
          [
           17.5,
           0.012240334407744316
          ],
          [
           17.5,
           0.015435653018977764
          ],
          [
           9.1,
           0.002014188020689147
          ],
          [
           9.1,
           0.003594904393451584
          ],
          [
           9.1,
           0.004860172332299528
          ],
          [
           37.5,
           0.0038181168085508234
          ],
          [
           37.5,
           0.014569434758726664
          ],
          [
           37.5,
           0.01769096046956198
          ],
          [
           37.5,
           0.027345335653721742
          ],
          [
           37.5,
           0.02855960483762404
          ],
          [
           30,
           0.01311848824003416
          ],
          [
           30,
           0.014118930793115013
          ],
          [
           30,
           0.02343775233961762
          ],
          [
           30,
           0.024592811199818786
          ],
          [
           20,
           0.002024460133397981
          ],
          [
           20,
           0.002024460133397981
          ],
          [
           20,
           0.003015217440127409
          ],
          [
           20,
           0.004944477381568237
          ],
          [
           20,
           0.0061706405057370675
          ],
          [
           30,
           0.00268307440334995
          ],
          [
           30,
           0.0026830744033512735
          ],
          [
           37.5,
           0.003071441500703354
          ],
          [
           37.5,
           0.007913877247592717
          ],
          [
           37.5,
           0.011537348046466974
          ],
          [
           37.5,
           0.01306724194185117
          ],
          [
           37.5,
           0.014255194546825284
          ],
          [
           8.7,
           0.0023651019753499966
          ],
          [
           8.7,
           0.0023651019753499966
          ],
          [
           10,
           0.0053271500907253085
          ],
          [
           10,
           0.0053271500907253085
          ],
          [
           10,
           0.013835707903268416
          ],
          [
           10,
           0.013835707903272303
          ],
          [
           30,
           0.008629402051201355
          ],
          [
           30,
           0.015927700877435242
          ],
          [
           30,
           0.019670185925444773
          ],
          [
           30,
           0.025031931376501778
          ],
          [
           10,
           0.0007775273121942931
          ],
          [
           10,
           0.0007775273121942931
          ],
          [
           8.7,
           0
          ],
          [
           37.5,
           0.0051346125062207105
          ],
          [
           37.5,
           0.013292007001324999
          ],
          [
           37.5,
           0.014639926388765679
          ],
          [
           37.5,
           0.017210159306975663
          ],
          [
           37.5,
           0.01780208459242007
          ],
          [
           37.5,
           0.004466002657925167
          ],
          [
           37.5,
           0.00922541456264082
          ],
          [
           37.5,
           0.010353123478212264
          ],
          [
           37.5,
           0.012433225754866007
          ],
          [
           37.5,
           0.015343024486515398
          ],
          [
           9.1,
           0.007391580076013618
          ],
          [
           9.1,
           0.007795826913079787
          ],
          [
           9.1,
           0.011532631191021834
          ],
          [
           17.5,
           0.005761509888330055
          ],
          [
           17.5,
           0.006447340190046955
          ],
          [
           17.5,
           0.009759435147027765
          ],
          [
           20,
           0.0034319353467437597
          ],
          [
           20,
           0.009189700167446071
          ],
          [
           20,
           0.00980103679930082
          ],
          [
           18.53,
           0.0011076560496387988
          ],
          [
           18.53,
           0.003493522255596668
          ],
          [
           18.53,
           0.0038592099918055896
          ],
          [
           37.5,
           0.011426337450074946
          ],
          [
           37.5,
           0.011985674852640554
          ],
          [
           37.5,
           0.012415259040177252
          ],
          [
           37.5,
           0.016414564058142997
          ],
          [
           37.5,
           0.016824056695978685
          ],
          [
           37.5,
           0.008017317002658465
          ],
          [
           37.5,
           0.008395181846252202
          ],
          [
           37.5,
           0.01146140829512715
          ],
          [
           37.5,
           0.017480622171530725
          ],
          [
           37.5,
           0.027142384649467277
          ],
          [
           37.5,
           0.0067445829745831345
          ],
          [
           37.5,
           0.009364440241813831
          ],
          [
           37.5,
           0.013850638120647383
          ],
          [
           37.5,
           0.014621580938267834
          ],
          [
           37.5,
           0.016539965099533937
          ],
          [
           28,
           0.011202810223272066
          ],
          [
           28,
           0.011763106011908265
          ],
          [
           28,
           0.012672983869080171
          ],
          [
           28,
           0.012938455156957806
          ],
          [
           20,
           0.001993330227669
          ],
          [
           20,
           0.004662028726102677
          ],
          [
           20,
           0.006395826818499236
          ],
          [
           20,
           0.0007369892071461052
          ],
          [
           20,
           0.0027317947469836564
          ],
          [
           20,
           0.002905645379567869
          ],
          [
           18.2,
           0.00850122801571886
          ],
          [
           18.2,
           0.008501228015719208
          ],
          [
           17.5,
           0.003998696065678137
          ],
          [
           17.5,
           0.010568190984343308
          ],
          [
           17.5,
           0.011881971893080654
          ],
          [
           30,
           0.00619697736953722
          ],
          [
           30,
           0.008769444112939357
          ],
          [
           30,
           0.011444490346248823
          ],
          [
           30,
           0.012737294250868234
          ],
          [
           30,
           0.24064876900865934
          ],
          [
           30,
           0.27609834116315957
          ],
          [
           30,
           0.5163512498237283
          ],
          [
           30,
           0.0058447712899674185
          ],
          [
           30,
           0.0064894818668805735
          ],
          [
           30,
           0.01012114722348679
          ],
          [
           30,
           0.012997233999464213
          ],
          [
           30,
           0.0021773082628104073
          ],
          [
           30,
           0.007608645012969091
          ],
          [
           30,
           0.011094540947385592
          ],
          [
           30,
           0.011654269266767856
          ],
          [
           20,
           0.00992459648823388
          ],
          [
           20,
           0.012427133114582935
          ],
          [
           20,
           0.015269488399359299
          ],
          [
           30,
           0.0031270062854498173
          ],
          [
           30,
           0.013306731219539817
          ],
          [
           30,
           0.016285263688977692
          ],
          [
           20,
           0.0005396325540099384
          ],
          [
           20,
           0.00231102902901153
          ],
          [
           20,
           0.0027658967166371055
          ],
          [
           20,
           0.003021685530502206
          ],
          [
           9.1,
           0.008040532859804689
          ],
          [
           9.1,
           0.008040532859806455
          ],
          [
           30,
           0.0025346203165483323
          ],
          [
           30,
           0.007870940875299695
          ],
          [
           30,
           0.010208598778416709
          ],
          [
           17.5,
           0.007273856768992464
          ],
          [
           17.5,
           0.008354274037542578
          ],
          [
           17.5,
           0.009984564455594694
          ],
          [
           37.5,
           0.003130738755883241
          ],
          [
           37.5,
           0.012690995602929661
          ],
          [
           37.5,
           0.025074023960387663
          ],
          [
           37.5,
           0.03467696966592538
          ],
          [
           30,
           0.003171141832537453
          ],
          [
           30,
           0.005176771715230269
          ],
          [
           30,
           0.008112513307710904
          ],
          [
           30,
           0.009142017957361578
          ],
          [
           30,
           0.0038718722838710935
          ],
          [
           30,
           0.009377368155919198
          ],
          [
           30,
           0.009657594881976747
          ],
          [
           8.7,
           0.0021808147280909774
          ],
          [
           8.7,
           0.0021808147280911456
          ],
          [
           8.7,
           0.003150902622771271
          ],
          [
           8.7,
           0.003150902622772493
          ],
          [
           20,
           0.0012268070623584373
          ],
          [
           20,
           0.004083040723144322
          ],
          [
           20,
           0.004909199688781804
          ],
          [
           20,
           0.005537203799526134
          ],
          [
           20,
           0.007557414117099589
          ],
          [
           20,
           0.012324905616681878
          ],
          [
           9.1,
           0.005786916592456849
          ],
          [
           9.1,
           0.005786916592457018
          ],
          [
           17.4,
           0.003010166464127212
          ],
          [
           17.4,
           0.006870153702597383
          ],
          [
           17.4,
           0.007771869181859506
          ],
          [
           30,
           0.0017697606199938546
          ],
          [
           30,
           0.0017755942064849829
          ],
          [
           30,
           0.020344969227927303
          ],
          [
           30,
           0.021724222947269507
          ],
          [
           30,
           0.003091702374146027
          ],
          [
           30,
           0.010988301102473593
          ],
          [
           30,
           0.0174131701611942
          ],
          [
           30,
           0.019089853862589108
          ],
          [
           30,
           0.004576913529925563
          ],
          [
           30,
           0.004598889833891656
          ],
          [
           30,
           0.007279841055538638
          ],
          [
           20,
           0.005461670941215765
          ],
          [
           20,
           0.008204530074929443
          ],
          [
           20,
           0.012380468393310955
          ],
          [
           18.2,
           0.006441805151113739
          ],
          [
           18.2,
           0.009628310745553289
          ],
          [
           18.2,
           0.01025158699023225
          ],
          [
           18.2,
           0.013886691094797704
          ],
          [
           17.5,
           0.00561323550613442
          ],
          [
           17.5,
           0.013952688762614152
          ],
          [
           17.5,
           0.019531305673636427
          ],
          [
           30,
           0.0007498357250217545
          ],
          [
           30,
           0.0023937770944129967
          ],
          [
           30,
           0.003036564924794282
          ],
          [
           30,
           0.010589614121902808
          ],
          [
           30,
           0.020295648464432194
          ],
          [
           30,
           0.02403399266973751
          ],
          [
           30,
           0.024381817702486406
          ],
          [
           7.5,
           0
          ],
          [
           8.7,
           0
          ],
          [
           20,
           0.006647501167696842
          ],
          [
           20,
           0.0066475011677002505
          ],
          [
           101.9,
           0.0327278377011884
          ],
          [
           101.9,
           0.0501588642335299
          ],
          [
           101.9,
           0.06146582639512594
          ],
          [
           138.1,
           0.026476502072185697
          ],
          [
           138.1,
           0.029332954071379265
          ],
          [
           138.1,
           0.04020034870014566
          ],
          [
           75,
           0.058203869736033684
          ],
          [
           75,
           0.05820386973603931
          ],
          [
           114.8,
           0.02096237691049096
          ],
          [
           114.8,
           0.03361618772979208
          ],
          [
           114.8,
           0.0343110433744497
          ],
          [
           114.8,
           0.04341400843593209
          ],
          [
           64.1,
           0.008788406210476312
          ],
          [
           64.1,
           0.008788406210476312
          ],
          [
           65,
           0.015900336797400647
          ],
          [
           65,
           0.026060751904372875
          ],
          [
           65,
           0.030646881515331077
          ],
          [
           68.6,
           0.01429827521127108
          ],
          [
           68.6,
           0.014298275211275762
          ],
          [
           108.3,
           0.021490031472061424
          ],
          [
           108.3,
           0.021490031472061424
          ],
          [
           90.2,
           0.018392541632064018
          ],
          [
           90.2,
           0.018960203807422846
          ],
          [
           90.2,
           0.028858664828932668
          ],
          [
           139,
           0.018957103504032173
          ],
          [
           139,
           0.023621046943845828
          ],
          [
           139,
           0.03884062471462848
          ],
          [
           138.4,
           0.022074372484682362
          ],
          [
           138.4,
           0.02686592474570556
          ],
          [
           138.4,
           0.03857059149964963
          ]
         ],
         "hovertemplate": "<b>%{hovertext}</b><br><br>max_flow_mw=%{z}<br>lat=%{lat}<br>long=%{lon}<extra></extra>",
         "hovertext": [
          "ACORNFIELD ROAD",
          "KODAK",
          "HAMMOND ROAD",
          "DICKINSONS",
          "MOSSLEY HILL",
          "MATHER AVENUE",
          "WAVERTREE",
          "AIGBURTH VALE",
          "IVY AVENUE",
          "OLD ROAN",
          "AINTREE",
          "WANGO LANE",
          "WAVERTREE VALE",
          "ARUNDEL",
          "GROVE PARK",
          "DINGLE VALE",
          "BEAUMONT STREET",
          "LARK LANE",
          "MDHB BRUNSWICK DOCK",
          "BROOK BRIDGE",
          "BLUEBELL LANE",
          "BEDBURN DRIVE",
          "ECCLESTON",
          "NORRIS GREEN",
          "LUCAS FAZAKERLEY",
          "CARR LANE EAST",
          "BEMROSE",
          "WEST DERBY",
          "ORRELL MOUNT",
          "BOOTLE",
          "SCARISBRICK AVENUE",
          "TATTON ROAD",
          "EVERTON ROAD",
          "BUCKINGHAM STREET",
          "SUBURBAN ROAD",
          "WOODVILLE STREET",
          "TECHNOLOGY CAMPUS",
          "CHALON WAY",
          "LYNDENE ROAD",
          "CHILDWALL",
          "NAYLORS ROAD",
          "MIDDLEMASS HEY",
          "CHILDWALL FIVEWAYS",
          "CLOCKFACE",
          "N C B SUTTON MANOR",
          "GEC ST HELENS",
          "HILLS MOSS",
          "MEDEVA",
          "CONIX",
          "MERSEY BRIDGE",
          "PITT STREET",
          "DESOTO ROAD",
          "LIVERPOOL UNIVERSITY",
          "EDGE HILL",
          "EDGE LN TAPLEY",
          "PLESSEY EDGE LANE",
          "LISTER DRIVE T3",
          "STONEYCROFT",
          "MILL LN WAVERTREE",
          "HARRINGTON STREET A",
          "HIGHFIELD STREET A",
          "WILSON ROAD",
          "HUYTON HEY ROAD",
          "KNOWSLEY",
          "MARLED HEY",
          "MARSHSIDE",
          "SOUTHPORT",
          "MULLARDS BALMORAL DR",
          "LORD STREET",
          "OTIS ELEVATOR",
          "ST IVEL FOODS",
          "ROYAL INSURANCE (NEW QUAY)",
          "GARSTON",
          "WEAVER IND EST",
          "ALLERTON",
          "ECP WEST-BANKS RD",
          "YEWTREE ROAD",
          "ATLANTIC COMPLEX",
          "GIRO BOOTLE",
          "MIDLAND BANK",
          "NETHERTON",
          "ALMONDS TURN",
          "GRANTHAM CLOSE",
          "DOVER ROAD",
          "BANASTRE ROAD",
          "BIBBYS",
          "REGENT ROAD",
          "INLAND REVENUE",
          "TARBOCK",
          "WHISTON",
          "BICC HUYTON QUARRY",
          "BLUNDELL STREET",
          "ROPEWALKS",
          "ST JAMES",
          "BLUNDELLSANDS SOUTH",
          "WATERLOO",
          "KERSHAW AVENUE",
          "CROSBY",
          "BLUNDELLSANDS NORTH",
          "KELLOGGS",
          "PACIFIC ROAD",
          "WASHINGTON STREET",
          "BOOTLE",
          "WATERLOO",
          "KNOTTY ASH",
          "LEYFIELD ROAD",
          "CROXTETH",
          "EAST PRESCOT ROAD",
          "BROADGREEN",
          "SOUTHPORT RD",
          "MARSH BROWS",
          "FRESHFIELD",
          "BURLINGTON AVENUE",
          "GRADWELL STREET",
          "CABLE STREET",
          "OLDHAM PLACE",
          "CABLE STREET",
          "CROWN COURTS",
          "GRADWELL STREET",
          "CHALON WAY",
          "CARLTON STREET",
          "GRANBY",
          "ST JAMES",
          "DINGLE",
          "GAVIN ROAD",
          "RTZ",
          "HOUGH GREEN",
          "DITTON",
          "MARKET STREET",
          "SOUTHPORT",
          "IVY STREET",
          "PALCO",
          "KELCO",
          "NEWS INTERNATIONAL",
          "SOUTHDENE",
          "KIRKBY CENTRAL",
          "TOWER HILL",
          "WEST VALE",
          "NORTHWOOD",
          "RAVENHEAD RETAIL PARK",
          "PILKINGTON HO",
          "SOMERFIELD DISTRIBUTION",
          "HAREFIELD ROAD",
          "AIRPORT",
          "ALDERWOOD AVE",
          "HPO COPPERAS HILL",
          "BOLTON STREET",
          "OLDHAM PLACE",
          "GREEK STREET",
          "WINDLEHURST",
          "BRITISH OXYGEN",
          "KINGSWAY TUNNEL",
          "BROOK STREET",
          "NWWA SANDON DOCK",
          "CLUBMOOR",
          "SUBURBAN ROAD",
          "LISTER DRIVE 6kV T1",
          "ROBBINS BRIDGE",
          "DODDS LANE",
          "MAGHULL",
          "HOLBORN HILL",
          "LEEWARD DRIVE",
          "ESTUARY COMMERCE PK",
          "SPEKE HALL ROAD",
          "SPEKE SKY PARK",
          "SEEDS LANE",
          "JACOBS",
          "FAZAKERLEY HOSPITAL",
          "PARADISE STREET",
          "HARRINGTON STREET A",
          "LIME STREET",
          "HARRINGTON STREET A",
          "OLD HAYMARKET",
          "LIME STREET",
          "HIGHFIELD STREET A",
          "NEVILL STREET",
          "OCEAN PLAZA",
          "YORK ROAD",
          "AINSDALE",
          "PINFOLD LANE",
          "ATHOL STREET",
          "SANDHILLS LANE",
          "CHISENHALE STREET",
          "HOLT LANE WARR RD",
          "WHISTON HOSPITAL",
          "PRESCOT",
          "RAINHILL LOCAL",
          "HUNTS CROSS",
          "WOODEND AVENUE",
          "WOOLTON",
          "KENTON ROAD",
          "PILK SULLIVAN",
          "USAC",
          "LUGSDALE",
          "APPLETON",
          "LUGSDALE",
          "HORNSBRIDGE",
          "BRITISH SIDAC",
          "ST HELENS LINKWAY",
          "SHERDLEY ROAD",
          "WATERY LANE",
          "EVERTON BROW",
          "GARDNERS ROW",
          "SHEIL PARK",
          "KINGS DOCK",
          "WAPPING",
          "ALBERT DOCK",
          "CARBORUNDUM",
          "HOUGHTONS LANE",
          "RAINFORD",
          "WINDLEHURST",
          "HASKAYNE",
          "DAILY POST AND ECHO",
          "ORB CLOSE",
          "STONEBRIDGE LANE",
          "LITHERLAND",
          "AINTREE",
          "FORMBY",
          "BURLINGTON STREET",
          "BOOTLE",
          "LISTER DRIVE",
          "FORMBY",
          "SOUTHPORT",
          "HUYTON",
          "PRESCOT",
          "GATEACRE",
          "KIRKBY",
          "HALEWOOD",
          "SPEKE",
          "FAZAKERLEY",
          "AINTREE",
          "GILLMOSS",
          "BOOTLE",
          "LITHERLAND",
          "GARSTON",
          "SPEKE",
          "SIMONSWOOD",
          "KIRKBY",
          "GILLMOSS",
          "PARADISE STREET",
          "BURLINGTON STREET",
          "LISTER DRIVE",
          "LISTER DRIVE",
          "WAVERTREE",
          "SPARLING STREET"
         ],
         "lat": [
          53.48158101021283,
          53.485769697686905,
          53.490083096821465,
          53.47946706893251,
          53.37759236897662,
          53.383301031977716,
          53.392115438280506,
          53.37729821176274,
          53.363920138751375,
          53.487669334564586,
          53.479927044410346,
          53.47903913146635,
          53.401313405426556,
          53.39133347026686,
          53.39266939433678,
          53.38055758427388,
          53.40003927613069,
          53.38439809548913,
          53.393273849667196,
          53.42910378392303,
          53.42225664562258,
          53.41639231657325,
          53.435290408038696,
          53.44535196883245,
          53.45648791762959,
          53.449152540322544,
          53.45874548028062,
          53.431167710138794,
          53.468532612784536,
          53.45891837489128,
          53.469869413578714,
          53.46686519312143,
          53.42008241690232,
          53.42600502074771,
          53.429881868586556,
          53.45733655097534,
          53.4569111160361,
          53.45172048280775,
          53.39627808403586,
          53.389883977487685,
          53.39252435936215,
          53.38962480224871,
          53.39994630528609,
          53.41948249183195,
          53.41160968352447,
          53.41751429670323,
          53.43256425627105,
          53.351617657840244,
          53.35236734892916,
          53.36009680289808,
          53.35654061392991,
          53.3549789657585,
          53.408106270770084,
          53.407106712281816,
          53.41208912459497,
          53.41243812101662,
          53.42194946927243,
          53.42464609757835,
          53.401843481914526,
          53.40892814792865,
          53.41312667364045,
          53.40749152098489,
          53.411929787686816,
          53.45360503098669,
          53.43845909063401,
          53.666338364502245,
          53.644891858592224,
          53.6678314482582,
          53.652482985835015,
          53.46993736072292,
          53.46902005176156,
          53.41090625518935,
          53.35615190812053,
          53.34896282813954,
          53.37450038817994,
          53.34772455441743,
          53.379055234022005,
          53.47910749848658,
          53.47437929930791,
          53.474379442335426,
          53.49466251689798,
          53.49383637905234,
          53.621474422898245,
          53.62640831447822,
          53.63844784083177,
          53.44503244135316,
          53.43840931629037,
          53.44962196167789,
          53.406580695506705,
          53.41285302799098,
          53.410037768348694,
          53.400430996228586,
          53.403721472863175,
          53.39653155512801,
          53.49171260684971,
          53.47848933468698,
          53.48791652940732,
          53.49791135669885,
          53.49631933279402,
          53.4634694202197,
          53.454308160443745,
          53.455423498396534,
          53.45891837489128,
          53.47848933468698,
          53.42076653332622,
          53.42950941779824,
          53.43711661328251,
          53.42258817290765,
          53.407304149566485,
          53.57057285993626,
          53.55747166465291,
          53.56986881619634,
          53.558837814537824,
          53.40588051069518,
          53.4077651761994,
          53.40607239666528,
          53.4077651761994,
          53.4074408877939,
          53.40588051069518,
          53.45172048280775,
          53.45255403727681,
          53.397808538033125,
          53.39653155512801,
          53.38714712592654,
          53.36502934240193,
          53.36270303304967,
          53.38066435859472,
          53.372831567836585,
          53.64748767031024,
          53.644891858592224,
          53.306907822136615,
          53.46417701634223,
          53.46629136477233,
          53.46670786233184,
          53.47326053773067,
          53.48413518651102,
          53.493371561294275,
          53.48128065331388,
          53.48590156841973,
          53.446929331185174,
          53.44610490176761,
          53.42446503875505,
          53.34441230265524,
          53.341757563158765,
          53.34532401045283,
          53.409030826681516,
          53.40902024234922,
          53.40607239666528,
          53.4109200577197,
          53.46531419713009,
          53.4702658240376,
          53.418409840441754,
          53.41301897109336,
          53.43102171119756,
          53.43650673412069,
          53.429881868586556,
          53.42194946927243,
          53.53318632886943,
          53.520865929464655,
          53.50911327590569,
          53.5576684635132,
          53.351461079192795,
          53.34787253331973,
          53.35829442449201,
          53.343552373357596,
          53.47067774400123,
          53.461543973888496,
          53.46980972092478,
          53.40488998013892,
          53.40892814792865,
          53.41001202268644,
          53.40892814792865,
          53.41240553669614,
          53.41001202268644,
          53.41312667364045,
          53.65177760110811,
          53.65540627877177,
          53.63645932533046,
          53.60523474087081,
          53.59453087781793,
          53.427187499034396,
          53.43340927784029,
          53.41913226281736,
          53.42222716341715,
          53.421899453213705,
          53.424126257402406,
          53.413835536496016,
          53.369333604011544,
          53.356183518797515,
          53.37637029994296,
          53.36312412610851,
          53.36278713724,
          53.36828625565889,
          53.36739828253958,
          53.37274631079631,
          53.36739828253958,
          53.386406278216,
          53.43962198455728,
          53.44574077071152,
          53.443710081279484,
          53.44256203763328,
          53.418416822139754,
          53.41799116200887,
          53.423329071767064,
          53.399231788464476,
          53.39824204177805,
          53.40244736275407,
          53.489342683932755,
          53.46164769622954,
          53.49980755108042,
          53.46531419713009,
          53.56223678289227,
          53.41195410301462,
          53.45494263590758,
          53.461320238266524,
          53.478069728382124,
          53.493005136660415,
          53.5575541170844,
          53.42133243462447,
          53.45923139893787,
          53.42129638818907,
          53.5575541170844,
          53.64484014004931,
          53.42516014937205,
          53.423880928628485,
          53.3943911744227,
          53.47089207107864,
          53.35574382997622,
          53.35520255955055,
          53.463075583116904,
          53.493005136660415,
          53.464575886061766,
          53.45923139893787,
          53.478069728382124,
          53.356249314775425,
          53.35520255955055,
          53.492392402601936,
          53.47089207107864,
          53.464575886061766,
          53.40490350558064,
          53.42133243462447,
          53.42129638818907,
          53.42129638818907,
          53.39205435444187,
          53.40159900721322
         ],
         "lon": [
          -2.856488723050569,
          -2.8543921609641663,
          -2.858714926224543,
          -2.868960247870969,
          -2.9232148629237744,
          -2.909668478621902,
          -2.9204016465259253,
          -2.935700172044926,
          -2.9137600338057656,
          -2.947439064095321,
          -2.952120579982764,
          -2.922591919732099,
          -2.9348368044453848,
          -2.9295519009504836,
          -2.9451651195422706,
          -2.961435944175713,
          -2.9499127258116697,
          -2.944624291873282,
          -2.9792414649163828,
          -2.826966517823932,
          -2.8501678183081656,
          -2.8706839239298754,
          -2.8043784690358375,
          -2.930792159209246,
          -2.940341324407141,
          -2.9100293326371127,
          -2.944407337081691,
          -2.9135425332827087,
          -2.987866497465608,
          -2.981300471120738,
          -2.9944350105232207,
          -2.9632337707027347,
          -2.9646244750169597,
          -2.9743200215863066,
          -2.947351594556459,
          -2.7445084439605307,
          -2.741321233271815,
          -2.747808882977331,
          -2.8765731545351403,
          -2.8878759174545987,
          -2.8561470182939996,
          -2.846754798019866,
          -2.9016592879163565,
          -2.7196013943716837,
          -2.743828112149952,
          -2.7559673306687986,
          -2.7113825238848923,
          -2.854156556576897,
          -2.8501776473547515,
          -2.754613494109046,
          -2.7505693005741354,
          -2.761223832024802,
          -2.960789372244374,
          -2.9555171397149618,
          -2.9217472582929975,
          -2.9311405362343588,
          -2.932413760277352,
          -2.9151775108184386,
          -2.917149728861142,
          -2.9837257753935686,
          -2.9859045849911636,
          -2.832766645851588,
          -2.8424525067342894,
          -2.8544126543542996,
          -2.8775709734550396,
          -2.9662662111307925,
          -2.9553155692668853,
          -2.9475556298150716,
          -2.988968248782947,
          -2.8760457604682177,
          -2.8773014432124793,
          -2.9917707160249805,
          -2.8994283329991966,
          -2.904149187611657,
          -2.905436851579359,
          -2.888545159884441,
          -2.898191511493313,
          -2.971849062968237,
          -2.9677871074751576,
          -2.9649384887407746,
          -2.96525216830561,
          -2.9813662358890363,
          -3.0020690538014865,
          -3.010640860976548,
          -2.9969307425213443,
          -2.996177877444298,
          -2.992950800833406,
          -2.9822404727781686,
          -2.82004323652281,
          -2.812489756420958,
          -2.830964548867422,
          -2.9791900391584565,
          -2.97812117943629,
          -2.976992206425268,
          -3.0318479330590553,
          -3.020137126104079,
          -3.0083395128713684,
          -3.005858536309826,
          -3.0362637980786467,
          -3.0063883099246227,
          -2.9954147660155357,
          -2.9891846842932064,
          -2.981300471120738,
          -3.020137126104079,
          -2.897692550460257,
          -2.898653495860952,
          -2.8892155437371505,
          -2.8769120722004455,
          -2.8950654298795726,
          -3.038281072758332,
          -3.0571435168482646,
          -3.058814473441467,
          -3.0357056188310514,
          -2.980330913895465,
          -2.9829685624171707,
          -2.9720853938931233,
          -2.9829685624171707,
          -2.9857005531236824,
          -2.980330913895465,
          -2.747808882977331,
          -2.7647908939904027,
          -2.9663836947291573,
          -2.976992206425268,
          -2.956950281571702,
          -2.78648601801278,
          -2.7876064992303107,
          -2.7881068173430985,
          -2.770753625319709,
          -2.99604512369433,
          -2.9553155692668853,
          -3.671941535480043,
          -2.8751328235683453,
          -2.8640476485669484,
          -2.860320981173698,
          -2.882106205341939,
          -2.889301080209952,
          -2.8925318619436884,
          -2.9000278654364697,
          -2.8784187683967017,
          -2.751430416471552,
          -2.7679236134315395,
          -2.7534875287755516,
          -2.8527313048173912,
          -2.8628029021536117,
          -2.83344204208912,
          -2.9732024525533336,
          -2.9750316210112593,
          -2.9720853938931233,
          -2.9706213000337187,
          -2.7638495321071015,
          -2.74854979140187,
          -2.994321468112982,
          -2.9924573169729123,
          -2.9938032171006355,
          -2.937260737146558,
          -2.947351594556459,
          -2.932413760277352,
          -2.9266472706323716,
          -2.936203134759719,
          -2.941167268599754,
          -2.9064372735872914,
          -2.8760998057656315,
          -2.8777257445014435,
          -2.871800347056549,
          -2.866977299909799,
          -2.9426641246567136,
          -2.9480639359174785,
          -2.9313578180015285,
          -2.982077439136908,
          -2.9837257753935686,
          -2.977517880028617,
          -2.9837257753935686,
          -2.9800719754323235,
          -2.977517880028617,
          -2.9859045849911636,
          -2.9982128399792027,
          -3.0014500715221915,
          -3.0067781051716986,
          -3.0239075332726038,
          -3.028309911077536,
          -2.984177218544132,
          -2.987838877456239,
          -2.98935797746864,
          -2.7916001313229484,
          -2.7931948370967605,
          -2.8120974661859015,
          -2.7714046997534156,
          -2.856473366942228,
          -2.86061189754041,
          -2.8703853515597455,
          -2.837381256099737,
          -2.730174051460244,
          -2.7291945305822054,
          -2.740444202278539,
          -2.743967116210035,
          -2.740444202278539,
          -2.7333698207740187,
          -2.7264307663783214,
          -2.74117338678881,
          -2.742191221918869,
          -2.7180886410553797,
          -2.9716913605090567,
          -2.980100806700297,
          -2.947050887538326,
          -2.9854243249069237,
          -2.983880135883945,
          -2.987294050428071,
          -2.7816115159128953,
          -2.794489318409893,
          -2.796085595806899,
          -2.7638495321071015,
          -2.9631437541157677,
          -2.992154277067054,
          -2.900712599687762,
          -2.912378073327927,
          -3.0029093146955272,
          -2.9465805315672626,
          -3.0323140531145283,
          -2.98978842607609,
          -2.9813946675959606,
          -2.928357791199963,
          -3.0323140531145283,
          -2.9552951463190724,
          -2.8660996522717457,
          -2.8121323138460963,
          -2.848298920501172,
          -2.855142299687652,
          -2.838922279332908,
          -2.8564907556814036,
          -2.941199316253274,
          -2.9465805315672626,
          -2.8999356468209103,
          -2.9813946675959606,
          -3.0029093146955272,
          -2.8994580701678823,
          -2.8564907556814036,
          -2.8651654249932705,
          -2.855142299687652,
          -2.8999356468209103,
          -2.982295267448238,
          -2.98978842607609,
          -2.928357791199963,
          -2.928357791199963,
          -2.919678816619778,
          -2.981651056897432
         ],
         "name": "",
         "radius": 10,
         "subplot": "mapbox",
         "type": "densitymapbox",
         "z": [
          15.288,
          0,
          0,
          0,
          20.424,
          0,
          0,
          0,
          0,
          20,
          18.009,
          0,
          11.504,
          0,
          0,
          19.826,
          0,
          0,
          0,
          11.908,
          0,
          0,
          0,
          22.523,
          0,
          0,
          0,
          0,
          30,
          30,
          8.709000000000003,
          0,
          8.317,
          0,
          0,
          7.049,
          0,
          0,
          22.305,
          0,
          0,
          0,
          0,
          12.636,
          0,
          0,
          0,
          8.525,
          0,
          7.585,
          0,
          0,
          14.516,
          0,
          19.985,
          0,
          0,
          0,
          0,
          6.29,
          0,
          6.838,
          0,
          4.292,
          0,
          17.932,
          0,
          0,
          0,
          6.183,
          0,
          0.455,
          13.5,
          0,
          0,
          0,
          0,
          14.139,
          0,
          0,
          0,
          0,
          9.1,
          2.383000000000001,
          0,
          11.641,
          0,
          0,
          7.706,
          0,
          0,
          8.972,
          0,
          0,
          20.828,
          0,
          0,
          0,
          0,
          17.509,
          0,
          0,
          0,
          0,
          25.015,
          0,
          0,
          0,
          0,
          14.531,
          0,
          0,
          0,
          14.042,
          0,
          0,
          10.267,
          0,
          0,
          9.891,
          0,
          8.525,
          0,
          0,
          19.049,
          0,
          0,
          0,
          14.209,
          0,
          0,
          19.487,
          0,
          0,
          0,
          19.586,
          0,
          0,
          0,
          14.107,
          0,
          0,
          16.54,
          0,
          0,
          14.382,
          0,
          0,
          0,
          6.198,
          0,
          12.445,
          0,
          0,
          10.687,
          0,
          0,
          23.143,
          0,
          0,
          0,
          8.669,
          0,
          0,
          0,
          14.824,
          0,
          0,
          5.273,
          0,
          3.55,
          0,
          8.089,
          0,
          0,
          9.874,
          0,
          0,
          5.668,
          0,
          7.996,
          0,
          0,
          13.831,
          0,
          0,
          0,
          17.212,
          0,
          0,
          0,
          12.59,
          0,
          0,
          17.008,
          0,
          0,
          9.217,
          0,
          0,
          0,
          10.828,
          0,
          0,
          6.334,
          0,
          0,
          17.459,
          0,
          0,
          0,
          2.025,
          4.25,
          8.695,
          0,
          48.584,
          0,
          0,
          87.53,
          0,
          0,
          64.449,
          0,
          100.112,
          0,
          0,
          0,
          32.07,
          0,
          65,
          0.35599999999999454,
          0,
          50.852,
          0,
          65.087,
          0,
          42.579,
          0,
          0,
          102.73,
          0,
          0,
          96.574,
          0,
          0
         ]
        }
       ],
       "layout": {
        "coloraxis": {
         "colorbar": {
          "title": {
           "text": "max_flow_mw"
          }
         },
         "colorscale": [
          [
           0,
           "#0d0887"
          ],
          [
           0.1111111111111111,
           "#46039f"
          ],
          [
           0.2222222222222222,
           "#7201a8"
          ],
          [
           0.3333333333333333,
           "#9c179e"
          ],
          [
           0.4444444444444444,
           "#bd3786"
          ],
          [
           0.5555555555555556,
           "#d8576b"
          ],
          [
           0.6666666666666666,
           "#ed7953"
          ],
          [
           0.7777777777777778,
           "#fb9f3a"
          ],
          [
           0.8888888888888888,
           "#fdca26"
          ],
          [
           1,
           "#f0f921"
          ]
         ]
        },
        "legend": {
         "tracegroupgap": 0
        },
        "mapbox": {
         "center": {
          "lat": 53.5,
          "lon": -2.9
         },
         "domain": {
          "x": [
           0,
           1
          ],
          "y": [
           0,
           1
          ]
         },
         "style": "open-street-map",
         "zoom": 8
        },
        "margin": {
         "t": 60
        },
        "template": {
         "data": {
          "bar": [
           {
            "error_x": {
             "color": "#2a3f5f"
            },
            "error_y": {
             "color": "#2a3f5f"
            },
            "marker": {
             "line": {
              "color": "#E5ECF6",
              "width": 0.5
             },
             "pattern": {
              "fillmode": "overlay",
              "size": 10,
              "solidity": 0.2
             }
            },
            "type": "bar"
           }
          ],
          "barpolar": [
           {
            "marker": {
             "line": {
              "color": "#E5ECF6",
              "width": 0.5
             },
             "pattern": {
              "fillmode": "overlay",
              "size": 10,
              "solidity": 0.2
             }
            },
            "type": "barpolar"
           }
          ],
          "carpet": [
           {
            "aaxis": {
             "endlinecolor": "#2a3f5f",
             "gridcolor": "white",
             "linecolor": "white",
             "minorgridcolor": "white",
             "startlinecolor": "#2a3f5f"
            },
            "baxis": {
             "endlinecolor": "#2a3f5f",
             "gridcolor": "white",
             "linecolor": "white",
             "minorgridcolor": "white",
             "startlinecolor": "#2a3f5f"
            },
            "type": "carpet"
           }
          ],
          "choropleth": [
           {
            "colorbar": {
             "outlinewidth": 0,
             "ticks": ""
            },
            "type": "choropleth"
           }
          ],
          "contour": [
           {
            "colorbar": {
             "outlinewidth": 0,
             "ticks": ""
            },
            "colorscale": [
             [
              0,
              "#0d0887"
             ],
             [
              0.1111111111111111,
              "#46039f"
             ],
             [
              0.2222222222222222,
              "#7201a8"
             ],
             [
              0.3333333333333333,
              "#9c179e"
             ],
             [
              0.4444444444444444,
              "#bd3786"
             ],
             [
              0.5555555555555556,
              "#d8576b"
             ],
             [
              0.6666666666666666,
              "#ed7953"
             ],
             [
              0.7777777777777778,
              "#fb9f3a"
             ],
             [
              0.8888888888888888,
              "#fdca26"
             ],
             [
              1,
              "#f0f921"
             ]
            ],
            "type": "contour"
           }
          ],
          "contourcarpet": [
           {
            "colorbar": {
             "outlinewidth": 0,
             "ticks": ""
            },
            "type": "contourcarpet"
           }
          ],
          "heatmap": [
           {
            "colorbar": {
             "outlinewidth": 0,
             "ticks": ""
            },
            "colorscale": [
             [
              0,
              "#0d0887"
             ],
             [
              0.1111111111111111,
              "#46039f"
             ],
             [
              0.2222222222222222,
              "#7201a8"
             ],
             [
              0.3333333333333333,
              "#9c179e"
             ],
             [
              0.4444444444444444,
              "#bd3786"
             ],
             [
              0.5555555555555556,
              "#d8576b"
             ],
             [
              0.6666666666666666,
              "#ed7953"
             ],
             [
              0.7777777777777778,
              "#fb9f3a"
             ],
             [
              0.8888888888888888,
              "#fdca26"
             ],
             [
              1,
              "#f0f921"
             ]
            ],
            "type": "heatmap"
           }
          ],
          "heatmapgl": [
           {
            "colorbar": {
             "outlinewidth": 0,
             "ticks": ""
            },
            "colorscale": [
             [
              0,
              "#0d0887"
             ],
             [
              0.1111111111111111,
              "#46039f"
             ],
             [
              0.2222222222222222,
              "#7201a8"
             ],
             [
              0.3333333333333333,
              "#9c179e"
             ],
             [
              0.4444444444444444,
              "#bd3786"
             ],
             [
              0.5555555555555556,
              "#d8576b"
             ],
             [
              0.6666666666666666,
              "#ed7953"
             ],
             [
              0.7777777777777778,
              "#fb9f3a"
             ],
             [
              0.8888888888888888,
              "#fdca26"
             ],
             [
              1,
              "#f0f921"
             ]
            ],
            "type": "heatmapgl"
           }
          ],
          "histogram": [
           {
            "marker": {
             "pattern": {
              "fillmode": "overlay",
              "size": 10,
              "solidity": 0.2
             }
            },
            "type": "histogram"
           }
          ],
          "histogram2d": [
           {
            "colorbar": {
             "outlinewidth": 0,
             "ticks": ""
            },
            "colorscale": [
             [
              0,
              "#0d0887"
             ],
             [
              0.1111111111111111,
              "#46039f"
             ],
             [
              0.2222222222222222,
              "#7201a8"
             ],
             [
              0.3333333333333333,
              "#9c179e"
             ],
             [
              0.4444444444444444,
              "#bd3786"
             ],
             [
              0.5555555555555556,
              "#d8576b"
             ],
             [
              0.6666666666666666,
              "#ed7953"
             ],
             [
              0.7777777777777778,
              "#fb9f3a"
             ],
             [
              0.8888888888888888,
              "#fdca26"
             ],
             [
              1,
              "#f0f921"
             ]
            ],
            "type": "histogram2d"
           }
          ],
          "histogram2dcontour": [
           {
            "colorbar": {
             "outlinewidth": 0,
             "ticks": ""
            },
            "colorscale": [
             [
              0,
              "#0d0887"
             ],
             [
              0.1111111111111111,
              "#46039f"
             ],
             [
              0.2222222222222222,
              "#7201a8"
             ],
             [
              0.3333333333333333,
              "#9c179e"
             ],
             [
              0.4444444444444444,
              "#bd3786"
             ],
             [
              0.5555555555555556,
              "#d8576b"
             ],
             [
              0.6666666666666666,
              "#ed7953"
             ],
             [
              0.7777777777777778,
              "#fb9f3a"
             ],
             [
              0.8888888888888888,
              "#fdca26"
             ],
             [
              1,
              "#f0f921"
             ]
            ],
            "type": "histogram2dcontour"
           }
          ],
          "mesh3d": [
           {
            "colorbar": {
             "outlinewidth": 0,
             "ticks": ""
            },
            "type": "mesh3d"
           }
          ],
          "parcoords": [
           {
            "line": {
             "colorbar": {
              "outlinewidth": 0,
              "ticks": ""
             }
            },
            "type": "parcoords"
           }
          ],
          "pie": [
           {
            "automargin": true,
            "type": "pie"
           }
          ],
          "scatter": [
           {
            "fillpattern": {
             "fillmode": "overlay",
             "size": 10,
             "solidity": 0.2
            },
            "type": "scatter"
           }
          ],
          "scatter3d": [
           {
            "line": {
             "colorbar": {
              "outlinewidth": 0,
              "ticks": ""
             }
            },
            "marker": {
             "colorbar": {
              "outlinewidth": 0,
              "ticks": ""
             }
            },
            "type": "scatter3d"
           }
          ],
          "scattercarpet": [
           {
            "marker": {
             "colorbar": {
              "outlinewidth": 0,
              "ticks": ""
             }
            },
            "type": "scattercarpet"
           }
          ],
          "scattergeo": [
           {
            "marker": {
             "colorbar": {
              "outlinewidth": 0,
              "ticks": ""
             }
            },
            "type": "scattergeo"
           }
          ],
          "scattergl": [
           {
            "marker": {
             "colorbar": {
              "outlinewidth": 0,
              "ticks": ""
             }
            },
            "type": "scattergl"
           }
          ],
          "scattermapbox": [
           {
            "marker": {
             "colorbar": {
              "outlinewidth": 0,
              "ticks": ""
             }
            },
            "type": "scattermapbox"
           }
          ],
          "scatterpolar": [
           {
            "marker": {
             "colorbar": {
              "outlinewidth": 0,
              "ticks": ""
             }
            },
            "type": "scatterpolar"
           }
          ],
          "scatterpolargl": [
           {
            "marker": {
             "colorbar": {
              "outlinewidth": 0,
              "ticks": ""
             }
            },
            "type": "scatterpolargl"
           }
          ],
          "scatterternary": [
           {
            "marker": {
             "colorbar": {
              "outlinewidth": 0,
              "ticks": ""
             }
            },
            "type": "scatterternary"
           }
          ],
          "surface": [
           {
            "colorbar": {
             "outlinewidth": 0,
             "ticks": ""
            },
            "colorscale": [
             [
              0,
              "#0d0887"
             ],
             [
              0.1111111111111111,
              "#46039f"
             ],
             [
              0.2222222222222222,
              "#7201a8"
             ],
             [
              0.3333333333333333,
              "#9c179e"
             ],
             [
              0.4444444444444444,
              "#bd3786"
             ],
             [
              0.5555555555555556,
              "#d8576b"
             ],
             [
              0.6666666666666666,
              "#ed7953"
             ],
             [
              0.7777777777777778,
              "#fb9f3a"
             ],
             [
              0.8888888888888888,
              "#fdca26"
             ],
             [
              1,
              "#f0f921"
             ]
            ],
            "type": "surface"
           }
          ],
          "table": [
           {
            "cells": {
             "fill": {
              "color": "#EBF0F8"
             },
             "line": {
              "color": "white"
             }
            },
            "header": {
             "fill": {
              "color": "#C8D4E3"
             },
             "line": {
              "color": "white"
             }
            },
            "type": "table"
           }
          ]
         },
         "layout": {
          "annotationdefaults": {
           "arrowcolor": "#2a3f5f",
           "arrowhead": 0,
           "arrowwidth": 1
          },
          "autotypenumbers": "strict",
          "coloraxis": {
           "colorbar": {
            "outlinewidth": 0,
            "ticks": ""
           }
          },
          "colorscale": {
           "diverging": [
            [
             0,
             "#8e0152"
            ],
            [
             0.1,
             "#c51b7d"
            ],
            [
             0.2,
             "#de77ae"
            ],
            [
             0.3,
             "#f1b6da"
            ],
            [
             0.4,
             "#fde0ef"
            ],
            [
             0.5,
             "#f7f7f7"
            ],
            [
             0.6,
             "#e6f5d0"
            ],
            [
             0.7,
             "#b8e186"
            ],
            [
             0.8,
             "#7fbc41"
            ],
            [
             0.9,
             "#4d9221"
            ],
            [
             1,
             "#276419"
            ]
           ],
           "sequential": [
            [
             0,
             "#0d0887"
            ],
            [
             0.1111111111111111,
             "#46039f"
            ],
            [
             0.2222222222222222,
             "#7201a8"
            ],
            [
             0.3333333333333333,
             "#9c179e"
            ],
            [
             0.4444444444444444,
             "#bd3786"
            ],
            [
             0.5555555555555556,
             "#d8576b"
            ],
            [
             0.6666666666666666,
             "#ed7953"
            ],
            [
             0.7777777777777778,
             "#fb9f3a"
            ],
            [
             0.8888888888888888,
             "#fdca26"
            ],
            [
             1,
             "#f0f921"
            ]
           ],
           "sequentialminus": [
            [
             0,
             "#0d0887"
            ],
            [
             0.1111111111111111,
             "#46039f"
            ],
            [
             0.2222222222222222,
             "#7201a8"
            ],
            [
             0.3333333333333333,
             "#9c179e"
            ],
            [
             0.4444444444444444,
             "#bd3786"
            ],
            [
             0.5555555555555556,
             "#d8576b"
            ],
            [
             0.6666666666666666,
             "#ed7953"
            ],
            [
             0.7777777777777778,
             "#fb9f3a"
            ],
            [
             0.8888888888888888,
             "#fdca26"
            ],
            [
             1,
             "#f0f921"
            ]
           ]
          },
          "colorway": [
           "#636efa",
           "#EF553B",
           "#00cc96",
           "#ab63fa",
           "#FFA15A",
           "#19d3f3",
           "#FF6692",
           "#B6E880",
           "#FF97FF",
           "#FECB52"
          ],
          "font": {
           "color": "#2a3f5f"
          },
          "geo": {
           "bgcolor": "white",
           "lakecolor": "white",
           "landcolor": "#E5ECF6",
           "showlakes": true,
           "showland": true,
           "subunitcolor": "white"
          },
          "hoverlabel": {
           "align": "left"
          },
          "hovermode": "closest",
          "mapbox": {
           "style": "light"
          },
          "paper_bgcolor": "white",
          "plot_bgcolor": "#E5ECF6",
          "polar": {
           "angularaxis": {
            "gridcolor": "white",
            "linecolor": "white",
            "ticks": ""
           },
           "bgcolor": "#E5ECF6",
           "radialaxis": {
            "gridcolor": "white",
            "linecolor": "white",
            "ticks": ""
           }
          },
          "scene": {
           "xaxis": {
            "backgroundcolor": "#E5ECF6",
            "gridcolor": "white",
            "gridwidth": 2,
            "linecolor": "white",
            "showbackground": true,
            "ticks": "",
            "zerolinecolor": "white"
           },
           "yaxis": {
            "backgroundcolor": "#E5ECF6",
            "gridcolor": "white",
            "gridwidth": 2,
            "linecolor": "white",
            "showbackground": true,
            "ticks": "",
            "zerolinecolor": "white"
           },
           "zaxis": {
            "backgroundcolor": "#E5ECF6",
            "gridcolor": "white",
            "gridwidth": 2,
            "linecolor": "white",
            "showbackground": true,
            "ticks": "",
            "zerolinecolor": "white"
           }
          },
          "shapedefaults": {
           "line": {
            "color": "#2a3f5f"
           }
          },
          "ternary": {
           "aaxis": {
            "gridcolor": "white",
            "linecolor": "white",
            "ticks": ""
           },
           "baxis": {
            "gridcolor": "white",
            "linecolor": "white",
            "ticks": ""
           },
           "bgcolor": "#E5ECF6",
           "caxis": {
            "gridcolor": "white",
            "linecolor": "white",
            "ticks": ""
           }
          },
          "title": {
           "x": 0.05
          },
          "xaxis": {
           "automargin": true,
           "gridcolor": "white",
           "linecolor": "white",
           "ticks": "",
           "title": {
            "standoff": 15
           },
           "zerolinecolor": "white",
           "zerolinewidth": 2
          },
          "yaxis": {
           "automargin": true,
           "gridcolor": "white",
           "linecolor": "white",
           "ticks": "",
           "title": {
            "standoff": 15
           },
           "zerolinecolor": "white",
           "zerolinewidth": 2
          }
         }
        }
       }
      }
     },
     "metadata": {},
     "output_type": "display_data"
    }
   ],
   "source": [
    "fig = px.density_mapbox(df_greed, lat='lat', lon='long', z='max_flow_mw', radius=10,\n",
    "                        center=dict(lat=53.5, lon=-2.9), zoom=8, hover_name='sub_name', custom_data=['cap_mva', 'distance'],\n",
    "                        mapbox_style=\"open-street-map\")\n",
    "fig.show()"
   ]
  },
  {
   "cell_type": "code",
   "execution_count": 280,
   "metadata": {},
   "outputs": [
    {
     "data": {
      "text/plain": [
       "1648.296"
      ]
     },
     "execution_count": 280,
     "metadata": {},
     "output_type": "execute_result"
    }
   ],
   "source": [
    "df_flow_gg['underlying_demand_mw_max'].sum()"
   ]
  },
  {
   "cell_type": "code",
   "execution_count": 281,
   "metadata": {},
   "outputs": [
    {
     "data": {
      "text/plain": [
       "1648.296"
      ]
     },
     "execution_count": 281,
     "metadata": {},
     "output_type": "execute_result"
    }
   ],
   "source": [
    "df_greed['max_flow_mw'].sum()"
   ]
  }
 ],
 "metadata": {
  "kernelspec": {
   "display_name": "Python 3",
   "language": "python",
   "name": "python3"
  },
  "language_info": {
   "codemirror_mode": {
    "name": "ipython",
    "version": 3
   },
   "file_extension": ".py",
   "mimetype": "text/x-python",
   "name": "python",
   "nbconvert_exporter": "python",
   "pygments_lexer": "ipython3",
   "version": "3.10.4"
  }
 },
 "nbformat": 4,
 "nbformat_minor": 2
}
