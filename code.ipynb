{
 "cells": [
  {
   "cell_type": "markdown",
   "metadata": {},
   "source": [
    "import libraries"
   ]
  },
  {
   "cell_type": "code",
   "execution_count": 1,
   "metadata": {},
   "outputs": [],
   "source": [
    "import pandas as pd\n",
    "import re\n",
    "from sklearn.cluster import KMeans\n",
    "import seaborn as sns"
   ]
  },
  {
   "cell_type": "markdown",
   "metadata": {},
   "source": [
    "# import data\n",
    "## Generations"
   ]
  },
  {
   "cell_type": "code",
   "execution_count": 2,
   "metadata": {},
   "outputs": [
    {
     "data": {
      "text/html": [
       "<div>\n",
       "<style scoped>\n",
       "    .dataframe tbody tr th:only-of-type {\n",
       "        vertical-align: middle;\n",
       "    }\n",
       "\n",
       "    .dataframe tbody tr th {\n",
       "        vertical-align: top;\n",
       "    }\n",
       "\n",
       "    .dataframe thead th {\n",
       "        text-align: right;\n",
       "    }\n",
       "</style>\n",
       "<table border=\"1\" class=\"dataframe\">\n",
       "  <thead>\n",
       "    <tr style=\"text-align: right;\">\n",
       "      <th></th>\n",
       "      <th>Substation Name</th>\n",
       "      <th>Nominal Voltage (kV)</th>\n",
       "      <th>Grid Group</th>\n",
       "      <th>Supergrid Group</th>\n",
       "      <th>Firm Capacity (MVA)</th>\n",
       "      <th>Maximum Load (MVA)</th>\n",
       "      <th>Minimum Load (MVA)</th>\n",
       "      <th>Generation Connected (MW)</th>\n",
       "      <th>Generation Contracted (MW)</th>\n",
       "      <th>Overall Category</th>\n",
       "      <th>132kV Generation Capacity</th>\n",
       "      <th>33kV Fault Level</th>\n",
       "      <th>Wider Constraint Category</th>\n",
       "      <th>Wider Constraint</th>\n",
       "      <th>District</th>\n",
       "      <th>X</th>\n",
       "      <th>Y</th>\n",
       "    </tr>\n",
       "  </thead>\n",
       "  <tbody>\n",
       "    <tr>\n",
       "      <th>0</th>\n",
       "      <td>AINTREE</td>\n",
       "      <td>132/33</td>\n",
       "      <td>AINTREE GT1 / FORMBY GT2A / LITHERLAND GT1B</td>\n",
       "      <td>KIRKBY</td>\n",
       "      <td>101.9</td>\n",
       "      <td>76.7</td>\n",
       "      <td>19.2</td>\n",
       "      <td>6.1</td>\n",
       "      <td>16.0</td>\n",
       "      <td>RED</td>\n",
       "      <td>Green</td>\n",
       "      <td>Green</td>\n",
       "      <td>Red</td>\n",
       "      <td>NaN</td>\n",
       "      <td>Merseyside</td>\n",
       "      <td>337138.3940</td>\n",
       "      <td>399769.6970</td>\n",
       "    </tr>\n",
       "    <tr>\n",
       "      <th>1</th>\n",
       "      <td>FORMBY</td>\n",
       "      <td>132/33</td>\n",
       "      <td>AINTREE GT1 / FORMBY GT2A / LITHERLAND GT1B</td>\n",
       "      <td>KIRKBY</td>\n",
       "      <td>101.9</td>\n",
       "      <td>76.7</td>\n",
       "      <td>19.2</td>\n",
       "      <td>6.1</td>\n",
       "      <td>16.0</td>\n",
       "      <td>RED</td>\n",
       "      <td>Green</td>\n",
       "      <td>Green</td>\n",
       "      <td>Red</td>\n",
       "      <td>NaN</td>\n",
       "      <td>Merseyside</td>\n",
       "      <td>330979.9800</td>\n",
       "      <td>406990.7280</td>\n",
       "    </tr>\n",
       "    <tr>\n",
       "      <th>2</th>\n",
       "      <td>LISTER DRIVE</td>\n",
       "      <td>132/33</td>\n",
       "      <td>BOOTLE GT2A / BURLINGTON ST GT1 / LISTER DV A GT2</td>\n",
       "      <td>LISTER DRIVE</td>\n",
       "      <td>138.1</td>\n",
       "      <td>85.6</td>\n",
       "      <td>21.4</td>\n",
       "      <td>5.4</td>\n",
       "      <td>20.4</td>\n",
       "      <td>AMBER</td>\n",
       "      <td>Green</td>\n",
       "      <td>Red</td>\n",
       "      <td>Amber</td>\n",
       "      <td>NaN</td>\n",
       "      <td>Merseyside</td>\n",
       "      <td>338447.3411</td>\n",
       "      <td>391747.9437</td>\n",
       "    </tr>\n",
       "    <tr>\n",
       "      <th>3</th>\n",
       "      <td>LEGACY</td>\n",
       "      <td>132/33</td>\n",
       "      <td>BRYMBO GT1 / LEGACY LOCAL GT1 / MARCHWIEL GT1 ...</td>\n",
       "      <td>LEGACY</td>\n",
       "      <td>154.7</td>\n",
       "      <td>119.7</td>\n",
       "      <td>29.9</td>\n",
       "      <td>28.9</td>\n",
       "      <td>48.0</td>\n",
       "      <td>RED</td>\n",
       "      <td>Green</td>\n",
       "      <td>Green</td>\n",
       "      <td>Red</td>\n",
       "      <td>NaN</td>\n",
       "      <td>Dee Valley &amp; Mid Wales</td>\n",
       "      <td>329112.9340</td>\n",
       "      <td>347936.9270</td>\n",
       "    </tr>\n",
       "    <tr>\n",
       "      <th>4</th>\n",
       "      <td>WARRINGTON</td>\n",
       "      <td>132/33</td>\n",
       "      <td>DALLAM GT1 / SANKEY BRIDGES GT1 / WARRINGTON GT3</td>\n",
       "      <td>CARRINGTON - FIDDLERS FERRY</td>\n",
       "      <td>103.0</td>\n",
       "      <td>92.7</td>\n",
       "      <td>23.2</td>\n",
       "      <td>11.2</td>\n",
       "      <td>5.4</td>\n",
       "      <td>RED</td>\n",
       "      <td>Green</td>\n",
       "      <td>Green</td>\n",
       "      <td>Red</td>\n",
       "      <td>NaN</td>\n",
       "      <td>Mid Cheshire</td>\n",
       "      <td>362284.6170</td>\n",
       "      <td>388088.3560</td>\n",
       "    </tr>\n",
       "  </tbody>\n",
       "</table>\n",
       "</div>"
      ],
      "text/plain": [
       "  Substation Name Nominal Voltage (kV)  \\\n",
       "0         AINTREE               132/33   \n",
       "1          FORMBY               132/33   \n",
       "2    LISTER DRIVE               132/33   \n",
       "3          LEGACY               132/33   \n",
       "4      WARRINGTON               132/33   \n",
       "\n",
       "                                          Grid Group  \\\n",
       "0        AINTREE GT1 / FORMBY GT2A / LITHERLAND GT1B   \n",
       "1        AINTREE GT1 / FORMBY GT2A / LITHERLAND GT1B   \n",
       "2  BOOTLE GT2A / BURLINGTON ST GT1 / LISTER DV A GT2   \n",
       "3  BRYMBO GT1 / LEGACY LOCAL GT1 / MARCHWIEL GT1 ...   \n",
       "4   DALLAM GT1 / SANKEY BRIDGES GT1 / WARRINGTON GT3   \n",
       "\n",
       "               Supergrid Group  Firm Capacity (MVA)  Maximum Load (MVA)  \\\n",
       "0                       KIRKBY                101.9                76.7   \n",
       "1                       KIRKBY                101.9                76.7   \n",
       "2                 LISTER DRIVE                138.1                85.6   \n",
       "3                       LEGACY                154.7               119.7   \n",
       "4  CARRINGTON - FIDDLERS FERRY                103.0                92.7   \n",
       "\n",
       "   Minimum Load (MVA)  Generation Connected (MW)  Generation Contracted (MW)  \\\n",
       "0                19.2                        6.1                        16.0   \n",
       "1                19.2                        6.1                        16.0   \n",
       "2                21.4                        5.4                        20.4   \n",
       "3                29.9                       28.9                        48.0   \n",
       "4                23.2                       11.2                         5.4   \n",
       "\n",
       "  Overall Category 132kV Generation Capacity 33kV Fault Level  \\\n",
       "0              RED                     Green            Green   \n",
       "1              RED                     Green            Green   \n",
       "2            AMBER                     Green              Red   \n",
       "3              RED                     Green            Green   \n",
       "4              RED                     Green            Green   \n",
       "\n",
       "  Wider Constraint Category  Wider Constraint                District  \\\n",
       "0                       Red               NaN              Merseyside   \n",
       "1                       Red               NaN              Merseyside   \n",
       "2                     Amber               NaN              Merseyside   \n",
       "3                       Red               NaN  Dee Valley & Mid Wales   \n",
       "4                       Red               NaN            Mid Cheshire   \n",
       "\n",
       "             X            Y  \n",
       "0  337138.3940  399769.6970  \n",
       "1  330979.9800  406990.7280  \n",
       "2  338447.3411  391747.9437  \n",
       "3  329112.9340  347936.9270  \n",
       "4  362284.6170  388088.3560  "
      ]
     },
     "execution_count": 2,
     "metadata": {},
     "output_type": "execute_result"
    }
   ],
   "source": [
    "df_grid = pd.read_csv('generation-grid.csv')\n",
    "df_grid = df_grid.rename(columns=lambda x: re.sub('\\ufeff', '', x)) # remove blank spaces\n",
    "df_grid.head()"
   ]
  },
  {
   "cell_type": "code",
   "execution_count": 3,
   "metadata": {},
   "outputs": [
    {
     "data": {
      "text/html": [
       "<div>\n",
       "<style scoped>\n",
       "    .dataframe tbody tr th:only-of-type {\n",
       "        vertical-align: middle;\n",
       "    }\n",
       "\n",
       "    .dataframe tbody tr th {\n",
       "        vertical-align: top;\n",
       "    }\n",
       "\n",
       "    .dataframe thead th {\n",
       "        text-align: right;\n",
       "    }\n",
       "</style>\n",
       "<table border=\"1\" class=\"dataframe\">\n",
       "  <thead>\n",
       "    <tr style=\"text-align: right;\">\n",
       "      <th></th>\n",
       "      <th>Substation Name</th>\n",
       "      <th>Nominal Voltage (kV)</th>\n",
       "      <th>Primary Group</th>\n",
       "      <th>Grid Group</th>\n",
       "      <th>Firm Capacity (MVA)</th>\n",
       "      <th>Maximum Load (MVA)</th>\n",
       "      <th>Minimum Load (MVA)</th>\n",
       "      <th>Generation Connected (MW)</th>\n",
       "      <th>Generation Contracted (MW)</th>\n",
       "      <th>33kV Overall Category</th>\n",
       "      <th>Overall Category</th>\n",
       "      <th>33kV Generation Capacity</th>\n",
       "      <th>33kV Wider Constraints</th>\n",
       "      <th>HV Reverse Power Flow</th>\n",
       "      <th>HV Generation Capacity</th>\n",
       "      <th>HV Fault Level</th>\n",
       "      <th>HV Wider Constraints</th>\n",
       "      <th>District</th>\n",
       "      <th>X</th>\n",
       "      <th>Y</th>\n",
       "    </tr>\n",
       "  </thead>\n",
       "  <tbody>\n",
       "    <tr>\n",
       "      <th>0</th>\n",
       "      <td>NORTH ROAD</td>\n",
       "      <td>33/11</td>\n",
       "      <td>ABERYSTWYTH T1 / NORTH RD T1 / PARC-Y-LLYN T1 ...</td>\n",
       "      <td>ABERYSTWYTH GT2 / RHYDLYDAN GT1</td>\n",
       "      <td>37.5</td>\n",
       "      <td>18.55</td>\n",
       "      <td>4.64</td>\n",
       "      <td>0.02</td>\n",
       "      <td>0.0</td>\n",
       "      <td>RED</td>\n",
       "      <td>RED</td>\n",
       "      <td>Red</td>\n",
       "      <td>Red</td>\n",
       "      <td>Amber</td>\n",
       "      <td>Green</td>\n",
       "      <td>Red</td>\n",
       "      <td>Amber</td>\n",
       "      <td>Dee Valley &amp; Mid Wales</td>\n",
       "      <td>258666.8910</td>\n",
       "      <td>281901.4070</td>\n",
       "    </tr>\n",
       "    <tr>\n",
       "      <th>1</th>\n",
       "      <td>DICKINSONS</td>\n",
       "      <td>33/11</td>\n",
       "      <td>ACORNFIELD RD T1 / DICKINSONS T1 / HAMMOND RD ...</td>\n",
       "      <td>GILLMOSS GT1 / KIRKBY GT2 / SIMONSWOOD GT1</td>\n",
       "      <td>30.0</td>\n",
       "      <td>14.71</td>\n",
       "      <td>3.68</td>\n",
       "      <td>0.04</td>\n",
       "      <td>0.0</td>\n",
       "      <td>RED</td>\n",
       "      <td>RED</td>\n",
       "      <td>Green</td>\n",
       "      <td>Red</td>\n",
       "      <td>Amber</td>\n",
       "      <td>Green</td>\n",
       "      <td>Red</td>\n",
       "      <td>Amber</td>\n",
       "      <td>Merseyside</td>\n",
       "      <td>342713.8240</td>\n",
       "      <td>398255.2320</td>\n",
       "    </tr>\n",
       "    <tr>\n",
       "      <th>2</th>\n",
       "      <td>WAVERTREE</td>\n",
       "      <td>33/11</td>\n",
       "      <td>AIGBURTH VALE T1 / IVY AVE T1 / MATHER AVE T1 ...</td>\n",
       "      <td>GARSTON GT2 / SPEKE GT3 / WAVERTREE GT1A</td>\n",
       "      <td>37.5</td>\n",
       "      <td>18.97</td>\n",
       "      <td>4.74</td>\n",
       "      <td>0.00</td>\n",
       "      <td>0.0</td>\n",
       "      <td>AMBER</td>\n",
       "      <td>RED</td>\n",
       "      <td>Green</td>\n",
       "      <td>Amber</td>\n",
       "      <td>Amber</td>\n",
       "      <td>Green</td>\n",
       "      <td>Red</td>\n",
       "      <td>Amber</td>\n",
       "      <td>Merseyside</td>\n",
       "      <td>339018.8312</td>\n",
       "      <td>388483.6650</td>\n",
       "    </tr>\n",
       "    <tr>\n",
       "      <th>3</th>\n",
       "      <td>AINTREE</td>\n",
       "      <td>33/11</td>\n",
       "      <td>AINTREE LOCAL T1 / OLD ROAN T1 / WANGO LA T1</td>\n",
       "      <td>AINTREE GT2 / FAZAKERLEY GT1 / GILLMOSS GT2</td>\n",
       "      <td>20.0</td>\n",
       "      <td>11.67</td>\n",
       "      <td>2.92</td>\n",
       "      <td>0.00</td>\n",
       "      <td>0.0</td>\n",
       "      <td>RED</td>\n",
       "      <td>AMBER</td>\n",
       "      <td>Green</td>\n",
       "      <td>Red</td>\n",
       "      <td>Amber</td>\n",
       "      <td>Amber</td>\n",
       "      <td>Amber</td>\n",
       "      <td>Amber</td>\n",
       "      <td>Merseyside</td>\n",
       "      <td>336740.4480</td>\n",
       "      <td>398306.6880</td>\n",
       "    </tr>\n",
       "    <tr>\n",
       "      <th>4</th>\n",
       "      <td>ANDERTON</td>\n",
       "      <td>33/11</td>\n",
       "      <td>ANDERTON T1</td>\n",
       "      <td>HARTFORD GT1 / LOSTOCK GT2 / WINSFORD GT1 / WI...</td>\n",
       "      <td>7.5</td>\n",
       "      <td>2.61</td>\n",
       "      <td>0.65</td>\n",
       "      <td>0.22</td>\n",
       "      <td>0.0</td>\n",
       "      <td>RED</td>\n",
       "      <td>RED</td>\n",
       "      <td>Green</td>\n",
       "      <td>Red</td>\n",
       "      <td>Red</td>\n",
       "      <td>Red</td>\n",
       "      <td>Green</td>\n",
       "      <td>Amber</td>\n",
       "      <td>Mid Cheshire</td>\n",
       "      <td>364880.5897</td>\n",
       "      <td>375727.2788</td>\n",
       "    </tr>\n",
       "  </tbody>\n",
       "</table>\n",
       "</div>"
      ],
      "text/plain": [
       "  Substation Name Nominal Voltage (kV)  \\\n",
       "0      NORTH ROAD                33/11   \n",
       "1      DICKINSONS                33/11   \n",
       "2       WAVERTREE                33/11   \n",
       "3         AINTREE                33/11   \n",
       "4        ANDERTON                33/11   \n",
       "\n",
       "                                       Primary Group  \\\n",
       "0  ABERYSTWYTH T1 / NORTH RD T1 / PARC-Y-LLYN T1 ...   \n",
       "1  ACORNFIELD RD T1 / DICKINSONS T1 / HAMMOND RD ...   \n",
       "2  AIGBURTH VALE T1 / IVY AVE T1 / MATHER AVE T1 ...   \n",
       "3       AINTREE LOCAL T1 / OLD ROAN T1 / WANGO LA T1   \n",
       "4                                        ANDERTON T1   \n",
       "\n",
       "                                          Grid Group  Firm Capacity (MVA)  \\\n",
       "0                    ABERYSTWYTH GT2 / RHYDLYDAN GT1                 37.5   \n",
       "1         GILLMOSS GT1 / KIRKBY GT2 / SIMONSWOOD GT1                 30.0   \n",
       "2           GARSTON GT2 / SPEKE GT3 / WAVERTREE GT1A                 37.5   \n",
       "3        AINTREE GT2 / FAZAKERLEY GT1 / GILLMOSS GT2                 20.0   \n",
       "4  HARTFORD GT1 / LOSTOCK GT2 / WINSFORD GT1 / WI...                  7.5   \n",
       "\n",
       "   Maximum Load (MVA)  Minimum Load (MVA)  Generation Connected (MW)  \\\n",
       "0               18.55                4.64                       0.02   \n",
       "1               14.71                3.68                       0.04   \n",
       "2               18.97                4.74                       0.00   \n",
       "3               11.67                2.92                       0.00   \n",
       "4                2.61                0.65                       0.22   \n",
       "\n",
       "   Generation Contracted (MW) 33kV Overall Category Overall Category  \\\n",
       "0                         0.0                   RED              RED   \n",
       "1                         0.0                   RED              RED   \n",
       "2                         0.0                 AMBER              RED   \n",
       "3                         0.0                   RED            AMBER   \n",
       "4                         0.0                   RED              RED   \n",
       "\n",
       "  33kV Generation Capacity 33kV Wider Constraints HV Reverse Power Flow  \\\n",
       "0                      Red                    Red                 Amber   \n",
       "1                    Green                    Red                 Amber   \n",
       "2                    Green                  Amber                 Amber   \n",
       "3                    Green                    Red                 Amber   \n",
       "4                    Green                    Red                   Red   \n",
       "\n",
       "  HV Generation Capacity HV Fault Level HV Wider Constraints  \\\n",
       "0                  Green            Red                Amber   \n",
       "1                  Green            Red                Amber   \n",
       "2                  Green            Red                Amber   \n",
       "3                  Amber          Amber                Amber   \n",
       "4                    Red          Green                Amber   \n",
       "\n",
       "                 District            X            Y  \n",
       "0  Dee Valley & Mid Wales  258666.8910  281901.4070  \n",
       "1              Merseyside  342713.8240  398255.2320  \n",
       "2              Merseyside  339018.8312  388483.6650  \n",
       "3              Merseyside  336740.4480  398306.6880  \n",
       "4            Mid Cheshire  364880.5897  375727.2788  "
      ]
     },
     "execution_count": 3,
     "metadata": {},
     "output_type": "execute_result"
    }
   ],
   "source": [
    "df_pri = pd.read_csv('generation-primary.csv')\n",
    "df_pri = df_pri.rename(columns=lambda x: re.sub('\\ufeff', '', x))\n",
    "df_pri.head()"
   ]
  },
  {
   "cell_type": "code",
   "execution_count": 4,
   "metadata": {},
   "outputs": [
    {
     "data": {
      "text/html": [
       "<div>\n",
       "<style scoped>\n",
       "    .dataframe tbody tr th:only-of-type {\n",
       "        vertical-align: middle;\n",
       "    }\n",
       "\n",
       "    .dataframe tbody tr th {\n",
       "        vertical-align: top;\n",
       "    }\n",
       "\n",
       "    .dataframe thead th {\n",
       "        text-align: right;\n",
       "    }\n",
       "</style>\n",
       "<table border=\"1\" class=\"dataframe\">\n",
       "  <thead>\n",
       "    <tr style=\"text-align: right;\">\n",
       "      <th></th>\n",
       "      <th>Substation Name</th>\n",
       "      <th>Nominal Voltage (kV)</th>\n",
       "      <th>Supergrid Group</th>\n",
       "      <th>Generation Connected (MW)</th>\n",
       "      <th>Generation Contracted (MW)</th>\n",
       "      <th>Overall Category</th>\n",
       "      <th>District</th>\n",
       "      <th>X</th>\n",
       "      <th>Y</th>\n",
       "    </tr>\n",
       "  </thead>\n",
       "  <tbody>\n",
       "    <tr>\n",
       "      <th>0</th>\n",
       "      <td>CUERDLEY</td>\n",
       "      <td>275/132</td>\n",
       "      <td>CARRINGTON - FIDDLERS FERRY</td>\n",
       "      <td>319.86</td>\n",
       "      <td>201.82</td>\n",
       "      <td>RED</td>\n",
       "      <td>Merseyside</td>\n",
       "      <td>354276.1256</td>\n",
       "      <td>386149.3722</td>\n",
       "    </tr>\n",
       "    <tr>\n",
       "      <th>1</th>\n",
       "      <td>ST ASAPH</td>\n",
       "      <td>400/132</td>\n",
       "      <td>CONNAHS QUAY - PENTIR - ST ASAPH</td>\n",
       "      <td>399.18</td>\n",
       "      <td>470.42</td>\n",
       "      <td>RED</td>\n",
       "      <td>North Wales</td>\n",
       "      <td>302107.1498</td>\n",
       "      <td>374226.2423</td>\n",
       "    </tr>\n",
       "    <tr>\n",
       "      <th>2</th>\n",
       "      <td>TRAWSFYNYDD</td>\n",
       "      <td>275/132</td>\n",
       "      <td>TRAWSFYNYDD</td>\n",
       "      <td>114.92</td>\n",
       "      <td>5.11</td>\n",
       "      <td>AMBER</td>\n",
       "      <td>North Wales</td>\n",
       "      <td>268965.1300</td>\n",
       "      <td>338612.7790</td>\n",
       "    </tr>\n",
       "    <tr>\n",
       "      <th>3</th>\n",
       "      <td>BIRKENHEAD</td>\n",
       "      <td>275/132</td>\n",
       "      <td>BIRKENHEAD</td>\n",
       "      <td>147.16</td>\n",
       "      <td>279.62</td>\n",
       "      <td>RED</td>\n",
       "      <td>Wirral</td>\n",
       "      <td>329447.9271</td>\n",
       "      <td>386080.0892</td>\n",
       "    </tr>\n",
       "    <tr>\n",
       "      <th>4</th>\n",
       "      <td>FRODSHAM</td>\n",
       "      <td>275/132</td>\n",
       "      <td>FRODSHAM - INCE</td>\n",
       "      <td>305.61</td>\n",
       "      <td>1264.77</td>\n",
       "      <td>RED</td>\n",
       "      <td>Wirral</td>\n",
       "      <td>352273.0660</td>\n",
       "      <td>379450.7070</td>\n",
       "    </tr>\n",
       "  </tbody>\n",
       "</table>\n",
       "</div>"
      ],
      "text/plain": [
       "  Substation Name Nominal Voltage (kV)                   Supergrid Group  \\\n",
       "0        CUERDLEY              275/132       CARRINGTON - FIDDLERS FERRY   \n",
       "1        ST ASAPH              400/132  CONNAHS QUAY - PENTIR - ST ASAPH   \n",
       "2     TRAWSFYNYDD              275/132                       TRAWSFYNYDD   \n",
       "3      BIRKENHEAD              275/132                        BIRKENHEAD   \n",
       "4        FRODSHAM              275/132                   FRODSHAM - INCE   \n",
       "\n",
       "   Generation Connected (MW)  Generation Contracted (MW) Overall Category  \\\n",
       "0                     319.86                      201.82              RED   \n",
       "1                     399.18                      470.42              RED   \n",
       "2                     114.92                        5.11            AMBER   \n",
       "3                     147.16                      279.62              RED   \n",
       "4                     305.61                     1264.77              RED   \n",
       "\n",
       "      District            X            Y  \n",
       "0   Merseyside  354276.1256  386149.3722  \n",
       "1  North Wales  302107.1498  374226.2423  \n",
       "2  North Wales  268965.1300  338612.7790  \n",
       "3       Wirral  329447.9271  386080.0892  \n",
       "4       Wirral  352273.0660  379450.7070  "
      ]
     },
     "execution_count": 4,
     "metadata": {},
     "output_type": "execute_result"
    }
   ],
   "source": [
    "df_sup = pd.read_csv('generation-supergrid.csv')\n",
    "df_sup = df_sup.rename(columns=lambda x: re.sub('\\ufeff', '', x))\n",
    "df_sup.head()"
   ]
  },
  {
   "cell_type": "code",
   "execution_count": 5,
   "metadata": {},
   "outputs": [
    {
     "name": "stdout",
     "output_type": "stream",
     "text": [
      "<class 'pandas.core.frame.DataFrame'>\n",
      "Int64Index: 228 entries, 1 to 650\n",
      "Data columns (total 20 columns):\n",
      " #   Column                      Non-Null Count  Dtype  \n",
      "---  ------                      --------------  -----  \n",
      " 0   Substation Name             228 non-null    object \n",
      " 1   Nominal Voltage (kV)        228 non-null    object \n",
      " 2   Primary Group               228 non-null    object \n",
      " 3   Grid Group                  228 non-null    object \n",
      " 4   Firm Capacity (MVA)         228 non-null    float64\n",
      " 5   Maximum Load (MVA)          228 non-null    float64\n",
      " 6   Minimum Load (MVA)          228 non-null    float64\n",
      " 7   Generation Connected (MW)   228 non-null    float64\n",
      " 8   Generation Contracted (MW)  228 non-null    float64\n",
      " 9   33kV Overall Category       228 non-null    object \n",
      " 10  Overall Category            228 non-null    object \n",
      " 11  33kV Generation Capacity    228 non-null    object \n",
      " 12  33kV Wider Constraints      228 non-null    object \n",
      " 13  HV Reverse Power Flow       228 non-null    object \n",
      " 14  HV Generation Capacity      228 non-null    object \n",
      " 15  HV Fault Level              228 non-null    object \n",
      " 16  HV Wider Constraints        228 non-null    object \n",
      " 17  District                    228 non-null    object \n",
      " 18  X                           228 non-null    float64\n",
      " 19  Y                           228 non-null    float64\n",
      "dtypes: float64(7), object(13)\n",
      "memory usage: 37.4+ KB\n"
     ]
    }
   ],
   "source": [
    "df_pri_m = df_pri[df_pri['District'] == 'Merseyside']\n",
    "df_pri_m.info()"
   ]
  },
  {
   "cell_type": "code",
   "execution_count": 6,
   "metadata": {},
   "outputs": [
    {
     "name": "stdout",
     "output_type": "stream",
     "text": [
      "<class 'pandas.core.frame.DataFrame'>\n",
      "Int64Index: 39 entries, 0 to 102\n",
      "Data columns (total 17 columns):\n",
      " #   Column                      Non-Null Count  Dtype  \n",
      "---  ------                      --------------  -----  \n",
      " 0   Substation Name             39 non-null     object \n",
      " 1   Nominal Voltage (kV)        39 non-null     object \n",
      " 2   Grid Group                  39 non-null     object \n",
      " 3   Supergrid Group             39 non-null     object \n",
      " 4   Firm Capacity (MVA)         39 non-null     float64\n",
      " 5   Maximum Load (MVA)          39 non-null     float64\n",
      " 6   Minimum Load (MVA)          39 non-null     float64\n",
      " 7   Generation Connected (MW)   39 non-null     float64\n",
      " 8   Generation Contracted (MW)  39 non-null     float64\n",
      " 9   Overall Category            39 non-null     object \n",
      " 10  132kV Generation Capacity   39 non-null     object \n",
      " 11  33kV Fault Level            39 non-null     object \n",
      " 12  Wider Constraint Category   39 non-null     object \n",
      " 13  Wider Constraint            0 non-null      float64\n",
      " 14  District                    39 non-null     object \n",
      " 15  X                           39 non-null     float64\n",
      " 16  Y                           39 non-null     float64\n",
      "dtypes: float64(8), object(9)\n",
      "memory usage: 5.5+ KB\n"
     ]
    }
   ],
   "source": [
    "df_grid_m = df_grid[df_grid['District'] == 'Merseyside']\n",
    "df_grid_m.info()"
   ]
  },
  {
   "cell_type": "code",
   "execution_count": 7,
   "metadata": {},
   "outputs": [
    {
     "name": "stdout",
     "output_type": "stream",
     "text": [
      "<class 'pandas.core.frame.DataFrame'>\n",
      "Int64Index: 4 entries, 0 to 13\n",
      "Data columns (total 9 columns):\n",
      " #   Column                      Non-Null Count  Dtype  \n",
      "---  ------                      --------------  -----  \n",
      " 0   Substation Name             4 non-null      object \n",
      " 1   Nominal Voltage (kV)        4 non-null      object \n",
      " 2   Supergrid Group             4 non-null      object \n",
      " 3   Generation Connected (MW)   4 non-null      float64\n",
      " 4   Generation Contracted (MW)  4 non-null      float64\n",
      " 5   Overall Category            4 non-null      object \n",
      " 6   District                    4 non-null      object \n",
      " 7   X                           4 non-null      float64\n",
      " 8   Y                           4 non-null      float64\n",
      "dtypes: float64(4), object(5)\n",
      "memory usage: 320.0+ bytes\n"
     ]
    }
   ],
   "source": [
    "df_sup_m = df_sup[df_sup['District'] == 'Merseyside']\n",
    "df_sup_m.info()"
   ]
  },
  {
   "cell_type": "code",
   "execution_count": 55,
   "metadata": {},
   "outputs": [
    {
     "ename": "TypeError",
     "evalue": "Could not convert HASKAYNE to numeric",
     "output_type": "error",
     "traceback": [
      "\u001b[0;31m---------------------------------------------------------------------------\u001b[0m",
      "\u001b[0;31mNotImplementedError\u001b[0m                       Traceback (most recent call last)",
      "File \u001b[0;32m/Library/Frameworks/Python.framework/Versions/3.10/lib/python3.10/site-packages/pandas/core/groupby/groupby.py:1587\u001b[0m, in \u001b[0;36mGroupBy._cython_agg_general.<locals>.array_func\u001b[0;34m(values)\u001b[0m\n\u001b[1;32m   1586\u001b[0m \u001b[38;5;28;01mtry\u001b[39;00m:\n\u001b[0;32m-> 1587\u001b[0m     result \u001b[38;5;241m=\u001b[39m \u001b[38;5;28;43mself\u001b[39;49m\u001b[38;5;241;43m.\u001b[39;49m\u001b[43mgrouper\u001b[49m\u001b[38;5;241;43m.\u001b[39;49m\u001b[43m_cython_operation\u001b[49m\u001b[43m(\u001b[49m\n\u001b[1;32m   1588\u001b[0m \u001b[43m        \u001b[49m\u001b[38;5;124;43m\"\u001b[39;49m\u001b[38;5;124;43maggregate\u001b[39;49m\u001b[38;5;124;43m\"\u001b[39;49m\u001b[43m,\u001b[49m\u001b[43m \u001b[49m\u001b[43mvalues\u001b[49m\u001b[43m,\u001b[49m\u001b[43m \u001b[49m\u001b[43mhow\u001b[49m\u001b[43m,\u001b[49m\u001b[43m \u001b[49m\u001b[43maxis\u001b[49m\u001b[38;5;241;43m=\u001b[39;49m\u001b[43mdata\u001b[49m\u001b[38;5;241;43m.\u001b[39;49m\u001b[43mndim\u001b[49m\u001b[43m \u001b[49m\u001b[38;5;241;43m-\u001b[39;49m\u001b[43m \u001b[49m\u001b[38;5;241;43m1\u001b[39;49m\u001b[43m,\u001b[49m\u001b[43m \u001b[49m\u001b[43mmin_count\u001b[49m\u001b[38;5;241;43m=\u001b[39;49m\u001b[43mmin_count\u001b[49m\n\u001b[1;32m   1589\u001b[0m \u001b[43m    \u001b[49m\u001b[43m)\u001b[49m\n\u001b[1;32m   1590\u001b[0m \u001b[38;5;28;01mexcept\u001b[39;00m \u001b[38;5;167;01mNotImplementedError\u001b[39;00m:\n\u001b[1;32m   1591\u001b[0m     \u001b[38;5;66;03m# generally if we have numeric_only=False\u001b[39;00m\n\u001b[1;32m   1592\u001b[0m     \u001b[38;5;66;03m# and non-applicable functions\u001b[39;00m\n\u001b[1;32m   1593\u001b[0m     \u001b[38;5;66;03m# try to python agg\u001b[39;00m\n\u001b[1;32m   1594\u001b[0m     \u001b[38;5;66;03m# TODO: shouldn't min_count matter?\u001b[39;00m\n",
      "File \u001b[0;32m/Library/Frameworks/Python.framework/Versions/3.10/lib/python3.10/site-packages/pandas/core/groupby/ops.py:939\u001b[0m, in \u001b[0;36mBaseGrouper._cython_operation\u001b[0;34m(self, kind, values, how, axis, min_count, **kwargs)\u001b[0m\n\u001b[1;32m    938\u001b[0m ngroups \u001b[38;5;241m=\u001b[39m \u001b[38;5;28mself\u001b[39m\u001b[38;5;241m.\u001b[39mngroups\n\u001b[0;32m--> 939\u001b[0m \u001b[38;5;28;01mreturn\u001b[39;00m \u001b[43mcy_op\u001b[49m\u001b[38;5;241;43m.\u001b[39;49m\u001b[43mcython_operation\u001b[49m\u001b[43m(\u001b[49m\n\u001b[1;32m    940\u001b[0m \u001b[43m    \u001b[49m\u001b[43mvalues\u001b[49m\u001b[38;5;241;43m=\u001b[39;49m\u001b[43mvalues\u001b[49m\u001b[43m,\u001b[49m\n\u001b[1;32m    941\u001b[0m \u001b[43m    \u001b[49m\u001b[43maxis\u001b[49m\u001b[38;5;241;43m=\u001b[39;49m\u001b[43maxis\u001b[49m\u001b[43m,\u001b[49m\n\u001b[1;32m    942\u001b[0m \u001b[43m    \u001b[49m\u001b[43mmin_count\u001b[49m\u001b[38;5;241;43m=\u001b[39;49m\u001b[43mmin_count\u001b[49m\u001b[43m,\u001b[49m\n\u001b[1;32m    943\u001b[0m \u001b[43m    \u001b[49m\u001b[43mcomp_ids\u001b[49m\u001b[38;5;241;43m=\u001b[39;49m\u001b[43mids\u001b[49m\u001b[43m,\u001b[49m\n\u001b[1;32m    944\u001b[0m \u001b[43m    \u001b[49m\u001b[43mngroups\u001b[49m\u001b[38;5;241;43m=\u001b[39;49m\u001b[43mngroups\u001b[49m\u001b[43m,\u001b[49m\n\u001b[1;32m    945\u001b[0m \u001b[43m    \u001b[49m\u001b[38;5;241;43m*\u001b[39;49m\u001b[38;5;241;43m*\u001b[39;49m\u001b[43mkwargs\u001b[49m\u001b[43m,\u001b[49m\n\u001b[1;32m    946\u001b[0m \u001b[43m\u001b[49m\u001b[43m)\u001b[49m\n",
      "File \u001b[0;32m/Library/Frameworks/Python.framework/Versions/3.10/lib/python3.10/site-packages/pandas/core/groupby/ops.py:626\u001b[0m, in \u001b[0;36mWrappedCythonOp.cython_operation\u001b[0;34m(self, values, axis, min_count, comp_ids, ngroups, **kwargs)\u001b[0m\n\u001b[1;32m    618\u001b[0m     \u001b[38;5;28;01mreturn\u001b[39;00m \u001b[38;5;28mself\u001b[39m\u001b[38;5;241m.\u001b[39m_ea_wrap_cython_operation(\n\u001b[1;32m    619\u001b[0m         values,\n\u001b[1;32m    620\u001b[0m         min_count\u001b[38;5;241m=\u001b[39mmin_count,\n\u001b[0;32m   (...)\u001b[0m\n\u001b[1;32m    623\u001b[0m         \u001b[38;5;241m*\u001b[39m\u001b[38;5;241m*\u001b[39mkwargs,\n\u001b[1;32m    624\u001b[0m     )\n\u001b[0;32m--> 626\u001b[0m \u001b[38;5;28;01mreturn\u001b[39;00m \u001b[38;5;28;43mself\u001b[39;49m\u001b[38;5;241;43m.\u001b[39;49m\u001b[43m_cython_op_ndim_compat\u001b[49m\u001b[43m(\u001b[49m\n\u001b[1;32m    627\u001b[0m \u001b[43m    \u001b[49m\u001b[43mvalues\u001b[49m\u001b[43m,\u001b[49m\n\u001b[1;32m    628\u001b[0m \u001b[43m    \u001b[49m\u001b[43mmin_count\u001b[49m\u001b[38;5;241;43m=\u001b[39;49m\u001b[43mmin_count\u001b[49m\u001b[43m,\u001b[49m\n\u001b[1;32m    629\u001b[0m \u001b[43m    \u001b[49m\u001b[43mngroups\u001b[49m\u001b[38;5;241;43m=\u001b[39;49m\u001b[43mngroups\u001b[49m\u001b[43m,\u001b[49m\n\u001b[1;32m    630\u001b[0m \u001b[43m    \u001b[49m\u001b[43mcomp_ids\u001b[49m\u001b[38;5;241;43m=\u001b[39;49m\u001b[43mcomp_ids\u001b[49m\u001b[43m,\u001b[49m\n\u001b[1;32m    631\u001b[0m \u001b[43m    \u001b[49m\u001b[43mmask\u001b[49m\u001b[38;5;241;43m=\u001b[39;49m\u001b[38;5;28;43;01mNone\u001b[39;49;00m\u001b[43m,\u001b[49m\n\u001b[1;32m    632\u001b[0m \u001b[43m    \u001b[49m\u001b[38;5;241;43m*\u001b[39;49m\u001b[38;5;241;43m*\u001b[39;49m\u001b[43mkwargs\u001b[49m\u001b[43m,\u001b[49m\n\u001b[1;32m    633\u001b[0m \u001b[43m\u001b[49m\u001b[43m)\u001b[49m\n",
      "File \u001b[0;32m/Library/Frameworks/Python.framework/Versions/3.10/lib/python3.10/site-packages/pandas/core/groupby/ops.py:451\u001b[0m, in \u001b[0;36mWrappedCythonOp._cython_op_ndim_compat\u001b[0;34m(self, values, min_count, ngroups, comp_ids, mask, result_mask, **kwargs)\u001b[0m\n\u001b[1;32m    450\u001b[0m     result_mask \u001b[38;5;241m=\u001b[39m result_mask[\u001b[38;5;28;01mNone\u001b[39;00m, :]\n\u001b[0;32m--> 451\u001b[0m res \u001b[38;5;241m=\u001b[39m \u001b[38;5;28;43mself\u001b[39;49m\u001b[38;5;241;43m.\u001b[39;49m\u001b[43m_call_cython_op\u001b[49m\u001b[43m(\u001b[49m\n\u001b[1;32m    452\u001b[0m \u001b[43m    \u001b[49m\u001b[43mvalues2d\u001b[49m\u001b[43m,\u001b[49m\n\u001b[1;32m    453\u001b[0m \u001b[43m    \u001b[49m\u001b[43mmin_count\u001b[49m\u001b[38;5;241;43m=\u001b[39;49m\u001b[43mmin_count\u001b[49m\u001b[43m,\u001b[49m\n\u001b[1;32m    454\u001b[0m \u001b[43m    \u001b[49m\u001b[43mngroups\u001b[49m\u001b[38;5;241;43m=\u001b[39;49m\u001b[43mngroups\u001b[49m\u001b[43m,\u001b[49m\n\u001b[1;32m    455\u001b[0m \u001b[43m    \u001b[49m\u001b[43mcomp_ids\u001b[49m\u001b[38;5;241;43m=\u001b[39;49m\u001b[43mcomp_ids\u001b[49m\u001b[43m,\u001b[49m\n\u001b[1;32m    456\u001b[0m \u001b[43m    \u001b[49m\u001b[43mmask\u001b[49m\u001b[38;5;241;43m=\u001b[39;49m\u001b[43mmask\u001b[49m\u001b[43m,\u001b[49m\n\u001b[1;32m    457\u001b[0m \u001b[43m    \u001b[49m\u001b[43mresult_mask\u001b[49m\u001b[38;5;241;43m=\u001b[39;49m\u001b[43mresult_mask\u001b[49m\u001b[43m,\u001b[49m\n\u001b[1;32m    458\u001b[0m \u001b[43m    \u001b[49m\u001b[38;5;241;43m*\u001b[39;49m\u001b[38;5;241;43m*\u001b[39;49m\u001b[43mkwargs\u001b[49m\u001b[43m,\u001b[49m\n\u001b[1;32m    459\u001b[0m \u001b[43m\u001b[49m\u001b[43m)\u001b[49m\n\u001b[1;32m    460\u001b[0m \u001b[38;5;28;01mif\u001b[39;00m res\u001b[38;5;241m.\u001b[39mshape[\u001b[38;5;241m0\u001b[39m] \u001b[38;5;241m==\u001b[39m \u001b[38;5;241m1\u001b[39m:\n",
      "File \u001b[0;32m/Library/Frameworks/Python.framework/Versions/3.10/lib/python3.10/site-packages/pandas/core/groupby/ops.py:516\u001b[0m, in \u001b[0;36mWrappedCythonOp._call_cython_op\u001b[0;34m(self, values, min_count, ngroups, comp_ids, mask, result_mask, **kwargs)\u001b[0m\n\u001b[1;32m    515\u001b[0m out_shape \u001b[38;5;241m=\u001b[39m \u001b[38;5;28mself\u001b[39m\u001b[38;5;241m.\u001b[39m_get_output_shape(ngroups, values)\n\u001b[0;32m--> 516\u001b[0m func, values \u001b[38;5;241m=\u001b[39m \u001b[38;5;28;43mself\u001b[39;49m\u001b[38;5;241;43m.\u001b[39;49m\u001b[43mget_cython_func_and_vals\u001b[49m\u001b[43m(\u001b[49m\u001b[43mvalues\u001b[49m\u001b[43m,\u001b[49m\u001b[43m \u001b[49m\u001b[43mis_numeric\u001b[49m\u001b[43m)\u001b[49m\n\u001b[1;32m    517\u001b[0m out_dtype \u001b[38;5;241m=\u001b[39m \u001b[38;5;28mself\u001b[39m\u001b[38;5;241m.\u001b[39mget_out_dtype(values\u001b[38;5;241m.\u001b[39mdtype)\n",
      "File \u001b[0;32m/Library/Frameworks/Python.framework/Versions/3.10/lib/python3.10/site-packages/pandas/core/groupby/ops.py:199\u001b[0m, in \u001b[0;36mWrappedCythonOp.get_cython_func_and_vals\u001b[0;34m(self, values, is_numeric)\u001b[0m\n\u001b[1;32m    197\u001b[0m     \u001b[38;5;28;01mreturn\u001b[39;00m func, values\n\u001b[0;32m--> 199\u001b[0m func \u001b[38;5;241m=\u001b[39m \u001b[38;5;28;43mself\u001b[39;49m\u001b[38;5;241;43m.\u001b[39;49m\u001b[43m_get_cython_function\u001b[49m\u001b[43m(\u001b[49m\u001b[43mkind\u001b[49m\u001b[43m,\u001b[49m\u001b[43m \u001b[49m\u001b[43mhow\u001b[49m\u001b[43m,\u001b[49m\u001b[43m \u001b[49m\u001b[43mvalues\u001b[49m\u001b[38;5;241;43m.\u001b[39;49m\u001b[43mdtype\u001b[49m\u001b[43m,\u001b[49m\u001b[43m \u001b[49m\u001b[43mis_numeric\u001b[49m\u001b[43m)\u001b[49m\n\u001b[1;32m    201\u001b[0m \u001b[38;5;28;01mif\u001b[39;00m values\u001b[38;5;241m.\u001b[39mdtype\u001b[38;5;241m.\u001b[39mkind \u001b[38;5;129;01min\u001b[39;00m [\u001b[38;5;124m\"\u001b[39m\u001b[38;5;124mi\u001b[39m\u001b[38;5;124m\"\u001b[39m, \u001b[38;5;124m\"\u001b[39m\u001b[38;5;124mu\u001b[39m\u001b[38;5;124m\"\u001b[39m]:\n",
      "File \u001b[0;32m/Library/Frameworks/Python.framework/Versions/3.10/lib/python3.10/site-packages/pandas/core/groupby/ops.py:164\u001b[0m, in \u001b[0;36mWrappedCythonOp._get_cython_function\u001b[0;34m(cls, kind, how, dtype, is_numeric)\u001b[0m\n\u001b[1;32m    162\u001b[0m \u001b[38;5;28;01mif\u001b[39;00m \u001b[38;5;124m\"\u001b[39m\u001b[38;5;124mobject\u001b[39m\u001b[38;5;124m\"\u001b[39m \u001b[38;5;129;01mnot\u001b[39;00m \u001b[38;5;129;01min\u001b[39;00m f\u001b[38;5;241m.\u001b[39m__signatures__:\n\u001b[1;32m    163\u001b[0m     \u001b[38;5;66;03m# raise NotImplementedError here rather than TypeError later\u001b[39;00m\n\u001b[0;32m--> 164\u001b[0m     \u001b[38;5;28;01mraise\u001b[39;00m \u001b[38;5;167;01mNotImplementedError\u001b[39;00m(\n\u001b[1;32m    165\u001b[0m         \u001b[38;5;124mf\u001b[39m\u001b[38;5;124m\"\u001b[39m\u001b[38;5;124mfunction is not implemented for this dtype: \u001b[39m\u001b[38;5;124m\"\u001b[39m\n\u001b[1;32m    166\u001b[0m         \u001b[38;5;124mf\u001b[39m\u001b[38;5;124m\"\u001b[39m\u001b[38;5;124m[how->\u001b[39m\u001b[38;5;132;01m{\u001b[39;00mhow\u001b[38;5;132;01m}\u001b[39;00m\u001b[38;5;124m,dtype->\u001b[39m\u001b[38;5;132;01m{\u001b[39;00mdtype_str\u001b[38;5;132;01m}\u001b[39;00m\u001b[38;5;124m]\u001b[39m\u001b[38;5;124m\"\u001b[39m\n\u001b[1;32m    167\u001b[0m     )\n\u001b[1;32m    168\u001b[0m \u001b[38;5;28;01mreturn\u001b[39;00m f\n",
      "\u001b[0;31mNotImplementedError\u001b[0m: function is not implemented for this dtype: [how->mean,dtype->object]",
      "\nDuring handling of the above exception, another exception occurred:\n",
      "\u001b[0;31mValueError\u001b[0m                                Traceback (most recent call last)",
      "File \u001b[0;32m/Library/Frameworks/Python.framework/Versions/3.10/lib/python3.10/site-packages/pandas/core/nanops.py:1622\u001b[0m, in \u001b[0;36m_ensure_numeric\u001b[0;34m(x)\u001b[0m\n\u001b[1;32m   1621\u001b[0m \u001b[38;5;28;01mtry\u001b[39;00m:\n\u001b[0;32m-> 1622\u001b[0m     x \u001b[38;5;241m=\u001b[39m \u001b[38;5;28;43mfloat\u001b[39;49m\u001b[43m(\u001b[49m\u001b[43mx\u001b[49m\u001b[43m)\u001b[49m\n\u001b[1;32m   1623\u001b[0m \u001b[38;5;28;01mexcept\u001b[39;00m (\u001b[38;5;167;01mTypeError\u001b[39;00m, \u001b[38;5;167;01mValueError\u001b[39;00m):\n\u001b[1;32m   1624\u001b[0m     \u001b[38;5;66;03m# e.g. \"1+1j\" or \"foo\"\u001b[39;00m\n",
      "\u001b[0;31mValueError\u001b[0m: could not convert string to float: 'HASKAYNE'",
      "\nDuring handling of the above exception, another exception occurred:\n",
      "\u001b[0;31mValueError\u001b[0m                                Traceback (most recent call last)",
      "File \u001b[0;32m/Library/Frameworks/Python.framework/Versions/3.10/lib/python3.10/site-packages/pandas/core/nanops.py:1626\u001b[0m, in \u001b[0;36m_ensure_numeric\u001b[0;34m(x)\u001b[0m\n\u001b[1;32m   1625\u001b[0m \u001b[38;5;28;01mtry\u001b[39;00m:\n\u001b[0;32m-> 1626\u001b[0m     x \u001b[38;5;241m=\u001b[39m \u001b[38;5;28;43mcomplex\u001b[39;49m\u001b[43m(\u001b[49m\u001b[43mx\u001b[49m\u001b[43m)\u001b[49m\n\u001b[1;32m   1627\u001b[0m \u001b[38;5;28;01mexcept\u001b[39;00m \u001b[38;5;167;01mValueError\u001b[39;00m \u001b[38;5;28;01mas\u001b[39;00m err:\n\u001b[1;32m   1628\u001b[0m     \u001b[38;5;66;03m# e.g. \"foo\"\u001b[39;00m\n",
      "\u001b[0;31mValueError\u001b[0m: complex() arg is a malformed string",
      "\nThe above exception was the direct cause of the following exception:\n",
      "\u001b[0;31mTypeError\u001b[0m                                 Traceback (most recent call last)",
      "Input \u001b[0;32mIn [55]\u001b[0m, in \u001b[0;36m<cell line: 1>\u001b[0;34m()\u001b[0m\n\u001b[0;32m----> 1\u001b[0m \u001b[43mdf_pri_m\u001b[49m\u001b[38;5;241;43m.\u001b[39;49m\u001b[43mgroupby\u001b[49m\u001b[43m(\u001b[49m\u001b[38;5;124;43m'\u001b[39;49m\u001b[38;5;124;43mFirm Capacity (MVA)\u001b[39;49m\u001b[38;5;124;43m'\u001b[39;49m\u001b[43m)\u001b[49m\u001b[43m[\u001b[49m\u001b[38;5;124;43m'\u001b[39;49m\u001b[38;5;124;43mSubstation Name\u001b[39;49m\u001b[38;5;124;43m'\u001b[39;49m\u001b[43m]\u001b[49m\u001b[38;5;241;43m.\u001b[39;49m\u001b[43magg\u001b[49m\u001b[43m(\u001b[49m\u001b[43m[\u001b[49m\u001b[38;5;124;43m'\u001b[39;49m\u001b[38;5;124;43mmean\u001b[39;49m\u001b[38;5;124;43m'\u001b[39;49m\u001b[43m,\u001b[49m\u001b[43m \u001b[49m\u001b[38;5;124;43m'\u001b[39;49m\u001b[38;5;124;43mmode\u001b[39;49m\u001b[38;5;124;43m'\u001b[39;49m\u001b[43m,\u001b[49m\u001b[43m \u001b[49m\u001b[38;5;124;43m'\u001b[39;49m\u001b[38;5;124;43mmax\u001b[39;49m\u001b[38;5;124;43m'\u001b[39;49m\u001b[43m,\u001b[49m\u001b[43m \u001b[49m\u001b[38;5;124;43m'\u001b[39;49m\u001b[38;5;124;43mmin\u001b[39;49m\u001b[38;5;124;43m'\u001b[39;49m\u001b[43m]\u001b[49m\u001b[43m)\u001b[49m\n",
      "File \u001b[0;32m/Library/Frameworks/Python.framework/Versions/3.10/lib/python3.10/site-packages/pandas/core/groupby/generic.py:271\u001b[0m, in \u001b[0;36mSeriesGroupBy.aggregate\u001b[0;34m(self, func, engine, engine_kwargs, *args, **kwargs)\u001b[0m\n\u001b[1;32m    267\u001b[0m \u001b[38;5;28;01melif\u001b[39;00m \u001b[38;5;28misinstance\u001b[39m(func, abc\u001b[38;5;241m.\u001b[39mIterable):\n\u001b[1;32m    268\u001b[0m     \u001b[38;5;66;03m# Catch instances of lists / tuples\u001b[39;00m\n\u001b[1;32m    269\u001b[0m     \u001b[38;5;66;03m# but not the class list / tuple itself.\u001b[39;00m\n\u001b[1;32m    270\u001b[0m     func \u001b[38;5;241m=\u001b[39m maybe_mangle_lambdas(func)\n\u001b[0;32m--> 271\u001b[0m     ret \u001b[38;5;241m=\u001b[39m \u001b[38;5;28;43mself\u001b[39;49m\u001b[38;5;241;43m.\u001b[39;49m\u001b[43m_aggregate_multiple_funcs\u001b[49m\u001b[43m(\u001b[49m\u001b[43mfunc\u001b[49m\u001b[43m)\u001b[49m\n\u001b[1;32m    272\u001b[0m     \u001b[38;5;28;01mif\u001b[39;00m relabeling:\n\u001b[1;32m    273\u001b[0m         \u001b[38;5;66;03m# error: Incompatible types in assignment (expression has type\u001b[39;00m\n\u001b[1;32m    274\u001b[0m         \u001b[38;5;66;03m# \"Optional[List[str]]\", variable has type \"Index\")\u001b[39;00m\n\u001b[1;32m    275\u001b[0m         ret\u001b[38;5;241m.\u001b[39mcolumns \u001b[38;5;241m=\u001b[39m columns  \u001b[38;5;66;03m# type: ignore[assignment]\u001b[39;00m\n",
      "File \u001b[0;32m/Library/Frameworks/Python.framework/Versions/3.10/lib/python3.10/site-packages/pandas/core/groupby/generic.py:326\u001b[0m, in \u001b[0;36mSeriesGroupBy._aggregate_multiple_funcs\u001b[0;34m(self, arg)\u001b[0m\n\u001b[1;32m    323\u001b[0m \u001b[38;5;28;01mfor\u001b[39;00m idx, (name, func) \u001b[38;5;129;01min\u001b[39;00m \u001b[38;5;28menumerate\u001b[39m(arg):\n\u001b[1;32m    325\u001b[0m     key \u001b[38;5;241m=\u001b[39m base\u001b[38;5;241m.\u001b[39mOutputKey(label\u001b[38;5;241m=\u001b[39mname, position\u001b[38;5;241m=\u001b[39midx)\n\u001b[0;32m--> 326\u001b[0m     results[key] \u001b[38;5;241m=\u001b[39m \u001b[38;5;28;43mself\u001b[39;49m\u001b[38;5;241;43m.\u001b[39;49m\u001b[43maggregate\u001b[49m\u001b[43m(\u001b[49m\u001b[43mfunc\u001b[49m\u001b[43m)\u001b[49m\n\u001b[1;32m    328\u001b[0m \u001b[38;5;28;01mif\u001b[39;00m \u001b[38;5;28many\u001b[39m(\u001b[38;5;28misinstance\u001b[39m(x, DataFrame) \u001b[38;5;28;01mfor\u001b[39;00m x \u001b[38;5;129;01min\u001b[39;00m results\u001b[38;5;241m.\u001b[39mvalues()):\n\u001b[1;32m    329\u001b[0m     \u001b[38;5;28;01mfrom\u001b[39;00m \u001b[38;5;21;01mpandas\u001b[39;00m \u001b[38;5;28;01mimport\u001b[39;00m concat\n",
      "File \u001b[0;32m/Library/Frameworks/Python.framework/Versions/3.10/lib/python3.10/site-packages/pandas/core/groupby/generic.py:265\u001b[0m, in \u001b[0;36mSeriesGroupBy.aggregate\u001b[0;34m(self, func, engine, engine_kwargs, *args, **kwargs)\u001b[0m\n\u001b[1;32m    262\u001b[0m     kwargs \u001b[38;5;241m=\u001b[39m {}\n\u001b[1;32m    264\u001b[0m \u001b[38;5;28;01mif\u001b[39;00m \u001b[38;5;28misinstance\u001b[39m(func, \u001b[38;5;28mstr\u001b[39m):\n\u001b[0;32m--> 265\u001b[0m     \u001b[38;5;28;01mreturn\u001b[39;00m \u001b[38;5;28;43mgetattr\u001b[39;49m\u001b[43m(\u001b[49m\u001b[38;5;28;43mself\u001b[39;49m\u001b[43m,\u001b[49m\u001b[43m \u001b[49m\u001b[43mfunc\u001b[49m\u001b[43m)\u001b[49m\u001b[43m(\u001b[49m\u001b[38;5;241;43m*\u001b[39;49m\u001b[43margs\u001b[49m\u001b[43m,\u001b[49m\u001b[43m \u001b[49m\u001b[38;5;241;43m*\u001b[39;49m\u001b[38;5;241;43m*\u001b[39;49m\u001b[43mkwargs\u001b[49m\u001b[43m)\u001b[49m\n\u001b[1;32m    267\u001b[0m \u001b[38;5;28;01melif\u001b[39;00m \u001b[38;5;28misinstance\u001b[39m(func, abc\u001b[38;5;241m.\u001b[39mIterable):\n\u001b[1;32m    268\u001b[0m     \u001b[38;5;66;03m# Catch instances of lists / tuples\u001b[39;00m\n\u001b[1;32m    269\u001b[0m     \u001b[38;5;66;03m# but not the class list / tuple itself.\u001b[39;00m\n\u001b[1;32m    270\u001b[0m     func \u001b[38;5;241m=\u001b[39m maybe_mangle_lambdas(func)\n",
      "File \u001b[0;32m/Library/Frameworks/Python.framework/Versions/3.10/lib/python3.10/site-packages/pandas/core/groupby/groupby.py:1965\u001b[0m, in \u001b[0;36mGroupBy.mean\u001b[0;34m(self, numeric_only, engine, engine_kwargs)\u001b[0m\n\u001b[1;32m   1963\u001b[0m     \u001b[38;5;28;01mreturn\u001b[39;00m \u001b[38;5;28mself\u001b[39m\u001b[38;5;241m.\u001b[39m_numba_agg_general(sliding_mean, engine_kwargs, \u001b[38;5;124m\"\u001b[39m\u001b[38;5;124mgroupby_mean\u001b[39m\u001b[38;5;124m\"\u001b[39m)\n\u001b[1;32m   1964\u001b[0m \u001b[38;5;28;01melse\u001b[39;00m:\n\u001b[0;32m-> 1965\u001b[0m     result \u001b[38;5;241m=\u001b[39m \u001b[38;5;28;43mself\u001b[39;49m\u001b[38;5;241;43m.\u001b[39;49m\u001b[43m_cython_agg_general\u001b[49m\u001b[43m(\u001b[49m\n\u001b[1;32m   1966\u001b[0m \u001b[43m        \u001b[49m\u001b[38;5;124;43m\"\u001b[39;49m\u001b[38;5;124;43mmean\u001b[39;49m\u001b[38;5;124;43m\"\u001b[39;49m\u001b[43m,\u001b[49m\n\u001b[1;32m   1967\u001b[0m \u001b[43m        \u001b[49m\u001b[43malt\u001b[49m\u001b[38;5;241;43m=\u001b[39;49m\u001b[38;5;28;43;01mlambda\u001b[39;49;00m\u001b[43m \u001b[49m\u001b[43mx\u001b[49m\u001b[43m:\u001b[49m\u001b[43m \u001b[49m\u001b[43mSeries\u001b[49m\u001b[43m(\u001b[49m\u001b[43mx\u001b[49m\u001b[43m)\u001b[49m\u001b[38;5;241;43m.\u001b[39;49m\u001b[43mmean\u001b[49m\u001b[43m(\u001b[49m\u001b[43mnumeric_only\u001b[49m\u001b[38;5;241;43m=\u001b[39;49m\u001b[43mnumeric_only_bool\u001b[49m\u001b[43m)\u001b[49m\u001b[43m,\u001b[49m\n\u001b[1;32m   1968\u001b[0m \u001b[43m        \u001b[49m\u001b[43mnumeric_only\u001b[49m\u001b[38;5;241;43m=\u001b[39;49m\u001b[43mnumeric_only_bool\u001b[49m\u001b[43m,\u001b[49m\n\u001b[1;32m   1969\u001b[0m \u001b[43m    \u001b[49m\u001b[43m)\u001b[49m\n\u001b[1;32m   1970\u001b[0m     \u001b[38;5;28;01mreturn\u001b[39;00m result\u001b[38;5;241m.\u001b[39m__finalize__(\u001b[38;5;28mself\u001b[39m\u001b[38;5;241m.\u001b[39mobj, method\u001b[38;5;241m=\u001b[39m\u001b[38;5;124m\"\u001b[39m\u001b[38;5;124mgroupby\u001b[39m\u001b[38;5;124m\"\u001b[39m)\n",
      "File \u001b[0;32m/Library/Frameworks/Python.framework/Versions/3.10/lib/python3.10/site-packages/pandas/core/groupby/groupby.py:1601\u001b[0m, in \u001b[0;36mGroupBy._cython_agg_general\u001b[0;34m(self, how, alt, numeric_only, min_count)\u001b[0m\n\u001b[1;32m   1597\u001b[0m     \u001b[38;5;28;01mreturn\u001b[39;00m result\n\u001b[1;32m   1599\u001b[0m \u001b[38;5;66;03m# TypeError -> we may have an exception in trying to aggregate\u001b[39;00m\n\u001b[1;32m   1600\u001b[0m \u001b[38;5;66;03m#  continue and exclude the block\u001b[39;00m\n\u001b[0;32m-> 1601\u001b[0m new_mgr \u001b[38;5;241m=\u001b[39m \u001b[43mdata\u001b[49m\u001b[38;5;241;43m.\u001b[39;49m\u001b[43mgrouped_reduce\u001b[49m\u001b[43m(\u001b[49m\u001b[43marray_func\u001b[49m\u001b[43m,\u001b[49m\u001b[43m \u001b[49m\u001b[43mignore_failures\u001b[49m\u001b[38;5;241;43m=\u001b[39;49m\u001b[38;5;28;43;01mTrue\u001b[39;49;00m\u001b[43m)\u001b[49m\n\u001b[1;32m   1603\u001b[0m \u001b[38;5;28;01mif\u001b[39;00m \u001b[38;5;129;01mnot\u001b[39;00m is_ser \u001b[38;5;129;01mand\u001b[39;00m \u001b[38;5;28mlen\u001b[39m(new_mgr) \u001b[38;5;241m<\u001b[39m \u001b[38;5;28mlen\u001b[39m(data):\n\u001b[1;32m   1604\u001b[0m     warn_dropping_nuisance_columns_deprecated(\u001b[38;5;28mtype\u001b[39m(\u001b[38;5;28mself\u001b[39m), how)\n",
      "File \u001b[0;32m/Library/Frameworks/Python.framework/Versions/3.10/lib/python3.10/site-packages/pandas/core/internals/base.py:199\u001b[0m, in \u001b[0;36mSingleDataManager.grouped_reduce\u001b[0;34m(self, func, ignore_failures)\u001b[0m\n\u001b[1;32m    193\u001b[0m \u001b[38;5;124;03m\"\"\"\u001b[39;00m\n\u001b[1;32m    194\u001b[0m \u001b[38;5;124;03mignore_failures : bool, default False\u001b[39;00m\n\u001b[1;32m    195\u001b[0m \u001b[38;5;124;03m    Not used; for compatibility with ArrayManager/BlockManager.\u001b[39;00m\n\u001b[1;32m    196\u001b[0m \u001b[38;5;124;03m\"\"\"\u001b[39;00m\n\u001b[1;32m    198\u001b[0m arr \u001b[38;5;241m=\u001b[39m \u001b[38;5;28mself\u001b[39m\u001b[38;5;241m.\u001b[39marray\n\u001b[0;32m--> 199\u001b[0m res \u001b[38;5;241m=\u001b[39m \u001b[43mfunc\u001b[49m\u001b[43m(\u001b[49m\u001b[43marr\u001b[49m\u001b[43m)\u001b[49m\n\u001b[1;32m    200\u001b[0m index \u001b[38;5;241m=\u001b[39m default_index(\u001b[38;5;28mlen\u001b[39m(res))\n\u001b[1;32m    202\u001b[0m mgr \u001b[38;5;241m=\u001b[39m \u001b[38;5;28mtype\u001b[39m(\u001b[38;5;28mself\u001b[39m)\u001b[38;5;241m.\u001b[39mfrom_array(res, index)\n",
      "File \u001b[0;32m/Library/Frameworks/Python.framework/Versions/3.10/lib/python3.10/site-packages/pandas/core/groupby/groupby.py:1595\u001b[0m, in \u001b[0;36mGroupBy._cython_agg_general.<locals>.array_func\u001b[0;34m(values)\u001b[0m\n\u001b[1;32m   1587\u001b[0m     result \u001b[38;5;241m=\u001b[39m \u001b[38;5;28mself\u001b[39m\u001b[38;5;241m.\u001b[39mgrouper\u001b[38;5;241m.\u001b[39m_cython_operation(\n\u001b[1;32m   1588\u001b[0m         \u001b[38;5;124m\"\u001b[39m\u001b[38;5;124maggregate\u001b[39m\u001b[38;5;124m\"\u001b[39m, values, how, axis\u001b[38;5;241m=\u001b[39mdata\u001b[38;5;241m.\u001b[39mndim \u001b[38;5;241m-\u001b[39m \u001b[38;5;241m1\u001b[39m, min_count\u001b[38;5;241m=\u001b[39mmin_count\n\u001b[1;32m   1589\u001b[0m     )\n\u001b[1;32m   1590\u001b[0m \u001b[38;5;28;01mexcept\u001b[39;00m \u001b[38;5;167;01mNotImplementedError\u001b[39;00m:\n\u001b[1;32m   1591\u001b[0m     \u001b[38;5;66;03m# generally if we have numeric_only=False\u001b[39;00m\n\u001b[1;32m   1592\u001b[0m     \u001b[38;5;66;03m# and non-applicable functions\u001b[39;00m\n\u001b[1;32m   1593\u001b[0m     \u001b[38;5;66;03m# try to python agg\u001b[39;00m\n\u001b[1;32m   1594\u001b[0m     \u001b[38;5;66;03m# TODO: shouldn't min_count matter?\u001b[39;00m\n\u001b[0;32m-> 1595\u001b[0m     result \u001b[38;5;241m=\u001b[39m \u001b[38;5;28;43mself\u001b[39;49m\u001b[38;5;241;43m.\u001b[39;49m\u001b[43m_agg_py_fallback\u001b[49m\u001b[43m(\u001b[49m\u001b[43mvalues\u001b[49m\u001b[43m,\u001b[49m\u001b[43m \u001b[49m\u001b[43mndim\u001b[49m\u001b[38;5;241;43m=\u001b[39;49m\u001b[43mdata\u001b[49m\u001b[38;5;241;43m.\u001b[39;49m\u001b[43mndim\u001b[49m\u001b[43m,\u001b[49m\u001b[43m \u001b[49m\u001b[43malt\u001b[49m\u001b[38;5;241;43m=\u001b[39;49m\u001b[43malt\u001b[49m\u001b[43m)\u001b[49m\n\u001b[1;32m   1597\u001b[0m \u001b[38;5;28;01mreturn\u001b[39;00m result\n",
      "File \u001b[0;32m/Library/Frameworks/Python.framework/Versions/3.10/lib/python3.10/site-packages/pandas/core/groupby/groupby.py:1549\u001b[0m, in \u001b[0;36mGroupBy._agg_py_fallback\u001b[0;34m(self, values, ndim, alt)\u001b[0m\n\u001b[1;32m   1544\u001b[0m     ser \u001b[38;5;241m=\u001b[39m df\u001b[38;5;241m.\u001b[39miloc[:, \u001b[38;5;241m0\u001b[39m]\n\u001b[1;32m   1546\u001b[0m \u001b[38;5;66;03m# We do not get here with UDFs, so we know that our dtype\u001b[39;00m\n\u001b[1;32m   1547\u001b[0m \u001b[38;5;66;03m#  should always be preserved by the implemented aggregations\u001b[39;00m\n\u001b[1;32m   1548\u001b[0m \u001b[38;5;66;03m# TODO: Is this exactly right; see WrappedCythonOp get_result_dtype?\u001b[39;00m\n\u001b[0;32m-> 1549\u001b[0m res_values \u001b[38;5;241m=\u001b[39m \u001b[38;5;28;43mself\u001b[39;49m\u001b[38;5;241;43m.\u001b[39;49m\u001b[43mgrouper\u001b[49m\u001b[38;5;241;43m.\u001b[39;49m\u001b[43magg_series\u001b[49m\u001b[43m(\u001b[49m\u001b[43mser\u001b[49m\u001b[43m,\u001b[49m\u001b[43m \u001b[49m\u001b[43malt\u001b[49m\u001b[43m,\u001b[49m\u001b[43m \u001b[49m\u001b[43mpreserve_dtype\u001b[49m\u001b[38;5;241;43m=\u001b[39;49m\u001b[38;5;28;43;01mTrue\u001b[39;49;00m\u001b[43m)\u001b[49m\n\u001b[1;32m   1551\u001b[0m \u001b[38;5;28;01mif\u001b[39;00m \u001b[38;5;28misinstance\u001b[39m(values, Categorical):\n\u001b[1;32m   1552\u001b[0m     \u001b[38;5;66;03m# Because we only get here with known dtype-preserving\u001b[39;00m\n\u001b[1;32m   1553\u001b[0m     \u001b[38;5;66;03m#  reductions, we cast back to Categorical.\u001b[39;00m\n\u001b[1;32m   1554\u001b[0m     \u001b[38;5;66;03m# TODO: if we ever get \"rank\" working, exclude it here.\u001b[39;00m\n\u001b[1;32m   1555\u001b[0m     res_values \u001b[38;5;241m=\u001b[39m \u001b[38;5;28mtype\u001b[39m(values)\u001b[38;5;241m.\u001b[39m_from_sequence(res_values, dtype\u001b[38;5;241m=\u001b[39mvalues\u001b[38;5;241m.\u001b[39mdtype)\n",
      "File \u001b[0;32m/Library/Frameworks/Python.framework/Versions/3.10/lib/python3.10/site-packages/pandas/core/groupby/ops.py:981\u001b[0m, in \u001b[0;36mBaseGrouper.agg_series\u001b[0;34m(self, obj, func, preserve_dtype)\u001b[0m\n\u001b[1;32m    978\u001b[0m     preserve_dtype \u001b[38;5;241m=\u001b[39m \u001b[38;5;28;01mTrue\u001b[39;00m\n\u001b[1;32m    980\u001b[0m \u001b[38;5;28;01melse\u001b[39;00m:\n\u001b[0;32m--> 981\u001b[0m     result \u001b[38;5;241m=\u001b[39m \u001b[38;5;28;43mself\u001b[39;49m\u001b[38;5;241;43m.\u001b[39;49m\u001b[43m_aggregate_series_pure_python\u001b[49m\u001b[43m(\u001b[49m\u001b[43mobj\u001b[49m\u001b[43m,\u001b[49m\u001b[43m \u001b[49m\u001b[43mfunc\u001b[49m\u001b[43m)\u001b[49m\n\u001b[1;32m    983\u001b[0m npvalues \u001b[38;5;241m=\u001b[39m lib\u001b[38;5;241m.\u001b[39mmaybe_convert_objects(result, try_float\u001b[38;5;241m=\u001b[39m\u001b[38;5;28;01mFalse\u001b[39;00m)\n\u001b[1;32m    984\u001b[0m \u001b[38;5;28;01mif\u001b[39;00m preserve_dtype:\n",
      "File \u001b[0;32m/Library/Frameworks/Python.framework/Versions/3.10/lib/python3.10/site-packages/pandas/core/groupby/ops.py:1005\u001b[0m, in \u001b[0;36mBaseGrouper._aggregate_series_pure_python\u001b[0;34m(self, obj, func)\u001b[0m\n\u001b[1;32m   1003\u001b[0m \u001b[38;5;28;01mfor\u001b[39;00m i, group \u001b[38;5;129;01min\u001b[39;00m \u001b[38;5;28menumerate\u001b[39m(splitter):\n\u001b[1;32m   1004\u001b[0m     group \u001b[38;5;241m=\u001b[39m group\u001b[38;5;241m.\u001b[39m__finalize__(obj, method\u001b[38;5;241m=\u001b[39m\u001b[38;5;124m\"\u001b[39m\u001b[38;5;124mgroupby\u001b[39m\u001b[38;5;124m\"\u001b[39m)\n\u001b[0;32m-> 1005\u001b[0m     res \u001b[38;5;241m=\u001b[39m \u001b[43mfunc\u001b[49m\u001b[43m(\u001b[49m\u001b[43mgroup\u001b[49m\u001b[43m)\u001b[49m\n\u001b[1;32m   1006\u001b[0m     res \u001b[38;5;241m=\u001b[39m libreduction\u001b[38;5;241m.\u001b[39mextract_result(res)\n\u001b[1;32m   1008\u001b[0m     \u001b[38;5;28;01mif\u001b[39;00m \u001b[38;5;129;01mnot\u001b[39;00m initialized:\n\u001b[1;32m   1009\u001b[0m         \u001b[38;5;66;03m# We only do this validation on the first iteration\u001b[39;00m\n",
      "File \u001b[0;32m/Library/Frameworks/Python.framework/Versions/3.10/lib/python3.10/site-packages/pandas/core/groupby/groupby.py:1967\u001b[0m, in \u001b[0;36mGroupBy.mean.<locals>.<lambda>\u001b[0;34m(x)\u001b[0m\n\u001b[1;32m   1963\u001b[0m     \u001b[38;5;28;01mreturn\u001b[39;00m \u001b[38;5;28mself\u001b[39m\u001b[38;5;241m.\u001b[39m_numba_agg_general(sliding_mean, engine_kwargs, \u001b[38;5;124m\"\u001b[39m\u001b[38;5;124mgroupby_mean\u001b[39m\u001b[38;5;124m\"\u001b[39m)\n\u001b[1;32m   1964\u001b[0m \u001b[38;5;28;01melse\u001b[39;00m:\n\u001b[1;32m   1965\u001b[0m     result \u001b[38;5;241m=\u001b[39m \u001b[38;5;28mself\u001b[39m\u001b[38;5;241m.\u001b[39m_cython_agg_general(\n\u001b[1;32m   1966\u001b[0m         \u001b[38;5;124m\"\u001b[39m\u001b[38;5;124mmean\u001b[39m\u001b[38;5;124m\"\u001b[39m,\n\u001b[0;32m-> 1967\u001b[0m         alt\u001b[38;5;241m=\u001b[39m\u001b[38;5;28;01mlambda\u001b[39;00m x: \u001b[43mSeries\u001b[49m\u001b[43m(\u001b[49m\u001b[43mx\u001b[49m\u001b[43m)\u001b[49m\u001b[38;5;241;43m.\u001b[39;49m\u001b[43mmean\u001b[49m\u001b[43m(\u001b[49m\u001b[43mnumeric_only\u001b[49m\u001b[38;5;241;43m=\u001b[39;49m\u001b[43mnumeric_only_bool\u001b[49m\u001b[43m)\u001b[49m,\n\u001b[1;32m   1968\u001b[0m         numeric_only\u001b[38;5;241m=\u001b[39mnumeric_only_bool,\n\u001b[1;32m   1969\u001b[0m     )\n\u001b[1;32m   1970\u001b[0m     \u001b[38;5;28;01mreturn\u001b[39;00m result\u001b[38;5;241m.\u001b[39m__finalize__(\u001b[38;5;28mself\u001b[39m\u001b[38;5;241m.\u001b[39mobj, method\u001b[38;5;241m=\u001b[39m\u001b[38;5;124m\"\u001b[39m\u001b[38;5;124mgroupby\u001b[39m\u001b[38;5;124m\"\u001b[39m)\n",
      "File \u001b[0;32m/Library/Frameworks/Python.framework/Versions/3.10/lib/python3.10/site-packages/pandas/core/generic.py:11119\u001b[0m, in \u001b[0;36mNDFrame._add_numeric_operations.<locals>.mean\u001b[0;34m(self, axis, skipna, level, numeric_only, **kwargs)\u001b[0m\n\u001b[1;32m  11101\u001b[0m \u001b[38;5;129m@doc\u001b[39m(\n\u001b[1;32m  11102\u001b[0m     _num_doc,\n\u001b[1;32m  11103\u001b[0m     desc\u001b[38;5;241m=\u001b[39m\u001b[38;5;124m\"\u001b[39m\u001b[38;5;124mReturn the mean of the values over the requested axis.\u001b[39m\u001b[38;5;124m\"\u001b[39m,\n\u001b[0;32m   (...)\u001b[0m\n\u001b[1;32m  11117\u001b[0m     \u001b[38;5;241m*\u001b[39m\u001b[38;5;241m*\u001b[39mkwargs,\n\u001b[1;32m  11118\u001b[0m ):\n\u001b[0;32m> 11119\u001b[0m     \u001b[38;5;28;01mreturn\u001b[39;00m \u001b[43mNDFrame\u001b[49m\u001b[38;5;241;43m.\u001b[39;49m\u001b[43mmean\u001b[49m\u001b[43m(\u001b[49m\u001b[38;5;28;43mself\u001b[39;49m\u001b[43m,\u001b[49m\u001b[43m \u001b[49m\u001b[43maxis\u001b[49m\u001b[43m,\u001b[49m\u001b[43m \u001b[49m\u001b[43mskipna\u001b[49m\u001b[43m,\u001b[49m\u001b[43m \u001b[49m\u001b[43mlevel\u001b[49m\u001b[43m,\u001b[49m\u001b[43m \u001b[49m\u001b[43mnumeric_only\u001b[49m\u001b[43m,\u001b[49m\u001b[43m \u001b[49m\u001b[38;5;241;43m*\u001b[39;49m\u001b[38;5;241;43m*\u001b[39;49m\u001b[43mkwargs\u001b[49m\u001b[43m)\u001b[49m\n",
      "File \u001b[0;32m/Library/Frameworks/Python.framework/Versions/3.10/lib/python3.10/site-packages/pandas/core/generic.py:10689\u001b[0m, in \u001b[0;36mNDFrame.mean\u001b[0;34m(self, axis, skipna, level, numeric_only, **kwargs)\u001b[0m\n\u001b[1;32m  10681\u001b[0m \u001b[38;5;28;01mdef\u001b[39;00m \u001b[38;5;21mmean\u001b[39m(\n\u001b[1;32m  10682\u001b[0m     \u001b[38;5;28mself\u001b[39m,\n\u001b[1;32m  10683\u001b[0m     axis: Axis \u001b[38;5;241m|\u001b[39m \u001b[38;5;28;01mNone\u001b[39;00m \u001b[38;5;241m|\u001b[39m lib\u001b[38;5;241m.\u001b[39mNoDefault \u001b[38;5;241m=\u001b[39m lib\u001b[38;5;241m.\u001b[39mno_default,\n\u001b[0;32m   (...)\u001b[0m\n\u001b[1;32m  10687\u001b[0m     \u001b[38;5;241m*\u001b[39m\u001b[38;5;241m*\u001b[39mkwargs,\n\u001b[1;32m  10688\u001b[0m ) \u001b[38;5;241m-\u001b[39m\u001b[38;5;241m>\u001b[39m Series \u001b[38;5;241m|\u001b[39m \u001b[38;5;28mfloat\u001b[39m:\n\u001b[0;32m> 10689\u001b[0m     \u001b[38;5;28;01mreturn\u001b[39;00m \u001b[38;5;28;43mself\u001b[39;49m\u001b[38;5;241;43m.\u001b[39;49m\u001b[43m_stat_function\u001b[49m\u001b[43m(\u001b[49m\n\u001b[1;32m  10690\u001b[0m \u001b[43m        \u001b[49m\u001b[38;5;124;43m\"\u001b[39;49m\u001b[38;5;124;43mmean\u001b[39;49m\u001b[38;5;124;43m\"\u001b[39;49m\u001b[43m,\u001b[49m\u001b[43m \u001b[49m\u001b[43mnanops\u001b[49m\u001b[38;5;241;43m.\u001b[39;49m\u001b[43mnanmean\u001b[49m\u001b[43m,\u001b[49m\u001b[43m \u001b[49m\u001b[43maxis\u001b[49m\u001b[43m,\u001b[49m\u001b[43m \u001b[49m\u001b[43mskipna\u001b[49m\u001b[43m,\u001b[49m\u001b[43m \u001b[49m\u001b[43mlevel\u001b[49m\u001b[43m,\u001b[49m\u001b[43m \u001b[49m\u001b[43mnumeric_only\u001b[49m\u001b[43m,\u001b[49m\u001b[43m \u001b[49m\u001b[38;5;241;43m*\u001b[39;49m\u001b[38;5;241;43m*\u001b[39;49m\u001b[43mkwargs\u001b[49m\n\u001b[1;32m  10691\u001b[0m \u001b[43m    \u001b[49m\u001b[43m)\u001b[49m\n",
      "File \u001b[0;32m/Library/Frameworks/Python.framework/Versions/3.10/lib/python3.10/site-packages/pandas/core/generic.py:10641\u001b[0m, in \u001b[0;36mNDFrame._stat_function\u001b[0;34m(self, name, func, axis, skipna, level, numeric_only, **kwargs)\u001b[0m\n\u001b[1;32m  10631\u001b[0m     warnings\u001b[38;5;241m.\u001b[39mwarn(\n\u001b[1;32m  10632\u001b[0m         \u001b[38;5;124m\"\u001b[39m\u001b[38;5;124mUsing the level keyword in DataFrame and Series aggregations is \u001b[39m\u001b[38;5;124m\"\u001b[39m\n\u001b[1;32m  10633\u001b[0m         \u001b[38;5;124m\"\u001b[39m\u001b[38;5;124mdeprecated and will be removed in a future version. Use groupby \u001b[39m\u001b[38;5;124m\"\u001b[39m\n\u001b[0;32m   (...)\u001b[0m\n\u001b[1;32m  10636\u001b[0m         stacklevel\u001b[38;5;241m=\u001b[39mfind_stack_level(),\n\u001b[1;32m  10637\u001b[0m     )\n\u001b[1;32m  10638\u001b[0m     \u001b[38;5;28;01mreturn\u001b[39;00m \u001b[38;5;28mself\u001b[39m\u001b[38;5;241m.\u001b[39m_agg_by_level(\n\u001b[1;32m  10639\u001b[0m         name, axis\u001b[38;5;241m=\u001b[39maxis, level\u001b[38;5;241m=\u001b[39mlevel, skipna\u001b[38;5;241m=\u001b[39mskipna, numeric_only\u001b[38;5;241m=\u001b[39mnumeric_only\n\u001b[1;32m  10640\u001b[0m     )\n\u001b[0;32m> 10641\u001b[0m \u001b[38;5;28;01mreturn\u001b[39;00m \u001b[38;5;28;43mself\u001b[39;49m\u001b[38;5;241;43m.\u001b[39;49m\u001b[43m_reduce\u001b[49m\u001b[43m(\u001b[49m\n\u001b[1;32m  10642\u001b[0m \u001b[43m    \u001b[49m\u001b[43mfunc\u001b[49m\u001b[43m,\u001b[49m\u001b[43m \u001b[49m\u001b[43mname\u001b[49m\u001b[38;5;241;43m=\u001b[39;49m\u001b[43mname\u001b[49m\u001b[43m,\u001b[49m\u001b[43m \u001b[49m\u001b[43maxis\u001b[49m\u001b[38;5;241;43m=\u001b[39;49m\u001b[43maxis\u001b[49m\u001b[43m,\u001b[49m\u001b[43m \u001b[49m\u001b[43mskipna\u001b[49m\u001b[38;5;241;43m=\u001b[39;49m\u001b[43mskipna\u001b[49m\u001b[43m,\u001b[49m\u001b[43m \u001b[49m\u001b[43mnumeric_only\u001b[49m\u001b[38;5;241;43m=\u001b[39;49m\u001b[43mnumeric_only\u001b[49m\n\u001b[1;32m  10643\u001b[0m \u001b[43m\u001b[49m\u001b[43m)\u001b[49m\n",
      "File \u001b[0;32m/Library/Frameworks/Python.framework/Versions/3.10/lib/python3.10/site-packages/pandas/core/series.py:4471\u001b[0m, in \u001b[0;36mSeries._reduce\u001b[0;34m(self, op, name, axis, skipna, numeric_only, filter_type, **kwds)\u001b[0m\n\u001b[1;32m   4467\u001b[0m     \u001b[38;5;28;01mraise\u001b[39;00m \u001b[38;5;167;01mNotImplementedError\u001b[39;00m(\n\u001b[1;32m   4468\u001b[0m         \u001b[38;5;124mf\u001b[39m\u001b[38;5;124m\"\u001b[39m\u001b[38;5;124mSeries.\u001b[39m\u001b[38;5;132;01m{\u001b[39;00mname\u001b[38;5;132;01m}\u001b[39;00m\u001b[38;5;124m does not implement \u001b[39m\u001b[38;5;132;01m{\u001b[39;00mkwd_name\u001b[38;5;132;01m}\u001b[39;00m\u001b[38;5;124m.\u001b[39m\u001b[38;5;124m\"\u001b[39m\n\u001b[1;32m   4469\u001b[0m     )\n\u001b[1;32m   4470\u001b[0m \u001b[38;5;28;01mwith\u001b[39;00m np\u001b[38;5;241m.\u001b[39merrstate(\u001b[38;5;28mall\u001b[39m\u001b[38;5;241m=\u001b[39m\u001b[38;5;124m\"\u001b[39m\u001b[38;5;124mignore\u001b[39m\u001b[38;5;124m\"\u001b[39m):\n\u001b[0;32m-> 4471\u001b[0m     \u001b[38;5;28;01mreturn\u001b[39;00m \u001b[43mop\u001b[49m\u001b[43m(\u001b[49m\u001b[43mdelegate\u001b[49m\u001b[43m,\u001b[49m\u001b[43m \u001b[49m\u001b[43mskipna\u001b[49m\u001b[38;5;241;43m=\u001b[39;49m\u001b[43mskipna\u001b[49m\u001b[43m,\u001b[49m\u001b[43m \u001b[49m\u001b[38;5;241;43m*\u001b[39;49m\u001b[38;5;241;43m*\u001b[39;49m\u001b[43mkwds\u001b[49m\u001b[43m)\u001b[49m\n",
      "File \u001b[0;32m/Library/Frameworks/Python.framework/Versions/3.10/lib/python3.10/site-packages/pandas/core/nanops.py:93\u001b[0m, in \u001b[0;36mdisallow.__call__.<locals>._f\u001b[0;34m(*args, **kwargs)\u001b[0m\n\u001b[1;32m     91\u001b[0m \u001b[38;5;28;01mtry\u001b[39;00m:\n\u001b[1;32m     92\u001b[0m     \u001b[38;5;28;01mwith\u001b[39;00m np\u001b[38;5;241m.\u001b[39merrstate(invalid\u001b[38;5;241m=\u001b[39m\u001b[38;5;124m\"\u001b[39m\u001b[38;5;124mignore\u001b[39m\u001b[38;5;124m\"\u001b[39m):\n\u001b[0;32m---> 93\u001b[0m         \u001b[38;5;28;01mreturn\u001b[39;00m \u001b[43mf\u001b[49m\u001b[43m(\u001b[49m\u001b[38;5;241;43m*\u001b[39;49m\u001b[43margs\u001b[49m\u001b[43m,\u001b[49m\u001b[43m \u001b[49m\u001b[38;5;241;43m*\u001b[39;49m\u001b[38;5;241;43m*\u001b[39;49m\u001b[43mkwargs\u001b[49m\u001b[43m)\u001b[49m\n\u001b[1;32m     94\u001b[0m \u001b[38;5;28;01mexcept\u001b[39;00m \u001b[38;5;167;01mValueError\u001b[39;00m \u001b[38;5;28;01mas\u001b[39;00m e:\n\u001b[1;32m     95\u001b[0m     \u001b[38;5;66;03m# we want to transform an object array\u001b[39;00m\n\u001b[1;32m     96\u001b[0m     \u001b[38;5;66;03m# ValueError message to the more typical TypeError\u001b[39;00m\n\u001b[1;32m     97\u001b[0m     \u001b[38;5;66;03m# e.g. this is normally a disallowed function on\u001b[39;00m\n\u001b[1;32m     98\u001b[0m     \u001b[38;5;66;03m# object arrays that contain strings\u001b[39;00m\n\u001b[1;32m     99\u001b[0m     \u001b[38;5;28;01mif\u001b[39;00m is_object_dtype(args[\u001b[38;5;241m0\u001b[39m]):\n",
      "File \u001b[0;32m/Library/Frameworks/Python.framework/Versions/3.10/lib/python3.10/site-packages/pandas/core/nanops.py:155\u001b[0m, in \u001b[0;36mbottleneck_switch.__call__.<locals>.f\u001b[0;34m(values, axis, skipna, **kwds)\u001b[0m\n\u001b[1;32m    153\u001b[0m         result \u001b[38;5;241m=\u001b[39m alt(values, axis\u001b[38;5;241m=\u001b[39maxis, skipna\u001b[38;5;241m=\u001b[39mskipna, \u001b[38;5;241m*\u001b[39m\u001b[38;5;241m*\u001b[39mkwds)\n\u001b[1;32m    154\u001b[0m \u001b[38;5;28;01melse\u001b[39;00m:\n\u001b[0;32m--> 155\u001b[0m     result \u001b[38;5;241m=\u001b[39m \u001b[43malt\u001b[49m\u001b[43m(\u001b[49m\u001b[43mvalues\u001b[49m\u001b[43m,\u001b[49m\u001b[43m \u001b[49m\u001b[43maxis\u001b[49m\u001b[38;5;241;43m=\u001b[39;49m\u001b[43maxis\u001b[49m\u001b[43m,\u001b[49m\u001b[43m \u001b[49m\u001b[43mskipna\u001b[49m\u001b[38;5;241;43m=\u001b[39;49m\u001b[43mskipna\u001b[49m\u001b[43m,\u001b[49m\u001b[43m \u001b[49m\u001b[38;5;241;43m*\u001b[39;49m\u001b[38;5;241;43m*\u001b[39;49m\u001b[43mkwds\u001b[49m\u001b[43m)\u001b[49m\n\u001b[1;32m    157\u001b[0m \u001b[38;5;28;01mreturn\u001b[39;00m result\n",
      "File \u001b[0;32m/Library/Frameworks/Python.framework/Versions/3.10/lib/python3.10/site-packages/pandas/core/nanops.py:410\u001b[0m, in \u001b[0;36m_datetimelike_compat.<locals>.new_func\u001b[0;34m(values, axis, skipna, mask, **kwargs)\u001b[0m\n\u001b[1;32m    407\u001b[0m \u001b[38;5;28;01mif\u001b[39;00m datetimelike \u001b[38;5;129;01mand\u001b[39;00m mask \u001b[38;5;129;01mis\u001b[39;00m \u001b[38;5;28;01mNone\u001b[39;00m:\n\u001b[1;32m    408\u001b[0m     mask \u001b[38;5;241m=\u001b[39m isna(values)\n\u001b[0;32m--> 410\u001b[0m result \u001b[38;5;241m=\u001b[39m \u001b[43mfunc\u001b[49m\u001b[43m(\u001b[49m\u001b[43mvalues\u001b[49m\u001b[43m,\u001b[49m\u001b[43m \u001b[49m\u001b[43maxis\u001b[49m\u001b[38;5;241;43m=\u001b[39;49m\u001b[43maxis\u001b[49m\u001b[43m,\u001b[49m\u001b[43m \u001b[49m\u001b[43mskipna\u001b[49m\u001b[38;5;241;43m=\u001b[39;49m\u001b[43mskipna\u001b[49m\u001b[43m,\u001b[49m\u001b[43m \u001b[49m\u001b[43mmask\u001b[49m\u001b[38;5;241;43m=\u001b[39;49m\u001b[43mmask\u001b[49m\u001b[43m,\u001b[49m\u001b[43m \u001b[49m\u001b[38;5;241;43m*\u001b[39;49m\u001b[38;5;241;43m*\u001b[39;49m\u001b[43mkwargs\u001b[49m\u001b[43m)\u001b[49m\n\u001b[1;32m    412\u001b[0m \u001b[38;5;28;01mif\u001b[39;00m datetimelike:\n\u001b[1;32m    413\u001b[0m     result \u001b[38;5;241m=\u001b[39m _wrap_results(result, orig_values\u001b[38;5;241m.\u001b[39mdtype, fill_value\u001b[38;5;241m=\u001b[39miNaT)\n",
      "File \u001b[0;32m/Library/Frameworks/Python.framework/Versions/3.10/lib/python3.10/site-packages/pandas/core/nanops.py:698\u001b[0m, in \u001b[0;36mnanmean\u001b[0;34m(values, axis, skipna, mask)\u001b[0m\n\u001b[1;32m    695\u001b[0m     dtype_count \u001b[38;5;241m=\u001b[39m dtype\n\u001b[1;32m    697\u001b[0m count \u001b[38;5;241m=\u001b[39m _get_counts(values\u001b[38;5;241m.\u001b[39mshape, mask, axis, dtype\u001b[38;5;241m=\u001b[39mdtype_count)\n\u001b[0;32m--> 698\u001b[0m the_sum \u001b[38;5;241m=\u001b[39m \u001b[43m_ensure_numeric\u001b[49m\u001b[43m(\u001b[49m\u001b[43mvalues\u001b[49m\u001b[38;5;241;43m.\u001b[39;49m\u001b[43msum\u001b[49m\u001b[43m(\u001b[49m\u001b[43maxis\u001b[49m\u001b[43m,\u001b[49m\u001b[43m \u001b[49m\u001b[43mdtype\u001b[49m\u001b[38;5;241;43m=\u001b[39;49m\u001b[43mdtype_sum\u001b[49m\u001b[43m)\u001b[49m\u001b[43m)\u001b[49m\n\u001b[1;32m    700\u001b[0m \u001b[38;5;28;01mif\u001b[39;00m axis \u001b[38;5;129;01mis\u001b[39;00m \u001b[38;5;129;01mnot\u001b[39;00m \u001b[38;5;28;01mNone\u001b[39;00m \u001b[38;5;129;01mand\u001b[39;00m \u001b[38;5;28mgetattr\u001b[39m(the_sum, \u001b[38;5;124m\"\u001b[39m\u001b[38;5;124mndim\u001b[39m\u001b[38;5;124m\"\u001b[39m, \u001b[38;5;28;01mFalse\u001b[39;00m):\n\u001b[1;32m    701\u001b[0m     count \u001b[38;5;241m=\u001b[39m cast(np\u001b[38;5;241m.\u001b[39mndarray, count)\n",
      "File \u001b[0;32m/Library/Frameworks/Python.framework/Versions/3.10/lib/python3.10/site-packages/pandas/core/nanops.py:1629\u001b[0m, in \u001b[0;36m_ensure_numeric\u001b[0;34m(x)\u001b[0m\n\u001b[1;32m   1626\u001b[0m             x \u001b[38;5;241m=\u001b[39m \u001b[38;5;28mcomplex\u001b[39m(x)\n\u001b[1;32m   1627\u001b[0m         \u001b[38;5;28;01mexcept\u001b[39;00m \u001b[38;5;167;01mValueError\u001b[39;00m \u001b[38;5;28;01mas\u001b[39;00m err:\n\u001b[1;32m   1628\u001b[0m             \u001b[38;5;66;03m# e.g. \"foo\"\u001b[39;00m\n\u001b[0;32m-> 1629\u001b[0m             \u001b[38;5;28;01mraise\u001b[39;00m \u001b[38;5;167;01mTypeError\u001b[39;00m(\u001b[38;5;124mf\u001b[39m\u001b[38;5;124m\"\u001b[39m\u001b[38;5;124mCould not convert \u001b[39m\u001b[38;5;132;01m{\u001b[39;00mx\u001b[38;5;132;01m}\u001b[39;00m\u001b[38;5;124m to numeric\u001b[39m\u001b[38;5;124m\"\u001b[39m) \u001b[38;5;28;01mfrom\u001b[39;00m \u001b[38;5;21;01merr\u001b[39;00m\n\u001b[1;32m   1630\u001b[0m \u001b[38;5;28;01mreturn\u001b[39;00m x\n",
      "\u001b[0;31mTypeError\u001b[0m: Could not convert HASKAYNE to numeric"
     ]
    }
   ],
   "source": [
    "df_pri_m.groupby('Firm Capacity (MVA)')['Substation Name'].count()"
   ]
  },
  {
   "cell_type": "code",
   "execution_count": 43,
   "metadata": {},
   "outputs": [
    {
     "data": {
      "text/plain": [
       "Nominal Voltage (kV)\n",
       "33/11     170\n",
       "33/6.3     39\n",
       "33/6.6     19\n",
       "Name: Substation Name, dtype: int64"
      ]
     },
     "execution_count": 43,
     "metadata": {},
     "output_type": "execute_result"
    }
   ],
   "source": [
    "df_pri_m.groupby('Nominal Voltage (kV)')['Substation Name'].count()"
   ]
  },
  {
   "cell_type": "code",
   "execution_count": 52,
   "metadata": {},
   "outputs": [
    {
     "data": {
      "text/html": [
       "<div>\n",
       "<style scoped>\n",
       "    .dataframe tbody tr th:only-of-type {\n",
       "        vertical-align: middle;\n",
       "    }\n",
       "\n",
       "    .dataframe tbody tr th {\n",
       "        vertical-align: top;\n",
       "    }\n",
       "\n",
       "    .dataframe thead tr th {\n",
       "        text-align: left;\n",
       "    }\n",
       "\n",
       "    .dataframe thead tr:last-of-type th {\n",
       "        text-align: right;\n",
       "    }\n",
       "</style>\n",
       "<table border=\"1\" class=\"dataframe\">\n",
       "  <thead>\n",
       "    <tr>\n",
       "      <th></th>\n",
       "      <th colspan=\"5\" halign=\"left\">Maximum Load (MVA)</th>\n",
       "      <th colspan=\"5\" halign=\"left\">Generation Connected (MW)</th>\n",
       "      <th colspan=\"5\" halign=\"left\">Generation Contracted (MW)</th>\n",
       "    </tr>\n",
       "    <tr>\n",
       "      <th></th>\n",
       "      <th>count</th>\n",
       "      <th>sum</th>\n",
       "      <th>mean</th>\n",
       "      <th>max</th>\n",
       "      <th>min</th>\n",
       "      <th>count</th>\n",
       "      <th>sum</th>\n",
       "      <th>mean</th>\n",
       "      <th>max</th>\n",
       "      <th>min</th>\n",
       "      <th>count</th>\n",
       "      <th>sum</th>\n",
       "      <th>mean</th>\n",
       "      <th>max</th>\n",
       "      <th>min</th>\n",
       "    </tr>\n",
       "    <tr>\n",
       "      <th>Overall Category</th>\n",
       "      <th></th>\n",
       "      <th></th>\n",
       "      <th></th>\n",
       "      <th></th>\n",
       "      <th></th>\n",
       "      <th></th>\n",
       "      <th></th>\n",
       "      <th></th>\n",
       "      <th></th>\n",
       "      <th></th>\n",
       "      <th></th>\n",
       "      <th></th>\n",
       "      <th></th>\n",
       "      <th></th>\n",
       "      <th></th>\n",
       "    </tr>\n",
       "  </thead>\n",
       "  <tbody>\n",
       "    <tr>\n",
       "      <th>AMBER</th>\n",
       "      <td>29</td>\n",
       "      <td>260.65</td>\n",
       "      <td>8.987931</td>\n",
       "      <td>16.20</td>\n",
       "      <td>4.26</td>\n",
       "      <td>29</td>\n",
       "      <td>0.00</td>\n",
       "      <td>0.000000</td>\n",
       "      <td>0.0</td>\n",
       "      <td>0.0</td>\n",
       "      <td>29</td>\n",
       "      <td>0.00</td>\n",
       "      <td>0.000000</td>\n",
       "      <td>0.0</td>\n",
       "      <td>0.0</td>\n",
       "    </tr>\n",
       "    <tr>\n",
       "      <th>RED</th>\n",
       "      <td>199</td>\n",
       "      <td>2763.43</td>\n",
       "      <td>13.886583</td>\n",
       "      <td>24.89</td>\n",
       "      <td>0.43</td>\n",
       "      <td>199</td>\n",
       "      <td>164.69</td>\n",
       "      <td>0.827588</td>\n",
       "      <td>4.6</td>\n",
       "      <td>0.0</td>\n",
       "      <td>199</td>\n",
       "      <td>13.84</td>\n",
       "      <td>0.069548</td>\n",
       "      <td>3.0</td>\n",
       "      <td>0.0</td>\n",
       "    </tr>\n",
       "  </tbody>\n",
       "</table>\n",
       "</div>"
      ],
      "text/plain": [
       "                 Maximum Load (MVA)                                   \\\n",
       "                              count      sum       mean    max   min   \n",
       "Overall Category                                                       \n",
       "AMBER                            29   260.65   8.987931  16.20  4.26   \n",
       "RED                             199  2763.43  13.886583  24.89  0.43   \n",
       "\n",
       "                 Generation Connected (MW)                              \\\n",
       "                                     count     sum      mean  max  min   \n",
       "Overall Category                                                         \n",
       "AMBER                                   29    0.00  0.000000  0.0  0.0   \n",
       "RED                                    199  164.69  0.827588  4.6  0.0   \n",
       "\n",
       "                 Generation Contracted (MW)                             \n",
       "                                      count    sum      mean  max  min  \n",
       "Overall Category                                                        \n",
       "AMBER                                    29   0.00  0.000000  0.0  0.0  \n",
       "RED                                     199  13.84  0.069548  3.0  0.0  "
      ]
     },
     "execution_count": 52,
     "metadata": {},
     "output_type": "execute_result"
    }
   ],
   "source": [
    "df_pri_m.groupby('Overall Category')[['Maximum Load (MVA)', 'Generation Connected (MW)', 'Generation Contracted (MW)']].agg(['count', 'sum', 'mean', 'max', 'min'])"
   ]
  },
  {
   "cell_type": "code",
   "execution_count": 47,
   "metadata": {},
   "outputs": [
    {
     "data": {
      "text/html": [
       "<div>\n",
       "<style scoped>\n",
       "    .dataframe tbody tr th:only-of-type {\n",
       "        vertical-align: middle;\n",
       "    }\n",
       "\n",
       "    .dataframe tbody tr th {\n",
       "        vertical-align: top;\n",
       "    }\n",
       "\n",
       "    .dataframe thead tr th {\n",
       "        text-align: left;\n",
       "    }\n",
       "\n",
       "    .dataframe thead tr:last-of-type th {\n",
       "        text-align: right;\n",
       "    }\n",
       "</style>\n",
       "<table border=\"1\" class=\"dataframe\">\n",
       "  <thead>\n",
       "    <tr>\n",
       "      <th></th>\n",
       "      <th colspan=\"3\" halign=\"left\">Maximum Load (MVA)</th>\n",
       "      <th colspan=\"3\" halign=\"left\">Generation Connected (MW)</th>\n",
       "      <th colspan=\"3\" halign=\"left\">Generation Contracted (MW)</th>\n",
       "    </tr>\n",
       "    <tr>\n",
       "      <th></th>\n",
       "      <th>count</th>\n",
       "      <th>sum</th>\n",
       "      <th>mean</th>\n",
       "      <th>count</th>\n",
       "      <th>sum</th>\n",
       "      <th>mean</th>\n",
       "      <th>count</th>\n",
       "      <th>sum</th>\n",
       "      <th>mean</th>\n",
       "    </tr>\n",
       "    <tr>\n",
       "      <th>Overall Category</th>\n",
       "      <th></th>\n",
       "      <th></th>\n",
       "      <th></th>\n",
       "      <th></th>\n",
       "      <th></th>\n",
       "      <th></th>\n",
       "      <th></th>\n",
       "      <th></th>\n",
       "      <th></th>\n",
       "    </tr>\n",
       "  </thead>\n",
       "  <tbody>\n",
       "    <tr>\n",
       "      <th>AMBER</th>\n",
       "      <td>11</td>\n",
       "      <td>895.1</td>\n",
       "      <td>81.372727</td>\n",
       "      <td>11</td>\n",
       "      <td>147.7</td>\n",
       "      <td>13.427273</td>\n",
       "      <td>11</td>\n",
       "      <td>119.6</td>\n",
       "      <td>10.872727</td>\n",
       "    </tr>\n",
       "    <tr>\n",
       "      <th>RED</th>\n",
       "      <td>28</td>\n",
       "      <td>1619.3</td>\n",
       "      <td>57.832143</td>\n",
       "      <td>28</td>\n",
       "      <td>551.4</td>\n",
       "      <td>19.692857</td>\n",
       "      <td>28</td>\n",
       "      <td>231.4</td>\n",
       "      <td>8.264286</td>\n",
       "    </tr>\n",
       "  </tbody>\n",
       "</table>\n",
       "</div>"
      ],
      "text/plain": [
       "                 Maximum Load (MVA)                     \\\n",
       "                              count     sum       mean   \n",
       "Overall Category                                         \n",
       "AMBER                            11   895.1  81.372727   \n",
       "RED                              28  1619.3  57.832143   \n",
       "\n",
       "                 Generation Connected (MW)                    \\\n",
       "                                     count    sum       mean   \n",
       "Overall Category                                               \n",
       "AMBER                                   11  147.7  13.427273   \n",
       "RED                                     28  551.4  19.692857   \n",
       "\n",
       "                 Generation Contracted (MW)                    \n",
       "                                      count    sum       mean  \n",
       "Overall Category                                               \n",
       "AMBER                                    11  119.6  10.872727  \n",
       "RED                                      28  231.4   8.264286  "
      ]
     },
     "execution_count": 47,
     "metadata": {},
     "output_type": "execute_result"
    }
   ],
   "source": [
    "df_grid_m.groupby('Overall Category')[['Maximum Load (MVA)', 'Generation Connected (MW)', 'Generation Contracted (MW)']].agg(['count', 'sum', 'mean'])"
   ]
  },
  {
   "cell_type": "code",
   "execution_count": 10,
   "metadata": {},
   "outputs": [
    {
     "data": {
      "text/html": [
       "<div>\n",
       "<style scoped>\n",
       "    .dataframe tbody tr th:only-of-type {\n",
       "        vertical-align: middle;\n",
       "    }\n",
       "\n",
       "    .dataframe tbody tr th {\n",
       "        vertical-align: top;\n",
       "    }\n",
       "\n",
       "    .dataframe thead tr th {\n",
       "        text-align: left;\n",
       "    }\n",
       "\n",
       "    .dataframe thead tr:last-of-type th {\n",
       "        text-align: right;\n",
       "    }\n",
       "</style>\n",
       "<table border=\"1\" class=\"dataframe\">\n",
       "  <thead>\n",
       "    <tr>\n",
       "      <th></th>\n",
       "      <th colspan=\"2\" halign=\"left\">Generation Connected (MW)</th>\n",
       "      <th colspan=\"2\" halign=\"left\">Generation Contracted (MW)</th>\n",
       "    </tr>\n",
       "    <tr>\n",
       "      <th></th>\n",
       "      <th>count</th>\n",
       "      <th>sum</th>\n",
       "      <th>count</th>\n",
       "      <th>sum</th>\n",
       "    </tr>\n",
       "    <tr>\n",
       "      <th>Overall Category</th>\n",
       "      <th></th>\n",
       "      <th></th>\n",
       "      <th></th>\n",
       "      <th></th>\n",
       "    </tr>\n",
       "  </thead>\n",
       "  <tbody>\n",
       "    <tr>\n",
       "      <th>AMBER</th>\n",
       "      <td>1</td>\n",
       "      <td>54.16</td>\n",
       "      <td>1</td>\n",
       "      <td>49.60</td>\n",
       "    </tr>\n",
       "    <tr>\n",
       "      <th>RED</th>\n",
       "      <td>3</td>\n",
       "      <td>604.56</td>\n",
       "      <td>3</td>\n",
       "      <td>496.57</td>\n",
       "    </tr>\n",
       "  </tbody>\n",
       "</table>\n",
       "</div>"
      ],
      "text/plain": [
       "                 Generation Connected (MW)         Generation Contracted (MW)  \\\n",
       "                                     count     sum                      count   \n",
       "Overall Category                                                                \n",
       "AMBER                                    1   54.16                          1   \n",
       "RED                                      3  604.56                          3   \n",
       "\n",
       "                          \n",
       "                     sum  \n",
       "Overall Category          \n",
       "AMBER              49.60  \n",
       "RED               496.57  "
      ]
     },
     "execution_count": 10,
     "metadata": {},
     "output_type": "execute_result"
    }
   ],
   "source": [
    "df_sup_m.groupby('Overall Category')[['Generation Connected (MW)', 'Generation Contracted (MW)']].agg(['count', 'sum'])"
   ]
  },
  {
   "cell_type": "code",
   "execution_count": 38,
   "metadata": {},
   "outputs": [
    {
     "data": {
      "text/html": [
       "<div>\n",
       "<style scoped>\n",
       "    .dataframe tbody tr th:only-of-type {\n",
       "        vertical-align: middle;\n",
       "    }\n",
       "\n",
       "    .dataframe tbody tr th {\n",
       "        vertical-align: top;\n",
       "    }\n",
       "\n",
       "    .dataframe thead th {\n",
       "        text-align: right;\n",
       "    }\n",
       "</style>\n",
       "<table border=\"1\" class=\"dataframe\">\n",
       "  <thead>\n",
       "    <tr style=\"text-align: right;\">\n",
       "      <th></th>\n",
       "      <th>Substation Name</th>\n",
       "      <th>Grid Group</th>\n",
       "      <th>Firm Capacity (MVA)</th>\n",
       "      <th>Maximum Load (MVA)</th>\n",
       "      <th>Overall Category</th>\n",
       "      <th>X</th>\n",
       "      <th>Y</th>\n",
       "    </tr>\n",
       "  </thead>\n",
       "  <tbody>\n",
       "    <tr>\n",
       "      <th>0</th>\n",
       "      <td>DICKINSONS</td>\n",
       "      <td>GILLMOSS GT1 / KIRKBY GT2 / SIMONSWOOD GT1</td>\n",
       "      <td>30.0</td>\n",
       "      <td>14.71</td>\n",
       "      <td>RED</td>\n",
       "      <td>342713.8240</td>\n",
       "      <td>398255.232</td>\n",
       "    </tr>\n",
       "    <tr>\n",
       "      <th>1</th>\n",
       "      <td>WAVERTREE</td>\n",
       "      <td>GARSTON GT2 / SPEKE GT3 / WAVERTREE GT1A</td>\n",
       "      <td>37.5</td>\n",
       "      <td>18.97</td>\n",
       "      <td>RED</td>\n",
       "      <td>339018.8312</td>\n",
       "      <td>388483.665</td>\n",
       "    </tr>\n",
       "    <tr>\n",
       "      <th>2</th>\n",
       "      <td>AINTREE</td>\n",
       "      <td>AINTREE GT2 / FAZAKERLEY GT1 / GILLMOSS GT2</td>\n",
       "      <td>20.0</td>\n",
       "      <td>11.67</td>\n",
       "      <td>AMBER</td>\n",
       "      <td>336740.4480</td>\n",
       "      <td>398306.688</td>\n",
       "    </tr>\n",
       "    <tr>\n",
       "      <th>3</th>\n",
       "      <td>WAVERTREE VALE</td>\n",
       "      <td>LISTER DV B GT3 / SPARLING ST GT1 / WAVERTREE GT2</td>\n",
       "      <td>17.5</td>\n",
       "      <td>10.12</td>\n",
       "      <td>RED</td>\n",
       "      <td>337981.9520</td>\n",
       "      <td>389512.576</td>\n",
       "    </tr>\n",
       "    <tr>\n",
       "      <th>4</th>\n",
       "      <td>LARK LANE</td>\n",
       "      <td>LISTER DV B GT3 / SPARLING ST GT1 / WAVERTREE GT2</td>\n",
       "      <td>30.0</td>\n",
       "      <td>20.86</td>\n",
       "      <td>RED</td>\n",
       "      <td>337278.9120</td>\n",
       "      <td>387620.384</td>\n",
       "    </tr>\n",
       "  </tbody>\n",
       "</table>\n",
       "</div>"
      ],
      "text/plain": [
       "  Substation Name                                         Grid Group  \\\n",
       "0      DICKINSONS         GILLMOSS GT1 / KIRKBY GT2 / SIMONSWOOD GT1   \n",
       "1       WAVERTREE           GARSTON GT2 / SPEKE GT3 / WAVERTREE GT1A   \n",
       "2         AINTREE        AINTREE GT2 / FAZAKERLEY GT1 / GILLMOSS GT2   \n",
       "3  WAVERTREE VALE  LISTER DV B GT3 / SPARLING ST GT1 / WAVERTREE GT2   \n",
       "4       LARK LANE  LISTER DV B GT3 / SPARLING ST GT1 / WAVERTREE GT2   \n",
       "\n",
       "   Firm Capacity (MVA)  Maximum Load (MVA) Overall Category            X  \\\n",
       "0                 30.0               14.71              RED  342713.8240   \n",
       "1                 37.5               18.97              RED  339018.8312   \n",
       "2                 20.0               11.67            AMBER  336740.4480   \n",
       "3                 17.5               10.12              RED  337981.9520   \n",
       "4                 30.0               20.86              RED  337278.9120   \n",
       "\n",
       "            Y  \n",
       "0  398255.232  \n",
       "1  388483.665  \n",
       "2  398306.688  \n",
       "3  389512.576  \n",
       "4  387620.384  "
      ]
     },
     "execution_count": 38,
     "metadata": {},
     "output_type": "execute_result"
    }
   ],
   "source": [
    "df_sub = pd.concat([df_pri_m[['Substation Name', 'Grid Group', 'Firm Capacity (MVA)', 'Maximum Load (MVA)', 'Overall Category', 'X', 'Y']], df_grid_m[['Substation Name', 'Grid Group', 'Firm Capacity (MVA)', 'Maximum Load (MVA)', 'Overall Category', 'X', 'Y']]], ignore_index=True)\n",
    "df_sub.head()"
   ]
  },
  {
   "cell_type": "markdown",
   "metadata": {},
   "source": [
    "### convert bng to lat long"
   ]
  },
  {
   "cell_type": "code",
   "execution_count": 39,
   "metadata": {},
   "outputs": [],
   "source": [
    "import pyproj\n",
    "\n",
    "transformer = pyproj.Transformer.from_crs(\"EPSG:27700\", \"EPSG:4326\")\n",
    "\n",
    "# df_pri_m['long'] = df_pri_m['X'].apply(lambda x: transformer.transform(x, 0)[1]) - 0.07\n",
    "# df_pri_m['lat'] = df_pri_m['Y'].apply(lambda x:  transformer.transform(0, x)[0]) + 0.15\n",
    "\n",
    "# df_grid_m['long'] = df_grid_m['X'].apply(lambda x: transformer.transform(x, 0)[1]) - 0.07\n",
    "# df_grid_m['lat'] = df_grid_m['Y'].apply(lambda x:  transformer.transform(0, x)[0]) + 0.15\n",
    "\n",
    "# df_sup_m['long'] = df_sup_m['X'].apply(lambda x: transformer.transform(x, 0)[1]) - 0.07\n",
    "# df_sup_m['lat'] = df_sup_m['Y'].apply(lambda x:  transformer.transform(0, x)[0]) + 0.15\n",
    "\n",
    "df_sub['long'] = df_sub['X'].apply(lambda x: transformer.transform(x, 0)[1]) - 0.07\n",
    "df_sub['lat'] = df_sub['Y'].apply(lambda x:  transformer.transform(0, x)[0]) + 0.15"
   ]
  },
  {
   "cell_type": "markdown",
   "metadata": {},
   "source": [
    "### plot map"
   ]
  },
  {
   "cell_type": "code",
   "execution_count": 41,
   "metadata": {},
   "outputs": [
    {
     "data": {
      "application/vnd.plotly.v1+json": {
       "config": {
        "plotlyServerURL": "https://plot.ly"
       },
       "data": [
        {
         "coloraxis": "coloraxis",
         "hovertemplate": "<b>%{hovertext}</b><br><br>Overall Category=%{z}<br>lat=%{lat}<br>long=%{lon}<extra></extra>",
         "hovertext": [
          "DICKINSONS",
          "WAVERTREE",
          "AINTREE",
          "WAVERTREE VALE",
          "LARK LANE",
          "BLUEBELL LANE",
          "ECCLESTON",
          "LUCAS FAZAKERLEY",
          "WEST DERBY",
          "SCARISBRICK AVENUE",
          "EVERTON ROAD",
          "TECHNOLOGY CAMPUS",
          "CHILDWALL FIVEWAYS",
          "MIDDLEMASS HEY",
          "N C B SUTTON MANOR",
          "MEDEVA",
          "WALTON",
          "MERSEY BRIDGE",
          "EDGE HILL",
          "MILL LN WAVERTREE",
          "HARRINGTON STREET A",
          "WILSON ROAD",
          "KNOWSLEY",
          "MULLARDS BALMORAL DR",
          "OTIS ELEVATOR",
          "ROYAL INSURANCE (NEW QUAY)",
          "KODAK",
          "WANGO LANE",
          "ECP WEST-BANKS RD",
          "ATLANTIC COMPLEX",
          "NETHERTON",
          "DOVER ROAD",
          "GRANTHAM CLOSE",
          "BEAUMONT STREET",
          "DINGLE VALE",
          "CARR LANE EAST",
          "INLAND REVENUE",
          "BICC HUYTON QUARRY",
          "BLUNDELL STREET",
          "BLUNDELLSANDS NORTH",
          "WATERLOO",
          "LEYFIELD ROAD",
          "BUCKINGHAM STREET",
          "FRESHFIELD",
          "GRADWELL STREET",
          "CROWN COURTS",
          "CARLTON STREET",
          "WALTON",
          "DINGLE",
          "DITTON",
          "HOUGH GREEN",
          "RTZ",
          "LISTER DRIVE T3",
          "IVY STREET",
          "PALCO",
          "TOWER HILL",
          "PILKINGTON HO",
          "ACORNFIELD ROAD",
          "MATHER AVENUE",
          "HAREFIELD ROAD",
          "GIRO BOOTLE",
          "ARUNDEL",
          "BOLTON STREET",
          "WASHINGTON STREET",
          "BOOTLE",
          "BRITISH OXYGEN",
          "WINDLEHURST",
          "CROXTETH",
          "BROOK STREET",
          "KINGSWAY TUNNEL",
          "SOUTHPORT RD",
          "HILLS MOSS",
          "CLUBMOOR",
          "ROBBINS BRIDGE",
          "PLESSEY EDGE LANE",
          "STONEYCROFT",
          "LEEWARD DRIVE",
          "FAZAKERLEY HOSPITAL",
          "HARRINGTON STREET A",
          "LIME STREET",
          "OLD HAYMARKET",
          "OCEAN PLAZA",
          "YORK ROAD",
          "AINSDALE",
          "OLD ROAN",
          "YEWTREE ROAD",
          "DELTA METALS",
          "ATHOL STREET",
          "REGENT ROAD",
          "WHISTON",
          "WATERLOO",
          "GREEK STREET",
          "BURLINGTON AVENUE",
          "OLDHAM PLACE",
          "CHALON WAY",
          "LISTER DRIVE 6kV T1",
          "PARADISE STREET",
          "LIME STREET",
          "HOLT LANE WARR RD",
          "WOOLTON",
          "MARLED HEY",
          "LORD STREET",
          "LUGSDALE",
          "USAC",
          "NEVILL STREET",
          "SOMERFIELD DISTRIBUTION",
          "ALLERTON",
          "WEAVER IND EST",
          "MIDLAND BANK",
          "HORNSBRIDGE",
          "BROOK BRIDGE",
          "BEECH STREET",
          "KERSHAW AVENUE",
          "OLDHAM PLACE",
          "BRITISH SIDAC",
          "LYNDENE ROAD",
          "GEC ST HELENS",
          "CLUBMOOR",
          "SPEKE SKY PARK",
          "GARDNERS ROW",
          "RAINHILL LOCAL",
          "HUNTS CROSS",
          "MARKET STREET",
          "SOUTHDENE",
          "AIRPORT",
          "ALBERT DOCK",
          "GARSTON",
          "ALMATEX",
          "WATERY LANE",
          "LUGSDALE",
          "GROVE PARK",
          "CHISENHALE STREET",
          "BIBBYS",
          "TARBOCK",
          "BIXTETH STREET",
          "KELLOGGS",
          "SHERDLEY ROAD",
          "HOUGHTONS LANE",
          "KIRKDALE",
          "DESOTO ROAD",
          "GRANBY",
          "HARRINGTON STREET A",
          "HASKAYNE",
          "WHISTON HOSPITAL",
          "HUYTON HEY ROAD",
          "SOUTHPORT",
          "KINGS DOCK",
          "ALMONDS TURN",
          "APPLETON",
          "SANDHILLS LANE",
          "BEMROSE",
          "NORRIS GREEN",
          "LITTLEWOODS",
          "ST JAMES",
          "CROSBY",
          "HPO COPPERAS HILL",
          "TATTON ROAD",
          "KNOTTY ASH",
          "MARSH BROWS",
          "CABLE STREET",
          "CARBORUNDUM",
          "WINDLEHURST",
          "CLOCKFACE",
          "SUBURBAN ROAD",
          "CONIX",
          "DAILY POST AND ECHO",
          "EVERTON BROW",
          "HIGHFIELD STREET A",
          "WEST VALE",
          "SOUTHPORT",
          "STONEBRIDGE LANE",
          "ST IVEL FOODS",
          "RAVENHEAD RETAIL PARK",
          "HAMMOND ROAD",
          "IVY AVENUE",
          "MOSSLEY HILL",
          "WAPPING",
          "BANASTRE ROAD",
          "BOOTLE",
          "PACIFIC ROAD",
          "ORRELL MOUNT",
          "ST HELENS LINKWAY",
          "WATERY LANE",
          "BROADGREEN",
          "SUBURBAN ROAD",
          "CABLE STREET",
          "GRADWELL STREET",
          "GAVIN ROAD",
          "LIVERPOOL UNIVERSITY",
          "EDGE LN TAPLEY",
          "SPEKE HALL ROAD",
          "JACOBS",
          "PRESCOT",
          "KENTON ROAD",
          "KELCO",
          "KIRKBY CENTRAL",
          "NORTHWOOD",
          "PILK SULLIVAN",
          "ORB CLOSE",
          "AIGBURTH VALE",
          "PINFOLD LANE",
          "ALDERWOOD AVE",
          "MDHB BRUNSWICK DOCK",
          "BEDBURN DRIVE",
          "LISTER DRIVE 6kV T2",
          "ROPEWALKS",
          "BLUNDELLSANDS SOUTH",
          "EAST PRESCOT ROAD",
          "NWWA SANDON DOCK",
          "RAINFORD",
          "CHALON WAY",
          "WOODVILLE STREET",
          "CHILDWALL",
          "NAYLORS ROAD",
          "DUNLOPS WALTON",
          "DELAMORE STREET",
          "PITT STREET",
          "ST JAMES",
          "DODDS LANE",
          "HOLBORN HILL",
          "MAGHULL",
          "ESTUARY COMMERCE PK",
          "SHEIL PARK",
          "SEEDS LANE",
          "HIGHFIELD STREET A",
          "WOODEND AVENUE",
          "NEWS INTERNATIONAL",
          "MARSHSIDE",
          "AINTREE",
          "FORMBY",
          "LISTER DRIVE",
          "FORMBY",
          "GATEACRE",
          "PRESCOT",
          "HALEWOOD",
          "PRESCOT",
          "WIDNES",
          "LITHERLAND",
          "GILLMOSS",
          "LITHERLAND",
          "GARSTON",
          "HUYTON",
          "SIMONSWOOD",
          "ST HELENS",
          "WINDLE",
          "FAZAKERLEY",
          "BOLD",
          "PARADISE STREET",
          "SPEKE",
          "KIRKBY",
          "SPEKE",
          "RAVENHEAD",
          "BOOTLE",
          "BURLINGTON STREET",
          "LISTER DRIVE",
          "LISTER DRIVE",
          "BOLD",
          "BOOTLE",
          "SOUTHPORT",
          "RAVENHEAD",
          "AINTREE",
          "ST HELENS",
          "BURLINGTON STREET",
          "GILLMOSS",
          "KIRKBY",
          "SPARLING STREET",
          "WAVERTREE"
         ],
         "lat": [
          53.47946706893251,
          53.392115438280506,
          53.479927044410346,
          53.401313405426556,
          53.38439809548913,
          53.42225664562258,
          53.435290408038696,
          53.45648791762959,
          53.431167710138794,
          53.469869413578714,
          53.42008241690232,
          53.4569111160361,
          53.39994630528609,
          53.38962480224871,
          53.41160968352447,
          53.351617657840244,
          53.44966887520245,
          53.36009680289808,
          53.407106712281816,
          53.401843481914526,
          53.40892814792865,
          53.40749152098489,
          53.45360503098669,
          53.6678314482582,
          53.46993736072292,
          53.41090625518935,
          53.485769697686905,
          53.47903913146635,
          53.34772455441743,
          53.47910749848658,
          53.49466251689798,
          53.62640831447822,
          53.621474422898245,
          53.40003927613069,
          53.38055758427388,
          53.449152540322544,
          53.44962196167789,
          53.410037768348694,
          53.400430996228586,
          53.49631933279402,
          53.47848933468698,
          53.42950941779824,
          53.42600502074771,
          53.56986881619634,
          53.40588051069518,
          53.4074408877939,
          53.45255403727681,
          53.44966887520245,
          53.38714712592654,
          53.372831567836585,
          53.38066435859472,
          53.36270303304967,
          53.42194946927243,
          53.306907822136615,
          53.46417701634223,
          53.493371561294275,
          53.44610490176761,
          53.48158101021283,
          53.383301031977716,
          53.34441230265524,
          53.47437929930791,
          53.39133347026686,
          53.40902024234922,
          53.455423498396534,
          53.45891837489128,
          53.4702658240376,
          53.46531419713009,
          53.43711661328251,
          53.41301897109336,
          53.418409840441754,
          53.57057285993626,
          53.43256425627105,
          53.43650673412069,
          53.53318632886943,
          53.41243812101662,
          53.42464609757835,
          53.351461079192795,
          53.46980972092478,
          53.40892814792865,
          53.41001202268644,
          53.41240553669614,
          53.65540627877177,
          53.63645932533046,
          53.60523474087081,
          53.487669334564586,
          53.379055234022005,
          53.45633973997444,
          53.427187499034396,
          53.43840931629037,
          53.41285302799098,
          53.47848933468698,
          53.4109200577197,
          53.558837814537824,
          53.40607239666528,
          53.45172048280775,
          53.42194946927243,
          53.40488998013892,
          53.41001202268644,
          53.42222716341715,
          53.37637029994296,
          53.43845909063401,
          53.652482985835015,
          53.36739828253958,
          53.36828625565889,
          53.65177760110811,
          53.42446503875505,
          53.37450038817994,
          53.34896282813954,
          53.474379442335426,
          53.386406278216,
          53.42910378392303,
          53.41290926610343,
          53.48791652940732,
          53.40607239666528,
          53.43962198455728,
          53.39627808403586,
          53.41751429670323,
          53.43650673412069,
          53.343552373357596,
          53.41799116200887,
          53.413835536496016,
          53.369333604011544,
          53.64748767031024,
          53.47326053773067,
          53.341757563158765,
          53.40244736275407,
          53.35615190812053,
          53.447552652374156,
          53.44256203763328,
          53.36739828253958,
          53.39266939433678,
          53.41913226281736,
          53.44503244135316,
          53.406580695506705,
          53.41246815759146,
          53.4634694202197,
          53.443710081279484,
          53.46164769622954,
          53.43211795320757,
          53.3549789657585,
          53.397808538033125,
          53.40892814792865,
          53.56223678289227,
          53.421899453213705,
          53.411929787686816,
          53.644891858592224,
          53.399231788464476,
          53.49383637905234,
          53.37274631079631,
          53.43340927784029,
          53.45874548028062,
          53.44535196883245,
          53.4139774234664,
          53.39653155512801,
          53.49791135669885,
          53.409030826681516,
          53.46686519312143,
          53.42076653332622,
          53.55747166465291,
          53.4077651761994,
          53.489342683932755,
          53.46531419713009,
          53.41948249183195,
          53.429881868586556,
          53.35236734892916,
          53.41195410301462,
          53.418416822139754,
          53.41312667364045,
          53.48128065331388,
          53.644891858592224,
          53.461320238266524,
          53.46902005176156,
          53.446929331185174,
          53.490083096821465,
          53.363920138751375,
          53.37759236897662,
          53.39824204177805,
          53.63844784083177,
          53.45891837489128,
          53.454308160443745,
          53.468532612784536,
          53.44574077071152,
          53.44256203763328,
          53.407304149566485,
          53.429881868586556,
          53.4077651761994,
          53.40588051069518,
          53.36502934240193,
          53.408106270770084,
          53.41208912459497,
          53.35829442449201,
          53.461543973888496,
          53.424126257402406,
          53.36312412610851,
          53.46629136477233,
          53.48413518651102,
          53.48590156841973,
          53.36278713724,
          53.45494263590758,
          53.37729821176274,
          53.59453087781793,
          53.34532401045283,
          53.393273849667196,
          53.41639231657325,
          53.42194946927243,
          53.403721472863175,
          53.49171260684971,
          53.42258817290765,
          53.43102171119756,
          53.49980755108042,
          53.45172048280775,
          53.45733655097534,
          53.389883977487685,
          53.39252435936215,
          53.45501415026376,
          53.44452729749744,
          53.35654061392991,
          53.39653155512801,
          53.520865929464655,
          53.5576684635132,
          53.50911327590569,
          53.34787253331973,
          53.423329071767064,
          53.47067774400123,
          53.41312667364045,
          53.356183518797515,
          53.46670786233184,
          53.666338364502245,
          53.493005136660415,
          53.5575541170844,
          53.42129638818907,
          53.5575541170844,
          53.3943911744227,
          53.423880928628485,
          53.35574382997622,
          53.423880928628485,
          53.36200191436967,
          53.478069728382124,
          53.464575886061766,
          53.478069728382124,
          53.356249314775425,
          53.42516014937205,
          53.492392402601936,
          53.45308366414815,
          53.46853232672875,
          53.463075583116904,
          53.4345718971501,
          53.40490350558064,
          53.35520255955055,
          53.47089207107864,
          53.35520255955055,
          53.44638977132877,
          53.45923139893787,
          53.42133243462447,
          53.42129638818907,
          53.42129638818907,
          53.4345718971501,
          53.45923139893787,
          53.64484014004931,
          53.44638977132877,
          53.493005136660415,
          53.45308366414815,
          53.42133243462447,
          53.464575886061766,
          53.47089207107864,
          53.40159900721322,
          53.39205435444187
         ],
         "lon": [
          -2.868960247870969,
          -2.9204016465259253,
          -2.952120579982764,
          -2.9348368044453848,
          -2.944624291873282,
          -2.8501678183081656,
          -2.8043784690358375,
          -2.940341324407141,
          -2.9135425332827087,
          -2.9944350105232207,
          -2.9646244750169597,
          -2.741321233271815,
          -2.9016592879163565,
          -2.846754798019866,
          -2.743828112149952,
          -2.854156556576897,
          -2.9653694431328677,
          -2.754613494109046,
          -2.9555171397149618,
          -2.917149728861142,
          -2.9837257753935686,
          -2.832766645851588,
          -2.8544126543542996,
          -2.9475556298150716,
          -2.8760457604682177,
          -2.9917707160249805,
          -2.8543921609641663,
          -2.922591919732099,
          -2.888545159884441,
          -2.971849062968237,
          -2.96525216830561,
          -3.010640860976548,
          -3.0020690538014865,
          -2.9499127258116697,
          -2.961435944175713,
          -2.9100293326371127,
          -2.9822404727781686,
          -2.830964548867422,
          -2.9791900391584565,
          -3.0362637980786467,
          -3.020137126104079,
          -2.898653495860952,
          -2.9743200215863066,
          -3.058814473441467,
          -2.980330913895465,
          -2.9857005531236824,
          -2.7647908939904027,
          -2.9653694431328677,
          -2.956950281571702,
          -2.770753625319709,
          -2.7881068173430985,
          -2.7876064992303107,
          -2.932413760277352,
          -3.671941535480043,
          -2.8751328235683453,
          -2.8925318619436884,
          -2.7679236134315395,
          -2.856488723050569,
          -2.909668478621902,
          -2.8527313048173912,
          -2.9677871074751576,
          -2.9295519009504836,
          -2.9750316210112593,
          -2.9891846842932064,
          -2.981300471120738,
          -2.74854979140187,
          -2.7638495321071015,
          -2.8892155437371505,
          -2.9924573169729123,
          -2.994321468112982,
          -3.038281072758332,
          -2.7113825238848923,
          -2.937260737146558,
          -2.9266472706323716,
          -2.9311405362343588,
          -2.9151775108184386,
          -2.8760998057656315,
          -2.9313578180015285,
          -2.9837257753935686,
          -2.977517880028617,
          -2.9800719754323235,
          -3.0014500715221915,
          -3.0067781051716986,
          -3.0239075332726038,
          -2.947439064095321,
          -2.898191511493313,
          -2.7215201074760462,
          -2.984177218544132,
          -2.992950800833406,
          -2.812489756420958,
          -3.020137126104079,
          -2.9706213000337187,
          -3.0357056188310514,
          -2.9720853938931233,
          -2.747808882977331,
          -2.932413760277352,
          -2.982077439136908,
          -2.977517880028617,
          -2.7916001313229484,
          -2.8703853515597455,
          -2.8775709734550396,
          -2.988968248782947,
          -2.740444202278539,
          -2.7291945305822054,
          -2.9982128399792027,
          -2.7534875287755516,
          -2.905436851579359,
          -2.904149187611657,
          -2.9649384887407746,
          -2.7333698207740187,
          -2.826966517823932,
          -2.942257389756113,
          -3.0083395128713684,
          -2.9720853938931233,
          -2.7264307663783214,
          -2.8765731545351403,
          -2.7559673306687986,
          -2.937260737146558,
          -2.866977299909799,
          -2.980100806700297,
          -2.7714046997534156,
          -2.856473366942228,
          -2.99604512369433,
          -2.882106205341939,
          -2.8628029021536117,
          -2.987294050428071,
          -2.8994283329991966,
          -2.7252472897459086,
          -2.7180886410553797,
          -2.740444202278539,
          -2.9451651195422706,
          -2.98935797746864,
          -2.996177877444298,
          -2.82004323652281,
          -2.9882375856231698,
          -3.0063883099246227,
          -2.742191221918869,
          -2.794489318409893,
          -2.969482560184116,
          -2.761223832024802,
          -2.9663836947291573,
          -2.9837257753935686,
          -2.9631437541157677,
          -2.7931948370967605,
          -2.8424525067342894,
          -2.9553155692668853,
          -2.9854243249069237,
          -2.9813662358890363,
          -2.743967116210035,
          -2.987838877456239,
          -2.944407337081691,
          -2.930792159209246,
          -2.990683291158036,
          -2.976992206425268,
          -3.005858536309826,
          -2.9732024525533336,
          -2.9632337707027347,
          -2.897692550460257,
          -3.0571435168482646,
          -2.9829685624171707,
          -2.7816115159128953,
          -2.7638495321071015,
          -2.7196013943716837,
          -2.947351594556459,
          -2.8501776473547515,
          -2.992154277067054,
          -2.9716913605090567,
          -2.9859045849911636,
          -2.9000278654364697,
          -2.9553155692668853,
          -2.912378073327927,
          -2.8773014432124793,
          -2.751430416471552,
          -2.858714926224543,
          -2.9137600338057656,
          -2.9232148629237744,
          -2.983880135883945,
          -2.9969307425213443,
          -2.981300471120738,
          -2.9954147660155357,
          -2.987866497465608,
          -2.74117338678881,
          -2.7180886410553797,
          -2.8950654298795726,
          -2.947351594556459,
          -2.9829685624171707,
          -2.980330913895465,
          -2.78648601801278,
          -2.960789372244374,
          -2.9217472582929975,
          -2.871800347056549,
          -2.9480639359174785,
          -2.8120974661859015,
          -2.837381256099737,
          -2.8640476485669484,
          -2.889301080209952,
          -2.8784187683967017,
          -2.730174051460244,
          -2.900712599687762,
          -2.935700172044926,
          -3.028309911077536,
          -2.83344204208912,
          -2.9792414649163828,
          -2.8706839239298754,
          -2.932413760277352,
          -2.97812117943629,
          -3.0318479330590553,
          -2.8769120722004455,
          -2.9938032171006355,
          -2.796085595806899,
          -2.747808882977331,
          -2.7445084439605307,
          -2.8878759174545987,
          -2.8561470182939996,
          -2.9600903994398693,
          -2.9729233549969334,
          -2.7505693005741354,
          -2.976992206425268,
          -2.936203134759719,
          -2.9064372735872914,
          -2.941167268599754,
          -2.8777257445014435,
          -2.947050887538326,
          -2.9426641246567136,
          -2.9859045849911636,
          -2.86061189754041,
          -2.860320981173698,
          -2.9662662111307925,
          -2.9465805315672626,
          -3.0323140531145283,
          -2.928357791199963,
          -3.0323140531145283,
          -2.848298920501172,
          -2.8121323138460963,
          -2.838922279332908,
          -2.8121323138460963,
          -2.7549122598825115,
          -3.0029093146955272,
          -2.8999356468209103,
          -3.0029093146955272,
          -2.8994580701678823,
          -2.8660996522717457,
          -2.8651654249932705,
          -2.770001472946819,
          -2.754084433996893,
          -2.941199316253274,
          -2.711801099705087,
          -2.982295267448238,
          -2.8564907556814036,
          -2.855142299687652,
          -2.8564907556814036,
          -2.7561301279427073,
          -2.9813946675959606,
          -2.98978842607609,
          -2.928357791199963,
          -2.928357791199963,
          -2.711801099705087,
          -2.9813946675959606,
          -2.9552951463190724,
          -2.7561301279427073,
          -2.9465805315672626,
          -2.770001472946819,
          -2.98978842607609,
          -2.8999356468209103,
          -2.855142299687652,
          -2.981651056897432,
          -2.919678816619778
         ],
         "name": "",
         "radius": 10,
         "subplot": "mapbox",
         "type": "densitymapbox",
         "z": [
          2,
          2,
          1,
          2,
          2,
          2,
          2,
          2,
          2,
          2,
          2,
          2,
          2,
          2,
          2,
          1,
          2,
          1,
          2,
          2,
          2,
          1,
          1,
          2,
          1,
          2,
          2,
          1,
          2,
          2,
          2,
          2,
          2,
          2,
          2,
          2,
          2,
          2,
          1,
          2,
          2,
          2,
          2,
          2,
          2,
          1,
          2,
          2,
          2,
          2,
          2,
          2,
          2,
          2,
          2,
          2,
          2,
          2,
          2,
          2,
          2,
          2,
          2,
          2,
          2,
          2,
          2,
          2,
          2,
          2,
          2,
          2,
          2,
          2,
          2,
          2,
          2,
          2,
          2,
          2,
          1,
          1,
          1,
          2,
          1,
          2,
          2,
          2,
          2,
          2,
          2,
          2,
          2,
          2,
          2,
          2,
          2,
          1,
          2,
          2,
          1,
          2,
          2,
          2,
          1,
          2,
          2,
          2,
          2,
          1,
          2,
          2,
          2,
          2,
          2,
          2,
          2,
          2,
          2,
          2,
          2,
          2,
          2,
          2,
          2,
          2,
          2,
          2,
          2,
          1,
          2,
          2,
          2,
          2,
          2,
          2,
          2,
          2,
          2,
          1,
          2,
          2,
          2,
          2,
          1,
          2,
          2,
          2,
          1,
          2,
          2,
          2,
          2,
          1,
          2,
          2,
          2,
          2,
          2,
          2,
          2,
          2,
          2,
          2,
          1,
          2,
          2,
          1,
          2,
          2,
          2,
          1,
          2,
          2,
          2,
          2,
          2,
          2,
          2,
          2,
          2,
          2,
          2,
          2,
          2,
          1,
          1,
          2,
          2,
          2,
          2,
          2,
          2,
          2,
          2,
          2,
          2,
          2,
          2,
          2,
          2,
          2,
          2,
          2,
          2,
          1,
          2,
          2,
          2,
          2,
          2,
          2,
          2,
          2,
          2,
          2,
          1,
          2,
          2,
          2,
          2,
          2,
          2,
          2,
          2,
          2,
          2,
          2,
          2,
          2,
          1,
          2,
          2,
          2,
          2,
          2,
          2,
          2,
          2,
          2,
          1,
          2,
          2,
          2,
          2,
          2,
          2,
          1,
          1,
          2,
          2,
          2,
          2,
          1,
          1,
          1,
          2,
          1,
          2,
          2,
          2,
          2,
          1,
          2,
          2,
          1,
          1
         ]
        }
       ],
       "layout": {
        "coloraxis": {
         "colorbar": {
          "title": {
           "text": "Overall Category"
          }
         },
         "colorscale": [
          [
           0,
           "#0d0887"
          ],
          [
           0.1111111111111111,
           "#46039f"
          ],
          [
           0.2222222222222222,
           "#7201a8"
          ],
          [
           0.3333333333333333,
           "#9c179e"
          ],
          [
           0.4444444444444444,
           "#bd3786"
          ],
          [
           0.5555555555555556,
           "#d8576b"
          ],
          [
           0.6666666666666666,
           "#ed7953"
          ],
          [
           0.7777777777777778,
           "#fb9f3a"
          ],
          [
           0.8888888888888888,
           "#fdca26"
          ],
          [
           1,
           "#f0f921"
          ]
         ]
        },
        "legend": {
         "tracegroupgap": 0
        },
        "mapbox": {
         "center": {
          "lat": 53.5,
          "lon": -2.9
         },
         "domain": {
          "x": [
           0,
           1
          ],
          "y": [
           0,
           1
          ]
         },
         "style": "open-street-map",
         "zoom": 8
        },
        "margin": {
         "t": 60
        },
        "template": {
         "data": {
          "bar": [
           {
            "error_x": {
             "color": "#2a3f5f"
            },
            "error_y": {
             "color": "#2a3f5f"
            },
            "marker": {
             "line": {
              "color": "#E5ECF6",
              "width": 0.5
             },
             "pattern": {
              "fillmode": "overlay",
              "size": 10,
              "solidity": 0.2
             }
            },
            "type": "bar"
           }
          ],
          "barpolar": [
           {
            "marker": {
             "line": {
              "color": "#E5ECF6",
              "width": 0.5
             },
             "pattern": {
              "fillmode": "overlay",
              "size": 10,
              "solidity": 0.2
             }
            },
            "type": "barpolar"
           }
          ],
          "carpet": [
           {
            "aaxis": {
             "endlinecolor": "#2a3f5f",
             "gridcolor": "white",
             "linecolor": "white",
             "minorgridcolor": "white",
             "startlinecolor": "#2a3f5f"
            },
            "baxis": {
             "endlinecolor": "#2a3f5f",
             "gridcolor": "white",
             "linecolor": "white",
             "minorgridcolor": "white",
             "startlinecolor": "#2a3f5f"
            },
            "type": "carpet"
           }
          ],
          "choropleth": [
           {
            "colorbar": {
             "outlinewidth": 0,
             "ticks": ""
            },
            "type": "choropleth"
           }
          ],
          "contour": [
           {
            "colorbar": {
             "outlinewidth": 0,
             "ticks": ""
            },
            "colorscale": [
             [
              0,
              "#0d0887"
             ],
             [
              0.1111111111111111,
              "#46039f"
             ],
             [
              0.2222222222222222,
              "#7201a8"
             ],
             [
              0.3333333333333333,
              "#9c179e"
             ],
             [
              0.4444444444444444,
              "#bd3786"
             ],
             [
              0.5555555555555556,
              "#d8576b"
             ],
             [
              0.6666666666666666,
              "#ed7953"
             ],
             [
              0.7777777777777778,
              "#fb9f3a"
             ],
             [
              0.8888888888888888,
              "#fdca26"
             ],
             [
              1,
              "#f0f921"
             ]
            ],
            "type": "contour"
           }
          ],
          "contourcarpet": [
           {
            "colorbar": {
             "outlinewidth": 0,
             "ticks": ""
            },
            "type": "contourcarpet"
           }
          ],
          "heatmap": [
           {
            "colorbar": {
             "outlinewidth": 0,
             "ticks": ""
            },
            "colorscale": [
             [
              0,
              "#0d0887"
             ],
             [
              0.1111111111111111,
              "#46039f"
             ],
             [
              0.2222222222222222,
              "#7201a8"
             ],
             [
              0.3333333333333333,
              "#9c179e"
             ],
             [
              0.4444444444444444,
              "#bd3786"
             ],
             [
              0.5555555555555556,
              "#d8576b"
             ],
             [
              0.6666666666666666,
              "#ed7953"
             ],
             [
              0.7777777777777778,
              "#fb9f3a"
             ],
             [
              0.8888888888888888,
              "#fdca26"
             ],
             [
              1,
              "#f0f921"
             ]
            ],
            "type": "heatmap"
           }
          ],
          "heatmapgl": [
           {
            "colorbar": {
             "outlinewidth": 0,
             "ticks": ""
            },
            "colorscale": [
             [
              0,
              "#0d0887"
             ],
             [
              0.1111111111111111,
              "#46039f"
             ],
             [
              0.2222222222222222,
              "#7201a8"
             ],
             [
              0.3333333333333333,
              "#9c179e"
             ],
             [
              0.4444444444444444,
              "#bd3786"
             ],
             [
              0.5555555555555556,
              "#d8576b"
             ],
             [
              0.6666666666666666,
              "#ed7953"
             ],
             [
              0.7777777777777778,
              "#fb9f3a"
             ],
             [
              0.8888888888888888,
              "#fdca26"
             ],
             [
              1,
              "#f0f921"
             ]
            ],
            "type": "heatmapgl"
           }
          ],
          "histogram": [
           {
            "marker": {
             "pattern": {
              "fillmode": "overlay",
              "size": 10,
              "solidity": 0.2
             }
            },
            "type": "histogram"
           }
          ],
          "histogram2d": [
           {
            "colorbar": {
             "outlinewidth": 0,
             "ticks": ""
            },
            "colorscale": [
             [
              0,
              "#0d0887"
             ],
             [
              0.1111111111111111,
              "#46039f"
             ],
             [
              0.2222222222222222,
              "#7201a8"
             ],
             [
              0.3333333333333333,
              "#9c179e"
             ],
             [
              0.4444444444444444,
              "#bd3786"
             ],
             [
              0.5555555555555556,
              "#d8576b"
             ],
             [
              0.6666666666666666,
              "#ed7953"
             ],
             [
              0.7777777777777778,
              "#fb9f3a"
             ],
             [
              0.8888888888888888,
              "#fdca26"
             ],
             [
              1,
              "#f0f921"
             ]
            ],
            "type": "histogram2d"
           }
          ],
          "histogram2dcontour": [
           {
            "colorbar": {
             "outlinewidth": 0,
             "ticks": ""
            },
            "colorscale": [
             [
              0,
              "#0d0887"
             ],
             [
              0.1111111111111111,
              "#46039f"
             ],
             [
              0.2222222222222222,
              "#7201a8"
             ],
             [
              0.3333333333333333,
              "#9c179e"
             ],
             [
              0.4444444444444444,
              "#bd3786"
             ],
             [
              0.5555555555555556,
              "#d8576b"
             ],
             [
              0.6666666666666666,
              "#ed7953"
             ],
             [
              0.7777777777777778,
              "#fb9f3a"
             ],
             [
              0.8888888888888888,
              "#fdca26"
             ],
             [
              1,
              "#f0f921"
             ]
            ],
            "type": "histogram2dcontour"
           }
          ],
          "mesh3d": [
           {
            "colorbar": {
             "outlinewidth": 0,
             "ticks": ""
            },
            "type": "mesh3d"
           }
          ],
          "parcoords": [
           {
            "line": {
             "colorbar": {
              "outlinewidth": 0,
              "ticks": ""
             }
            },
            "type": "parcoords"
           }
          ],
          "pie": [
           {
            "automargin": true,
            "type": "pie"
           }
          ],
          "scatter": [
           {
            "fillpattern": {
             "fillmode": "overlay",
             "size": 10,
             "solidity": 0.2
            },
            "type": "scatter"
           }
          ],
          "scatter3d": [
           {
            "line": {
             "colorbar": {
              "outlinewidth": 0,
              "ticks": ""
             }
            },
            "marker": {
             "colorbar": {
              "outlinewidth": 0,
              "ticks": ""
             }
            },
            "type": "scatter3d"
           }
          ],
          "scattercarpet": [
           {
            "marker": {
             "colorbar": {
              "outlinewidth": 0,
              "ticks": ""
             }
            },
            "type": "scattercarpet"
           }
          ],
          "scattergeo": [
           {
            "marker": {
             "colorbar": {
              "outlinewidth": 0,
              "ticks": ""
             }
            },
            "type": "scattergeo"
           }
          ],
          "scattergl": [
           {
            "marker": {
             "colorbar": {
              "outlinewidth": 0,
              "ticks": ""
             }
            },
            "type": "scattergl"
           }
          ],
          "scattermapbox": [
           {
            "marker": {
             "colorbar": {
              "outlinewidth": 0,
              "ticks": ""
             }
            },
            "type": "scattermapbox"
           }
          ],
          "scatterpolar": [
           {
            "marker": {
             "colorbar": {
              "outlinewidth": 0,
              "ticks": ""
             }
            },
            "type": "scatterpolar"
           }
          ],
          "scatterpolargl": [
           {
            "marker": {
             "colorbar": {
              "outlinewidth": 0,
              "ticks": ""
             }
            },
            "type": "scatterpolargl"
           }
          ],
          "scatterternary": [
           {
            "marker": {
             "colorbar": {
              "outlinewidth": 0,
              "ticks": ""
             }
            },
            "type": "scatterternary"
           }
          ],
          "surface": [
           {
            "colorbar": {
             "outlinewidth": 0,
             "ticks": ""
            },
            "colorscale": [
             [
              0,
              "#0d0887"
             ],
             [
              0.1111111111111111,
              "#46039f"
             ],
             [
              0.2222222222222222,
              "#7201a8"
             ],
             [
              0.3333333333333333,
              "#9c179e"
             ],
             [
              0.4444444444444444,
              "#bd3786"
             ],
             [
              0.5555555555555556,
              "#d8576b"
             ],
             [
              0.6666666666666666,
              "#ed7953"
             ],
             [
              0.7777777777777778,
              "#fb9f3a"
             ],
             [
              0.8888888888888888,
              "#fdca26"
             ],
             [
              1,
              "#f0f921"
             ]
            ],
            "type": "surface"
           }
          ],
          "table": [
           {
            "cells": {
             "fill": {
              "color": "#EBF0F8"
             },
             "line": {
              "color": "white"
             }
            },
            "header": {
             "fill": {
              "color": "#C8D4E3"
             },
             "line": {
              "color": "white"
             }
            },
            "type": "table"
           }
          ]
         },
         "layout": {
          "annotationdefaults": {
           "arrowcolor": "#2a3f5f",
           "arrowhead": 0,
           "arrowwidth": 1
          },
          "autotypenumbers": "strict",
          "coloraxis": {
           "colorbar": {
            "outlinewidth": 0,
            "ticks": ""
           }
          },
          "colorscale": {
           "diverging": [
            [
             0,
             "#8e0152"
            ],
            [
             0.1,
             "#c51b7d"
            ],
            [
             0.2,
             "#de77ae"
            ],
            [
             0.3,
             "#f1b6da"
            ],
            [
             0.4,
             "#fde0ef"
            ],
            [
             0.5,
             "#f7f7f7"
            ],
            [
             0.6,
             "#e6f5d0"
            ],
            [
             0.7,
             "#b8e186"
            ],
            [
             0.8,
             "#7fbc41"
            ],
            [
             0.9,
             "#4d9221"
            ],
            [
             1,
             "#276419"
            ]
           ],
           "sequential": [
            [
             0,
             "#0d0887"
            ],
            [
             0.1111111111111111,
             "#46039f"
            ],
            [
             0.2222222222222222,
             "#7201a8"
            ],
            [
             0.3333333333333333,
             "#9c179e"
            ],
            [
             0.4444444444444444,
             "#bd3786"
            ],
            [
             0.5555555555555556,
             "#d8576b"
            ],
            [
             0.6666666666666666,
             "#ed7953"
            ],
            [
             0.7777777777777778,
             "#fb9f3a"
            ],
            [
             0.8888888888888888,
             "#fdca26"
            ],
            [
             1,
             "#f0f921"
            ]
           ],
           "sequentialminus": [
            [
             0,
             "#0d0887"
            ],
            [
             0.1111111111111111,
             "#46039f"
            ],
            [
             0.2222222222222222,
             "#7201a8"
            ],
            [
             0.3333333333333333,
             "#9c179e"
            ],
            [
             0.4444444444444444,
             "#bd3786"
            ],
            [
             0.5555555555555556,
             "#d8576b"
            ],
            [
             0.6666666666666666,
             "#ed7953"
            ],
            [
             0.7777777777777778,
             "#fb9f3a"
            ],
            [
             0.8888888888888888,
             "#fdca26"
            ],
            [
             1,
             "#f0f921"
            ]
           ]
          },
          "colorway": [
           "#636efa",
           "#EF553B",
           "#00cc96",
           "#ab63fa",
           "#FFA15A",
           "#19d3f3",
           "#FF6692",
           "#B6E880",
           "#FF97FF",
           "#FECB52"
          ],
          "font": {
           "color": "#2a3f5f"
          },
          "geo": {
           "bgcolor": "white",
           "lakecolor": "white",
           "landcolor": "#E5ECF6",
           "showlakes": true,
           "showland": true,
           "subunitcolor": "white"
          },
          "hoverlabel": {
           "align": "left"
          },
          "hovermode": "closest",
          "mapbox": {
           "style": "light"
          },
          "paper_bgcolor": "white",
          "plot_bgcolor": "#E5ECF6",
          "polar": {
           "angularaxis": {
            "gridcolor": "white",
            "linecolor": "white",
            "ticks": ""
           },
           "bgcolor": "#E5ECF6",
           "radialaxis": {
            "gridcolor": "white",
            "linecolor": "white",
            "ticks": ""
           }
          },
          "scene": {
           "xaxis": {
            "backgroundcolor": "#E5ECF6",
            "gridcolor": "white",
            "gridwidth": 2,
            "linecolor": "white",
            "showbackground": true,
            "ticks": "",
            "zerolinecolor": "white"
           },
           "yaxis": {
            "backgroundcolor": "#E5ECF6",
            "gridcolor": "white",
            "gridwidth": 2,
            "linecolor": "white",
            "showbackground": true,
            "ticks": "",
            "zerolinecolor": "white"
           },
           "zaxis": {
            "backgroundcolor": "#E5ECF6",
            "gridcolor": "white",
            "gridwidth": 2,
            "linecolor": "white",
            "showbackground": true,
            "ticks": "",
            "zerolinecolor": "white"
           }
          },
          "shapedefaults": {
           "line": {
            "color": "#2a3f5f"
           }
          },
          "ternary": {
           "aaxis": {
            "gridcolor": "white",
            "linecolor": "white",
            "ticks": ""
           },
           "baxis": {
            "gridcolor": "white",
            "linecolor": "white",
            "ticks": ""
           },
           "bgcolor": "#E5ECF6",
           "caxis": {
            "gridcolor": "white",
            "linecolor": "white",
            "ticks": ""
           }
          },
          "title": {
           "x": 0.05
          },
          "xaxis": {
           "automargin": true,
           "gridcolor": "white",
           "linecolor": "white",
           "ticks": "",
           "title": {
            "standoff": 15
           },
           "zerolinecolor": "white",
           "zerolinewidth": 2
          },
          "yaxis": {
           "automargin": true,
           "gridcolor": "white",
           "linecolor": "white",
           "ticks": "",
           "title": {
            "standoff": 15
           },
           "zerolinecolor": "white",
           "zerolinewidth": 2
          }
         }
        }
       }
      }
     },
     "metadata": {},
     "output_type": "display_data"
    }
   ],
   "source": [
    "import plotly.express as px\n",
    "\n",
    "fig = px.density_mapbox(df_sub.replace({'RED':2, 'AMBER':1}), lat='lat', lon='long', z='Overall Category', radius=10,\n",
    "                        center=dict(lat=53.5, lon=-2.9), zoom=8, hover_name='Substation Name',\n",
    "                        mapbox_style=\"open-street-map\")\n",
    "fig.show()"
   ]
  },
  {
   "cell_type": "markdown",
   "metadata": {},
   "source": [
    "## flows"
   ]
  },
  {
   "cell_type": "code",
   "execution_count": 14,
   "metadata": {},
   "outputs": [
    {
     "data": {
      "text/html": [
       "<div>\n",
       "<style scoped>\n",
       "    .dataframe tbody tr th:only-of-type {\n",
       "        vertical-align: middle;\n",
       "    }\n",
       "\n",
       "    .dataframe tbody tr th {\n",
       "        vertical-align: top;\n",
       "    }\n",
       "\n",
       "    .dataframe thead th {\n",
       "        text-align: right;\n",
       "    }\n",
       "</style>\n",
       "<table border=\"1\" class=\"dataframe\">\n",
       "  <thead>\n",
       "    <tr style=\"text-align: right;\">\n",
       "      <th></th>\n",
       "      <th>timestamp</th>\n",
       "      <th>time_zone_offset</th>\n",
       "      <th>net_mw</th>\n",
       "      <th>net_amps</th>\n",
       "      <th>net_mvar</th>\n",
       "      <th>filter_mw</th>\n",
       "      <th>filter_amp</th>\n",
       "      <th>filter_mvar</th>\n",
       "      <th>filtered_manual_int</th>\n",
       "      <th>generation_output_mw</th>\n",
       "      <th>underlying_demand_mw</th>\n",
       "      <th>group_id</th>\n",
       "      <th>service_area</th>\n",
       "      <th>district</th>\n",
       "      <th>group_name</th>\n",
       "      <th>voltage</th>\n",
       "    </tr>\n",
       "  </thead>\n",
       "  <tbody>\n",
       "    <tr>\n",
       "      <th>0</th>\n",
       "      <td>2023-12-30 05:30:00</td>\n",
       "      <td>0</td>\n",
       "      <td>4.410</td>\n",
       "      <td>0.0</td>\n",
       "      <td>0.609</td>\n",
       "      <td>NaN</td>\n",
       "      <td>NaN</td>\n",
       "      <td>NaN</td>\n",
       "      <td>None</td>\n",
       "      <td>0.0</td>\n",
       "      <td>4.410</td>\n",
       "      <td>91025</td>\n",
       "      <td>SPM</td>\n",
       "      <td>Merseyside</td>\n",
       "      <td>ATHOL ST T1 / CHISENHALE ST T1 / SANDHILLS LA T1</td>\n",
       "      <td>HV</td>\n",
       "    </tr>\n",
       "    <tr>\n",
       "      <th>1</th>\n",
       "      <td>2023-12-30 06:00:00</td>\n",
       "      <td>0</td>\n",
       "      <td>4.398</td>\n",
       "      <td>0.0</td>\n",
       "      <td>0.609</td>\n",
       "      <td>NaN</td>\n",
       "      <td>NaN</td>\n",
       "      <td>NaN</td>\n",
       "      <td>None</td>\n",
       "      <td>0.0</td>\n",
       "      <td>4.398</td>\n",
       "      <td>91025</td>\n",
       "      <td>SPM</td>\n",
       "      <td>Merseyside</td>\n",
       "      <td>ATHOL ST T1 / CHISENHALE ST T1 / SANDHILLS LA T1</td>\n",
       "      <td>HV</td>\n",
       "    </tr>\n",
       "    <tr>\n",
       "      <th>2</th>\n",
       "      <td>2023-12-30 06:30:00</td>\n",
       "      <td>0</td>\n",
       "      <td>4.323</td>\n",
       "      <td>0.0</td>\n",
       "      <td>0.149</td>\n",
       "      <td>NaN</td>\n",
       "      <td>NaN</td>\n",
       "      <td>NaN</td>\n",
       "      <td>None</td>\n",
       "      <td>0.0</td>\n",
       "      <td>4.323</td>\n",
       "      <td>91025</td>\n",
       "      <td>SPM</td>\n",
       "      <td>Merseyside</td>\n",
       "      <td>ATHOL ST T1 / CHISENHALE ST T1 / SANDHILLS LA T1</td>\n",
       "      <td>HV</td>\n",
       "    </tr>\n",
       "    <tr>\n",
       "      <th>3</th>\n",
       "      <td>2023-12-30 07:00:00</td>\n",
       "      <td>0</td>\n",
       "      <td>4.323</td>\n",
       "      <td>0.0</td>\n",
       "      <td>0.141</td>\n",
       "      <td>NaN</td>\n",
       "      <td>NaN</td>\n",
       "      <td>NaN</td>\n",
       "      <td>None</td>\n",
       "      <td>0.0</td>\n",
       "      <td>4.323</td>\n",
       "      <td>91025</td>\n",
       "      <td>SPM</td>\n",
       "      <td>Merseyside</td>\n",
       "      <td>ATHOL ST T1 / CHISENHALE ST T1 / SANDHILLS LA T1</td>\n",
       "      <td>HV</td>\n",
       "    </tr>\n",
       "    <tr>\n",
       "      <th>4</th>\n",
       "      <td>2023-12-30 07:30:00</td>\n",
       "      <td>0</td>\n",
       "      <td>4.481</td>\n",
       "      <td>0.0</td>\n",
       "      <td>0.117</td>\n",
       "      <td>NaN</td>\n",
       "      <td>NaN</td>\n",
       "      <td>NaN</td>\n",
       "      <td>None</td>\n",
       "      <td>0.0</td>\n",
       "      <td>4.481</td>\n",
       "      <td>91025</td>\n",
       "      <td>SPM</td>\n",
       "      <td>Merseyside</td>\n",
       "      <td>ATHOL ST T1 / CHISENHALE ST T1 / SANDHILLS LA T1</td>\n",
       "      <td>HV</td>\n",
       "    </tr>\n",
       "  </tbody>\n",
       "</table>\n",
       "</div>"
      ],
      "text/plain": [
       "            timestamp  time_zone_offset  net_mw  net_amps  net_mvar  \\\n",
       "0 2023-12-30 05:30:00                 0   4.410       0.0     0.609   \n",
       "1 2023-12-30 06:00:00                 0   4.398       0.0     0.609   \n",
       "2 2023-12-30 06:30:00                 0   4.323       0.0     0.149   \n",
       "3 2023-12-30 07:00:00                 0   4.323       0.0     0.141   \n",
       "4 2023-12-30 07:30:00                 0   4.481       0.0     0.117   \n",
       "\n",
       "   filter_mw  filter_amp  filter_mvar filtered_manual_int  \\\n",
       "0        NaN         NaN          NaN                None   \n",
       "1        NaN         NaN          NaN                None   \n",
       "2        NaN         NaN          NaN                None   \n",
       "3        NaN         NaN          NaN                None   \n",
       "4        NaN         NaN          NaN                None   \n",
       "\n",
       "   generation_output_mw  underlying_demand_mw group_id service_area  \\\n",
       "0                   0.0                 4.410    91025          SPM   \n",
       "1                   0.0                 4.398    91025          SPM   \n",
       "2                   0.0                 4.323    91025          SPM   \n",
       "3                   0.0                 4.323    91025          SPM   \n",
       "4                   0.0                 4.481    91025          SPM   \n",
       "\n",
       "     district                                        group_name voltage  \n",
       "0  Merseyside  ATHOL ST T1 / CHISENHALE ST T1 / SANDHILLS LA T1      HV  \n",
       "1  Merseyside  ATHOL ST T1 / CHISENHALE ST T1 / SANDHILLS LA T1      HV  \n",
       "2  Merseyside  ATHOL ST T1 / CHISENHALE ST T1 / SANDHILLS LA T1      HV  \n",
       "3  Merseyside  ATHOL ST T1 / CHISENHALE ST T1 / SANDHILLS LA T1      HV  \n",
       "4  Merseyside  ATHOL ST T1 / CHISENHALE ST T1 / SANDHILLS LA T1      HV  "
      ]
     },
     "execution_count": 14,
     "metadata": {},
     "output_type": "execute_result"
    }
   ],
   "source": [
    "df_flow = pd.read_parquet('flow.parquet')\n",
    "df_flow.head()"
   ]
  },
  {
   "cell_type": "code",
   "execution_count": 15,
   "metadata": {},
   "outputs": [
    {
     "name": "stdout",
     "output_type": "stream",
     "text": [
      "<class 'pandas.core.frame.DataFrame'>\n",
      "Int64Index: 1623175 entries, 0 to 1623174\n",
      "Data columns (total 16 columns):\n",
      " #   Column                Non-Null Count    Dtype         \n",
      "---  ------                --------------    -----         \n",
      " 0   timestamp             1623175 non-null  datetime64[ns]\n",
      " 1   time_zone_offset      1623175 non-null  int64         \n",
      " 2   net_mw                1623175 non-null  float64       \n",
      " 3   net_amps              1623175 non-null  float64       \n",
      " 4   net_mvar              1623175 non-null  float64       \n",
      " 5   filter_mw             216031 non-null   float64       \n",
      " 6   filter_amp            216031 non-null   float64       \n",
      " 7   filter_mvar           216031 non-null   float64       \n",
      " 8   filtered_manual_int   107867 non-null   object        \n",
      " 9   generation_output_mw  1623175 non-null  float64       \n",
      " 10  underlying_demand_mw  1623175 non-null  float64       \n",
      " 11  group_id              1623175 non-null  object        \n",
      " 12  service_area          1623175 non-null  object        \n",
      " 13  district              1623175 non-null  object        \n",
      " 14  group_name            1623175 non-null  object        \n",
      " 15  voltage               1623175 non-null  object        \n",
      "dtypes: datetime64[ns](1), float64(8), int64(1), object(6)\n",
      "memory usage: 210.5+ MB\n"
     ]
    }
   ],
   "source": [
    "df_flow_m = df_flow.query('district == \"Merseyside\"')\n",
    "df_flow_m.info()"
   ]
  },
  {
   "cell_type": "markdown",
   "metadata": {},
   "source": [
    "# KPIs\n",
    "recheck kpi sums with actual data"
   ]
  },
  {
   "cell_type": "code",
   "execution_count": 16,
   "metadata": {},
   "outputs": [],
   "source": [
    "df_flow_m['date'] = pd.to_datetime(df_flow_m['timestamp'].dt.date)\n",
    "df_flow_m['time'] = df_flow_m['timestamp'].dt.time"
   ]
  },
  {
   "cell_type": "markdown",
   "metadata": {},
   "source": [
    "## hourly"
   ]
  },
  {
   "cell_type": "code",
   "execution_count": 17,
   "metadata": {},
   "outputs": [
    {
     "data": {
      "text/html": [
       "<div>\n",
       "<style scoped>\n",
       "    .dataframe tbody tr th:only-of-type {\n",
       "        vertical-align: middle;\n",
       "    }\n",
       "\n",
       "    .dataframe tbody tr th {\n",
       "        vertical-align: top;\n",
       "    }\n",
       "\n",
       "    .dataframe thead th {\n",
       "        text-align: right;\n",
       "    }\n",
       "</style>\n",
       "<table border=\"1\" class=\"dataframe\">\n",
       "  <thead>\n",
       "    <tr style=\"text-align: right;\">\n",
       "      <th></th>\n",
       "      <th>time</th>\n",
       "      <th>net_mw</th>\n",
       "    </tr>\n",
       "  </thead>\n",
       "  <tbody>\n",
       "    <tr>\n",
       "      <th>0</th>\n",
       "      <td>00:00:00</td>\n",
       "      <td>13.509179</td>\n",
       "    </tr>\n",
       "    <tr>\n",
       "      <th>1</th>\n",
       "      <td>00:30:00</td>\n",
       "      <td>13.041242</td>\n",
       "    </tr>\n",
       "    <tr>\n",
       "      <th>2</th>\n",
       "      <td>01:00:00</td>\n",
       "      <td>12.480051</td>\n",
       "    </tr>\n",
       "    <tr>\n",
       "      <th>3</th>\n",
       "      <td>01:30:00</td>\n",
       "      <td>12.183608</td>\n",
       "    </tr>\n",
       "    <tr>\n",
       "      <th>4</th>\n",
       "      <td>02:00:00</td>\n",
       "      <td>11.848141</td>\n",
       "    </tr>\n",
       "    <tr>\n",
       "      <th>5</th>\n",
       "      <td>02:30:00</td>\n",
       "      <td>11.648733</td>\n",
       "    </tr>\n",
       "    <tr>\n",
       "      <th>6</th>\n",
       "      <td>03:00:00</td>\n",
       "      <td>11.344038</td>\n",
       "    </tr>\n",
       "    <tr>\n",
       "      <th>7</th>\n",
       "      <td>03:30:00</td>\n",
       "      <td>11.011296</td>\n",
       "    </tr>\n",
       "    <tr>\n",
       "      <th>8</th>\n",
       "      <td>04:00:00</td>\n",
       "      <td>10.240930</td>\n",
       "    </tr>\n",
       "    <tr>\n",
       "      <th>9</th>\n",
       "      <td>04:30:00</td>\n",
       "      <td>10.758778</td>\n",
       "    </tr>\n",
       "    <tr>\n",
       "      <th>10</th>\n",
       "      <td>05:00:00</td>\n",
       "      <td>10.786240</td>\n",
       "    </tr>\n",
       "    <tr>\n",
       "      <th>11</th>\n",
       "      <td>05:30:00</td>\n",
       "      <td>10.796651</td>\n",
       "    </tr>\n",
       "    <tr>\n",
       "      <th>12</th>\n",
       "      <td>06:00:00</td>\n",
       "      <td>10.910952</td>\n",
       "    </tr>\n",
       "    <tr>\n",
       "      <th>13</th>\n",
       "      <td>06:30:00</td>\n",
       "      <td>11.249883</td>\n",
       "    </tr>\n",
       "    <tr>\n",
       "      <th>14</th>\n",
       "      <td>07:00:00</td>\n",
       "      <td>12.042145</td>\n",
       "    </tr>\n",
       "    <tr>\n",
       "      <th>15</th>\n",
       "      <td>07:30:00</td>\n",
       "      <td>12.778583</td>\n",
       "    </tr>\n",
       "    <tr>\n",
       "      <th>16</th>\n",
       "      <td>08:00:00</td>\n",
       "      <td>13.851054</td>\n",
       "    </tr>\n",
       "    <tr>\n",
       "      <th>17</th>\n",
       "      <td>08:30:00</td>\n",
       "      <td>14.612358</td>\n",
       "    </tr>\n",
       "    <tr>\n",
       "      <th>18</th>\n",
       "      <td>09:00:00</td>\n",
       "      <td>15.422830</td>\n",
       "    </tr>\n",
       "    <tr>\n",
       "      <th>19</th>\n",
       "      <td>09:30:00</td>\n",
       "      <td>15.953667</td>\n",
       "    </tr>\n",
       "    <tr>\n",
       "      <th>20</th>\n",
       "      <td>10:00:00</td>\n",
       "      <td>16.564941</td>\n",
       "    </tr>\n",
       "    <tr>\n",
       "      <th>21</th>\n",
       "      <td>10:30:00</td>\n",
       "      <td>16.853758</td>\n",
       "    </tr>\n",
       "    <tr>\n",
       "      <th>22</th>\n",
       "      <td>11:00:00</td>\n",
       "      <td>17.177842</td>\n",
       "    </tr>\n",
       "    <tr>\n",
       "      <th>23</th>\n",
       "      <td>11:30:00</td>\n",
       "      <td>17.309953</td>\n",
       "    </tr>\n",
       "    <tr>\n",
       "      <th>24</th>\n",
       "      <td>12:00:00</td>\n",
       "      <td>17.444720</td>\n",
       "    </tr>\n",
       "    <tr>\n",
       "      <th>25</th>\n",
       "      <td>12:30:00</td>\n",
       "      <td>17.519165</td>\n",
       "    </tr>\n",
       "    <tr>\n",
       "      <th>26</th>\n",
       "      <td>13:00:00</td>\n",
       "      <td>17.536942</td>\n",
       "    </tr>\n",
       "    <tr>\n",
       "      <th>27</th>\n",
       "      <td>13:30:00</td>\n",
       "      <td>17.533492</td>\n",
       "    </tr>\n",
       "    <tr>\n",
       "      <th>28</th>\n",
       "      <td>14:00:00</td>\n",
       "      <td>17.362054</td>\n",
       "    </tr>\n",
       "    <tr>\n",
       "      <th>29</th>\n",
       "      <td>14:30:00</td>\n",
       "      <td>17.276043</td>\n",
       "    </tr>\n",
       "    <tr>\n",
       "      <th>30</th>\n",
       "      <td>15:00:00</td>\n",
       "      <td>17.141408</td>\n",
       "    </tr>\n",
       "    <tr>\n",
       "      <th>31</th>\n",
       "      <td>15:30:00</td>\n",
       "      <td>17.054221</td>\n",
       "    </tr>\n",
       "    <tr>\n",
       "      <th>32</th>\n",
       "      <td>16:00:00</td>\n",
       "      <td>17.134240</td>\n",
       "    </tr>\n",
       "    <tr>\n",
       "      <th>33</th>\n",
       "      <td>16:30:00</td>\n",
       "      <td>17.278490</td>\n",
       "    </tr>\n",
       "    <tr>\n",
       "      <th>34</th>\n",
       "      <td>17:00:00</td>\n",
       "      <td>17.600435</td>\n",
       "    </tr>\n",
       "    <tr>\n",
       "      <th>35</th>\n",
       "      <td>17:30:00</td>\n",
       "      <td>17.843536</td>\n",
       "    </tr>\n",
       "    <tr>\n",
       "      <th>36</th>\n",
       "      <td>18:00:00</td>\n",
       "      <td>18.134054</td>\n",
       "    </tr>\n",
       "    <tr>\n",
       "      <th>37</th>\n",
       "      <td>18:30:00</td>\n",
       "      <td>18.233662</td>\n",
       "    </tr>\n",
       "    <tr>\n",
       "      <th>38</th>\n",
       "      <td>19:00:00</td>\n",
       "      <td>18.121644</td>\n",
       "    </tr>\n",
       "    <tr>\n",
       "      <th>39</th>\n",
       "      <td>19:30:00</td>\n",
       "      <td>17.967189</td>\n",
       "    </tr>\n",
       "    <tr>\n",
       "      <th>40</th>\n",
       "      <td>20:00:00</td>\n",
       "      <td>17.700665</td>\n",
       "    </tr>\n",
       "    <tr>\n",
       "      <th>41</th>\n",
       "      <td>20:30:00</td>\n",
       "      <td>17.468315</td>\n",
       "    </tr>\n",
       "    <tr>\n",
       "      <th>42</th>\n",
       "      <td>21:00:00</td>\n",
       "      <td>17.081112</td>\n",
       "    </tr>\n",
       "    <tr>\n",
       "      <th>43</th>\n",
       "      <td>21:30:00</td>\n",
       "      <td>16.762702</td>\n",
       "    </tr>\n",
       "    <tr>\n",
       "      <th>44</th>\n",
       "      <td>22:00:00</td>\n",
       "      <td>16.169055</td>\n",
       "    </tr>\n",
       "    <tr>\n",
       "      <th>45</th>\n",
       "      <td>22:30:00</td>\n",
       "      <td>15.695576</td>\n",
       "    </tr>\n",
       "    <tr>\n",
       "      <th>46</th>\n",
       "      <td>23:00:00</td>\n",
       "      <td>14.862859</td>\n",
       "    </tr>\n",
       "    <tr>\n",
       "      <th>47</th>\n",
       "      <td>23:30:00</td>\n",
       "      <td>14.366362</td>\n",
       "    </tr>\n",
       "  </tbody>\n",
       "</table>\n",
       "</div>"
      ],
      "text/plain": [
       "        time     net_mw\n",
       "0   00:00:00  13.509179\n",
       "1   00:30:00  13.041242\n",
       "2   01:00:00  12.480051\n",
       "3   01:30:00  12.183608\n",
       "4   02:00:00  11.848141\n",
       "5   02:30:00  11.648733\n",
       "6   03:00:00  11.344038\n",
       "7   03:30:00  11.011296\n",
       "8   04:00:00  10.240930\n",
       "9   04:30:00  10.758778\n",
       "10  05:00:00  10.786240\n",
       "11  05:30:00  10.796651\n",
       "12  06:00:00  10.910952\n",
       "13  06:30:00  11.249883\n",
       "14  07:00:00  12.042145\n",
       "15  07:30:00  12.778583\n",
       "16  08:00:00  13.851054\n",
       "17  08:30:00  14.612358\n",
       "18  09:00:00  15.422830\n",
       "19  09:30:00  15.953667\n",
       "20  10:00:00  16.564941\n",
       "21  10:30:00  16.853758\n",
       "22  11:00:00  17.177842\n",
       "23  11:30:00  17.309953\n",
       "24  12:00:00  17.444720\n",
       "25  12:30:00  17.519165\n",
       "26  13:00:00  17.536942\n",
       "27  13:30:00  17.533492\n",
       "28  14:00:00  17.362054\n",
       "29  14:30:00  17.276043\n",
       "30  15:00:00  17.141408\n",
       "31  15:30:00  17.054221\n",
       "32  16:00:00  17.134240\n",
       "33  16:30:00  17.278490\n",
       "34  17:00:00  17.600435\n",
       "35  17:30:00  17.843536\n",
       "36  18:00:00  18.134054\n",
       "37  18:30:00  18.233662\n",
       "38  19:00:00  18.121644\n",
       "39  19:30:00  17.967189\n",
       "40  20:00:00  17.700665\n",
       "41  20:30:00  17.468315\n",
       "42  21:00:00  17.081112\n",
       "43  21:30:00  16.762702\n",
       "44  22:00:00  16.169055\n",
       "45  22:30:00  15.695576\n",
       "46  23:00:00  14.862859\n",
       "47  23:30:00  14.366362"
      ]
     },
     "execution_count": 17,
     "metadata": {},
     "output_type": "execute_result"
    }
   ],
   "source": [
    "df_flow_hr = df_flow_m.groupby('time')['net_mw'].mean().reset_index()\n",
    "df_flow_hr"
   ]
  },
  {
   "cell_type": "code",
   "execution_count": 18,
   "metadata": {},
   "outputs": [
    {
     "data": {
      "image/png": "[encoded data removed]",
      "text/plain": [
       "<Figure size 1152x432 with 1 Axes>"
      ]
     },
     "metadata": {
      "needs_background": "light"
     },
     "output_type": "display_data"
    }
   ],
   "source": [
    "import matplotlib.pyplot as plt\n",
    "\n",
    "plt.figure(figsize=(16, 6))  # Set plot size\n",
    "plt.plot(df_flow_hr['time'].astype('str'), df_flow_hr['net_mw'], marker='o')\n",
    "plt.xlabel('Hours')\n",
    "plt.ylabel('Total Flow')\n",
    "plt.title('Half Hourly Flow')\n",
    "plt.xticks(rotation=45)  # Rotate x-axis labels for better readability\n",
    "plt.grid(True)\n",
    "plt.tight_layout()"
   ]
  },
  {
   "cell_type": "markdown",
   "metadata": {},
   "source": [
    "## Peak Demands"
   ]
  },
  {
   "cell_type": "code",
   "execution_count": 19,
   "metadata": {},
   "outputs": [
    {
     "data": {
      "text/html": [
       "<div>\n",
       "<style scoped>\n",
       "    .dataframe tbody tr th:only-of-type {\n",
       "        vertical-align: middle;\n",
       "    }\n",
       "\n",
       "    .dataframe tbody tr th {\n",
       "        vertical-align: top;\n",
       "    }\n",
       "\n",
       "    .dataframe thead th {\n",
       "        text-align: right;\n",
       "    }\n",
       "</style>\n",
       "<table border=\"1\" class=\"dataframe\">\n",
       "  <thead>\n",
       "    <tr style=\"text-align: right;\">\n",
       "      <th></th>\n",
       "      <th>date</th>\n",
       "      <th>max</th>\n",
       "      <th>min</th>\n",
       "    </tr>\n",
       "  </thead>\n",
       "  <tbody>\n",
       "    <tr>\n",
       "      <th>0</th>\n",
       "      <td>2023-09-01</td>\n",
       "      <td>230.777</td>\n",
       "      <td>0.000</td>\n",
       "    </tr>\n",
       "    <tr>\n",
       "      <th>1</th>\n",
       "      <td>2023-09-02</td>\n",
       "      <td>213.173</td>\n",
       "      <td>0.000</td>\n",
       "    </tr>\n",
       "    <tr>\n",
       "      <th>2</th>\n",
       "      <td>2023-09-03</td>\n",
       "      <td>225.336</td>\n",
       "      <td>0.000</td>\n",
       "    </tr>\n",
       "    <tr>\n",
       "      <th>3</th>\n",
       "      <td>2023-09-04</td>\n",
       "      <td>240.286</td>\n",
       "      <td>0.000</td>\n",
       "    </tr>\n",
       "    <tr>\n",
       "      <th>4</th>\n",
       "      <td>2023-09-05</td>\n",
       "      <td>251.199</td>\n",
       "      <td>0.000</td>\n",
       "    </tr>\n",
       "    <tr>\n",
       "      <th>...</th>\n",
       "      <td>...</td>\n",
       "      <td>...</td>\n",
       "      <td>...</td>\n",
       "    </tr>\n",
       "    <tr>\n",
       "      <th>369</th>\n",
       "      <td>2024-09-04</td>\n",
       "      <td>240.851</td>\n",
       "      <td>0.000</td>\n",
       "    </tr>\n",
       "    <tr>\n",
       "      <th>370</th>\n",
       "      <td>2024-09-05</td>\n",
       "      <td>237.311</td>\n",
       "      <td>0.000</td>\n",
       "    </tr>\n",
       "    <tr>\n",
       "      <th>371</th>\n",
       "      <td>2024-09-06</td>\n",
       "      <td>224.345</td>\n",
       "      <td>0.000</td>\n",
       "    </tr>\n",
       "    <tr>\n",
       "      <th>372</th>\n",
       "      <td>2024-09-07</td>\n",
       "      <td>206.432</td>\n",
       "      <td>0.000</td>\n",
       "    </tr>\n",
       "    <tr>\n",
       "      <th>373</th>\n",
       "      <td>2024-09-08</td>\n",
       "      <td>178.700</td>\n",
       "      <td>0.086</td>\n",
       "    </tr>\n",
       "  </tbody>\n",
       "</table>\n",
       "<p>374 rows × 3 columns</p>\n",
       "</div>"
      ],
      "text/plain": [
       "          date      max    min\n",
       "0   2023-09-01  230.777  0.000\n",
       "1   2023-09-02  213.173  0.000\n",
       "2   2023-09-03  225.336  0.000\n",
       "3   2023-09-04  240.286  0.000\n",
       "4   2023-09-05  251.199  0.000\n",
       "..         ...      ...    ...\n",
       "369 2024-09-04  240.851  0.000\n",
       "370 2024-09-05  237.311  0.000\n",
       "371 2024-09-06  224.345  0.000\n",
       "372 2024-09-07  206.432  0.000\n",
       "373 2024-09-08  178.700  0.086\n",
       "\n",
       "[374 rows x 3 columns]"
      ]
     },
     "execution_count": 19,
     "metadata": {},
     "output_type": "execute_result"
    }
   ],
   "source": [
    "df_flow_dm = df_flow_m.groupby('date')['underlying_demand_mw'].agg(['max','min']).reset_index()\n",
    "df_flow_dm"
   ]
  },
  {
   "cell_type": "code",
   "execution_count": 20,
   "metadata": {},
   "outputs": [
    {
     "data": {
      "text/html": [
       "<div>\n",
       "<style scoped>\n",
       "    .dataframe tbody tr th:only-of-type {\n",
       "        vertical-align: middle;\n",
       "    }\n",
       "\n",
       "    .dataframe tbody tr th {\n",
       "        vertical-align: top;\n",
       "    }\n",
       "\n",
       "    .dataframe thead th {\n",
       "        text-align: right;\n",
       "    }\n",
       "</style>\n",
       "<table border=\"1\" class=\"dataframe\">\n",
       "  <thead>\n",
       "    <tr style=\"text-align: right;\">\n",
       "      <th></th>\n",
       "      <th>day</th>\n",
       "      <th>net_mw</th>\n",
       "    </tr>\n",
       "  </thead>\n",
       "  <tbody>\n",
       "    <tr>\n",
       "      <th>0</th>\n",
       "      <td>Friday</td>\n",
       "      <td>66213.029574</td>\n",
       "    </tr>\n",
       "    <tr>\n",
       "      <th>1</th>\n",
       "      <td>Monday</td>\n",
       "      <td>66663.810642</td>\n",
       "    </tr>\n",
       "    <tr>\n",
       "      <th>2</th>\n",
       "      <td>Saturday</td>\n",
       "      <td>62544.268167</td>\n",
       "    </tr>\n",
       "    <tr>\n",
       "      <th>3</th>\n",
       "      <td>Sunday</td>\n",
       "      <td>59530.383759</td>\n",
       "    </tr>\n",
       "    <tr>\n",
       "      <th>4</th>\n",
       "      <td>Thursday</td>\n",
       "      <td>67984.103660</td>\n",
       "    </tr>\n",
       "    <tr>\n",
       "      <th>5</th>\n",
       "      <td>Tuesday</td>\n",
       "      <td>67930.452113</td>\n",
       "    </tr>\n",
       "    <tr>\n",
       "      <th>6</th>\n",
       "      <td>Wednesday</td>\n",
       "      <td>68437.979774</td>\n",
       "    </tr>\n",
       "  </tbody>\n",
       "</table>\n",
       "</div>"
      ],
      "text/plain": [
       "         day        net_mw\n",
       "0     Friday  66213.029574\n",
       "1     Monday  66663.810642\n",
       "2   Saturday  62544.268167\n",
       "3     Sunday  59530.383759\n",
       "4   Thursday  67984.103660\n",
       "5    Tuesday  67930.452113\n",
       "6  Wednesday  68437.979774"
      ]
     },
     "execution_count": 20,
     "metadata": {},
     "output_type": "execute_result"
    }
   ],
   "source": [
    "df_flow_dl = df_flow_m.groupby('date')['net_mw'].sum().reset_index()\n",
    "df_flow_dl['day'] = df_flow_dl['date'].dt.day_name()\n",
    "df_flow_dl = df_flow_dl.groupby('day').mean().reset_index()\n",
    "df_flow_dl"
   ]
  },
  {
   "cell_type": "code",
   "execution_count": 21,
   "metadata": {},
   "outputs": [
    {
     "data": {
      "image/png": "[encoded data removed]",
      "text/plain": [
       "<Figure size 1080x432 with 1 Axes>"
      ]
     },
     "metadata": {
      "needs_background": "light"
     },
     "output_type": "display_data"
    }
   ],
   "source": [
    "plt.figure(figsize=(15, 6))\n",
    "plt.plot(df_flow_dl['day'], df_flow_dl['net_mw'], marker='o')\n",
    "plt.xlabel('Day')\n",
    "plt.ylabel('Flow')\n",
    "plt.title('Average Daily Flow')\n",
    "plt.xticks(rotation=45)\n",
    "plt.grid(True)\n",
    "plt.tight_layout()\n",
    "plt.show()"
   ]
  },
  {
   "cell_type": "markdown",
   "metadata": {},
   "source": [
    "## Weekly"
   ]
  },
  {
   "cell_type": "code",
   "execution_count": 22,
   "metadata": {},
   "outputs": [
    {
     "data": {
      "text/plain": [
       "date\n",
       "2023-09-03    165389.777\n",
       "2023-09-10    434119.421\n",
       "2023-09-17    413558.891\n",
       "2023-09-24    419218.310\n",
       "2023-10-01    432561.086\n",
       "2023-10-08    454298.237\n",
       "2023-10-15    491932.067\n",
       "2023-10-22    533225.908\n",
       "2023-10-29    495095.675\n",
       "2023-11-05    495480.560\n",
       "2023-11-12    502648.421\n",
       "2023-11-19    501697.786\n",
       "2023-11-26    517204.176\n",
       "2023-12-03    568008.342\n",
       "2023-12-10    556866.419\n",
       "2023-12-17    525511.185\n",
       "2023-12-24    497368.789\n",
       "2023-12-31    462772.381\n",
       "2024-01-07    510156.921\n",
       "2024-01-14    566512.336\n",
       "2024-01-21    573706.641\n",
       "2024-01-28    529620.216\n",
       "2024-02-04    524519.831\n",
       "2024-02-11    540818.490\n",
       "2024-02-18    515157.993\n",
       "2024-02-25    500488.329\n",
       "2024-03-03    532021.055\n",
       "2024-03-10    512202.127\n",
       "2024-03-17    498216.397\n",
       "2024-03-24    488771.920\n",
       "2024-03-31    458473.668\n",
       "2024-04-07    445965.365\n",
       "2024-04-14    453949.172\n",
       "2024-04-21    448541.649\n",
       "2024-04-28    437242.597\n",
       "2024-05-05    418904.131\n",
       "2024-05-12    390827.297\n",
       "2024-05-19    412249.592\n",
       "2024-05-26    374461.299\n",
       "2024-06-02    398780.969\n",
       "2024-06-09    411081.513\n",
       "2024-06-16    421378.318\n",
       "2024-06-23    360930.758\n",
       "2024-06-30    399793.008\n",
       "2024-07-07    406072.270\n",
       "2024-07-14    415535.643\n",
       "2024-07-21    369990.853\n",
       "2024-07-28    403159.811\n",
       "2024-08-04    393853.574\n",
       "2024-08-11    402955.969\n",
       "2024-08-18    393989.027\n",
       "2024-08-25    393400.072\n",
       "2024-09-01    393125.221\n",
       "2024-09-08    367589.686\n",
       "Freq: W-SUN, Name: net_mw, dtype: float64"
      ]
     },
     "execution_count": 22,
     "metadata": {},
     "output_type": "execute_result"
    }
   ],
   "source": [
    "df_flow_wk = df_flow_m.resample('W-SUN', on='date')['net_mw'].sum()\n",
    "df_flow_wk"
   ]
  },
  {
   "cell_type": "code",
   "execution_count": 23,
   "metadata": {},
   "outputs": [
    {
     "data": {
      "image/png": "[encoded data removed]",
      "text/plain": [
       "<Figure size 1080x432 with 1 Axes>"
      ]
     },
     "metadata": {
      "needs_background": "light"
     },
     "output_type": "display_data"
    }
   ],
   "source": [
    "plt.figure(figsize=(15, 6))\n",
    "plt.plot(df_flow_wk.index, df_flow_wk.values, marker='o')\n",
    "plt.xlabel('Week Ending Date')\n",
    "plt.ylabel('Total Flow')\n",
    "plt.title('Weekly Flow')\n",
    "plt.xticks(rotation=45)\n",
    "plt.grid(True)\n",
    "plt.tight_layout()\n",
    "plt.show()"
   ]
  },
  {
   "cell_type": "markdown",
   "metadata": {},
   "source": [
    "## Monthly"
   ]
  },
  {
   "cell_type": "code",
   "execution_count": 24,
   "metadata": {},
   "outputs": [
    {
     "data": {
      "text/plain": [
       "date\n",
       "2023-09-30    1805412.231\n",
       "2023-10-31    2175051.547\n",
       "2023-11-30    2203710.090\n",
       "2023-12-31    2282783.563\n",
       "2024-01-31    2413748.970\n",
       "2024-02-29    2155665.485\n",
       "2024-03-31    2181251.469\n",
       "2024-04-30    1911825.153\n",
       "2024-05-31    1760044.256\n",
       "2024-06-30    1702236.259\n",
       "2024-07-31    1767171.288\n",
       "2024-08-31    1751306.006\n",
       "2024-09-30     421194.832\n",
       "Freq: M, Name: net_mw, dtype: float64"
      ]
     },
     "execution_count": 24,
     "metadata": {},
     "output_type": "execute_result"
    }
   ],
   "source": [
    "df_flow_ml = df_flow_m.resample('M', on='date')['net_mw'].sum()\n",
    "df_flow_ml"
   ]
  },
  {
   "cell_type": "code",
   "execution_count": 25,
   "metadata": {},
   "outputs": [
    {
     "data": {
      "image/png": "[encoded data removed]",
      "text/plain": [
       "<Figure size 720x432 with 1 Axes>"
      ]
     },
     "metadata": {
      "needs_background": "light"
     },
     "output_type": "display_data"
    }
   ],
   "source": [
    "plt.figure(figsize=(10, 6))  # Set plot size\n",
    "plt.plot(df_flow_ml.index, df_flow_ml.values, marker='o')\n",
    "plt.xlabel('Month Ending Date')\n",
    "plt.ylabel('Total Flow')\n",
    "plt.title('Monthly Flow')\n",
    "plt.xticks(rotation=45)  # Rotate x-axis labels for better readability\n",
    "plt.grid(True)\n",
    "plt.tight_layout()\n",
    "plt.show()"
   ]
  },
  {
   "cell_type": "markdown",
   "metadata": {},
   "source": [
    "# Cluster to find grid group centres"
   ]
  },
  {
   "cell_type": "code",
   "execution_count": 26,
   "metadata": {},
   "outputs": [
    {
     "data": {
      "text/html": [
       "<div>\n",
       "<style scoped>\n",
       "    .dataframe tbody tr th:only-of-type {\n",
       "        vertical-align: middle;\n",
       "    }\n",
       "\n",
       "    .dataframe tbody tr th {\n",
       "        vertical-align: top;\n",
       "    }\n",
       "\n",
       "    .dataframe thead th {\n",
       "        text-align: right;\n",
       "    }\n",
       "</style>\n",
       "<table border=\"1\" class=\"dataframe\">\n",
       "  <thead>\n",
       "    <tr style=\"text-align: right;\">\n",
       "      <th></th>\n",
       "      <th>Substation Name</th>\n",
       "      <th>Nominal Voltage (kV)</th>\n",
       "      <th>Grid Group</th>\n",
       "      <th>Firm Capacity (MVA)</th>\n",
       "      <th>Maximum Load (MVA)</th>\n",
       "      <th>Minimum Load (MVA)</th>\n",
       "      <th>Generation Connected (MW)</th>\n",
       "      <th>Generation Contracted (MW)</th>\n",
       "      <th>Overall Category</th>\n",
       "      <th>long</th>\n",
       "      <th>lat</th>\n",
       "    </tr>\n",
       "  </thead>\n",
       "  <tbody>\n",
       "    <tr>\n",
       "      <th>0</th>\n",
       "      <td>DICKINSONS</td>\n",
       "      <td>33/11</td>\n",
       "      <td>ACORNFIELD RD T1 / DICKINSONS T1 / HAMMOND RD ...</td>\n",
       "      <td>30.0</td>\n",
       "      <td>14.71</td>\n",
       "      <td>3.68</td>\n",
       "      <td>0.04</td>\n",
       "      <td>0.0</td>\n",
       "      <td>RED</td>\n",
       "      <td>-2.868960</td>\n",
       "      <td>53.479467</td>\n",
       "    </tr>\n",
       "    <tr>\n",
       "      <th>1</th>\n",
       "      <td>WAVERTREE</td>\n",
       "      <td>33/11</td>\n",
       "      <td>AIGBURTH VALE T1 / IVY AVE T1 / MATHER AVE T1 ...</td>\n",
       "      <td>37.5</td>\n",
       "      <td>18.97</td>\n",
       "      <td>4.74</td>\n",
       "      <td>0.00</td>\n",
       "      <td>0.0</td>\n",
       "      <td>RED</td>\n",
       "      <td>-2.920402</td>\n",
       "      <td>53.392115</td>\n",
       "    </tr>\n",
       "    <tr>\n",
       "      <th>2</th>\n",
       "      <td>AINTREE</td>\n",
       "      <td>33/11</td>\n",
       "      <td>AINTREE LOCAL T1 / OLD ROAN T1 / WANGO LA T1</td>\n",
       "      <td>20.0</td>\n",
       "      <td>11.67</td>\n",
       "      <td>2.92</td>\n",
       "      <td>0.00</td>\n",
       "      <td>0.0</td>\n",
       "      <td>AMBER</td>\n",
       "      <td>-2.952121</td>\n",
       "      <td>53.479927</td>\n",
       "    </tr>\n",
       "    <tr>\n",
       "      <th>3</th>\n",
       "      <td>WAVERTREE VALE</td>\n",
       "      <td>33/6.3</td>\n",
       "      <td>ARUNDEL T1 / GROVE PK T1 / WAVERTREE VALE T1</td>\n",
       "      <td>17.5</td>\n",
       "      <td>10.12</td>\n",
       "      <td>2.53</td>\n",
       "      <td>0.00</td>\n",
       "      <td>0.0</td>\n",
       "      <td>RED</td>\n",
       "      <td>-2.934837</td>\n",
       "      <td>53.401313</td>\n",
       "    </tr>\n",
       "    <tr>\n",
       "      <th>4</th>\n",
       "      <td>LARK LANE</td>\n",
       "      <td>33/11</td>\n",
       "      <td>BEAUMONT ST T1 / DINGLE VALE T1 / LARK LA T1 /...</td>\n",
       "      <td>30.0</td>\n",
       "      <td>20.86</td>\n",
       "      <td>5.21</td>\n",
       "      <td>1.60</td>\n",
       "      <td>0.0</td>\n",
       "      <td>RED</td>\n",
       "      <td>-2.944624</td>\n",
       "      <td>53.384398</td>\n",
       "    </tr>\n",
       "    <tr>\n",
       "      <th>...</th>\n",
       "      <td>...</td>\n",
       "      <td>...</td>\n",
       "      <td>...</td>\n",
       "      <td>...</td>\n",
       "      <td>...</td>\n",
       "      <td>...</td>\n",
       "      <td>...</td>\n",
       "      <td>...</td>\n",
       "      <td>...</td>\n",
       "      <td>...</td>\n",
       "      <td>...</td>\n",
       "    </tr>\n",
       "    <tr>\n",
       "      <th>262</th>\n",
       "      <td>BURLINGTON STREET</td>\n",
       "      <td>132/33</td>\n",
       "      <td>BURLINGTON ST GT2 / LISTER DV B GT1 / PARADISE...</td>\n",
       "      <td>139.0</td>\n",
       "      <td>81.40</td>\n",
       "      <td>20.30</td>\n",
       "      <td>27.00</td>\n",
       "      <td>0.0</td>\n",
       "      <td>AMBER</td>\n",
       "      <td>-2.989788</td>\n",
       "      <td>53.421332</td>\n",
       "    </tr>\n",
       "    <tr>\n",
       "      <th>263</th>\n",
       "      <td>GILLMOSS</td>\n",
       "      <td>132/33</td>\n",
       "      <td>GILLMOSS GT1 / KIRKBY GT2 / SIMONSWOOD GT1</td>\n",
       "      <td>90.2</td>\n",
       "      <td>52.40</td>\n",
       "      <td>13.10</td>\n",
       "      <td>0.00</td>\n",
       "      <td>20.0</td>\n",
       "      <td>RED</td>\n",
       "      <td>-2.899936</td>\n",
       "      <td>53.464576</td>\n",
       "    </tr>\n",
       "    <tr>\n",
       "      <th>264</th>\n",
       "      <td>KIRKBY</td>\n",
       "      <td>132/33</td>\n",
       "      <td>GILLMOSS GT1 / KIRKBY GT2 / SIMONSWOOD GT1</td>\n",
       "      <td>90.2</td>\n",
       "      <td>52.40</td>\n",
       "      <td>13.10</td>\n",
       "      <td>0.00</td>\n",
       "      <td>20.0</td>\n",
       "      <td>RED</td>\n",
       "      <td>-2.855142</td>\n",
       "      <td>53.470892</td>\n",
       "    </tr>\n",
       "    <tr>\n",
       "      <th>265</th>\n",
       "      <td>SPARLING STREET</td>\n",
       "      <td>132/33</td>\n",
       "      <td>LISTER DV B GT3 / SPARLING ST GT1 / WAVERTREE GT2</td>\n",
       "      <td>138.4</td>\n",
       "      <td>94.50</td>\n",
       "      <td>23.60</td>\n",
       "      <td>7.10</td>\n",
       "      <td>0.0</td>\n",
       "      <td>AMBER</td>\n",
       "      <td>-2.981651</td>\n",
       "      <td>53.401599</td>\n",
       "    </tr>\n",
       "    <tr>\n",
       "      <th>266</th>\n",
       "      <td>WAVERTREE</td>\n",
       "      <td>132/33</td>\n",
       "      <td>LISTER DV B GT3 / SPARLING ST GT1 / WAVERTREE GT2</td>\n",
       "      <td>138.4</td>\n",
       "      <td>94.50</td>\n",
       "      <td>23.60</td>\n",
       "      <td>7.10</td>\n",
       "      <td>0.0</td>\n",
       "      <td>AMBER</td>\n",
       "      <td>-2.919679</td>\n",
       "      <td>53.392054</td>\n",
       "    </tr>\n",
       "  </tbody>\n",
       "</table>\n",
       "<p>267 rows × 11 columns</p>\n",
       "</div>"
      ],
      "text/plain": [
       "       Substation Name Nominal Voltage (kV)  \\\n",
       "0           DICKINSONS                33/11   \n",
       "1            WAVERTREE                33/11   \n",
       "2              AINTREE                33/11   \n",
       "3       WAVERTREE VALE               33/6.3   \n",
       "4            LARK LANE                33/11   \n",
       "..                 ...                  ...   \n",
       "262  BURLINGTON STREET               132/33   \n",
       "263           GILLMOSS               132/33   \n",
       "264             KIRKBY               132/33   \n",
       "265    SPARLING STREET               132/33   \n",
       "266          WAVERTREE               132/33   \n",
       "\n",
       "                                            Grid Group  Firm Capacity (MVA)  \\\n",
       "0    ACORNFIELD RD T1 / DICKINSONS T1 / HAMMOND RD ...                 30.0   \n",
       "1    AIGBURTH VALE T1 / IVY AVE T1 / MATHER AVE T1 ...                 37.5   \n",
       "2         AINTREE LOCAL T1 / OLD ROAN T1 / WANGO LA T1                 20.0   \n",
       "3         ARUNDEL T1 / GROVE PK T1 / WAVERTREE VALE T1                 17.5   \n",
       "4    BEAUMONT ST T1 / DINGLE VALE T1 / LARK LA T1 /...                 30.0   \n",
       "..                                                 ...                  ...   \n",
       "262  BURLINGTON ST GT2 / LISTER DV B GT1 / PARADISE...                139.0   \n",
       "263         GILLMOSS GT1 / KIRKBY GT2 / SIMONSWOOD GT1                 90.2   \n",
       "264         GILLMOSS GT1 / KIRKBY GT2 / SIMONSWOOD GT1                 90.2   \n",
       "265  LISTER DV B GT3 / SPARLING ST GT1 / WAVERTREE GT2                138.4   \n",
       "266  LISTER DV B GT3 / SPARLING ST GT1 / WAVERTREE GT2                138.4   \n",
       "\n",
       "     Maximum Load (MVA)  Minimum Load (MVA)  Generation Connected (MW)  \\\n",
       "0                 14.71                3.68                       0.04   \n",
       "1                 18.97                4.74                       0.00   \n",
       "2                 11.67                2.92                       0.00   \n",
       "3                 10.12                2.53                       0.00   \n",
       "4                 20.86                5.21                       1.60   \n",
       "..                  ...                 ...                        ...   \n",
       "262               81.40               20.30                      27.00   \n",
       "263               52.40               13.10                       0.00   \n",
       "264               52.40               13.10                       0.00   \n",
       "265               94.50               23.60                       7.10   \n",
       "266               94.50               23.60                       7.10   \n",
       "\n",
       "     Generation Contracted (MW) Overall Category      long        lat  \n",
       "0                           0.0              RED -2.868960  53.479467  \n",
       "1                           0.0              RED -2.920402  53.392115  \n",
       "2                           0.0            AMBER -2.952121  53.479927  \n",
       "3                           0.0              RED -2.934837  53.401313  \n",
       "4                           0.0              RED -2.944624  53.384398  \n",
       "..                          ...              ...       ...        ...  \n",
       "262                         0.0            AMBER -2.989788  53.421332  \n",
       "263                        20.0              RED -2.899936  53.464576  \n",
       "264                        20.0              RED -2.855142  53.470892  \n",
       "265                         0.0            AMBER -2.981651  53.401599  \n",
       "266                         0.0            AMBER -2.919679  53.392054  \n",
       "\n",
       "[267 rows x 11 columns]"
      ]
     },
     "execution_count": 26,
     "metadata": {},
     "output_type": "execute_result"
    }
   ],
   "source": [
    "df_gg = pd.concat([df_pri_m[['Substation Name', 'Nominal Voltage (kV)', 'Primary Group','Firm Capacity (MVA)', 'Maximum Load (MVA)','Minimum Load (MVA)', 'Generation Connected (MW)',\n",
    "       'Generation Contracted (MW)', 'Overall Category','long', 'lat']].rename(columns={'Primary Group':'Grid Group'}), df_grid_m[['Substation Name', 'Nominal Voltage (kV)', 'Grid Group','Firm Capacity (MVA)', 'Maximum Load (MVA)',\n",
    "       'Minimum Load (MVA)', 'Generation Connected (MW)',\n",
    "       'Generation Contracted (MW)', 'Overall Category','long', 'lat']]], ignore_index=True)\n",
    "df_gg"
   ]
  },
  {
   "cell_type": "code",
   "execution_count": 27,
   "metadata": {},
   "outputs": [
    {
     "name": "stderr",
     "output_type": "stream",
     "text": [
      "/Library/Frameworks/Python.framework/Versions/3.10/lib/python3.10/site-packages/sklearn/cluster/_kmeans.py:1416: FutureWarning:\n",
      "\n",
      "The default value of `n_init` will change from 10 to 'auto' in 1.4. Set the value of `n_init` explicitly to suppress the warning\n",
      "\n",
      "/Library/Frameworks/Python.framework/Versions/3.10/lib/python3.10/site-packages/sklearn/cluster/_kmeans.py:1416: FutureWarning:\n",
      "\n",
      "The default value of `n_init` will change from 10 to 'auto' in 1.4. Set the value of `n_init` explicitly to suppress the warning\n",
      "\n",
      "/Library/Frameworks/Python.framework/Versions/3.10/lib/python3.10/site-packages/sklearn/cluster/_kmeans.py:1416: FutureWarning:\n",
      "\n",
      "The default value of `n_init` will change from 10 to 'auto' in 1.4. Set the value of `n_init` explicitly to suppress the warning\n",
      "\n"
     ]
    },
    {
     "name": "stdout",
     "output_type": "stream",
     "text": [
      "for grid <ACORNFIELD RD T1 / DICKINSONS T1 / HAMMOND RD T1 / KODAK T1>, center is [[53.48422522 -2.85963901]]\n",
      "for grid <AIGBURTH VALE T1 / IVY AVE T1 / MATHER AVE T1 / MOSSLEY HILL T1 / WAVERTREE T1>, center is [[53.37884544 -2.92054904]]\n",
      "for grid <AINTREE LOCAL T1 / OLD ROAN T1 / WANGO LA T1>, center is [[53.48221184 -2.94071719]]\n",
      "for grid <ARUNDEL T1 / GROVE PK T1 / WAVERTREE VALE T1>, center is [[53.39510542 -2.93651794]]\n",
      "for grid <BEAUMONT ST T1 / DINGLE VALE T1 / LARK LA T1 / MDHB BRUNSWICK DOCK T1>, center is [[53.3895672  -2.95880361]]\n",
      "for grid <BEDBURN DV T1 / BLUEBELL LA T1 / BROOKBRIDGE T1 / ECCLESTON T1>, center is [[53.42576079 -2.83804918]]\n",
      "for grid <BEMROSE T1 / CARR LA EAST T1 / LUCAS (FAZAKERLEY) T1 / NORRIS GREEN T1 / WEST DERBY T1>, center is [[53.44818112 -2.92782254]]\n",
      "for grid <BOOTLE GRID T2 / ORRELL MOUNT T1 / SCARISBRICK AVE T1 / TATTON RD T1>, center is [[53.4660464  -2.98170894]]\n",
      "for grid <BUCKINGHAM ST T1 / EVERTON RD T1 / SUBURBAN RD T1>, center is [[53.4253231 -2.9620987]]\n",
      "for grid <CHALON WAY T1 / TECHNOLOGY CAMPUS T1 / WOODVILLE ST T1>, center is [[53.45532272 -2.74454619]]\n",
      "for grid <CHILDWALL T1 / CHILDWALL FIVEWAYS T1 / LYNDENE RD T1 / MIDDLEMASS HEY T1 / NAYLORS RD T1>, center is [[53.39365151 -2.87380204]]\n",
      "for grid <CLOCKFACE T1 / GEC ST HELENS T1 / HILLS MOSS T1 / NCB SUTTON MANOR T2>, center is [[53.42029268 -2.73269484]]\n",
      "for grid <CONIX T1 / CONIX T2 / MEDEVA T1>, center is [[53.3519925 -2.8521671]]\n",
      "for grid <DELAMORE ST T1 / KIRKDALE T1 / WALTON T1>, center is [[53.44210471 -2.96925845]]\n",
      "for grid <DESOTO RD T1 / MERSEY BRIDGE T1 / PITT ST T1>, center is [[53.35720546 -2.75546888]]\n",
      "for grid <EDGE HILL T1 / LIVERPOOL UNIVERSITY T1 / LIVERPOOL UNIVERSITY T2 / LIVERPOOL UNIVERSITY T3>, center is [[53.40760649 -2.95815326]]\n",
      "for grid <EDGE LA (TAPLEY PLACE) T1 / LISTER DV B T3 / MILL LA (WAVERTREE) T1 / PLESSEY (EDGE LA) T1 / STONEYCROFT T1>, center is [[53.41459326 -2.92352576]]\n",
      "for grid <HARRINGTON ST T2 / HIGHFIELD ST T1>, center is [[53.41102741 -2.98481518]]\n",
      "for grid <HUYTON HEY RD T1 / WILSON RD T1>, center is [[53.40971065 -2.83760958]]\n",
      "for grid <KNOWSLEY T1 / MARLED HEY T1>, center is [[53.44603206 -2.86599181]]\n",
      "for grid <LORD ST T1 / MARSHSIDE T1 / MULLARDS BALMORAL DV T1 / SOUTHPORT T2>, center is [[53.65788616 -2.96452641]]\n",
      "for grid <OTIS ELEVATOR T1 / ST IVEL FOODS T1>, center is [[53.46947871 -2.8766736 ]]\n",
      "for grid <ROYAL INSURANCE (NEW QUAY) T1 / ROYAL INSURANCE (NEW QUAY) T2>, center is [[53.41090626 -2.99177072]]\n",
      "for grid <ALLERTON T1 / ECP WEST-BANKS RD T1 / GARSTON T1 / WEAVER IND EST T1 / YEW TREE RD T1>, center is [[53.36127898 -2.89915021]]\n",
      "for grid <ALMONDS TURN T1 / ATLANTIC COMPLEX T1 / GIRO T1 / MIDLAND BANK T1 / NETHERTON T1>, center is [[53.48327303 -2.97023861]]\n",
      "for grid <BANASTRE RD T1 / DOVER RD T1 / GRANTHAM CL T1>, center is [[53.62877686 -3.00321355]]\n"
     ]
    },
    {
     "name": "stderr",
     "output_type": "stream",
     "text": [
      "/Library/Frameworks/Python.framework/Versions/3.10/lib/python3.10/site-packages/sklearn/cluster/_kmeans.py:1416: FutureWarning:\n",
      "\n",
      "The default value of `n_init` will change from 10 to 'auto' in 1.4. Set the value of `n_init` explicitly to suppress the warning\n",
      "\n",
      "/Library/Frameworks/Python.framework/Versions/3.10/lib/python3.10/site-packages/sklearn/cluster/_kmeans.py:1416: FutureWarning:\n",
      "\n",
      "The default value of `n_init` will change from 10 to 'auto' in 1.4. Set the value of `n_init` explicitly to suppress the warning\n",
      "\n",
      "/Library/Frameworks/Python.framework/Versions/3.10/lib/python3.10/site-packages/sklearn/cluster/_kmeans.py:1416: FutureWarning:\n",
      "\n",
      "The default value of `n_init` will change from 10 to 'auto' in 1.4. Set the value of `n_init` explicitly to suppress the warning\n",
      "\n",
      "/Library/Frameworks/Python.framework/Versions/3.10/lib/python3.10/site-packages/sklearn/cluster/_kmeans.py:1416: FutureWarning:\n",
      "\n",
      "The default value of `n_init` will change from 10 to 'auto' in 1.4. Set the value of `n_init` explicitly to suppress the warning\n",
      "\n",
      "/Library/Frameworks/Python.framework/Versions/3.10/lib/python3.10/site-packages/sklearn/cluster/_kmeans.py:1416: FutureWarning:\n",
      "\n",
      "The default value of `n_init` will change from 10 to 'auto' in 1.4. Set the value of `n_init` explicitly to suppress the warning\n",
      "\n",
      "/Library/Frameworks/Python.framework/Versions/3.10/lib/python3.10/site-packages/sklearn/cluster/_kmeans.py:1416: FutureWarning:\n",
      "\n",
      "The default value of `n_init` will change from 10 to 'auto' in 1.4. Set the value of `n_init` explicitly to suppress the warning\n",
      "\n",
      "/Library/Frameworks/Python.framework/Versions/3.10/lib/python3.10/site-packages/sklearn/cluster/_kmeans.py:1416: FutureWarning:\n",
      "\n",
      "The default value of `n_init` will change from 10 to 'auto' in 1.4. Set the value of `n_init` explicitly to suppress the warning\n",
      "\n",
      "/Library/Frameworks/Python.framework/Versions/3.10/lib/python3.10/site-packages/sklearn/cluster/_kmeans.py:1416: FutureWarning:\n",
      "\n",
      "The default value of `n_init` will change from 10 to 'auto' in 1.4. Set the value of `n_init` explicitly to suppress the warning\n",
      "\n",
      "/Library/Frameworks/Python.framework/Versions/3.10/lib/python3.10/site-packages/sklearn/cluster/_kmeans.py:1416: FutureWarning:\n",
      "\n",
      "The default value of `n_init` will change from 10 to 'auto' in 1.4. Set the value of `n_init` explicitly to suppress the warning\n",
      "\n",
      "/Library/Frameworks/Python.framework/Versions/3.10/lib/python3.10/site-packages/sklearn/cluster/_kmeans.py:1416: FutureWarning:\n",
      "\n",
      "The default value of `n_init` will change from 10 to 'auto' in 1.4. Set the value of `n_init` explicitly to suppress the warning\n",
      "\n",
      "/Library/Frameworks/Python.framework/Versions/3.10/lib/python3.10/site-packages/sklearn/cluster/_kmeans.py:1416: FutureWarning:\n",
      "\n",
      "The default value of `n_init` will change from 10 to 'auto' in 1.4. Set the value of `n_init` explicitly to suppress the warning\n",
      "\n",
      "/Library/Frameworks/Python.framework/Versions/3.10/lib/python3.10/site-packages/sklearn/cluster/_kmeans.py:1416: FutureWarning:\n",
      "\n",
      "The default value of `n_init` will change from 10 to 'auto' in 1.4. Set the value of `n_init` explicitly to suppress the warning\n",
      "\n",
      "/Library/Frameworks/Python.framework/Versions/3.10/lib/python3.10/site-packages/sklearn/cluster/_kmeans.py:1416: FutureWarning:\n",
      "\n",
      "The default value of `n_init` will change from 10 to 'auto' in 1.4. Set the value of `n_init` explicitly to suppress the warning\n",
      "\n",
      "/Library/Frameworks/Python.framework/Versions/3.10/lib/python3.10/site-packages/sklearn/cluster/_kmeans.py:1416: FutureWarning:\n",
      "\n",
      "The default value of `n_init` will change from 10 to 'auto' in 1.4. Set the value of `n_init` explicitly to suppress the warning\n",
      "\n",
      "/Library/Frameworks/Python.framework/Versions/3.10/lib/python3.10/site-packages/sklearn/cluster/_kmeans.py:1416: FutureWarning:\n",
      "\n",
      "The default value of `n_init` will change from 10 to 'auto' in 1.4. Set the value of `n_init` explicitly to suppress the warning\n",
      "\n",
      "/Library/Frameworks/Python.framework/Versions/3.10/lib/python3.10/site-packages/sklearn/cluster/_kmeans.py:1416: FutureWarning:\n",
      "\n",
      "The default value of `n_init` will change from 10 to 'auto' in 1.4. Set the value of `n_init` explicitly to suppress the warning\n",
      "\n",
      "/Library/Frameworks/Python.framework/Versions/3.10/lib/python3.10/site-packages/sklearn/cluster/_kmeans.py:1416: FutureWarning:\n",
      "\n",
      "The default value of `n_init` will change from 10 to 'auto' in 1.4. Set the value of `n_init` explicitly to suppress the warning\n",
      "\n",
      "/Library/Frameworks/Python.framework/Versions/3.10/lib/python3.10/site-packages/sklearn/cluster/_kmeans.py:1416: FutureWarning:\n",
      "\n",
      "The default value of `n_init` will change from 10 to 'auto' in 1.4. Set the value of `n_init` explicitly to suppress the warning\n",
      "\n",
      "/Library/Frameworks/Python.framework/Versions/3.10/lib/python3.10/site-packages/sklearn/cluster/_kmeans.py:1416: FutureWarning:\n",
      "\n",
      "The default value of `n_init` will change from 10 to 'auto' in 1.4. Set the value of `n_init` explicitly to suppress the warning\n",
      "\n",
      "/Library/Frameworks/Python.framework/Versions/3.10/lib/python3.10/site-packages/sklearn/cluster/_kmeans.py:1416: FutureWarning:\n",
      "\n",
      "The default value of `n_init` will change from 10 to 'auto' in 1.4. Set the value of `n_init` explicitly to suppress the warning\n",
      "\n",
      "/Library/Frameworks/Python.framework/Versions/3.10/lib/python3.10/site-packages/sklearn/cluster/_kmeans.py:1416: FutureWarning:\n",
      "\n",
      "The default value of `n_init` will change from 10 to 'auto' in 1.4. Set the value of `n_init` explicitly to suppress the warning\n",
      "\n",
      "/Library/Frameworks/Python.framework/Versions/3.10/lib/python3.10/site-packages/sklearn/cluster/_kmeans.py:1416: FutureWarning:\n",
      "\n",
      "The default value of `n_init` will change from 10 to 'auto' in 1.4. Set the value of `n_init` explicitly to suppress the warning\n",
      "\n",
      "/Library/Frameworks/Python.framework/Versions/3.10/lib/python3.10/site-packages/sklearn/cluster/_kmeans.py:1416: FutureWarning:\n",
      "\n",
      "The default value of `n_init` will change from 10 to 'auto' in 1.4. Set the value of `n_init` explicitly to suppress the warning\n",
      "\n",
      "/Library/Frameworks/Python.framework/Versions/3.10/lib/python3.10/site-packages/sklearn/cluster/_kmeans.py:1416: FutureWarning:\n",
      "\n",
      "The default value of `n_init` will change from 10 to 'auto' in 1.4. Set the value of `n_init` explicitly to suppress the warning\n",
      "\n",
      "/Library/Frameworks/Python.framework/Versions/3.10/lib/python3.10/site-packages/sklearn/cluster/_kmeans.py:1416: FutureWarning:\n",
      "\n",
      "The default value of `n_init` will change from 10 to 'auto' in 1.4. Set the value of `n_init` explicitly to suppress the warning\n",
      "\n",
      "/Library/Frameworks/Python.framework/Versions/3.10/lib/python3.10/site-packages/sklearn/cluster/_kmeans.py:1416: FutureWarning:\n",
      "\n",
      "The default value of `n_init` will change from 10 to 'auto' in 1.4. Set the value of `n_init` explicitly to suppress the warning\n",
      "\n",
      "/Library/Frameworks/Python.framework/Versions/3.10/lib/python3.10/site-packages/sklearn/cluster/_kmeans.py:1416: FutureWarning:\n",
      "\n",
      "The default value of `n_init` will change from 10 to 'auto' in 1.4. Set the value of `n_init` explicitly to suppress the warning\n",
      "\n",
      "/Library/Frameworks/Python.framework/Versions/3.10/lib/python3.10/site-packages/sklearn/cluster/_kmeans.py:1416: FutureWarning:\n",
      "\n",
      "The default value of `n_init` will change from 10 to 'auto' in 1.4. Set the value of `n_init` explicitly to suppress the warning\n",
      "\n",
      "/Library/Frameworks/Python.framework/Versions/3.10/lib/python3.10/site-packages/sklearn/cluster/_kmeans.py:1416: FutureWarning:\n",
      "\n",
      "The default value of `n_init` will change from 10 to 'auto' in 1.4. Set the value of `n_init` explicitly to suppress the warning\n",
      "\n",
      "/Library/Frameworks/Python.framework/Versions/3.10/lib/python3.10/site-packages/sklearn/cluster/_kmeans.py:1416: FutureWarning:\n",
      "\n",
      "The default value of `n_init` will change from 10 to 'auto' in 1.4. Set the value of `n_init` explicitly to suppress the warning\n",
      "\n",
      "/Library/Frameworks/Python.framework/Versions/3.10/lib/python3.10/site-packages/sklearn/cluster/_kmeans.py:1416: FutureWarning:\n",
      "\n",
      "The default value of `n_init` will change from 10 to 'auto' in 1.4. Set the value of `n_init` explicitly to suppress the warning\n",
      "\n",
      "/Library/Frameworks/Python.framework/Versions/3.10/lib/python3.10/site-packages/sklearn/cluster/_kmeans.py:1416: FutureWarning:\n",
      "\n",
      "The default value of `n_init` will change from 10 to 'auto' in 1.4. Set the value of `n_init` explicitly to suppress the warning\n",
      "\n",
      "/Library/Frameworks/Python.framework/Versions/3.10/lib/python3.10/site-packages/sklearn/cluster/_kmeans.py:1416: FutureWarning:\n",
      "\n",
      "The default value of `n_init` will change from 10 to 'auto' in 1.4. Set the value of `n_init` explicitly to suppress the warning\n",
      "\n",
      "/Library/Frameworks/Python.framework/Versions/3.10/lib/python3.10/site-packages/sklearn/cluster/_kmeans.py:1416: FutureWarning:\n",
      "\n",
      "The default value of `n_init` will change from 10 to 'auto' in 1.4. Set the value of `n_init` explicitly to suppress the warning\n",
      "\n",
      "/Library/Frameworks/Python.framework/Versions/3.10/lib/python3.10/site-packages/sklearn/cluster/_kmeans.py:1416: FutureWarning:\n",
      "\n",
      "The default value of `n_init` will change from 10 to 'auto' in 1.4. Set the value of `n_init` explicitly to suppress the warning\n",
      "\n",
      "/Library/Frameworks/Python.framework/Versions/3.10/lib/python3.10/site-packages/sklearn/cluster/_kmeans.py:1416: FutureWarning:\n",
      "\n",
      "The default value of `n_init` will change from 10 to 'auto' in 1.4. Set the value of `n_init` explicitly to suppress the warning\n",
      "\n"
     ]
    },
    {
     "name": "stdout",
     "output_type": "stream",
     "text": [
      "for grid <BIBBYS T1 / INLAND REVENUE OFFICES T1 / REGENT RD T1>, center is [[53.44435457 -2.99045638]]\n",
      "for grid <BICC HUYTON QUARRY T1 / TARBOCK T1 / WHISTON T1>, center is [[53.40982383 -2.82116585]]\n",
      "for grid <BLUNDELL ST T1 / ROPEWALKS T1 / ST JAMES T1>, center is [[53.40022801 -2.97810114]]\n",
      "for grid <BLUNDELLSANDS (NORTH) T1 / BLUNDELLSANDS (SOUTH) T1 / CROSBY T1 / KERSHAW AVE T1 / WATERLOO T2>, center is [[53.49046983 -3.02048938]]\n",
      "for grid <BOOTLE GRID T1 / KELLOGGS T1 / PACIFIC RD T1 / WASHINGTON ST T1 / WATERLOO T1>, center is [[53.46212176 -2.99848507]]\n",
      "for grid <BROADGREEN T1 / CROXTETH T1 / EAST PRESCOT RD (FINCH LA) T1 / KNOTTY ASH T1 / LEYFIELD RD T1>, center is [[53.42345698 -2.89150782]]\n",
      "for grid <BURLINGTON AVE T1 / FRESHFIELD T1 / MARSH BROWS T1 / SOUTHPORT RD T1>, center is [[53.56418779 -3.04748617]]\n",
      "for grid <CABLE ST T1 / GRADWELL ST T2 / OLDHAM PLACE T2>, center is [[53.40657269 -2.97846162]]\n",
      "for grid <CABLE ST T2 / CROWN COURTS T1 / GRADWELL ST T1>, center is [[53.40702886 -2.98300001]]\n",
      "for grid <CARLTON ST T1 / CARLTON ST T2 / CHALON WAY T2>, center is [[53.45213726 -2.75629989]]\n",
      "for grid <CLUBMOOR T1 / DUNLOPS WALTON T1 / WALTON T2>, center is [[53.44706325 -2.95424019]]\n",
      "for grid <DINGLE T1 / GRANBY T1 / ST JAMES T2>, center is [[53.39382907 -2.96677539]]\n",
      "for grid <DITTON T1 / GAVIN RD T1 / HOUGH GREEN T1 / RTZ T1>, center is [[53.37030708 -2.78323824]]\n",
      "for grid <IVY ST (SOUTHPORT) T1 / KENSINGTON RD T1 / MARKET ST T1 / SOUTHPORT T1>, center is [[53.53309578 -3.20776741]]\n",
      "for grid <KELCO T1 / NEWS INTERNATIONAL T1 / NEWS INTERNATIONAL T2 / PALCO T1 / SOUTHDENE T1>, center is [[53.4676092  -2.87040191]]\n",
      "for grid <KIRKBY CENTRAL T1 / NORTHWOOD T1 / TOWER HILL (BANK LA) T1 / WESTVALE T1>, center is [[53.48617224 -2.89006989]]\n",
      "for grid <LEA GREEN T1 / PILKINGTONS HO T1 / RAVENHEAD RETAIL PK T1 / SOMERFIELD DISTRIBUTION T1>, center is [[53.43916642 -2.75761385]]\n",
      "for grid <AIRPORT T1 / ALDERWOOD AVE (CROYDE RD) T1 / HAREFIELD RD T1 / METAL BOX (SPEKE) T1>, center is [[53.34383129 -2.84965875]]\n",
      "for grid <BOLTON ST T1 / GREEK ST T1 / HPO COPPERAS HILL T1 / OLDHAM PLACE T1>, center is [[53.40876088 -2.97273519]]\n",
      "for grid <BRITISH OXYGEN T1 / WINDLEHURST T1>, center is [[53.46779001 -2.75619966]]\n",
      "for grid <BROOK ST T1 / KINGSWAY TUNNEL T1 / NWWA SANDON DOCK T1 / NWWA SANDON DOCK T2>, center is [[53.42081684 -2.99352733]]\n",
      "for grid <CLUBMOOR T2 / LISTER DV A T1 / SUBURBAN RD T2>, center is [[53.42944602 -2.9390087 ]]\n",
      "for grid <DODDS LA T1 / HOLBORN HILL T1 / MAGHULL T1 / MAGHULL T2 / ROBBINS BRIDGE T1>, center is [[53.5302085  -2.92761374]]\n",
      "for grid <ESTUARY COMMERCE PK T1 / LEEWARD DR T1 / LEEWARD DR T2 / SPEKE HALL RD T1 / SPEKE SKY PK T1>, center is [[53.3502951 -2.8731508]]\n",
      "for grid <FAZAKERLEY HOSPITAL T1 / JACOBS T1 / JACOBS T2 / SEEDS LA T1>, center is [[53.46734381 -2.94069529]]\n",
      "for grid <HARRINGTON ST T1 / PARADISE ST T1>, center is [[53.40690906 -2.98290161]]\n",
      "for grid <HARRINGTON ST T3 / LIME ST T1>, center is [[53.40947009 -2.98062183]]\n",
      "for grid <HIGHFIELD ST T2 / LIME ST T2 / OLD HAYMARKET T1>, center is [[53.41184808 -2.98116481]]\n",
      "for grid <NEVILL ST T1 / OCEAN PLAZA T1 / YORK RD T1>, center is [[53.64788107 -3.00214701]]\n",
      "for grid <AINSDALE T1 / PINFOLD LA T1>, center is [[53.59988281 -3.02610872]]\n",
      "for grid <ALMATEX T1 / ST HELENS WWTW T1 / WATERY LA T2 / ex DELTA METALS T1>, center is [[53.44881814 -2.72161868]]\n",
      "for grid <ATHOL ST T1 / CHISENHALE ST T1 / SANDHILLS LA T1>, center is [[53.42657635 -2.98712469]]\n",
      "for grid <HOLT LA (WARRINGTON RD) T1 / PRESCOT T1 / RAINHILL LOCAL T1 / WHISTON HOSP T1>, center is [[53.4205221  -2.79207428]]\n",
      "for grid <HUNTS CROSS T1 / KENTON RD T1 / WOODEND AVE T1 / WOOLTON T1>, center is [[53.36625289 -2.85621297]]\n",
      "for grid <LUGSDALE T1 / PILK SULLIVAN T1 / PILK SULLIVAN T2 / USAC T1>, center is [[53.36615723 -2.73327093]]\n",
      "for grid <APPLETON T1 / HORNSBRIDGE T1 / LUGSDALE T2>, center is [[53.37551696 -2.73926038]]\n",
      "for grid <BEECH ST T1 / LISTER DV A T2>, center is [[53.41742937 -2.93733558]]\n",
      "for grid <BRITISH SIDAC T1 / SHERDLEY RD T1 / ST HELENS LINKWAY T1 / WATERY LA T1>, center is [[53.44290872 -2.731971  ]]\n",
      "for grid <EVERTON BROW T1 / GARDNERS ROW T1 / SHEIL PK T1>, center is [[53.41991235 -2.96628102]]\n",
      "for grid <ALBERT DOCK T1 / KINGS DOCK T1 / KINGS DOCK T2 / WAPPING T1>, center is [[53.39997373 -2.98553284]]\n",
      "for grid <ex BIXTETH ST T1 / LITTLEWOODS T1 / PALL MALL T1>, center is [[53.41322279 -2.98946044]]\n",
      "for grid <CARBORUNDUM T1 / HOUGHTONS LA T1 / RAINFORD T1 / WINDLEHURST T2>, center is [[53.47902803 -2.78400899]]\n",
      "for grid <HASKAYNE T1>, center is [[53.56223678 -2.96314375]]\n",
      "for grid <DAILY POST & ECHO T1 / DAILY POST & ECHO T2>, center is [[53.4119541  -2.99215428]]\n",
      "for grid <ORB CL T1 / STONEBRIDGE LA T1 / STONEBRIDGE LA T2>, center is [[53.45813144 -2.90654534]]\n",
      "for grid <AINTREE GT1 / FORMBY GT2A / LITHERLAND GT1B>, center is [[53.50954299 -2.99393463]]\n",
      "for grid <BOOTLE GT2A / BURLINGTON ST GT1 / LISTER DV A GT2>, center is [[53.43395341 -2.96651363]]\n"
     ]
    },
    {
     "name": "stderr",
     "output_type": "stream",
     "text": [
      "/Library/Frameworks/Python.framework/Versions/3.10/lib/python3.10/site-packages/sklearn/cluster/_kmeans.py:1416: FutureWarning:\n",
      "\n",
      "The default value of `n_init` will change from 10 to 'auto' in 1.4. Set the value of `n_init` explicitly to suppress the warning\n",
      "\n",
      "/Library/Frameworks/Python.framework/Versions/3.10/lib/python3.10/site-packages/sklearn/cluster/_kmeans.py:1416: FutureWarning:\n",
      "\n",
      "The default value of `n_init` will change from 10 to 'auto' in 1.4. Set the value of `n_init` explicitly to suppress the warning\n",
      "\n",
      "/Library/Frameworks/Python.framework/Versions/3.10/lib/python3.10/site-packages/sklearn/cluster/_kmeans.py:1416: FutureWarning:\n",
      "\n",
      "The default value of `n_init` will change from 10 to 'auto' in 1.4. Set the value of `n_init` explicitly to suppress the warning\n",
      "\n",
      "/Library/Frameworks/Python.framework/Versions/3.10/lib/python3.10/site-packages/sklearn/cluster/_kmeans.py:1416: FutureWarning:\n",
      "\n",
      "The default value of `n_init` will change from 10 to 'auto' in 1.4. Set the value of `n_init` explicitly to suppress the warning\n",
      "\n",
      "/Library/Frameworks/Python.framework/Versions/3.10/lib/python3.10/site-packages/sklearn/cluster/_kmeans.py:1416: FutureWarning:\n",
      "\n",
      "The default value of `n_init` will change from 10 to 'auto' in 1.4. Set the value of `n_init` explicitly to suppress the warning\n",
      "\n",
      "/Library/Frameworks/Python.framework/Versions/3.10/lib/python3.10/site-packages/sklearn/cluster/_kmeans.py:1416: FutureWarning:\n",
      "\n",
      "The default value of `n_init` will change from 10 to 'auto' in 1.4. Set the value of `n_init` explicitly to suppress the warning\n",
      "\n",
      "/Library/Frameworks/Python.framework/Versions/3.10/lib/python3.10/site-packages/sklearn/cluster/_kmeans.py:1416: FutureWarning:\n",
      "\n",
      "The default value of `n_init` will change from 10 to 'auto' in 1.4. Set the value of `n_init` explicitly to suppress the warning\n",
      "\n",
      "/Library/Frameworks/Python.framework/Versions/3.10/lib/python3.10/site-packages/sklearn/cluster/_kmeans.py:1416: FutureWarning:\n",
      "\n",
      "The default value of `n_init` will change from 10 to 'auto' in 1.4. Set the value of `n_init` explicitly to suppress the warning\n",
      "\n",
      "/Library/Frameworks/Python.framework/Versions/3.10/lib/python3.10/site-packages/sklearn/cluster/_kmeans.py:1416: FutureWarning:\n",
      "\n",
      "The default value of `n_init` will change from 10 to 'auto' in 1.4. Set the value of `n_init` explicitly to suppress the warning\n",
      "\n",
      "/Library/Frameworks/Python.framework/Versions/3.10/lib/python3.10/site-packages/sklearn/cluster/_kmeans.py:1416: FutureWarning:\n",
      "\n",
      "The default value of `n_init` will change from 10 to 'auto' in 1.4. Set the value of `n_init` explicitly to suppress the warning\n",
      "\n",
      "/Library/Frameworks/Python.framework/Versions/3.10/lib/python3.10/site-packages/sklearn/cluster/_kmeans.py:1416: FutureWarning:\n",
      "\n",
      "The default value of `n_init` will change from 10 to 'auto' in 1.4. Set the value of `n_init` explicitly to suppress the warning\n",
      "\n",
      "/Library/Frameworks/Python.framework/Versions/3.10/lib/python3.10/site-packages/sklearn/cluster/_kmeans.py:1416: FutureWarning:\n",
      "\n",
      "The default value of `n_init` will change from 10 to 'auto' in 1.4. Set the value of `n_init` explicitly to suppress the warning\n",
      "\n",
      "/Library/Frameworks/Python.framework/Versions/3.10/lib/python3.10/site-packages/sklearn/cluster/_kmeans.py:1416: FutureWarning:\n",
      "\n",
      "The default value of `n_init` will change from 10 to 'auto' in 1.4. Set the value of `n_init` explicitly to suppress the warning\n",
      "\n",
      "/Library/Frameworks/Python.framework/Versions/3.10/lib/python3.10/site-packages/sklearn/cluster/_kmeans.py:1416: FutureWarning:\n",
      "\n",
      "The default value of `n_init` will change from 10 to 'auto' in 1.4. Set the value of `n_init` explicitly to suppress the warning\n",
      "\n",
      "/Library/Frameworks/Python.framework/Versions/3.10/lib/python3.10/site-packages/sklearn/cluster/_kmeans.py:1416: FutureWarning:\n",
      "\n",
      "The default value of `n_init` will change from 10 to 'auto' in 1.4. Set the value of `n_init` explicitly to suppress the warning\n",
      "\n",
      "/Library/Frameworks/Python.framework/Versions/3.10/lib/python3.10/site-packages/sklearn/cluster/_kmeans.py:1416: FutureWarning:\n",
      "\n",
      "The default value of `n_init` will change from 10 to 'auto' in 1.4. Set the value of `n_init` explicitly to suppress the warning\n",
      "\n",
      "/Library/Frameworks/Python.framework/Versions/3.10/lib/python3.10/site-packages/sklearn/cluster/_kmeans.py:1416: FutureWarning:\n",
      "\n",
      "The default value of `n_init` will change from 10 to 'auto' in 1.4. Set the value of `n_init` explicitly to suppress the warning\n",
      "\n",
      "/Library/Frameworks/Python.framework/Versions/3.10/lib/python3.10/site-packages/sklearn/cluster/_kmeans.py:1416: FutureWarning:\n",
      "\n",
      "The default value of `n_init` will change from 10 to 'auto' in 1.4. Set the value of `n_init` explicitly to suppress the warning\n",
      "\n",
      "/Library/Frameworks/Python.framework/Versions/3.10/lib/python3.10/site-packages/sklearn/cluster/_kmeans.py:1416: FutureWarning:\n",
      "\n",
      "The default value of `n_init` will change from 10 to 'auto' in 1.4. Set the value of `n_init` explicitly to suppress the warning\n",
      "\n",
      "/Library/Frameworks/Python.framework/Versions/3.10/lib/python3.10/site-packages/sklearn/cluster/_kmeans.py:1416: FutureWarning:\n",
      "\n",
      "The default value of `n_init` will change from 10 to 'auto' in 1.4. Set the value of `n_init` explicitly to suppress the warning\n",
      "\n",
      "/Library/Frameworks/Python.framework/Versions/3.10/lib/python3.10/site-packages/sklearn/cluster/_kmeans.py:1416: FutureWarning:\n",
      "\n",
      "The default value of `n_init` will change from 10 to 'auto' in 1.4. Set the value of `n_init` explicitly to suppress the warning\n",
      "\n",
      "/Library/Frameworks/Python.framework/Versions/3.10/lib/python3.10/site-packages/sklearn/cluster/_kmeans.py:1416: FutureWarning:\n",
      "\n",
      "The default value of `n_init` will change from 10 to 'auto' in 1.4. Set the value of `n_init` explicitly to suppress the warning\n",
      "\n",
      "/Library/Frameworks/Python.framework/Versions/3.10/lib/python3.10/site-packages/sklearn/cluster/_kmeans.py:1416: FutureWarning:\n",
      "\n",
      "The default value of `n_init` will change from 10 to 'auto' in 1.4. Set the value of `n_init` explicitly to suppress the warning\n",
      "\n",
      "/Library/Frameworks/Python.framework/Versions/3.10/lib/python3.10/site-packages/sklearn/cluster/_kmeans.py:1416: FutureWarning:\n",
      "\n",
      "The default value of `n_init` will change from 10 to 'auto' in 1.4. Set the value of `n_init` explicitly to suppress the warning\n",
      "\n",
      "/Library/Frameworks/Python.framework/Versions/3.10/lib/python3.10/site-packages/sklearn/cluster/_kmeans.py:1416: FutureWarning:\n",
      "\n",
      "The default value of `n_init` will change from 10 to 'auto' in 1.4. Set the value of `n_init` explicitly to suppress the warning\n",
      "\n",
      "/Library/Frameworks/Python.framework/Versions/3.10/lib/python3.10/site-packages/sklearn/cluster/_kmeans.py:1416: FutureWarning:\n",
      "\n",
      "The default value of `n_init` will change from 10 to 'auto' in 1.4. Set the value of `n_init` explicitly to suppress the warning\n",
      "\n",
      "/Library/Frameworks/Python.framework/Versions/3.10/lib/python3.10/site-packages/sklearn/cluster/_kmeans.py:1416: FutureWarning:\n",
      "\n",
      "The default value of `n_init` will change from 10 to 'auto' in 1.4. Set the value of `n_init` explicitly to suppress the warning\n",
      "\n",
      "/Library/Frameworks/Python.framework/Versions/3.10/lib/python3.10/site-packages/sklearn/cluster/_kmeans.py:1416: FutureWarning:\n",
      "\n",
      "The default value of `n_init` will change from 10 to 'auto' in 1.4. Set the value of `n_init` explicitly to suppress the warning\n",
      "\n",
      "/Library/Frameworks/Python.framework/Versions/3.10/lib/python3.10/site-packages/sklearn/cluster/_kmeans.py:1416: FutureWarning:\n",
      "\n",
      "The default value of `n_init` will change from 10 to 'auto' in 1.4. Set the value of `n_init` explicitly to suppress the warning\n",
      "\n",
      "/Library/Frameworks/Python.framework/Versions/3.10/lib/python3.10/site-packages/sklearn/cluster/_kmeans.py:1416: FutureWarning:\n",
      "\n",
      "The default value of `n_init` will change from 10 to 'auto' in 1.4. Set the value of `n_init` explicitly to suppress the warning\n",
      "\n",
      "/Library/Frameworks/Python.framework/Versions/3.10/lib/python3.10/site-packages/sklearn/cluster/_kmeans.py:1416: FutureWarning:\n",
      "\n",
      "The default value of `n_init` will change from 10 to 'auto' in 1.4. Set the value of `n_init` explicitly to suppress the warning\n",
      "\n",
      "/Library/Frameworks/Python.framework/Versions/3.10/lib/python3.10/site-packages/sklearn/cluster/_kmeans.py:1416: FutureWarning:\n",
      "\n",
      "The default value of `n_init` will change from 10 to 'auto' in 1.4. Set the value of `n_init` explicitly to suppress the warning\n",
      "\n",
      "/Library/Frameworks/Python.framework/Versions/3.10/lib/python3.10/site-packages/sklearn/cluster/_kmeans.py:1416: FutureWarning:\n",
      "\n",
      "The default value of `n_init` will change from 10 to 'auto' in 1.4. Set the value of `n_init` explicitly to suppress the warning\n",
      "\n",
      "/Library/Frameworks/Python.framework/Versions/3.10/lib/python3.10/site-packages/sklearn/cluster/_kmeans.py:1416: FutureWarning:\n",
      "\n",
      "The default value of `n_init` will change from 10 to 'auto' in 1.4. Set the value of `n_init` explicitly to suppress the warning\n",
      "\n",
      "/Library/Frameworks/Python.framework/Versions/3.10/lib/python3.10/site-packages/sklearn/cluster/_kmeans.py:1416: FutureWarning:\n",
      "\n",
      "The default value of `n_init` will change from 10 to 'auto' in 1.4. Set the value of `n_init` explicitly to suppress the warning\n",
      "\n",
      "/Library/Frameworks/Python.framework/Versions/3.10/lib/python3.10/site-packages/sklearn/cluster/_kmeans.py:1416: FutureWarning:\n",
      "\n",
      "The default value of `n_init` will change from 10 to 'auto' in 1.4. Set the value of `n_init` explicitly to suppress the warning\n",
      "\n",
      "/Library/Frameworks/Python.framework/Versions/3.10/lib/python3.10/site-packages/sklearn/cluster/_kmeans.py:1416: FutureWarning:\n",
      "\n",
      "The default value of `n_init` will change from 10 to 'auto' in 1.4. Set the value of `n_init` explicitly to suppress the warning\n",
      "\n",
      "/Library/Frameworks/Python.framework/Versions/3.10/lib/python3.10/site-packages/sklearn/cluster/_kmeans.py:1416: FutureWarning:\n",
      "\n",
      "The default value of `n_init` will change from 10 to 'auto' in 1.4. Set the value of `n_init` explicitly to suppress the warning\n",
      "\n",
      "/Library/Frameworks/Python.framework/Versions/3.10/lib/python3.10/site-packages/sklearn/cluster/_kmeans.py:1416: FutureWarning:\n",
      "\n",
      "The default value of `n_init` will change from 10 to 'auto' in 1.4. Set the value of `n_init` explicitly to suppress the warning\n",
      "\n",
      "/Library/Frameworks/Python.framework/Versions/3.10/lib/python3.10/site-packages/sklearn/cluster/_kmeans.py:1416: FutureWarning:\n",
      "\n",
      "The default value of `n_init` will change from 10 to 'auto' in 1.4. Set the value of `n_init` explicitly to suppress the warning\n",
      "\n",
      "/Library/Frameworks/Python.framework/Versions/3.10/lib/python3.10/site-packages/sklearn/cluster/_kmeans.py:1416: FutureWarning:\n",
      "\n",
      "The default value of `n_init` will change from 10 to 'auto' in 1.4. Set the value of `n_init` explicitly to suppress the warning\n",
      "\n",
      "/Library/Frameworks/Python.framework/Versions/3.10/lib/python3.10/site-packages/sklearn/cluster/_kmeans.py:1416: FutureWarning:\n",
      "\n",
      "The default value of `n_init` will change from 10 to 'auto' in 1.4. Set the value of `n_init` explicitly to suppress the warning\n",
      "\n",
      "/Library/Frameworks/Python.framework/Versions/3.10/lib/python3.10/site-packages/sklearn/cluster/_kmeans.py:1416: FutureWarning:\n",
      "\n",
      "The default value of `n_init` will change from 10 to 'auto' in 1.4. Set the value of `n_init` explicitly to suppress the warning\n",
      "\n",
      "/Library/Frameworks/Python.framework/Versions/3.10/lib/python3.10/site-packages/sklearn/cluster/_kmeans.py:1416: FutureWarning:\n",
      "\n",
      "The default value of `n_init` will change from 10 to 'auto' in 1.4. Set the value of `n_init` explicitly to suppress the warning\n",
      "\n",
      "/Library/Frameworks/Python.framework/Versions/3.10/lib/python3.10/site-packages/sklearn/cluster/_kmeans.py:1416: FutureWarning:\n",
      "\n",
      "The default value of `n_init` will change from 10 to 'auto' in 1.4. Set the value of `n_init` explicitly to suppress the warning\n",
      "\n",
      "/Library/Frameworks/Python.framework/Versions/3.10/lib/python3.10/site-packages/sklearn/cluster/_kmeans.py:1416: FutureWarning:\n",
      "\n",
      "The default value of `n_init` will change from 10 to 'auto' in 1.4. Set the value of `n_init` explicitly to suppress the warning\n",
      "\n"
     ]
    },
    {
     "name": "stdout",
     "output_type": "stream",
     "text": [
      "for grid <FORMBY GT2B / SOUTHPORT GT1 / SOUTHPORT GT2>, center is [[53.60119713 -2.9938046 ]]\n",
      "for grid <GATEACRE GT1 / HUYTON GT1 / KIRKBY GT3 / PRESCOT GT1A>, center is [[53.42858108 -2.8454183 ]]\n",
      "for grid <HALEWOOD G1B / HALEWOOD G2B / HALEWOOD GT3 / SPEKE GT1A>, center is [[53.35547319 -2.84770652]]\n",
      "for grid <BOLD G2A / PRESCOT GT1B / WIDNES GT1 / WIDNES GT2>, center is [[53.40681825 -2.75961522]]\n",
      "for grid <AINTREE GT2 / FAZAKERLEY GT1 / GILLMOSS GT2>, center is [[53.4735522 -2.9292385]]\n",
      "for grid <BOOTLE GT1 / LITHERLAND GT1A>, center is [[53.46865056 -2.99215199]]\n",
      "for grid <GARSTON GT2 / SPEKE GT3 / WAVERTREE GT1A>, center is [[53.35572594 -2.87797441]]\n",
      "for grid <GILLMOSS GT1 / KIRKBY GT2 / SIMONSWOOD GT1>, center is [[53.47595345 -2.87341446]]\n",
      "for grid <RAVENHEAD G1A1 / ST HELENS GT2B / WINDLE GT1>, center is [[53.45600192 -2.76007201]]\n",
      "for grid <BOLD G4B / RAVENHEAD G1A2 / ST HELENS GT2A>, center is [[53.44468178 -2.74597757]]\n",
      "for grid <BURLINGTON ST GT2 / LISTER DV B GT1 / PARADISE ST GT1>, center is [[53.41584411 -2.96681383]]\n",
      "for grid <LISTER DV B GT3 / SPARLING ST GT1 / WAVERTREE GT2>, center is [[53.40498325 -2.94322922]]\n"
     ]
    },
    {
     "data": {
      "text/html": [
       "<div>\n",
       "<style scoped>\n",
       "    .dataframe tbody tr th:only-of-type {\n",
       "        vertical-align: middle;\n",
       "    }\n",
       "\n",
       "    .dataframe tbody tr th {\n",
       "        vertical-align: top;\n",
       "    }\n",
       "\n",
       "    .dataframe thead th {\n",
       "        text-align: right;\n",
       "    }\n",
       "</style>\n",
       "<table border=\"1\" class=\"dataframe\">\n",
       "  <thead>\n",
       "    <tr style=\"text-align: right;\">\n",
       "      <th></th>\n",
       "      <th>Substation Name</th>\n",
       "      <th>Nominal Voltage (kV)</th>\n",
       "      <th>Grid Group</th>\n",
       "      <th>Firm Capacity (MVA)</th>\n",
       "      <th>Maximum Load (MVA)</th>\n",
       "      <th>Minimum Load (MVA)</th>\n",
       "      <th>Generation Connected (MW)</th>\n",
       "      <th>Generation Contracted (MW)</th>\n",
       "      <th>Overall Category</th>\n",
       "      <th>long</th>\n",
       "      <th>lat</th>\n",
       "      <th>lat_group</th>\n",
       "      <th>long_group</th>\n",
       "      <th>distance</th>\n",
       "    </tr>\n",
       "  </thead>\n",
       "  <tbody>\n",
       "    <tr>\n",
       "      <th>0</th>\n",
       "      <td>DICKINSONS</td>\n",
       "      <td>33/11</td>\n",
       "      <td>ACORNFIELD RD T1 / DICKINSONS T1 / HAMMOND RD ...</td>\n",
       "      <td>30.0</td>\n",
       "      <td>14.71</td>\n",
       "      <td>3.68</td>\n",
       "      <td>0.04</td>\n",
       "      <td>0.0</td>\n",
       "      <td>RED</td>\n",
       "      <td>-2.868960</td>\n",
       "      <td>53.479467</td>\n",
       "      <td>53.484225</td>\n",
       "      <td>-2.859639</td>\n",
       "      <td>0.010465</td>\n",
       "    </tr>\n",
       "    <tr>\n",
       "      <th>1</th>\n",
       "      <td>WAVERTREE</td>\n",
       "      <td>33/11</td>\n",
       "      <td>AIGBURTH VALE T1 / IVY AVE T1 / MATHER AVE T1 ...</td>\n",
       "      <td>37.5</td>\n",
       "      <td>18.97</td>\n",
       "      <td>4.74</td>\n",
       "      <td>0.00</td>\n",
       "      <td>0.0</td>\n",
       "      <td>RED</td>\n",
       "      <td>-2.920402</td>\n",
       "      <td>53.392115</td>\n",
       "      <td>53.378845</td>\n",
       "      <td>-2.920549</td>\n",
       "      <td>0.013271</td>\n",
       "    </tr>\n",
       "    <tr>\n",
       "      <th>2</th>\n",
       "      <td>AINTREE</td>\n",
       "      <td>33/11</td>\n",
       "      <td>AINTREE LOCAL T1 / OLD ROAN T1 / WANGO LA T1</td>\n",
       "      <td>20.0</td>\n",
       "      <td>11.67</td>\n",
       "      <td>2.92</td>\n",
       "      <td>0.00</td>\n",
       "      <td>0.0</td>\n",
       "      <td>AMBER</td>\n",
       "      <td>-2.952121</td>\n",
       "      <td>53.479927</td>\n",
       "      <td>53.482212</td>\n",
       "      <td>-2.940717</td>\n",
       "      <td>0.011630</td>\n",
       "    </tr>\n",
       "    <tr>\n",
       "      <th>3</th>\n",
       "      <td>WAVERTREE VALE</td>\n",
       "      <td>33/6.3</td>\n",
       "      <td>ARUNDEL T1 / GROVE PK T1 / WAVERTREE VALE T1</td>\n",
       "      <td>17.5</td>\n",
       "      <td>10.12</td>\n",
       "      <td>2.53</td>\n",
       "      <td>0.00</td>\n",
       "      <td>0.0</td>\n",
       "      <td>RED</td>\n",
       "      <td>-2.934837</td>\n",
       "      <td>53.401313</td>\n",
       "      <td>53.395105</td>\n",
       "      <td>-2.936518</td>\n",
       "      <td>0.006432</td>\n",
       "    </tr>\n",
       "    <tr>\n",
       "      <th>4</th>\n",
       "      <td>LARK LANE</td>\n",
       "      <td>33/11</td>\n",
       "      <td>BEAUMONT ST T1 / DINGLE VALE T1 / LARK LA T1 /...</td>\n",
       "      <td>30.0</td>\n",
       "      <td>20.86</td>\n",
       "      <td>5.21</td>\n",
       "      <td>1.60</td>\n",
       "      <td>0.0</td>\n",
       "      <td>RED</td>\n",
       "      <td>-2.944624</td>\n",
       "      <td>53.384398</td>\n",
       "      <td>53.389567</td>\n",
       "      <td>-2.958804</td>\n",
       "      <td>0.015092</td>\n",
       "    </tr>\n",
       "    <tr>\n",
       "      <th>...</th>\n",
       "      <td>...</td>\n",
       "      <td>...</td>\n",
       "      <td>...</td>\n",
       "      <td>...</td>\n",
       "      <td>...</td>\n",
       "      <td>...</td>\n",
       "      <td>...</td>\n",
       "      <td>...</td>\n",
       "      <td>...</td>\n",
       "      <td>...</td>\n",
       "      <td>...</td>\n",
       "      <td>...</td>\n",
       "      <td>...</td>\n",
       "      <td>...</td>\n",
       "    </tr>\n",
       "    <tr>\n",
       "      <th>262</th>\n",
       "      <td>BURLINGTON STREET</td>\n",
       "      <td>132/33</td>\n",
       "      <td>BURLINGTON ST GT2 / LISTER DV B GT1 / PARADISE...</td>\n",
       "      <td>139.0</td>\n",
       "      <td>81.40</td>\n",
       "      <td>20.30</td>\n",
       "      <td>27.00</td>\n",
       "      <td>0.0</td>\n",
       "      <td>AMBER</td>\n",
       "      <td>-2.989788</td>\n",
       "      <td>53.421332</td>\n",
       "      <td>53.415844</td>\n",
       "      <td>-2.966814</td>\n",
       "      <td>0.023621</td>\n",
       "    </tr>\n",
       "    <tr>\n",
       "      <th>263</th>\n",
       "      <td>GILLMOSS</td>\n",
       "      <td>132/33</td>\n",
       "      <td>GILLMOSS GT1 / KIRKBY GT2 / SIMONSWOOD GT1</td>\n",
       "      <td>90.2</td>\n",
       "      <td>52.40</td>\n",
       "      <td>13.10</td>\n",
       "      <td>0.00</td>\n",
       "      <td>20.0</td>\n",
       "      <td>RED</td>\n",
       "      <td>-2.899936</td>\n",
       "      <td>53.464576</td>\n",
       "      <td>53.475953</td>\n",
       "      <td>-2.873414</td>\n",
       "      <td>0.028859</td>\n",
       "    </tr>\n",
       "    <tr>\n",
       "      <th>264</th>\n",
       "      <td>KIRKBY</td>\n",
       "      <td>132/33</td>\n",
       "      <td>GILLMOSS GT1 / KIRKBY GT2 / SIMONSWOOD GT1</td>\n",
       "      <td>90.2</td>\n",
       "      <td>52.40</td>\n",
       "      <td>13.10</td>\n",
       "      <td>0.00</td>\n",
       "      <td>20.0</td>\n",
       "      <td>RED</td>\n",
       "      <td>-2.855142</td>\n",
       "      <td>53.470892</td>\n",
       "      <td>53.475953</td>\n",
       "      <td>-2.873414</td>\n",
       "      <td>0.018960</td>\n",
       "    </tr>\n",
       "    <tr>\n",
       "      <th>265</th>\n",
       "      <td>SPARLING STREET</td>\n",
       "      <td>132/33</td>\n",
       "      <td>LISTER DV B GT3 / SPARLING ST GT1 / WAVERTREE GT2</td>\n",
       "      <td>138.4</td>\n",
       "      <td>94.50</td>\n",
       "      <td>23.60</td>\n",
       "      <td>7.10</td>\n",
       "      <td>0.0</td>\n",
       "      <td>AMBER</td>\n",
       "      <td>-2.981651</td>\n",
       "      <td>53.401599</td>\n",
       "      <td>53.404983</td>\n",
       "      <td>-2.943229</td>\n",
       "      <td>0.038571</td>\n",
       "    </tr>\n",
       "    <tr>\n",
       "      <th>266</th>\n",
       "      <td>WAVERTREE</td>\n",
       "      <td>132/33</td>\n",
       "      <td>LISTER DV B GT3 / SPARLING ST GT1 / WAVERTREE GT2</td>\n",
       "      <td>138.4</td>\n",
       "      <td>94.50</td>\n",
       "      <td>23.60</td>\n",
       "      <td>7.10</td>\n",
       "      <td>0.0</td>\n",
       "      <td>AMBER</td>\n",
       "      <td>-2.919679</td>\n",
       "      <td>53.392054</td>\n",
       "      <td>53.404983</td>\n",
       "      <td>-2.943229</td>\n",
       "      <td>0.026866</td>\n",
       "    </tr>\n",
       "  </tbody>\n",
       "</table>\n",
       "<p>267 rows × 14 columns</p>\n",
       "</div>"
      ],
      "text/plain": [
       "       Substation Name Nominal Voltage (kV)  \\\n",
       "0           DICKINSONS                33/11   \n",
       "1            WAVERTREE                33/11   \n",
       "2              AINTREE                33/11   \n",
       "3       WAVERTREE VALE               33/6.3   \n",
       "4            LARK LANE                33/11   \n",
       "..                 ...                  ...   \n",
       "262  BURLINGTON STREET               132/33   \n",
       "263           GILLMOSS               132/33   \n",
       "264             KIRKBY               132/33   \n",
       "265    SPARLING STREET               132/33   \n",
       "266          WAVERTREE               132/33   \n",
       "\n",
       "                                            Grid Group  Firm Capacity (MVA)  \\\n",
       "0    ACORNFIELD RD T1 / DICKINSONS T1 / HAMMOND RD ...                 30.0   \n",
       "1    AIGBURTH VALE T1 / IVY AVE T1 / MATHER AVE T1 ...                 37.5   \n",
       "2         AINTREE LOCAL T1 / OLD ROAN T1 / WANGO LA T1                 20.0   \n",
       "3         ARUNDEL T1 / GROVE PK T1 / WAVERTREE VALE T1                 17.5   \n",
       "4    BEAUMONT ST T1 / DINGLE VALE T1 / LARK LA T1 /...                 30.0   \n",
       "..                                                 ...                  ...   \n",
       "262  BURLINGTON ST GT2 / LISTER DV B GT1 / PARADISE...                139.0   \n",
       "263         GILLMOSS GT1 / KIRKBY GT2 / SIMONSWOOD GT1                 90.2   \n",
       "264         GILLMOSS GT1 / KIRKBY GT2 / SIMONSWOOD GT1                 90.2   \n",
       "265  LISTER DV B GT3 / SPARLING ST GT1 / WAVERTREE GT2                138.4   \n",
       "266  LISTER DV B GT3 / SPARLING ST GT1 / WAVERTREE GT2                138.4   \n",
       "\n",
       "     Maximum Load (MVA)  Minimum Load (MVA)  Generation Connected (MW)  \\\n",
       "0                 14.71                3.68                       0.04   \n",
       "1                 18.97                4.74                       0.00   \n",
       "2                 11.67                2.92                       0.00   \n",
       "3                 10.12                2.53                       0.00   \n",
       "4                 20.86                5.21                       1.60   \n",
       "..                  ...                 ...                        ...   \n",
       "262               81.40               20.30                      27.00   \n",
       "263               52.40               13.10                       0.00   \n",
       "264               52.40               13.10                       0.00   \n",
       "265               94.50               23.60                       7.10   \n",
       "266               94.50               23.60                       7.10   \n",
       "\n",
       "     Generation Contracted (MW) Overall Category      long        lat  \\\n",
       "0                           0.0              RED -2.868960  53.479467   \n",
       "1                           0.0              RED -2.920402  53.392115   \n",
       "2                           0.0            AMBER -2.952121  53.479927   \n",
       "3                           0.0              RED -2.934837  53.401313   \n",
       "4                           0.0              RED -2.944624  53.384398   \n",
       "..                          ...              ...       ...        ...   \n",
       "262                         0.0            AMBER -2.989788  53.421332   \n",
       "263                        20.0              RED -2.899936  53.464576   \n",
       "264                        20.0              RED -2.855142  53.470892   \n",
       "265                         0.0            AMBER -2.981651  53.401599   \n",
       "266                         0.0            AMBER -2.919679  53.392054   \n",
       "\n",
       "     lat_group  long_group  distance  \n",
       "0    53.484225   -2.859639  0.010465  \n",
       "1    53.378845   -2.920549  0.013271  \n",
       "2    53.482212   -2.940717  0.011630  \n",
       "3    53.395105   -2.936518  0.006432  \n",
       "4    53.389567   -2.958804  0.015092  \n",
       "..         ...         ...       ...  \n",
       "262  53.415844   -2.966814  0.023621  \n",
       "263  53.475953   -2.873414  0.028859  \n",
       "264  53.475953   -2.873414  0.018960  \n",
       "265  53.404983   -2.943229  0.038571  \n",
       "266  53.404983   -2.943229  0.026866  \n",
       "\n",
       "[267 rows x 14 columns]"
      ]
     },
     "execution_count": 27,
     "metadata": {},
     "output_type": "execute_result"
    }
   ],
   "source": [
    "for gg in df_gg['Grid Group'].unique():\n",
    "    df = df_gg.query('`Grid Group` == \"' + gg + '\"')[['lat', 'long']]\n",
    "    kmeans = KMeans(n_clusters=1)\n",
    "    kmeans.fit(df)\n",
    "    print(f'for grid <{gg}>, center is {kmeans.cluster_centers_}')\n",
    "    df_gg.loc[df_gg['Grid Group'] == gg, 'lat_group'] = kmeans.cluster_centers_[0][0]\n",
    "    df_gg.loc[df_gg['Grid Group'] == gg, 'long_group'] = kmeans.cluster_centers_[0][1]\n",
    "df_gg['distance'] = ((df_gg['lat'] - df_gg['lat_group']) **2 + (df_gg['long'] - df_gg['long_group']) **2) **0.5\n",
    "df_gg.to_excel('gg.xlsx', index=False)\n",
    "df_gg"
   ]
  },
  {
   "cell_type": "markdown",
   "metadata": {},
   "source": [
    "# flow - substations\n",
    "match capacity (MVA) with flow (MW)"
   ]
  },
  {
   "cell_type": "code",
   "execution_count": 28,
   "metadata": {},
   "outputs": [
    {
     "data": {
      "text/html": [
       "<div>\n",
       "<style scoped>\n",
       "    .dataframe tbody tr th:only-of-type {\n",
       "        vertical-align: middle;\n",
       "    }\n",
       "\n",
       "    .dataframe tbody tr th {\n",
       "        vertical-align: top;\n",
       "    }\n",
       "\n",
       "    .dataframe thead th {\n",
       "        text-align: right;\n",
       "    }\n",
       "</style>\n",
       "<table border=\"1\" class=\"dataframe\">\n",
       "  <thead>\n",
       "    <tr style=\"text-align: right;\">\n",
       "      <th></th>\n",
       "      <th>group_name</th>\n",
       "      <th>net_mw_mean</th>\n",
       "      <th>net_mw_max</th>\n",
       "      <th>net_amps_mean</th>\n",
       "      <th>net_amps_max</th>\n",
       "      <th>net_mvar_mean</th>\n",
       "      <th>net_mvar_max</th>\n",
       "      <th>generation_output_mw_mean</th>\n",
       "      <th>generation_output_mw_max</th>\n",
       "      <th>underlying_demand_mw_mean</th>\n",
       "      <th>underlying_demand_mw_max</th>\n",
       "    </tr>\n",
       "  </thead>\n",
       "  <tbody>\n",
       "    <tr>\n",
       "      <th>0</th>\n",
       "      <td>ACORNFIELD RD T1 / DICKINSONS T1 / HAMMOND RD ...</td>\n",
       "      <td>8.105243</td>\n",
       "      <td>15.288</td>\n",
       "      <td>0.0</td>\n",
       "      <td>0.0</td>\n",
       "      <td>1.432054</td>\n",
       "      <td>4.210</td>\n",
       "      <td>0.000000</td>\n",
       "      <td>0.0</td>\n",
       "      <td>8.105243</td>\n",
       "      <td>15.288</td>\n",
       "    </tr>\n",
       "    <tr>\n",
       "      <th>1</th>\n",
       "      <td>AIGBURTH VALE T1 / IVY AVE T1 / MATHER AVE T1 ...</td>\n",
       "      <td>9.724854</td>\n",
       "      <td>20.424</td>\n",
       "      <td>0.0</td>\n",
       "      <td>0.0</td>\n",
       "      <td>-1.503333</td>\n",
       "      <td>0.166</td>\n",
       "      <td>0.000000</td>\n",
       "      <td>0.0</td>\n",
       "      <td>9.724854</td>\n",
       "      <td>20.424</td>\n",
       "    </tr>\n",
       "    <tr>\n",
       "      <th>2</th>\n",
       "      <td>AINSDALE T1 / PINFOLD LA T1</td>\n",
       "      <td>2.467226</td>\n",
       "      <td>5.668</td>\n",
       "      <td>0.0</td>\n",
       "      <td>0.0</td>\n",
       "      <td>-0.229422</td>\n",
       "      <td>0.242</td>\n",
       "      <td>0.000000</td>\n",
       "      <td>0.0</td>\n",
       "      <td>2.467226</td>\n",
       "      <td>5.668</td>\n",
       "    </tr>\n",
       "    <tr>\n",
       "      <th>3</th>\n",
       "      <td>AINTREE GT1 / FORMBY GT2A / LITHERLAND GT1B</td>\n",
       "      <td>26.751864</td>\n",
       "      <td>48.584</td>\n",
       "      <td>0.0</td>\n",
       "      <td>0.0</td>\n",
       "      <td>-5.708227</td>\n",
       "      <td>2.077</td>\n",
       "      <td>0.000000</td>\n",
       "      <td>0.0</td>\n",
       "      <td>26.751864</td>\n",
       "      <td>48.584</td>\n",
       "    </tr>\n",
       "    <tr>\n",
       "      <th>4</th>\n",
       "      <td>AINTREE GT2 / FAZAKERLEY GT1 / GILLMOSS GT2</td>\n",
       "      <td>30.095884</td>\n",
       "      <td>65.356</td>\n",
       "      <td>0.0</td>\n",
       "      <td>0.0</td>\n",
       "      <td>-5.048644</td>\n",
       "      <td>8.514</td>\n",
       "      <td>0.000000</td>\n",
       "      <td>0.0</td>\n",
       "      <td>30.095884</td>\n",
       "      <td>65.356</td>\n",
       "    </tr>\n",
       "    <tr>\n",
       "      <th>...</th>\n",
       "      <td>...</td>\n",
       "      <td>...</td>\n",
       "      <td>...</td>\n",
       "      <td>...</td>\n",
       "      <td>...</td>\n",
       "      <td>...</td>\n",
       "      <td>...</td>\n",
       "      <td>...</td>\n",
       "      <td>...</td>\n",
       "      <td>...</td>\n",
       "      <td>...</td>\n",
       "    </tr>\n",
       "    <tr>\n",
       "      <th>86</th>\n",
       "      <td>Paddington Place T1 / Paddington Place T2</td>\n",
       "      <td>0.085609</td>\n",
       "      <td>0.086</td>\n",
       "      <td>0.0</td>\n",
       "      <td>0.0</td>\n",
       "      <td>-0.052753</td>\n",
       "      <td>0.026</td>\n",
       "      <td>0.000000</td>\n",
       "      <td>0.0</td>\n",
       "      <td>0.085609</td>\n",
       "      <td>0.086</td>\n",
       "    </tr>\n",
       "    <tr>\n",
       "      <th>87</th>\n",
       "      <td>RAINHILL</td>\n",
       "      <td>183.204562</td>\n",
       "      <td>314.235</td>\n",
       "      <td>0.0</td>\n",
       "      <td>0.0</td>\n",
       "      <td>-79.346309</td>\n",
       "      <td>0.000</td>\n",
       "      <td>-31.569335</td>\n",
       "      <td>-0.0</td>\n",
       "      <td>214.773897</td>\n",
       "      <td>331.875</td>\n",
       "    </tr>\n",
       "    <tr>\n",
       "      <th>88</th>\n",
       "      <td>RAVENHEAD G1A1 / ST HELENS GT1 / WINDLE GT1</td>\n",
       "      <td>19.364394</td>\n",
       "      <td>39.394</td>\n",
       "      <td>0.0</td>\n",
       "      <td>0.0</td>\n",
       "      <td>-0.404820</td>\n",
       "      <td>5.213</td>\n",
       "      <td>-11.700000</td>\n",
       "      <td>-11.7</td>\n",
       "      <td>31.064394</td>\n",
       "      <td>51.094</td>\n",
       "    </tr>\n",
       "    <tr>\n",
       "      <th>89</th>\n",
       "      <td>ROYAL INSURANCE (NEW QUAY) T1 / ROYAL INSURANC...</td>\n",
       "      <td>0.261790</td>\n",
       "      <td>0.455</td>\n",
       "      <td>0.0</td>\n",
       "      <td>0.0</td>\n",
       "      <td>0.028908</td>\n",
       "      <td>0.164</td>\n",
       "      <td>0.000000</td>\n",
       "      <td>0.0</td>\n",
       "      <td>0.261790</td>\n",
       "      <td>0.455</td>\n",
       "    </tr>\n",
       "    <tr>\n",
       "      <th>90</th>\n",
       "      <td>Wavertree Boulevard T1 / Wavertree Boulevard T2</td>\n",
       "      <td>6.350573</td>\n",
       "      <td>14.122</td>\n",
       "      <td>0.0</td>\n",
       "      <td>0.0</td>\n",
       "      <td>22.742176</td>\n",
       "      <td>105.502</td>\n",
       "      <td>0.000000</td>\n",
       "      <td>0.0</td>\n",
       "      <td>6.350573</td>\n",
       "      <td>14.122</td>\n",
       "    </tr>\n",
       "  </tbody>\n",
       "</table>\n",
       "<p>91 rows × 11 columns</p>\n",
       "</div>"
      ],
      "text/plain": [
       "                                           group_name  net_mw_mean  \\\n",
       "0   ACORNFIELD RD T1 / DICKINSONS T1 / HAMMOND RD ...     8.105243   \n",
       "1   AIGBURTH VALE T1 / IVY AVE T1 / MATHER AVE T1 ...     9.724854   \n",
       "2                         AINSDALE T1 / PINFOLD LA T1     2.467226   \n",
       "3         AINTREE GT1 / FORMBY GT2A / LITHERLAND GT1B    26.751864   \n",
       "4         AINTREE GT2 / FAZAKERLEY GT1 / GILLMOSS GT2    30.095884   \n",
       "..                                                ...          ...   \n",
       "86          Paddington Place T1 / Paddington Place T2     0.085609   \n",
       "87                                           RAINHILL   183.204562   \n",
       "88        RAVENHEAD G1A1 / ST HELENS GT1 / WINDLE GT1    19.364394   \n",
       "89  ROYAL INSURANCE (NEW QUAY) T1 / ROYAL INSURANC...     0.261790   \n",
       "90    Wavertree Boulevard T1 / Wavertree Boulevard T2     6.350573   \n",
       "\n",
       "    net_mw_max  net_amps_mean  net_amps_max  net_mvar_mean  net_mvar_max  \\\n",
       "0       15.288            0.0           0.0       1.432054         4.210   \n",
       "1       20.424            0.0           0.0      -1.503333         0.166   \n",
       "2        5.668            0.0           0.0      -0.229422         0.242   \n",
       "3       48.584            0.0           0.0      -5.708227         2.077   \n",
       "4       65.356            0.0           0.0      -5.048644         8.514   \n",
       "..         ...            ...           ...            ...           ...   \n",
       "86       0.086            0.0           0.0      -0.052753         0.026   \n",
       "87     314.235            0.0           0.0     -79.346309         0.000   \n",
       "88      39.394            0.0           0.0      -0.404820         5.213   \n",
       "89       0.455            0.0           0.0       0.028908         0.164   \n",
       "90      14.122            0.0           0.0      22.742176       105.502   \n",
       "\n",
       "    generation_output_mw_mean  generation_output_mw_max  \\\n",
       "0                    0.000000                       0.0   \n",
       "1                    0.000000                       0.0   \n",
       "2                    0.000000                       0.0   \n",
       "3                    0.000000                       0.0   \n",
       "4                    0.000000                       0.0   \n",
       "..                        ...                       ...   \n",
       "86                   0.000000                       0.0   \n",
       "87                 -31.569335                      -0.0   \n",
       "88                 -11.700000                     -11.7   \n",
       "89                   0.000000                       0.0   \n",
       "90                   0.000000                       0.0   \n",
       "\n",
       "    underlying_demand_mw_mean  underlying_demand_mw_max  \n",
       "0                    8.105243                    15.288  \n",
       "1                    9.724854                    20.424  \n",
       "2                    2.467226                     5.668  \n",
       "3                   26.751864                    48.584  \n",
       "4                   30.095884                    65.356  \n",
       "..                        ...                       ...  \n",
       "86                   0.085609                     0.086  \n",
       "87                 214.773897                   331.875  \n",
       "88                  31.064394                    51.094  \n",
       "89                   0.261790                     0.455  \n",
       "90                   6.350573                    14.122  \n",
       "\n",
       "[91 rows x 11 columns]"
      ]
     },
     "execution_count": 28,
     "metadata": {},
     "output_type": "execute_result"
    }
   ],
   "source": [
    "def __my_flatten_cols(self, how=\"_\".join, reset_index=True):\n",
    "    how = (lambda iter: list(iter)[-1]) if how == \"last\" else how\n",
    "    self.columns = [how(filter(None, map(str, levels))) for levels in self.columns.values] \\\n",
    "                    if isinstance(self.columns, pd.MultiIndex) else self.columns\n",
    "    return self.reset_index() if reset_index else self\n",
    "pd.DataFrame.my_flatten_cols = __my_flatten_cols\n",
    "\n",
    "df_flow_sub = df_flow_m.groupby('group_name')[['net_mw', 'net_amps', 'net_mvar', 'generation_output_mw', 'underlying_demand_mw']].agg(['mean', 'max'])\n",
    "df_flow_sub.my_flatten_cols()"
   ]
  },
  {
   "cell_type": "code",
   "execution_count": 29,
   "metadata": {},
   "outputs": [
    {
     "data": {
      "text/html": [
       "<div>\n",
       "<style scoped>\n",
       "    .dataframe tbody tr th:only-of-type {\n",
       "        vertical-align: middle;\n",
       "    }\n",
       "\n",
       "    .dataframe tbody tr th {\n",
       "        vertical-align: top;\n",
       "    }\n",
       "\n",
       "    .dataframe thead th {\n",
       "        text-align: right;\n",
       "    }\n",
       "</style>\n",
       "<table border=\"1\" class=\"dataframe\">\n",
       "  <thead>\n",
       "    <tr style=\"text-align: right;\">\n",
       "      <th></th>\n",
       "      <th>Grid Group</th>\n",
       "      <th>lat_group</th>\n",
       "      <th>long_group</th>\n",
       "      <th>group_name</th>\n",
       "      <th>net_mw_mean</th>\n",
       "      <th>net_mw_max</th>\n",
       "      <th>net_amps_mean</th>\n",
       "      <th>net_amps_max</th>\n",
       "      <th>net_mvar_mean</th>\n",
       "      <th>net_mvar_max</th>\n",
       "      <th>generation_output_mw_mean</th>\n",
       "      <th>generation_output_mw_max</th>\n",
       "      <th>underlying_demand_mw_mean</th>\n",
       "      <th>underlying_demand_mw_max</th>\n",
       "    </tr>\n",
       "  </thead>\n",
       "  <tbody>\n",
       "    <tr>\n",
       "      <th>0</th>\n",
       "      <td>ACORNFIELD RD T1 / DICKINSONS T1 / HAMMOND RD ...</td>\n",
       "      <td>53.484225</td>\n",
       "      <td>-2.859639</td>\n",
       "      <td>ACORNFIELD RD T1 / DICKINSONS T1 / HAMMOND RD ...</td>\n",
       "      <td>8.105243</td>\n",
       "      <td>15.288</td>\n",
       "      <td>0.0</td>\n",
       "      <td>0.0</td>\n",
       "      <td>1.432054</td>\n",
       "      <td>4.210</td>\n",
       "      <td>0.000000</td>\n",
       "      <td>0.0</td>\n",
       "      <td>8.105243</td>\n",
       "      <td>15.288</td>\n",
       "    </tr>\n",
       "    <tr>\n",
       "      <th>1</th>\n",
       "      <td>AIGBURTH VALE T1 / IVY AVE T1 / MATHER AVE T1 ...</td>\n",
       "      <td>53.378845</td>\n",
       "      <td>-2.920549</td>\n",
       "      <td>AIGBURTH VALE T1 / IVY AVE T1 / MATHER AVE T1 ...</td>\n",
       "      <td>9.724854</td>\n",
       "      <td>20.424</td>\n",
       "      <td>0.0</td>\n",
       "      <td>0.0</td>\n",
       "      <td>-1.503333</td>\n",
       "      <td>0.166</td>\n",
       "      <td>0.000000</td>\n",
       "      <td>0.0</td>\n",
       "      <td>9.724854</td>\n",
       "      <td>20.424</td>\n",
       "    </tr>\n",
       "    <tr>\n",
       "      <th>2</th>\n",
       "      <td>AINTREE LOCAL T1 / OLD ROAN T1 / WANGO LA T1</td>\n",
       "      <td>53.482212</td>\n",
       "      <td>-2.940717</td>\n",
       "      <td>AINTREE LOCAL T1 / OLD ROAN T1 / WANGO LA T1</td>\n",
       "      <td>5.834762</td>\n",
       "      <td>38.009</td>\n",
       "      <td>0.0</td>\n",
       "      <td>0.0</td>\n",
       "      <td>-0.179872</td>\n",
       "      <td>0.884</td>\n",
       "      <td>0.000000</td>\n",
       "      <td>0.0</td>\n",
       "      <td>5.834762</td>\n",
       "      <td>38.009</td>\n",
       "    </tr>\n",
       "    <tr>\n",
       "      <th>3</th>\n",
       "      <td>ARUNDEL T1 / GROVE PK T1 / WAVERTREE VALE T1</td>\n",
       "      <td>53.395105</td>\n",
       "      <td>-2.936518</td>\n",
       "      <td>ARUNDEL T1 / GROVE PK T1 / WAVERTREE VALE T1</td>\n",
       "      <td>5.486079</td>\n",
       "      <td>11.504</td>\n",
       "      <td>0.0</td>\n",
       "      <td>0.0</td>\n",
       "      <td>-0.070256</td>\n",
       "      <td>0.980</td>\n",
       "      <td>0.000000</td>\n",
       "      <td>0.0</td>\n",
       "      <td>5.486079</td>\n",
       "      <td>11.504</td>\n",
       "    </tr>\n",
       "    <tr>\n",
       "      <th>4</th>\n",
       "      <td>BEAUMONT ST T1 / DINGLE VALE T1 / LARK LA T1 /...</td>\n",
       "      <td>53.389567</td>\n",
       "      <td>-2.958804</td>\n",
       "      <td>BEAUMONT ST T1 / DINGLE VALE T1 / LARK LA T1 /...</td>\n",
       "      <td>10.689578</td>\n",
       "      <td>19.826</td>\n",
       "      <td>0.0</td>\n",
       "      <td>0.0</td>\n",
       "      <td>-0.276175</td>\n",
       "      <td>1.370</td>\n",
       "      <td>0.000000</td>\n",
       "      <td>0.0</td>\n",
       "      <td>10.689578</td>\n",
       "      <td>19.826</td>\n",
       "    </tr>\n",
       "    <tr>\n",
       "      <th>...</th>\n",
       "      <td>...</td>\n",
       "      <td>...</td>\n",
       "      <td>...</td>\n",
       "      <td>...</td>\n",
       "      <td>...</td>\n",
       "      <td>...</td>\n",
       "      <td>...</td>\n",
       "      <td>...</td>\n",
       "      <td>...</td>\n",
       "      <td>...</td>\n",
       "      <td>...</td>\n",
       "      <td>...</td>\n",
       "      <td>...</td>\n",
       "      <td>...</td>\n",
       "    </tr>\n",
       "    <tr>\n",
       "      <th>80</th>\n",
       "      <td>GILLMOSS GT1 / KIRKBY GT2 / SIMONSWOOD GT1</td>\n",
       "      <td>53.475953</td>\n",
       "      <td>-2.873414</td>\n",
       "      <td>GILLMOSS GT1 / KIRKBY GT2 / SIMONSWOOD GT1</td>\n",
       "      <td>23.085831</td>\n",
       "      <td>42.579</td>\n",
       "      <td>0.0</td>\n",
       "      <td>0.0</td>\n",
       "      <td>-0.479017</td>\n",
       "      <td>5.427</td>\n",
       "      <td>0.000000</td>\n",
       "      <td>0.0</td>\n",
       "      <td>23.085831</td>\n",
       "      <td>42.579</td>\n",
       "    </tr>\n",
       "    <tr>\n",
       "      <th>81</th>\n",
       "      <td>RAVENHEAD G1A1 / ST HELENS GT2B / WINDLE GT1</td>\n",
       "      <td>53.456002</td>\n",
       "      <td>-2.760072</td>\n",
       "      <td>NaN</td>\n",
       "      <td>NaN</td>\n",
       "      <td>NaN</td>\n",
       "      <td>NaN</td>\n",
       "      <td>NaN</td>\n",
       "      <td>NaN</td>\n",
       "      <td>NaN</td>\n",
       "      <td>NaN</td>\n",
       "      <td>NaN</td>\n",
       "      <td>NaN</td>\n",
       "      <td>NaN</td>\n",
       "    </tr>\n",
       "    <tr>\n",
       "      <th>82</th>\n",
       "      <td>BOLD G4B / RAVENHEAD G1A2 / ST HELENS GT2A</td>\n",
       "      <td>53.444682</td>\n",
       "      <td>-2.745978</td>\n",
       "      <td>NaN</td>\n",
       "      <td>NaN</td>\n",
       "      <td>NaN</td>\n",
       "      <td>NaN</td>\n",
       "      <td>NaN</td>\n",
       "      <td>NaN</td>\n",
       "      <td>NaN</td>\n",
       "      <td>NaN</td>\n",
       "      <td>NaN</td>\n",
       "      <td>NaN</td>\n",
       "      <td>NaN</td>\n",
       "    </tr>\n",
       "    <tr>\n",
       "      <th>83</th>\n",
       "      <td>BURLINGTON ST GT2 / LISTER DV B GT1 / PARADISE...</td>\n",
       "      <td>53.415844</td>\n",
       "      <td>-2.966814</td>\n",
       "      <td>BURLINGTON ST GT2 / LISTER DV B GT1 / PARADISE...</td>\n",
       "      <td>41.910195</td>\n",
       "      <td>90.122</td>\n",
       "      <td>0.0</td>\n",
       "      <td>0.0</td>\n",
       "      <td>-1.737277</td>\n",
       "      <td>4.652</td>\n",
       "      <td>-2.876151</td>\n",
       "      <td>-0.0</td>\n",
       "      <td>44.786346</td>\n",
       "      <td>102.730</td>\n",
       "    </tr>\n",
       "    <tr>\n",
       "      <th>84</th>\n",
       "      <td>LISTER DV B GT3 / SPARLING ST GT1 / WAVERTREE GT2</td>\n",
       "      <td>53.404983</td>\n",
       "      <td>-2.943229</td>\n",
       "      <td>LISTER DV B GT3 / SPARLING ST GT1 / WAVERTREE GT2</td>\n",
       "      <td>51.416799</td>\n",
       "      <td>96.574</td>\n",
       "      <td>0.0</td>\n",
       "      <td>0.0</td>\n",
       "      <td>-8.233505</td>\n",
       "      <td>0.000</td>\n",
       "      <td>0.000000</td>\n",
       "      <td>0.0</td>\n",
       "      <td>51.416799</td>\n",
       "      <td>96.574</td>\n",
       "    </tr>\n",
       "  </tbody>\n",
       "</table>\n",
       "<p>85 rows × 14 columns</p>\n",
       "</div>"
      ],
      "text/plain": [
       "                                           Grid Group  lat_group  long_group  \\\n",
       "0   ACORNFIELD RD T1 / DICKINSONS T1 / HAMMOND RD ...  53.484225   -2.859639   \n",
       "1   AIGBURTH VALE T1 / IVY AVE T1 / MATHER AVE T1 ...  53.378845   -2.920549   \n",
       "2        AINTREE LOCAL T1 / OLD ROAN T1 / WANGO LA T1  53.482212   -2.940717   \n",
       "3        ARUNDEL T1 / GROVE PK T1 / WAVERTREE VALE T1  53.395105   -2.936518   \n",
       "4   BEAUMONT ST T1 / DINGLE VALE T1 / LARK LA T1 /...  53.389567   -2.958804   \n",
       "..                                                ...        ...         ...   \n",
       "80         GILLMOSS GT1 / KIRKBY GT2 / SIMONSWOOD GT1  53.475953   -2.873414   \n",
       "81       RAVENHEAD G1A1 / ST HELENS GT2B / WINDLE GT1  53.456002   -2.760072   \n",
       "82         BOLD G4B / RAVENHEAD G1A2 / ST HELENS GT2A  53.444682   -2.745978   \n",
       "83  BURLINGTON ST GT2 / LISTER DV B GT1 / PARADISE...  53.415844   -2.966814   \n",
       "84  LISTER DV B GT3 / SPARLING ST GT1 / WAVERTREE GT2  53.404983   -2.943229   \n",
       "\n",
       "                                           group_name  net_mw_mean  \\\n",
       "0   ACORNFIELD RD T1 / DICKINSONS T1 / HAMMOND RD ...     8.105243   \n",
       "1   AIGBURTH VALE T1 / IVY AVE T1 / MATHER AVE T1 ...     9.724854   \n",
       "2        AINTREE LOCAL T1 / OLD ROAN T1 / WANGO LA T1     5.834762   \n",
       "3        ARUNDEL T1 / GROVE PK T1 / WAVERTREE VALE T1     5.486079   \n",
       "4   BEAUMONT ST T1 / DINGLE VALE T1 / LARK LA T1 /...    10.689578   \n",
       "..                                                ...          ...   \n",
       "80         GILLMOSS GT1 / KIRKBY GT2 / SIMONSWOOD GT1    23.085831   \n",
       "81                                                NaN          NaN   \n",
       "82                                                NaN          NaN   \n",
       "83  BURLINGTON ST GT2 / LISTER DV B GT1 / PARADISE...    41.910195   \n",
       "84  LISTER DV B GT3 / SPARLING ST GT1 / WAVERTREE GT2    51.416799   \n",
       "\n",
       "    net_mw_max  net_amps_mean  net_amps_max  net_mvar_mean  net_mvar_max  \\\n",
       "0       15.288            0.0           0.0       1.432054         4.210   \n",
       "1       20.424            0.0           0.0      -1.503333         0.166   \n",
       "2       38.009            0.0           0.0      -0.179872         0.884   \n",
       "3       11.504            0.0           0.0      -0.070256         0.980   \n",
       "4       19.826            0.0           0.0      -0.276175         1.370   \n",
       "..         ...            ...           ...            ...           ...   \n",
       "80      42.579            0.0           0.0      -0.479017         5.427   \n",
       "81         NaN            NaN           NaN            NaN           NaN   \n",
       "82         NaN            NaN           NaN            NaN           NaN   \n",
       "83      90.122            0.0           0.0      -1.737277         4.652   \n",
       "84      96.574            0.0           0.0      -8.233505         0.000   \n",
       "\n",
       "    generation_output_mw_mean  generation_output_mw_max  \\\n",
       "0                    0.000000                       0.0   \n",
       "1                    0.000000                       0.0   \n",
       "2                    0.000000                       0.0   \n",
       "3                    0.000000                       0.0   \n",
       "4                    0.000000                       0.0   \n",
       "..                        ...                       ...   \n",
       "80                   0.000000                       0.0   \n",
       "81                        NaN                       NaN   \n",
       "82                        NaN                       NaN   \n",
       "83                  -2.876151                      -0.0   \n",
       "84                   0.000000                       0.0   \n",
       "\n",
       "    underlying_demand_mw_mean  underlying_demand_mw_max  \n",
       "0                    8.105243                    15.288  \n",
       "1                    9.724854                    20.424  \n",
       "2                    5.834762                    38.009  \n",
       "3                    5.486079                    11.504  \n",
       "4                   10.689578                    19.826  \n",
       "..                        ...                       ...  \n",
       "80                  23.085831                    42.579  \n",
       "81                        NaN                       NaN  \n",
       "82                        NaN                       NaN  \n",
       "83                  44.786346                   102.730  \n",
       "84                  51.416799                    96.574  \n",
       "\n",
       "[85 rows x 14 columns]"
      ]
     },
     "execution_count": 29,
     "metadata": {},
     "output_type": "execute_result"
    }
   ],
   "source": [
    "df_flow_gg = pd.merge(df_gg[['Grid Group', 'lat_group', 'long_group']].drop_duplicates(subset='Grid Group'), df_flow_sub.reset_index(), 'left', left_on='Grid Group', right_on='group_name')\n",
    "df_flow_gg.to_excel('flow_gg.xlsx', index=False)\n",
    "df_flow_gg"
   ]
  },
  {
   "cell_type": "markdown",
   "metadata": {},
   "source": [
    "## substation not in flow"
   ]
  },
  {
   "cell_type": "code",
   "execution_count": 30,
   "metadata": {},
   "outputs": [
    {
     "data": {
      "text/html": [
       "<div>\n",
       "<style scoped>\n",
       "    .dataframe tbody tr th:only-of-type {\n",
       "        vertical-align: middle;\n",
       "    }\n",
       "\n",
       "    .dataframe tbody tr th {\n",
       "        vertical-align: top;\n",
       "    }\n",
       "\n",
       "    .dataframe thead th {\n",
       "        text-align: right;\n",
       "    }\n",
       "</style>\n",
       "<table border=\"1\" class=\"dataframe\">\n",
       "  <thead>\n",
       "    <tr style=\"text-align: right;\">\n",
       "      <th></th>\n",
       "      <th>Grid Group</th>\n",
       "      <th>lat_group</th>\n",
       "      <th>long_group</th>\n",
       "      <th>group_name</th>\n",
       "      <th>net_mw_mean</th>\n",
       "      <th>net_mw_max</th>\n",
       "      <th>net_amps_mean</th>\n",
       "      <th>net_amps_max</th>\n",
       "      <th>net_mvar_mean</th>\n",
       "      <th>net_mvar_max</th>\n",
       "      <th>generation_output_mw_mean</th>\n",
       "      <th>generation_output_mw_max</th>\n",
       "      <th>underlying_demand_mw_mean</th>\n",
       "      <th>underlying_demand_mw_max</th>\n",
       "    </tr>\n",
       "  </thead>\n",
       "  <tbody>\n",
       "    <tr>\n",
       "      <th>13</th>\n",
       "      <td>DELAMORE ST T1 / KIRKDALE T1 / WALTON T1</td>\n",
       "      <td>53.442105</td>\n",
       "      <td>-2.969258</td>\n",
       "      <td>NaN</td>\n",
       "      <td>NaN</td>\n",
       "      <td>NaN</td>\n",
       "      <td>NaN</td>\n",
       "      <td>NaN</td>\n",
       "      <td>NaN</td>\n",
       "      <td>NaN</td>\n",
       "      <td>NaN</td>\n",
       "      <td>NaN</td>\n",
       "      <td>NaN</td>\n",
       "      <td>NaN</td>\n",
       "    </tr>\n",
       "    <tr>\n",
       "      <th>36</th>\n",
       "      <td>CLUBMOOR T1 / DUNLOPS WALTON T1 / WALTON T2</td>\n",
       "      <td>53.447063</td>\n",
       "      <td>-2.954240</td>\n",
       "      <td>NaN</td>\n",
       "      <td>NaN</td>\n",
       "      <td>NaN</td>\n",
       "      <td>NaN</td>\n",
       "      <td>NaN</td>\n",
       "      <td>NaN</td>\n",
       "      <td>NaN</td>\n",
       "      <td>NaN</td>\n",
       "      <td>NaN</td>\n",
       "      <td>NaN</td>\n",
       "      <td>NaN</td>\n",
       "    </tr>\n",
       "    <tr>\n",
       "      <th>56</th>\n",
       "      <td>ALMATEX T1 / ST HELENS WWTW T1 / WATERY LA T2 ...</td>\n",
       "      <td>53.448818</td>\n",
       "      <td>-2.721619</td>\n",
       "      <td>NaN</td>\n",
       "      <td>NaN</td>\n",
       "      <td>NaN</td>\n",
       "      <td>NaN</td>\n",
       "      <td>NaN</td>\n",
       "      <td>NaN</td>\n",
       "      <td>NaN</td>\n",
       "      <td>NaN</td>\n",
       "      <td>NaN</td>\n",
       "      <td>NaN</td>\n",
       "      <td>NaN</td>\n",
       "    </tr>\n",
       "    <tr>\n",
       "      <th>62</th>\n",
       "      <td>BEECH ST T1 / LISTER DV A T2</td>\n",
       "      <td>53.417429</td>\n",
       "      <td>-2.937336</td>\n",
       "      <td>NaN</td>\n",
       "      <td>NaN</td>\n",
       "      <td>NaN</td>\n",
       "      <td>NaN</td>\n",
       "      <td>NaN</td>\n",
       "      <td>NaN</td>\n",
       "      <td>NaN</td>\n",
       "      <td>NaN</td>\n",
       "      <td>NaN</td>\n",
       "      <td>NaN</td>\n",
       "      <td>NaN</td>\n",
       "    </tr>\n",
       "    <tr>\n",
       "      <th>66</th>\n",
       "      <td>ex BIXTETH ST T1 / LITTLEWOODS T1 / PALL MALL T1</td>\n",
       "      <td>53.413223</td>\n",
       "      <td>-2.989460</td>\n",
       "      <td>NaN</td>\n",
       "      <td>NaN</td>\n",
       "      <td>NaN</td>\n",
       "      <td>NaN</td>\n",
       "      <td>NaN</td>\n",
       "      <td>NaN</td>\n",
       "      <td>NaN</td>\n",
       "      <td>NaN</td>\n",
       "      <td>NaN</td>\n",
       "      <td>NaN</td>\n",
       "      <td>NaN</td>\n",
       "    </tr>\n",
       "    <tr>\n",
       "      <th>76</th>\n",
       "      <td>BOLD G2A / PRESCOT GT1B / WIDNES GT1 / WIDNES GT2</td>\n",
       "      <td>53.406818</td>\n",
       "      <td>-2.759615</td>\n",
       "      <td>NaN</td>\n",
       "      <td>NaN</td>\n",
       "      <td>NaN</td>\n",
       "      <td>NaN</td>\n",
       "      <td>NaN</td>\n",
       "      <td>NaN</td>\n",
       "      <td>NaN</td>\n",
       "      <td>NaN</td>\n",
       "      <td>NaN</td>\n",
       "      <td>NaN</td>\n",
       "      <td>NaN</td>\n",
       "    </tr>\n",
       "    <tr>\n",
       "      <th>81</th>\n",
       "      <td>RAVENHEAD G1A1 / ST HELENS GT2B / WINDLE GT1</td>\n",
       "      <td>53.456002</td>\n",
       "      <td>-2.760072</td>\n",
       "      <td>NaN</td>\n",
       "      <td>NaN</td>\n",
       "      <td>NaN</td>\n",
       "      <td>NaN</td>\n",
       "      <td>NaN</td>\n",
       "      <td>NaN</td>\n",
       "      <td>NaN</td>\n",
       "      <td>NaN</td>\n",
       "      <td>NaN</td>\n",
       "      <td>NaN</td>\n",
       "      <td>NaN</td>\n",
       "    </tr>\n",
       "    <tr>\n",
       "      <th>82</th>\n",
       "      <td>BOLD G4B / RAVENHEAD G1A2 / ST HELENS GT2A</td>\n",
       "      <td>53.444682</td>\n",
       "      <td>-2.745978</td>\n",
       "      <td>NaN</td>\n",
       "      <td>NaN</td>\n",
       "      <td>NaN</td>\n",
       "      <td>NaN</td>\n",
       "      <td>NaN</td>\n",
       "      <td>NaN</td>\n",
       "      <td>NaN</td>\n",
       "      <td>NaN</td>\n",
       "      <td>NaN</td>\n",
       "      <td>NaN</td>\n",
       "      <td>NaN</td>\n",
       "    </tr>\n",
       "  </tbody>\n",
       "</table>\n",
       "</div>"
      ],
      "text/plain": [
       "                                           Grid Group  lat_group  long_group  \\\n",
       "13           DELAMORE ST T1 / KIRKDALE T1 / WALTON T1  53.442105   -2.969258   \n",
       "36        CLUBMOOR T1 / DUNLOPS WALTON T1 / WALTON T2  53.447063   -2.954240   \n",
       "56  ALMATEX T1 / ST HELENS WWTW T1 / WATERY LA T2 ...  53.448818   -2.721619   \n",
       "62                       BEECH ST T1 / LISTER DV A T2  53.417429   -2.937336   \n",
       "66   ex BIXTETH ST T1 / LITTLEWOODS T1 / PALL MALL T1  53.413223   -2.989460   \n",
       "76  BOLD G2A / PRESCOT GT1B / WIDNES GT1 / WIDNES GT2  53.406818   -2.759615   \n",
       "81       RAVENHEAD G1A1 / ST HELENS GT2B / WINDLE GT1  53.456002   -2.760072   \n",
       "82         BOLD G4B / RAVENHEAD G1A2 / ST HELENS GT2A  53.444682   -2.745978   \n",
       "\n",
       "   group_name  net_mw_mean  net_mw_max  net_amps_mean  net_amps_max  \\\n",
       "13        NaN          NaN         NaN            NaN           NaN   \n",
       "36        NaN          NaN         NaN            NaN           NaN   \n",
       "56        NaN          NaN         NaN            NaN           NaN   \n",
       "62        NaN          NaN         NaN            NaN           NaN   \n",
       "66        NaN          NaN         NaN            NaN           NaN   \n",
       "76        NaN          NaN         NaN            NaN           NaN   \n",
       "81        NaN          NaN         NaN            NaN           NaN   \n",
       "82        NaN          NaN         NaN            NaN           NaN   \n",
       "\n",
       "    net_mvar_mean  net_mvar_max  generation_output_mw_mean  \\\n",
       "13            NaN           NaN                        NaN   \n",
       "36            NaN           NaN                        NaN   \n",
       "56            NaN           NaN                        NaN   \n",
       "62            NaN           NaN                        NaN   \n",
       "66            NaN           NaN                        NaN   \n",
       "76            NaN           NaN                        NaN   \n",
       "81            NaN           NaN                        NaN   \n",
       "82            NaN           NaN                        NaN   \n",
       "\n",
       "    generation_output_mw_max  underlying_demand_mw_mean  \\\n",
       "13                       NaN                        NaN   \n",
       "36                       NaN                        NaN   \n",
       "56                       NaN                        NaN   \n",
       "62                       NaN                        NaN   \n",
       "66                       NaN                        NaN   \n",
       "76                       NaN                        NaN   \n",
       "81                       NaN                        NaN   \n",
       "82                       NaN                        NaN   \n",
       "\n",
       "    underlying_demand_mw_max  \n",
       "13                       NaN  \n",
       "36                       NaN  \n",
       "56                       NaN  \n",
       "62                       NaN  \n",
       "66                       NaN  \n",
       "76                       NaN  \n",
       "81                       NaN  \n",
       "82                       NaN  "
      ]
     },
     "execution_count": 30,
     "metadata": {},
     "output_type": "execute_result"
    }
   ],
   "source": [
    "df_sub_miss = df_flow_gg[df_flow_gg['group_name'].isna()]\n",
    "df_sub_miss.to_excel('sub_no_flow.xlsx', index=False)\n",
    "df_sub_miss"
   ]
  },
  {
   "cell_type": "markdown",
   "metadata": {},
   "source": [
    "## flow not in substation"
   ]
  },
  {
   "cell_type": "code",
   "execution_count": 31,
   "metadata": {},
   "outputs": [
    {
     "data": {
      "text/html": [
       "<div>\n",
       "<style scoped>\n",
       "    .dataframe tbody tr th:only-of-type {\n",
       "        vertical-align: middle;\n",
       "    }\n",
       "\n",
       "    .dataframe tbody tr th {\n",
       "        vertical-align: top;\n",
       "    }\n",
       "\n",
       "    .dataframe thead th {\n",
       "        text-align: right;\n",
       "    }\n",
       "</style>\n",
       "<table border=\"1\" class=\"dataframe\">\n",
       "  <thead>\n",
       "    <tr style=\"text-align: right;\">\n",
       "      <th></th>\n",
       "      <th>group_name</th>\n",
       "      <th>net_mw_mean</th>\n",
       "      <th>net_mw_max</th>\n",
       "      <th>net_amps_mean</th>\n",
       "      <th>net_amps_max</th>\n",
       "      <th>net_mvar_mean</th>\n",
       "      <th>net_mvar_max</th>\n",
       "      <th>generation_output_mw_mean</th>\n",
       "      <th>generation_output_mw_max</th>\n",
       "      <th>underlying_demand_mw_mean</th>\n",
       "      <th>underlying_demand_mw_max</th>\n",
       "    </tr>\n",
       "  </thead>\n",
       "  <tbody>\n",
       "    <tr>\n",
       "      <th>0</th>\n",
       "      <td>ALMATEX T1 / ST HELENS WWTW T1 / WATERY LA T2</td>\n",
       "      <td>4.126665</td>\n",
       "      <td>8.446</td>\n",
       "      <td>0.0</td>\n",
       "      <td>0.0</td>\n",
       "      <td>0.252083</td>\n",
       "      <td>2.231</td>\n",
       "      <td>0.000000</td>\n",
       "      <td>0.0</td>\n",
       "      <td>4.126665</td>\n",
       "      <td>8.446</td>\n",
       "    </tr>\n",
       "    <tr>\n",
       "      <th>1</th>\n",
       "      <td>BEECH ST T1 / LISTER DV B T2</td>\n",
       "      <td>2.129736</td>\n",
       "      <td>3.916</td>\n",
       "      <td>0.0</td>\n",
       "      <td>0.0</td>\n",
       "      <td>0.034056</td>\n",
       "      <td>0.939</td>\n",
       "      <td>0.000000</td>\n",
       "      <td>0.0</td>\n",
       "      <td>2.129736</td>\n",
       "      <td>3.916</td>\n",
       "    </tr>\n",
       "    <tr>\n",
       "      <th>2</th>\n",
       "      <td>BOLD G4A / PRESCOT GT1B / WIDNES GT1 / WIDNES GT2</td>\n",
       "      <td>34.138012</td>\n",
       "      <td>93.338</td>\n",
       "      <td>0.0</td>\n",
       "      <td>0.0</td>\n",
       "      <td>-3.045506</td>\n",
       "      <td>34.150</td>\n",
       "      <td>-26.056379</td>\n",
       "      <td>-0.0</td>\n",
       "      <td>60.194391</td>\n",
       "      <td>120.119</td>\n",
       "    </tr>\n",
       "    <tr>\n",
       "      <th>3</th>\n",
       "      <td>BOLD G4B / RAVENHEAD G1A2 / ST HELENS GT2</td>\n",
       "      <td>28.772834</td>\n",
       "      <td>54.806</td>\n",
       "      <td>0.0</td>\n",
       "      <td>0.0</td>\n",
       "      <td>-0.872431</td>\n",
       "      <td>6.223</td>\n",
       "      <td>-17.600000</td>\n",
       "      <td>-17.6</td>\n",
       "      <td>46.372834</td>\n",
       "      <td>72.406</td>\n",
       "    </tr>\n",
       "    <tr>\n",
       "      <th>4</th>\n",
       "      <td>CLUBMOOR T1 / DUNLOPS WALTON T1 / WALTON T1</td>\n",
       "      <td>5.036276</td>\n",
       "      <td>9.313</td>\n",
       "      <td>0.0</td>\n",
       "      <td>0.0</td>\n",
       "      <td>0.978791</td>\n",
       "      <td>4.202</td>\n",
       "      <td>0.000000</td>\n",
       "      <td>0.0</td>\n",
       "      <td>5.036276</td>\n",
       "      <td>9.313</td>\n",
       "    </tr>\n",
       "    <tr>\n",
       "      <th>5</th>\n",
       "      <td>DELAMORE ST T1 / KIRKDALE T1 / WALTON T2</td>\n",
       "      <td>5.280043</td>\n",
       "      <td>10.980</td>\n",
       "      <td>0.0</td>\n",
       "      <td>0.0</td>\n",
       "      <td>-0.948930</td>\n",
       "      <td>0.922</td>\n",
       "      <td>0.000000</td>\n",
       "      <td>0.0</td>\n",
       "      <td>5.280043</td>\n",
       "      <td>10.980</td>\n",
       "    </tr>\n",
       "    <tr>\n",
       "      <th>6</th>\n",
       "      <td>KIRKBY</td>\n",
       "      <td>127.953069</td>\n",
       "      <td>232.780</td>\n",
       "      <td>0.0</td>\n",
       "      <td>0.0</td>\n",
       "      <td>-52.135940</td>\n",
       "      <td>19.967</td>\n",
       "      <td>-19.375440</td>\n",
       "      <td>-0.0</td>\n",
       "      <td>147.328509</td>\n",
       "      <td>268.069</td>\n",
       "    </tr>\n",
       "    <tr>\n",
       "      <th>7</th>\n",
       "      <td>LISTER DRIVE</td>\n",
       "      <td>171.690854</td>\n",
       "      <td>290.559</td>\n",
       "      <td>0.0</td>\n",
       "      <td>0.0</td>\n",
       "      <td>-100.697584</td>\n",
       "      <td>0.000</td>\n",
       "      <td>-7.157964</td>\n",
       "      <td>-0.0</td>\n",
       "      <td>178.848818</td>\n",
       "      <td>309.919</td>\n",
       "    </tr>\n",
       "    <tr>\n",
       "      <th>8</th>\n",
       "      <td>LITHERLAND GRID B / NORTH SEAFORTH</td>\n",
       "      <td>1.699411</td>\n",
       "      <td>5.365</td>\n",
       "      <td>0.0</td>\n",
       "      <td>0.0</td>\n",
       "      <td>-0.570960</td>\n",
       "      <td>3.485</td>\n",
       "      <td>0.000000</td>\n",
       "      <td>0.0</td>\n",
       "      <td>1.699411</td>\n",
       "      <td>5.365</td>\n",
       "    </tr>\n",
       "    <tr>\n",
       "      <th>9</th>\n",
       "      <td>PALL MALL T1 / LITTLEWOODS T1</td>\n",
       "      <td>2.430352</td>\n",
       "      <td>4.239</td>\n",
       "      <td>0.0</td>\n",
       "      <td>0.0</td>\n",
       "      <td>-0.182730</td>\n",
       "      <td>0.937</td>\n",
       "      <td>0.000000</td>\n",
       "      <td>0.0</td>\n",
       "      <td>2.430352</td>\n",
       "      <td>4.239</td>\n",
       "    </tr>\n",
       "    <tr>\n",
       "      <th>10</th>\n",
       "      <td>Paddington Place T1 / Paddington Place T2</td>\n",
       "      <td>0.085609</td>\n",
       "      <td>0.086</td>\n",
       "      <td>0.0</td>\n",
       "      <td>0.0</td>\n",
       "      <td>-0.052753</td>\n",
       "      <td>0.026</td>\n",
       "      <td>0.000000</td>\n",
       "      <td>0.0</td>\n",
       "      <td>0.085609</td>\n",
       "      <td>0.086</td>\n",
       "    </tr>\n",
       "    <tr>\n",
       "      <th>11</th>\n",
       "      <td>RAINHILL</td>\n",
       "      <td>183.204562</td>\n",
       "      <td>314.235</td>\n",
       "      <td>0.0</td>\n",
       "      <td>0.0</td>\n",
       "      <td>-79.346309</td>\n",
       "      <td>0.000</td>\n",
       "      <td>-31.569335</td>\n",
       "      <td>-0.0</td>\n",
       "      <td>214.773897</td>\n",
       "      <td>331.875</td>\n",
       "    </tr>\n",
       "    <tr>\n",
       "      <th>12</th>\n",
       "      <td>RAVENHEAD G1A1 / ST HELENS GT1 / WINDLE GT1</td>\n",
       "      <td>19.364394</td>\n",
       "      <td>39.394</td>\n",
       "      <td>0.0</td>\n",
       "      <td>0.0</td>\n",
       "      <td>-0.404820</td>\n",
       "      <td>5.213</td>\n",
       "      <td>-11.700000</td>\n",
       "      <td>-11.7</td>\n",
       "      <td>31.064394</td>\n",
       "      <td>51.094</td>\n",
       "    </tr>\n",
       "    <tr>\n",
       "      <th>13</th>\n",
       "      <td>Wavertree Boulevard T1 / Wavertree Boulevard T2</td>\n",
       "      <td>6.350573</td>\n",
       "      <td>14.122</td>\n",
       "      <td>0.0</td>\n",
       "      <td>0.0</td>\n",
       "      <td>22.742176</td>\n",
       "      <td>105.502</td>\n",
       "      <td>0.000000</td>\n",
       "      <td>0.0</td>\n",
       "      <td>6.350573</td>\n",
       "      <td>14.122</td>\n",
       "    </tr>\n",
       "  </tbody>\n",
       "</table>\n",
       "</div>"
      ],
      "text/plain": [
       "                                           group_name  net_mw_mean  \\\n",
       "0       ALMATEX T1 / ST HELENS WWTW T1 / WATERY LA T2     4.126665   \n",
       "1                        BEECH ST T1 / LISTER DV B T2     2.129736   \n",
       "2   BOLD G4A / PRESCOT GT1B / WIDNES GT1 / WIDNES GT2    34.138012   \n",
       "3           BOLD G4B / RAVENHEAD G1A2 / ST HELENS GT2    28.772834   \n",
       "4         CLUBMOOR T1 / DUNLOPS WALTON T1 / WALTON T1     5.036276   \n",
       "5            DELAMORE ST T1 / KIRKDALE T1 / WALTON T2     5.280043   \n",
       "6                                              KIRKBY   127.953069   \n",
       "7                                        LISTER DRIVE   171.690854   \n",
       "8                  LITHERLAND GRID B / NORTH SEAFORTH     1.699411   \n",
       "9                       PALL MALL T1 / LITTLEWOODS T1     2.430352   \n",
       "10          Paddington Place T1 / Paddington Place T2     0.085609   \n",
       "11                                           RAINHILL   183.204562   \n",
       "12        RAVENHEAD G1A1 / ST HELENS GT1 / WINDLE GT1    19.364394   \n",
       "13    Wavertree Boulevard T1 / Wavertree Boulevard T2     6.350573   \n",
       "\n",
       "    net_mw_max  net_amps_mean  net_amps_max  net_mvar_mean  net_mvar_max  \\\n",
       "0        8.446            0.0           0.0       0.252083         2.231   \n",
       "1        3.916            0.0           0.0       0.034056         0.939   \n",
       "2       93.338            0.0           0.0      -3.045506        34.150   \n",
       "3       54.806            0.0           0.0      -0.872431         6.223   \n",
       "4        9.313            0.0           0.0       0.978791         4.202   \n",
       "5       10.980            0.0           0.0      -0.948930         0.922   \n",
       "6      232.780            0.0           0.0     -52.135940        19.967   \n",
       "7      290.559            0.0           0.0    -100.697584         0.000   \n",
       "8        5.365            0.0           0.0      -0.570960         3.485   \n",
       "9        4.239            0.0           0.0      -0.182730         0.937   \n",
       "10       0.086            0.0           0.0      -0.052753         0.026   \n",
       "11     314.235            0.0           0.0     -79.346309         0.000   \n",
       "12      39.394            0.0           0.0      -0.404820         5.213   \n",
       "13      14.122            0.0           0.0      22.742176       105.502   \n",
       "\n",
       "    generation_output_mw_mean  generation_output_mw_max  \\\n",
       "0                    0.000000                       0.0   \n",
       "1                    0.000000                       0.0   \n",
       "2                  -26.056379                      -0.0   \n",
       "3                  -17.600000                     -17.6   \n",
       "4                    0.000000                       0.0   \n",
       "5                    0.000000                       0.0   \n",
       "6                  -19.375440                      -0.0   \n",
       "7                   -7.157964                      -0.0   \n",
       "8                    0.000000                       0.0   \n",
       "9                    0.000000                       0.0   \n",
       "10                   0.000000                       0.0   \n",
       "11                 -31.569335                      -0.0   \n",
       "12                 -11.700000                     -11.7   \n",
       "13                   0.000000                       0.0   \n",
       "\n",
       "    underlying_demand_mw_mean  underlying_demand_mw_max  \n",
       "0                    4.126665                     8.446  \n",
       "1                    2.129736                     3.916  \n",
       "2                   60.194391                   120.119  \n",
       "3                   46.372834                    72.406  \n",
       "4                    5.036276                     9.313  \n",
       "5                    5.280043                    10.980  \n",
       "6                  147.328509                   268.069  \n",
       "7                  178.848818                   309.919  \n",
       "8                    1.699411                     5.365  \n",
       "9                    2.430352                     4.239  \n",
       "10                   0.085609                     0.086  \n",
       "11                 214.773897                   331.875  \n",
       "12                  31.064394                    51.094  \n",
       "13                   6.350573                    14.122  "
      ]
     },
     "execution_count": 31,
     "metadata": {},
     "output_type": "execute_result"
    }
   ],
   "source": [
    "df_flow_miss = df_flow_sub.query('group_name not in @df_gg[\"Grid Group\"]').reset_index()\n",
    "df_flow_miss.to_excel('flow_no_subs.xlsx', index=False)\n",
    "df_flow_miss"
   ]
  },
  {
   "cell_type": "markdown",
   "metadata": {},
   "source": [
    "# Greedy\n",
    "## put flow into substation from closest until ful then next substation"
   ]
  },
  {
   "cell_type": "code",
   "execution_count": 32,
   "metadata": {},
   "outputs": [
    {
     "data": {
      "text/html": [
       "<div>\n",
       "<style scoped>\n",
       "    .dataframe tbody tr th:only-of-type {\n",
       "        vertical-align: middle;\n",
       "    }\n",
       "\n",
       "    .dataframe tbody tr th {\n",
       "        vertical-align: top;\n",
       "    }\n",
       "\n",
       "    .dataframe thead th {\n",
       "        text-align: right;\n",
       "    }\n",
       "</style>\n",
       "<table border=\"1\" class=\"dataframe\">\n",
       "  <thead>\n",
       "    <tr style=\"text-align: right;\">\n",
       "      <th></th>\n",
       "      <th>sub_name</th>\n",
       "      <th>group_name</th>\n",
       "      <th>cap_mva</th>\n",
       "      <th>distance</th>\n",
       "      <th>mean_flow_mw</th>\n",
       "      <th>max_flow_mw</th>\n",
       "      <th>mean_flow_group</th>\n",
       "      <th>max_flow_group</th>\n",
       "      <th>lat</th>\n",
       "      <th>long</th>\n",
       "    </tr>\n",
       "  </thead>\n",
       "  <tbody>\n",
       "    <tr>\n",
       "      <th>0</th>\n",
       "      <td>ACORNFIELD ROAD</td>\n",
       "      <td>ACORNFIELD RD T1 / DICKINSONS T1 / HAMMOND RD ...</td>\n",
       "      <td>30.0</td>\n",
       "      <td>0.004113</td>\n",
       "      <td>8.105243</td>\n",
       "      <td>15.288</td>\n",
       "      <td>8.105243</td>\n",
       "      <td>15.288</td>\n",
       "      <td>53.481581</td>\n",
       "      <td>-2.856489</td>\n",
       "    </tr>\n",
       "    <tr>\n",
       "      <th>1</th>\n",
       "      <td>KODAK</td>\n",
       "      <td>ACORNFIELD RD T1 / DICKINSONS T1 / HAMMOND RD ...</td>\n",
       "      <td>30.0</td>\n",
       "      <td>0.005469</td>\n",
       "      <td>0.000000</td>\n",
       "      <td>0.000</td>\n",
       "      <td>8.105243</td>\n",
       "      <td>15.288</td>\n",
       "      <td>53.485770</td>\n",
       "      <td>-2.854392</td>\n",
       "    </tr>\n",
       "    <tr>\n",
       "      <th>2</th>\n",
       "      <td>HAMMOND ROAD</td>\n",
       "      <td>ACORNFIELD RD T1 / DICKINSONS T1 / HAMMOND RD ...</td>\n",
       "      <td>30.0</td>\n",
       "      <td>0.005930</td>\n",
       "      <td>0.000000</td>\n",
       "      <td>0.000</td>\n",
       "      <td>8.105243</td>\n",
       "      <td>15.288</td>\n",
       "      <td>53.490083</td>\n",
       "      <td>-2.858715</td>\n",
       "    </tr>\n",
       "    <tr>\n",
       "      <th>3</th>\n",
       "      <td>DICKINSONS</td>\n",
       "      <td>ACORNFIELD RD T1 / DICKINSONS T1 / HAMMOND RD ...</td>\n",
       "      <td>30.0</td>\n",
       "      <td>0.010465</td>\n",
       "      <td>0.000000</td>\n",
       "      <td>0.000</td>\n",
       "      <td>8.105243</td>\n",
       "      <td>15.288</td>\n",
       "      <td>53.479467</td>\n",
       "      <td>-2.868960</td>\n",
       "    </tr>\n",
       "    <tr>\n",
       "      <th>4</th>\n",
       "      <td>MOSSLEY HILL</td>\n",
       "      <td>AIGBURTH VALE T1 / IVY AVE T1 / MATHER AVE T1 ...</td>\n",
       "      <td>37.5</td>\n",
       "      <td>0.002946</td>\n",
       "      <td>9.724854</td>\n",
       "      <td>20.424</td>\n",
       "      <td>9.724854</td>\n",
       "      <td>20.424</td>\n",
       "      <td>53.377592</td>\n",
       "      <td>-2.923215</td>\n",
       "    </tr>\n",
       "    <tr>\n",
       "      <th>...</th>\n",
       "      <td>...</td>\n",
       "      <td>...</td>\n",
       "      <td>...</td>\n",
       "      <td>...</td>\n",
       "      <td>...</td>\n",
       "      <td>...</td>\n",
       "      <td>...</td>\n",
       "      <td>...</td>\n",
       "      <td>...</td>\n",
       "      <td>...</td>\n",
       "    </tr>\n",
       "    <tr>\n",
       "      <th>240</th>\n",
       "      <td>BURLINGTON STREET</td>\n",
       "      <td>BURLINGTON ST GT2 / LISTER DV B GT1 / PARADISE...</td>\n",
       "      <td>139.0</td>\n",
       "      <td>0.023621</td>\n",
       "      <td>0.000000</td>\n",
       "      <td>0.000</td>\n",
       "      <td>41.910195</td>\n",
       "      <td>102.730</td>\n",
       "      <td>53.421332</td>\n",
       "      <td>-2.989788</td>\n",
       "    </tr>\n",
       "    <tr>\n",
       "      <th>241</th>\n",
       "      <td>LISTER DRIVE</td>\n",
       "      <td>BURLINGTON ST GT2 / LISTER DV B GT1 / PARADISE...</td>\n",
       "      <td>139.0</td>\n",
       "      <td>0.038841</td>\n",
       "      <td>0.000000</td>\n",
       "      <td>0.000</td>\n",
       "      <td>41.910195</td>\n",
       "      <td>102.730</td>\n",
       "      <td>53.421296</td>\n",
       "      <td>-2.928358</td>\n",
       "    </tr>\n",
       "    <tr>\n",
       "      <th>242</th>\n",
       "      <td>LISTER DRIVE</td>\n",
       "      <td>LISTER DV B GT3 / SPARLING ST GT1 / WAVERTREE GT2</td>\n",
       "      <td>138.4</td>\n",
       "      <td>0.022074</td>\n",
       "      <td>51.416799</td>\n",
       "      <td>96.574</td>\n",
       "      <td>51.416799</td>\n",
       "      <td>96.574</td>\n",
       "      <td>53.421296</td>\n",
       "      <td>-2.928358</td>\n",
       "    </tr>\n",
       "    <tr>\n",
       "      <th>243</th>\n",
       "      <td>WAVERTREE</td>\n",
       "      <td>LISTER DV B GT3 / SPARLING ST GT1 / WAVERTREE GT2</td>\n",
       "      <td>138.4</td>\n",
       "      <td>0.026866</td>\n",
       "      <td>0.000000</td>\n",
       "      <td>0.000</td>\n",
       "      <td>51.416799</td>\n",
       "      <td>96.574</td>\n",
       "      <td>53.392054</td>\n",
       "      <td>-2.919679</td>\n",
       "    </tr>\n",
       "    <tr>\n",
       "      <th>244</th>\n",
       "      <td>SPARLING STREET</td>\n",
       "      <td>LISTER DV B GT3 / SPARLING ST GT1 / WAVERTREE GT2</td>\n",
       "      <td>138.4</td>\n",
       "      <td>0.038571</td>\n",
       "      <td>0.000000</td>\n",
       "      <td>0.000</td>\n",
       "      <td>51.416799</td>\n",
       "      <td>96.574</td>\n",
       "      <td>53.401599</td>\n",
       "      <td>-2.981651</td>\n",
       "    </tr>\n",
       "  </tbody>\n",
       "</table>\n",
       "<p>245 rows × 10 columns</p>\n",
       "</div>"
      ],
      "text/plain": [
       "              sub_name                                         group_name  \\\n",
       "0      ACORNFIELD ROAD  ACORNFIELD RD T1 / DICKINSONS T1 / HAMMOND RD ...   \n",
       "1                KODAK  ACORNFIELD RD T1 / DICKINSONS T1 / HAMMOND RD ...   \n",
       "2         HAMMOND ROAD  ACORNFIELD RD T1 / DICKINSONS T1 / HAMMOND RD ...   \n",
       "3           DICKINSONS  ACORNFIELD RD T1 / DICKINSONS T1 / HAMMOND RD ...   \n",
       "4         MOSSLEY HILL  AIGBURTH VALE T1 / IVY AVE T1 / MATHER AVE T1 ...   \n",
       "..                 ...                                                ...   \n",
       "240  BURLINGTON STREET  BURLINGTON ST GT2 / LISTER DV B GT1 / PARADISE...   \n",
       "241       LISTER DRIVE  BURLINGTON ST GT2 / LISTER DV B GT1 / PARADISE...   \n",
       "242       LISTER DRIVE  LISTER DV B GT3 / SPARLING ST GT1 / WAVERTREE GT2   \n",
       "243          WAVERTREE  LISTER DV B GT3 / SPARLING ST GT1 / WAVERTREE GT2   \n",
       "244    SPARLING STREET  LISTER DV B GT3 / SPARLING ST GT1 / WAVERTREE GT2   \n",
       "\n",
       "     cap_mva  distance  mean_flow_mw  max_flow_mw  mean_flow_group  \\\n",
       "0       30.0  0.004113      8.105243       15.288         8.105243   \n",
       "1       30.0  0.005469      0.000000        0.000         8.105243   \n",
       "2       30.0  0.005930      0.000000        0.000         8.105243   \n",
       "3       30.0  0.010465      0.000000        0.000         8.105243   \n",
       "4       37.5  0.002946      9.724854       20.424         9.724854   \n",
       "..       ...       ...           ...          ...              ...   \n",
       "240    139.0  0.023621      0.000000        0.000        41.910195   \n",
       "241    139.0  0.038841      0.000000        0.000        41.910195   \n",
       "242    138.4  0.022074     51.416799       96.574        51.416799   \n",
       "243    138.4  0.026866      0.000000        0.000        51.416799   \n",
       "244    138.4  0.038571      0.000000        0.000        51.416799   \n",
       "\n",
       "     max_flow_group        lat      long  \n",
       "0            15.288  53.481581 -2.856489  \n",
       "1            15.288  53.485770 -2.854392  \n",
       "2            15.288  53.490083 -2.858715  \n",
       "3            15.288  53.479467 -2.868960  \n",
       "4            20.424  53.377592 -2.923215  \n",
       "..              ...        ...       ...  \n",
       "240         102.730  53.421332 -2.989788  \n",
       "241         102.730  53.421296 -2.928358  \n",
       "242          96.574  53.421296 -2.928358  \n",
       "243          96.574  53.392054 -2.919679  \n",
       "244          96.574  53.401599 -2.981651  \n",
       "\n",
       "[245 rows x 10 columns]"
      ]
     },
     "execution_count": 32,
     "metadata": {},
     "output_type": "execute_result"
    }
   ],
   "source": [
    "df_greed = pd.DataFrame({'sub_name':[], 'group_name':[], 'cap_mva':[], 'distance':[], 'mean_flow_mw':[], 'max_flow_mw':[], 'mean_flow_group':[], 'max_flow_group':[], 'lat':[], 'long':[]})\n",
    "for ff in df_flow_gg.index:\n",
    "    mw = df_flow_gg['net_mw_mean'][ff]\n",
    "    max_mw = df_flow_gg['underlying_demand_mw_max'][ff]\n",
    "    while mw > 0 or max_mw > 0:\n",
    "        for ss in df_gg.query('`Grid Group` == @df_flow_gg.group_name.loc[@ff]').sort_values('distance').index:\n",
    "            cap = df_gg['Firm Capacity (MVA)'][ss]\n",
    "            if mw > cap:\n",
    "                flowin = cap\n",
    "            else:\n",
    "                flowin = mw\n",
    "            if max_mw > cap:\n",
    "                max_flowin = cap\n",
    "            else:\n",
    "                max_flowin = max_mw\n",
    "            df_greed.loc[len(df_greed)] = [df_gg['Substation Name'][ss], df_gg['Grid Group'][ss], cap, df_gg['distance'][ss], flowin, max_flowin, df_flow_gg['net_mw_mean'][ff], df_flow_gg['underlying_demand_mw_max'][ff], df_gg['lat'][ss], df_gg['long'][ss]]\n",
    "            mw -= flowin\n",
    "            max_mw -= max_flowin\n",
    "df_greed.to_excel('greed.xlsx', index=False)\n",
    "df_greed"
   ]
  },
  {
   "cell_type": "code",
   "execution_count": 33,
   "metadata": {},
   "outputs": [
    {
     "data": {
      "application/vnd.plotly.v1+json": {
       "config": {
        "plotlyServerURL": "https://plot.ly"
       },
       "data": [
        {
         "coloraxis": "coloraxis",
         "customdata": [
          [
           30,
           0.004112927594565051
          ],
          [
           30,
           0.005469450478971069
          ],
          [
           30,
           0.005930318594740069
          ],
          [
           30,
           0.010465437283029913
          ],
          [
           37.5,
           0.002945640879890384
          ],
          [
           37.5,
           0.011757504309702951
          ],
          [
           37.5,
           0.013270818861510162
          ],
          [
           37.5,
           0.015229929348172846
          ],
          [
           37.5,
           0.016396802882360482
          ],
          [
           20,
           0.008658400590855316
          ],
          [
           20,
           0.01163003123307475
          ],
          [
           20,
           0.018400853423448143
          ],
          [
           17.5,
           0.006431583306799344
          ],
          [
           17.5,
           0.007921701394513338
          ],
          [
           17.5,
           0.008983758839707848
          ],
          [
           30,
           0.009386287935031382
          ],
          [
           30,
           0.01373725271800848
          ],
          [
           30,
           0.015092137840913572
          ],
          [
           30,
           0.020771261159513322
          ],
          [
           30,
           0.011575883096242794
          ],
          [
           30,
           0.012615084498291573
          ],
          [
           30,
           0.03395282948292457
          ],
          [
           30,
           0.034993293325987024
          ],
          [
           37.5,
           0.00410155701432676
          ],
          [
           37.5,
           0.01502407600281817
          ],
          [
           37.5,
           0.01781970212356693
          ],
          [
           37.5,
           0.019663703070778485
          ],
          [
           37.5,
           0.022212040599459987
          ],
          [
           30,
           0.0066405426215951
          ],
          [
           30,
           0.00713971754700302
          ],
          [
           30,
           0.013287903497546556
          ],
          [
           30,
           0.018493301785540057
          ],
          [
           17.5,
           0.005817588455852231
          ],
          [
           17.5,
           0.012240334407744316
          ],
          [
           17.5,
           0.015435653018977764
          ],
          [
           9.1,
           0.002014188020689147
          ],
          [
           9.1,
           0.003594904393451584
          ],
          [
           9.1,
           0.004860172332299528
          ],
          [
           37.5,
           0.0038181168085508234
          ],
          [
           37.5,
           0.014569434758726664
          ],
          [
           37.5,
           0.01769096046956198
          ],
          [
           37.5,
           0.027345335653721742
          ],
          [
           37.5,
           0.02855960483762404
          ],
          [
           30,
           0.01311848824003416
          ],
          [
           30,
           0.014118930793115013
          ],
          [
           30,
           0.02343775233961762
          ],
          [
           30,
           0.024592811199818786
          ],
          [
           20,
           0.002024460133397981
          ],
          [
           20,
           0.002024460133397981
          ],
          [
           20,
           0.003015217440127409
          ],
          [
           20,
           0.004944477381568237
          ],
          [
           20,
           0.0061706405057370675
          ],
          [
           30,
           0.00268307440334995
          ],
          [
           30,
           0.0026830744033512735
          ],
          [
           37.5,
           0.003071441500703354
          ],
          [
           37.5,
           0.007913877247592717
          ],
          [
           37.5,
           0.011537348046466974
          ],
          [
           37.5,
           0.01306724194185117
          ],
          [
           37.5,
           0.014255194546825284
          ],
          [
           8.7,
           0.0023651019753499966
          ],
          [
           8.7,
           0.0023651019753499966
          ],
          [
           10,
           0.0053271500907253085
          ],
          [
           10,
           0.0053271500907253085
          ],
          [
           10,
           0.013835707903268416
          ],
          [
           10,
           0.013835707903272303
          ],
          [
           30,
           0.008629402051201355
          ],
          [
           30,
           0.015927700877435242
          ],
          [
           30,
           0.019670185925444773
          ],
          [
           30,
           0.025031931376501778
          ],
          [
           10,
           0.0007775273121942931
          ],
          [
           10,
           0.0007775273121942931
          ],
          [
           8.7,
           0
          ],
          [
           37.5,
           0.0051346125062207105
          ],
          [
           37.5,
           0.013292007001324999
          ],
          [
           37.5,
           0.014639926388765679
          ],
          [
           37.5,
           0.017210159306975663
          ],
          [
           37.5,
           0.01780208459242007
          ],
          [
           37.5,
           0.004466002657925167
          ],
          [
           37.5,
           0.00922541456264082
          ],
          [
           37.5,
           0.010353123478212264
          ],
          [
           37.5,
           0.012433225754866007
          ],
          [
           37.5,
           0.015343024486515398
          ],
          [
           9.1,
           0.007391580076013618
          ],
          [
           9.1,
           0.007795826913079787
          ],
          [
           9.1,
           0.011532631191021834
          ],
          [
           17.5,
           0.005761509888330055
          ],
          [
           17.5,
           0.006447340190046955
          ],
          [
           17.5,
           0.009759435147027765
          ],
          [
           20,
           0.0034319353467437597
          ],
          [
           20,
           0.009189700167446071
          ],
          [
           20,
           0.00980103679930082
          ],
          [
           18.53,
           0.0011076560496387988
          ],
          [
           18.53,
           0.003493522255596668
          ],
          [
           18.53,
           0.0038592099918055896
          ],
          [
           37.5,
           0.011426337450074946
          ],
          [
           37.5,
           0.011985674852640554
          ],
          [
           37.5,
           0.012415259040177252
          ],
          [
           37.5,
           0.016414564058142997
          ],
          [
           37.5,
           0.016824056695978685
          ],
          [
           37.5,
           0.008017317002658465
          ],
          [
           37.5,
           0.008395181846252202
          ],
          [
           37.5,
           0.01146140829512715
          ],
          [
           37.5,
           0.017480622171530725
          ],
          [
           37.5,
           0.027142384649467277
          ],
          [
           37.5,
           0.0067445829745831345
          ],
          [
           37.5,
           0.009364440241813831
          ],
          [
           37.5,
           0.013850638120647383
          ],
          [
           37.5,
           0.014621580938267834
          ],
          [
           37.5,
           0.016539965099533937
          ],
          [
           28,
           0.011202810223272066
          ],
          [
           28,
           0.011763106011908265
          ],
          [
           28,
           0.012672983869080171
          ],
          [
           28,
           0.012938455156957806
          ],
          [
           20,
           0.001993330227669
          ],
          [
           20,
           0.004662028726102677
          ],
          [
           20,
           0.006395826818499236
          ],
          [
           20,
           0.0007369892071461052
          ],
          [
           20,
           0.0027317947469836564
          ],
          [
           20,
           0.002905645379567869
          ],
          [
           18.2,
           0.00850122801571886
          ],
          [
           18.2,
           0.008501228015719208
          ],
          [
           17.5,
           0.003998696065678137
          ],
          [
           17.5,
           0.010568190984343308
          ],
          [
           17.5,
           0.011881971893080654
          ],
          [
           30,
           0.00619697736953722
          ],
          [
           30,
           0.008769444112939357
          ],
          [
           30,
           0.011444490346248823
          ],
          [
           30,
           0.012737294250868234
          ],
          [
           30,
           0.24064876900865934
          ],
          [
           30,
           0.27609834116315957
          ],
          [
           30,
           0.5163512498237283
          ],
          [
           30,
           0.0058447712899674185
          ],
          [
           30,
           0.0064894818668805735
          ],
          [
           30,
           0.01012114722348679
          ],
          [
           30,
           0.012997233999464213
          ],
          [
           30,
           0.0021773082628104073
          ],
          [
           30,
           0.007608645012969091
          ],
          [
           30,
           0.011094540947385592
          ],
          [
           30,
           0.011654269266767856
          ],
          [
           20,
           0.00992459648823388
          ],
          [
           20,
           0.012427133114582935
          ],
          [
           20,
           0.015269488399359299
          ],
          [
           30,
           0.0031270062854498173
          ],
          [
           30,
           0.013306731219539817
          ],
          [
           30,
           0.016285263688977692
          ],
          [
           20,
           0.0005396325540099384
          ],
          [
           20,
           0.00231102902901153
          ],
          [
           20,
           0.0027658967166371055
          ],
          [
           20,
           0.003021685530502206
          ],
          [
           9.1,
           0.008040532859804689
          ],
          [
           9.1,
           0.008040532859806455
          ],
          [
           30,
           0.0025346203165483323
          ],
          [
           30,
           0.007870940875299695
          ],
          [
           30,
           0.010208598778416709
          ],
          [
           17.5,
           0.007273856768992464
          ],
          [
           17.5,
           0.008354274037542578
          ],
          [
           17.5,
           0.009984564455594694
          ],
          [
           37.5,
           0.003130738755883241
          ],
          [
           37.5,
           0.012690995602929661
          ],
          [
           37.5,
           0.025074023960387663
          ],
          [
           37.5,
           0.03467696966592538
          ],
          [
           30,
           0.003171141832537453
          ],
          [
           30,
           0.005176771715230269
          ],
          [
           30,
           0.008112513307710904
          ],
          [
           30,
           0.009142017957361578
          ],
          [
           30,
           0.0038718722838710935
          ],
          [
           30,
           0.009377368155919198
          ],
          [
           30,
           0.009657594881976747
          ],
          [
           8.7,
           0.0021808147280909774
          ],
          [
           8.7,
           0.0021808147280911456
          ],
          [
           8.7,
           0.003150902622771271
          ],
          [
           8.7,
           0.003150902622772493
          ],
          [
           20,
           0.0012268070623584373
          ],
          [
           20,
           0.004083040723144322
          ],
          [
           20,
           0.004909199688781804
          ],
          [
           20,
           0.005537203799526134
          ],
          [
           20,
           0.007557414117099589
          ],
          [
           20,
           0.012324905616681878
          ],
          [
           9.1,
           0.005786916592456849
          ],
          [
           9.1,
           0.005786916592457018
          ],
          [
           17.4,
           0.003010166464127212
          ],
          [
           17.4,
           0.006870153702597383
          ],
          [
           17.4,
           0.007771869181859506
          ],
          [
           30,
           0.0017697606199938546
          ],
          [
           30,
           0.0017755942064849829
          ],
          [
           30,
           0.020344969227927303
          ],
          [
           30,
           0.021724222947269507
          ],
          [
           30,
           0.003091702374146027
          ],
          [
           30,
           0.010988301102473593
          ],
          [
           30,
           0.0174131701611942
          ],
          [
           30,
           0.019089853862589108
          ],
          [
           30,
           0.004576913529925563
          ],
          [
           30,
           0.004598889833891656
          ],
          [
           30,
           0.007279841055538638
          ],
          [
           20,
           0.005461670941215765
          ],
          [
           20,
           0.008204530074929443
          ],
          [
           20,
           0.012380468393310955
          ],
          [
           18.2,
           0.006441805151113739
          ],
          [
           18.2,
           0.009628310745553289
          ],
          [
           18.2,
           0.01025158699023225
          ],
          [
           18.2,
           0.013886691094797704
          ],
          [
           17.5,
           0.00561323550613442
          ],
          [
           17.5,
           0.013952688762614152
          ],
          [
           17.5,
           0.019531305673636427
          ],
          [
           30,
           0.0007498357250217545
          ],
          [
           30,
           0.0023937770944129967
          ],
          [
           30,
           0.003036564924794282
          ],
          [
           30,
           0.010589614121902808
          ],
          [
           30,
           0.020295648464432194
          ],
          [
           30,
           0.02403399266973751
          ],
          [
           30,
           0.024381817702486406
          ],
          [
           7.5,
           0
          ],
          [
           8.7,
           0
          ],
          [
           20,
           0.006647501167696842
          ],
          [
           20,
           0.0066475011677002505
          ],
          [
           101.9,
           0.0327278377011884
          ],
          [
           101.9,
           0.0501588642335299
          ],
          [
           101.9,
           0.06146582639512594
          ],
          [
           138.1,
           0.026476502072185697
          ],
          [
           138.1,
           0.029332954071379265
          ],
          [
           138.1,
           0.04020034870014566
          ],
          [
           75,
           0.058203869736033684
          ],
          [
           75,
           0.05820386973603931
          ],
          [
           114.8,
           0.02096237691049096
          ],
          [
           114.8,
           0.03361618772979208
          ],
          [
           114.8,
           0.0343110433744497
          ],
          [
           114.8,
           0.04341400843593209
          ],
          [
           64.1,
           0.008788406210476312
          ],
          [
           64.1,
           0.008788406210476312
          ],
          [
           65,
           0.015900336797400647
          ],
          [
           65,
           0.026060751904372875
          ],
          [
           65,
           0.030646881515331077
          ],
          [
           68.6,
           0.01429827521127108
          ],
          [
           68.6,
           0.014298275211275762
          ],
          [
           108.3,
           0.021490031472061424
          ],
          [
           108.3,
           0.021490031472061424
          ],
          [
           90.2,
           0.018392541632064018
          ],
          [
           90.2,
           0.018960203807422846
          ],
          [
           90.2,
           0.028858664828932668
          ],
          [
           139,
           0.018957103504032173
          ],
          [
           139,
           0.023621046943845828
          ],
          [
           139,
           0.03884062471462848
          ],
          [
           138.4,
           0.022074372484682362
          ],
          [
           138.4,
           0.02686592474570556
          ],
          [
           138.4,
           0.03857059149964963
          ]
         ],
         "hovertemplate": "<b>%{hovertext}</b><br><br>mean_flow_mw=%{z}<br>lat=%{lat}<br>long=%{lon}<extra></extra>",
         "hovertext": [
          "ACORNFIELD ROAD",
          "KODAK",
          "HAMMOND ROAD",
          "DICKINSONS",
          "MOSSLEY HILL",
          "MATHER AVENUE",
          "WAVERTREE",
          "AIGBURTH VALE",
          "IVY AVENUE",
          "OLD ROAN",
          "AINTREE",
          "WANGO LANE",
          "WAVERTREE VALE",
          "ARUNDEL",
          "GROVE PARK",
          "DINGLE VALE",
          "BEAUMONT STREET",
          "LARK LANE",
          "MDHB BRUNSWICK DOCK",
          "BROOK BRIDGE",
          "BLUEBELL LANE",
          "BEDBURN DRIVE",
          "ECCLESTON",
          "NORRIS GREEN",
          "LUCAS FAZAKERLEY",
          "CARR LANE EAST",
          "BEMROSE",
          "WEST DERBY",
          "ORRELL MOUNT",
          "BOOTLE",
          "SCARISBRICK AVENUE",
          "TATTON ROAD",
          "EVERTON ROAD",
          "BUCKINGHAM STREET",
          "SUBURBAN ROAD",
          "WOODVILLE STREET",
          "TECHNOLOGY CAMPUS",
          "CHALON WAY",
          "LYNDENE ROAD",
          "CHILDWALL",
          "NAYLORS ROAD",
          "MIDDLEMASS HEY",
          "CHILDWALL FIVEWAYS",
          "CLOCKFACE",
          "N C B SUTTON MANOR",
          "GEC ST HELENS",
          "HILLS MOSS",
          "MEDEVA",
          "CONIX",
          "MERSEY BRIDGE",
          "PITT STREET",
          "DESOTO ROAD",
          "LIVERPOOL UNIVERSITY",
          "EDGE HILL",
          "EDGE LN TAPLEY",
          "PLESSEY EDGE LANE",
          "LISTER DRIVE T3",
          "STONEYCROFT",
          "MILL LN WAVERTREE",
          "HARRINGTON STREET A",
          "HIGHFIELD STREET A",
          "WILSON ROAD",
          "HUYTON HEY ROAD",
          "KNOWSLEY",
          "MARLED HEY",
          "MARSHSIDE",
          "SOUTHPORT",
          "MULLARDS BALMORAL DR",
          "LORD STREET",
          "OTIS ELEVATOR",
          "ST IVEL FOODS",
          "ROYAL INSURANCE (NEW QUAY)",
          "GARSTON",
          "WEAVER IND EST",
          "ALLERTON",
          "ECP WEST-BANKS RD",
          "YEWTREE ROAD",
          "ATLANTIC COMPLEX",
          "GIRO BOOTLE",
          "MIDLAND BANK",
          "NETHERTON",
          "ALMONDS TURN",
          "GRANTHAM CLOSE",
          "DOVER ROAD",
          "BANASTRE ROAD",
          "BIBBYS",
          "REGENT ROAD",
          "INLAND REVENUE",
          "TARBOCK",
          "WHISTON",
          "BICC HUYTON QUARRY",
          "BLUNDELL STREET",
          "ROPEWALKS",
          "ST JAMES",
          "BLUNDELLSANDS SOUTH",
          "WATERLOO",
          "KERSHAW AVENUE",
          "CROSBY",
          "BLUNDELLSANDS NORTH",
          "KELLOGGS",
          "PACIFIC ROAD",
          "WASHINGTON STREET",
          "BOOTLE",
          "WATERLOO",
          "KNOTTY ASH",
          "LEYFIELD ROAD",
          "CROXTETH",
          "EAST PRESCOT ROAD",
          "BROADGREEN",
          "SOUTHPORT RD",
          "MARSH BROWS",
          "FRESHFIELD",
          "BURLINGTON AVENUE",
          "GRADWELL STREET",
          "CABLE STREET",
          "OLDHAM PLACE",
          "CABLE STREET",
          "CROWN COURTS",
          "GRADWELL STREET",
          "CHALON WAY",
          "CARLTON STREET",
          "GRANBY",
          "ST JAMES",
          "DINGLE",
          "GAVIN ROAD",
          "RTZ",
          "HOUGH GREEN",
          "DITTON",
          "MARKET STREET",
          "SOUTHPORT",
          "IVY STREET",
          "PALCO",
          "KELCO",
          "NEWS INTERNATIONAL",
          "SOUTHDENE",
          "KIRKBY CENTRAL",
          "TOWER HILL",
          "WEST VALE",
          "NORTHWOOD",
          "RAVENHEAD RETAIL PARK",
          "PILKINGTON HO",
          "SOMERFIELD DISTRIBUTION",
          "HAREFIELD ROAD",
          "AIRPORT",
          "ALDERWOOD AVE",
          "HPO COPPERAS HILL",
          "BOLTON STREET",
          "OLDHAM PLACE",
          "GREEK STREET",
          "WINDLEHURST",
          "BRITISH OXYGEN",
          "KINGSWAY TUNNEL",
          "BROOK STREET",
          "NWWA SANDON DOCK",
          "CLUBMOOR",
          "SUBURBAN ROAD",
          "LISTER DRIVE 6kV T1",
          "ROBBINS BRIDGE",
          "DODDS LANE",
          "MAGHULL",
          "HOLBORN HILL",
          "LEEWARD DRIVE",
          "ESTUARY COMMERCE PK",
          "SPEKE HALL ROAD",
          "SPEKE SKY PARK",
          "SEEDS LANE",
          "JACOBS",
          "FAZAKERLEY HOSPITAL",
          "PARADISE STREET",
          "HARRINGTON STREET A",
          "LIME STREET",
          "HARRINGTON STREET A",
          "OLD HAYMARKET",
          "LIME STREET",
          "HIGHFIELD STREET A",
          "NEVILL STREET",
          "OCEAN PLAZA",
          "YORK ROAD",
          "AINSDALE",
          "PINFOLD LANE",
          "ATHOL STREET",
          "SANDHILLS LANE",
          "CHISENHALE STREET",
          "HOLT LANE WARR RD",
          "WHISTON HOSPITAL",
          "PRESCOT",
          "RAINHILL LOCAL",
          "HUNTS CROSS",
          "WOODEND AVENUE",
          "WOOLTON",
          "KENTON ROAD",
          "PILK SULLIVAN",
          "USAC",
          "LUGSDALE",
          "APPLETON",
          "LUGSDALE",
          "HORNSBRIDGE",
          "BRITISH SIDAC",
          "ST HELENS LINKWAY",
          "SHERDLEY ROAD",
          "WATERY LANE",
          "EVERTON BROW",
          "GARDNERS ROW",
          "SHEIL PARK",
          "KINGS DOCK",
          "WAPPING",
          "ALBERT DOCK",
          "CARBORUNDUM",
          "HOUGHTONS LANE",
          "RAINFORD",
          "WINDLEHURST",
          "HASKAYNE",
          "DAILY POST AND ECHO",
          "ORB CLOSE",
          "STONEBRIDGE LANE",
          "LITHERLAND",
          "AINTREE",
          "FORMBY",
          "BURLINGTON STREET",
          "BOOTLE",
          "LISTER DRIVE",
          "FORMBY",
          "SOUTHPORT",
          "HUYTON",
          "PRESCOT",
          "GATEACRE",
          "KIRKBY",
          "HALEWOOD",
          "SPEKE",
          "FAZAKERLEY",
          "AINTREE",
          "GILLMOSS",
          "BOOTLE",
          "LITHERLAND",
          "GARSTON",
          "SPEKE",
          "SIMONSWOOD",
          "KIRKBY",
          "GILLMOSS",
          "PARADISE STREET",
          "BURLINGTON STREET",
          "LISTER DRIVE",
          "LISTER DRIVE",
          "WAVERTREE",
          "SPARLING STREET"
         ],
         "lat": [
          53.48158101021283,
          53.485769697686905,
          53.490083096821465,
          53.47946706893251,
          53.37759236897662,
          53.383301031977716,
          53.392115438280506,
          53.37729821176274,
          53.363920138751375,
          53.487669334564586,
          53.479927044410346,
          53.47903913146635,
          53.401313405426556,
          53.39133347026686,
          53.39266939433678,
          53.38055758427388,
          53.40003927613069,
          53.38439809548913,
          53.393273849667196,
          53.42910378392303,
          53.42225664562258,
          53.41639231657325,
          53.435290408038696,
          53.44535196883245,
          53.45648791762959,
          53.449152540322544,
          53.45874548028062,
          53.431167710138794,
          53.468532612784536,
          53.45891837489128,
          53.469869413578714,
          53.46686519312143,
          53.42008241690232,
          53.42600502074771,
          53.429881868586556,
          53.45733655097534,
          53.4569111160361,
          53.45172048280775,
          53.39627808403586,
          53.389883977487685,
          53.39252435936215,
          53.38962480224871,
          53.39994630528609,
          53.41948249183195,
          53.41160968352447,
          53.41751429670323,
          53.43256425627105,
          53.351617657840244,
          53.35236734892916,
          53.36009680289808,
          53.35654061392991,
          53.3549789657585,
          53.408106270770084,
          53.407106712281816,
          53.41208912459497,
          53.41243812101662,
          53.42194946927243,
          53.42464609757835,
          53.401843481914526,
          53.40892814792865,
          53.41312667364045,
          53.40749152098489,
          53.411929787686816,
          53.45360503098669,
          53.43845909063401,
          53.666338364502245,
          53.644891858592224,
          53.6678314482582,
          53.652482985835015,
          53.46993736072292,
          53.46902005176156,
          53.41090625518935,
          53.35615190812053,
          53.34896282813954,
          53.37450038817994,
          53.34772455441743,
          53.379055234022005,
          53.47910749848658,
          53.47437929930791,
          53.474379442335426,
          53.49466251689798,
          53.49383637905234,
          53.621474422898245,
          53.62640831447822,
          53.63844784083177,
          53.44503244135316,
          53.43840931629037,
          53.44962196167789,
          53.406580695506705,
          53.41285302799098,
          53.410037768348694,
          53.400430996228586,
          53.403721472863175,
          53.39653155512801,
          53.49171260684971,
          53.47848933468698,
          53.48791652940732,
          53.49791135669885,
          53.49631933279402,
          53.4634694202197,
          53.454308160443745,
          53.455423498396534,
          53.45891837489128,
          53.47848933468698,
          53.42076653332622,
          53.42950941779824,
          53.43711661328251,
          53.42258817290765,
          53.407304149566485,
          53.57057285993626,
          53.55747166465291,
          53.56986881619634,
          53.558837814537824,
          53.40588051069518,
          53.4077651761994,
          53.40607239666528,
          53.4077651761994,
          53.4074408877939,
          53.40588051069518,
          53.45172048280775,
          53.45255403727681,
          53.397808538033125,
          53.39653155512801,
          53.38714712592654,
          53.36502934240193,
          53.36270303304967,
          53.38066435859472,
          53.372831567836585,
          53.64748767031024,
          53.644891858592224,
          53.306907822136615,
          53.46417701634223,
          53.46629136477233,
          53.46670786233184,
          53.47326053773067,
          53.48413518651102,
          53.493371561294275,
          53.48128065331388,
          53.48590156841973,
          53.446929331185174,
          53.44610490176761,
          53.42446503875505,
          53.34441230265524,
          53.341757563158765,
          53.34532401045283,
          53.409030826681516,
          53.40902024234922,
          53.40607239666528,
          53.4109200577197,
          53.46531419713009,
          53.4702658240376,
          53.418409840441754,
          53.41301897109336,
          53.43102171119756,
          53.43650673412069,
          53.429881868586556,
          53.42194946927243,
          53.53318632886943,
          53.520865929464655,
          53.50911327590569,
          53.5576684635132,
          53.351461079192795,
          53.34787253331973,
          53.35829442449201,
          53.343552373357596,
          53.47067774400123,
          53.461543973888496,
          53.46980972092478,
          53.40488998013892,
          53.40892814792865,
          53.41001202268644,
          53.40892814792865,
          53.41240553669614,
          53.41001202268644,
          53.41312667364045,
          53.65177760110811,
          53.65540627877177,
          53.63645932533046,
          53.60523474087081,
          53.59453087781793,
          53.427187499034396,
          53.43340927784029,
          53.41913226281736,
          53.42222716341715,
          53.421899453213705,
          53.424126257402406,
          53.413835536496016,
          53.369333604011544,
          53.356183518797515,
          53.37637029994296,
          53.36312412610851,
          53.36278713724,
          53.36828625565889,
          53.36739828253958,
          53.37274631079631,
          53.36739828253958,
          53.386406278216,
          53.43962198455728,
          53.44574077071152,
          53.443710081279484,
          53.44256203763328,
          53.418416822139754,
          53.41799116200887,
          53.423329071767064,
          53.399231788464476,
          53.39824204177805,
          53.40244736275407,
          53.489342683932755,
          53.46164769622954,
          53.49980755108042,
          53.46531419713009,
          53.56223678289227,
          53.41195410301462,
          53.45494263590758,
          53.461320238266524,
          53.478069728382124,
          53.493005136660415,
          53.5575541170844,
          53.42133243462447,
          53.45923139893787,
          53.42129638818907,
          53.5575541170844,
          53.64484014004931,
          53.42516014937205,
          53.423880928628485,
          53.3943911744227,
          53.47089207107864,
          53.35574382997622,
          53.35520255955055,
          53.463075583116904,
          53.493005136660415,
          53.464575886061766,
          53.45923139893787,
          53.478069728382124,
          53.356249314775425,
          53.35520255955055,
          53.492392402601936,
          53.47089207107864,
          53.464575886061766,
          53.40490350558064,
          53.42133243462447,
          53.42129638818907,
          53.42129638818907,
          53.39205435444187,
          53.40159900721322
         ],
         "lon": [
          -2.856488723050569,
          -2.8543921609641663,
          -2.858714926224543,
          -2.868960247870969,
          -2.9232148629237744,
          -2.909668478621902,
          -2.9204016465259253,
          -2.935700172044926,
          -2.9137600338057656,
          -2.947439064095321,
          -2.952120579982764,
          -2.922591919732099,
          -2.9348368044453848,
          -2.9295519009504836,
          -2.9451651195422706,
          -2.961435944175713,
          -2.9499127258116697,
          -2.944624291873282,
          -2.9792414649163828,
          -2.826966517823932,
          -2.8501678183081656,
          -2.8706839239298754,
          -2.8043784690358375,
          -2.930792159209246,
          -2.940341324407141,
          -2.9100293326371127,
          -2.944407337081691,
          -2.9135425332827087,
          -2.987866497465608,
          -2.981300471120738,
          -2.9944350105232207,
          -2.9632337707027347,
          -2.9646244750169597,
          -2.9743200215863066,
          -2.947351594556459,
          -2.7445084439605307,
          -2.741321233271815,
          -2.747808882977331,
          -2.8765731545351403,
          -2.8878759174545987,
          -2.8561470182939996,
          -2.846754798019866,
          -2.9016592879163565,
          -2.7196013943716837,
          -2.743828112149952,
          -2.7559673306687986,
          -2.7113825238848923,
          -2.854156556576897,
          -2.8501776473547515,
          -2.754613494109046,
          -2.7505693005741354,
          -2.761223832024802,
          -2.960789372244374,
          -2.9555171397149618,
          -2.9217472582929975,
          -2.9311405362343588,
          -2.932413760277352,
          -2.9151775108184386,
          -2.917149728861142,
          -2.9837257753935686,
          -2.9859045849911636,
          -2.832766645851588,
          -2.8424525067342894,
          -2.8544126543542996,
          -2.8775709734550396,
          -2.9662662111307925,
          -2.9553155692668853,
          -2.9475556298150716,
          -2.988968248782947,
          -2.8760457604682177,
          -2.8773014432124793,
          -2.9917707160249805,
          -2.8994283329991966,
          -2.904149187611657,
          -2.905436851579359,
          -2.888545159884441,
          -2.898191511493313,
          -2.971849062968237,
          -2.9677871074751576,
          -2.9649384887407746,
          -2.96525216830561,
          -2.9813662358890363,
          -3.0020690538014865,
          -3.010640860976548,
          -2.9969307425213443,
          -2.996177877444298,
          -2.992950800833406,
          -2.9822404727781686,
          -2.82004323652281,
          -2.812489756420958,
          -2.830964548867422,
          -2.9791900391584565,
          -2.97812117943629,
          -2.976992206425268,
          -3.0318479330590553,
          -3.020137126104079,
          -3.0083395128713684,
          -3.005858536309826,
          -3.0362637980786467,
          -3.0063883099246227,
          -2.9954147660155357,
          -2.9891846842932064,
          -2.981300471120738,
          -3.020137126104079,
          -2.897692550460257,
          -2.898653495860952,
          -2.8892155437371505,
          -2.8769120722004455,
          -2.8950654298795726,
          -3.038281072758332,
          -3.0571435168482646,
          -3.058814473441467,
          -3.0357056188310514,
          -2.980330913895465,
          -2.9829685624171707,
          -2.9720853938931233,
          -2.9829685624171707,
          -2.9857005531236824,
          -2.980330913895465,
          -2.747808882977331,
          -2.7647908939904027,
          -2.9663836947291573,
          -2.976992206425268,
          -2.956950281571702,
          -2.78648601801278,
          -2.7876064992303107,
          -2.7881068173430985,
          -2.770753625319709,
          -2.99604512369433,
          -2.9553155692668853,
          -3.671941535480043,
          -2.8751328235683453,
          -2.8640476485669484,
          -2.860320981173698,
          -2.882106205341939,
          -2.889301080209952,
          -2.8925318619436884,
          -2.9000278654364697,
          -2.8784187683967017,
          -2.751430416471552,
          -2.7679236134315395,
          -2.7534875287755516,
          -2.8527313048173912,
          -2.8628029021536117,
          -2.83344204208912,
          -2.9732024525533336,
          -2.9750316210112593,
          -2.9720853938931233,
          -2.9706213000337187,
          -2.7638495321071015,
          -2.74854979140187,
          -2.994321468112982,
          -2.9924573169729123,
          -2.9938032171006355,
          -2.937260737146558,
          -2.947351594556459,
          -2.932413760277352,
          -2.9266472706323716,
          -2.936203134759719,
          -2.941167268599754,
          -2.9064372735872914,
          -2.8760998057656315,
          -2.8777257445014435,
          -2.871800347056549,
          -2.866977299909799,
          -2.9426641246567136,
          -2.9480639359174785,
          -2.9313578180015285,
          -2.982077439136908,
          -2.9837257753935686,
          -2.977517880028617,
          -2.9837257753935686,
          -2.9800719754323235,
          -2.977517880028617,
          -2.9859045849911636,
          -2.9982128399792027,
          -3.0014500715221915,
          -3.0067781051716986,
          -3.0239075332726038,
          -3.028309911077536,
          -2.984177218544132,
          -2.987838877456239,
          -2.98935797746864,
          -2.7916001313229484,
          -2.7931948370967605,
          -2.8120974661859015,
          -2.7714046997534156,
          -2.856473366942228,
          -2.86061189754041,
          -2.8703853515597455,
          -2.837381256099737,
          -2.730174051460244,
          -2.7291945305822054,
          -2.740444202278539,
          -2.743967116210035,
          -2.740444202278539,
          -2.7333698207740187,
          -2.7264307663783214,
          -2.74117338678881,
          -2.742191221918869,
          -2.7180886410553797,
          -2.9716913605090567,
          -2.980100806700297,
          -2.947050887538326,
          -2.9854243249069237,
          -2.983880135883945,
          -2.987294050428071,
          -2.7816115159128953,
          -2.794489318409893,
          -2.796085595806899,
          -2.7638495321071015,
          -2.9631437541157677,
          -2.992154277067054,
          -2.900712599687762,
          -2.912378073327927,
          -3.0029093146955272,
          -2.9465805315672626,
          -3.0323140531145283,
          -2.98978842607609,
          -2.9813946675959606,
          -2.928357791199963,
          -3.0323140531145283,
          -2.9552951463190724,
          -2.8660996522717457,
          -2.8121323138460963,
          -2.848298920501172,
          -2.855142299687652,
          -2.838922279332908,
          -2.8564907556814036,
          -2.941199316253274,
          -2.9465805315672626,
          -2.8999356468209103,
          -2.9813946675959606,
          -3.0029093146955272,
          -2.8994580701678823,
          -2.8564907556814036,
          -2.8651654249932705,
          -2.855142299687652,
          -2.8999356468209103,
          -2.982295267448238,
          -2.98978842607609,
          -2.928357791199963,
          -2.928357791199963,
          -2.919678816619778,
          -2.981651056897432
         ],
         "name": "",
         "radius": 10,
         "subplot": "mapbox",
         "type": "densitymapbox",
         "z": [
          8.105243012683802,
          0,
          0,
          0,
          9.72485424851274,
          0,
          0,
          0,
          0,
          5.834762375126277,
          0,
          0,
          5.486079470198676,
          0,
          0,
          10.689578067123135,
          0,
          0,
          0,
          7.111021158379168,
          0,
          0,
          0,
          11.87097906611292,
          0,
          0,
          0,
          0,
          9.549481367156808,
          0,
          0,
          0,
          4.580965315972612,
          0,
          0,
          3.8854219328768664,
          0,
          0,
          11.22373852284207,
          0,
          0,
          0,
          0,
          7.516443091256034,
          0,
          0,
          0,
          3.3171087664159837,
          0,
          2.7784607138848356,
          0,
          0,
          6.953867493545853,
          0,
          11.403668200695925,
          0,
          0,
          0,
          0,
          3.64885660567965,
          0,
          3.675158547536199,
          0,
          2.1543338197328543,
          0,
          9.255566674149737,
          0,
          0,
          0,
          3.186455662812886,
          0,
          0.26179009989897856,
          7.372066169042542,
          0,
          0,
          0,
          0,
          8.385430351330115,
          0,
          0,
          0,
          0,
          5.174841901447974,
          0,
          0,
          6.64279082949826,
          0,
          0,
          4.293371590526434,
          0,
          0,
          4.938302783701875,
          0,
          0,
          10.464283140644293,
          0,
          0,
          0,
          0,
          9.431934841171849,
          0,
          0,
          0,
          0,
          12.366548770905826,
          0,
          0,
          0,
          0,
          7.263214446065776,
          0,
          0,
          0,
          7.757901616343024,
          0,
          0,
          5.528155797508138,
          0,
          0,
          5.056505892917275,
          0,
          4.540514535862611,
          0,
          0,
          9.384961611853184,
          0,
          0,
          0,
          7.700118924682905,
          0,
          0,
          10.884714726680885,
          0,
          0,
          0,
          10.579539847345382,
          0,
          0,
          0,
          6.789293135639759,
          0,
          0,
          5.3317292902658755,
          0,
          0,
          7.553222078796722,
          0,
          0,
          0,
          3.34394264227186,
          0,
          7.773742114715457,
          0,
          0,
          5.077597878549781,
          0,
          0,
          11.696517959366933,
          0,
          0,
          0,
          5.047968571107869,
          0,
          0,
          0,
          7.40845981591649,
          0,
          0,
          3.206626445167808,
          0,
          1.7441845324952296,
          0,
          4.672708609271523,
          0,
          0,
          5.5647257829161525,
          0,
          0,
          2.467226288023347,
          0,
          5.220411550117858,
          0,
          0,
          7.464703502076552,
          0,
          0,
          0,
          8.824832416657314,
          0,
          0,
          0,
          5.17370715007296,
          0,
          0,
          9.567225277808957,
          0,
          0,
          5.417936132001347,
          0,
          0,
          0,
          6.007677573240543,
          0,
          0,
          3.4614980918172633,
          0,
          0,
          8.294187394769335,
          0,
          0,
          0,
          0.894381748793355,
          1.8677817375687509,
          4.858710629700303,
          0,
          26.751864462902684,
          0,
          0,
          46.900939499382645,
          0,
          0,
          30.3645546638231,
          0,
          53.64904046469862,
          0,
          0,
          0,
          14.86285357503648,
          0,
          30.09588365697609,
          0,
          0,
          2.8706843080031432,
          0,
          30.743733976877312,
          0,
          23.08583140644292,
          0,
          0,
          41.91019525199237,
          0,
          0,
          51.41679857447525,
          0,
          0
         ]
        }
       ],
       "layout": {
        "coloraxis": {
         "colorbar": {
          "title": {
           "text": "mean_flow_mw"
          }
         },
         "colorscale": [
          [
           0,
           "#0d0887"
          ],
          [
           0.1111111111111111,
           "#46039f"
          ],
          [
           0.2222222222222222,
           "#7201a8"
          ],
          [
           0.3333333333333333,
           "#9c179e"
          ],
          [
           0.4444444444444444,
           "#bd3786"
          ],
          [
           0.5555555555555556,
           "#d8576b"
          ],
          [
           0.6666666666666666,
           "#ed7953"
          ],
          [
           0.7777777777777778,
           "#fb9f3a"
          ],
          [
           0.8888888888888888,
           "#fdca26"
          ],
          [
           1,
           "#f0f921"
          ]
         ]
        },
        "legend": {
         "tracegroupgap": 0
        },
        "mapbox": {
         "center": {
          "lat": 53.5,
          "lon": -2.9
         },
         "domain": {
          "x": [
           0,
           1
          ],
          "y": [
           0,
           1
          ]
         },
         "style": "open-street-map",
         "zoom": 8
        },
        "margin": {
         "t": 60
        },
        "template": {
         "data": {
          "bar": [
           {
            "error_x": {
             "color": "#2a3f5f"
            },
            "error_y": {
             "color": "#2a3f5f"
            },
            "marker": {
             "line": {
              "color": "#E5ECF6",
              "width": 0.5
             },
             "pattern": {
              "fillmode": "overlay",
              "size": 10,
              "solidity": 0.2
             }
            },
            "type": "bar"
           }
          ],
          "barpolar": [
           {
            "marker": {
             "line": {
              "color": "#E5ECF6",
              "width": 0.5
             },
             "pattern": {
              "fillmode": "overlay",
              "size": 10,
              "solidity": 0.2
             }
            },
            "type": "barpolar"
           }
          ],
          "carpet": [
           {
            "aaxis": {
             "endlinecolor": "#2a3f5f",
             "gridcolor": "white",
             "linecolor": "white",
             "minorgridcolor": "white",
             "startlinecolor": "#2a3f5f"
            },
            "baxis": {
             "endlinecolor": "#2a3f5f",
             "gridcolor": "white",
             "linecolor": "white",
             "minorgridcolor": "white",
             "startlinecolor": "#2a3f5f"
            },
            "type": "carpet"
           }
          ],
          "choropleth": [
           {
            "colorbar": {
             "outlinewidth": 0,
             "ticks": ""
            },
            "type": "choropleth"
           }
          ],
          "contour": [
           {
            "colorbar": {
             "outlinewidth": 0,
             "ticks": ""
            },
            "colorscale": [
             [
              0,
              "#0d0887"
             ],
             [
              0.1111111111111111,
              "#46039f"
             ],
             [
              0.2222222222222222,
              "#7201a8"
             ],
             [
              0.3333333333333333,
              "#9c179e"
             ],
             [
              0.4444444444444444,
              "#bd3786"
             ],
             [
              0.5555555555555556,
              "#d8576b"
             ],
             [
              0.6666666666666666,
              "#ed7953"
             ],
             [
              0.7777777777777778,
              "#fb9f3a"
             ],
             [
              0.8888888888888888,
              "#fdca26"
             ],
             [
              1,
              "#f0f921"
             ]
            ],
            "type": "contour"
           }
          ],
          "contourcarpet": [
           {
            "colorbar": {
             "outlinewidth": 0,
             "ticks": ""
            },
            "type": "contourcarpet"
           }
          ],
          "heatmap": [
           {
            "colorbar": {
             "outlinewidth": 0,
             "ticks": ""
            },
            "colorscale": [
             [
              0,
              "#0d0887"
             ],
             [
              0.1111111111111111,
              "#46039f"
             ],
             [
              0.2222222222222222,
              "#7201a8"
             ],
             [
              0.3333333333333333,
              "#9c179e"
             ],
             [
              0.4444444444444444,
              "#bd3786"
             ],
             [
              0.5555555555555556,
              "#d8576b"
             ],
             [
              0.6666666666666666,
              "#ed7953"
             ],
             [
              0.7777777777777778,
              "#fb9f3a"
             ],
             [
              0.8888888888888888,
              "#fdca26"
             ],
             [
              1,
              "#f0f921"
             ]
            ],
            "type": "heatmap"
           }
          ],
          "heatmapgl": [
           {
            "colorbar": {
             "outlinewidth": 0,
             "ticks": ""
            },
            "colorscale": [
             [
              0,
              "#0d0887"
             ],
             [
              0.1111111111111111,
              "#46039f"
             ],
             [
              0.2222222222222222,
              "#7201a8"
             ],
             [
              0.3333333333333333,
              "#9c179e"
             ],
             [
              0.4444444444444444,
              "#bd3786"
             ],
             [
              0.5555555555555556,
              "#d8576b"
             ],
             [
              0.6666666666666666,
              "#ed7953"
             ],
             [
              0.7777777777777778,
              "#fb9f3a"
             ],
             [
              0.8888888888888888,
              "#fdca26"
             ],
             [
              1,
              "#f0f921"
             ]
            ],
            "type": "heatmapgl"
           }
          ],
          "histogram": [
           {
            "marker": {
             "pattern": {
              "fillmode": "overlay",
              "size": 10,
              "solidity": 0.2
             }
            },
            "type": "histogram"
           }
          ],
          "histogram2d": [
           {
            "colorbar": {
             "outlinewidth": 0,
             "ticks": ""
            },
            "colorscale": [
             [
              0,
              "#0d0887"
             ],
             [
              0.1111111111111111,
              "#46039f"
             ],
             [
              0.2222222222222222,
              "#7201a8"
             ],
             [
              0.3333333333333333,
              "#9c179e"
             ],
             [
              0.4444444444444444,
              "#bd3786"
             ],
             [
              0.5555555555555556,
              "#d8576b"
             ],
             [
              0.6666666666666666,
              "#ed7953"
             ],
             [
              0.7777777777777778,
              "#fb9f3a"
             ],
             [
              0.8888888888888888,
              "#fdca26"
             ],
             [
              1,
              "#f0f921"
             ]
            ],
            "type": "histogram2d"
           }
          ],
          "histogram2dcontour": [
           {
            "colorbar": {
             "outlinewidth": 0,
             "ticks": ""
            },
            "colorscale": [
             [
              0,
              "#0d0887"
             ],
             [
              0.1111111111111111,
              "#46039f"
             ],
             [
              0.2222222222222222,
              "#7201a8"
             ],
             [
              0.3333333333333333,
              "#9c179e"
             ],
             [
              0.4444444444444444,
              "#bd3786"
             ],
             [
              0.5555555555555556,
              "#d8576b"
             ],
             [
              0.6666666666666666,
              "#ed7953"
             ],
             [
              0.7777777777777778,
              "#fb9f3a"
             ],
             [
              0.8888888888888888,
              "#fdca26"
             ],
             [
              1,
              "#f0f921"
             ]
            ],
            "type": "histogram2dcontour"
           }
          ],
          "mesh3d": [
           {
            "colorbar": {
             "outlinewidth": 0,
             "ticks": ""
            },
            "type": "mesh3d"
           }
          ],
          "parcoords": [
           {
            "line": {
             "colorbar": {
              "outlinewidth": 0,
              "ticks": ""
             }
            },
            "type": "parcoords"
           }
          ],
          "pie": [
           {
            "automargin": true,
            "type": "pie"
           }
          ],
          "scatter": [
           {
            "fillpattern": {
             "fillmode": "overlay",
             "size": 10,
             "solidity": 0.2
            },
            "type": "scatter"
           }
          ],
          "scatter3d": [
           {
            "line": {
             "colorbar": {
              "outlinewidth": 0,
              "ticks": ""
             }
            },
            "marker": {
             "colorbar": {
              "outlinewidth": 0,
              "ticks": ""
             }
            },
            "type": "scatter3d"
           }
          ],
          "scattercarpet": [
           {
            "marker": {
             "colorbar": {
              "outlinewidth": 0,
              "ticks": ""
             }
            },
            "type": "scattercarpet"
           }
          ],
          "scattergeo": [
           {
            "marker": {
             "colorbar": {
              "outlinewidth": 0,
              "ticks": ""
             }
            },
            "type": "scattergeo"
           }
          ],
          "scattergl": [
           {
            "marker": {
             "colorbar": {
              "outlinewidth": 0,
              "ticks": ""
             }
            },
            "type": "scattergl"
           }
          ],
          "scattermapbox": [
           {
            "marker": {
             "colorbar": {
              "outlinewidth": 0,
              "ticks": ""
             }
            },
            "type": "scattermapbox"
           }
          ],
          "scatterpolar": [
           {
            "marker": {
             "colorbar": {
              "outlinewidth": 0,
              "ticks": ""
             }
            },
            "type": "scatterpolar"
           }
          ],
          "scatterpolargl": [
           {
            "marker": {
             "colorbar": {
              "outlinewidth": 0,
              "ticks": ""
             }
            },
            "type": "scatterpolargl"
           }
          ],
          "scatterternary": [
           {
            "marker": {
             "colorbar": {
              "outlinewidth": 0,
              "ticks": ""
             }
            },
            "type": "scatterternary"
           }
          ],
          "surface": [
           {
            "colorbar": {
             "outlinewidth": 0,
             "ticks": ""
            },
            "colorscale": [
             [
              0,
              "#0d0887"
             ],
             [
              0.1111111111111111,
              "#46039f"
             ],
             [
              0.2222222222222222,
              "#7201a8"
             ],
             [
              0.3333333333333333,
              "#9c179e"
             ],
             [
              0.4444444444444444,
              "#bd3786"
             ],
             [
              0.5555555555555556,
              "#d8576b"
             ],
             [
              0.6666666666666666,
              "#ed7953"
             ],
             [
              0.7777777777777778,
              "#fb9f3a"
             ],
             [
              0.8888888888888888,
              "#fdca26"
             ],
             [
              1,
              "#f0f921"
             ]
            ],
            "type": "surface"
           }
          ],
          "table": [
           {
            "cells": {
             "fill": {
              "color": "#EBF0F8"
             },
             "line": {
              "color": "white"
             }
            },
            "header": {
             "fill": {
              "color": "#C8D4E3"
             },
             "line": {
              "color": "white"
             }
            },
            "type": "table"
           }
          ]
         },
         "layout": {
          "annotationdefaults": {
           "arrowcolor": "#2a3f5f",
           "arrowhead": 0,
           "arrowwidth": 1
          },
          "autotypenumbers": "strict",
          "coloraxis": {
           "colorbar": {
            "outlinewidth": 0,
            "ticks": ""
           }
          },
          "colorscale": {
           "diverging": [
            [
             0,
             "#8e0152"
            ],
            [
             0.1,
             "#c51b7d"
            ],
            [
             0.2,
             "#de77ae"
            ],
            [
             0.3,
             "#f1b6da"
            ],
            [
             0.4,
             "#fde0ef"
            ],
            [
             0.5,
             "#f7f7f7"
            ],
            [
             0.6,
             "#e6f5d0"
            ],
            [
             0.7,
             "#b8e186"
            ],
            [
             0.8,
             "#7fbc41"
            ],
            [
             0.9,
             "#4d9221"
            ],
            [
             1,
             "#276419"
            ]
           ],
           "sequential": [
            [
             0,
             "#0d0887"
            ],
            [
             0.1111111111111111,
             "#46039f"
            ],
            [
             0.2222222222222222,
             "#7201a8"
            ],
            [
             0.3333333333333333,
             "#9c179e"
            ],
            [
             0.4444444444444444,
             "#bd3786"
            ],
            [
             0.5555555555555556,
             "#d8576b"
            ],
            [
             0.6666666666666666,
             "#ed7953"
            ],
            [
             0.7777777777777778,
             "#fb9f3a"
            ],
            [
             0.8888888888888888,
             "#fdca26"
            ],
            [
             1,
             "#f0f921"
            ]
           ],
           "sequentialminus": [
            [
             0,
             "#0d0887"
            ],
            [
             0.1111111111111111,
             "#46039f"
            ],
            [
             0.2222222222222222,
             "#7201a8"
            ],
            [
             0.3333333333333333,
             "#9c179e"
            ],
            [
             0.4444444444444444,
             "#bd3786"
            ],
            [
             0.5555555555555556,
             "#d8576b"
            ],
            [
             0.6666666666666666,
             "#ed7953"
            ],
            [
             0.7777777777777778,
             "#fb9f3a"
            ],
            [
             0.8888888888888888,
             "#fdca26"
            ],
            [
             1,
             "#f0f921"
            ]
           ]
          },
          "colorway": [
           "#636efa",
           "#EF553B",
           "#00cc96",
           "#ab63fa",
           "#FFA15A",
           "#19d3f3",
           "#FF6692",
           "#B6E880",
           "#FF97FF",
           "#FECB52"
          ],
          "font": {
           "color": "#2a3f5f"
          },
          "geo": {
           "bgcolor": "white",
           "lakecolor": "white",
           "landcolor": "#E5ECF6",
           "showlakes": true,
           "showland": true,
           "subunitcolor": "white"
          },
          "hoverlabel": {
           "align": "left"
          },
          "hovermode": "closest",
          "mapbox": {
           "style": "light"
          },
          "paper_bgcolor": "white",
          "plot_bgcolor": "#E5ECF6",
          "polar": {
           "angularaxis": {
            "gridcolor": "white",
            "linecolor": "white",
            "ticks": ""
           },
           "bgcolor": "#E5ECF6",
           "radialaxis": {
            "gridcolor": "white",
            "linecolor": "white",
            "ticks": ""
           }
          },
          "scene": {
           "xaxis": {
            "backgroundcolor": "#E5ECF6",
            "gridcolor": "white",
            "gridwidth": 2,
            "linecolor": "white",
            "showbackground": true,
            "ticks": "",
            "zerolinecolor": "white"
           },
           "yaxis": {
            "backgroundcolor": "#E5ECF6",
            "gridcolor": "white",
            "gridwidth": 2,
            "linecolor": "white",
            "showbackground": true,
            "ticks": "",
            "zerolinecolor": "white"
           },
           "zaxis": {
            "backgroundcolor": "#E5ECF6",
            "gridcolor": "white",
            "gridwidth": 2,
            "linecolor": "white",
            "showbackground": true,
            "ticks": "",
            "zerolinecolor": "white"
           }
          },
          "shapedefaults": {
           "line": {
            "color": "#2a3f5f"
           }
          },
          "ternary": {
           "aaxis": {
            "gridcolor": "white",
            "linecolor": "white",
            "ticks": ""
           },
           "baxis": {
            "gridcolor": "white",
            "linecolor": "white",
            "ticks": ""
           },
           "bgcolor": "#E5ECF6",
           "caxis": {
            "gridcolor": "white",
            "linecolor": "white",
            "ticks": ""
           }
          },
          "title": {
           "x": 0.05
          },
          "xaxis": {
           "automargin": true,
           "gridcolor": "white",
           "linecolor": "white",
           "ticks": "",
           "title": {
            "standoff": 15
           },
           "zerolinecolor": "white",
           "zerolinewidth": 2
          },
          "yaxis": {
           "automargin": true,
           "gridcolor": "white",
           "linecolor": "white",
           "ticks": "",
           "title": {
            "standoff": 15
           },
           "zerolinecolor": "white",
           "zerolinewidth": 2
          }
         }
        }
       }
      }
     },
     "metadata": {},
     "output_type": "display_data"
    }
   ],
   "source": [
    "import plotly.express as px\n",
    "\n",
    "fig = px.density_mapbox(df_greed, lat='lat', lon='long', z='mean_flow_mw', radius=10,\n",
    "                        center=dict(lat=53.5, lon=-2.9), zoom=8, hover_name='sub_name', custom_data=['cap_mva', 'distance'],\n",
    "                        mapbox_style=\"open-street-map\")\n",
    "fig.show()"
   ]
  },
  {
   "cell_type": "markdown",
   "metadata": {},
   "source": [
    "# Clustering\n",
    "cluster groups of substations with flow"
   ]
  },
  {
   "cell_type": "code",
   "execution_count": 34,
   "metadata": {},
   "outputs": [
    {
     "ename": "KeyError",
     "evalue": "\"['Firm Capacity (MVA)'] not in index\"",
     "output_type": "error",
     "traceback": [
      "\u001b[0;31m---------------------------------------------------------------------------\u001b[0m",
      "\u001b[0;31mKeyError\u001b[0m                                  Traceback (most recent call last)",
      "Input \u001b[0;32mIn [34]\u001b[0m, in \u001b[0;36m<cell line: 1>\u001b[0;34m()\u001b[0m\n\u001b[0;32m----> 1\u001b[0m clust_x \u001b[38;5;241m=\u001b[39m \u001b[43mdf_flow_gg\u001b[49m\u001b[43m[\u001b[49m\u001b[43m[\u001b[49m\u001b[38;5;124;43m'\u001b[39;49m\u001b[38;5;124;43mnet_mvar_max\u001b[39;49m\u001b[38;5;124;43m'\u001b[39;49m\u001b[43m,\u001b[49m\u001b[43m \u001b[49m\u001b[38;5;124;43m'\u001b[39;49m\u001b[38;5;124;43mFirm Capacity (MVA)\u001b[39;49m\u001b[38;5;124;43m'\u001b[39;49m\u001b[43m]\u001b[49m\u001b[43m]\u001b[49m\u001b[38;5;241m.\u001b[39mdropna()\n\u001b[1;32m      2\u001b[0m clust_x\n",
      "File \u001b[0;32m/Library/Frameworks/Python.framework/Versions/3.10/lib/python3.10/site-packages/pandas/core/frame.py:3511\u001b[0m, in \u001b[0;36mDataFrame.__getitem__\u001b[0;34m(self, key)\u001b[0m\n\u001b[1;32m   3509\u001b[0m     \u001b[38;5;28;01mif\u001b[39;00m is_iterator(key):\n\u001b[1;32m   3510\u001b[0m         key \u001b[38;5;241m=\u001b[39m \u001b[38;5;28mlist\u001b[39m(key)\n\u001b[0;32m-> 3511\u001b[0m     indexer \u001b[38;5;241m=\u001b[39m \u001b[38;5;28;43mself\u001b[39;49m\u001b[38;5;241;43m.\u001b[39;49m\u001b[43mcolumns\u001b[49m\u001b[38;5;241;43m.\u001b[39;49m\u001b[43m_get_indexer_strict\u001b[49m\u001b[43m(\u001b[49m\u001b[43mkey\u001b[49m\u001b[43m,\u001b[49m\u001b[43m \u001b[49m\u001b[38;5;124;43m\"\u001b[39;49m\u001b[38;5;124;43mcolumns\u001b[39;49m\u001b[38;5;124;43m\"\u001b[39;49m\u001b[43m)\u001b[49m[\u001b[38;5;241m1\u001b[39m]\n\u001b[1;32m   3513\u001b[0m \u001b[38;5;66;03m# take() does not accept boolean indexers\u001b[39;00m\n\u001b[1;32m   3514\u001b[0m \u001b[38;5;28;01mif\u001b[39;00m \u001b[38;5;28mgetattr\u001b[39m(indexer, \u001b[38;5;124m\"\u001b[39m\u001b[38;5;124mdtype\u001b[39m\u001b[38;5;124m\"\u001b[39m, \u001b[38;5;28;01mNone\u001b[39;00m) \u001b[38;5;241m==\u001b[39m \u001b[38;5;28mbool\u001b[39m:\n",
      "File \u001b[0;32m/Library/Frameworks/Python.framework/Versions/3.10/lib/python3.10/site-packages/pandas/core/indexes/base.py:5782\u001b[0m, in \u001b[0;36mIndex._get_indexer_strict\u001b[0;34m(self, key, axis_name)\u001b[0m\n\u001b[1;32m   5779\u001b[0m \u001b[38;5;28;01melse\u001b[39;00m:\n\u001b[1;32m   5780\u001b[0m     keyarr, indexer, new_indexer \u001b[38;5;241m=\u001b[39m \u001b[38;5;28mself\u001b[39m\u001b[38;5;241m.\u001b[39m_reindex_non_unique(keyarr)\n\u001b[0;32m-> 5782\u001b[0m \u001b[38;5;28;43mself\u001b[39;49m\u001b[38;5;241;43m.\u001b[39;49m\u001b[43m_raise_if_missing\u001b[49m\u001b[43m(\u001b[49m\u001b[43mkeyarr\u001b[49m\u001b[43m,\u001b[49m\u001b[43m \u001b[49m\u001b[43mindexer\u001b[49m\u001b[43m,\u001b[49m\u001b[43m \u001b[49m\u001b[43maxis_name\u001b[49m\u001b[43m)\u001b[49m\n\u001b[1;32m   5784\u001b[0m keyarr \u001b[38;5;241m=\u001b[39m \u001b[38;5;28mself\u001b[39m\u001b[38;5;241m.\u001b[39mtake(indexer)\n\u001b[1;32m   5785\u001b[0m \u001b[38;5;28;01mif\u001b[39;00m \u001b[38;5;28misinstance\u001b[39m(key, Index):\n\u001b[1;32m   5786\u001b[0m     \u001b[38;5;66;03m# GH 42790 - Preserve name from an Index\u001b[39;00m\n",
      "File \u001b[0;32m/Library/Frameworks/Python.framework/Versions/3.10/lib/python3.10/site-packages/pandas/core/indexes/base.py:5845\u001b[0m, in \u001b[0;36mIndex._raise_if_missing\u001b[0;34m(self, key, indexer, axis_name)\u001b[0m\n\u001b[1;32m   5842\u001b[0m     \u001b[38;5;28;01mraise\u001b[39;00m \u001b[38;5;167;01mKeyError\u001b[39;00m(\u001b[38;5;124mf\u001b[39m\u001b[38;5;124m\"\u001b[39m\u001b[38;5;124mNone of [\u001b[39m\u001b[38;5;132;01m{\u001b[39;00mkey\u001b[38;5;132;01m}\u001b[39;00m\u001b[38;5;124m] are in the [\u001b[39m\u001b[38;5;132;01m{\u001b[39;00maxis_name\u001b[38;5;132;01m}\u001b[39;00m\u001b[38;5;124m]\u001b[39m\u001b[38;5;124m\"\u001b[39m)\n\u001b[1;32m   5844\u001b[0m not_found \u001b[38;5;241m=\u001b[39m \u001b[38;5;28mlist\u001b[39m(ensure_index(key)[missing_mask\u001b[38;5;241m.\u001b[39mnonzero()[\u001b[38;5;241m0\u001b[39m]]\u001b[38;5;241m.\u001b[39munique())\n\u001b[0;32m-> 5845\u001b[0m \u001b[38;5;28;01mraise\u001b[39;00m \u001b[38;5;167;01mKeyError\u001b[39;00m(\u001b[38;5;124mf\u001b[39m\u001b[38;5;124m\"\u001b[39m\u001b[38;5;132;01m{\u001b[39;00mnot_found\u001b[38;5;132;01m}\u001b[39;00m\u001b[38;5;124m not in index\u001b[39m\u001b[38;5;124m\"\u001b[39m)\n",
      "\u001b[0;31mKeyError\u001b[0m: \"['Firm Capacity (MVA)'] not in index\""
     ]
    }
   ],
   "source": [
    "clust_x = df_flow_gg[['net_mvar_max', 'Firm Capacity (MVA)']].dropna()\n",
    "clust_x"
   ]
  },
  {
   "cell_type": "code",
   "execution_count": null,
   "metadata": {},
   "outputs": [
    {
     "name": "stderr",
     "output_type": "stream",
     "text": [
      "/Library/Frameworks/Python.framework/Versions/3.10/lib/python3.10/site-packages/sklearn/cluster/_kmeans.py:1416: FutureWarning:\n",
      "\n",
      "The default value of `n_init` will change from 10 to 'auto' in 1.4. Set the value of `n_init` explicitly to suppress the warning\n",
      "\n",
      "/Library/Frameworks/Python.framework/Versions/3.10/lib/python3.10/site-packages/sklearn/cluster/_kmeans.py:1416: FutureWarning:\n",
      "\n",
      "The default value of `n_init` will change from 10 to 'auto' in 1.4. Set the value of `n_init` explicitly to suppress the warning\n",
      "\n",
      "/Library/Frameworks/Python.framework/Versions/3.10/lib/python3.10/site-packages/sklearn/cluster/_kmeans.py:1416: FutureWarning:\n",
      "\n",
      "The default value of `n_init` will change from 10 to 'auto' in 1.4. Set the value of `n_init` explicitly to suppress the warning\n",
      "\n",
      "/Library/Frameworks/Python.framework/Versions/3.10/lib/python3.10/site-packages/sklearn/cluster/_kmeans.py:1416: FutureWarning:\n",
      "\n",
      "The default value of `n_init` will change from 10 to 'auto' in 1.4. Set the value of `n_init` explicitly to suppress the warning\n",
      "\n",
      "/Library/Frameworks/Python.framework/Versions/3.10/lib/python3.10/site-packages/sklearn/cluster/_kmeans.py:1416: FutureWarning:\n",
      "\n",
      "The default value of `n_init` will change from 10 to 'auto' in 1.4. Set the value of `n_init` explicitly to suppress the warning\n",
      "\n",
      "/Library/Frameworks/Python.framework/Versions/3.10/lib/python3.10/site-packages/sklearn/cluster/_kmeans.py:1416: FutureWarning:\n",
      "\n",
      "The default value of `n_init` will change from 10 to 'auto' in 1.4. Set the value of `n_init` explicitly to suppress the warning\n",
      "\n",
      "/Library/Frameworks/Python.framework/Versions/3.10/lib/python3.10/site-packages/sklearn/cluster/_kmeans.py:1416: FutureWarning:\n",
      "\n",
      "The default value of `n_init` will change from 10 to 'auto' in 1.4. Set the value of `n_init` explicitly to suppress the warning\n",
      "\n",
      "/Library/Frameworks/Python.framework/Versions/3.10/lib/python3.10/site-packages/sklearn/cluster/_kmeans.py:1416: FutureWarning:\n",
      "\n",
      "The default value of `n_init` will change from 10 to 'auto' in 1.4. Set the value of `n_init` explicitly to suppress the warning\n",
      "\n",
      "/Library/Frameworks/Python.framework/Versions/3.10/lib/python3.10/site-packages/sklearn/cluster/_kmeans.py:1416: FutureWarning:\n",
      "\n",
      "The default value of `n_init` will change from 10 to 'auto' in 1.4. Set the value of `n_init` explicitly to suppress the warning\n",
      "\n"
     ]
    },
    {
     "data": {
      "image/png": "[encoded data removed]",
      "text/plain": [
       "<Figure size 432x288 with 1 Axes>"
      ]
     },
     "metadata": {
      "needs_background": "light"
     },
     "output_type": "display_data"
    }
   ],
   "source": [
    "Sum_of_squared_distances = []\n",
    "K = range(1,10)\n",
    "for num_clusters in K :\n",
    "   kmeans = KMeans(n_clusters=num_clusters)\n",
    "   kmeans.fit(clust_x)\n",
    "   Sum_of_squared_distances.append(kmeans.inertia_)\n",
    "plt.plot(K,Sum_of_squared_distances,'bx-')\n",
    "plt.xlabel('Values of K') \n",
    "plt.ylabel('Sum of squared distances/Inertia') \n",
    "plt.title('Elbow Method For Optimal k')\n",
    "plt.show()"
   ]
  },
  {
   "cell_type": "code",
   "execution_count": null,
   "metadata": {},
   "outputs": [
    {
     "name": "stderr",
     "output_type": "stream",
     "text": [
      "/Library/Frameworks/Python.framework/Versions/3.10/lib/python3.10/site-packages/sklearn/cluster/_kmeans.py:1416: FutureWarning:\n",
      "\n",
      "The default value of `n_init` will change from 10 to 'auto' in 1.4. Set the value of `n_init` explicitly to suppress the warning\n",
      "\n"
     ]
    },
    {
     "data": {
      "text/plain": [
       "<Axes: xlabel='net_mvar_max', ylabel='Firm Capacity (MVA)'>"
      ]
     },
     "execution_count": 39,
     "metadata": {},
     "output_type": "execute_result"
    },
    {
     "data": {
      "image/png": "[encoded data removed]",
      "text/plain": [
       "<Figure size 432x288 with 1 Axes>"
      ]
     },
     "metadata": {
      "needs_background": "light"
     },
     "output_type": "display_data"
    }
   ],
   "source": [
    "kmeans = KMeans(n_clusters=4)\n",
    "kmeans.fit(clust_x)\n",
    "sns.scatterplot(data = clust_x, x = 'net_mvar_max', y = 'Firm Capacity (MVA)', hue = kmeans.labels_)"
   ]
  }
 ],
 "metadata": {
  "kernelspec": {
   "display_name": "Python 3",
   "language": "python",
   "name": "python3"
  },
  "language_info": {
   "codemirror_mode": {
    "name": "ipython",
    "version": 3
   },
   "file_extension": ".py",
   "mimetype": "text/x-python",
   "name": "python",
   "nbconvert_exporter": "python",
   "pygments_lexer": "ipython3",
   "version": "3.10.4"
  }
 },
 "nbformat": 4,
 "nbformat_minor": 2
}
