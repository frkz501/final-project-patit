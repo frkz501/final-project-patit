{
 "cells": [
  {
   "cell_type": "markdown",
   "metadata": {},
   "source": [
    "import libraries"
   ]
  },
  {
   "cell_type": "code",
   "execution_count": 134,
   "metadata": {},
   "outputs": [],
   "source": [
    "import pandas as pd\n",
    "import re\n",
    "from sklearn.cluster import KMeans\n",
    "import seaborn as sns"
   ]
  },
  {
   "cell_type": "markdown",
   "metadata": {},
   "source": [
    "# import data\n",
    "## Generations"
   ]
  },
  {
   "cell_type": "code",
   "execution_count": 135,
   "metadata": {},
   "outputs": [
    {
     "data": {
      "text/html": [
       "<div>\n",
       "<style scoped>\n",
       "    .dataframe tbody tr th:only-of-type {\n",
       "        vertical-align: middle;\n",
       "    }\n",
       "\n",
       "    .dataframe tbody tr th {\n",
       "        vertical-align: top;\n",
       "    }\n",
       "\n",
       "    .dataframe thead th {\n",
       "        text-align: right;\n",
       "    }\n",
       "</style>\n",
       "<table border=\"1\" class=\"dataframe\">\n",
       "  <thead>\n",
       "    <tr style=\"text-align: right;\">\n",
       "      <th></th>\n",
       "      <th>Substation Name</th>\n",
       "      <th>Nominal Voltage (kV)</th>\n",
       "      <th>Grid Group</th>\n",
       "      <th>Supergrid Group</th>\n",
       "      <th>Firm Capacity (MVA)</th>\n",
       "      <th>Maximum Load (MVA)</th>\n",
       "      <th>Minimum Load (MVA)</th>\n",
       "      <th>Generation Connected (MW)</th>\n",
       "      <th>Generation Contracted (MW)</th>\n",
       "      <th>Overall Category</th>\n",
       "      <th>132kV Generation Capacity</th>\n",
       "      <th>33kV Fault Level</th>\n",
       "      <th>Wider Constraint Category</th>\n",
       "      <th>Wider Constraint</th>\n",
       "      <th>District</th>\n",
       "      <th>X</th>\n",
       "      <th>Y</th>\n",
       "    </tr>\n",
       "  </thead>\n",
       "  <tbody>\n",
       "    <tr>\n",
       "      <th>0</th>\n",
       "      <td>AINTREE</td>\n",
       "      <td>132/33</td>\n",
       "      <td>AINTREE GT1 / FORMBY GT2A / LITHERLAND GT1B</td>\n",
       "      <td>KIRKBY</td>\n",
       "      <td>101.9</td>\n",
       "      <td>76.7</td>\n",
       "      <td>19.2</td>\n",
       "      <td>6.1</td>\n",
       "      <td>16.0</td>\n",
       "      <td>RED</td>\n",
       "      <td>Green</td>\n",
       "      <td>Green</td>\n",
       "      <td>Red</td>\n",
       "      <td>NaN</td>\n",
       "      <td>Merseyside</td>\n",
       "      <td>337138.3940</td>\n",
       "      <td>399769.6970</td>\n",
       "    </tr>\n",
       "    <tr>\n",
       "      <th>1</th>\n",
       "      <td>FORMBY</td>\n",
       "      <td>132/33</td>\n",
       "      <td>AINTREE GT1 / FORMBY GT2A / LITHERLAND GT1B</td>\n",
       "      <td>KIRKBY</td>\n",
       "      <td>101.9</td>\n",
       "      <td>76.7</td>\n",
       "      <td>19.2</td>\n",
       "      <td>6.1</td>\n",
       "      <td>16.0</td>\n",
       "      <td>RED</td>\n",
       "      <td>Green</td>\n",
       "      <td>Green</td>\n",
       "      <td>Red</td>\n",
       "      <td>NaN</td>\n",
       "      <td>Merseyside</td>\n",
       "      <td>330979.9800</td>\n",
       "      <td>406990.7280</td>\n",
       "    </tr>\n",
       "    <tr>\n",
       "      <th>2</th>\n",
       "      <td>LISTER DRIVE</td>\n",
       "      <td>132/33</td>\n",
       "      <td>BOOTLE GT2A / BURLINGTON ST GT1 / LISTER DV A GT2</td>\n",
       "      <td>LISTER DRIVE</td>\n",
       "      <td>138.1</td>\n",
       "      <td>85.6</td>\n",
       "      <td>21.4</td>\n",
       "      <td>5.4</td>\n",
       "      <td>20.4</td>\n",
       "      <td>AMBER</td>\n",
       "      <td>Green</td>\n",
       "      <td>Red</td>\n",
       "      <td>Amber</td>\n",
       "      <td>NaN</td>\n",
       "      <td>Merseyside</td>\n",
       "      <td>338447.3411</td>\n",
       "      <td>391747.9437</td>\n",
       "    </tr>\n",
       "    <tr>\n",
       "      <th>3</th>\n",
       "      <td>LEGACY</td>\n",
       "      <td>132/33</td>\n",
       "      <td>BRYMBO GT1 / LEGACY LOCAL GT1 / MARCHWIEL GT1 ...</td>\n",
       "      <td>LEGACY</td>\n",
       "      <td>154.7</td>\n",
       "      <td>119.7</td>\n",
       "      <td>29.9</td>\n",
       "      <td>28.9</td>\n",
       "      <td>48.0</td>\n",
       "      <td>RED</td>\n",
       "      <td>Green</td>\n",
       "      <td>Green</td>\n",
       "      <td>Red</td>\n",
       "      <td>NaN</td>\n",
       "      <td>Dee Valley &amp; Mid Wales</td>\n",
       "      <td>329112.9340</td>\n",
       "      <td>347936.9270</td>\n",
       "    </tr>\n",
       "    <tr>\n",
       "      <th>4</th>\n",
       "      <td>WARRINGTON</td>\n",
       "      <td>132/33</td>\n",
       "      <td>DALLAM GT1 / SANKEY BRIDGES GT1 / WARRINGTON GT3</td>\n",
       "      <td>CARRINGTON - FIDDLERS FERRY</td>\n",
       "      <td>103.0</td>\n",
       "      <td>92.7</td>\n",
       "      <td>23.2</td>\n",
       "      <td>11.2</td>\n",
       "      <td>5.4</td>\n",
       "      <td>RED</td>\n",
       "      <td>Green</td>\n",
       "      <td>Green</td>\n",
       "      <td>Red</td>\n",
       "      <td>NaN</td>\n",
       "      <td>Mid Cheshire</td>\n",
       "      <td>362284.6170</td>\n",
       "      <td>388088.3560</td>\n",
       "    </tr>\n",
       "  </tbody>\n",
       "</table>\n",
       "</div>"
      ],
      "text/plain": [
       "  Substation Name Nominal Voltage (kV)  \\\n",
       "0         AINTREE               132/33   \n",
       "1          FORMBY               132/33   \n",
       "2    LISTER DRIVE               132/33   \n",
       "3          LEGACY               132/33   \n",
       "4      WARRINGTON               132/33   \n",
       "\n",
       "                                          Grid Group  \\\n",
       "0        AINTREE GT1 / FORMBY GT2A / LITHERLAND GT1B   \n",
       "1        AINTREE GT1 / FORMBY GT2A / LITHERLAND GT1B   \n",
       "2  BOOTLE GT2A / BURLINGTON ST GT1 / LISTER DV A GT2   \n",
       "3  BRYMBO GT1 / LEGACY LOCAL GT1 / MARCHWIEL GT1 ...   \n",
       "4   DALLAM GT1 / SANKEY BRIDGES GT1 / WARRINGTON GT3   \n",
       "\n",
       "               Supergrid Group  Firm Capacity (MVA)  Maximum Load (MVA)  \\\n",
       "0                       KIRKBY                101.9                76.7   \n",
       "1                       KIRKBY                101.9                76.7   \n",
       "2                 LISTER DRIVE                138.1                85.6   \n",
       "3                       LEGACY                154.7               119.7   \n",
       "4  CARRINGTON - FIDDLERS FERRY                103.0                92.7   \n",
       "\n",
       "   Minimum Load (MVA)  Generation Connected (MW)  Generation Contracted (MW)  \\\n",
       "0                19.2                        6.1                        16.0   \n",
       "1                19.2                        6.1                        16.0   \n",
       "2                21.4                        5.4                        20.4   \n",
       "3                29.9                       28.9                        48.0   \n",
       "4                23.2                       11.2                         5.4   \n",
       "\n",
       "  Overall Category 132kV Generation Capacity 33kV Fault Level  \\\n",
       "0              RED                     Green            Green   \n",
       "1              RED                     Green            Green   \n",
       "2            AMBER                     Green              Red   \n",
       "3              RED                     Green            Green   \n",
       "4              RED                     Green            Green   \n",
       "\n",
       "  Wider Constraint Category  Wider Constraint                District  \\\n",
       "0                       Red               NaN              Merseyside   \n",
       "1                       Red               NaN              Merseyside   \n",
       "2                     Amber               NaN              Merseyside   \n",
       "3                       Red               NaN  Dee Valley & Mid Wales   \n",
       "4                       Red               NaN            Mid Cheshire   \n",
       "\n",
       "             X            Y  \n",
       "0  337138.3940  399769.6970  \n",
       "1  330979.9800  406990.7280  \n",
       "2  338447.3411  391747.9437  \n",
       "3  329112.9340  347936.9270  \n",
       "4  362284.6170  388088.3560  "
      ]
     },
     "execution_count": 135,
     "metadata": {},
     "output_type": "execute_result"
    }
   ],
   "source": [
    "df_grid = pd.read_csv('generation-grid.csv')\n",
    "df_grid = df_grid.rename(columns=lambda x: re.sub('\\ufeff', '', x)) # remove blank spaces\n",
    "df_grid.head()"
   ]
  },
  {
   "cell_type": "code",
   "execution_count": 136,
   "metadata": {},
   "outputs": [
    {
     "data": {
      "text/html": [
       "<div>\n",
       "<style scoped>\n",
       "    .dataframe tbody tr th:only-of-type {\n",
       "        vertical-align: middle;\n",
       "    }\n",
       "\n",
       "    .dataframe tbody tr th {\n",
       "        vertical-align: top;\n",
       "    }\n",
       "\n",
       "    .dataframe thead th {\n",
       "        text-align: right;\n",
       "    }\n",
       "</style>\n",
       "<table border=\"1\" class=\"dataframe\">\n",
       "  <thead>\n",
       "    <tr style=\"text-align: right;\">\n",
       "      <th></th>\n",
       "      <th>Substation Name</th>\n",
       "      <th>Nominal Voltage (kV)</th>\n",
       "      <th>Primary Group</th>\n",
       "      <th>Grid Group</th>\n",
       "      <th>Firm Capacity (MVA)</th>\n",
       "      <th>Maximum Load (MVA)</th>\n",
       "      <th>Minimum Load (MVA)</th>\n",
       "      <th>Generation Connected (MW)</th>\n",
       "      <th>Generation Contracted (MW)</th>\n",
       "      <th>33kV Overall Category</th>\n",
       "      <th>Overall Category</th>\n",
       "      <th>33kV Generation Capacity</th>\n",
       "      <th>33kV Wider Constraints</th>\n",
       "      <th>HV Reverse Power Flow</th>\n",
       "      <th>HV Generation Capacity</th>\n",
       "      <th>HV Fault Level</th>\n",
       "      <th>HV Wider Constraints</th>\n",
       "      <th>District</th>\n",
       "      <th>X</th>\n",
       "      <th>Y</th>\n",
       "    </tr>\n",
       "  </thead>\n",
       "  <tbody>\n",
       "    <tr>\n",
       "      <th>0</th>\n",
       "      <td>NORTH ROAD</td>\n",
       "      <td>33/11</td>\n",
       "      <td>ABERYSTWYTH T1 / NORTH RD T1 / PARC-Y-LLYN T1 ...</td>\n",
       "      <td>ABERYSTWYTH GT2 / RHYDLYDAN GT1</td>\n",
       "      <td>37.5</td>\n",
       "      <td>18.55</td>\n",
       "      <td>4.64</td>\n",
       "      <td>0.02</td>\n",
       "      <td>0.0</td>\n",
       "      <td>RED</td>\n",
       "      <td>RED</td>\n",
       "      <td>Red</td>\n",
       "      <td>Red</td>\n",
       "      <td>Amber</td>\n",
       "      <td>Green</td>\n",
       "      <td>Red</td>\n",
       "      <td>Amber</td>\n",
       "      <td>Dee Valley &amp; Mid Wales</td>\n",
       "      <td>258666.8910</td>\n",
       "      <td>281901.4070</td>\n",
       "    </tr>\n",
       "    <tr>\n",
       "      <th>1</th>\n",
       "      <td>DICKINSONS</td>\n",
       "      <td>33/11</td>\n",
       "      <td>ACORNFIELD RD T1 / DICKINSONS T1 / HAMMOND RD ...</td>\n",
       "      <td>GILLMOSS GT1 / KIRKBY GT2 / SIMONSWOOD GT1</td>\n",
       "      <td>30.0</td>\n",
       "      <td>14.71</td>\n",
       "      <td>3.68</td>\n",
       "      <td>0.04</td>\n",
       "      <td>0.0</td>\n",
       "      <td>RED</td>\n",
       "      <td>RED</td>\n",
       "      <td>Green</td>\n",
       "      <td>Red</td>\n",
       "      <td>Amber</td>\n",
       "      <td>Green</td>\n",
       "      <td>Red</td>\n",
       "      <td>Amber</td>\n",
       "      <td>Merseyside</td>\n",
       "      <td>342713.8240</td>\n",
       "      <td>398255.2320</td>\n",
       "    </tr>\n",
       "    <tr>\n",
       "      <th>2</th>\n",
       "      <td>WAVERTREE</td>\n",
       "      <td>33/11</td>\n",
       "      <td>AIGBURTH VALE T1 / IVY AVE T1 / MATHER AVE T1 ...</td>\n",
       "      <td>GARSTON GT2 / SPEKE GT3 / WAVERTREE GT1A</td>\n",
       "      <td>37.5</td>\n",
       "      <td>18.97</td>\n",
       "      <td>4.74</td>\n",
       "      <td>0.00</td>\n",
       "      <td>0.0</td>\n",
       "      <td>AMBER</td>\n",
       "      <td>RED</td>\n",
       "      <td>Green</td>\n",
       "      <td>Amber</td>\n",
       "      <td>Amber</td>\n",
       "      <td>Green</td>\n",
       "      <td>Red</td>\n",
       "      <td>Amber</td>\n",
       "      <td>Merseyside</td>\n",
       "      <td>339018.8312</td>\n",
       "      <td>388483.6650</td>\n",
       "    </tr>\n",
       "    <tr>\n",
       "      <th>3</th>\n",
       "      <td>AINTREE</td>\n",
       "      <td>33/11</td>\n",
       "      <td>AINTREE LOCAL T1 / OLD ROAN T1 / WANGO LA T1</td>\n",
       "      <td>AINTREE GT2 / FAZAKERLEY GT1 / GILLMOSS GT2</td>\n",
       "      <td>20.0</td>\n",
       "      <td>11.67</td>\n",
       "      <td>2.92</td>\n",
       "      <td>0.00</td>\n",
       "      <td>0.0</td>\n",
       "      <td>RED</td>\n",
       "      <td>AMBER</td>\n",
       "      <td>Green</td>\n",
       "      <td>Red</td>\n",
       "      <td>Amber</td>\n",
       "      <td>Amber</td>\n",
       "      <td>Amber</td>\n",
       "      <td>Amber</td>\n",
       "      <td>Merseyside</td>\n",
       "      <td>336740.4480</td>\n",
       "      <td>398306.6880</td>\n",
       "    </tr>\n",
       "    <tr>\n",
       "      <th>4</th>\n",
       "      <td>ANDERTON</td>\n",
       "      <td>33/11</td>\n",
       "      <td>ANDERTON T1</td>\n",
       "      <td>HARTFORD GT1 / LOSTOCK GT2 / WINSFORD GT1 / WI...</td>\n",
       "      <td>7.5</td>\n",
       "      <td>2.61</td>\n",
       "      <td>0.65</td>\n",
       "      <td>0.22</td>\n",
       "      <td>0.0</td>\n",
       "      <td>RED</td>\n",
       "      <td>RED</td>\n",
       "      <td>Green</td>\n",
       "      <td>Red</td>\n",
       "      <td>Red</td>\n",
       "      <td>Red</td>\n",
       "      <td>Green</td>\n",
       "      <td>Amber</td>\n",
       "      <td>Mid Cheshire</td>\n",
       "      <td>364880.5897</td>\n",
       "      <td>375727.2788</td>\n",
       "    </tr>\n",
       "  </tbody>\n",
       "</table>\n",
       "</div>"
      ],
      "text/plain": [
       "  Substation Name Nominal Voltage (kV)  \\\n",
       "0      NORTH ROAD                33/11   \n",
       "1      DICKINSONS                33/11   \n",
       "2       WAVERTREE                33/11   \n",
       "3         AINTREE                33/11   \n",
       "4        ANDERTON                33/11   \n",
       "\n",
       "                                       Primary Group  \\\n",
       "0  ABERYSTWYTH T1 / NORTH RD T1 / PARC-Y-LLYN T1 ...   \n",
       "1  ACORNFIELD RD T1 / DICKINSONS T1 / HAMMOND RD ...   \n",
       "2  AIGBURTH VALE T1 / IVY AVE T1 / MATHER AVE T1 ...   \n",
       "3       AINTREE LOCAL T1 / OLD ROAN T1 / WANGO LA T1   \n",
       "4                                        ANDERTON T1   \n",
       "\n",
       "                                          Grid Group  Firm Capacity (MVA)  \\\n",
       "0                    ABERYSTWYTH GT2 / RHYDLYDAN GT1                 37.5   \n",
       "1         GILLMOSS GT1 / KIRKBY GT2 / SIMONSWOOD GT1                 30.0   \n",
       "2           GARSTON GT2 / SPEKE GT3 / WAVERTREE GT1A                 37.5   \n",
       "3        AINTREE GT2 / FAZAKERLEY GT1 / GILLMOSS GT2                 20.0   \n",
       "4  HARTFORD GT1 / LOSTOCK GT2 / WINSFORD GT1 / WI...                  7.5   \n",
       "\n",
       "   Maximum Load (MVA)  Minimum Load (MVA)  Generation Connected (MW)  \\\n",
       "0               18.55                4.64                       0.02   \n",
       "1               14.71                3.68                       0.04   \n",
       "2               18.97                4.74                       0.00   \n",
       "3               11.67                2.92                       0.00   \n",
       "4                2.61                0.65                       0.22   \n",
       "\n",
       "   Generation Contracted (MW) 33kV Overall Category Overall Category  \\\n",
       "0                         0.0                   RED              RED   \n",
       "1                         0.0                   RED              RED   \n",
       "2                         0.0                 AMBER              RED   \n",
       "3                         0.0                   RED            AMBER   \n",
       "4                         0.0                   RED              RED   \n",
       "\n",
       "  33kV Generation Capacity 33kV Wider Constraints HV Reverse Power Flow  \\\n",
       "0                      Red                    Red                 Amber   \n",
       "1                    Green                    Red                 Amber   \n",
       "2                    Green                  Amber                 Amber   \n",
       "3                    Green                    Red                 Amber   \n",
       "4                    Green                    Red                   Red   \n",
       "\n",
       "  HV Generation Capacity HV Fault Level HV Wider Constraints  \\\n",
       "0                  Green            Red                Amber   \n",
       "1                  Green            Red                Amber   \n",
       "2                  Green            Red                Amber   \n",
       "3                  Amber          Amber                Amber   \n",
       "4                    Red          Green                Amber   \n",
       "\n",
       "                 District            X            Y  \n",
       "0  Dee Valley & Mid Wales  258666.8910  281901.4070  \n",
       "1              Merseyside  342713.8240  398255.2320  \n",
       "2              Merseyside  339018.8312  388483.6650  \n",
       "3              Merseyside  336740.4480  398306.6880  \n",
       "4            Mid Cheshire  364880.5897  375727.2788  "
      ]
     },
     "execution_count": 136,
     "metadata": {},
     "output_type": "execute_result"
    }
   ],
   "source": [
    "df_pri = pd.read_csv('generation-primary.csv')\n",
    "df_pri = df_pri.rename(columns=lambda x: re.sub('\\ufeff', '', x))\n",
    "df_pri.head()"
   ]
  },
  {
   "cell_type": "code",
   "execution_count": 137,
   "metadata": {},
   "outputs": [
    {
     "data": {
      "text/html": [
       "<div>\n",
       "<style scoped>\n",
       "    .dataframe tbody tr th:only-of-type {\n",
       "        vertical-align: middle;\n",
       "    }\n",
       "\n",
       "    .dataframe tbody tr th {\n",
       "        vertical-align: top;\n",
       "    }\n",
       "\n",
       "    .dataframe thead th {\n",
       "        text-align: right;\n",
       "    }\n",
       "</style>\n",
       "<table border=\"1\" class=\"dataframe\">\n",
       "  <thead>\n",
       "    <tr style=\"text-align: right;\">\n",
       "      <th></th>\n",
       "      <th>Substation Name</th>\n",
       "      <th>Nominal Voltage (kV)</th>\n",
       "      <th>Supergrid Group</th>\n",
       "      <th>Generation Connected (MW)</th>\n",
       "      <th>Generation Contracted (MW)</th>\n",
       "      <th>Overall Category</th>\n",
       "      <th>District</th>\n",
       "      <th>X</th>\n",
       "      <th>Y</th>\n",
       "    </tr>\n",
       "  </thead>\n",
       "  <tbody>\n",
       "    <tr>\n",
       "      <th>0</th>\n",
       "      <td>CUERDLEY</td>\n",
       "      <td>275/132</td>\n",
       "      <td>CARRINGTON - FIDDLERS FERRY</td>\n",
       "      <td>319.86</td>\n",
       "      <td>201.82</td>\n",
       "      <td>RED</td>\n",
       "      <td>Merseyside</td>\n",
       "      <td>354276.1256</td>\n",
       "      <td>386149.3722</td>\n",
       "    </tr>\n",
       "    <tr>\n",
       "      <th>1</th>\n",
       "      <td>ST ASAPH</td>\n",
       "      <td>400/132</td>\n",
       "      <td>CONNAHS QUAY - PENTIR - ST ASAPH</td>\n",
       "      <td>399.18</td>\n",
       "      <td>470.42</td>\n",
       "      <td>RED</td>\n",
       "      <td>North Wales</td>\n",
       "      <td>302107.1498</td>\n",
       "      <td>374226.2423</td>\n",
       "    </tr>\n",
       "    <tr>\n",
       "      <th>2</th>\n",
       "      <td>TRAWSFYNYDD</td>\n",
       "      <td>275/132</td>\n",
       "      <td>TRAWSFYNYDD</td>\n",
       "      <td>114.92</td>\n",
       "      <td>5.11</td>\n",
       "      <td>AMBER</td>\n",
       "      <td>North Wales</td>\n",
       "      <td>268965.1300</td>\n",
       "      <td>338612.7790</td>\n",
       "    </tr>\n",
       "    <tr>\n",
       "      <th>3</th>\n",
       "      <td>BIRKENHEAD</td>\n",
       "      <td>275/132</td>\n",
       "      <td>BIRKENHEAD</td>\n",
       "      <td>147.16</td>\n",
       "      <td>279.62</td>\n",
       "      <td>RED</td>\n",
       "      <td>Wirral</td>\n",
       "      <td>329447.9271</td>\n",
       "      <td>386080.0892</td>\n",
       "    </tr>\n",
       "    <tr>\n",
       "      <th>4</th>\n",
       "      <td>FRODSHAM</td>\n",
       "      <td>275/132</td>\n",
       "      <td>FRODSHAM - INCE</td>\n",
       "      <td>305.61</td>\n",
       "      <td>1264.77</td>\n",
       "      <td>RED</td>\n",
       "      <td>Wirral</td>\n",
       "      <td>352273.0660</td>\n",
       "      <td>379450.7070</td>\n",
       "    </tr>\n",
       "  </tbody>\n",
       "</table>\n",
       "</div>"
      ],
      "text/plain": [
       "  Substation Name Nominal Voltage (kV)                   Supergrid Group  \\\n",
       "0        CUERDLEY              275/132       CARRINGTON - FIDDLERS FERRY   \n",
       "1        ST ASAPH              400/132  CONNAHS QUAY - PENTIR - ST ASAPH   \n",
       "2     TRAWSFYNYDD              275/132                       TRAWSFYNYDD   \n",
       "3      BIRKENHEAD              275/132                        BIRKENHEAD   \n",
       "4        FRODSHAM              275/132                   FRODSHAM - INCE   \n",
       "\n",
       "   Generation Connected (MW)  Generation Contracted (MW) Overall Category  \\\n",
       "0                     319.86                      201.82              RED   \n",
       "1                     399.18                      470.42              RED   \n",
       "2                     114.92                        5.11            AMBER   \n",
       "3                     147.16                      279.62              RED   \n",
       "4                     305.61                     1264.77              RED   \n",
       "\n",
       "      District            X            Y  \n",
       "0   Merseyside  354276.1256  386149.3722  \n",
       "1  North Wales  302107.1498  374226.2423  \n",
       "2  North Wales  268965.1300  338612.7790  \n",
       "3       Wirral  329447.9271  386080.0892  \n",
       "4       Wirral  352273.0660  379450.7070  "
      ]
     },
     "execution_count": 137,
     "metadata": {},
     "output_type": "execute_result"
    }
   ],
   "source": [
    "df_sup = pd.read_csv('generation-supergrid.csv')\n",
    "df_sup = df_sup.rename(columns=lambda x: re.sub('\\ufeff', '', x))\n",
    "df_sup.head()"
   ]
  },
  {
   "cell_type": "code",
   "execution_count": 138,
   "metadata": {},
   "outputs": [
    {
     "name": "stdout",
     "output_type": "stream",
     "text": [
      "<class 'pandas.core.frame.DataFrame'>\n",
      "Int64Index: 228 entries, 1 to 650\n",
      "Data columns (total 20 columns):\n",
      " #   Column                      Non-Null Count  Dtype  \n",
      "---  ------                      --------------  -----  \n",
      " 0   Substation Name             228 non-null    object \n",
      " 1   Nominal Voltage (kV)        228 non-null    object \n",
      " 2   Primary Group               228 non-null    object \n",
      " 3   Grid Group                  228 non-null    object \n",
      " 4   Firm Capacity (MVA)         228 non-null    float64\n",
      " 5   Maximum Load (MVA)          228 non-null    float64\n",
      " 6   Minimum Load (MVA)          228 non-null    float64\n",
      " 7   Generation Connected (MW)   228 non-null    float64\n",
      " 8   Generation Contracted (MW)  228 non-null    float64\n",
      " 9   33kV Overall Category       228 non-null    object \n",
      " 10  Overall Category            228 non-null    object \n",
      " 11  33kV Generation Capacity    228 non-null    object \n",
      " 12  33kV Wider Constraints      228 non-null    object \n",
      " 13  HV Reverse Power Flow       228 non-null    object \n",
      " 14  HV Generation Capacity      228 non-null    object \n",
      " 15  HV Fault Level              228 non-null    object \n",
      " 16  HV Wider Constraints        228 non-null    object \n",
      " 17  District                    228 non-null    object \n",
      " 18  X                           228 non-null    float64\n",
      " 19  Y                           228 non-null    float64\n",
      "dtypes: float64(7), object(13)\n",
      "memory usage: 37.4+ KB\n"
     ]
    }
   ],
   "source": [
    "df_pri_m = df_pri[df_pri['District'] == 'Merseyside']\n",
    "df_pri_m.info()"
   ]
  },
  {
   "cell_type": "code",
   "execution_count": 139,
   "metadata": {},
   "outputs": [
    {
     "name": "stdout",
     "output_type": "stream",
     "text": [
      "<class 'pandas.core.frame.DataFrame'>\n",
      "Int64Index: 39 entries, 0 to 102\n",
      "Data columns (total 17 columns):\n",
      " #   Column                      Non-Null Count  Dtype  \n",
      "---  ------                      --------------  -----  \n",
      " 0   Substation Name             39 non-null     object \n",
      " 1   Nominal Voltage (kV)        39 non-null     object \n",
      " 2   Grid Group                  39 non-null     object \n",
      " 3   Supergrid Group             39 non-null     object \n",
      " 4   Firm Capacity (MVA)         39 non-null     float64\n",
      " 5   Maximum Load (MVA)          39 non-null     float64\n",
      " 6   Minimum Load (MVA)          39 non-null     float64\n",
      " 7   Generation Connected (MW)   39 non-null     float64\n",
      " 8   Generation Contracted (MW)  39 non-null     float64\n",
      " 9   Overall Category            39 non-null     object \n",
      " 10  132kV Generation Capacity   39 non-null     object \n",
      " 11  33kV Fault Level            39 non-null     object \n",
      " 12  Wider Constraint Category   39 non-null     object \n",
      " 13  Wider Constraint            0 non-null      float64\n",
      " 14  District                    39 non-null     object \n",
      " 15  X                           39 non-null     float64\n",
      " 16  Y                           39 non-null     float64\n",
      "dtypes: float64(8), object(9)\n",
      "memory usage: 5.5+ KB\n"
     ]
    }
   ],
   "source": [
    "df_grid_m = df_grid[df_grid['District'] == 'Merseyside']\n",
    "df_grid_m.info()"
   ]
  },
  {
   "cell_type": "code",
   "execution_count": 140,
   "metadata": {},
   "outputs": [
    {
     "name": "stdout",
     "output_type": "stream",
     "text": [
      "<class 'pandas.core.frame.DataFrame'>\n",
      "Int64Index: 4 entries, 0 to 13\n",
      "Data columns (total 9 columns):\n",
      " #   Column                      Non-Null Count  Dtype  \n",
      "---  ------                      --------------  -----  \n",
      " 0   Substation Name             4 non-null      object \n",
      " 1   Nominal Voltage (kV)        4 non-null      object \n",
      " 2   Supergrid Group             4 non-null      object \n",
      " 3   Generation Connected (MW)   4 non-null      float64\n",
      " 4   Generation Contracted (MW)  4 non-null      float64\n",
      " 5   Overall Category            4 non-null      object \n",
      " 6   District                    4 non-null      object \n",
      " 7   X                           4 non-null      float64\n",
      " 8   Y                           4 non-null      float64\n",
      "dtypes: float64(4), object(5)\n",
      "memory usage: 320.0+ bytes\n"
     ]
    }
   ],
   "source": [
    "df_sup_m = df_sup[df_sup['District'] == 'Merseyside']\n",
    "df_sup_m.info()"
   ]
  },
  {
   "cell_type": "code",
   "execution_count": 141,
   "metadata": {},
   "outputs": [
    {
     "data": {
      "text/plain": [
       "Firm Capacity (MVA)\n",
       "7.50      1\n",
       "8.70     12\n",
       "9.10     10\n",
       "10.00     6\n",
       "17.40     6\n",
       "17.50    21\n",
       "18.20     9\n",
       "18.53     3\n",
       "20.00    35\n",
       "28.00     4\n",
       "30.00    72\n",
       "37.50    49\n",
       "Name: Substation Name, dtype: int64"
      ]
     },
     "execution_count": 141,
     "metadata": {},
     "output_type": "execute_result"
    }
   ],
   "source": [
    "df_pri_m.groupby('Firm Capacity (MVA)')['Substation Name'].count()"
   ]
  },
  {
   "cell_type": "code",
   "execution_count": 142,
   "metadata": {},
   "outputs": [
    {
     "data": {
      "text/plain": [
       "Nominal Voltage (kV)\n",
       "33/11     170\n",
       "33/6.3     39\n",
       "33/6.6     19\n",
       "Name: Substation Name, dtype: int64"
      ]
     },
     "execution_count": 142,
     "metadata": {},
     "output_type": "execute_result"
    }
   ],
   "source": [
    "df_pri_m.groupby('Nominal Voltage (kV)')['Substation Name'].count()"
   ]
  },
  {
   "cell_type": "code",
   "execution_count": 143,
   "metadata": {},
   "outputs": [
    {
     "data": {
      "text/html": [
       "<div>\n",
       "<style scoped>\n",
       "    .dataframe tbody tr th:only-of-type {\n",
       "        vertical-align: middle;\n",
       "    }\n",
       "\n",
       "    .dataframe tbody tr th {\n",
       "        vertical-align: top;\n",
       "    }\n",
       "\n",
       "    .dataframe thead tr th {\n",
       "        text-align: left;\n",
       "    }\n",
       "\n",
       "    .dataframe thead tr:last-of-type th {\n",
       "        text-align: right;\n",
       "    }\n",
       "</style>\n",
       "<table border=\"1\" class=\"dataframe\">\n",
       "  <thead>\n",
       "    <tr>\n",
       "      <th></th>\n",
       "      <th colspan=\"5\" halign=\"left\">Maximum Load (MVA)</th>\n",
       "      <th colspan=\"5\" halign=\"left\">Generation Connected (MW)</th>\n",
       "      <th colspan=\"5\" halign=\"left\">Generation Contracted (MW)</th>\n",
       "    </tr>\n",
       "    <tr>\n",
       "      <th></th>\n",
       "      <th>count</th>\n",
       "      <th>sum</th>\n",
       "      <th>mean</th>\n",
       "      <th>max</th>\n",
       "      <th>min</th>\n",
       "      <th>count</th>\n",
       "      <th>sum</th>\n",
       "      <th>mean</th>\n",
       "      <th>max</th>\n",
       "      <th>min</th>\n",
       "      <th>count</th>\n",
       "      <th>sum</th>\n",
       "      <th>mean</th>\n",
       "      <th>max</th>\n",
       "      <th>min</th>\n",
       "    </tr>\n",
       "    <tr>\n",
       "      <th>Overall Category</th>\n",
       "      <th></th>\n",
       "      <th></th>\n",
       "      <th></th>\n",
       "      <th></th>\n",
       "      <th></th>\n",
       "      <th></th>\n",
       "      <th></th>\n",
       "      <th></th>\n",
       "      <th></th>\n",
       "      <th></th>\n",
       "      <th></th>\n",
       "      <th></th>\n",
       "      <th></th>\n",
       "      <th></th>\n",
       "      <th></th>\n",
       "    </tr>\n",
       "  </thead>\n",
       "  <tbody>\n",
       "    <tr>\n",
       "      <th>AMBER</th>\n",
       "      <td>29</td>\n",
       "      <td>260.65</td>\n",
       "      <td>8.987931</td>\n",
       "      <td>16.20</td>\n",
       "      <td>4.26</td>\n",
       "      <td>29</td>\n",
       "      <td>0.00</td>\n",
       "      <td>0.000000</td>\n",
       "      <td>0.0</td>\n",
       "      <td>0.0</td>\n",
       "      <td>29</td>\n",
       "      <td>0.00</td>\n",
       "      <td>0.000000</td>\n",
       "      <td>0.0</td>\n",
       "      <td>0.0</td>\n",
       "    </tr>\n",
       "    <tr>\n",
       "      <th>RED</th>\n",
       "      <td>199</td>\n",
       "      <td>2763.43</td>\n",
       "      <td>13.886583</td>\n",
       "      <td>24.89</td>\n",
       "      <td>0.43</td>\n",
       "      <td>199</td>\n",
       "      <td>164.69</td>\n",
       "      <td>0.827588</td>\n",
       "      <td>4.6</td>\n",
       "      <td>0.0</td>\n",
       "      <td>199</td>\n",
       "      <td>13.84</td>\n",
       "      <td>0.069548</td>\n",
       "      <td>3.0</td>\n",
       "      <td>0.0</td>\n",
       "    </tr>\n",
       "  </tbody>\n",
       "</table>\n",
       "</div>"
      ],
      "text/plain": [
       "                 Maximum Load (MVA)                                   \\\n",
       "                              count      sum       mean    max   min   \n",
       "Overall Category                                                       \n",
       "AMBER                            29   260.65   8.987931  16.20  4.26   \n",
       "RED                             199  2763.43  13.886583  24.89  0.43   \n",
       "\n",
       "                 Generation Connected (MW)                              \\\n",
       "                                     count     sum      mean  max  min   \n",
       "Overall Category                                                         \n",
       "AMBER                                   29    0.00  0.000000  0.0  0.0   \n",
       "RED                                    199  164.69  0.827588  4.6  0.0   \n",
       "\n",
       "                 Generation Contracted (MW)                             \n",
       "                                      count    sum      mean  max  min  \n",
       "Overall Category                                                        \n",
       "AMBER                                    29   0.00  0.000000  0.0  0.0  \n",
       "RED                                     199  13.84  0.069548  3.0  0.0  "
      ]
     },
     "execution_count": 143,
     "metadata": {},
     "output_type": "execute_result"
    }
   ],
   "source": [
    "df_pri_m.groupby('Overall Category')[['Maximum Load (MVA)', 'Generation Connected (MW)', 'Generation Contracted (MW)']].agg(['count', 'sum', 'mean', 'max', 'min'])"
   ]
  },
  {
   "cell_type": "code",
   "execution_count": 144,
   "metadata": {},
   "outputs": [
    {
     "data": {
      "text/html": [
       "<div>\n",
       "<style scoped>\n",
       "    .dataframe tbody tr th:only-of-type {\n",
       "        vertical-align: middle;\n",
       "    }\n",
       "\n",
       "    .dataframe tbody tr th {\n",
       "        vertical-align: top;\n",
       "    }\n",
       "\n",
       "    .dataframe thead tr th {\n",
       "        text-align: left;\n",
       "    }\n",
       "\n",
       "    .dataframe thead tr:last-of-type th {\n",
       "        text-align: right;\n",
       "    }\n",
       "</style>\n",
       "<table border=\"1\" class=\"dataframe\">\n",
       "  <thead>\n",
       "    <tr>\n",
       "      <th></th>\n",
       "      <th colspan=\"3\" halign=\"left\">Maximum Load (MVA)</th>\n",
       "      <th colspan=\"3\" halign=\"left\">Generation Connected (MW)</th>\n",
       "      <th colspan=\"3\" halign=\"left\">Generation Contracted (MW)</th>\n",
       "    </tr>\n",
       "    <tr>\n",
       "      <th></th>\n",
       "      <th>count</th>\n",
       "      <th>sum</th>\n",
       "      <th>mean</th>\n",
       "      <th>count</th>\n",
       "      <th>sum</th>\n",
       "      <th>mean</th>\n",
       "      <th>count</th>\n",
       "      <th>sum</th>\n",
       "      <th>mean</th>\n",
       "    </tr>\n",
       "    <tr>\n",
       "      <th>Overall Category</th>\n",
       "      <th></th>\n",
       "      <th></th>\n",
       "      <th></th>\n",
       "      <th></th>\n",
       "      <th></th>\n",
       "      <th></th>\n",
       "      <th></th>\n",
       "      <th></th>\n",
       "      <th></th>\n",
       "    </tr>\n",
       "  </thead>\n",
       "  <tbody>\n",
       "    <tr>\n",
       "      <th>AMBER</th>\n",
       "      <td>11</td>\n",
       "      <td>895.1</td>\n",
       "      <td>81.372727</td>\n",
       "      <td>11</td>\n",
       "      <td>147.7</td>\n",
       "      <td>13.427273</td>\n",
       "      <td>11</td>\n",
       "      <td>119.6</td>\n",
       "      <td>10.872727</td>\n",
       "    </tr>\n",
       "    <tr>\n",
       "      <th>RED</th>\n",
       "      <td>28</td>\n",
       "      <td>1619.3</td>\n",
       "      <td>57.832143</td>\n",
       "      <td>28</td>\n",
       "      <td>551.4</td>\n",
       "      <td>19.692857</td>\n",
       "      <td>28</td>\n",
       "      <td>231.4</td>\n",
       "      <td>8.264286</td>\n",
       "    </tr>\n",
       "  </tbody>\n",
       "</table>\n",
       "</div>"
      ],
      "text/plain": [
       "                 Maximum Load (MVA)                     \\\n",
       "                              count     sum       mean   \n",
       "Overall Category                                         \n",
       "AMBER                            11   895.1  81.372727   \n",
       "RED                              28  1619.3  57.832143   \n",
       "\n",
       "                 Generation Connected (MW)                    \\\n",
       "                                     count    sum       mean   \n",
       "Overall Category                                               \n",
       "AMBER                                   11  147.7  13.427273   \n",
       "RED                                     28  551.4  19.692857   \n",
       "\n",
       "                 Generation Contracted (MW)                    \n",
       "                                      count    sum       mean  \n",
       "Overall Category                                               \n",
       "AMBER                                    11  119.6  10.872727  \n",
       "RED                                      28  231.4   8.264286  "
      ]
     },
     "execution_count": 144,
     "metadata": {},
     "output_type": "execute_result"
    }
   ],
   "source": [
    "df_grid_m.groupby('Overall Category')[['Maximum Load (MVA)', 'Generation Connected (MW)', 'Generation Contracted (MW)']].agg(['count', 'sum', 'mean'])"
   ]
  },
  {
   "cell_type": "code",
   "execution_count": 145,
   "metadata": {},
   "outputs": [
    {
     "data": {
      "text/html": [
       "<div>\n",
       "<style scoped>\n",
       "    .dataframe tbody tr th:only-of-type {\n",
       "        vertical-align: middle;\n",
       "    }\n",
       "\n",
       "    .dataframe tbody tr th {\n",
       "        vertical-align: top;\n",
       "    }\n",
       "\n",
       "    .dataframe thead tr th {\n",
       "        text-align: left;\n",
       "    }\n",
       "\n",
       "    .dataframe thead tr:last-of-type th {\n",
       "        text-align: right;\n",
       "    }\n",
       "</style>\n",
       "<table border=\"1\" class=\"dataframe\">\n",
       "  <thead>\n",
       "    <tr>\n",
       "      <th></th>\n",
       "      <th colspan=\"2\" halign=\"left\">Generation Connected (MW)</th>\n",
       "      <th colspan=\"2\" halign=\"left\">Generation Contracted (MW)</th>\n",
       "    </tr>\n",
       "    <tr>\n",
       "      <th></th>\n",
       "      <th>count</th>\n",
       "      <th>sum</th>\n",
       "      <th>count</th>\n",
       "      <th>sum</th>\n",
       "    </tr>\n",
       "    <tr>\n",
       "      <th>Overall Category</th>\n",
       "      <th></th>\n",
       "      <th></th>\n",
       "      <th></th>\n",
       "      <th></th>\n",
       "    </tr>\n",
       "  </thead>\n",
       "  <tbody>\n",
       "    <tr>\n",
       "      <th>AMBER</th>\n",
       "      <td>1</td>\n",
       "      <td>54.16</td>\n",
       "      <td>1</td>\n",
       "      <td>49.60</td>\n",
       "    </tr>\n",
       "    <tr>\n",
       "      <th>RED</th>\n",
       "      <td>3</td>\n",
       "      <td>604.56</td>\n",
       "      <td>3</td>\n",
       "      <td>496.57</td>\n",
       "    </tr>\n",
       "  </tbody>\n",
       "</table>\n",
       "</div>"
      ],
      "text/plain": [
       "                 Generation Connected (MW)         Generation Contracted (MW)  \\\n",
       "                                     count     sum                      count   \n",
       "Overall Category                                                                \n",
       "AMBER                                    1   54.16                          1   \n",
       "RED                                      3  604.56                          3   \n",
       "\n",
       "                          \n",
       "                     sum  \n",
       "Overall Category          \n",
       "AMBER              49.60  \n",
       "RED               496.57  "
      ]
     },
     "execution_count": 145,
     "metadata": {},
     "output_type": "execute_result"
    }
   ],
   "source": [
    "df_sup_m.groupby('Overall Category')[['Generation Connected (MW)', 'Generation Contracted (MW)']].agg(['count', 'sum'])"
   ]
  },
  {
   "cell_type": "code",
   "execution_count": 146,
   "metadata": {},
   "outputs": [
    {
     "data": {
      "text/html": [
       "<div>\n",
       "<style scoped>\n",
       "    .dataframe tbody tr th:only-of-type {\n",
       "        vertical-align: middle;\n",
       "    }\n",
       "\n",
       "    .dataframe tbody tr th {\n",
       "        vertical-align: top;\n",
       "    }\n",
       "\n",
       "    .dataframe thead th {\n",
       "        text-align: right;\n",
       "    }\n",
       "</style>\n",
       "<table border=\"1\" class=\"dataframe\">\n",
       "  <thead>\n",
       "    <tr style=\"text-align: right;\">\n",
       "      <th></th>\n",
       "      <th>Substation Name</th>\n",
       "      <th>Grid Group</th>\n",
       "      <th>Firm Capacity (MVA)</th>\n",
       "      <th>Maximum Load (MVA)</th>\n",
       "      <th>Overall Category</th>\n",
       "      <th>X</th>\n",
       "      <th>Y</th>\n",
       "    </tr>\n",
       "  </thead>\n",
       "  <tbody>\n",
       "    <tr>\n",
       "      <th>0</th>\n",
       "      <td>DICKINSONS</td>\n",
       "      <td>GILLMOSS GT1 / KIRKBY GT2 / SIMONSWOOD GT1</td>\n",
       "      <td>30.0</td>\n",
       "      <td>14.71</td>\n",
       "      <td>RED</td>\n",
       "      <td>342713.8240</td>\n",
       "      <td>398255.232</td>\n",
       "    </tr>\n",
       "    <tr>\n",
       "      <th>1</th>\n",
       "      <td>WAVERTREE</td>\n",
       "      <td>GARSTON GT2 / SPEKE GT3 / WAVERTREE GT1A</td>\n",
       "      <td>37.5</td>\n",
       "      <td>18.97</td>\n",
       "      <td>RED</td>\n",
       "      <td>339018.8312</td>\n",
       "      <td>388483.665</td>\n",
       "    </tr>\n",
       "    <tr>\n",
       "      <th>2</th>\n",
       "      <td>AINTREE</td>\n",
       "      <td>AINTREE GT2 / FAZAKERLEY GT1 / GILLMOSS GT2</td>\n",
       "      <td>20.0</td>\n",
       "      <td>11.67</td>\n",
       "      <td>AMBER</td>\n",
       "      <td>336740.4480</td>\n",
       "      <td>398306.688</td>\n",
       "    </tr>\n",
       "    <tr>\n",
       "      <th>3</th>\n",
       "      <td>WAVERTREE VALE</td>\n",
       "      <td>LISTER DV B GT3 / SPARLING ST GT1 / WAVERTREE GT2</td>\n",
       "      <td>17.5</td>\n",
       "      <td>10.12</td>\n",
       "      <td>RED</td>\n",
       "      <td>337981.9520</td>\n",
       "      <td>389512.576</td>\n",
       "    </tr>\n",
       "    <tr>\n",
       "      <th>4</th>\n",
       "      <td>LARK LANE</td>\n",
       "      <td>LISTER DV B GT3 / SPARLING ST GT1 / WAVERTREE GT2</td>\n",
       "      <td>30.0</td>\n",
       "      <td>20.86</td>\n",
       "      <td>RED</td>\n",
       "      <td>337278.9120</td>\n",
       "      <td>387620.384</td>\n",
       "    </tr>\n",
       "  </tbody>\n",
       "</table>\n",
       "</div>"
      ],
      "text/plain": [
       "  Substation Name                                         Grid Group  \\\n",
       "0      DICKINSONS         GILLMOSS GT1 / KIRKBY GT2 / SIMONSWOOD GT1   \n",
       "1       WAVERTREE           GARSTON GT2 / SPEKE GT3 / WAVERTREE GT1A   \n",
       "2         AINTREE        AINTREE GT2 / FAZAKERLEY GT1 / GILLMOSS GT2   \n",
       "3  WAVERTREE VALE  LISTER DV B GT3 / SPARLING ST GT1 / WAVERTREE GT2   \n",
       "4       LARK LANE  LISTER DV B GT3 / SPARLING ST GT1 / WAVERTREE GT2   \n",
       "\n",
       "   Firm Capacity (MVA)  Maximum Load (MVA) Overall Category            X  \\\n",
       "0                 30.0               14.71              RED  342713.8240   \n",
       "1                 37.5               18.97              RED  339018.8312   \n",
       "2                 20.0               11.67            AMBER  336740.4480   \n",
       "3                 17.5               10.12              RED  337981.9520   \n",
       "4                 30.0               20.86              RED  337278.9120   \n",
       "\n",
       "            Y  \n",
       "0  398255.232  \n",
       "1  388483.665  \n",
       "2  398306.688  \n",
       "3  389512.576  \n",
       "4  387620.384  "
      ]
     },
     "execution_count": 146,
     "metadata": {},
     "output_type": "execute_result"
    }
   ],
   "source": [
    "df_sub = pd.concat([df_pri_m[['Substation Name', 'Grid Group', 'Firm Capacity (MVA)', 'Maximum Load (MVA)', 'Overall Category', 'X', 'Y']], df_grid_m[['Substation Name', 'Grid Group', 'Firm Capacity (MVA)', 'Maximum Load (MVA)', 'Overall Category', 'X', 'Y']]], ignore_index=True)\n",
    "df_sub.head()"
   ]
  },
  {
   "cell_type": "markdown",
   "metadata": {},
   "source": [
    "### convert bng to lat long"
   ]
  },
  {
   "cell_type": "code",
   "execution_count": 147,
   "metadata": {},
   "outputs": [],
   "source": [
    "import pyproj\n",
    "\n",
    "transformer = pyproj.Transformer.from_crs(\"EPSG:27700\", \"EPSG:4326\")\n",
    "\n",
    "# df_pri_m['long'] = df_pri_m['X'].apply(lambda x: transformer.transform(x, 0)[1]) - 0.07\n",
    "# df_pri_m['lat'] = df_pri_m['Y'].apply(lambda x:  transformer.transform(0, x)[0]) + 0.15\n",
    "\n",
    "# df_grid_m['long'] = df_grid_m['X'].apply(lambda x: transformer.transform(x, 0)[1]) - 0.07\n",
    "# df_grid_m['lat'] = df_grid_m['Y'].apply(lambda x:  transformer.transform(0, x)[0]) + 0.15\n",
    "\n",
    "# df_sup_m['long'] = df_sup_m['X'].apply(lambda x: transformer.transform(x, 0)[1]) - 0.07\n",
    "# df_sup_m['lat'] = df_sup_m['Y'].apply(lambda x:  transformer.transform(0, x)[0]) + 0.15\n",
    "\n",
    "df_sub['long'] = df_sub['X'].apply(lambda x: transformer.transform(x, 0)[1]) - 0.07\n",
    "df_sub['lat'] = df_sub['Y'].apply(lambda x:  transformer.transform(0, x)[0]) + 0.15"
   ]
  },
  {
   "cell_type": "markdown",
   "metadata": {},
   "source": [
    "### plot map"
   ]
  },
  {
   "cell_type": "code",
   "execution_count": 148,
   "metadata": {},
   "outputs": [
    {
     "data": {
      "application/vnd.plotly.v1+json": {
       "config": {
        "plotlyServerURL": "https://plot.ly"
       },
       "data": [
        {
         "coloraxis": "coloraxis",
         "hovertemplate": "<b>%{hovertext}</b><br><br>Overall Category=%{z}<br>lat=%{lat}<br>long=%{lon}<extra></extra>",
         "hovertext": [
          "DICKINSONS",
          "WAVERTREE",
          "AINTREE",
          "WAVERTREE VALE",
          "LARK LANE",
          "BLUEBELL LANE",
          "ECCLESTON",
          "LUCAS FAZAKERLEY",
          "WEST DERBY",
          "SCARISBRICK AVENUE",
          "EVERTON ROAD",
          "TECHNOLOGY CAMPUS",
          "CHILDWALL FIVEWAYS",
          "MIDDLEMASS HEY",
          "N C B SUTTON MANOR",
          "MEDEVA",
          "WALTON",
          "MERSEY BRIDGE",
          "EDGE HILL",
          "MILL LN WAVERTREE",
          "HARRINGTON STREET A",
          "WILSON ROAD",
          "KNOWSLEY",
          "MULLARDS BALMORAL DR",
          "OTIS ELEVATOR",
          "ROYAL INSURANCE (NEW QUAY)",
          "KODAK",
          "WANGO LANE",
          "ECP WEST-BANKS RD",
          "ATLANTIC COMPLEX",
          "NETHERTON",
          "DOVER ROAD",
          "GRANTHAM CLOSE",
          "BEAUMONT STREET",
          "DINGLE VALE",
          "CARR LANE EAST",
          "INLAND REVENUE",
          "BICC HUYTON QUARRY",
          "BLUNDELL STREET",
          "BLUNDELLSANDS NORTH",
          "WATERLOO",
          "LEYFIELD ROAD",
          "BUCKINGHAM STREET",
          "FRESHFIELD",
          "GRADWELL STREET",
          "CROWN COURTS",
          "CARLTON STREET",
          "WALTON",
          "DINGLE",
          "DITTON",
          "HOUGH GREEN",
          "RTZ",
          "LISTER DRIVE T3",
          "IVY STREET",
          "PALCO",
          "TOWER HILL",
          "PILKINGTON HO",
          "ACORNFIELD ROAD",
          "MATHER AVENUE",
          "HAREFIELD ROAD",
          "GIRO BOOTLE",
          "ARUNDEL",
          "BOLTON STREET",
          "WASHINGTON STREET",
          "BOOTLE",
          "BRITISH OXYGEN",
          "WINDLEHURST",
          "CROXTETH",
          "BROOK STREET",
          "KINGSWAY TUNNEL",
          "SOUTHPORT RD",
          "HILLS MOSS",
          "CLUBMOOR",
          "ROBBINS BRIDGE",
          "PLESSEY EDGE LANE",
          "STONEYCROFT",
          "LEEWARD DRIVE",
          "FAZAKERLEY HOSPITAL",
          "HARRINGTON STREET A",
          "LIME STREET",
          "OLD HAYMARKET",
          "OCEAN PLAZA",
          "YORK ROAD",
          "AINSDALE",
          "OLD ROAN",
          "YEWTREE ROAD",
          "DELTA METALS",
          "ATHOL STREET",
          "REGENT ROAD",
          "WHISTON",
          "WATERLOO",
          "GREEK STREET",
          "BURLINGTON AVENUE",
          "OLDHAM PLACE",
          "CHALON WAY",
          "LISTER DRIVE 6kV T1",
          "PARADISE STREET",
          "LIME STREET",
          "HOLT LANE WARR RD",
          "WOOLTON",
          "MARLED HEY",
          "LORD STREET",
          "LUGSDALE",
          "USAC",
          "NEVILL STREET",
          "SOMERFIELD DISTRIBUTION",
          "ALLERTON",
          "WEAVER IND EST",
          "MIDLAND BANK",
          "HORNSBRIDGE",
          "BROOK BRIDGE",
          "BEECH STREET",
          "KERSHAW AVENUE",
          "OLDHAM PLACE",
          "BRITISH SIDAC",
          "LYNDENE ROAD",
          "GEC ST HELENS",
          "CLUBMOOR",
          "SPEKE SKY PARK",
          "GARDNERS ROW",
          "RAINHILL LOCAL",
          "HUNTS CROSS",
          "MARKET STREET",
          "SOUTHDENE",
          "AIRPORT",
          "ALBERT DOCK",
          "GARSTON",
          "ALMATEX",
          "WATERY LANE",
          "LUGSDALE",
          "GROVE PARK",
          "CHISENHALE STREET",
          "BIBBYS",
          "TARBOCK",
          "BIXTETH STREET",
          "KELLOGGS",
          "SHERDLEY ROAD",
          "HOUGHTONS LANE",
          "KIRKDALE",
          "DESOTO ROAD",
          "GRANBY",
          "HARRINGTON STREET A",
          "HASKAYNE",
          "WHISTON HOSPITAL",
          "HUYTON HEY ROAD",
          "SOUTHPORT",
          "KINGS DOCK",
          "ALMONDS TURN",
          "APPLETON",
          "SANDHILLS LANE",
          "BEMROSE",
          "NORRIS GREEN",
          "LITTLEWOODS",
          "ST JAMES",
          "CROSBY",
          "HPO COPPERAS HILL",
          "TATTON ROAD",
          "KNOTTY ASH",
          "MARSH BROWS",
          "CABLE STREET",
          "CARBORUNDUM",
          "WINDLEHURST",
          "CLOCKFACE",
          "SUBURBAN ROAD",
          "CONIX",
          "DAILY POST AND ECHO",
          "EVERTON BROW",
          "HIGHFIELD STREET A",
          "WEST VALE",
          "SOUTHPORT",
          "STONEBRIDGE LANE",
          "ST IVEL FOODS",
          "RAVENHEAD RETAIL PARK",
          "HAMMOND ROAD",
          "IVY AVENUE",
          "MOSSLEY HILL",
          "WAPPING",
          "BANASTRE ROAD",
          "BOOTLE",
          "PACIFIC ROAD",
          "ORRELL MOUNT",
          "ST HELENS LINKWAY",
          "WATERY LANE",
          "BROADGREEN",
          "SUBURBAN ROAD",
          "CABLE STREET",
          "GRADWELL STREET",
          "GAVIN ROAD",
          "LIVERPOOL UNIVERSITY",
          "EDGE LN TAPLEY",
          "SPEKE HALL ROAD",
          "JACOBS",
          "PRESCOT",
          "KENTON ROAD",
          "KELCO",
          "KIRKBY CENTRAL",
          "NORTHWOOD",
          "PILK SULLIVAN",
          "ORB CLOSE",
          "AIGBURTH VALE",
          "PINFOLD LANE",
          "ALDERWOOD AVE",
          "MDHB BRUNSWICK DOCK",
          "BEDBURN DRIVE",
          "LISTER DRIVE 6kV T2",
          "ROPEWALKS",
          "BLUNDELLSANDS SOUTH",
          "EAST PRESCOT ROAD",
          "NWWA SANDON DOCK",
          "RAINFORD",
          "CHALON WAY",
          "WOODVILLE STREET",
          "CHILDWALL",
          "NAYLORS ROAD",
          "DUNLOPS WALTON",
          "DELAMORE STREET",
          "PITT STREET",
          "ST JAMES",
          "DODDS LANE",
          "HOLBORN HILL",
          "MAGHULL",
          "ESTUARY COMMERCE PK",
          "SHEIL PARK",
          "SEEDS LANE",
          "HIGHFIELD STREET A",
          "WOODEND AVENUE",
          "NEWS INTERNATIONAL",
          "MARSHSIDE",
          "AINTREE",
          "FORMBY",
          "LISTER DRIVE",
          "FORMBY",
          "GATEACRE",
          "PRESCOT",
          "HALEWOOD",
          "PRESCOT",
          "WIDNES",
          "LITHERLAND",
          "GILLMOSS",
          "LITHERLAND",
          "GARSTON",
          "HUYTON",
          "SIMONSWOOD",
          "ST HELENS",
          "WINDLE",
          "FAZAKERLEY",
          "BOLD",
          "PARADISE STREET",
          "SPEKE",
          "KIRKBY",
          "SPEKE",
          "RAVENHEAD",
          "BOOTLE",
          "BURLINGTON STREET",
          "LISTER DRIVE",
          "LISTER DRIVE",
          "BOLD",
          "BOOTLE",
          "SOUTHPORT",
          "RAVENHEAD",
          "AINTREE",
          "ST HELENS",
          "BURLINGTON STREET",
          "GILLMOSS",
          "KIRKBY",
          "SPARLING STREET",
          "WAVERTREE"
         ],
         "lat": [
          53.47946706893251,
          53.392115438280506,
          53.479927044410346,
          53.401313405426556,
          53.38439809548913,
          53.42225664562258,
          53.435290408038696,
          53.45648791762959,
          53.431167710138794,
          53.469869413578714,
          53.42008241690232,
          53.4569111160361,
          53.39994630528609,
          53.38962480224871,
          53.41160968352447,
          53.351617657840244,
          53.44966887520245,
          53.36009680289808,
          53.407106712281816,
          53.401843481914526,
          53.40892814792865,
          53.40749152098489,
          53.45360503098669,
          53.6678314482582,
          53.46993736072292,
          53.41090625518935,
          53.485769697686905,
          53.47903913146635,
          53.34772455441743,
          53.47910749848658,
          53.49466251689798,
          53.62640831447822,
          53.621474422898245,
          53.40003927613069,
          53.38055758427388,
          53.449152540322544,
          53.44962196167789,
          53.410037768348694,
          53.400430996228586,
          53.49631933279402,
          53.47848933468698,
          53.42950941779824,
          53.42600502074771,
          53.56986881619634,
          53.40588051069518,
          53.4074408877939,
          53.45255403727681,
          53.44966887520245,
          53.38714712592654,
          53.372831567836585,
          53.38066435859472,
          53.36270303304967,
          53.42194946927243,
          53.306907822136615,
          53.46417701634223,
          53.493371561294275,
          53.44610490176761,
          53.48158101021283,
          53.383301031977716,
          53.34441230265524,
          53.47437929930791,
          53.39133347026686,
          53.40902024234922,
          53.455423498396534,
          53.45891837489128,
          53.4702658240376,
          53.46531419713009,
          53.43711661328251,
          53.41301897109336,
          53.418409840441754,
          53.57057285993626,
          53.43256425627105,
          53.43650673412069,
          53.53318632886943,
          53.41243812101662,
          53.42464609757835,
          53.351461079192795,
          53.46980972092478,
          53.40892814792865,
          53.41001202268644,
          53.41240553669614,
          53.65540627877177,
          53.63645932533046,
          53.60523474087081,
          53.487669334564586,
          53.379055234022005,
          53.45633973997444,
          53.427187499034396,
          53.43840931629037,
          53.41285302799098,
          53.47848933468698,
          53.4109200577197,
          53.558837814537824,
          53.40607239666528,
          53.45172048280775,
          53.42194946927243,
          53.40488998013892,
          53.41001202268644,
          53.42222716341715,
          53.37637029994296,
          53.43845909063401,
          53.652482985835015,
          53.36739828253958,
          53.36828625565889,
          53.65177760110811,
          53.42446503875505,
          53.37450038817994,
          53.34896282813954,
          53.474379442335426,
          53.386406278216,
          53.42910378392303,
          53.41290926610343,
          53.48791652940732,
          53.40607239666528,
          53.43962198455728,
          53.39627808403586,
          53.41751429670323,
          53.43650673412069,
          53.343552373357596,
          53.41799116200887,
          53.413835536496016,
          53.369333604011544,
          53.64748767031024,
          53.47326053773067,
          53.341757563158765,
          53.40244736275407,
          53.35615190812053,
          53.447552652374156,
          53.44256203763328,
          53.36739828253958,
          53.39266939433678,
          53.41913226281736,
          53.44503244135316,
          53.406580695506705,
          53.41246815759146,
          53.4634694202197,
          53.443710081279484,
          53.46164769622954,
          53.43211795320757,
          53.3549789657585,
          53.397808538033125,
          53.40892814792865,
          53.56223678289227,
          53.421899453213705,
          53.411929787686816,
          53.644891858592224,
          53.399231788464476,
          53.49383637905234,
          53.37274631079631,
          53.43340927784029,
          53.45874548028062,
          53.44535196883245,
          53.4139774234664,
          53.39653155512801,
          53.49791135669885,
          53.409030826681516,
          53.46686519312143,
          53.42076653332622,
          53.55747166465291,
          53.4077651761994,
          53.489342683932755,
          53.46531419713009,
          53.41948249183195,
          53.429881868586556,
          53.35236734892916,
          53.41195410301462,
          53.418416822139754,
          53.41312667364045,
          53.48128065331388,
          53.644891858592224,
          53.461320238266524,
          53.46902005176156,
          53.446929331185174,
          53.490083096821465,
          53.363920138751375,
          53.37759236897662,
          53.39824204177805,
          53.63844784083177,
          53.45891837489128,
          53.454308160443745,
          53.468532612784536,
          53.44574077071152,
          53.44256203763328,
          53.407304149566485,
          53.429881868586556,
          53.4077651761994,
          53.40588051069518,
          53.36502934240193,
          53.408106270770084,
          53.41208912459497,
          53.35829442449201,
          53.461543973888496,
          53.424126257402406,
          53.36312412610851,
          53.46629136477233,
          53.48413518651102,
          53.48590156841973,
          53.36278713724,
          53.45494263590758,
          53.37729821176274,
          53.59453087781793,
          53.34532401045283,
          53.393273849667196,
          53.41639231657325,
          53.42194946927243,
          53.403721472863175,
          53.49171260684971,
          53.42258817290765,
          53.43102171119756,
          53.49980755108042,
          53.45172048280775,
          53.45733655097534,
          53.389883977487685,
          53.39252435936215,
          53.45501415026376,
          53.44452729749744,
          53.35654061392991,
          53.39653155512801,
          53.520865929464655,
          53.5576684635132,
          53.50911327590569,
          53.34787253331973,
          53.423329071767064,
          53.47067774400123,
          53.41312667364045,
          53.356183518797515,
          53.46670786233184,
          53.666338364502245,
          53.493005136660415,
          53.5575541170844,
          53.42129638818907,
          53.5575541170844,
          53.3943911744227,
          53.423880928628485,
          53.35574382997622,
          53.423880928628485,
          53.36200191436967,
          53.478069728382124,
          53.464575886061766,
          53.478069728382124,
          53.356249314775425,
          53.42516014937205,
          53.492392402601936,
          53.45308366414815,
          53.46853232672875,
          53.463075583116904,
          53.4345718971501,
          53.40490350558064,
          53.35520255955055,
          53.47089207107864,
          53.35520255955055,
          53.44638977132877,
          53.45923139893787,
          53.42133243462447,
          53.42129638818907,
          53.42129638818907,
          53.4345718971501,
          53.45923139893787,
          53.64484014004931,
          53.44638977132877,
          53.493005136660415,
          53.45308366414815,
          53.42133243462447,
          53.464575886061766,
          53.47089207107864,
          53.40159900721322,
          53.39205435444187
         ],
         "lon": [
          -2.868960247870969,
          -2.9204016465259253,
          -2.952120579982764,
          -2.9348368044453848,
          -2.944624291873282,
          -2.8501678183081656,
          -2.8043784690358375,
          -2.940341324407141,
          -2.9135425332827087,
          -2.9944350105232207,
          -2.9646244750169597,
          -2.741321233271815,
          -2.9016592879163565,
          -2.846754798019866,
          -2.743828112149952,
          -2.854156556576897,
          -2.9653694431328677,
          -2.754613494109046,
          -2.9555171397149618,
          -2.917149728861142,
          -2.9837257753935686,
          -2.832766645851588,
          -2.8544126543542996,
          -2.9475556298150716,
          -2.8760457604682177,
          -2.9917707160249805,
          -2.8543921609641663,
          -2.922591919732099,
          -2.888545159884441,
          -2.971849062968237,
          -2.96525216830561,
          -3.010640860976548,
          -3.0020690538014865,
          -2.9499127258116697,
          -2.961435944175713,
          -2.9100293326371127,
          -2.9822404727781686,
          -2.830964548867422,
          -2.9791900391584565,
          -3.0362637980786467,
          -3.020137126104079,
          -2.898653495860952,
          -2.9743200215863066,
          -3.058814473441467,
          -2.980330913895465,
          -2.9857005531236824,
          -2.7647908939904027,
          -2.9653694431328677,
          -2.956950281571702,
          -2.770753625319709,
          -2.7881068173430985,
          -2.7876064992303107,
          -2.932413760277352,
          -3.671941535480043,
          -2.8751328235683453,
          -2.8925318619436884,
          -2.7679236134315395,
          -2.856488723050569,
          -2.909668478621902,
          -2.8527313048173912,
          -2.9677871074751576,
          -2.9295519009504836,
          -2.9750316210112593,
          -2.9891846842932064,
          -2.981300471120738,
          -2.74854979140187,
          -2.7638495321071015,
          -2.8892155437371505,
          -2.9924573169729123,
          -2.994321468112982,
          -3.038281072758332,
          -2.7113825238848923,
          -2.937260737146558,
          -2.9266472706323716,
          -2.9311405362343588,
          -2.9151775108184386,
          -2.8760998057656315,
          -2.9313578180015285,
          -2.9837257753935686,
          -2.977517880028617,
          -2.9800719754323235,
          -3.0014500715221915,
          -3.0067781051716986,
          -3.0239075332726038,
          -2.947439064095321,
          -2.898191511493313,
          -2.7215201074760462,
          -2.984177218544132,
          -2.992950800833406,
          -2.812489756420958,
          -3.020137126104079,
          -2.9706213000337187,
          -3.0357056188310514,
          -2.9720853938931233,
          -2.747808882977331,
          -2.932413760277352,
          -2.982077439136908,
          -2.977517880028617,
          -2.7916001313229484,
          -2.8703853515597455,
          -2.8775709734550396,
          -2.988968248782947,
          -2.740444202278539,
          -2.7291945305822054,
          -2.9982128399792027,
          -2.7534875287755516,
          -2.905436851579359,
          -2.904149187611657,
          -2.9649384887407746,
          -2.7333698207740187,
          -2.826966517823932,
          -2.942257389756113,
          -3.0083395128713684,
          -2.9720853938931233,
          -2.7264307663783214,
          -2.8765731545351403,
          -2.7559673306687986,
          -2.937260737146558,
          -2.866977299909799,
          -2.980100806700297,
          -2.7714046997534156,
          -2.856473366942228,
          -2.99604512369433,
          -2.882106205341939,
          -2.8628029021536117,
          -2.987294050428071,
          -2.8994283329991966,
          -2.7252472897459086,
          -2.7180886410553797,
          -2.740444202278539,
          -2.9451651195422706,
          -2.98935797746864,
          -2.996177877444298,
          -2.82004323652281,
          -2.9882375856231698,
          -3.0063883099246227,
          -2.742191221918869,
          -2.794489318409893,
          -2.969482560184116,
          -2.761223832024802,
          -2.9663836947291573,
          -2.9837257753935686,
          -2.9631437541157677,
          -2.7931948370967605,
          -2.8424525067342894,
          -2.9553155692668853,
          -2.9854243249069237,
          -2.9813662358890363,
          -2.743967116210035,
          -2.987838877456239,
          -2.944407337081691,
          -2.930792159209246,
          -2.990683291158036,
          -2.976992206425268,
          -3.005858536309826,
          -2.9732024525533336,
          -2.9632337707027347,
          -2.897692550460257,
          -3.0571435168482646,
          -2.9829685624171707,
          -2.7816115159128953,
          -2.7638495321071015,
          -2.7196013943716837,
          -2.947351594556459,
          -2.8501776473547515,
          -2.992154277067054,
          -2.9716913605090567,
          -2.9859045849911636,
          -2.9000278654364697,
          -2.9553155692668853,
          -2.912378073327927,
          -2.8773014432124793,
          -2.751430416471552,
          -2.858714926224543,
          -2.9137600338057656,
          -2.9232148629237744,
          -2.983880135883945,
          -2.9969307425213443,
          -2.981300471120738,
          -2.9954147660155357,
          -2.987866497465608,
          -2.74117338678881,
          -2.7180886410553797,
          -2.8950654298795726,
          -2.947351594556459,
          -2.9829685624171707,
          -2.980330913895465,
          -2.78648601801278,
          -2.960789372244374,
          -2.9217472582929975,
          -2.871800347056549,
          -2.9480639359174785,
          -2.8120974661859015,
          -2.837381256099737,
          -2.8640476485669484,
          -2.889301080209952,
          -2.8784187683967017,
          -2.730174051460244,
          -2.900712599687762,
          -2.935700172044926,
          -3.028309911077536,
          -2.83344204208912,
          -2.9792414649163828,
          -2.8706839239298754,
          -2.932413760277352,
          -2.97812117943629,
          -3.0318479330590553,
          -2.8769120722004455,
          -2.9938032171006355,
          -2.796085595806899,
          -2.747808882977331,
          -2.7445084439605307,
          -2.8878759174545987,
          -2.8561470182939996,
          -2.9600903994398693,
          -2.9729233549969334,
          -2.7505693005741354,
          -2.976992206425268,
          -2.936203134759719,
          -2.9064372735872914,
          -2.941167268599754,
          -2.8777257445014435,
          -2.947050887538326,
          -2.9426641246567136,
          -2.9859045849911636,
          -2.86061189754041,
          -2.860320981173698,
          -2.9662662111307925,
          -2.9465805315672626,
          -3.0323140531145283,
          -2.928357791199963,
          -3.0323140531145283,
          -2.848298920501172,
          -2.8121323138460963,
          -2.838922279332908,
          -2.8121323138460963,
          -2.7549122598825115,
          -3.0029093146955272,
          -2.8999356468209103,
          -3.0029093146955272,
          -2.8994580701678823,
          -2.8660996522717457,
          -2.8651654249932705,
          -2.770001472946819,
          -2.754084433996893,
          -2.941199316253274,
          -2.711801099705087,
          -2.982295267448238,
          -2.8564907556814036,
          -2.855142299687652,
          -2.8564907556814036,
          -2.7561301279427073,
          -2.9813946675959606,
          -2.98978842607609,
          -2.928357791199963,
          -2.928357791199963,
          -2.711801099705087,
          -2.9813946675959606,
          -2.9552951463190724,
          -2.7561301279427073,
          -2.9465805315672626,
          -2.770001472946819,
          -2.98978842607609,
          -2.8999356468209103,
          -2.855142299687652,
          -2.981651056897432,
          -2.919678816619778
         ],
         "name": "",
         "radius": 10,
         "subplot": "mapbox",
         "type": "densitymapbox",
         "z": [
          2,
          2,
          1,
          2,
          2,
          2,
          2,
          2,
          2,
          2,
          2,
          2,
          2,
          2,
          2,
          1,
          2,
          1,
          2,
          2,
          2,
          1,
          1,
          2,
          1,
          2,
          2,
          1,
          2,
          2,
          2,
          2,
          2,
          2,
          2,
          2,
          2,
          2,
          1,
          2,
          2,
          2,
          2,
          2,
          2,
          1,
          2,
          2,
          2,
          2,
          2,
          2,
          2,
          2,
          2,
          2,
          2,
          2,
          2,
          2,
          2,
          2,
          2,
          2,
          2,
          2,
          2,
          2,
          2,
          2,
          2,
          2,
          2,
          2,
          2,
          2,
          2,
          2,
          2,
          2,
          1,
          1,
          1,
          2,
          1,
          2,
          2,
          2,
          2,
          2,
          2,
          2,
          2,
          2,
          2,
          2,
          2,
          1,
          2,
          2,
          1,
          2,
          2,
          2,
          1,
          2,
          2,
          2,
          2,
          1,
          2,
          2,
          2,
          2,
          2,
          2,
          2,
          2,
          2,
          2,
          2,
          2,
          2,
          2,
          2,
          2,
          2,
          2,
          2,
          1,
          2,
          2,
          2,
          2,
          2,
          2,
          2,
          2,
          2,
          1,
          2,
          2,
          2,
          2,
          1,
          2,
          2,
          2,
          1,
          2,
          2,
          2,
          2,
          1,
          2,
          2,
          2,
          2,
          2,
          2,
          2,
          2,
          2,
          2,
          1,
          2,
          2,
          1,
          2,
          2,
          2,
          1,
          2,
          2,
          2,
          2,
          2,
          2,
          2,
          2,
          2,
          2,
          2,
          2,
          2,
          1,
          1,
          2,
          2,
          2,
          2,
          2,
          2,
          2,
          2,
          2,
          2,
          2,
          2,
          2,
          2,
          2,
          2,
          2,
          2,
          1,
          2,
          2,
          2,
          2,
          2,
          2,
          2,
          2,
          2,
          2,
          1,
          2,
          2,
          2,
          2,
          2,
          2,
          2,
          2,
          2,
          2,
          2,
          2,
          2,
          1,
          2,
          2,
          2,
          2,
          2,
          2,
          2,
          2,
          2,
          1,
          2,
          2,
          2,
          2,
          2,
          2,
          1,
          1,
          2,
          2,
          2,
          2,
          1,
          1,
          1,
          2,
          1,
          2,
          2,
          2,
          2,
          1,
          2,
          2,
          1,
          1
         ]
        }
       ],
       "layout": {
        "coloraxis": {
         "colorbar": {
          "title": {
           "text": "Overall Category"
          }
         },
         "colorscale": [
          [
           0,
           "#0d0887"
          ],
          [
           0.1111111111111111,
           "#46039f"
          ],
          [
           0.2222222222222222,
           "#7201a8"
          ],
          [
           0.3333333333333333,
           "#9c179e"
          ],
          [
           0.4444444444444444,
           "#bd3786"
          ],
          [
           0.5555555555555556,
           "#d8576b"
          ],
          [
           0.6666666666666666,
           "#ed7953"
          ],
          [
           0.7777777777777778,
           "#fb9f3a"
          ],
          [
           0.8888888888888888,
           "#fdca26"
          ],
          [
           1,
           "#f0f921"
          ]
         ]
        },
        "legend": {
         "tracegroupgap": 0
        },
        "mapbox": {
         "center": {
          "lat": 53.5,
          "lon": -2.9
         },
         "domain": {
          "x": [
           0,
           1
          ],
          "y": [
           0,
           1
          ]
         },
         "style": "open-street-map",
         "zoom": 8
        },
        "margin": {
         "t": 60
        },
        "template": {
         "data": {
          "bar": [
           {
            "error_x": {
             "color": "#2a3f5f"
            },
            "error_y": {
             "color": "#2a3f5f"
            },
            "marker": {
             "line": {
              "color": "#E5ECF6",
              "width": 0.5
             },
             "pattern": {
              "fillmode": "overlay",
              "size": 10,
              "solidity": 0.2
             }
            },
            "type": "bar"
           }
          ],
          "barpolar": [
           {
            "marker": {
             "line": {
              "color": "#E5ECF6",
              "width": 0.5
             },
             "pattern": {
              "fillmode": "overlay",
              "size": 10,
              "solidity": 0.2
             }
            },
            "type": "barpolar"
           }
          ],
          "carpet": [
           {
            "aaxis": {
             "endlinecolor": "#2a3f5f",
             "gridcolor": "white",
             "linecolor": "white",
             "minorgridcolor": "white",
             "startlinecolor": "#2a3f5f"
            },
            "baxis": {
             "endlinecolor": "#2a3f5f",
             "gridcolor": "white",
             "linecolor": "white",
             "minorgridcolor": "white",
             "startlinecolor": "#2a3f5f"
            },
            "type": "carpet"
           }
          ],
          "choropleth": [
           {
            "colorbar": {
             "outlinewidth": 0,
             "ticks": ""
            },
            "type": "choropleth"
           }
          ],
          "contour": [
           {
            "colorbar": {
             "outlinewidth": 0,
             "ticks": ""
            },
            "colorscale": [
             [
              0,
              "#0d0887"
             ],
             [
              0.1111111111111111,
              "#46039f"
             ],
             [
              0.2222222222222222,
              "#7201a8"
             ],
             [
              0.3333333333333333,
              "#9c179e"
             ],
             [
              0.4444444444444444,
              "#bd3786"
             ],
             [
              0.5555555555555556,
              "#d8576b"
             ],
             [
              0.6666666666666666,
              "#ed7953"
             ],
             [
              0.7777777777777778,
              "#fb9f3a"
             ],
             [
              0.8888888888888888,
              "#fdca26"
             ],
             [
              1,
              "#f0f921"
             ]
            ],
            "type": "contour"
           }
          ],
          "contourcarpet": [
           {
            "colorbar": {
             "outlinewidth": 0,
             "ticks": ""
            },
            "type": "contourcarpet"
           }
          ],
          "heatmap": [
           {
            "colorbar": {
             "outlinewidth": 0,
             "ticks": ""
            },
            "colorscale": [
             [
              0,
              "#0d0887"
             ],
             [
              0.1111111111111111,
              "#46039f"
             ],
             [
              0.2222222222222222,
              "#7201a8"
             ],
             [
              0.3333333333333333,
              "#9c179e"
             ],
             [
              0.4444444444444444,
              "#bd3786"
             ],
             [
              0.5555555555555556,
              "#d8576b"
             ],
             [
              0.6666666666666666,
              "#ed7953"
             ],
             [
              0.7777777777777778,
              "#fb9f3a"
             ],
             [
              0.8888888888888888,
              "#fdca26"
             ],
             [
              1,
              "#f0f921"
             ]
            ],
            "type": "heatmap"
           }
          ],
          "heatmapgl": [
           {
            "colorbar": {
             "outlinewidth": 0,
             "ticks": ""
            },
            "colorscale": [
             [
              0,
              "#0d0887"
             ],
             [
              0.1111111111111111,
              "#46039f"
             ],
             [
              0.2222222222222222,
              "#7201a8"
             ],
             [
              0.3333333333333333,
              "#9c179e"
             ],
             [
              0.4444444444444444,
              "#bd3786"
             ],
             [
              0.5555555555555556,
              "#d8576b"
             ],
             [
              0.6666666666666666,
              "#ed7953"
             ],
             [
              0.7777777777777778,
              "#fb9f3a"
             ],
             [
              0.8888888888888888,
              "#fdca26"
             ],
             [
              1,
              "#f0f921"
             ]
            ],
            "type": "heatmapgl"
           }
          ],
          "histogram": [
           {
            "marker": {
             "pattern": {
              "fillmode": "overlay",
              "size": 10,
              "solidity": 0.2
             }
            },
            "type": "histogram"
           }
          ],
          "histogram2d": [
           {
            "colorbar": {
             "outlinewidth": 0,
             "ticks": ""
            },
            "colorscale": [
             [
              0,
              "#0d0887"
             ],
             [
              0.1111111111111111,
              "#46039f"
             ],
             [
              0.2222222222222222,
              "#7201a8"
             ],
             [
              0.3333333333333333,
              "#9c179e"
             ],
             [
              0.4444444444444444,
              "#bd3786"
             ],
             [
              0.5555555555555556,
              "#d8576b"
             ],
             [
              0.6666666666666666,
              "#ed7953"
             ],
             [
              0.7777777777777778,
              "#fb9f3a"
             ],
             [
              0.8888888888888888,
              "#fdca26"
             ],
             [
              1,
              "#f0f921"
             ]
            ],
            "type": "histogram2d"
           }
          ],
          "histogram2dcontour": [
           {
            "colorbar": {
             "outlinewidth": 0,
             "ticks": ""
            },
            "colorscale": [
             [
              0,
              "#0d0887"
             ],
             [
              0.1111111111111111,
              "#46039f"
             ],
             [
              0.2222222222222222,
              "#7201a8"
             ],
             [
              0.3333333333333333,
              "#9c179e"
             ],
             [
              0.4444444444444444,
              "#bd3786"
             ],
             [
              0.5555555555555556,
              "#d8576b"
             ],
             [
              0.6666666666666666,
              "#ed7953"
             ],
             [
              0.7777777777777778,
              "#fb9f3a"
             ],
             [
              0.8888888888888888,
              "#fdca26"
             ],
             [
              1,
              "#f0f921"
             ]
            ],
            "type": "histogram2dcontour"
           }
          ],
          "mesh3d": [
           {
            "colorbar": {
             "outlinewidth": 0,
             "ticks": ""
            },
            "type": "mesh3d"
           }
          ],
          "parcoords": [
           {
            "line": {
             "colorbar": {
              "outlinewidth": 0,
              "ticks": ""
             }
            },
            "type": "parcoords"
           }
          ],
          "pie": [
           {
            "automargin": true,
            "type": "pie"
           }
          ],
          "scatter": [
           {
            "fillpattern": {
             "fillmode": "overlay",
             "size": 10,
             "solidity": 0.2
            },
            "type": "scatter"
           }
          ],
          "scatter3d": [
           {
            "line": {
             "colorbar": {
              "outlinewidth": 0,
              "ticks": ""
             }
            },
            "marker": {
             "colorbar": {
              "outlinewidth": 0,
              "ticks": ""
             }
            },
            "type": "scatter3d"
           }
          ],
          "scattercarpet": [
           {
            "marker": {
             "colorbar": {
              "outlinewidth": 0,
              "ticks": ""
             }
            },
            "type": "scattercarpet"
           }
          ],
          "scattergeo": [
           {
            "marker": {
             "colorbar": {
              "outlinewidth": 0,
              "ticks": ""
             }
            },
            "type": "scattergeo"
           }
          ],
          "scattergl": [
           {
            "marker": {
             "colorbar": {
              "outlinewidth": 0,
              "ticks": ""
             }
            },
            "type": "scattergl"
           }
          ],
          "scattermapbox": [
           {
            "marker": {
             "colorbar": {
              "outlinewidth": 0,
              "ticks": ""
             }
            },
            "type": "scattermapbox"
           }
          ],
          "scatterpolar": [
           {
            "marker": {
             "colorbar": {
              "outlinewidth": 0,
              "ticks": ""
             }
            },
            "type": "scatterpolar"
           }
          ],
          "scatterpolargl": [
           {
            "marker": {
             "colorbar": {
              "outlinewidth": 0,
              "ticks": ""
             }
            },
            "type": "scatterpolargl"
           }
          ],
          "scatterternary": [
           {
            "marker": {
             "colorbar": {
              "outlinewidth": 0,
              "ticks": ""
             }
            },
            "type": "scatterternary"
           }
          ],
          "surface": [
           {
            "colorbar": {
             "outlinewidth": 0,
             "ticks": ""
            },
            "colorscale": [
             [
              0,
              "#0d0887"
             ],
             [
              0.1111111111111111,
              "#46039f"
             ],
             [
              0.2222222222222222,
              "#7201a8"
             ],
             [
              0.3333333333333333,
              "#9c179e"
             ],
             [
              0.4444444444444444,
              "#bd3786"
             ],
             [
              0.5555555555555556,
              "#d8576b"
             ],
             [
              0.6666666666666666,
              "#ed7953"
             ],
             [
              0.7777777777777778,
              "#fb9f3a"
             ],
             [
              0.8888888888888888,
              "#fdca26"
             ],
             [
              1,
              "#f0f921"
             ]
            ],
            "type": "surface"
           }
          ],
          "table": [
           {
            "cells": {
             "fill": {
              "color": "#EBF0F8"
             },
             "line": {
              "color": "white"
             }
            },
            "header": {
             "fill": {
              "color": "#C8D4E3"
             },
             "line": {
              "color": "white"
             }
            },
            "type": "table"
           }
          ]
         },
         "layout": {
          "annotationdefaults": {
           "arrowcolor": "#2a3f5f",
           "arrowhead": 0,
           "arrowwidth": 1
          },
          "autotypenumbers": "strict",
          "coloraxis": {
           "colorbar": {
            "outlinewidth": 0,
            "ticks": ""
           }
          },
          "colorscale": {
           "diverging": [
            [
             0,
             "#8e0152"
            ],
            [
             0.1,
             "#c51b7d"
            ],
            [
             0.2,
             "#de77ae"
            ],
            [
             0.3,
             "#f1b6da"
            ],
            [
             0.4,
             "#fde0ef"
            ],
            [
             0.5,
             "#f7f7f7"
            ],
            [
             0.6,
             "#e6f5d0"
            ],
            [
             0.7,
             "#b8e186"
            ],
            [
             0.8,
             "#7fbc41"
            ],
            [
             0.9,
             "#4d9221"
            ],
            [
             1,
             "#276419"
            ]
           ],
           "sequential": [
            [
             0,
             "#0d0887"
            ],
            [
             0.1111111111111111,
             "#46039f"
            ],
            [
             0.2222222222222222,
             "#7201a8"
            ],
            [
             0.3333333333333333,
             "#9c179e"
            ],
            [
             0.4444444444444444,
             "#bd3786"
            ],
            [
             0.5555555555555556,
             "#d8576b"
            ],
            [
             0.6666666666666666,
             "#ed7953"
            ],
            [
             0.7777777777777778,
             "#fb9f3a"
            ],
            [
             0.8888888888888888,
             "#fdca26"
            ],
            [
             1,
             "#f0f921"
            ]
           ],
           "sequentialminus": [
            [
             0,
             "#0d0887"
            ],
            [
             0.1111111111111111,
             "#46039f"
            ],
            [
             0.2222222222222222,
             "#7201a8"
            ],
            [
             0.3333333333333333,
             "#9c179e"
            ],
            [
             0.4444444444444444,
             "#bd3786"
            ],
            [
             0.5555555555555556,
             "#d8576b"
            ],
            [
             0.6666666666666666,
             "#ed7953"
            ],
            [
             0.7777777777777778,
             "#fb9f3a"
            ],
            [
             0.8888888888888888,
             "#fdca26"
            ],
            [
             1,
             "#f0f921"
            ]
           ]
          },
          "colorway": [
           "#636efa",
           "#EF553B",
           "#00cc96",
           "#ab63fa",
           "#FFA15A",
           "#19d3f3",
           "#FF6692",
           "#B6E880",
           "#FF97FF",
           "#FECB52"
          ],
          "font": {
           "color": "#2a3f5f"
          },
          "geo": {
           "bgcolor": "white",
           "lakecolor": "white",
           "landcolor": "#E5ECF6",
           "showlakes": true,
           "showland": true,
           "subunitcolor": "white"
          },
          "hoverlabel": {
           "align": "left"
          },
          "hovermode": "closest",
          "mapbox": {
           "style": "light"
          },
          "paper_bgcolor": "white",
          "plot_bgcolor": "#E5ECF6",
          "polar": {
           "angularaxis": {
            "gridcolor": "white",
            "linecolor": "white",
            "ticks": ""
           },
           "bgcolor": "#E5ECF6",
           "radialaxis": {
            "gridcolor": "white",
            "linecolor": "white",
            "ticks": ""
           }
          },
          "scene": {
           "xaxis": {
            "backgroundcolor": "#E5ECF6",
            "gridcolor": "white",
            "gridwidth": 2,
            "linecolor": "white",
            "showbackground": true,
            "ticks": "",
            "zerolinecolor": "white"
           },
           "yaxis": {
            "backgroundcolor": "#E5ECF6",
            "gridcolor": "white",
            "gridwidth": 2,
            "linecolor": "white",
            "showbackground": true,
            "ticks": "",
            "zerolinecolor": "white"
           },
           "zaxis": {
            "backgroundcolor": "#E5ECF6",
            "gridcolor": "white",
            "gridwidth": 2,
            "linecolor": "white",
            "showbackground": true,
            "ticks": "",
            "zerolinecolor": "white"
           }
          },
          "shapedefaults": {
           "line": {
            "color": "#2a3f5f"
           }
          },
          "ternary": {
           "aaxis": {
            "gridcolor": "white",
            "linecolor": "white",
            "ticks": ""
           },
           "baxis": {
            "gridcolor": "white",
            "linecolor": "white",
            "ticks": ""
           },
           "bgcolor": "#E5ECF6",
           "caxis": {
            "gridcolor": "white",
            "linecolor": "white",
            "ticks": ""
           }
          },
          "title": {
           "x": 0.05
          },
          "xaxis": {
           "automargin": true,
           "gridcolor": "white",
           "linecolor": "white",
           "ticks": "",
           "title": {
            "standoff": 15
           },
           "zerolinecolor": "white",
           "zerolinewidth": 2
          },
          "yaxis": {
           "automargin": true,
           "gridcolor": "white",
           "linecolor": "white",
           "ticks": "",
           "title": {
            "standoff": 15
           },
           "zerolinecolor": "white",
           "zerolinewidth": 2
          }
         }
        }
       }
      }
     },
     "metadata": {},
     "output_type": "display_data"
    }
   ],
   "source": [
    "import plotly.express as px\n",
    "\n",
    "fig = px.density_mapbox(df_sub.replace({'RED':2, 'AMBER':1}), lat='lat', lon='long', z='Overall Category', radius=10,\n",
    "                        center=dict(lat=53.5, lon=-2.9), zoom=8, hover_name='Substation Name',\n",
    "                        mapbox_style=\"open-street-map\")\n",
    "fig.show()"
   ]
  },
  {
   "cell_type": "markdown",
   "metadata": {},
   "source": [
    "## flows"
   ]
  },
  {
   "cell_type": "code",
   "execution_count": 149,
   "metadata": {},
   "outputs": [
    {
     "data": {
      "text/html": [
       "<div>\n",
       "<style scoped>\n",
       "    .dataframe tbody tr th:only-of-type {\n",
       "        vertical-align: middle;\n",
       "    }\n",
       "\n",
       "    .dataframe tbody tr th {\n",
       "        vertical-align: top;\n",
       "    }\n",
       "\n",
       "    .dataframe thead th {\n",
       "        text-align: right;\n",
       "    }\n",
       "</style>\n",
       "<table border=\"1\" class=\"dataframe\">\n",
       "  <thead>\n",
       "    <tr style=\"text-align: right;\">\n",
       "      <th></th>\n",
       "      <th>timestamp</th>\n",
       "      <th>time_zone_offset</th>\n",
       "      <th>net_mw</th>\n",
       "      <th>net_amps</th>\n",
       "      <th>net_mvar</th>\n",
       "      <th>filter_mw</th>\n",
       "      <th>filter_amp</th>\n",
       "      <th>filter_mvar</th>\n",
       "      <th>filtered_manual_int</th>\n",
       "      <th>generation_output_mw</th>\n",
       "      <th>underlying_demand_mw</th>\n",
       "      <th>group_id</th>\n",
       "      <th>service_area</th>\n",
       "      <th>district</th>\n",
       "      <th>group_name</th>\n",
       "      <th>voltage</th>\n",
       "    </tr>\n",
       "  </thead>\n",
       "  <tbody>\n",
       "    <tr>\n",
       "      <th>0</th>\n",
       "      <td>2023-12-30 05:30:00</td>\n",
       "      <td>0</td>\n",
       "      <td>4.410</td>\n",
       "      <td>0.0</td>\n",
       "      <td>0.609</td>\n",
       "      <td>NaN</td>\n",
       "      <td>NaN</td>\n",
       "      <td>NaN</td>\n",
       "      <td>None</td>\n",
       "      <td>0.0</td>\n",
       "      <td>4.410</td>\n",
       "      <td>91025</td>\n",
       "      <td>SPM</td>\n",
       "      <td>Merseyside</td>\n",
       "      <td>ATHOL ST T1 / CHISENHALE ST T1 / SANDHILLS LA T1</td>\n",
       "      <td>HV</td>\n",
       "    </tr>\n",
       "    <tr>\n",
       "      <th>1</th>\n",
       "      <td>2023-12-30 06:00:00</td>\n",
       "      <td>0</td>\n",
       "      <td>4.398</td>\n",
       "      <td>0.0</td>\n",
       "      <td>0.609</td>\n",
       "      <td>NaN</td>\n",
       "      <td>NaN</td>\n",
       "      <td>NaN</td>\n",
       "      <td>None</td>\n",
       "      <td>0.0</td>\n",
       "      <td>4.398</td>\n",
       "      <td>91025</td>\n",
       "      <td>SPM</td>\n",
       "      <td>Merseyside</td>\n",
       "      <td>ATHOL ST T1 / CHISENHALE ST T1 / SANDHILLS LA T1</td>\n",
       "      <td>HV</td>\n",
       "    </tr>\n",
       "    <tr>\n",
       "      <th>2</th>\n",
       "      <td>2023-12-30 06:30:00</td>\n",
       "      <td>0</td>\n",
       "      <td>4.323</td>\n",
       "      <td>0.0</td>\n",
       "      <td>0.149</td>\n",
       "      <td>NaN</td>\n",
       "      <td>NaN</td>\n",
       "      <td>NaN</td>\n",
       "      <td>None</td>\n",
       "      <td>0.0</td>\n",
       "      <td>4.323</td>\n",
       "      <td>91025</td>\n",
       "      <td>SPM</td>\n",
       "      <td>Merseyside</td>\n",
       "      <td>ATHOL ST T1 / CHISENHALE ST T1 / SANDHILLS LA T1</td>\n",
       "      <td>HV</td>\n",
       "    </tr>\n",
       "    <tr>\n",
       "      <th>3</th>\n",
       "      <td>2023-12-30 07:00:00</td>\n",
       "      <td>0</td>\n",
       "      <td>4.323</td>\n",
       "      <td>0.0</td>\n",
       "      <td>0.141</td>\n",
       "      <td>NaN</td>\n",
       "      <td>NaN</td>\n",
       "      <td>NaN</td>\n",
       "      <td>None</td>\n",
       "      <td>0.0</td>\n",
       "      <td>4.323</td>\n",
       "      <td>91025</td>\n",
       "      <td>SPM</td>\n",
       "      <td>Merseyside</td>\n",
       "      <td>ATHOL ST T1 / CHISENHALE ST T1 / SANDHILLS LA T1</td>\n",
       "      <td>HV</td>\n",
       "    </tr>\n",
       "    <tr>\n",
       "      <th>4</th>\n",
       "      <td>2023-12-30 07:30:00</td>\n",
       "      <td>0</td>\n",
       "      <td>4.481</td>\n",
       "      <td>0.0</td>\n",
       "      <td>0.117</td>\n",
       "      <td>NaN</td>\n",
       "      <td>NaN</td>\n",
       "      <td>NaN</td>\n",
       "      <td>None</td>\n",
       "      <td>0.0</td>\n",
       "      <td>4.481</td>\n",
       "      <td>91025</td>\n",
       "      <td>SPM</td>\n",
       "      <td>Merseyside</td>\n",
       "      <td>ATHOL ST T1 / CHISENHALE ST T1 / SANDHILLS LA T1</td>\n",
       "      <td>HV</td>\n",
       "    </tr>\n",
       "  </tbody>\n",
       "</table>\n",
       "</div>"
      ],
      "text/plain": [
       "            timestamp  time_zone_offset  net_mw  net_amps  net_mvar  \\\n",
       "0 2023-12-30 05:30:00                 0   4.410       0.0     0.609   \n",
       "1 2023-12-30 06:00:00                 0   4.398       0.0     0.609   \n",
       "2 2023-12-30 06:30:00                 0   4.323       0.0     0.149   \n",
       "3 2023-12-30 07:00:00                 0   4.323       0.0     0.141   \n",
       "4 2023-12-30 07:30:00                 0   4.481       0.0     0.117   \n",
       "\n",
       "   filter_mw  filter_amp  filter_mvar filtered_manual_int  \\\n",
       "0        NaN         NaN          NaN                None   \n",
       "1        NaN         NaN          NaN                None   \n",
       "2        NaN         NaN          NaN                None   \n",
       "3        NaN         NaN          NaN                None   \n",
       "4        NaN         NaN          NaN                None   \n",
       "\n",
       "   generation_output_mw  underlying_demand_mw group_id service_area  \\\n",
       "0                   0.0                 4.410    91025          SPM   \n",
       "1                   0.0                 4.398    91025          SPM   \n",
       "2                   0.0                 4.323    91025          SPM   \n",
       "3                   0.0                 4.323    91025          SPM   \n",
       "4                   0.0                 4.481    91025          SPM   \n",
       "\n",
       "     district                                        group_name voltage  \n",
       "0  Merseyside  ATHOL ST T1 / CHISENHALE ST T1 / SANDHILLS LA T1      HV  \n",
       "1  Merseyside  ATHOL ST T1 / CHISENHALE ST T1 / SANDHILLS LA T1      HV  \n",
       "2  Merseyside  ATHOL ST T1 / CHISENHALE ST T1 / SANDHILLS LA T1      HV  \n",
       "3  Merseyside  ATHOL ST T1 / CHISENHALE ST T1 / SANDHILLS LA T1      HV  \n",
       "4  Merseyside  ATHOL ST T1 / CHISENHALE ST T1 / SANDHILLS LA T1      HV  "
      ]
     },
     "execution_count": 149,
     "metadata": {},
     "output_type": "execute_result"
    }
   ],
   "source": [
    "df_flow = pd.read_parquet('flow.parquet')\n",
    "df_flow.head()"
   ]
  },
  {
   "cell_type": "code",
   "execution_count": 150,
   "metadata": {},
   "outputs": [
    {
     "name": "stdout",
     "output_type": "stream",
     "text": [
      "<class 'pandas.core.frame.DataFrame'>\n",
      "Int64Index: 1623175 entries, 0 to 1623174\n",
      "Data columns (total 16 columns):\n",
      " #   Column                Non-Null Count    Dtype         \n",
      "---  ------                --------------    -----         \n",
      " 0   timestamp             1623175 non-null  datetime64[ns]\n",
      " 1   time_zone_offset      1623175 non-null  int64         \n",
      " 2   net_mw                1623175 non-null  float64       \n",
      " 3   net_amps              1623175 non-null  float64       \n",
      " 4   net_mvar              1623175 non-null  float64       \n",
      " 5   filter_mw             216031 non-null   float64       \n",
      " 6   filter_amp            216031 non-null   float64       \n",
      " 7   filter_mvar           216031 non-null   float64       \n",
      " 8   filtered_manual_int   107867 non-null   object        \n",
      " 9   generation_output_mw  1623175 non-null  float64       \n",
      " 10  underlying_demand_mw  1623175 non-null  float64       \n",
      " 11  group_id              1623175 non-null  object        \n",
      " 12  service_area          1623175 non-null  object        \n",
      " 13  district              1623175 non-null  object        \n",
      " 14  group_name            1623175 non-null  object        \n",
      " 15  voltage               1623175 non-null  object        \n",
      "dtypes: datetime64[ns](1), float64(8), int64(1), object(6)\n",
      "memory usage: 210.5+ MB\n"
     ]
    }
   ],
   "source": [
    "df_flow_m = df_flow.query('district == \"Merseyside\"')\n",
    "df_flow_m.info()"
   ]
  },
  {
   "cell_type": "markdown",
   "metadata": {},
   "source": [
    "# KPIs\n",
    "recheck kpi sums with actual data"
   ]
  },
  {
   "cell_type": "code",
   "execution_count": 151,
   "metadata": {},
   "outputs": [],
   "source": [
    "df_flow_m['date'] = pd.to_datetime(df_flow_m['timestamp'].dt.date)\n",
    "df_flow_m['time'] = df_flow_m['timestamp'].dt.time"
   ]
  },
  {
   "cell_type": "markdown",
   "metadata": {},
   "source": [
    "## hourly"
   ]
  },
  {
   "cell_type": "code",
   "execution_count": 152,
   "metadata": {},
   "outputs": [
    {
     "data": {
      "text/html": [
       "<div>\n",
       "<style scoped>\n",
       "    .dataframe tbody tr th:only-of-type {\n",
       "        vertical-align: middle;\n",
       "    }\n",
       "\n",
       "    .dataframe tbody tr th {\n",
       "        vertical-align: top;\n",
       "    }\n",
       "\n",
       "    .dataframe thead th {\n",
       "        text-align: right;\n",
       "    }\n",
       "</style>\n",
       "<table border=\"1\" class=\"dataframe\">\n",
       "  <thead>\n",
       "    <tr style=\"text-align: right;\">\n",
       "      <th></th>\n",
       "      <th>time</th>\n",
       "      <th>underlying_demand_mw</th>\n",
       "    </tr>\n",
       "  </thead>\n",
       "  <tbody>\n",
       "    <tr>\n",
       "      <th>0</th>\n",
       "      <td>00:00:00</td>\n",
       "      <td>15.052279</td>\n",
       "    </tr>\n",
       "    <tr>\n",
       "      <th>1</th>\n",
       "      <td>00:30:00</td>\n",
       "      <td>14.598988</td>\n",
       "    </tr>\n",
       "    <tr>\n",
       "      <th>2</th>\n",
       "      <td>01:00:00</td>\n",
       "      <td>14.035200</td>\n",
       "    </tr>\n",
       "    <tr>\n",
       "      <th>3</th>\n",
       "      <td>01:30:00</td>\n",
       "      <td>13.736485</td>\n",
       "    </tr>\n",
       "    <tr>\n",
       "      <th>4</th>\n",
       "      <td>02:00:00</td>\n",
       "      <td>13.389943</td>\n",
       "    </tr>\n",
       "    <tr>\n",
       "      <th>5</th>\n",
       "      <td>02:30:00</td>\n",
       "      <td>13.186770</td>\n",
       "    </tr>\n",
       "    <tr>\n",
       "      <th>6</th>\n",
       "      <td>03:00:00</td>\n",
       "      <td>12.768177</td>\n",
       "    </tr>\n",
       "    <tr>\n",
       "      <th>7</th>\n",
       "      <td>03:30:00</td>\n",
       "      <td>12.642261</td>\n",
       "    </tr>\n",
       "    <tr>\n",
       "      <th>8</th>\n",
       "      <td>04:00:00</td>\n",
       "      <td>11.807121</td>\n",
       "    </tr>\n",
       "    <tr>\n",
       "      <th>9</th>\n",
       "      <td>04:30:00</td>\n",
       "      <td>12.408647</td>\n",
       "    </tr>\n",
       "    <tr>\n",
       "      <th>10</th>\n",
       "      <td>05:00:00</td>\n",
       "      <td>12.404827</td>\n",
       "    </tr>\n",
       "    <tr>\n",
       "      <th>11</th>\n",
       "      <td>05:30:00</td>\n",
       "      <td>12.349058</td>\n",
       "    </tr>\n",
       "    <tr>\n",
       "      <th>12</th>\n",
       "      <td>06:00:00</td>\n",
       "      <td>12.471197</td>\n",
       "    </tr>\n",
       "    <tr>\n",
       "      <th>13</th>\n",
       "      <td>06:30:00</td>\n",
       "      <td>12.779607</td>\n",
       "    </tr>\n",
       "    <tr>\n",
       "      <th>14</th>\n",
       "      <td>07:00:00</td>\n",
       "      <td>13.575621</td>\n",
       "    </tr>\n",
       "    <tr>\n",
       "      <th>15</th>\n",
       "      <td>07:30:00</td>\n",
       "      <td>14.304469</td>\n",
       "    </tr>\n",
       "    <tr>\n",
       "      <th>16</th>\n",
       "      <td>08:00:00</td>\n",
       "      <td>15.426278</td>\n",
       "    </tr>\n",
       "    <tr>\n",
       "      <th>17</th>\n",
       "      <td>08:30:00</td>\n",
       "      <td>16.184114</td>\n",
       "    </tr>\n",
       "    <tr>\n",
       "      <th>18</th>\n",
       "      <td>09:00:00</td>\n",
       "      <td>16.990755</td>\n",
       "    </tr>\n",
       "    <tr>\n",
       "      <th>19</th>\n",
       "      <td>09:30:00</td>\n",
       "      <td>17.512380</td>\n",
       "    </tr>\n",
       "    <tr>\n",
       "      <th>20</th>\n",
       "      <td>10:00:00</td>\n",
       "      <td>18.102200</td>\n",
       "    </tr>\n",
       "    <tr>\n",
       "      <th>21</th>\n",
       "      <td>10:30:00</td>\n",
       "      <td>18.386415</td>\n",
       "    </tr>\n",
       "    <tr>\n",
       "      <th>22</th>\n",
       "      <td>11:00:00</td>\n",
       "      <td>18.693248</td>\n",
       "    </tr>\n",
       "    <tr>\n",
       "      <th>23</th>\n",
       "      <td>11:30:00</td>\n",
       "      <td>18.834691</td>\n",
       "    </tr>\n",
       "    <tr>\n",
       "      <th>24</th>\n",
       "      <td>12:00:00</td>\n",
       "      <td>18.975363</td>\n",
       "    </tr>\n",
       "    <tr>\n",
       "      <th>25</th>\n",
       "      <td>12:30:00</td>\n",
       "      <td>19.041281</td>\n",
       "    </tr>\n",
       "    <tr>\n",
       "      <th>26</th>\n",
       "      <td>13:00:00</td>\n",
       "      <td>19.067316</td>\n",
       "    </tr>\n",
       "    <tr>\n",
       "      <th>27</th>\n",
       "      <td>13:30:00</td>\n",
       "      <td>19.050664</td>\n",
       "    </tr>\n",
       "    <tr>\n",
       "      <th>28</th>\n",
       "      <td>14:00:00</td>\n",
       "      <td>18.895720</td>\n",
       "    </tr>\n",
       "    <tr>\n",
       "      <th>29</th>\n",
       "      <td>14:30:00</td>\n",
       "      <td>18.799292</td>\n",
       "    </tr>\n",
       "    <tr>\n",
       "      <th>30</th>\n",
       "      <td>15:00:00</td>\n",
       "      <td>18.676133</td>\n",
       "    </tr>\n",
       "    <tr>\n",
       "      <th>31</th>\n",
       "      <td>15:30:00</td>\n",
       "      <td>18.583249</td>\n",
       "    </tr>\n",
       "    <tr>\n",
       "      <th>32</th>\n",
       "      <td>16:00:00</td>\n",
       "      <td>18.670113</td>\n",
       "    </tr>\n",
       "    <tr>\n",
       "      <th>33</th>\n",
       "      <td>16:30:00</td>\n",
       "      <td>18.797544</td>\n",
       "    </tr>\n",
       "    <tr>\n",
       "      <th>34</th>\n",
       "      <td>17:00:00</td>\n",
       "      <td>19.133579</td>\n",
       "    </tr>\n",
       "    <tr>\n",
       "      <th>35</th>\n",
       "      <td>17:30:00</td>\n",
       "      <td>19.384899</td>\n",
       "    </tr>\n",
       "    <tr>\n",
       "      <th>36</th>\n",
       "      <td>18:00:00</td>\n",
       "      <td>19.698142</td>\n",
       "    </tr>\n",
       "    <tr>\n",
       "      <th>37</th>\n",
       "      <td>18:30:00</td>\n",
       "      <td>19.807648</td>\n",
       "    </tr>\n",
       "    <tr>\n",
       "      <th>38</th>\n",
       "      <td>19:00:00</td>\n",
       "      <td>19.692919</td>\n",
       "    </tr>\n",
       "    <tr>\n",
       "      <th>39</th>\n",
       "      <td>19:30:00</td>\n",
       "      <td>19.562482</td>\n",
       "    </tr>\n",
       "    <tr>\n",
       "      <th>40</th>\n",
       "      <td>20:00:00</td>\n",
       "      <td>19.258424</td>\n",
       "    </tr>\n",
       "    <tr>\n",
       "      <th>41</th>\n",
       "      <td>20:30:00</td>\n",
       "      <td>19.023826</td>\n",
       "    </tr>\n",
       "    <tr>\n",
       "      <th>42</th>\n",
       "      <td>21:00:00</td>\n",
       "      <td>18.630606</td>\n",
       "    </tr>\n",
       "    <tr>\n",
       "      <th>43</th>\n",
       "      <td>21:30:00</td>\n",
       "      <td>18.319911</td>\n",
       "    </tr>\n",
       "    <tr>\n",
       "      <th>44</th>\n",
       "      <td>22:00:00</td>\n",
       "      <td>17.718458</td>\n",
       "    </tr>\n",
       "    <tr>\n",
       "      <th>45</th>\n",
       "      <td>22:30:00</td>\n",
       "      <td>17.249849</td>\n",
       "    </tr>\n",
       "    <tr>\n",
       "      <th>46</th>\n",
       "      <td>23:00:00</td>\n",
       "      <td>16.413470</td>\n",
       "    </tr>\n",
       "    <tr>\n",
       "      <th>47</th>\n",
       "      <td>23:30:00</td>\n",
       "      <td>15.917027</td>\n",
       "    </tr>\n",
       "  </tbody>\n",
       "</table>\n",
       "</div>"
      ],
      "text/plain": [
       "        time  underlying_demand_mw\n",
       "0   00:00:00             15.052279\n",
       "1   00:30:00             14.598988\n",
       "2   01:00:00             14.035200\n",
       "3   01:30:00             13.736485\n",
       "4   02:00:00             13.389943\n",
       "5   02:30:00             13.186770\n",
       "6   03:00:00             12.768177\n",
       "7   03:30:00             12.642261\n",
       "8   04:00:00             11.807121\n",
       "9   04:30:00             12.408647\n",
       "10  05:00:00             12.404827\n",
       "11  05:30:00             12.349058\n",
       "12  06:00:00             12.471197\n",
       "13  06:30:00             12.779607\n",
       "14  07:00:00             13.575621\n",
       "15  07:30:00             14.304469\n",
       "16  08:00:00             15.426278\n",
       "17  08:30:00             16.184114\n",
       "18  09:00:00             16.990755\n",
       "19  09:30:00             17.512380\n",
       "20  10:00:00             18.102200\n",
       "21  10:30:00             18.386415\n",
       "22  11:00:00             18.693248\n",
       "23  11:30:00             18.834691\n",
       "24  12:00:00             18.975363\n",
       "25  12:30:00             19.041281\n",
       "26  13:00:00             19.067316\n",
       "27  13:30:00             19.050664\n",
       "28  14:00:00             18.895720\n",
       "29  14:30:00             18.799292\n",
       "30  15:00:00             18.676133\n",
       "31  15:30:00             18.583249\n",
       "32  16:00:00             18.670113\n",
       "33  16:30:00             18.797544\n",
       "34  17:00:00             19.133579\n",
       "35  17:30:00             19.384899\n",
       "36  18:00:00             19.698142\n",
       "37  18:30:00             19.807648\n",
       "38  19:00:00             19.692919\n",
       "39  19:30:00             19.562482\n",
       "40  20:00:00             19.258424\n",
       "41  20:30:00             19.023826\n",
       "42  21:00:00             18.630606\n",
       "43  21:30:00             18.319911\n",
       "44  22:00:00             17.718458\n",
       "45  22:30:00             17.249849\n",
       "46  23:00:00             16.413470\n",
       "47  23:30:00             15.917027"
      ]
     },
     "execution_count": 152,
     "metadata": {},
     "output_type": "execute_result"
    }
   ],
   "source": [
    "df_flow_hr = df_flow_m.groupby('time')['underlying_demand_mw'].mean().reset_index()\n",
    "df_flow_hr"
   ]
  },
  {
   "cell_type": "code",
   "execution_count": 153,
   "metadata": {},
   "outputs": [
    {
     "data": {
      "image/png": "[encoded data removed]",
      "text/plain": [
       "<Figure size 1152x432 with 1 Axes>"
      ]
     },
     "metadata": {
      "needs_background": "light"
     },
     "output_type": "display_data"
    }
   ],
   "source": [
    "import matplotlib.pyplot as plt\n",
    "\n",
    "plt.figure(figsize=(16, 6))  # Set plot size\n",
    "plt.plot(df_flow_hr['time'].astype('str'), df_flow_hr['underlying_demand_mw'], marker='o')\n",
    "plt.xlabel('Time')\n",
    "plt.ylabel('Total Flow (MW)')\n",
    "plt.title('Half Hourly Flow')\n",
    "plt.xticks(rotation=45)  # Rotate x-axis labels for better readability\n",
    "plt.grid(True)\n",
    "plt.tight_layout()"
   ]
  },
  {
   "cell_type": "markdown",
   "metadata": {},
   "source": [
    "## Daily"
   ]
  },
  {
   "cell_type": "code",
   "execution_count": 154,
   "metadata": {},
   "outputs": [
    {
     "data": {
      "text/html": [
       "<div>\n",
       "<style scoped>\n",
       "    .dataframe tbody tr th:only-of-type {\n",
       "        vertical-align: middle;\n",
       "    }\n",
       "\n",
       "    .dataframe tbody tr th {\n",
       "        vertical-align: top;\n",
       "    }\n",
       "\n",
       "    .dataframe thead th {\n",
       "        text-align: right;\n",
       "    }\n",
       "</style>\n",
       "<table border=\"1\" class=\"dataframe\">\n",
       "  <thead>\n",
       "    <tr style=\"text-align: right;\">\n",
       "      <th></th>\n",
       "      <th>date</th>\n",
       "      <th>max</th>\n",
       "      <th>min</th>\n",
       "    </tr>\n",
       "  </thead>\n",
       "  <tbody>\n",
       "    <tr>\n",
       "      <th>0</th>\n",
       "      <td>2023-09-01</td>\n",
       "      <td>230.777</td>\n",
       "      <td>0.000</td>\n",
       "    </tr>\n",
       "    <tr>\n",
       "      <th>1</th>\n",
       "      <td>2023-09-02</td>\n",
       "      <td>213.173</td>\n",
       "      <td>0.000</td>\n",
       "    </tr>\n",
       "    <tr>\n",
       "      <th>2</th>\n",
       "      <td>2023-09-03</td>\n",
       "      <td>225.336</td>\n",
       "      <td>0.000</td>\n",
       "    </tr>\n",
       "    <tr>\n",
       "      <th>3</th>\n",
       "      <td>2023-09-04</td>\n",
       "      <td>240.286</td>\n",
       "      <td>0.000</td>\n",
       "    </tr>\n",
       "    <tr>\n",
       "      <th>4</th>\n",
       "      <td>2023-09-05</td>\n",
       "      <td>251.199</td>\n",
       "      <td>0.000</td>\n",
       "    </tr>\n",
       "    <tr>\n",
       "      <th>...</th>\n",
       "      <td>...</td>\n",
       "      <td>...</td>\n",
       "      <td>...</td>\n",
       "    </tr>\n",
       "    <tr>\n",
       "      <th>369</th>\n",
       "      <td>2024-09-04</td>\n",
       "      <td>240.851</td>\n",
       "      <td>0.000</td>\n",
       "    </tr>\n",
       "    <tr>\n",
       "      <th>370</th>\n",
       "      <td>2024-09-05</td>\n",
       "      <td>237.311</td>\n",
       "      <td>0.000</td>\n",
       "    </tr>\n",
       "    <tr>\n",
       "      <th>371</th>\n",
       "      <td>2024-09-06</td>\n",
       "      <td>224.345</td>\n",
       "      <td>0.000</td>\n",
       "    </tr>\n",
       "    <tr>\n",
       "      <th>372</th>\n",
       "      <td>2024-09-07</td>\n",
       "      <td>206.432</td>\n",
       "      <td>0.000</td>\n",
       "    </tr>\n",
       "    <tr>\n",
       "      <th>373</th>\n",
       "      <td>2024-09-08</td>\n",
       "      <td>178.700</td>\n",
       "      <td>0.086</td>\n",
       "    </tr>\n",
       "  </tbody>\n",
       "</table>\n",
       "<p>374 rows × 3 columns</p>\n",
       "</div>"
      ],
      "text/plain": [
       "          date      max    min\n",
       "0   2023-09-01  230.777  0.000\n",
       "1   2023-09-02  213.173  0.000\n",
       "2   2023-09-03  225.336  0.000\n",
       "3   2023-09-04  240.286  0.000\n",
       "4   2023-09-05  251.199  0.000\n",
       "..         ...      ...    ...\n",
       "369 2024-09-04  240.851  0.000\n",
       "370 2024-09-05  237.311  0.000\n",
       "371 2024-09-06  224.345  0.000\n",
       "372 2024-09-07  206.432  0.000\n",
       "373 2024-09-08  178.700  0.086\n",
       "\n",
       "[374 rows x 3 columns]"
      ]
     },
     "execution_count": 154,
     "metadata": {},
     "output_type": "execute_result"
    }
   ],
   "source": [
    "df_flow_dm = df_flow_m.groupby('date')['underlying_demand_mw'].agg(['max','min']).reset_index()\n",
    "df_flow_dm"
   ]
  },
  {
   "cell_type": "code",
   "execution_count": 155,
   "metadata": {},
   "outputs": [
    {
     "data": {
      "text/html": [
       "<div>\n",
       "<style scoped>\n",
       "    .dataframe tbody tr th:only-of-type {\n",
       "        vertical-align: middle;\n",
       "    }\n",
       "\n",
       "    .dataframe tbody tr th {\n",
       "        vertical-align: top;\n",
       "    }\n",
       "\n",
       "    .dataframe thead th {\n",
       "        text-align: right;\n",
       "    }\n",
       "</style>\n",
       "<table border=\"1\" class=\"dataframe\">\n",
       "  <thead>\n",
       "    <tr style=\"text-align: right;\">\n",
       "      <th></th>\n",
       "      <th>day</th>\n",
       "      <th>underlying_demand_mw</th>\n",
       "    </tr>\n",
       "  </thead>\n",
       "  <tbody>\n",
       "    <tr>\n",
       "      <th>0</th>\n",
       "      <td>Friday</td>\n",
       "      <td>72948.340889</td>\n",
       "    </tr>\n",
       "    <tr>\n",
       "      <th>1</th>\n",
       "      <td>Monday</td>\n",
       "      <td>73357.682302</td>\n",
       "    </tr>\n",
       "    <tr>\n",
       "      <th>2</th>\n",
       "      <td>Saturday</td>\n",
       "      <td>69304.351685</td>\n",
       "    </tr>\n",
       "    <tr>\n",
       "      <th>3</th>\n",
       "      <td>Sunday</td>\n",
       "      <td>66086.039037</td>\n",
       "    </tr>\n",
       "    <tr>\n",
       "      <th>4</th>\n",
       "      <td>Thursday</td>\n",
       "      <td>74703.813943</td>\n",
       "    </tr>\n",
       "    <tr>\n",
       "      <th>5</th>\n",
       "      <td>Tuesday</td>\n",
       "      <td>74740.576962</td>\n",
       "    </tr>\n",
       "    <tr>\n",
       "      <th>6</th>\n",
       "      <td>Wednesday</td>\n",
       "      <td>75221.685623</td>\n",
       "    </tr>\n",
       "  </tbody>\n",
       "</table>\n",
       "</div>"
      ],
      "text/plain": [
       "         day  underlying_demand_mw\n",
       "0     Friday          72948.340889\n",
       "1     Monday          73357.682302\n",
       "2   Saturday          69304.351685\n",
       "3     Sunday          66086.039037\n",
       "4   Thursday          74703.813943\n",
       "5    Tuesday          74740.576962\n",
       "6  Wednesday          75221.685623"
      ]
     },
     "execution_count": 155,
     "metadata": {},
     "output_type": "execute_result"
    }
   ],
   "source": [
    "df_flow_dl = df_flow_m.groupby('date')['underlying_demand_mw'].sum().reset_index()\n",
    "df_flow_dl['day'] = df_flow_dl['date'].dt.day_name()\n",
    "df_flow_dl = df_flow_dl.groupby('day').mean().reset_index()\n",
    "df_flow_dl"
   ]
  },
  {
   "cell_type": "code",
   "execution_count": 156,
   "metadata": {},
   "outputs": [
    {
     "data": {
      "image/png": "[encoded data removed]",
      "text/plain": [
       "<Figure size 1080x432 with 1 Axes>"
      ]
     },
     "metadata": {
      "needs_background": "light"
     },
     "output_type": "display_data"
    }
   ],
   "source": [
    "plt.figure(figsize=(15, 6))\n",
    "plt.plot(df_flow_dl['day'], df_flow_dl['underlying_demand_mw'], marker='o')\n",
    "plt.xlabel('Day')\n",
    "plt.ylabel('Flow (MW)')\n",
    "plt.title('Average Daily Flow')\n",
    "plt.xticks(rotation=45)\n",
    "plt.grid(True)\n",
    "plt.tight_layout()\n",
    "plt.show()"
   ]
  },
  {
   "cell_type": "markdown",
   "metadata": {},
   "source": [
    "## Weekly"
   ]
  },
  {
   "cell_type": "code",
   "execution_count": 157,
   "metadata": {},
   "outputs": [
    {
     "data": {
      "text/html": [
       "<div>\n",
       "<style scoped>\n",
       "    .dataframe tbody tr th:only-of-type {\n",
       "        vertical-align: middle;\n",
       "    }\n",
       "\n",
       "    .dataframe tbody tr th {\n",
       "        vertical-align: top;\n",
       "    }\n",
       "\n",
       "    .dataframe thead th {\n",
       "        text-align: right;\n",
       "    }\n",
       "</style>\n",
       "<table border=\"1\" class=\"dataframe\">\n",
       "  <thead>\n",
       "    <tr style=\"text-align: right;\">\n",
       "      <th></th>\n",
       "      <th>date</th>\n",
       "      <th>underlying_demand_mw</th>\n",
       "    </tr>\n",
       "  </thead>\n",
       "  <tbody>\n",
       "    <tr>\n",
       "      <th>0</th>\n",
       "      <td>2023-09-07</td>\n",
       "      <td>476668.815</td>\n",
       "    </tr>\n",
       "    <tr>\n",
       "      <th>1</th>\n",
       "      <td>2023-09-14</td>\n",
       "      <td>475369.843</td>\n",
       "    </tr>\n",
       "    <tr>\n",
       "      <th>2</th>\n",
       "      <td>2023-09-21</td>\n",
       "      <td>461524.482</td>\n",
       "    </tr>\n",
       "    <tr>\n",
       "      <th>3</th>\n",
       "      <td>2023-09-28</td>\n",
       "      <td>468199.587</td>\n",
       "    </tr>\n",
       "    <tr>\n",
       "      <th>4</th>\n",
       "      <td>2023-10-05</td>\n",
       "      <td>485195.626</td>\n",
       "    </tr>\n",
       "    <tr>\n",
       "      <th>5</th>\n",
       "      <td>2023-10-12</td>\n",
       "      <td>490623.364</td>\n",
       "    </tr>\n",
       "    <tr>\n",
       "      <th>6</th>\n",
       "      <td>2023-10-19</td>\n",
       "      <td>562384.363</td>\n",
       "    </tr>\n",
       "    <tr>\n",
       "      <th>7</th>\n",
       "      <td>2023-10-26</td>\n",
       "      <td>554828.700</td>\n",
       "    </tr>\n",
       "    <tr>\n",
       "      <th>8</th>\n",
       "      <td>2023-11-02</td>\n",
       "      <td>548257.900</td>\n",
       "    </tr>\n",
       "    <tr>\n",
       "      <th>9</th>\n",
       "      <td>2023-11-09</td>\n",
       "      <td>534512.294</td>\n",
       "    </tr>\n",
       "    <tr>\n",
       "      <th>10</th>\n",
       "      <td>2023-11-16</td>\n",
       "      <td>553631.388</td>\n",
       "    </tr>\n",
       "    <tr>\n",
       "      <th>11</th>\n",
       "      <td>2023-11-23</td>\n",
       "      <td>549479.706</td>\n",
       "    </tr>\n",
       "    <tr>\n",
       "      <th>12</th>\n",
       "      <td>2023-11-30</td>\n",
       "      <td>597314.578</td>\n",
       "    </tr>\n",
       "    <tr>\n",
       "      <th>13</th>\n",
       "      <td>2023-12-07</td>\n",
       "      <td>632846.720</td>\n",
       "    </tr>\n",
       "    <tr>\n",
       "      <th>14</th>\n",
       "      <td>2023-12-14</td>\n",
       "      <td>592861.088</td>\n",
       "    </tr>\n",
       "    <tr>\n",
       "      <th>15</th>\n",
       "      <td>2023-12-21</td>\n",
       "      <td>571266.269</td>\n",
       "    </tr>\n",
       "    <tr>\n",
       "      <th>16</th>\n",
       "      <td>2023-12-28</td>\n",
       "      <td>506912.147</td>\n",
       "    </tr>\n",
       "    <tr>\n",
       "      <th>17</th>\n",
       "      <td>2024-01-04</td>\n",
       "      <td>537737.595</td>\n",
       "    </tr>\n",
       "    <tr>\n",
       "      <th>18</th>\n",
       "      <td>2024-01-11</td>\n",
       "      <td>613791.986</td>\n",
       "    </tr>\n",
       "    <tr>\n",
       "      <th>19</th>\n",
       "      <td>2024-01-18</td>\n",
       "      <td>629525.599</td>\n",
       "    </tr>\n",
       "    <tr>\n",
       "      <th>20</th>\n",
       "      <td>2024-01-25</td>\n",
       "      <td>605158.132</td>\n",
       "    </tr>\n",
       "    <tr>\n",
       "      <th>21</th>\n",
       "      <td>2024-02-01</td>\n",
       "      <td>590686.592</td>\n",
       "    </tr>\n",
       "    <tr>\n",
       "      <th>22</th>\n",
       "      <td>2024-02-08</td>\n",
       "      <td>581911.082</td>\n",
       "    </tr>\n",
       "    <tr>\n",
       "      <th>23</th>\n",
       "      <td>2024-02-15</td>\n",
       "      <td>585457.111</td>\n",
       "    </tr>\n",
       "    <tr>\n",
       "      <th>24</th>\n",
       "      <td>2024-02-22</td>\n",
       "      <td>547940.181</td>\n",
       "    </tr>\n",
       "    <tr>\n",
       "      <th>25</th>\n",
       "      <td>2024-02-29</td>\n",
       "      <td>578990.882</td>\n",
       "    </tr>\n",
       "    <tr>\n",
       "      <th>26</th>\n",
       "      <td>2024-03-07</td>\n",
       "      <td>578879.168</td>\n",
       "    </tr>\n",
       "    <tr>\n",
       "      <th>27</th>\n",
       "      <td>2024-03-14</td>\n",
       "      <td>567237.528</td>\n",
       "    </tr>\n",
       "    <tr>\n",
       "      <th>28</th>\n",
       "      <td>2024-03-21</td>\n",
       "      <td>539206.557</td>\n",
       "    </tr>\n",
       "    <tr>\n",
       "      <th>29</th>\n",
       "      <td>2024-03-28</td>\n",
       "      <td>540766.446</td>\n",
       "    </tr>\n",
       "    <tr>\n",
       "      <th>30</th>\n",
       "      <td>2024-04-04</td>\n",
       "      <td>497829.103</td>\n",
       "    </tr>\n",
       "    <tr>\n",
       "      <th>31</th>\n",
       "      <td>2024-04-11</td>\n",
       "      <td>514141.767</td>\n",
       "    </tr>\n",
       "    <tr>\n",
       "      <th>32</th>\n",
       "      <td>2024-04-18</td>\n",
       "      <td>512594.627</td>\n",
       "    </tr>\n",
       "    <tr>\n",
       "      <th>33</th>\n",
       "      <td>2024-04-25</td>\n",
       "      <td>495194.844</td>\n",
       "    </tr>\n",
       "    <tr>\n",
       "      <th>34</th>\n",
       "      <td>2024-05-02</td>\n",
       "      <td>487251.528</td>\n",
       "    </tr>\n",
       "    <tr>\n",
       "      <th>35</th>\n",
       "      <td>2024-05-09</td>\n",
       "      <td>457608.349</td>\n",
       "    </tr>\n",
       "    <tr>\n",
       "      <th>36</th>\n",
       "      <td>2024-05-16</td>\n",
       "      <td>458078.372</td>\n",
       "    </tr>\n",
       "    <tr>\n",
       "      <th>37</th>\n",
       "      <td>2024-05-23</td>\n",
       "      <td>461271.288</td>\n",
       "    </tr>\n",
       "    <tr>\n",
       "      <th>38</th>\n",
       "      <td>2024-05-30</td>\n",
       "      <td>388282.619</td>\n",
       "    </tr>\n",
       "    <tr>\n",
       "      <th>39</th>\n",
       "      <td>2024-06-06</td>\n",
       "      <td>446277.107</td>\n",
       "    </tr>\n",
       "    <tr>\n",
       "      <th>40</th>\n",
       "      <td>2024-06-13</td>\n",
       "      <td>450483.006</td>\n",
       "    </tr>\n",
       "    <tr>\n",
       "      <th>41</th>\n",
       "      <td>2024-06-20</td>\n",
       "      <td>406011.683</td>\n",
       "    </tr>\n",
       "    <tr>\n",
       "      <th>42</th>\n",
       "      <td>2024-06-27</td>\n",
       "      <td>416882.725</td>\n",
       "    </tr>\n",
       "    <tr>\n",
       "      <th>43</th>\n",
       "      <td>2024-07-04</td>\n",
       "      <td>442133.475</td>\n",
       "    </tr>\n",
       "    <tr>\n",
       "      <th>44</th>\n",
       "      <td>2024-07-11</td>\n",
       "      <td>446184.092</td>\n",
       "    </tr>\n",
       "    <tr>\n",
       "      <th>45</th>\n",
       "      <td>2024-07-18</td>\n",
       "      <td>448206.046</td>\n",
       "    </tr>\n",
       "    <tr>\n",
       "      <th>46</th>\n",
       "      <td>2024-07-25</td>\n",
       "      <td>406374.673</td>\n",
       "    </tr>\n",
       "    <tr>\n",
       "      <th>47</th>\n",
       "      <td>2024-08-01</td>\n",
       "      <td>429861.088</td>\n",
       "    </tr>\n",
       "    <tr>\n",
       "      <th>48</th>\n",
       "      <td>2024-08-08</td>\n",
       "      <td>443402.515</td>\n",
       "    </tr>\n",
       "    <tr>\n",
       "      <th>49</th>\n",
       "      <td>2024-08-15</td>\n",
       "      <td>432392.474</td>\n",
       "    </tr>\n",
       "    <tr>\n",
       "      <th>50</th>\n",
       "      <td>2024-08-22</td>\n",
       "      <td>434050.047</td>\n",
       "    </tr>\n",
       "    <tr>\n",
       "      <th>51</th>\n",
       "      <td>2024-08-29</td>\n",
       "      <td>430185.468</td>\n",
       "    </tr>\n",
       "    <tr>\n",
       "      <th>52</th>\n",
       "      <td>2024-09-05</td>\n",
       "      <td>445673.417</td>\n",
       "    </tr>\n",
       "    <tr>\n",
       "      <th>53</th>\n",
       "      <td>2024-09-12</td>\n",
       "      <td>136014.683</td>\n",
       "    </tr>\n",
       "  </tbody>\n",
       "</table>\n",
       "</div>"
      ],
      "text/plain": [
       "         date  underlying_demand_mw\n",
       "0  2023-09-07            476668.815\n",
       "1  2023-09-14            475369.843\n",
       "2  2023-09-21            461524.482\n",
       "3  2023-09-28            468199.587\n",
       "4  2023-10-05            485195.626\n",
       "5  2023-10-12            490623.364\n",
       "6  2023-10-19            562384.363\n",
       "7  2023-10-26            554828.700\n",
       "8  2023-11-02            548257.900\n",
       "9  2023-11-09            534512.294\n",
       "10 2023-11-16            553631.388\n",
       "11 2023-11-23            549479.706\n",
       "12 2023-11-30            597314.578\n",
       "13 2023-12-07            632846.720\n",
       "14 2023-12-14            592861.088\n",
       "15 2023-12-21            571266.269\n",
       "16 2023-12-28            506912.147\n",
       "17 2024-01-04            537737.595\n",
       "18 2024-01-11            613791.986\n",
       "19 2024-01-18            629525.599\n",
       "20 2024-01-25            605158.132\n",
       "21 2024-02-01            590686.592\n",
       "22 2024-02-08            581911.082\n",
       "23 2024-02-15            585457.111\n",
       "24 2024-02-22            547940.181\n",
       "25 2024-02-29            578990.882\n",
       "26 2024-03-07            578879.168\n",
       "27 2024-03-14            567237.528\n",
       "28 2024-03-21            539206.557\n",
       "29 2024-03-28            540766.446\n",
       "30 2024-04-04            497829.103\n",
       "31 2024-04-11            514141.767\n",
       "32 2024-04-18            512594.627\n",
       "33 2024-04-25            495194.844\n",
       "34 2024-05-02            487251.528\n",
       "35 2024-05-09            457608.349\n",
       "36 2024-05-16            458078.372\n",
       "37 2024-05-23            461271.288\n",
       "38 2024-05-30            388282.619\n",
       "39 2024-06-06            446277.107\n",
       "40 2024-06-13            450483.006\n",
       "41 2024-06-20            406011.683\n",
       "42 2024-06-27            416882.725\n",
       "43 2024-07-04            442133.475\n",
       "44 2024-07-11            446184.092\n",
       "45 2024-07-18            448206.046\n",
       "46 2024-07-25            406374.673\n",
       "47 2024-08-01            429861.088\n",
       "48 2024-08-08            443402.515\n",
       "49 2024-08-15            432392.474\n",
       "50 2024-08-22            434050.047\n",
       "51 2024-08-29            430185.468\n",
       "52 2024-09-05            445673.417\n",
       "53 2024-09-12            136014.683"
      ]
     },
     "execution_count": 157,
     "metadata": {},
     "output_type": "execute_result"
    }
   ],
   "source": [
    "df_flow_wk = df_flow_m.resample('W-THU', on='date')['underlying_demand_mw'].sum().reset_index()\n",
    "df_flow_wk"
   ]
  },
  {
   "cell_type": "code",
   "execution_count": 158,
   "metadata": {},
   "outputs": [
    {
     "data": {
      "image/png": "[encoded data removed]",
      "text/plain": [
       "<Figure size 1080x432 with 1 Axes>"
      ]
     },
     "metadata": {
      "needs_background": "light"
     },
     "output_type": "display_data"
    }
   ],
   "source": [
    "plt.figure(figsize=(15, 6))\n",
    "plt.plot(df_flow_wk.index[:-1] + 1, df_flow_wk['underlying_demand_mw'][:-1], marker='o') # cut last week as not full 7 days\n",
    "plt.xlabel('Week')\n",
    "plt.ylabel('Total Flow (MW)')\n",
    "plt.title('Weekly Flow')\n",
    "plt.xticks(rotation=45)\n",
    "plt.grid(True)\n",
    "plt.tight_layout()\n",
    "plt.show()"
   ]
  },
  {
   "cell_type": "markdown",
   "metadata": {},
   "source": [
    "## Monthly"
   ]
  },
  {
   "cell_type": "code",
   "execution_count": 159,
   "metadata": {},
   "outputs": [
    {
     "data": {
      "text/html": [
       "<div>\n",
       "<style scoped>\n",
       "    .dataframe tbody tr th:only-of-type {\n",
       "        vertical-align: middle;\n",
       "    }\n",
       "\n",
       "    .dataframe tbody tr th {\n",
       "        vertical-align: top;\n",
       "    }\n",
       "\n",
       "    .dataframe thead th {\n",
       "        text-align: right;\n",
       "    }\n",
       "</style>\n",
       "<table border=\"1\" class=\"dataframe\">\n",
       "  <thead>\n",
       "    <tr style=\"text-align: right;\">\n",
       "      <th></th>\n",
       "      <th>date</th>\n",
       "      <th>underlying_demand_mw</th>\n",
       "      <th>month</th>\n",
       "    </tr>\n",
       "  </thead>\n",
       "  <tbody>\n",
       "    <tr>\n",
       "      <th>0</th>\n",
       "      <td>2023-09-30</td>\n",
       "      <td>2014541.914</td>\n",
       "      <td>September-2023</td>\n",
       "    </tr>\n",
       "    <tr>\n",
       "      <th>1</th>\n",
       "      <td>2023-10-31</td>\n",
       "      <td>2336367.479</td>\n",
       "      <td>October-2023</td>\n",
       "    </tr>\n",
       "    <tr>\n",
       "      <th>2</th>\n",
       "      <td>2023-11-30</td>\n",
       "      <td>2407081.253</td>\n",
       "      <td>November-2023</td>\n",
       "    </tr>\n",
       "    <tr>\n",
       "      <th>3</th>\n",
       "      <td>2023-12-31</td>\n",
       "      <td>2525206.691</td>\n",
       "      <td>December-2023</td>\n",
       "    </tr>\n",
       "    <tr>\n",
       "      <th>4</th>\n",
       "      <td>2024-01-31</td>\n",
       "      <td>2667215.128</td>\n",
       "      <td>January-2024</td>\n",
       "    </tr>\n",
       "    <tr>\n",
       "      <th>5</th>\n",
       "      <td>2024-02-29</td>\n",
       "      <td>2382663.565</td>\n",
       "      <td>February-2024</td>\n",
       "    </tr>\n",
       "    <tr>\n",
       "      <th>6</th>\n",
       "      <td>2024-03-31</td>\n",
       "      <td>2427345.174</td>\n",
       "      <td>March-2024</td>\n",
       "    </tr>\n",
       "    <tr>\n",
       "      <th>7</th>\n",
       "      <td>2024-04-30</td>\n",
       "      <td>2169580.094</td>\n",
       "      <td>April-2024</td>\n",
       "    </tr>\n",
       "    <tr>\n",
       "      <th>8</th>\n",
       "      <td>2024-05-31</td>\n",
       "      <td>1964710.552</td>\n",
       "      <td>May-2024</td>\n",
       "    </tr>\n",
       "    <tr>\n",
       "      <th>9</th>\n",
       "      <td>2024-06-30</td>\n",
       "      <td>1836110.774</td>\n",
       "      <td>June-2024</td>\n",
       "    </tr>\n",
       "    <tr>\n",
       "      <th>10</th>\n",
       "      <td>2024-07-31</td>\n",
       "      <td>1929929.095</td>\n",
       "      <td>July-2024</td>\n",
       "    </tr>\n",
       "    <tr>\n",
       "      <th>11</th>\n",
       "      <td>2024-08-31</td>\n",
       "      <td>1924677.668</td>\n",
       "      <td>August-2024</td>\n",
       "    </tr>\n",
       "    <tr>\n",
       "      <th>12</th>\n",
       "      <td>2024-09-30</td>\n",
       "      <td>460121.338</td>\n",
       "      <td>September-2024</td>\n",
       "    </tr>\n",
       "  </tbody>\n",
       "</table>\n",
       "</div>"
      ],
      "text/plain": [
       "         date  underlying_demand_mw           month\n",
       "0  2023-09-30           2014541.914  September-2023\n",
       "1  2023-10-31           2336367.479    October-2023\n",
       "2  2023-11-30           2407081.253   November-2023\n",
       "3  2023-12-31           2525206.691   December-2023\n",
       "4  2024-01-31           2667215.128    January-2024\n",
       "5  2024-02-29           2382663.565   February-2024\n",
       "6  2024-03-31           2427345.174      March-2024\n",
       "7  2024-04-30           2169580.094      April-2024\n",
       "8  2024-05-31           1964710.552        May-2024\n",
       "9  2024-06-30           1836110.774       June-2024\n",
       "10 2024-07-31           1929929.095       July-2024\n",
       "11 2024-08-31           1924677.668     August-2024\n",
       "12 2024-09-30            460121.338  September-2024"
      ]
     },
     "execution_count": 159,
     "metadata": {},
     "output_type": "execute_result"
    }
   ],
   "source": [
    "df_flow_ml = df_flow_m.resample('M', on='date')['underlying_demand_mw'].sum().reset_index().assign(month = lambda x:x.date.dt.month_name() + '-' + x.date.astype(str).str[:4])\n",
    "df_flow_ml"
   ]
  },
  {
   "cell_type": "code",
   "execution_count": 160,
   "metadata": {},
   "outputs": [
    {
     "data": {
      "image/png": "[encoded data removed]",
      "text/plain": [
       "<Figure size 720x432 with 1 Axes>"
      ]
     },
     "metadata": {
      "needs_background": "light"
     },
     "output_type": "display_data"
    }
   ],
   "source": [
    "plt.figure(figsize=(10, 6))  # Set plot size\n",
    "plt.plot(df_flow_ml['month'][:-1], df_flow_ml['underlying_demand_mw'][:-1], marker='o') # cut last month as not full 30 days\n",
    "plt.xlabel('Month')\n",
    "plt.ylabel('Total Flow (millions of MW)')\n",
    "plt.title('Monthly Flow')\n",
    "plt.xticks(rotation=45)  # Rotate x-axis labels for better readability\n",
    "plt.grid(True)\n",
    "plt.tight_layout()\n",
    "plt.show()"
   ]
  },
  {
   "cell_type": "markdown",
   "metadata": {},
   "source": [
    "# Cluster to find grid group centres"
   ]
  },
  {
   "cell_type": "code",
   "execution_count": 161,
   "metadata": {},
   "outputs": [
    {
     "name": "stderr",
     "output_type": "stream",
     "text": [
      "/Library/Frameworks/Python.framework/Versions/3.10/lib/python3.10/site-packages/sklearn/cluster/_kmeans.py:1416: FutureWarning:\n",
      "\n",
      "The default value of `n_init` will change from 10 to 'auto' in 1.4. Set the value of `n_init` explicitly to suppress the warning\n",
      "\n",
      "/Library/Frameworks/Python.framework/Versions/3.10/lib/python3.10/site-packages/sklearn/cluster/_kmeans.py:1416: FutureWarning:\n",
      "\n",
      "The default value of `n_init` will change from 10 to 'auto' in 1.4. Set the value of `n_init` explicitly to suppress the warning\n",
      "\n",
      "/Library/Frameworks/Python.framework/Versions/3.10/lib/python3.10/site-packages/sklearn/cluster/_kmeans.py:1416: FutureWarning:\n",
      "\n",
      "The default value of `n_init` will change from 10 to 'auto' in 1.4. Set the value of `n_init` explicitly to suppress the warning\n",
      "\n",
      "/Library/Frameworks/Python.framework/Versions/3.10/lib/python3.10/site-packages/sklearn/cluster/_kmeans.py:1416: FutureWarning:\n",
      "\n",
      "The default value of `n_init` will change from 10 to 'auto' in 1.4. Set the value of `n_init` explicitly to suppress the warning\n",
      "\n",
      "/Library/Frameworks/Python.framework/Versions/3.10/lib/python3.10/site-packages/sklearn/cluster/_kmeans.py:1416: FutureWarning:\n",
      "\n",
      "The default value of `n_init` will change from 10 to 'auto' in 1.4. Set the value of `n_init` explicitly to suppress the warning\n",
      "\n",
      "/Library/Frameworks/Python.framework/Versions/3.10/lib/python3.10/site-packages/sklearn/cluster/_kmeans.py:1416: FutureWarning:\n",
      "\n",
      "The default value of `n_init` will change from 10 to 'auto' in 1.4. Set the value of `n_init` explicitly to suppress the warning\n",
      "\n",
      "/Library/Frameworks/Python.framework/Versions/3.10/lib/python3.10/site-packages/sklearn/cluster/_kmeans.py:1416: FutureWarning:\n",
      "\n",
      "The default value of `n_init` will change from 10 to 'auto' in 1.4. Set the value of `n_init` explicitly to suppress the warning\n",
      "\n",
      "/Library/Frameworks/Python.framework/Versions/3.10/lib/python3.10/site-packages/sklearn/cluster/_kmeans.py:1416: FutureWarning:\n",
      "\n",
      "The default value of `n_init` will change from 10 to 'auto' in 1.4. Set the value of `n_init` explicitly to suppress the warning\n",
      "\n",
      "/Library/Frameworks/Python.framework/Versions/3.10/lib/python3.10/site-packages/sklearn/cluster/_kmeans.py:1416: FutureWarning:\n",
      "\n",
      "The default value of `n_init` will change from 10 to 'auto' in 1.4. Set the value of `n_init` explicitly to suppress the warning\n",
      "\n",
      "/Library/Frameworks/Python.framework/Versions/3.10/lib/python3.10/site-packages/sklearn/cluster/_kmeans.py:1416: FutureWarning:\n",
      "\n",
      "The default value of `n_init` will change from 10 to 'auto' in 1.4. Set the value of `n_init` explicitly to suppress the warning\n",
      "\n",
      "/Library/Frameworks/Python.framework/Versions/3.10/lib/python3.10/site-packages/sklearn/cluster/_kmeans.py:1416: FutureWarning:\n",
      "\n",
      "The default value of `n_init` will change from 10 to 'auto' in 1.4. Set the value of `n_init` explicitly to suppress the warning\n",
      "\n",
      "/Library/Frameworks/Python.framework/Versions/3.10/lib/python3.10/site-packages/sklearn/cluster/_kmeans.py:1416: FutureWarning:\n",
      "\n",
      "The default value of `n_init` will change from 10 to 'auto' in 1.4. Set the value of `n_init` explicitly to suppress the warning\n",
      "\n",
      "/Library/Frameworks/Python.framework/Versions/3.10/lib/python3.10/site-packages/sklearn/cluster/_kmeans.py:1416: FutureWarning:\n",
      "\n",
      "The default value of `n_init` will change from 10 to 'auto' in 1.4. Set the value of `n_init` explicitly to suppress the warning\n",
      "\n",
      "/Library/Frameworks/Python.framework/Versions/3.10/lib/python3.10/site-packages/sklearn/cluster/_kmeans.py:1416: FutureWarning:\n",
      "\n",
      "The default value of `n_init` will change from 10 to 'auto' in 1.4. Set the value of `n_init` explicitly to suppress the warning\n",
      "\n"
     ]
    },
    {
     "data": {
      "text/html": [
       "<div>\n",
       "<style scoped>\n",
       "    .dataframe tbody tr th:only-of-type {\n",
       "        vertical-align: middle;\n",
       "    }\n",
       "\n",
       "    .dataframe tbody tr th {\n",
       "        vertical-align: top;\n",
       "    }\n",
       "\n",
       "    .dataframe thead th {\n",
       "        text-align: right;\n",
       "    }\n",
       "</style>\n",
       "<table border=\"1\" class=\"dataframe\">\n",
       "  <thead>\n",
       "    <tr style=\"text-align: right;\">\n",
       "      <th></th>\n",
       "      <th>Substation Name</th>\n",
       "      <th>Grid Group</th>\n",
       "      <th>Firm Capacity (MVA)</th>\n",
       "      <th>Maximum Load (MVA)</th>\n",
       "      <th>Overall Category</th>\n",
       "      <th>X</th>\n",
       "      <th>Y</th>\n",
       "      <th>long</th>\n",
       "      <th>lat</th>\n",
       "      <th>lat_group</th>\n",
       "      <th>long_group</th>\n",
       "      <th>distance</th>\n",
       "    </tr>\n",
       "  </thead>\n",
       "  <tbody>\n",
       "    <tr>\n",
       "      <th>0</th>\n",
       "      <td>DICKINSONS</td>\n",
       "      <td>GILLMOSS GT1 / KIRKBY GT2 / SIMONSWOOD GT1</td>\n",
       "      <td>30.0</td>\n",
       "      <td>14.71</td>\n",
       "      <td>RED</td>\n",
       "      <td>342713.8240</td>\n",
       "      <td>398255.232</td>\n",
       "      <td>-2.868960</td>\n",
       "      <td>53.479467</td>\n",
       "      <td>53.477579</td>\n",
       "      <td>-2.873767</td>\n",
       "      <td>0.005164</td>\n",
       "    </tr>\n",
       "    <tr>\n",
       "      <th>1</th>\n",
       "      <td>WAVERTREE</td>\n",
       "      <td>GARSTON GT2 / SPEKE GT3 / WAVERTREE GT1A</td>\n",
       "      <td>37.5</td>\n",
       "      <td>18.97</td>\n",
       "      <td>RED</td>\n",
       "      <td>339018.8312</td>\n",
       "      <td>388483.665</td>\n",
       "      <td>-2.920402</td>\n",
       "      <td>53.392115</td>\n",
       "      <td>53.360250</td>\n",
       "      <td>-2.889264</td>\n",
       "      <td>0.044553</td>\n",
       "    </tr>\n",
       "    <tr>\n",
       "      <th>2</th>\n",
       "      <td>AINTREE</td>\n",
       "      <td>AINTREE GT2 / FAZAKERLEY GT1 / GILLMOSS GT2</td>\n",
       "      <td>20.0</td>\n",
       "      <td>11.67</td>\n",
       "      <td>AMBER</td>\n",
       "      <td>336740.4480</td>\n",
       "      <td>398306.688</td>\n",
       "      <td>-2.952121</td>\n",
       "      <td>53.479927</td>\n",
       "      <td>53.464156</td>\n",
       "      <td>-2.930260</td>\n",
       "      <td>0.026956</td>\n",
       "    </tr>\n",
       "    <tr>\n",
       "      <th>3</th>\n",
       "      <td>WAVERTREE VALE</td>\n",
       "      <td>LISTER DV B GT3 / SPARLING ST GT1 / WAVERTREE GT2</td>\n",
       "      <td>17.5</td>\n",
       "      <td>10.12</td>\n",
       "      <td>RED</td>\n",
       "      <td>337981.9520</td>\n",
       "      <td>389512.576</td>\n",
       "      <td>-2.934837</td>\n",
       "      <td>53.401313</td>\n",
       "      <td>53.402274</td>\n",
       "      <td>-2.952653</td>\n",
       "      <td>0.017842</td>\n",
       "    </tr>\n",
       "    <tr>\n",
       "      <th>4</th>\n",
       "      <td>LARK LANE</td>\n",
       "      <td>LISTER DV B GT3 / SPARLING ST GT1 / WAVERTREE GT2</td>\n",
       "      <td>30.0</td>\n",
       "      <td>20.86</td>\n",
       "      <td>RED</td>\n",
       "      <td>337278.9120</td>\n",
       "      <td>387620.384</td>\n",
       "      <td>-2.944624</td>\n",
       "      <td>53.384398</td>\n",
       "      <td>53.402274</td>\n",
       "      <td>-2.952653</td>\n",
       "      <td>0.019596</td>\n",
       "    </tr>\n",
       "  </tbody>\n",
       "</table>\n",
       "</div>"
      ],
      "text/plain": [
       "  Substation Name                                         Grid Group  \\\n",
       "0      DICKINSONS         GILLMOSS GT1 / KIRKBY GT2 / SIMONSWOOD GT1   \n",
       "1       WAVERTREE           GARSTON GT2 / SPEKE GT3 / WAVERTREE GT1A   \n",
       "2         AINTREE        AINTREE GT2 / FAZAKERLEY GT1 / GILLMOSS GT2   \n",
       "3  WAVERTREE VALE  LISTER DV B GT3 / SPARLING ST GT1 / WAVERTREE GT2   \n",
       "4       LARK LANE  LISTER DV B GT3 / SPARLING ST GT1 / WAVERTREE GT2   \n",
       "\n",
       "   Firm Capacity (MVA)  Maximum Load (MVA) Overall Category            X  \\\n",
       "0                 30.0               14.71              RED  342713.8240   \n",
       "1                 37.5               18.97              RED  339018.8312   \n",
       "2                 20.0               11.67            AMBER  336740.4480   \n",
       "3                 17.5               10.12              RED  337981.9520   \n",
       "4                 30.0               20.86              RED  337278.9120   \n",
       "\n",
       "            Y      long        lat  lat_group  long_group  distance  \n",
       "0  398255.232 -2.868960  53.479467  53.477579   -2.873767  0.005164  \n",
       "1  388483.665 -2.920402  53.392115  53.360250   -2.889264  0.044553  \n",
       "2  398306.688 -2.952121  53.479927  53.464156   -2.930260  0.026956  \n",
       "3  389512.576 -2.934837  53.401313  53.402274   -2.952653  0.017842  \n",
       "4  387620.384 -2.944624  53.384398  53.402274   -2.952653  0.019596  "
      ]
     },
     "execution_count": 161,
     "metadata": {},
     "output_type": "execute_result"
    }
   ],
   "source": [
    "for gg in df_sub['Grid Group'].unique():\n",
    "    df = df_sub.query('`Grid Group` == \"' + gg + '\"')[['lat', 'long']]\n",
    "    kmeans = KMeans(n_clusters=1)\n",
    "    kmeans.fit(df)\n",
    "    df_sub.loc[df_sub['Grid Group'] == gg, 'lat_group'] = kmeans.cluster_centers_[0][0]\n",
    "    df_sub.loc[df_sub['Grid Group'] == gg, 'long_group'] = kmeans.cluster_centers_[0][1]\n",
    "df_sub['distance'] = ((df_sub['lat'] - df_sub['lat_group']) **2 + (df_sub['long'] - df_sub['long_group']) **2) **0.5 # euclidean distance\n",
    "df_sub.to_excel('gg.xlsx', index=False)\n",
    "df_sub.head()"
   ]
  },
  {
   "cell_type": "markdown",
   "metadata": {},
   "source": [
    "# flow - substations\n",
    "match capacity (MVA) with flow (MW)"
   ]
  },
  {
   "cell_type": "code",
   "execution_count": 162,
   "metadata": {},
   "outputs": [
    {
     "data": {
      "text/html": [
       "<div>\n",
       "<style scoped>\n",
       "    .dataframe tbody tr th:only-of-type {\n",
       "        vertical-align: middle;\n",
       "    }\n",
       "\n",
       "    .dataframe tbody tr th {\n",
       "        vertical-align: top;\n",
       "    }\n",
       "\n",
       "    .dataframe thead th {\n",
       "        text-align: right;\n",
       "    }\n",
       "</style>\n",
       "<table border=\"1\" class=\"dataframe\">\n",
       "  <thead>\n",
       "    <tr style=\"text-align: right;\">\n",
       "      <th></th>\n",
       "      <th>group_name</th>\n",
       "      <th>net_mw_mean</th>\n",
       "      <th>net_mw_max</th>\n",
       "      <th>net_amps_mean</th>\n",
       "      <th>net_amps_max</th>\n",
       "      <th>net_mvar_mean</th>\n",
       "      <th>net_mvar_max</th>\n",
       "      <th>generation_output_mw_mean</th>\n",
       "      <th>generation_output_mw_max</th>\n",
       "      <th>underlying_demand_mw_mean</th>\n",
       "      <th>underlying_demand_mw_max</th>\n",
       "    </tr>\n",
       "  </thead>\n",
       "  <tbody>\n",
       "    <tr>\n",
       "      <th>0</th>\n",
       "      <td>ACORNFIELD RD T1 / DICKINSONS T1 / HAMMOND RD ...</td>\n",
       "      <td>8.105243</td>\n",
       "      <td>15.288</td>\n",
       "      <td>0.0</td>\n",
       "      <td>0.0</td>\n",
       "      <td>1.432054</td>\n",
       "      <td>4.210</td>\n",
       "      <td>0.000000</td>\n",
       "      <td>0.0</td>\n",
       "      <td>8.105243</td>\n",
       "      <td>15.288</td>\n",
       "    </tr>\n",
       "    <tr>\n",
       "      <th>1</th>\n",
       "      <td>AIGBURTH VALE T1 / IVY AVE T1 / MATHER AVE T1 ...</td>\n",
       "      <td>9.724854</td>\n",
       "      <td>20.424</td>\n",
       "      <td>0.0</td>\n",
       "      <td>0.0</td>\n",
       "      <td>-1.503333</td>\n",
       "      <td>0.166</td>\n",
       "      <td>0.000000</td>\n",
       "      <td>0.0</td>\n",
       "      <td>9.724854</td>\n",
       "      <td>20.424</td>\n",
       "    </tr>\n",
       "    <tr>\n",
       "      <th>2</th>\n",
       "      <td>AINSDALE T1 / PINFOLD LA T1</td>\n",
       "      <td>2.467226</td>\n",
       "      <td>5.668</td>\n",
       "      <td>0.0</td>\n",
       "      <td>0.0</td>\n",
       "      <td>-0.229422</td>\n",
       "      <td>0.242</td>\n",
       "      <td>0.000000</td>\n",
       "      <td>0.0</td>\n",
       "      <td>2.467226</td>\n",
       "      <td>5.668</td>\n",
       "    </tr>\n",
       "    <tr>\n",
       "      <th>3</th>\n",
       "      <td>AINTREE GT1 / FORMBY GT2A / LITHERLAND GT1B</td>\n",
       "      <td>26.751864</td>\n",
       "      <td>48.584</td>\n",
       "      <td>0.0</td>\n",
       "      <td>0.0</td>\n",
       "      <td>-5.708227</td>\n",
       "      <td>2.077</td>\n",
       "      <td>0.000000</td>\n",
       "      <td>0.0</td>\n",
       "      <td>26.751864</td>\n",
       "      <td>48.584</td>\n",
       "    </tr>\n",
       "    <tr>\n",
       "      <th>4</th>\n",
       "      <td>AINTREE GT2 / FAZAKERLEY GT1 / GILLMOSS GT2</td>\n",
       "      <td>30.095884</td>\n",
       "      <td>65.356</td>\n",
       "      <td>0.0</td>\n",
       "      <td>0.0</td>\n",
       "      <td>-5.048644</td>\n",
       "      <td>8.514</td>\n",
       "      <td>0.000000</td>\n",
       "      <td>0.0</td>\n",
       "      <td>30.095884</td>\n",
       "      <td>65.356</td>\n",
       "    </tr>\n",
       "    <tr>\n",
       "      <th>...</th>\n",
       "      <td>...</td>\n",
       "      <td>...</td>\n",
       "      <td>...</td>\n",
       "      <td>...</td>\n",
       "      <td>...</td>\n",
       "      <td>...</td>\n",
       "      <td>...</td>\n",
       "      <td>...</td>\n",
       "      <td>...</td>\n",
       "      <td>...</td>\n",
       "      <td>...</td>\n",
       "    </tr>\n",
       "    <tr>\n",
       "      <th>86</th>\n",
       "      <td>Paddington Place T1 / Paddington Place T2</td>\n",
       "      <td>0.085609</td>\n",
       "      <td>0.086</td>\n",
       "      <td>0.0</td>\n",
       "      <td>0.0</td>\n",
       "      <td>-0.052753</td>\n",
       "      <td>0.026</td>\n",
       "      <td>0.000000</td>\n",
       "      <td>0.0</td>\n",
       "      <td>0.085609</td>\n",
       "      <td>0.086</td>\n",
       "    </tr>\n",
       "    <tr>\n",
       "      <th>87</th>\n",
       "      <td>RAINHILL</td>\n",
       "      <td>183.204562</td>\n",
       "      <td>314.235</td>\n",
       "      <td>0.0</td>\n",
       "      <td>0.0</td>\n",
       "      <td>-79.346309</td>\n",
       "      <td>0.000</td>\n",
       "      <td>-31.569335</td>\n",
       "      <td>-0.0</td>\n",
       "      <td>214.773897</td>\n",
       "      <td>331.875</td>\n",
       "    </tr>\n",
       "    <tr>\n",
       "      <th>88</th>\n",
       "      <td>RAVENHEAD G1A1 / ST HELENS GT1 / WINDLE GT1</td>\n",
       "      <td>19.364394</td>\n",
       "      <td>39.394</td>\n",
       "      <td>0.0</td>\n",
       "      <td>0.0</td>\n",
       "      <td>-0.404820</td>\n",
       "      <td>5.213</td>\n",
       "      <td>-11.700000</td>\n",
       "      <td>-11.7</td>\n",
       "      <td>31.064394</td>\n",
       "      <td>51.094</td>\n",
       "    </tr>\n",
       "    <tr>\n",
       "      <th>89</th>\n",
       "      <td>ROYAL INSURANCE (NEW QUAY) T1 / ROYAL INSURANC...</td>\n",
       "      <td>0.261790</td>\n",
       "      <td>0.455</td>\n",
       "      <td>0.0</td>\n",
       "      <td>0.0</td>\n",
       "      <td>0.028908</td>\n",
       "      <td>0.164</td>\n",
       "      <td>0.000000</td>\n",
       "      <td>0.0</td>\n",
       "      <td>0.261790</td>\n",
       "      <td>0.455</td>\n",
       "    </tr>\n",
       "    <tr>\n",
       "      <th>90</th>\n",
       "      <td>Wavertree Boulevard T1 / Wavertree Boulevard T2</td>\n",
       "      <td>6.350573</td>\n",
       "      <td>14.122</td>\n",
       "      <td>0.0</td>\n",
       "      <td>0.0</td>\n",
       "      <td>22.742176</td>\n",
       "      <td>105.502</td>\n",
       "      <td>0.000000</td>\n",
       "      <td>0.0</td>\n",
       "      <td>6.350573</td>\n",
       "      <td>14.122</td>\n",
       "    </tr>\n",
       "  </tbody>\n",
       "</table>\n",
       "<p>91 rows × 11 columns</p>\n",
       "</div>"
      ],
      "text/plain": [
       "                                           group_name  net_mw_mean  \\\n",
       "0   ACORNFIELD RD T1 / DICKINSONS T1 / HAMMOND RD ...     8.105243   \n",
       "1   AIGBURTH VALE T1 / IVY AVE T1 / MATHER AVE T1 ...     9.724854   \n",
       "2                         AINSDALE T1 / PINFOLD LA T1     2.467226   \n",
       "3         AINTREE GT1 / FORMBY GT2A / LITHERLAND GT1B    26.751864   \n",
       "4         AINTREE GT2 / FAZAKERLEY GT1 / GILLMOSS GT2    30.095884   \n",
       "..                                                ...          ...   \n",
       "86          Paddington Place T1 / Paddington Place T2     0.085609   \n",
       "87                                           RAINHILL   183.204562   \n",
       "88        RAVENHEAD G1A1 / ST HELENS GT1 / WINDLE GT1    19.364394   \n",
       "89  ROYAL INSURANCE (NEW QUAY) T1 / ROYAL INSURANC...     0.261790   \n",
       "90    Wavertree Boulevard T1 / Wavertree Boulevard T2     6.350573   \n",
       "\n",
       "    net_mw_max  net_amps_mean  net_amps_max  net_mvar_mean  net_mvar_max  \\\n",
       "0       15.288            0.0           0.0       1.432054         4.210   \n",
       "1       20.424            0.0           0.0      -1.503333         0.166   \n",
       "2        5.668            0.0           0.0      -0.229422         0.242   \n",
       "3       48.584            0.0           0.0      -5.708227         2.077   \n",
       "4       65.356            0.0           0.0      -5.048644         8.514   \n",
       "..         ...            ...           ...            ...           ...   \n",
       "86       0.086            0.0           0.0      -0.052753         0.026   \n",
       "87     314.235            0.0           0.0     -79.346309         0.000   \n",
       "88      39.394            0.0           0.0      -0.404820         5.213   \n",
       "89       0.455            0.0           0.0       0.028908         0.164   \n",
       "90      14.122            0.0           0.0      22.742176       105.502   \n",
       "\n",
       "    generation_output_mw_mean  generation_output_mw_max  \\\n",
       "0                    0.000000                       0.0   \n",
       "1                    0.000000                       0.0   \n",
       "2                    0.000000                       0.0   \n",
       "3                    0.000000                       0.0   \n",
       "4                    0.000000                       0.0   \n",
       "..                        ...                       ...   \n",
       "86                   0.000000                       0.0   \n",
       "87                 -31.569335                      -0.0   \n",
       "88                 -11.700000                     -11.7   \n",
       "89                   0.000000                       0.0   \n",
       "90                   0.000000                       0.0   \n",
       "\n",
       "    underlying_demand_mw_mean  underlying_demand_mw_max  \n",
       "0                    8.105243                    15.288  \n",
       "1                    9.724854                    20.424  \n",
       "2                    2.467226                     5.668  \n",
       "3                   26.751864                    48.584  \n",
       "4                   30.095884                    65.356  \n",
       "..                        ...                       ...  \n",
       "86                   0.085609                     0.086  \n",
       "87                 214.773897                   331.875  \n",
       "88                  31.064394                    51.094  \n",
       "89                   0.261790                     0.455  \n",
       "90                   6.350573                    14.122  \n",
       "\n",
       "[91 rows x 11 columns]"
      ]
     },
     "execution_count": 162,
     "metadata": {},
     "output_type": "execute_result"
    }
   ],
   "source": [
    "def __my_flatten_cols(self, how=\"_\".join, reset_index=True): # define helper function as method to \n",
    "    how = (lambda iter: list(iter)[-1]) if how == \"last\" else how\n",
    "    self.columns = [how(filter(None, map(str, levels))) for levels in self.columns.values] \\\n",
    "                    if isinstance(self.columns, pd.MultiIndex) else self.columns\n",
    "    return self.reset_index() if reset_index else self\n",
    "pd.DataFrame.my_flatten_cols = __my_flatten_cols\n",
    "\n",
    "df_flow_sub = df_flow_m.groupby('group_name')[['net_mw', 'net_amps', 'net_mvar', 'generation_output_mw', 'underlying_demand_mw']].agg(['mean', 'max'])\n",
    "df_flow_sub.my_flatten_cols()"
   ]
  },
  {
   "cell_type": "code",
   "execution_count": 163,
   "metadata": {},
   "outputs": [
    {
     "data": {
      "text/html": [
       "<div>\n",
       "<style scoped>\n",
       "    .dataframe tbody tr th:only-of-type {\n",
       "        vertical-align: middle;\n",
       "    }\n",
       "\n",
       "    .dataframe tbody tr th {\n",
       "        vertical-align: top;\n",
       "    }\n",
       "\n",
       "    .dataframe thead th {\n",
       "        text-align: right;\n",
       "    }\n",
       "</style>\n",
       "<table border=\"1\" class=\"dataframe\">\n",
       "  <thead>\n",
       "    <tr style=\"text-align: right;\">\n",
       "      <th></th>\n",
       "      <th>Grid Group</th>\n",
       "      <th>lat_group</th>\n",
       "      <th>long_group</th>\n",
       "      <th>group_name</th>\n",
       "      <th>net_mw_mean</th>\n",
       "      <th>net_mw_max</th>\n",
       "      <th>net_amps_mean</th>\n",
       "      <th>net_amps_max</th>\n",
       "      <th>net_mvar_mean</th>\n",
       "      <th>net_mvar_max</th>\n",
       "      <th>generation_output_mw_mean</th>\n",
       "      <th>generation_output_mw_max</th>\n",
       "      <th>underlying_demand_mw_mean</th>\n",
       "      <th>underlying_demand_mw_max</th>\n",
       "    </tr>\n",
       "  </thead>\n",
       "  <tbody>\n",
       "    <tr>\n",
       "      <th>0</th>\n",
       "      <td>GILLMOSS GT1 / KIRKBY GT2 / SIMONSWOOD GT1</td>\n",
       "      <td>53.477579</td>\n",
       "      <td>-2.873767</td>\n",
       "      <td>GILLMOSS GT1 / KIRKBY GT2 / SIMONSWOOD GT1</td>\n",
       "      <td>23.085831</td>\n",
       "      <td>42.579</td>\n",
       "      <td>0.0</td>\n",
       "      <td>0.0</td>\n",
       "      <td>-0.479017</td>\n",
       "      <td>5.427</td>\n",
       "      <td>0.00</td>\n",
       "      <td>0.00</td>\n",
       "      <td>23.085831</td>\n",
       "      <td>42.579</td>\n",
       "    </tr>\n",
       "    <tr>\n",
       "      <th>1</th>\n",
       "      <td>GARSTON GT2 / SPEKE GT3 / WAVERTREE GT1A</td>\n",
       "      <td>53.360250</td>\n",
       "      <td>-2.889264</td>\n",
       "      <td>GARSTON GT2 / SPEKE GT3 / WAVERTREE GT1A</td>\n",
       "      <td>30.743734</td>\n",
       "      <td>60.767</td>\n",
       "      <td>0.0</td>\n",
       "      <td>0.0</td>\n",
       "      <td>-6.030998</td>\n",
       "      <td>0.000</td>\n",
       "      <td>-4.32</td>\n",
       "      <td>-4.32</td>\n",
       "      <td>35.063734</td>\n",
       "      <td>65.087</td>\n",
       "    </tr>\n",
       "    <tr>\n",
       "      <th>2</th>\n",
       "      <td>AINTREE GT2 / FAZAKERLEY GT1 / GILLMOSS GT2</td>\n",
       "      <td>53.464156</td>\n",
       "      <td>-2.930260</td>\n",
       "      <td>AINTREE GT2 / FAZAKERLEY GT1 / GILLMOSS GT2</td>\n",
       "      <td>30.095884</td>\n",
       "      <td>65.356</td>\n",
       "      <td>0.0</td>\n",
       "      <td>0.0</td>\n",
       "      <td>-5.048644</td>\n",
       "      <td>8.514</td>\n",
       "      <td>0.00</td>\n",
       "      <td>0.00</td>\n",
       "      <td>30.095884</td>\n",
       "      <td>65.356</td>\n",
       "    </tr>\n",
       "    <tr>\n",
       "      <th>3</th>\n",
       "      <td>LISTER DV B GT3 / SPARLING ST GT1 / WAVERTREE GT2</td>\n",
       "      <td>53.402274</td>\n",
       "      <td>-2.952653</td>\n",
       "      <td>LISTER DV B GT3 / SPARLING ST GT1 / WAVERTREE GT2</td>\n",
       "      <td>51.416799</td>\n",
       "      <td>96.574</td>\n",
       "      <td>0.0</td>\n",
       "      <td>0.0</td>\n",
       "      <td>-8.233505</td>\n",
       "      <td>0.000</td>\n",
       "      <td>0.00</td>\n",
       "      <td>0.00</td>\n",
       "      <td>51.416799</td>\n",
       "      <td>96.574</td>\n",
       "    </tr>\n",
       "    <tr>\n",
       "      <th>4</th>\n",
       "      <td>GATEACRE GT1 / HUYTON GT1 / KIRKBY GT3 / PRESC...</td>\n",
       "      <td>53.417755</td>\n",
       "      <td>-2.857245</td>\n",
       "      <td>GATEACRE GT1 / HUYTON GT1 / KIRKBY GT3 / PRESC...</td>\n",
       "      <td>53.649040</td>\n",
       "      <td>100.112</td>\n",
       "      <td>0.0</td>\n",
       "      <td>0.0</td>\n",
       "      <td>-13.973578</td>\n",
       "      <td>0.003</td>\n",
       "      <td>0.00</td>\n",
       "      <td>0.00</td>\n",
       "      <td>53.649040</td>\n",
       "      <td>100.112</td>\n",
       "    </tr>\n",
       "  </tbody>\n",
       "</table>\n",
       "</div>"
      ],
      "text/plain": [
       "                                          Grid Group  lat_group  long_group  \\\n",
       "0         GILLMOSS GT1 / KIRKBY GT2 / SIMONSWOOD GT1  53.477579   -2.873767   \n",
       "1           GARSTON GT2 / SPEKE GT3 / WAVERTREE GT1A  53.360250   -2.889264   \n",
       "2        AINTREE GT2 / FAZAKERLEY GT1 / GILLMOSS GT2  53.464156   -2.930260   \n",
       "3  LISTER DV B GT3 / SPARLING ST GT1 / WAVERTREE GT2  53.402274   -2.952653   \n",
       "4  GATEACRE GT1 / HUYTON GT1 / KIRKBY GT3 / PRESC...  53.417755   -2.857245   \n",
       "\n",
       "                                          group_name  net_mw_mean  net_mw_max  \\\n",
       "0         GILLMOSS GT1 / KIRKBY GT2 / SIMONSWOOD GT1    23.085831      42.579   \n",
       "1           GARSTON GT2 / SPEKE GT3 / WAVERTREE GT1A    30.743734      60.767   \n",
       "2        AINTREE GT2 / FAZAKERLEY GT1 / GILLMOSS GT2    30.095884      65.356   \n",
       "3  LISTER DV B GT3 / SPARLING ST GT1 / WAVERTREE GT2    51.416799      96.574   \n",
       "4  GATEACRE GT1 / HUYTON GT1 / KIRKBY GT3 / PRESC...    53.649040     100.112   \n",
       "\n",
       "   net_amps_mean  net_amps_max  net_mvar_mean  net_mvar_max  \\\n",
       "0            0.0           0.0      -0.479017         5.427   \n",
       "1            0.0           0.0      -6.030998         0.000   \n",
       "2            0.0           0.0      -5.048644         8.514   \n",
       "3            0.0           0.0      -8.233505         0.000   \n",
       "4            0.0           0.0     -13.973578         0.003   \n",
       "\n",
       "   generation_output_mw_mean  generation_output_mw_max  \\\n",
       "0                       0.00                      0.00   \n",
       "1                      -4.32                     -4.32   \n",
       "2                       0.00                      0.00   \n",
       "3                       0.00                      0.00   \n",
       "4                       0.00                      0.00   \n",
       "\n",
       "   underlying_demand_mw_mean  underlying_demand_mw_max  \n",
       "0                  23.085831                    42.579  \n",
       "1                  35.063734                    65.087  \n",
       "2                  30.095884                    65.356  \n",
       "3                  51.416799                    96.574  \n",
       "4                  53.649040                   100.112  "
      ]
     },
     "execution_count": 163,
     "metadata": {},
     "output_type": "execute_result"
    }
   ],
   "source": [
    "df_flow_gg = pd.merge(df_sub[['Grid Group', 'lat_group', 'long_group']].drop_duplicates(subset='Grid Group'), df_flow_sub.reset_index(), 'left', left_on='Grid Group', right_on='group_name')\n",
    "df_flow_gg.to_excel('flow_gg.xlsx', index=False)\n",
    "df_flow_gg.head()"
   ]
  },
  {
   "cell_type": "markdown",
   "metadata": {},
   "source": [
    "## substation not in flow"
   ]
  },
  {
   "cell_type": "code",
   "execution_count": 164,
   "metadata": {},
   "outputs": [
    {
     "data": {
      "text/html": [
       "<div>\n",
       "<style scoped>\n",
       "    .dataframe tbody tr th:only-of-type {\n",
       "        vertical-align: middle;\n",
       "    }\n",
       "\n",
       "    .dataframe tbody tr th {\n",
       "        vertical-align: top;\n",
       "    }\n",
       "\n",
       "    .dataframe thead th {\n",
       "        text-align: right;\n",
       "    }\n",
       "</style>\n",
       "<table border=\"1\" class=\"dataframe\">\n",
       "  <thead>\n",
       "    <tr style=\"text-align: right;\">\n",
       "      <th></th>\n",
       "      <th>Grid Group</th>\n",
       "      <th>lat_group</th>\n",
       "      <th>long_group</th>\n",
       "      <th>group_name</th>\n",
       "      <th>net_mw_mean</th>\n",
       "      <th>net_mw_max</th>\n",
       "      <th>net_amps_mean</th>\n",
       "      <th>net_amps_max</th>\n",
       "      <th>net_mvar_mean</th>\n",
       "      <th>net_mvar_max</th>\n",
       "      <th>generation_output_mw_mean</th>\n",
       "      <th>generation_output_mw_max</th>\n",
       "      <th>underlying_demand_mw_mean</th>\n",
       "      <th>underlying_demand_mw_max</th>\n",
       "    </tr>\n",
       "  </thead>\n",
       "  <tbody>\n",
       "    <tr>\n",
       "      <th>7</th>\n",
       "      <td>RAVENHEAD G1A1 / ST HELENS GT2B / WINDLE GT1</td>\n",
       "      <td>53.463567</td>\n",
       "      <td>-2.762492</td>\n",
       "      <td>NaN</td>\n",
       "      <td>NaN</td>\n",
       "      <td>NaN</td>\n",
       "      <td>NaN</td>\n",
       "      <td>NaN</td>\n",
       "      <td>NaN</td>\n",
       "      <td>NaN</td>\n",
       "      <td>NaN</td>\n",
       "      <td>NaN</td>\n",
       "      <td>NaN</td>\n",
       "      <td>NaN</td>\n",
       "    </tr>\n",
       "    <tr>\n",
       "      <th>8</th>\n",
       "      <td>BOLD G2A / PRESCOT GT1B / WIDNES GT1 / WIDNES GT2</td>\n",
       "      <td>53.390066</td>\n",
       "      <td>-2.758120</td>\n",
       "      <td>NaN</td>\n",
       "      <td>NaN</td>\n",
       "      <td>NaN</td>\n",
       "      <td>NaN</td>\n",
       "      <td>NaN</td>\n",
       "      <td>NaN</td>\n",
       "      <td>NaN</td>\n",
       "      <td>NaN</td>\n",
       "      <td>NaN</td>\n",
       "      <td>NaN</td>\n",
       "      <td>NaN</td>\n",
       "    </tr>\n",
       "    <tr>\n",
       "      <th>13</th>\n",
       "      <td>BOLD G4B / RAVENHEAD G1A2 / ST HELENS GT2A</td>\n",
       "      <td>53.443818</td>\n",
       "      <td>-2.738732</td>\n",
       "      <td>NaN</td>\n",
       "      <td>NaN</td>\n",
       "      <td>NaN</td>\n",
       "      <td>NaN</td>\n",
       "      <td>NaN</td>\n",
       "      <td>NaN</td>\n",
       "      <td>NaN</td>\n",
       "      <td>NaN</td>\n",
       "      <td>NaN</td>\n",
       "      <td>NaN</td>\n",
       "      <td>NaN</td>\n",
       "    </tr>\n",
       "  </tbody>\n",
       "</table>\n",
       "</div>"
      ],
      "text/plain": [
       "                                           Grid Group  lat_group  long_group  \\\n",
       "7        RAVENHEAD G1A1 / ST HELENS GT2B / WINDLE GT1  53.463567   -2.762492   \n",
       "8   BOLD G2A / PRESCOT GT1B / WIDNES GT1 / WIDNES GT2  53.390066   -2.758120   \n",
       "13         BOLD G4B / RAVENHEAD G1A2 / ST HELENS GT2A  53.443818   -2.738732   \n",
       "\n",
       "   group_name  net_mw_mean  net_mw_max  net_amps_mean  net_amps_max  \\\n",
       "7         NaN          NaN         NaN            NaN           NaN   \n",
       "8         NaN          NaN         NaN            NaN           NaN   \n",
       "13        NaN          NaN         NaN            NaN           NaN   \n",
       "\n",
       "    net_mvar_mean  net_mvar_max  generation_output_mw_mean  \\\n",
       "7             NaN           NaN                        NaN   \n",
       "8             NaN           NaN                        NaN   \n",
       "13            NaN           NaN                        NaN   \n",
       "\n",
       "    generation_output_mw_max  underlying_demand_mw_mean  \\\n",
       "7                        NaN                        NaN   \n",
       "8                        NaN                        NaN   \n",
       "13                       NaN                        NaN   \n",
       "\n",
       "    underlying_demand_mw_max  \n",
       "7                        NaN  \n",
       "8                        NaN  \n",
       "13                       NaN  "
      ]
     },
     "execution_count": 164,
     "metadata": {},
     "output_type": "execute_result"
    }
   ],
   "source": [
    "df_sub_miss = df_flow_gg[df_flow_gg['group_name'].isna()]\n",
    "df_sub_miss.to_excel('sub_no_flow.xlsx', index=False)\n",
    "df_sub_miss"
   ]
  },
  {
   "cell_type": "markdown",
   "metadata": {},
   "source": [
    "## flow not in substation"
   ]
  },
  {
   "cell_type": "code",
   "execution_count": 165,
   "metadata": {},
   "outputs": [
    {
     "data": {
      "text/html": [
       "<div>\n",
       "<style scoped>\n",
       "    .dataframe tbody tr th:only-of-type {\n",
       "        vertical-align: middle;\n",
       "    }\n",
       "\n",
       "    .dataframe tbody tr th {\n",
       "        vertical-align: top;\n",
       "    }\n",
       "\n",
       "    .dataframe thead th {\n",
       "        text-align: right;\n",
       "    }\n",
       "</style>\n",
       "<table border=\"1\" class=\"dataframe\">\n",
       "  <thead>\n",
       "    <tr style=\"text-align: right;\">\n",
       "      <th></th>\n",
       "      <th>group_name</th>\n",
       "      <th>net_mw_mean</th>\n",
       "      <th>net_mw_max</th>\n",
       "      <th>net_amps_mean</th>\n",
       "      <th>net_amps_max</th>\n",
       "      <th>net_mvar_mean</th>\n",
       "      <th>net_mvar_max</th>\n",
       "      <th>generation_output_mw_mean</th>\n",
       "      <th>generation_output_mw_max</th>\n",
       "      <th>underlying_demand_mw_mean</th>\n",
       "      <th>underlying_demand_mw_max</th>\n",
       "    </tr>\n",
       "  </thead>\n",
       "  <tbody>\n",
       "    <tr>\n",
       "      <th>0</th>\n",
       "      <td>ACORNFIELD RD T1 / DICKINSONS T1 / HAMMOND RD ...</td>\n",
       "      <td>8.105243</td>\n",
       "      <td>15.288</td>\n",
       "      <td>0.0</td>\n",
       "      <td>0.0</td>\n",
       "      <td>1.432054</td>\n",
       "      <td>4.210</td>\n",
       "      <td>0.000000</td>\n",
       "      <td>0.0</td>\n",
       "      <td>8.105243</td>\n",
       "      <td>15.288</td>\n",
       "    </tr>\n",
       "    <tr>\n",
       "      <th>1</th>\n",
       "      <td>AIGBURTH VALE T1 / IVY AVE T1 / MATHER AVE T1 ...</td>\n",
       "      <td>9.724854</td>\n",
       "      <td>20.424</td>\n",
       "      <td>0.0</td>\n",
       "      <td>0.0</td>\n",
       "      <td>-1.503333</td>\n",
       "      <td>0.166</td>\n",
       "      <td>0.000000</td>\n",
       "      <td>0.0</td>\n",
       "      <td>9.724854</td>\n",
       "      <td>20.424</td>\n",
       "    </tr>\n",
       "    <tr>\n",
       "      <th>2</th>\n",
       "      <td>AINSDALE T1 / PINFOLD LA T1</td>\n",
       "      <td>2.467226</td>\n",
       "      <td>5.668</td>\n",
       "      <td>0.0</td>\n",
       "      <td>0.0</td>\n",
       "      <td>-0.229422</td>\n",
       "      <td>0.242</td>\n",
       "      <td>0.000000</td>\n",
       "      <td>0.0</td>\n",
       "      <td>2.467226</td>\n",
       "      <td>5.668</td>\n",
       "    </tr>\n",
       "    <tr>\n",
       "      <th>3</th>\n",
       "      <td>AINTREE LOCAL T1 / OLD ROAN T1 / WANGO LA T1</td>\n",
       "      <td>5.834762</td>\n",
       "      <td>38.009</td>\n",
       "      <td>0.0</td>\n",
       "      <td>0.0</td>\n",
       "      <td>-0.179872</td>\n",
       "      <td>0.884</td>\n",
       "      <td>0.000000</td>\n",
       "      <td>0.0</td>\n",
       "      <td>5.834762</td>\n",
       "      <td>38.009</td>\n",
       "    </tr>\n",
       "    <tr>\n",
       "      <th>4</th>\n",
       "      <td>AIRPORT T1 / ALDERWOOD AVE (CROYDE RD) T1 / HA...</td>\n",
       "      <td>5.331729</td>\n",
       "      <td>16.540</td>\n",
       "      <td>0.0</td>\n",
       "      <td>0.0</td>\n",
       "      <td>-0.372510</td>\n",
       "      <td>2.123</td>\n",
       "      <td>0.000000</td>\n",
       "      <td>0.0</td>\n",
       "      <td>5.331729</td>\n",
       "      <td>16.540</td>\n",
       "    </tr>\n",
       "    <tr>\n",
       "      <th>...</th>\n",
       "      <td>...</td>\n",
       "      <td>...</td>\n",
       "      <td>...</td>\n",
       "      <td>...</td>\n",
       "      <td>...</td>\n",
       "      <td>...</td>\n",
       "      <td>...</td>\n",
       "      <td>...</td>\n",
       "      <td>...</td>\n",
       "      <td>...</td>\n",
       "      <td>...</td>\n",
       "    </tr>\n",
       "    <tr>\n",
       "      <th>75</th>\n",
       "      <td>Paddington Place T1 / Paddington Place T2</td>\n",
       "      <td>0.085609</td>\n",
       "      <td>0.086</td>\n",
       "      <td>0.0</td>\n",
       "      <td>0.0</td>\n",
       "      <td>-0.052753</td>\n",
       "      <td>0.026</td>\n",
       "      <td>0.000000</td>\n",
       "      <td>0.0</td>\n",
       "      <td>0.085609</td>\n",
       "      <td>0.086</td>\n",
       "    </tr>\n",
       "    <tr>\n",
       "      <th>76</th>\n",
       "      <td>RAINHILL</td>\n",
       "      <td>183.204562</td>\n",
       "      <td>314.235</td>\n",
       "      <td>0.0</td>\n",
       "      <td>0.0</td>\n",
       "      <td>-79.346309</td>\n",
       "      <td>0.000</td>\n",
       "      <td>-31.569335</td>\n",
       "      <td>-0.0</td>\n",
       "      <td>214.773897</td>\n",
       "      <td>331.875</td>\n",
       "    </tr>\n",
       "    <tr>\n",
       "      <th>77</th>\n",
       "      <td>RAVENHEAD G1A1 / ST HELENS GT1 / WINDLE GT1</td>\n",
       "      <td>19.364394</td>\n",
       "      <td>39.394</td>\n",
       "      <td>0.0</td>\n",
       "      <td>0.0</td>\n",
       "      <td>-0.404820</td>\n",
       "      <td>5.213</td>\n",
       "      <td>-11.700000</td>\n",
       "      <td>-11.7</td>\n",
       "      <td>31.064394</td>\n",
       "      <td>51.094</td>\n",
       "    </tr>\n",
       "    <tr>\n",
       "      <th>78</th>\n",
       "      <td>ROYAL INSURANCE (NEW QUAY) T1 / ROYAL INSURANC...</td>\n",
       "      <td>0.261790</td>\n",
       "      <td>0.455</td>\n",
       "      <td>0.0</td>\n",
       "      <td>0.0</td>\n",
       "      <td>0.028908</td>\n",
       "      <td>0.164</td>\n",
       "      <td>0.000000</td>\n",
       "      <td>0.0</td>\n",
       "      <td>0.261790</td>\n",
       "      <td>0.455</td>\n",
       "    </tr>\n",
       "    <tr>\n",
       "      <th>79</th>\n",
       "      <td>Wavertree Boulevard T1 / Wavertree Boulevard T2</td>\n",
       "      <td>6.350573</td>\n",
       "      <td>14.122</td>\n",
       "      <td>0.0</td>\n",
       "      <td>0.0</td>\n",
       "      <td>22.742176</td>\n",
       "      <td>105.502</td>\n",
       "      <td>0.000000</td>\n",
       "      <td>0.0</td>\n",
       "      <td>6.350573</td>\n",
       "      <td>14.122</td>\n",
       "    </tr>\n",
       "  </tbody>\n",
       "</table>\n",
       "<p>80 rows × 11 columns</p>\n",
       "</div>"
      ],
      "text/plain": [
       "                                           group_name  net_mw_mean  \\\n",
       "0   ACORNFIELD RD T1 / DICKINSONS T1 / HAMMOND RD ...     8.105243   \n",
       "1   AIGBURTH VALE T1 / IVY AVE T1 / MATHER AVE T1 ...     9.724854   \n",
       "2                         AINSDALE T1 / PINFOLD LA T1     2.467226   \n",
       "3        AINTREE LOCAL T1 / OLD ROAN T1 / WANGO LA T1     5.834762   \n",
       "4   AIRPORT T1 / ALDERWOOD AVE (CROYDE RD) T1 / HA...     5.331729   \n",
       "..                                                ...          ...   \n",
       "75          Paddington Place T1 / Paddington Place T2     0.085609   \n",
       "76                                           RAINHILL   183.204562   \n",
       "77        RAVENHEAD G1A1 / ST HELENS GT1 / WINDLE GT1    19.364394   \n",
       "78  ROYAL INSURANCE (NEW QUAY) T1 / ROYAL INSURANC...     0.261790   \n",
       "79    Wavertree Boulevard T1 / Wavertree Boulevard T2     6.350573   \n",
       "\n",
       "    net_mw_max  net_amps_mean  net_amps_max  net_mvar_mean  net_mvar_max  \\\n",
       "0       15.288            0.0           0.0       1.432054         4.210   \n",
       "1       20.424            0.0           0.0      -1.503333         0.166   \n",
       "2        5.668            0.0           0.0      -0.229422         0.242   \n",
       "3       38.009            0.0           0.0      -0.179872         0.884   \n",
       "4       16.540            0.0           0.0      -0.372510         2.123   \n",
       "..         ...            ...           ...            ...           ...   \n",
       "75       0.086            0.0           0.0      -0.052753         0.026   \n",
       "76     314.235            0.0           0.0     -79.346309         0.000   \n",
       "77      39.394            0.0           0.0      -0.404820         5.213   \n",
       "78       0.455            0.0           0.0       0.028908         0.164   \n",
       "79      14.122            0.0           0.0      22.742176       105.502   \n",
       "\n",
       "    generation_output_mw_mean  generation_output_mw_max  \\\n",
       "0                    0.000000                       0.0   \n",
       "1                    0.000000                       0.0   \n",
       "2                    0.000000                       0.0   \n",
       "3                    0.000000                       0.0   \n",
       "4                    0.000000                       0.0   \n",
       "..                        ...                       ...   \n",
       "75                   0.000000                       0.0   \n",
       "76                 -31.569335                      -0.0   \n",
       "77                 -11.700000                     -11.7   \n",
       "78                   0.000000                       0.0   \n",
       "79                   0.000000                       0.0   \n",
       "\n",
       "    underlying_demand_mw_mean  underlying_demand_mw_max  \n",
       "0                    8.105243                    15.288  \n",
       "1                    9.724854                    20.424  \n",
       "2                    2.467226                     5.668  \n",
       "3                    5.834762                    38.009  \n",
       "4                    5.331729                    16.540  \n",
       "..                        ...                       ...  \n",
       "75                   0.085609                     0.086  \n",
       "76                 214.773897                   331.875  \n",
       "77                  31.064394                    51.094  \n",
       "78                   0.261790                     0.455  \n",
       "79                   6.350573                    14.122  \n",
       "\n",
       "[80 rows x 11 columns]"
      ]
     },
     "execution_count": 165,
     "metadata": {},
     "output_type": "execute_result"
    }
   ],
   "source": [
    "df_flow_miss = df_flow_sub.query('group_name not in @df_sub[\"Grid Group\"]').reset_index()\n",
    "df_flow_miss.to_excel('flow_no_subs.xlsx', index=False)\n",
    "df_flow_miss"
   ]
  },
  {
   "cell_type": "markdown",
   "metadata": {},
   "source": [
    "# Greedy\n",
    "## put flow into substation from closest until ful then next substation"
   ]
  },
  {
   "cell_type": "code",
   "execution_count": 166,
   "metadata": {},
   "outputs": [
    {
     "data": {
      "text/html": [
       "<div>\n",
       "<style scoped>\n",
       "    .dataframe tbody tr th:only-of-type {\n",
       "        vertical-align: middle;\n",
       "    }\n",
       "\n",
       "    .dataframe tbody tr th {\n",
       "        vertical-align: top;\n",
       "    }\n",
       "\n",
       "    .dataframe thead th {\n",
       "        text-align: right;\n",
       "    }\n",
       "</style>\n",
       "<table border=\"1\" class=\"dataframe\">\n",
       "  <thead>\n",
       "    <tr style=\"text-align: right;\">\n",
       "      <th></th>\n",
       "      <th>sub_name</th>\n",
       "      <th>group_name</th>\n",
       "      <th>cap_mva</th>\n",
       "      <th>distance</th>\n",
       "      <th>mean_flow_mw</th>\n",
       "      <th>max_flow_mw</th>\n",
       "      <th>mean_flow_group</th>\n",
       "      <th>max_flow_group</th>\n",
       "      <th>lat</th>\n",
       "      <th>long</th>\n",
       "    </tr>\n",
       "  </thead>\n",
       "  <tbody>\n",
       "    <tr>\n",
       "      <th>0</th>\n",
       "      <td>DICKINSONS</td>\n",
       "      <td>GILLMOSS GT1 / KIRKBY GT2 / SIMONSWOOD GT1</td>\n",
       "      <td>30.0</td>\n",
       "      <td>0.005164</td>\n",
       "      <td>23.085831</td>\n",
       "      <td>30.000</td>\n",
       "      <td>23.085831</td>\n",
       "      <td>42.579</td>\n",
       "      <td>53.479467</td>\n",
       "      <td>-2.868960</td>\n",
       "    </tr>\n",
       "    <tr>\n",
       "      <th>1</th>\n",
       "      <td>OTIS ELEVATOR</td>\n",
       "      <td>GILLMOSS GT1 / KIRKBY GT2 / SIMONSWOOD GT1</td>\n",
       "      <td>10.0</td>\n",
       "      <td>0.007974</td>\n",
       "      <td>0.000000</td>\n",
       "      <td>10.000</td>\n",
       "      <td>23.085831</td>\n",
       "      <td>42.579</td>\n",
       "      <td>53.469937</td>\n",
       "      <td>-2.876046</td>\n",
       "    </tr>\n",
       "    <tr>\n",
       "      <th>2</th>\n",
       "      <td>ST IVEL FOODS</td>\n",
       "      <td>GILLMOSS GT1 / KIRKBY GT2 / SIMONSWOOD GT1</td>\n",
       "      <td>10.0</td>\n",
       "      <td>0.009260</td>\n",
       "      <td>0.000000</td>\n",
       "      <td>2.579</td>\n",
       "      <td>23.085831</td>\n",
       "      <td>42.579</td>\n",
       "      <td>53.469020</td>\n",
       "      <td>-2.877301</td>\n",
       "    </tr>\n",
       "    <tr>\n",
       "      <th>3</th>\n",
       "      <td>SOUTHDENE</td>\n",
       "      <td>GILLMOSS GT1 / KIRKBY GT2 / SIMONSWOOD GT1</td>\n",
       "      <td>30.0</td>\n",
       "      <td>0.009391</td>\n",
       "      <td>0.000000</td>\n",
       "      <td>0.000</td>\n",
       "      <td>23.085831</td>\n",
       "      <td>42.579</td>\n",
       "      <td>53.473261</td>\n",
       "      <td>-2.882106</td>\n",
       "    </tr>\n",
       "    <tr>\n",
       "      <th>4</th>\n",
       "      <td>NORTHWOOD</td>\n",
       "      <td>GILLMOSS GT1 / KIRKBY GT2 / SIMONSWOOD GT1</td>\n",
       "      <td>30.0</td>\n",
       "      <td>0.009534</td>\n",
       "      <td>0.000000</td>\n",
       "      <td>0.000</td>\n",
       "      <td>23.085831</td>\n",
       "      <td>42.579</td>\n",
       "      <td>53.485902</td>\n",
       "      <td>-2.878419</td>\n",
       "    </tr>\n",
       "    <tr>\n",
       "      <th>...</th>\n",
       "      <td>...</td>\n",
       "      <td>...</td>\n",
       "      <td>...</td>\n",
       "      <td>...</td>\n",
       "      <td>...</td>\n",
       "      <td>...</td>\n",
       "      <td>...</td>\n",
       "      <td>...</td>\n",
       "      <td>...</td>\n",
       "      <td>...</td>\n",
       "    </tr>\n",
       "    <tr>\n",
       "      <th>211</th>\n",
       "      <td>SOUTHPORT RD</td>\n",
       "      <td>AINTREE GT1 / FORMBY GT2A / LITHERLAND GT1B</td>\n",
       "      <td>28.0</td>\n",
       "      <td>0.069037</td>\n",
       "      <td>0.000000</td>\n",
       "      <td>0.000</td>\n",
       "      <td>26.751864</td>\n",
       "      <td>48.584</td>\n",
       "      <td>53.570573</td>\n",
       "      <td>-3.038281</td>\n",
       "    </tr>\n",
       "    <tr>\n",
       "      <th>212</th>\n",
       "      <td>MARSH BROWS</td>\n",
       "      <td>AINTREE GT1 / FORMBY GT2A / LITHERLAND GT1B</td>\n",
       "      <td>28.0</td>\n",
       "      <td>0.075745</td>\n",
       "      <td>0.000000</td>\n",
       "      <td>0.000</td>\n",
       "      <td>26.751864</td>\n",
       "      <td>48.584</td>\n",
       "      <td>53.557472</td>\n",
       "      <td>-3.057144</td>\n",
       "    </tr>\n",
       "    <tr>\n",
       "      <th>213</th>\n",
       "      <td>FRESHFIELD</td>\n",
       "      <td>AINTREE GT1 / FORMBY GT2A / LITHERLAND GT1B</td>\n",
       "      <td>28.0</td>\n",
       "      <td>0.083930</td>\n",
       "      <td>0.000000</td>\n",
       "      <td>0.000</td>\n",
       "      <td>26.751864</td>\n",
       "      <td>48.584</td>\n",
       "      <td>53.569869</td>\n",
       "      <td>-3.058814</td>\n",
       "    </tr>\n",
       "    <tr>\n",
       "      <th>214</th>\n",
       "      <td>HOLBORN HILL</td>\n",
       "      <td>AINTREE GT1 / FORMBY GT2A / LITHERLAND GT1B</td>\n",
       "      <td>37.5</td>\n",
       "      <td>0.092917</td>\n",
       "      <td>0.000000</td>\n",
       "      <td>0.000</td>\n",
       "      <td>26.751864</td>\n",
       "      <td>48.584</td>\n",
       "      <td>53.557668</td>\n",
       "      <td>-2.906437</td>\n",
       "    </tr>\n",
       "    <tr>\n",
       "      <th>215</th>\n",
       "      <td>GRANTHAM CLOSE</td>\n",
       "      <td>AINTREE GT1 / FORMBY GT2A / LITHERLAND GT1B</td>\n",
       "      <td>9.1</td>\n",
       "      <td>0.102098</td>\n",
       "      <td>0.000000</td>\n",
       "      <td>0.000</td>\n",
       "      <td>26.751864</td>\n",
       "      <td>48.584</td>\n",
       "      <td>53.621474</td>\n",
       "      <td>-3.002069</td>\n",
       "    </tr>\n",
       "  </tbody>\n",
       "</table>\n",
       "<p>216 rows × 10 columns</p>\n",
       "</div>"
      ],
      "text/plain": [
       "           sub_name                                   group_name  cap_mva  \\\n",
       "0        DICKINSONS   GILLMOSS GT1 / KIRKBY GT2 / SIMONSWOOD GT1     30.0   \n",
       "1     OTIS ELEVATOR   GILLMOSS GT1 / KIRKBY GT2 / SIMONSWOOD GT1     10.0   \n",
       "2     ST IVEL FOODS   GILLMOSS GT1 / KIRKBY GT2 / SIMONSWOOD GT1     10.0   \n",
       "3         SOUTHDENE   GILLMOSS GT1 / KIRKBY GT2 / SIMONSWOOD GT1     30.0   \n",
       "4         NORTHWOOD   GILLMOSS GT1 / KIRKBY GT2 / SIMONSWOOD GT1     30.0   \n",
       "..              ...                                          ...      ...   \n",
       "211    SOUTHPORT RD  AINTREE GT1 / FORMBY GT2A / LITHERLAND GT1B     28.0   \n",
       "212     MARSH BROWS  AINTREE GT1 / FORMBY GT2A / LITHERLAND GT1B     28.0   \n",
       "213      FRESHFIELD  AINTREE GT1 / FORMBY GT2A / LITHERLAND GT1B     28.0   \n",
       "214    HOLBORN HILL  AINTREE GT1 / FORMBY GT2A / LITHERLAND GT1B     37.5   \n",
       "215  GRANTHAM CLOSE  AINTREE GT1 / FORMBY GT2A / LITHERLAND GT1B      9.1   \n",
       "\n",
       "     distance  mean_flow_mw  max_flow_mw  mean_flow_group  max_flow_group  \\\n",
       "0    0.005164     23.085831       30.000        23.085831          42.579   \n",
       "1    0.007974      0.000000       10.000        23.085831          42.579   \n",
       "2    0.009260      0.000000        2.579        23.085831          42.579   \n",
       "3    0.009391      0.000000        0.000        23.085831          42.579   \n",
       "4    0.009534      0.000000        0.000        23.085831          42.579   \n",
       "..        ...           ...          ...              ...             ...   \n",
       "211  0.069037      0.000000        0.000        26.751864          48.584   \n",
       "212  0.075745      0.000000        0.000        26.751864          48.584   \n",
       "213  0.083930      0.000000        0.000        26.751864          48.584   \n",
       "214  0.092917      0.000000        0.000        26.751864          48.584   \n",
       "215  0.102098      0.000000        0.000        26.751864          48.584   \n",
       "\n",
       "           lat      long  \n",
       "0    53.479467 -2.868960  \n",
       "1    53.469937 -2.876046  \n",
       "2    53.469020 -2.877301  \n",
       "3    53.473261 -2.882106  \n",
       "4    53.485902 -2.878419  \n",
       "..         ...       ...  \n",
       "211  53.570573 -3.038281  \n",
       "212  53.557472 -3.057144  \n",
       "213  53.569869 -3.058814  \n",
       "214  53.557668 -2.906437  \n",
       "215  53.621474 -3.002069  \n",
       "\n",
       "[216 rows x 10 columns]"
      ]
     },
     "execution_count": 166,
     "metadata": {},
     "output_type": "execute_result"
    }
   ],
   "source": [
    "df_greed = pd.DataFrame({'sub_name':[], 'group_name':[], 'cap_mva':[], 'distance':[], 'mean_flow_mw':[], 'max_flow_mw':[], 'mean_flow_group':[], 'max_flow_group':[], 'lat':[], 'long':[]})\n",
    "for ff in df_flow_gg.index:\n",
    "    mw = df_flow_gg['net_mw_mean'][ff]\n",
    "    max_mw = df_flow_gg['underlying_demand_mw_max'][ff]\n",
    "    while mw > 0 or max_mw > 0:\n",
    "        for ss in df_sub.query('`Grid Group` == @df_flow_gg.group_name.loc[@ff]').sort_values('distance').index:\n",
    "            cap = df_sub['Firm Capacity (MVA)'][ss]\n",
    "            if mw > cap:\n",
    "                flowin = cap\n",
    "            else:\n",
    "                flowin = mw\n",
    "            if max_mw > cap:\n",
    "                max_flowin = cap\n",
    "            else:\n",
    "                max_flowin = max_mw\n",
    "            df_greed.loc[len(df_greed)] = [df_sub['Substation Name'][ss], df_sub['Grid Group'][ss], cap, df_sub['distance'][ss], flowin, max_flowin, df_flow_gg['net_mw_mean'][ff], df_flow_gg['underlying_demand_mw_max'][ff], df_sub['lat'][ss], df_sub['long'][ss]]\n",
    "            mw -= flowin\n",
    "            max_mw -= max_flowin\n",
    "df_greed.to_excel('greed.xlsx', index=False)\n",
    "df_greed"
   ]
  },
  {
   "cell_type": "code",
   "execution_count": 167,
   "metadata": {},
   "outputs": [
    {
     "data": {
      "application/vnd.plotly.v1+json": {
       "config": {
        "plotlyServerURL": "https://plot.ly"
       },
       "data": [
        {
         "coloraxis": "coloraxis",
         "customdata": [
          [
           30,
           0.005163957592301951
          ],
          [
           10,
           0.00797433581104308
          ],
          [
           10,
           0.009260206485354614
          ],
          [
           30,
           0.009391336791829496
          ],
          [
           30,
           0.00953443944778824
          ],
          [
           30,
           0.01347151315730549
          ],
          [
           30,
           0.014895384780172473
          ],
          [
           30,
           0.01686118416581073
          ],
          [
           90.2,
           0.017129400515502494
          ],
          [
           30,
           0.01729076991985041
          ],
          [
           30,
           0.017735384136677024
          ],
          [
           30,
           0.019567989672799397
          ],
          [
           90.2,
           0.01978848993309242
          ],
          [
           30,
           0.021034706382115347
          ],
          [
           30,
           0.024526185414928982
          ],
          [
           30,
           0.02652075674302815
          ],
          [
           90.2,
           0.029221515789365805
          ],
          [
           108.3,
           0.010950556445574935
          ],
          [
           37.5,
           0.01095893100708523
          ],
          [
           37.5,
           0.012545990309838134
          ],
          [
           30,
           0.015828813107671667
          ],
          [
           30,
           0.016921616194097395
          ],
          [
           30,
           0.01757323918764694
          ],
          [
           37.5,
           0.01868030145779559
          ],
          [
           37.5,
           0.020816645471887336
          ],
          [
           37.5,
           0.02155511098431489
          ],
          [
           37.5,
           0.024769019346027085
          ],
          [
           30,
           0.02784824317502663
          ],
          [
           37.5,
           0.03078439148712874
          ],
          [
           30,
           0.0322828165168814
          ],
          [
           108.3,
           0.03316007588279857
          ],
          [
           37.5,
           0.03812337358543981
          ],
          [
           30,
           0.039818341302294086
          ],
          [
           37.5,
           0.0445526331545584
          ],
          [
           37.5,
           0.049466363516489996
          ],
          [
           30,
           0.05778341824052052
          ],
          [
           30,
           0.0057596064961723354
          ],
          [
           65,
           0.010992746286189202
          ],
          [
           37.5,
           0.012666233318552255
          ],
          [
           30,
           0.014014436075090914
          ],
          [
           37.5,
           0.015146773434305245
          ],
          [
           20,
           0.016742486755989338
          ],
          [
           30,
           0.017994714934875165
          ],
          [
           20,
           0.01810511438701207
          ],
          [
           37.5,
           0.018811319338470897
          ],
          [
           37.5,
           0.025186641789943936
          ],
          [
           20,
           0.026956051503128645
          ],
          [
           20,
           0.02912072660863452
          ],
          [
           65,
           0.030327032000895253
          ],
          [
           20,
           0.03095022959624168
          ],
          [
           65,
           0.03314595373257376
          ],
          [
           37.5,
           0.03698211622132191
          ],
          [
           30,
           0.003535999243791571
          ],
          [
           30,
           0.005617775172214522
          ],
          [
           30,
           0.010010742461467844
          ],
          [
           17.5,
           0.012178491779481892
          ],
          [
           17.5,
           0.014438276083941106
          ],
          [
           8.7,
           0.014872374629406136
          ],
          [
           17.5,
           0.01572512921362367
          ],
          [
           17.5,
           0.01784229150337018
          ],
          [
           30,
           0.019596000916796773
          ],
          [
           30,
           0.023424950703341593
          ],
          [
           37.5,
           0.023793072765054695
          ],
          [
           18.53,
           0.025007170927557443
          ],
          [
           17.5,
           0.025007170927557443
          ],
          [
           18.53,
           0.025509061668764797
          ],
          [
           17.5,
           0.025560935519526512
          ],
          [
           18.53,
           0.026600712764585085
          ],
          [
           30,
           0.028070135730734008
          ],
          [
           37.5,
           0.028227110243324912
          ],
          [
           8.7,
           0.028227110243324912
          ],
          [
           138.4,
           0.029005674417041317
          ],
          [
           138.4,
           0.030856584826287625
          ],
          [
           30,
           0.031486096703608246
          ],
          [
           37.5,
           0.032427158179959226
          ],
          [
           30,
           0.032911975474111545
          ],
          [
           138.4,
           0.034521707749321125
          ],
          [
           30,
           0.03464125357948661
          ],
          [
           37.5,
           0.035506110230944896
          ],
          [
           37.5,
           0.043645746235728845
          ],
          [
           30,
           0.008387559312895032
          ],
          [
           114.8,
           0.011543389661733674
          ],
          [
           30,
           0.013508019732910556
          ],
          [
           10,
           0.01589781870979957
          ],
          [
           37.5,
           0.020252533132705326
          ],
          [
           114.8,
           0.025017622862931813
          ],
          [
           37.5,
           0.025254183565675714
          ],
          [
           10,
           0.026542632579182993
          ],
          [
           20,
           0.02738980051436918
          ],
          [
           37.5,
           0.028893423290867654
          ],
          [
           10,
           0.02901425609294602
          ],
          [
           37.5,
           0.030022147377523088
          ],
          [
           30,
           0.03233535994223257
          ],
          [
           10,
           0.035962051292900615
          ],
          [
           37.5,
           0.0373766566924872
          ],
          [
           20,
           0.03884343727093522
          ],
          [
           37.5,
           0.03923792771044187
          ],
          [
           37.5,
           0.04055975124307886
          ],
          [
           37.5,
           0.04141306814764002
          ],
          [
           37.5,
           0.04304481111656349
          ],
          [
           20,
           0.045022641824365356
          ],
          [
           114.8,
           0.04552653772150545
          ],
          [
           37.5,
           0.04785171301815282
          ],
          [
           114.8,
           0.05317897649561525
          ],
          [
           30,
           0.055698733176268646
          ],
          [
           30,
           0.0050743694193153
          ],
          [
           30,
           0.006050127843160654
          ],
          [
           37.5,
           0.009535105268991784
          ],
          [
           37.5,
           0.011234967188541957
          ],
          [
           68.6,
           0.011273715673681252
          ],
          [
           30,
           0.011511001151373573
          ],
          [
           37.5,
           0.011511001151373573
          ],
          [
           37.5,
           0.015207950970289274
          ],
          [
           68.6,
           0.017723469990649558
          ],
          [
           30,
           0.028080262314780127
          ],
          [
           37.5,
           0.03200926372296013
          ],
          [
           17.4,
           0.00035595547409556606
          ],
          [
           17.5,
           0.007626041598490267
          ],
          [
           17.4,
           0.012735313329767227
          ],
          [
           17.5,
           0.013164640518800865
          ],
          [
           17.5,
           0.013880252138594812
          ],
          [
           17.4,
           0.01518440611769163
          ],
          [
           17.5,
           0.01750727393488698
          ],
          [
           17.4,
           0.018046976621718967
          ],
          [
           17.4,
           0.018057293325630462
          ],
          [
           17.5,
           0.018057293325630462
          ],
          [
           17.5,
           0.021410349886682438
          ],
          [
           17.5,
           0.022599116150863897
          ],
          [
           17.5,
           0.022599116150863897
          ],
          [
           138.1,
           0.02270832119010573
          ],
          [
           17.4,
           0.023477959170605626
          ],
          [
           17.5,
           0.023943079950225727
          ],
          [
           30,
           0.02399647285725216
          ],
          [
           17.5,
           0.02443948427679361
          ],
          [
           17.5,
           0.024833345468880195
          ],
          [
           30,
           0.028089575629703663
          ],
          [
           17.5,
           0.029314932281595343
          ],
          [
           138.1,
           0.02942509936026794
          ],
          [
           30,
           0.02964200604458763
          ],
          [
           17.5,
           0.032860725346376074
          ],
          [
           17.5,
           0.032860725346376074
          ],
          [
           17.5,
           0.03879183088217262
          ],
          [
           138.1,
           0.04287877872926171
          ],
          [
           64.1,
           0.0058834685679450376
          ],
          [
           20,
           0.008157361815890659
          ],
          [
           20,
           0.008444770727230825
          ],
          [
           30,
           0.008444977318178093
          ],
          [
           30,
           0.009939768590608364
          ],
          [
           64.1,
           0.01477669389676859
          ],
          [
           30,
           0.016002964927381562
          ],
          [
           30,
           0.0238300732329806
          ],
          [
           20,
           0.0022915446435525784
          ],
          [
           20,
           0.002437641844297605
          ],
          [
           8.7,
           0.002437641844297605
          ],
          [
           20,
           0.0038240640186925252
          ],
          [
           20,
           0.0038240640186925252
          ],
          [
           8.7,
           0.003955429948407538
          ],
          [
           8.7,
           0.003955429948407538
          ],
          [
           8.7,
           0.003955429948407538
          ],
          [
           20,
           0.004253357908308535
          ],
          [
           20,
           0.004253357908308535
          ],
          [
           20,
           0.005042373867100917
          ],
          [
           8.7,
           0.0056422167141269375
          ],
          [
           139,
           0.0057154403171475136
          ],
          [
           20,
           0.0063398230022096835
          ],
          [
           20,
           0.006669034273732137
          ],
          [
           8.7,
           0.006669034273732137
          ],
          [
           20,
           0.006837637693896335
          ],
          [
           8.7,
           0.00861148709822557
          ],
          [
           20,
           0.008846618179006104
          ],
          [
           20,
           0.008846618179006104
          ],
          [
           20,
           0.009366441091775764
          ],
          [
           8.7,
           0.011403331022255206
          ],
          [
           8.7,
           0.01184378075460924
          ],
          [
           8.7,
           0.012338540171310893
          ],
          [
           139,
           0.014916935391411906
          ],
          [
           139,
           0.052792701228651505
          ],
          [
           9.1,
           0.013722397524723132
          ],
          [
           9.1,
           0.02119575490952069
          ],
          [
           9.1,
           0.02546415165724792
          ],
          [
           20,
           0.03417686903651205
          ],
          [
           9.1,
           0.043351015391471695
          ],
          [
           30,
           0.04948481350706619
          ],
          [
           20,
           0.050868558269744964
          ],
          [
           20,
           0.05147162453121019
          ],
          [
           75,
           0.05755035588530363
          ],
          [
           30,
           0.05811096495982805
          ],
          [
           30,
           0.08362660868974583
          ],
          [
           30,
           0.08362660868974583
          ],
          [
           75,
           0.083627280703775
          ],
          [
           30,
           0.08449925485479405
          ],
          [
           30,
           0.10079519645580921
          ],
          [
           30,
           0.7089752509880329
          ],
          [
           37.5,
           0.02637780150517758
          ],
          [
           37.5,
           0.02794860681784003
          ],
          [
           37.5,
           0.03625178042270336
          ],
          [
           37.5,
           0.03633325539980345
          ],
          [
           101.9,
           0.043437340634365544
          ],
          [
           37.5,
           0.04525107894818249
          ],
          [
           37.5,
           0.04936490959561134
          ],
          [
           37.5,
           0.050466932538423916
          ],
          [
           37.5,
           0.05074643713836948
          ],
          [
           7.5,
           0.0508385030515417
          ],
          [
           37.5,
           0.05129403546402146
          ],
          [
           37.5,
           0.051337807647366035
          ],
          [
           101.9,
           0.052248088130650336
          ],
          [
           37.5,
           0.052663313854363986
          ],
          [
           37.5,
           0.05515489781700796
          ],
          [
           101.9,
           0.055612847055865985
          ],
          [
           28,
           0.05899466206174384
          ],
          [
           37.5,
           0.06604484294859299
          ],
          [
           28,
           0.06903694589422771
          ],
          [
           28,
           0.0757450496161178
          ],
          [
           28,
           0.08392984932744589
          ],
          [
           37.5,
           0.0929171147153572
          ],
          [
           9.1,
           0.10209778591642991
          ]
         ],
         "hovertemplate": "<b>%{hovertext}</b><br><br>max_flow_mw=%{z}<br>lat=%{lat}<br>long=%{lon}<extra></extra>",
         "hovertext": [
          "DICKINSONS",
          "OTIS ELEVATOR",
          "ST IVEL FOODS",
          "SOUTHDENE",
          "NORTHWOOD",
          "PALCO",
          "KELCO",
          "KIRKBY CENTRAL",
          "SIMONSWOOD",
          "NEWS INTERNATIONAL",
          "ACORNFIELD ROAD",
          "HAMMOND ROAD",
          "KIRKBY",
          "KODAK",
          "TOWER HILL",
          "WEST VALE",
          "GILLMOSS",
          "GARSTON",
          "GARSTON",
          "ECP WEST-BANKS RD",
          "LEEWARD DRIVE",
          "ESTUARY COMMERCE PK",
          "SPEKE HALL ROAD",
          "WEAVER IND EST",
          "YEWTREE ROAD",
          "ALLERTON",
          "IVY AVENUE",
          "SPEKE SKY PARK",
          "MATHER AVENUE",
          "AIRPORT",
          "SPEKE",
          "MOSSLEY HILL",
          "HAREFIELD ROAD",
          "WAVERTREE",
          "AIGBURTH VALE",
          "ALDERWOOD AVE",
          "FAZAKERLEY HOSPITAL",
          "FAZAKERLEY",
          "LUCAS FAZAKERLEY",
          "SEEDS LANE",
          "BEMROSE",
          "WANGO LANE",
          "JACOBS",
          "STONEBRIDGE LANE",
          "NORRIS GREEN",
          "CARR LANE EAST",
          "AINTREE",
          "OLD ROAN",
          "GILLMOSS",
          "ORB CLOSE",
          "AINTREE",
          "WEST DERBY",
          "BEAUMONT STREET",
          "EDGE HILL",
          "LIVERPOOL UNIVERSITY",
          "GROVE PARK",
          "GRANBY",
          "BEECH STREET",
          "DINGLE",
          "WAVERTREE VALE",
          "LARK LANE",
          "DINGLE VALE",
          "PLESSEY EDGE LANE",
          "ST JAMES",
          "ST JAMES",
          "ROPEWALKS",
          "ARUNDEL",
          "BLUNDELL STREET",
          "MDHB BRUNSWICK DOCK",
          "LISTER DRIVE T3",
          "LISTER DRIVE 6kV T2",
          "SPARLING STREET",
          "LISTER DRIVE",
          "WAPPING",
          "EDGE LN TAPLEY",
          "KINGS DOCK",
          "WAVERTREE",
          "ALBERT DOCK",
          "MILL LN WAVERTREE",
          "STONEYCROFT",
          "BLUEBELL LANE",
          "HUYTON",
          "BEDBURN DRIVE",
          "HUYTON HEY ROAD",
          "EAST PRESCOT ROAD",
          "GATEACRE",
          "NAYLORS ROAD",
          "WILSON ROAD",
          "BICC HUYTON QUARRY",
          "LYNDENE ROAD",
          "MARLED HEY",
          "MIDDLEMASS HEY",
          "BROOK BRIDGE",
          "KNOWSLEY",
          "CROXTETH",
          "TARBOCK",
          "BROADGREEN",
          "KNOTTY ASH",
          "CHILDWALL",
          "LEYFIELD ROAD",
          "WHISTON",
          "PRESCOT",
          "CHILDWALL FIVEWAYS",
          "KIRKBY",
          "ECCLESTON",
          "ORRELL MOUNT",
          "SCARISBRICK AVENUE",
          "WASHINGTON STREET",
          "PACIFIC ROAD",
          "BOOTLE",
          "BOOTLE",
          "BOOTLE",
          "KELLOGGS",
          "LITHERLAND",
          "TATTON ROAD",
          "WATERLOO",
          "KIRKDALE",
          "BUCKINGHAM STREET",
          "DELAMORE STREET",
          "EVERTON ROAD",
          "EVERTON BROW",
          "ATHOL STREET",
          "GARDNERS ROW",
          "SANDHILLS LANE",
          "WALTON",
          "WALTON",
          "INLAND REVENUE",
          "SUBURBAN ROAD",
          "SUBURBAN ROAD",
          "BURLINGTON STREET",
          "CHISENHALE STREET",
          "REGENT ROAD",
          "NWWA SANDON DOCK",
          "SHEIL PARK",
          "DUNLOPS WALTON",
          "KINGSWAY TUNNEL",
          "BIBBYS",
          "BOOTLE",
          "BROOK STREET",
          "CLUBMOOR",
          "CLUBMOOR",
          "LISTER DRIVE 6kV T1",
          "LISTER DRIVE",
          "SPEKE",
          "CONIX",
          "MEDEVA",
          "WOODEND AVENUE",
          "HUNTS CROSS",
          "HALEWOOD",
          "KENTON ROAD",
          "WOOLTON",
          "OLD HAYMARKET",
          "LIME STREET",
          "LIME STREET",
          "CABLE STREET",
          "CABLE STREET",
          "HARRINGTON STREET A",
          "HARRINGTON STREET A",
          "HARRINGTON STREET A",
          "GRADWELL STREET",
          "GRADWELL STREET",
          "BOLTON STREET",
          "PARADISE STREET",
          "PARADISE STREET",
          "CROWN COURTS",
          "HIGHFIELD STREET A",
          "HIGHFIELD STREET A",
          "HPO COPPERAS HILL",
          "BIXTETH STREET",
          "OLDHAM PLACE",
          "OLDHAM PLACE",
          "GREEK STREET",
          "LITTLEWOODS",
          "ROYAL INSURANCE (NEW QUAY)",
          "DAILY POST AND ECHO",
          "BURLINGTON STREET",
          "LISTER DRIVE",
          "AINSDALE",
          "PINFOLD LANE",
          "DOVER ROAD",
          "YORK ROAD",
          "BANASTRE ROAD",
          "MARKET STREET",
          "NEVILL STREET",
          "OCEAN PLAZA",
          "FORMBY",
          "LORD STREET",
          "SOUTHPORT",
          "SOUTHPORT",
          "SOUTHPORT",
          "MARSHSIDE",
          "MULLARDS BALMORAL DR",
          "IVY STREET",
          "CROSBY",
          "ALMONDS TURN",
          "KERSHAW AVENUE",
          "NETHERTON",
          "LITHERLAND",
          "ATLANTIC COMPLEX",
          "BLUNDELLSANDS SOUTH",
          "WATERLOO",
          "BLUNDELLSANDS NORTH",
          "HASKAYNE",
          "GIRO BOOTLE",
          "MAGHULL",
          "AINTREE",
          "MIDLAND BANK",
          "DODDS LANE",
          "FORMBY",
          "BURLINGTON AVENUE",
          "ROBBINS BRIDGE",
          "SOUTHPORT RD",
          "MARSH BROWS",
          "FRESHFIELD",
          "HOLBORN HILL",
          "GRANTHAM CLOSE"
         ],
         "lat": [
          53.47946706893251,
          53.46993736072292,
          53.46902005176156,
          53.47326053773067,
          53.48590156841973,
          53.46417701634223,
          53.46629136477233,
          53.48413518651102,
          53.492392402601936,
          53.46670786233184,
          53.48158101021283,
          53.490083096821465,
          53.47089207107864,
          53.485769697686905,
          53.493371561294275,
          53.48128065331388,
          53.464575886061766,
          53.356249314775425,
          53.35615190812053,
          53.34772455441743,
          53.351461079192795,
          53.34787253331973,
          53.35829442449201,
          53.34896282813954,
          53.379055234022005,
          53.37450038817994,
          53.363920138751375,
          53.343552373357596,
          53.383301031977716,
          53.341757563158765,
          53.35520255955055,
          53.37759236897662,
          53.34441230265524,
          53.392115438280506,
          53.37729821176274,
          53.34532401045283,
          53.46980972092478,
          53.463075583116904,
          53.45648791762959,
          53.47067774400123,
          53.45874548028062,
          53.47903913146635,
          53.461543973888496,
          53.461320238266524,
          53.44535196883245,
          53.449152540322544,
          53.479927044410346,
          53.487669334564586,
          53.464575886061766,
          53.45494263590758,
          53.493005136660415,
          53.431167710138794,
          53.40003927613069,
          53.407106712281816,
          53.408106270770084,
          53.39266939433678,
          53.397808538033125,
          53.41290926610343,
          53.38714712592654,
          53.401313405426556,
          53.38439809548913,
          53.38055758427388,
          53.41243812101662,
          53.39653155512801,
          53.39653155512801,
          53.403721472863175,
          53.39133347026686,
          53.400430996228586,
          53.393273849667196,
          53.42194946927243,
          53.42194946927243,
          53.40159900721322,
          53.42129638818907,
          53.39824204177805,
          53.41208912459497,
          53.399231788464476,
          53.39205435444187,
          53.40244736275407,
          53.401843481914526,
          53.42464609757835,
          53.42225664562258,
          53.42516014937205,
          53.41639231657325,
          53.411929787686816,
          53.42258817290765,
          53.3943911744227,
          53.39252435936215,
          53.40749152098489,
          53.410037768348694,
          53.39627808403586,
          53.43845909063401,
          53.38962480224871,
          53.42910378392303,
          53.45360503098669,
          53.43711661328251,
          53.406580695506705,
          53.407304149566485,
          53.42076653332622,
          53.389883977487685,
          53.42950941779824,
          53.41285302799098,
          53.423880928628485,
          53.39994630528609,
          53.47089207107864,
          53.435290408038696,
          53.468532612784536,
          53.469869413578714,
          53.455423498396534,
          53.454308160443745,
          53.45923139893787,
          53.45891837489128,
          53.45891837489128,
          53.4634694202197,
          53.478069728382124,
          53.46686519312143,
          53.47848933468698,
          53.43211795320757,
          53.42600502074771,
          53.44452729749744,
          53.42008241690232,
          53.418416822139754,
          53.427187499034396,
          53.41799116200887,
          53.43340927784029,
          53.44966887520245,
          53.44966887520245,
          53.44962196167789,
          53.429881868586556,
          53.429881868586556,
          53.42133243462447,
          53.41913226281736,
          53.43840931629037,
          53.43102171119756,
          53.423329071767064,
          53.45501415026376,
          53.418409840441754,
          53.44503244135316,
          53.45923139893787,
          53.41301897109336,
          53.43650673412069,
          53.43650673412069,
          53.42194946927243,
          53.42129638818907,
          53.35520255955055,
          53.35236734892916,
          53.351617657840244,
          53.356183518797515,
          53.369333604011544,
          53.35574382997622,
          53.36312412610851,
          53.37637029994296,
          53.41240553669614,
          53.41001202268644,
          53.41001202268644,
          53.4077651761994,
          53.4077651761994,
          53.40892814792865,
          53.40892814792865,
          53.40892814792865,
          53.40588051069518,
          53.40588051069518,
          53.40902024234922,
          53.40488998013892,
          53.40490350558064,
          53.4074408877939,
          53.41312667364045,
          53.41312667364045,
          53.409030826681516,
          53.41246815759146,
          53.40607239666528,
          53.40607239666528,
          53.4109200577197,
          53.4139774234664,
          53.41090625518935,
          53.41195410301462,
          53.42133243462447,
          53.42129638818907,
          53.60523474087081,
          53.59453087781793,
          53.62640831447822,
          53.63645932533046,
          53.63844784083177,
          53.64748767031024,
          53.65177760110811,
          53.65540627877177,
          53.5575541170844,
          53.652482985835015,
          53.644891858592224,
          53.644891858592224,
          53.64484014004931,
          53.666338364502245,
          53.6678314482582,
          53.306907822136615,
          53.49791135669885,
          53.49383637905234,
          53.48791652940732,
          53.49466251689798,
          53.478069728382124,
          53.47910749848658,
          53.49171260684971,
          53.47848933468698,
          53.49631933279402,
          53.56223678289227,
          53.47437929930791,
          53.50911327590569,
          53.493005136660415,
          53.474379442335426,
          53.520865929464655,
          53.5575541170844,
          53.558837814537824,
          53.53318632886943,
          53.57057285993626,
          53.55747166465291,
          53.56986881619634,
          53.5576684635132,
          53.621474422898245
         ],
         "lon": [
          -2.868960247870969,
          -2.8760457604682177,
          -2.8773014432124793,
          -2.882106205341939,
          -2.8784187683967017,
          -2.8751328235683453,
          -2.8640476485669484,
          -2.889301080209952,
          -2.8651654249932705,
          -2.860320981173698,
          -2.856488723050569,
          -2.858714926224543,
          -2.855142299687652,
          -2.8543921609641663,
          -2.8925318619436884,
          -2.9000278654364697,
          -2.8999356468209103,
          -2.8994580701678823,
          -2.8994283329991966,
          -2.888545159884441,
          -2.8760998057656315,
          -2.8777257445014435,
          -2.871800347056549,
          -2.904149187611657,
          -2.898191511493313,
          -2.905436851579359,
          -2.9137600338057656,
          -2.866977299909799,
          -2.909668478621902,
          -2.8628029021536117,
          -2.8564907556814036,
          -2.9232148629237744,
          -2.8527313048173912,
          -2.9204016465259253,
          -2.935700172044926,
          -2.83344204208912,
          -2.9313578180015285,
          -2.941199316253274,
          -2.940341324407141,
          -2.9426641246567136,
          -2.944407337081691,
          -2.922591919732099,
          -2.9480639359174785,
          -2.912378073327927,
          -2.930792159209246,
          -2.9100293326371127,
          -2.952120579982764,
          -2.947439064095321,
          -2.8999356468209103,
          -2.900712599687762,
          -2.9465805315672626,
          -2.9135425332827087,
          -2.9499127258116697,
          -2.9555171397149618,
          -2.960789372244374,
          -2.9451651195422706,
          -2.9663836947291573,
          -2.942257389756113,
          -2.956950281571702,
          -2.9348368044453848,
          -2.944624291873282,
          -2.961435944175713,
          -2.9311405362343588,
          -2.976992206425268,
          -2.976992206425268,
          -2.97812117943629,
          -2.9295519009504836,
          -2.9791900391584565,
          -2.9792414649163828,
          -2.932413760277352,
          -2.932413760277352,
          -2.981651056897432,
          -2.928357791199963,
          -2.983880135883945,
          -2.9217472582929975,
          -2.9854243249069237,
          -2.919678816619778,
          -2.987294050428071,
          -2.917149728861142,
          -2.9151775108184386,
          -2.8501678183081656,
          -2.8660996522717457,
          -2.8706839239298754,
          -2.8424525067342894,
          -2.8769120722004455,
          -2.848298920501172,
          -2.8561470182939996,
          -2.832766645851588,
          -2.830964548867422,
          -2.8765731545351403,
          -2.8775709734550396,
          -2.846754798019866,
          -2.826966517823932,
          -2.8544126543542996,
          -2.8892155437371505,
          -2.82004323652281,
          -2.8950654298795726,
          -2.897692550460257,
          -2.8878759174545987,
          -2.898653495860952,
          -2.812489756420958,
          -2.8121323138460963,
          -2.9016592879163565,
          -2.855142299687652,
          -2.8043784690358375,
          -2.987866497465608,
          -2.9944350105232207,
          -2.9891846842932064,
          -2.9954147660155357,
          -2.9813946675959606,
          -2.981300471120738,
          -2.981300471120738,
          -3.0063883099246227,
          -3.0029093146955272,
          -2.9632337707027347,
          -3.020137126104079,
          -2.969482560184116,
          -2.9743200215863066,
          -2.9729233549969334,
          -2.9646244750169597,
          -2.9716913605090567,
          -2.984177218544132,
          -2.980100806700297,
          -2.987838877456239,
          -2.9653694431328677,
          -2.9653694431328677,
          -2.9822404727781686,
          -2.947351594556459,
          -2.947351594556459,
          -2.98978842607609,
          -2.98935797746864,
          -2.992950800833406,
          -2.9938032171006355,
          -2.947050887538326,
          -2.9600903994398693,
          -2.994321468112982,
          -2.996177877444298,
          -2.9813946675959606,
          -2.9924573169729123,
          -2.937260737146558,
          -2.937260737146558,
          -2.932413760277352,
          -2.928357791199963,
          -2.8564907556814036,
          -2.8501776473547515,
          -2.854156556576897,
          -2.86061189754041,
          -2.856473366942228,
          -2.838922279332908,
          -2.837381256099737,
          -2.8703853515597455,
          -2.9800719754323235,
          -2.977517880028617,
          -2.977517880028617,
          -2.9829685624171707,
          -2.9829685624171707,
          -2.9837257753935686,
          -2.9837257753935686,
          -2.9837257753935686,
          -2.980330913895465,
          -2.980330913895465,
          -2.9750316210112593,
          -2.982077439136908,
          -2.982295267448238,
          -2.9857005531236824,
          -2.9859045849911636,
          -2.9859045849911636,
          -2.9732024525533336,
          -2.9882375856231698,
          -2.9720853938931233,
          -2.9720853938931233,
          -2.9706213000337187,
          -2.990683291158036,
          -2.9917707160249805,
          -2.992154277067054,
          -2.98978842607609,
          -2.928357791199963,
          -3.0239075332726038,
          -3.028309911077536,
          -3.010640860976548,
          -3.0067781051716986,
          -2.9969307425213443,
          -2.99604512369433,
          -2.9982128399792027,
          -3.0014500715221915,
          -3.0323140531145283,
          -2.988968248782947,
          -2.9553155692668853,
          -2.9553155692668853,
          -2.9552951463190724,
          -2.9662662111307925,
          -2.9475556298150716,
          -3.671941535480043,
          -3.005858536309826,
          -2.9813662358890363,
          -3.0083395128713684,
          -2.96525216830561,
          -3.0029093146955272,
          -2.971849062968237,
          -3.0318479330590553,
          -3.020137126104079,
          -3.0362637980786467,
          -2.9631437541157677,
          -2.9677871074751576,
          -2.941167268599754,
          -2.9465805315672626,
          -2.9649384887407746,
          -2.936203134759719,
          -3.0323140531145283,
          -3.0357056188310514,
          -2.9266472706323716,
          -3.038281072758332,
          -3.0571435168482646,
          -3.058814473441467,
          -2.9064372735872914,
          -3.0020690538014865
         ],
         "name": "",
         "radius": 10,
         "subplot": "mapbox",
         "type": "densitymapbox",
         "z": [
          30,
          10,
          2.5790000000000006,
          0,
          0,
          0,
          0,
          0,
          0,
          0,
          0,
          0,
          0,
          0,
          0,
          0,
          0,
          65.087,
          0,
          0,
          0,
          0,
          0,
          0,
          0,
          0,
          0,
          0,
          0,
          0,
          0,
          0,
          0,
          0,
          0,
          0,
          30,
          35.355999999999995,
          0,
          0,
          0,
          0,
          0,
          0,
          0,
          0,
          0,
          0,
          0,
          0,
          0,
          0,
          30,
          30,
          30,
          6.573999999999998,
          0,
          0,
          0,
          0,
          0,
          0,
          0,
          0,
          0,
          0,
          0,
          0,
          0,
          0,
          0,
          0,
          0,
          0,
          0,
          0,
          0,
          0,
          0,
          0,
          30,
          70.112,
          0,
          0,
          0,
          0,
          0,
          0,
          0,
          0,
          0,
          0,
          0,
          0,
          0,
          0,
          0,
          0,
          0,
          0,
          0,
          0,
          0,
          0,
          0,
          30,
          20.851999999999997,
          0,
          0,
          0,
          0,
          0,
          0,
          0,
          0,
          0,
          17.4,
          17.5,
          17.4,
          17.5,
          17.5,
          0.22999999999999687,
          0,
          0,
          0,
          0,
          0,
          0,
          0,
          0,
          0,
          0,
          0,
          0,
          0,
          0,
          0,
          0,
          0,
          0,
          0,
          0,
          0,
          32.07,
          0,
          0,
          0,
          0,
          0,
          0,
          0,
          20,
          20,
          8.7,
          20,
          20,
          8.7,
          5.330000000000002,
          0,
          0,
          0,
          0,
          0,
          0,
          0,
          0,
          0,
          0,
          0,
          0,
          0,
          0,
          0,
          0,
          0,
          0,
          0,
          9.1,
          9.1,
          9.1,
          20,
          9.1,
          8.048999999999994,
          0,
          0,
          0,
          0,
          0,
          0,
          0,
          0,
          0,
          0,
          37.5,
          11.084000000000003,
          0,
          0,
          0,
          0,
          0,
          0,
          0,
          0,
          0,
          0,
          0,
          0,
          0,
          0,
          0,
          0,
          0,
          0,
          0,
          0,
          0
         ]
        }
       ],
       "layout": {
        "coloraxis": {
         "colorbar": {
          "title": {
           "text": "max_flow_mw"
          }
         },
         "colorscale": [
          [
           0,
           "#0d0887"
          ],
          [
           0.1111111111111111,
           "#46039f"
          ],
          [
           0.2222222222222222,
           "#7201a8"
          ],
          [
           0.3333333333333333,
           "#9c179e"
          ],
          [
           0.4444444444444444,
           "#bd3786"
          ],
          [
           0.5555555555555556,
           "#d8576b"
          ],
          [
           0.6666666666666666,
           "#ed7953"
          ],
          [
           0.7777777777777778,
           "#fb9f3a"
          ],
          [
           0.8888888888888888,
           "#fdca26"
          ],
          [
           1,
           "#f0f921"
          ]
         ]
        },
        "legend": {
         "tracegroupgap": 0
        },
        "mapbox": {
         "center": {
          "lat": 53.5,
          "lon": -2.9
         },
         "domain": {
          "x": [
           0,
           1
          ],
          "y": [
           0,
           1
          ]
         },
         "style": "open-street-map",
         "zoom": 8
        },
        "margin": {
         "t": 60
        },
        "template": {
         "data": {
          "bar": [
           {
            "error_x": {
             "color": "#2a3f5f"
            },
            "error_y": {
             "color": "#2a3f5f"
            },
            "marker": {
             "line": {
              "color": "#E5ECF6",
              "width": 0.5
             },
             "pattern": {
              "fillmode": "overlay",
              "size": 10,
              "solidity": 0.2
             }
            },
            "type": "bar"
           }
          ],
          "barpolar": [
           {
            "marker": {
             "line": {
              "color": "#E5ECF6",
              "width": 0.5
             },
             "pattern": {
              "fillmode": "overlay",
              "size": 10,
              "solidity": 0.2
             }
            },
            "type": "barpolar"
           }
          ],
          "carpet": [
           {
            "aaxis": {
             "endlinecolor": "#2a3f5f",
             "gridcolor": "white",
             "linecolor": "white",
             "minorgridcolor": "white",
             "startlinecolor": "#2a3f5f"
            },
            "baxis": {
             "endlinecolor": "#2a3f5f",
             "gridcolor": "white",
             "linecolor": "white",
             "minorgridcolor": "white",
             "startlinecolor": "#2a3f5f"
            },
            "type": "carpet"
           }
          ],
          "choropleth": [
           {
            "colorbar": {
             "outlinewidth": 0,
             "ticks": ""
            },
            "type": "choropleth"
           }
          ],
          "contour": [
           {
            "colorbar": {
             "outlinewidth": 0,
             "ticks": ""
            },
            "colorscale": [
             [
              0,
              "#0d0887"
             ],
             [
              0.1111111111111111,
              "#46039f"
             ],
             [
              0.2222222222222222,
              "#7201a8"
             ],
             [
              0.3333333333333333,
              "#9c179e"
             ],
             [
              0.4444444444444444,
              "#bd3786"
             ],
             [
              0.5555555555555556,
              "#d8576b"
             ],
             [
              0.6666666666666666,
              "#ed7953"
             ],
             [
              0.7777777777777778,
              "#fb9f3a"
             ],
             [
              0.8888888888888888,
              "#fdca26"
             ],
             [
              1,
              "#f0f921"
             ]
            ],
            "type": "contour"
           }
          ],
          "contourcarpet": [
           {
            "colorbar": {
             "outlinewidth": 0,
             "ticks": ""
            },
            "type": "contourcarpet"
           }
          ],
          "heatmap": [
           {
            "colorbar": {
             "outlinewidth": 0,
             "ticks": ""
            },
            "colorscale": [
             [
              0,
              "#0d0887"
             ],
             [
              0.1111111111111111,
              "#46039f"
             ],
             [
              0.2222222222222222,
              "#7201a8"
             ],
             [
              0.3333333333333333,
              "#9c179e"
             ],
             [
              0.4444444444444444,
              "#bd3786"
             ],
             [
              0.5555555555555556,
              "#d8576b"
             ],
             [
              0.6666666666666666,
              "#ed7953"
             ],
             [
              0.7777777777777778,
              "#fb9f3a"
             ],
             [
              0.8888888888888888,
              "#fdca26"
             ],
             [
              1,
              "#f0f921"
             ]
            ],
            "type": "heatmap"
           }
          ],
          "heatmapgl": [
           {
            "colorbar": {
             "outlinewidth": 0,
             "ticks": ""
            },
            "colorscale": [
             [
              0,
              "#0d0887"
             ],
             [
              0.1111111111111111,
              "#46039f"
             ],
             [
              0.2222222222222222,
              "#7201a8"
             ],
             [
              0.3333333333333333,
              "#9c179e"
             ],
             [
              0.4444444444444444,
              "#bd3786"
             ],
             [
              0.5555555555555556,
              "#d8576b"
             ],
             [
              0.6666666666666666,
              "#ed7953"
             ],
             [
              0.7777777777777778,
              "#fb9f3a"
             ],
             [
              0.8888888888888888,
              "#fdca26"
             ],
             [
              1,
              "#f0f921"
             ]
            ],
            "type": "heatmapgl"
           }
          ],
          "histogram": [
           {
            "marker": {
             "pattern": {
              "fillmode": "overlay",
              "size": 10,
              "solidity": 0.2
             }
            },
            "type": "histogram"
           }
          ],
          "histogram2d": [
           {
            "colorbar": {
             "outlinewidth": 0,
             "ticks": ""
            },
            "colorscale": [
             [
              0,
              "#0d0887"
             ],
             [
              0.1111111111111111,
              "#46039f"
             ],
             [
              0.2222222222222222,
              "#7201a8"
             ],
             [
              0.3333333333333333,
              "#9c179e"
             ],
             [
              0.4444444444444444,
              "#bd3786"
             ],
             [
              0.5555555555555556,
              "#d8576b"
             ],
             [
              0.6666666666666666,
              "#ed7953"
             ],
             [
              0.7777777777777778,
              "#fb9f3a"
             ],
             [
              0.8888888888888888,
              "#fdca26"
             ],
             [
              1,
              "#f0f921"
             ]
            ],
            "type": "histogram2d"
           }
          ],
          "histogram2dcontour": [
           {
            "colorbar": {
             "outlinewidth": 0,
             "ticks": ""
            },
            "colorscale": [
             [
              0,
              "#0d0887"
             ],
             [
              0.1111111111111111,
              "#46039f"
             ],
             [
              0.2222222222222222,
              "#7201a8"
             ],
             [
              0.3333333333333333,
              "#9c179e"
             ],
             [
              0.4444444444444444,
              "#bd3786"
             ],
             [
              0.5555555555555556,
              "#d8576b"
             ],
             [
              0.6666666666666666,
              "#ed7953"
             ],
             [
              0.7777777777777778,
              "#fb9f3a"
             ],
             [
              0.8888888888888888,
              "#fdca26"
             ],
             [
              1,
              "#f0f921"
             ]
            ],
            "type": "histogram2dcontour"
           }
          ],
          "mesh3d": [
           {
            "colorbar": {
             "outlinewidth": 0,
             "ticks": ""
            },
            "type": "mesh3d"
           }
          ],
          "parcoords": [
           {
            "line": {
             "colorbar": {
              "outlinewidth": 0,
              "ticks": ""
             }
            },
            "type": "parcoords"
           }
          ],
          "pie": [
           {
            "automargin": true,
            "type": "pie"
           }
          ],
          "scatter": [
           {
            "fillpattern": {
             "fillmode": "overlay",
             "size": 10,
             "solidity": 0.2
            },
            "type": "scatter"
           }
          ],
          "scatter3d": [
           {
            "line": {
             "colorbar": {
              "outlinewidth": 0,
              "ticks": ""
             }
            },
            "marker": {
             "colorbar": {
              "outlinewidth": 0,
              "ticks": ""
             }
            },
            "type": "scatter3d"
           }
          ],
          "scattercarpet": [
           {
            "marker": {
             "colorbar": {
              "outlinewidth": 0,
              "ticks": ""
             }
            },
            "type": "scattercarpet"
           }
          ],
          "scattergeo": [
           {
            "marker": {
             "colorbar": {
              "outlinewidth": 0,
              "ticks": ""
             }
            },
            "type": "scattergeo"
           }
          ],
          "scattergl": [
           {
            "marker": {
             "colorbar": {
              "outlinewidth": 0,
              "ticks": ""
             }
            },
            "type": "scattergl"
           }
          ],
          "scattermapbox": [
           {
            "marker": {
             "colorbar": {
              "outlinewidth": 0,
              "ticks": ""
             }
            },
            "type": "scattermapbox"
           }
          ],
          "scatterpolar": [
           {
            "marker": {
             "colorbar": {
              "outlinewidth": 0,
              "ticks": ""
             }
            },
            "type": "scatterpolar"
           }
          ],
          "scatterpolargl": [
           {
            "marker": {
             "colorbar": {
              "outlinewidth": 0,
              "ticks": ""
             }
            },
            "type": "scatterpolargl"
           }
          ],
          "scatterternary": [
           {
            "marker": {
             "colorbar": {
              "outlinewidth": 0,
              "ticks": ""
             }
            },
            "type": "scatterternary"
           }
          ],
          "surface": [
           {
            "colorbar": {
             "outlinewidth": 0,
             "ticks": ""
            },
            "colorscale": [
             [
              0,
              "#0d0887"
             ],
             [
              0.1111111111111111,
              "#46039f"
             ],
             [
              0.2222222222222222,
              "#7201a8"
             ],
             [
              0.3333333333333333,
              "#9c179e"
             ],
             [
              0.4444444444444444,
              "#bd3786"
             ],
             [
              0.5555555555555556,
              "#d8576b"
             ],
             [
              0.6666666666666666,
              "#ed7953"
             ],
             [
              0.7777777777777778,
              "#fb9f3a"
             ],
             [
              0.8888888888888888,
              "#fdca26"
             ],
             [
              1,
              "#f0f921"
             ]
            ],
            "type": "surface"
           }
          ],
          "table": [
           {
            "cells": {
             "fill": {
              "color": "#EBF0F8"
             },
             "line": {
              "color": "white"
             }
            },
            "header": {
             "fill": {
              "color": "#C8D4E3"
             },
             "line": {
              "color": "white"
             }
            },
            "type": "table"
           }
          ]
         },
         "layout": {
          "annotationdefaults": {
           "arrowcolor": "#2a3f5f",
           "arrowhead": 0,
           "arrowwidth": 1
          },
          "autotypenumbers": "strict",
          "coloraxis": {
           "colorbar": {
            "outlinewidth": 0,
            "ticks": ""
           }
          },
          "colorscale": {
           "diverging": [
            [
             0,
             "#8e0152"
            ],
            [
             0.1,
             "#c51b7d"
            ],
            [
             0.2,
             "#de77ae"
            ],
            [
             0.3,
             "#f1b6da"
            ],
            [
             0.4,
             "#fde0ef"
            ],
            [
             0.5,
             "#f7f7f7"
            ],
            [
             0.6,
             "#e6f5d0"
            ],
            [
             0.7,
             "#b8e186"
            ],
            [
             0.8,
             "#7fbc41"
            ],
            [
             0.9,
             "#4d9221"
            ],
            [
             1,
             "#276419"
            ]
           ],
           "sequential": [
            [
             0,
             "#0d0887"
            ],
            [
             0.1111111111111111,
             "#46039f"
            ],
            [
             0.2222222222222222,
             "#7201a8"
            ],
            [
             0.3333333333333333,
             "#9c179e"
            ],
            [
             0.4444444444444444,
             "#bd3786"
            ],
            [
             0.5555555555555556,
             "#d8576b"
            ],
            [
             0.6666666666666666,
             "#ed7953"
            ],
            [
             0.7777777777777778,
             "#fb9f3a"
            ],
            [
             0.8888888888888888,
             "#fdca26"
            ],
            [
             1,
             "#f0f921"
            ]
           ],
           "sequentialminus": [
            [
             0,
             "#0d0887"
            ],
            [
             0.1111111111111111,
             "#46039f"
            ],
            [
             0.2222222222222222,
             "#7201a8"
            ],
            [
             0.3333333333333333,
             "#9c179e"
            ],
            [
             0.4444444444444444,
             "#bd3786"
            ],
            [
             0.5555555555555556,
             "#d8576b"
            ],
            [
             0.6666666666666666,
             "#ed7953"
            ],
            [
             0.7777777777777778,
             "#fb9f3a"
            ],
            [
             0.8888888888888888,
             "#fdca26"
            ],
            [
             1,
             "#f0f921"
            ]
           ]
          },
          "colorway": [
           "#636efa",
           "#EF553B",
           "#00cc96",
           "#ab63fa",
           "#FFA15A",
           "#19d3f3",
           "#FF6692",
           "#B6E880",
           "#FF97FF",
           "#FECB52"
          ],
          "font": {
           "color": "#2a3f5f"
          },
          "geo": {
           "bgcolor": "white",
           "lakecolor": "white",
           "landcolor": "#E5ECF6",
           "showlakes": true,
           "showland": true,
           "subunitcolor": "white"
          },
          "hoverlabel": {
           "align": "left"
          },
          "hovermode": "closest",
          "mapbox": {
           "style": "light"
          },
          "paper_bgcolor": "white",
          "plot_bgcolor": "#E5ECF6",
          "polar": {
           "angularaxis": {
            "gridcolor": "white",
            "linecolor": "white",
            "ticks": ""
           },
           "bgcolor": "#E5ECF6",
           "radialaxis": {
            "gridcolor": "white",
            "linecolor": "white",
            "ticks": ""
           }
          },
          "scene": {
           "xaxis": {
            "backgroundcolor": "#E5ECF6",
            "gridcolor": "white",
            "gridwidth": 2,
            "linecolor": "white",
            "showbackground": true,
            "ticks": "",
            "zerolinecolor": "white"
           },
           "yaxis": {
            "backgroundcolor": "#E5ECF6",
            "gridcolor": "white",
            "gridwidth": 2,
            "linecolor": "white",
            "showbackground": true,
            "ticks": "",
            "zerolinecolor": "white"
           },
           "zaxis": {
            "backgroundcolor": "#E5ECF6",
            "gridcolor": "white",
            "gridwidth": 2,
            "linecolor": "white",
            "showbackground": true,
            "ticks": "",
            "zerolinecolor": "white"
           }
          },
          "shapedefaults": {
           "line": {
            "color": "#2a3f5f"
           }
          },
          "ternary": {
           "aaxis": {
            "gridcolor": "white",
            "linecolor": "white",
            "ticks": ""
           },
           "baxis": {
            "gridcolor": "white",
            "linecolor": "white",
            "ticks": ""
           },
           "bgcolor": "#E5ECF6",
           "caxis": {
            "gridcolor": "white",
            "linecolor": "white",
            "ticks": ""
           }
          },
          "title": {
           "x": 0.05
          },
          "xaxis": {
           "automargin": true,
           "gridcolor": "white",
           "linecolor": "white",
           "ticks": "",
           "title": {
            "standoff": 15
           },
           "zerolinecolor": "white",
           "zerolinewidth": 2
          },
          "yaxis": {
           "automargin": true,
           "gridcolor": "white",
           "linecolor": "white",
           "ticks": "",
           "title": {
            "standoff": 15
           },
           "zerolinecolor": "white",
           "zerolinewidth": 2
          }
         }
        }
       }
      }
     },
     "metadata": {},
     "output_type": "display_data"
    }
   ],
   "source": [
    "import plotly.express as px\n",
    "\n",
    "fig = px.density_mapbox(df_greed, lat='lat', lon='long', z='max_flow_mw', radius=10,\n",
    "                        center=dict(lat=53.5, lon=-2.9), zoom=8, hover_name='sub_name', custom_data=['cap_mva', 'distance'],\n",
    "                        mapbox_style=\"open-street-map\")\n",
    "fig.show()"
   ]
  }
 ],
 "metadata": {
  "kernelspec": {
   "display_name": "Python 3",
   "language": "python",
   "name": "python3"
  },
  "language_info": {
   "codemirror_mode": {
    "name": "ipython",
    "version": 3
   },
   "file_extension": ".py",
   "mimetype": "text/x-python",
   "name": "python",
   "nbconvert_exporter": "python",
   "pygments_lexer": "ipython3",
   "version": "3.10.4"
  }
 },
 "nbformat": 4,
 "nbformat_minor": 2
}
